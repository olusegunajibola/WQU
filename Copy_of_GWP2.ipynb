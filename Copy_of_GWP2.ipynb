{
  "cells": [
    {
      "cell_type": "markdown",
      "metadata": {
        "id": "view-in-github",
        "colab_type": "text"
      },
      "source": [
        "<a href=\"https://colab.research.google.com/github/olusegunajibola/WQU/blob/main/Copy_of_GWP2.ipynb\" target=\"_parent\"><img src=\"https://colab.research.google.com/assets/colab-badge.svg\" alt=\"Open In Colab\"/></a>"
      ]
    },
    {
      "cell_type": "markdown",
      "id": "66e3cec3-f5b6-4bdf-8d09-33c50c2e327e",
      "metadata": {
        "id": "66e3cec3-f5b6-4bdf-8d09-33c50c2e327e"
      },
      "source": [
        "### From the previous assignment, re-import the data from the csv file"
      ]
    },
    {
      "cell_type": "code",
      "source": [
        "pip install arch"
      ],
      "metadata": {
        "colab": {
          "base_uri": "https://localhost:8080/"
        },
        "id": "JVYnkuuH4gYa",
        "outputId": "51687c2f-e30c-41d6-a898-abbe97d1fa3f"
      },
      "id": "JVYnkuuH4gYa",
      "execution_count": null,
      "outputs": [
        {
          "output_type": "stream",
          "name": "stdout",
          "text": [
            "Collecting arch\n",
            "  Downloading arch-5.2.0-cp37-cp37m-manylinux_2_17_x86_64.manylinux2014_x86_64.whl (902 kB)\n",
            "\u001b[?25l\r\u001b[K     |▍                               | 10 kB 18.4 MB/s eta 0:00:01\r\u001b[K     |▊                               | 20 kB 23.5 MB/s eta 0:00:01\r\u001b[K     |█                               | 30 kB 20.1 MB/s eta 0:00:01\r\u001b[K     |█▌                              | 40 kB 16.2 MB/s eta 0:00:01\r\u001b[K     |█▉                              | 51 kB 7.9 MB/s eta 0:00:01\r\u001b[K     |██▏                             | 61 kB 9.2 MB/s eta 0:00:01\r\u001b[K     |██▌                             | 71 kB 8.9 MB/s eta 0:00:01\r\u001b[K     |███                             | 81 kB 9.0 MB/s eta 0:00:01\r\u001b[K     |███▎                            | 92 kB 10.0 MB/s eta 0:00:01\r\u001b[K     |███▋                            | 102 kB 8.4 MB/s eta 0:00:01\r\u001b[K     |████                            | 112 kB 8.4 MB/s eta 0:00:01\r\u001b[K     |████▍                           | 122 kB 8.4 MB/s eta 0:00:01\r\u001b[K     |████▊                           | 133 kB 8.4 MB/s eta 0:00:01\r\u001b[K     |█████                           | 143 kB 8.4 MB/s eta 0:00:01\r\u001b[K     |█████▍                          | 153 kB 8.4 MB/s eta 0:00:01\r\u001b[K     |█████▉                          | 163 kB 8.4 MB/s eta 0:00:01\r\u001b[K     |██████▏                         | 174 kB 8.4 MB/s eta 0:00:01\r\u001b[K     |██████▌                         | 184 kB 8.4 MB/s eta 0:00:01\r\u001b[K     |███████                         | 194 kB 8.4 MB/s eta 0:00:01\r\u001b[K     |███████▎                        | 204 kB 8.4 MB/s eta 0:00:01\r\u001b[K     |███████▋                        | 215 kB 8.4 MB/s eta 0:00:01\r\u001b[K     |████████                        | 225 kB 8.4 MB/s eta 0:00:01\r\u001b[K     |████████▍                       | 235 kB 8.4 MB/s eta 0:00:01\r\u001b[K     |████████▊                       | 245 kB 8.4 MB/s eta 0:00:01\r\u001b[K     |█████████                       | 256 kB 8.4 MB/s eta 0:00:01\r\u001b[K     |█████████▍                      | 266 kB 8.4 MB/s eta 0:00:01\r\u001b[K     |█████████▉                      | 276 kB 8.4 MB/s eta 0:00:01\r\u001b[K     |██████████▏                     | 286 kB 8.4 MB/s eta 0:00:01\r\u001b[K     |██████████▌                     | 296 kB 8.4 MB/s eta 0:00:01\r\u001b[K     |██████████▉                     | 307 kB 8.4 MB/s eta 0:00:01\r\u001b[K     |███████████▎                    | 317 kB 8.4 MB/s eta 0:00:01\r\u001b[K     |███████████▋                    | 327 kB 8.4 MB/s eta 0:00:01\r\u001b[K     |████████████                    | 337 kB 8.4 MB/s eta 0:00:01\r\u001b[K     |████████████▍                   | 348 kB 8.4 MB/s eta 0:00:01\r\u001b[K     |████████████▊                   | 358 kB 8.4 MB/s eta 0:00:01\r\u001b[K     |█████████████                   | 368 kB 8.4 MB/s eta 0:00:01\r\u001b[K     |█████████████▍                  | 378 kB 8.4 MB/s eta 0:00:01\r\u001b[K     |█████████████▉                  | 389 kB 8.4 MB/s eta 0:00:01\r\u001b[K     |██████████████▏                 | 399 kB 8.4 MB/s eta 0:00:01\r\u001b[K     |██████████████▌                 | 409 kB 8.4 MB/s eta 0:00:01\r\u001b[K     |██████████████▉                 | 419 kB 8.4 MB/s eta 0:00:01\r\u001b[K     |███████████████▎                | 430 kB 8.4 MB/s eta 0:00:01\r\u001b[K     |███████████████▋                | 440 kB 8.4 MB/s eta 0:00:01\r\u001b[K     |████████████████                | 450 kB 8.4 MB/s eta 0:00:01\r\u001b[K     |████████████████▎               | 460 kB 8.4 MB/s eta 0:00:01\r\u001b[K     |████████████████▊               | 471 kB 8.4 MB/s eta 0:00:01\r\u001b[K     |█████████████████               | 481 kB 8.4 MB/s eta 0:00:01\r\u001b[K     |█████████████████▍              | 491 kB 8.4 MB/s eta 0:00:01\r\u001b[K     |█████████████████▉              | 501 kB 8.4 MB/s eta 0:00:01\r\u001b[K     |██████████████████▏             | 512 kB 8.4 MB/s eta 0:00:01\r\u001b[K     |██████████████████▌             | 522 kB 8.4 MB/s eta 0:00:01\r\u001b[K     |██████████████████▉             | 532 kB 8.4 MB/s eta 0:00:01\r\u001b[K     |███████████████████▎            | 542 kB 8.4 MB/s eta 0:00:01\r\u001b[K     |███████████████████▋            | 552 kB 8.4 MB/s eta 0:00:01\r\u001b[K     |████████████████████            | 563 kB 8.4 MB/s eta 0:00:01\r\u001b[K     |████████████████████▎           | 573 kB 8.4 MB/s eta 0:00:01\r\u001b[K     |████████████████████▊           | 583 kB 8.4 MB/s eta 0:00:01\r\u001b[K     |█████████████████████           | 593 kB 8.4 MB/s eta 0:00:01\r\u001b[K     |█████████████████████▍          | 604 kB 8.4 MB/s eta 0:00:01\r\u001b[K     |█████████████████████▊          | 614 kB 8.4 MB/s eta 0:00:01\r\u001b[K     |██████████████████████▏         | 624 kB 8.4 MB/s eta 0:00:01\r\u001b[K     |██████████████████████▌         | 634 kB 8.4 MB/s eta 0:00:01\r\u001b[K     |██████████████████████▉         | 645 kB 8.4 MB/s eta 0:00:01\r\u001b[K     |███████████████████████▎        | 655 kB 8.4 MB/s eta 0:00:01\r\u001b[K     |███████████████████████▋        | 665 kB 8.4 MB/s eta 0:00:01\r\u001b[K     |████████████████████████        | 675 kB 8.4 MB/s eta 0:00:01\r\u001b[K     |████████████████████████▎       | 686 kB 8.4 MB/s eta 0:00:01\r\u001b[K     |████████████████████████▊       | 696 kB 8.4 MB/s eta 0:00:01\r\u001b[K     |█████████████████████████       | 706 kB 8.4 MB/s eta 0:00:01\r\u001b[K     |█████████████████████████▍      | 716 kB 8.4 MB/s eta 0:00:01\r\u001b[K     |█████████████████████████▊      | 727 kB 8.4 MB/s eta 0:00:01\r\u001b[K     |██████████████████████████▏     | 737 kB 8.4 MB/s eta 0:00:01\r\u001b[K     |██████████████████████████▌     | 747 kB 8.4 MB/s eta 0:00:01\r\u001b[K     |██████████████████████████▉     | 757 kB 8.4 MB/s eta 0:00:01\r\u001b[K     |███████████████████████████▏    | 768 kB 8.4 MB/s eta 0:00:01\r\u001b[K     |███████████████████████████▋    | 778 kB 8.4 MB/s eta 0:00:01\r\u001b[K     |████████████████████████████    | 788 kB 8.4 MB/s eta 0:00:01\r\u001b[K     |████████████████████████████▎   | 798 kB 8.4 MB/s eta 0:00:01\r\u001b[K     |████████████████████████████▊   | 808 kB 8.4 MB/s eta 0:00:01\r\u001b[K     |█████████████████████████████   | 819 kB 8.4 MB/s eta 0:00:01\r\u001b[K     |█████████████████████████████▍  | 829 kB 8.4 MB/s eta 0:00:01\r\u001b[K     |█████████████████████████████▊  | 839 kB 8.4 MB/s eta 0:00:01\r\u001b[K     |██████████████████████████████▏ | 849 kB 8.4 MB/s eta 0:00:01\r\u001b[K     |██████████████████████████████▌ | 860 kB 8.4 MB/s eta 0:00:01\r\u001b[K     |██████████████████████████████▉ | 870 kB 8.4 MB/s eta 0:00:01\r\u001b[K     |███████████████████████████████▏| 880 kB 8.4 MB/s eta 0:00:01\r\u001b[K     |███████████████████████████████▋| 890 kB 8.4 MB/s eta 0:00:01\r\u001b[K     |████████████████████████████████| 901 kB 8.4 MB/s eta 0:00:01\r\u001b[K     |████████████████████████████████| 902 kB 8.4 MB/s \n",
            "\u001b[?25hCollecting property-cached>=1.6.4\n",
            "  Downloading property_cached-1.6.4-py2.py3-none-any.whl (7.8 kB)\n",
            "Requirement already satisfied: pandas>=1.0 in /usr/local/lib/python3.7/dist-packages (from arch) (1.3.5)\n",
            "Requirement already satisfied: scipy>=1.3 in /usr/local/lib/python3.7/dist-packages (from arch) (1.4.1)\n",
            "Collecting statsmodels>=0.11\n",
            "  Downloading statsmodels-0.13.2-cp37-cp37m-manylinux_2_17_x86_64.manylinux2014_x86_64.whl (9.8 MB)\n",
            "\u001b[K     |████████████████████████████████| 9.8 MB 34.6 MB/s \n",
            "\u001b[?25hRequirement already satisfied: numpy>=1.17 in /usr/local/lib/python3.7/dist-packages (from arch) (1.21.5)\n",
            "Requirement already satisfied: python-dateutil>=2.7.3 in /usr/local/lib/python3.7/dist-packages (from pandas>=1.0->arch) (2.8.2)\n",
            "Requirement already satisfied: pytz>=2017.3 in /usr/local/lib/python3.7/dist-packages (from pandas>=1.0->arch) (2018.9)\n",
            "Requirement already satisfied: six>=1.5 in /usr/local/lib/python3.7/dist-packages (from python-dateutil>=2.7.3->pandas>=1.0->arch) (1.15.0)\n",
            "Requirement already satisfied: patsy>=0.5.2 in /usr/local/lib/python3.7/dist-packages (from statsmodels>=0.11->arch) (0.5.2)\n",
            "Requirement already satisfied: packaging>=21.3 in /usr/local/lib/python3.7/dist-packages (from statsmodels>=0.11->arch) (21.3)\n",
            "Requirement already satisfied: pyparsing!=3.0.5,>=2.0.2 in /usr/local/lib/python3.7/dist-packages (from packaging>=21.3->statsmodels>=0.11->arch) (3.0.7)\n",
            "Installing collected packages: statsmodels, property-cached, arch\n",
            "  Attempting uninstall: statsmodels\n",
            "    Found existing installation: statsmodels 0.10.2\n",
            "    Uninstalling statsmodels-0.10.2:\n",
            "      Successfully uninstalled statsmodels-0.10.2\n",
            "Successfully installed arch-5.2.0 property-cached-1.6.4 statsmodels-0.13.2\n"
          ]
        }
      ]
    },
    {
      "cell_type": "code",
      "source": [
        "from google.colab import drive\n",
        "drive.mount('/content/gdrive')\n",
        "!ls\n",
        "print()\n",
        "import os\n",
        "os.chdir('/content/gdrive/MyDrive/Colab Files/WQU_MLiF/GWP_2_MLiF')\n",
        "!ls\n"
      ],
      "metadata": {
        "colab": {
          "base_uri": "https://localhost:8080/"
        },
        "id": "3hq2H6sY4rwu",
        "outputId": "28973185-54f0-491f-f7ec-8d0b66205a5e"
      },
      "id": "3hq2H6sY4rwu",
      "execution_count": null,
      "outputs": [
        {
          "output_type": "stream",
          "name": "stdout",
          "text": [
            "Mounted at /content/gdrive\n",
            "gdrive\tsample_data\n",
            "\n",
            "'Copy of GWP2.ipynb'\n",
            "'Copy of MScFE 650 MLF GWP Data.csv'\n",
            " GWP2.ipynb\n",
            "'MScFE 650 MLF GWP 2 - Clustering, CART and SVM.xlsx'\n",
            " MScFE650_Sub2_v1.0.ipynb\n",
            "'References by Olusegun GWP2_MLiF.gdoc'\n"
          ]
        }
      ]
    },
    {
      "cell_type": "code",
      "source": [
        "import numpy as np\n",
        "import pandas as pd\n",
        "from scipy import stats\n",
        "import random\n",
        "import math\n",
        "import arch\n",
        "from arch.univariate import arch_model\n",
        "import seaborn as sns\n",
        "import matplotlib.pyplot as plt\n",
        "%matplotlib inline\n",
        "from  matplotlib.colors import LinearSegmentedColormap\n",
        "from sklearn.cluster import KMeans\n",
        "from sklearn.metrics import classification_report # for model evaluation metrics\n",
        "from sklearn import preprocessing\n",
        "from sklearn.linear_model import LinearRegression"
      ],
      "metadata": {
        "id": "b32f64b2-fe7b-4455-b522-992b96675c31"
      },
      "id": "b32f64b2-fe7b-4455-b522-992b96675c31",
      "execution_count": null,
      "outputs": []
    },
    {
      "cell_type": "code",
      "source": [
        "plt.style.use('ggplot')\n",
        "plt.rcParams['figure.figsize'] = 10, 6\n",
        "plt.rcParams['axes.facecolor'] = \"0.92\""
      ],
      "metadata": {
        "id": "BOTwIEiDow4v"
      },
      "id": "BOTwIEiDow4v",
      "execution_count": null,
      "outputs": []
    },
    {
      "cell_type": "code",
      "execution_count": null,
      "id": "cd87d480-6949-47c4-95b8-ab2d62ed18c9",
      "metadata": {
        "colab": {
          "base_uri": "https://localhost:8080/",
          "height": 520
        },
        "id": "cd87d480-6949-47c4-95b8-ab2d62ed18c9",
        "outputId": "99254f7b-0055-4a83-db5d-6faa487657c3"
      },
      "outputs": [
        {
          "output_type": "execute_result",
          "data": {
            "text/plain": [
              "              LUXXX  MSCI ARGENTINA  BLP ORIENTE MEDIO  MSCI AUSTRALIA  \\\n",
              "Date                                                                     \n",
              "01-Jan-16  1390.716         2376.29          3525.9150         1068.79   \n",
              "08-Jan-16  1291.267         2260.85          3280.6683         1005.56   \n",
              "15-Jan-16  1257.086         2217.50          3118.2981          985.38   \n",
              "22-Jan-16  1254.167         2281.98          2935.0677          985.87   \n",
              "29-Jan-16  1298.240         2462.19          3134.0840         1005.56   \n",
              "\n",
              "           MSCI AUSTRIA  MSCI BELGIUM  MSCI BRAZIL  MSCI CANADA  MSCI CHINA  \\\n",
              "Date                                                                          \n",
              "01-Jan-16        106.70        105.38      1036.23      1663.27       59.47   \n",
              "08-Jan-16         97.66         99.35       952.01      1586.18       54.63   \n",
              "15-Jan-16         93.54         97.32       904.64      1541.08       51.54   \n",
              "22-Jan-16         95.79        100.73       879.17      1582.10       51.15   \n",
              "29-Jan-16         96.93        103.05       958.97      1638.84       52.13   \n",
              "\n",
              "           MSCI DENMARK  ...  MSCI NORWAY  MSCI PERU  MSCI RUSSIA  \\\n",
              "Date                     ...                                        \n",
              "01-Jan-16       8566.71  ...      2373.17     811.96       404.73   \n",
              "08-Jan-16       8183.00  ...      2209.38     751.09       388.05   \n",
              "15-Jan-16       7755.73  ...      2095.60     720.23       344.45   \n",
              "22-Jan-16       8035.69  ...      2173.55     745.96       367.44   \n",
              "29-Jan-16       8211.17  ...      2214.88     825.18       400.93   \n",
              "\n",
              "           MSCI SINGAPORE  MSCI SOUTH AFRICA  MSCI SPAIN  MSCI SWEDEN  \\\n",
              "Date                                                                    \n",
              "01-Jan-16       1507.8101            1255.75      108.40     11136.65   \n",
              "08-Jan-16       1437.6600            1177.76      101.00     10389.93   \n",
              "15-Jan-16       1372.9800            1133.72       97.34     10042.32   \n",
              "22-Jan-16       1350.0500            1160.48       99.21     10469.07   \n",
              "29-Jan-16       1375.1000            1239.58      100.06     10432.42   \n",
              "\n",
              "           MSCI SWITZERLAND  MSCI UK  MSCI USA  \n",
              "Date                                            \n",
              "01-Jan-16           1148.37  1818.40   1949.70  \n",
              "08-Jan-16           1075.30  1722.00   1831.88  \n",
              "15-Jan-16           1056.01  1692.43   1789.56  \n",
              "22-Jan-16           1076.48  1719.61   1814.12  \n",
              "29-Jan-16           1087.17  1774.40   1843.88  \n",
              "\n",
              "[5 rows x 35 columns]"
            ],
            "text/html": [
              "\n",
              "  <div id=\"df-b30caffd-676f-442d-9d74-40cb7570b9c1\">\n",
              "    <div class=\"colab-df-container\">\n",
              "      <div>\n",
              "<style scoped>\n",
              "    .dataframe tbody tr th:only-of-type {\n",
              "        vertical-align: middle;\n",
              "    }\n",
              "\n",
              "    .dataframe tbody tr th {\n",
              "        vertical-align: top;\n",
              "    }\n",
              "\n",
              "    .dataframe thead th {\n",
              "        text-align: right;\n",
              "    }\n",
              "</style>\n",
              "<table border=\"1\" class=\"dataframe\">\n",
              "  <thead>\n",
              "    <tr style=\"text-align: right;\">\n",
              "      <th></th>\n",
              "      <th>LUXXX</th>\n",
              "      <th>MSCI ARGENTINA</th>\n",
              "      <th>BLP ORIENTE MEDIO</th>\n",
              "      <th>MSCI AUSTRALIA</th>\n",
              "      <th>MSCI AUSTRIA</th>\n",
              "      <th>MSCI BELGIUM</th>\n",
              "      <th>MSCI BRAZIL</th>\n",
              "      <th>MSCI CANADA</th>\n",
              "      <th>MSCI CHINA</th>\n",
              "      <th>MSCI DENMARK</th>\n",
              "      <th>...</th>\n",
              "      <th>MSCI NORWAY</th>\n",
              "      <th>MSCI PERU</th>\n",
              "      <th>MSCI RUSSIA</th>\n",
              "      <th>MSCI SINGAPORE</th>\n",
              "      <th>MSCI SOUTH AFRICA</th>\n",
              "      <th>MSCI SPAIN</th>\n",
              "      <th>MSCI SWEDEN</th>\n",
              "      <th>MSCI SWITZERLAND</th>\n",
              "      <th>MSCI UK</th>\n",
              "      <th>MSCI USA</th>\n",
              "    </tr>\n",
              "    <tr>\n",
              "      <th>Date</th>\n",
              "      <th></th>\n",
              "      <th></th>\n",
              "      <th></th>\n",
              "      <th></th>\n",
              "      <th></th>\n",
              "      <th></th>\n",
              "      <th></th>\n",
              "      <th></th>\n",
              "      <th></th>\n",
              "      <th></th>\n",
              "      <th></th>\n",
              "      <th></th>\n",
              "      <th></th>\n",
              "      <th></th>\n",
              "      <th></th>\n",
              "      <th></th>\n",
              "      <th></th>\n",
              "      <th></th>\n",
              "      <th></th>\n",
              "      <th></th>\n",
              "      <th></th>\n",
              "    </tr>\n",
              "  </thead>\n",
              "  <tbody>\n",
              "    <tr>\n",
              "      <th>01-Jan-16</th>\n",
              "      <td>1390.716</td>\n",
              "      <td>2376.29</td>\n",
              "      <td>3525.9150</td>\n",
              "      <td>1068.79</td>\n",
              "      <td>106.70</td>\n",
              "      <td>105.38</td>\n",
              "      <td>1036.23</td>\n",
              "      <td>1663.27</td>\n",
              "      <td>59.47</td>\n",
              "      <td>8566.71</td>\n",
              "      <td>...</td>\n",
              "      <td>2373.17</td>\n",
              "      <td>811.96</td>\n",
              "      <td>404.73</td>\n",
              "      <td>1507.8101</td>\n",
              "      <td>1255.75</td>\n",
              "      <td>108.40</td>\n",
              "      <td>11136.65</td>\n",
              "      <td>1148.37</td>\n",
              "      <td>1818.40</td>\n",
              "      <td>1949.70</td>\n",
              "    </tr>\n",
              "    <tr>\n",
              "      <th>08-Jan-16</th>\n",
              "      <td>1291.267</td>\n",
              "      <td>2260.85</td>\n",
              "      <td>3280.6683</td>\n",
              "      <td>1005.56</td>\n",
              "      <td>97.66</td>\n",
              "      <td>99.35</td>\n",
              "      <td>952.01</td>\n",
              "      <td>1586.18</td>\n",
              "      <td>54.63</td>\n",
              "      <td>8183.00</td>\n",
              "      <td>...</td>\n",
              "      <td>2209.38</td>\n",
              "      <td>751.09</td>\n",
              "      <td>388.05</td>\n",
              "      <td>1437.6600</td>\n",
              "      <td>1177.76</td>\n",
              "      <td>101.00</td>\n",
              "      <td>10389.93</td>\n",
              "      <td>1075.30</td>\n",
              "      <td>1722.00</td>\n",
              "      <td>1831.88</td>\n",
              "    </tr>\n",
              "    <tr>\n",
              "      <th>15-Jan-16</th>\n",
              "      <td>1257.086</td>\n",
              "      <td>2217.50</td>\n",
              "      <td>3118.2981</td>\n",
              "      <td>985.38</td>\n",
              "      <td>93.54</td>\n",
              "      <td>97.32</td>\n",
              "      <td>904.64</td>\n",
              "      <td>1541.08</td>\n",
              "      <td>51.54</td>\n",
              "      <td>7755.73</td>\n",
              "      <td>...</td>\n",
              "      <td>2095.60</td>\n",
              "      <td>720.23</td>\n",
              "      <td>344.45</td>\n",
              "      <td>1372.9800</td>\n",
              "      <td>1133.72</td>\n",
              "      <td>97.34</td>\n",
              "      <td>10042.32</td>\n",
              "      <td>1056.01</td>\n",
              "      <td>1692.43</td>\n",
              "      <td>1789.56</td>\n",
              "    </tr>\n",
              "    <tr>\n",
              "      <th>22-Jan-16</th>\n",
              "      <td>1254.167</td>\n",
              "      <td>2281.98</td>\n",
              "      <td>2935.0677</td>\n",
              "      <td>985.87</td>\n",
              "      <td>95.79</td>\n",
              "      <td>100.73</td>\n",
              "      <td>879.17</td>\n",
              "      <td>1582.10</td>\n",
              "      <td>51.15</td>\n",
              "      <td>8035.69</td>\n",
              "      <td>...</td>\n",
              "      <td>2173.55</td>\n",
              "      <td>745.96</td>\n",
              "      <td>367.44</td>\n",
              "      <td>1350.0500</td>\n",
              "      <td>1160.48</td>\n",
              "      <td>99.21</td>\n",
              "      <td>10469.07</td>\n",
              "      <td>1076.48</td>\n",
              "      <td>1719.61</td>\n",
              "      <td>1814.12</td>\n",
              "    </tr>\n",
              "    <tr>\n",
              "      <th>29-Jan-16</th>\n",
              "      <td>1298.240</td>\n",
              "      <td>2462.19</td>\n",
              "      <td>3134.0840</td>\n",
              "      <td>1005.56</td>\n",
              "      <td>96.93</td>\n",
              "      <td>103.05</td>\n",
              "      <td>958.97</td>\n",
              "      <td>1638.84</td>\n",
              "      <td>52.13</td>\n",
              "      <td>8211.17</td>\n",
              "      <td>...</td>\n",
              "      <td>2214.88</td>\n",
              "      <td>825.18</td>\n",
              "      <td>400.93</td>\n",
              "      <td>1375.1000</td>\n",
              "      <td>1239.58</td>\n",
              "      <td>100.06</td>\n",
              "      <td>10432.42</td>\n",
              "      <td>1087.17</td>\n",
              "      <td>1774.40</td>\n",
              "      <td>1843.88</td>\n",
              "    </tr>\n",
              "  </tbody>\n",
              "</table>\n",
              "<p>5 rows × 35 columns</p>\n",
              "</div>\n",
              "      <button class=\"colab-df-convert\" onclick=\"convertToInteractive('df-b30caffd-676f-442d-9d74-40cb7570b9c1')\"\n",
              "              title=\"Convert this dataframe to an interactive table.\"\n",
              "              style=\"display:none;\">\n",
              "        \n",
              "  <svg xmlns=\"http://www.w3.org/2000/svg\" height=\"24px\"viewBox=\"0 0 24 24\"\n",
              "       width=\"24px\">\n",
              "    <path d=\"M0 0h24v24H0V0z\" fill=\"none\"/>\n",
              "    <path d=\"M18.56 5.44l.94 2.06.94-2.06 2.06-.94-2.06-.94-.94-2.06-.94 2.06-2.06.94zm-11 1L8.5 8.5l.94-2.06 2.06-.94-2.06-.94L8.5 2.5l-.94 2.06-2.06.94zm10 10l.94 2.06.94-2.06 2.06-.94-2.06-.94-.94-2.06-.94 2.06-2.06.94z\"/><path d=\"M17.41 7.96l-1.37-1.37c-.4-.4-.92-.59-1.43-.59-.52 0-1.04.2-1.43.59L10.3 9.45l-7.72 7.72c-.78.78-.78 2.05 0 2.83L4 21.41c.39.39.9.59 1.41.59.51 0 1.02-.2 1.41-.59l7.78-7.78 2.81-2.81c.8-.78.8-2.07 0-2.86zM5.41 20L4 18.59l7.72-7.72 1.47 1.35L5.41 20z\"/>\n",
              "  </svg>\n",
              "      </button>\n",
              "      \n",
              "  <style>\n",
              "    .colab-df-container {\n",
              "      display:flex;\n",
              "      flex-wrap:wrap;\n",
              "      gap: 12px;\n",
              "    }\n",
              "\n",
              "    .colab-df-convert {\n",
              "      background-color: #E8F0FE;\n",
              "      border: none;\n",
              "      border-radius: 50%;\n",
              "      cursor: pointer;\n",
              "      display: none;\n",
              "      fill: #1967D2;\n",
              "      height: 32px;\n",
              "      padding: 0 0 0 0;\n",
              "      width: 32px;\n",
              "    }\n",
              "\n",
              "    .colab-df-convert:hover {\n",
              "      background-color: #E2EBFA;\n",
              "      box-shadow: 0px 1px 2px rgba(60, 64, 67, 0.3), 0px 1px 3px 1px rgba(60, 64, 67, 0.15);\n",
              "      fill: #174EA6;\n",
              "    }\n",
              "\n",
              "    [theme=dark] .colab-df-convert {\n",
              "      background-color: #3B4455;\n",
              "      fill: #D2E3FC;\n",
              "    }\n",
              "\n",
              "    [theme=dark] .colab-df-convert:hover {\n",
              "      background-color: #434B5C;\n",
              "      box-shadow: 0px 1px 3px 1px rgba(0, 0, 0, 0.15);\n",
              "      filter: drop-shadow(0px 1px 2px rgba(0, 0, 0, 0.3));\n",
              "      fill: #FFFFFF;\n",
              "    }\n",
              "  </style>\n",
              "\n",
              "      <script>\n",
              "        const buttonEl =\n",
              "          document.querySelector('#df-b30caffd-676f-442d-9d74-40cb7570b9c1 button.colab-df-convert');\n",
              "        buttonEl.style.display =\n",
              "          google.colab.kernel.accessAllowed ? 'block' : 'none';\n",
              "\n",
              "        async function convertToInteractive(key) {\n",
              "          const element = document.querySelector('#df-b30caffd-676f-442d-9d74-40cb7570b9c1');\n",
              "          const dataTable =\n",
              "            await google.colab.kernel.invokeFunction('convertToInteractive',\n",
              "                                                     [key], {});\n",
              "          if (!dataTable) return;\n",
              "\n",
              "          const docLinkHtml = 'Like what you see? Visit the ' +\n",
              "            '<a target=\"_blank\" href=https://colab.research.google.com/notebooks/data_table.ipynb>data table notebook</a>'\n",
              "            + ' to learn more about interactive tables.';\n",
              "          element.innerHTML = '';\n",
              "          dataTable['output_type'] = 'display_data';\n",
              "          await google.colab.output.renderOutput(dataTable, element);\n",
              "          const docLink = document.createElement('div');\n",
              "          docLink.innerHTML = docLinkHtml;\n",
              "          element.appendChild(docLink);\n",
              "        }\n",
              "      </script>\n",
              "    </div>\n",
              "  </div>\n",
              "  "
            ]
          },
          "metadata": {},
          "execution_count": 5
        }
      ],
      "source": [
        "dataset = pd.read_csv(r\"Copy of MScFE 650 MLF GWP Data.csv\",  index_col = \"Date\" )\n",
        "# dataset = pd.read_csv(\"MScFE 650 MLF GWP Data.csv\", index_col = \"Date\")\n",
        "dataset.head()"
      ]
    },
    {
      "cell_type": "markdown",
      "id": "20f07a25-debf-49a5-afc7-04953d9854f3",
      "metadata": {
        "id": "20f07a25-debf-49a5-afc7-04953d9854f3"
      },
      "source": [
        "### Summarize the levels of the series, using 3 methods"
      ]
    },
    {
      "cell_type": "code",
      "source": [
        "# help(dataset.pct_change)"
      ],
      "metadata": {
        "id": "g198RBBK7cR2"
      },
      "id": "g198RBBK7cR2",
      "execution_count": null,
      "outputs": []
    },
    {
      "cell_type": "code",
      "execution_count": null,
      "id": "af1e24a0-4b21-4e90-967d-5fffee66230e",
      "metadata": {
        "colab": {
          "base_uri": "https://localhost:8080/",
          "height": 901
        },
        "id": "af1e24a0-4b21-4e90-967d-5fffee66230e",
        "outputId": "dbf1beed-d87b-4e48-a9df-c456f1f509e5"
      },
      "outputs": [
        {
          "output_type": "execute_result",
          "data": {
            "text/plain": [
              "              LUXXX  MSCI ARGENTINA  BLP ORIENTE MEDIO  MSCI AUSTRALIA  \\\n",
              "Date                                                                     \n",
              "01-Jan-16       NaN             NaN                NaN             NaN   \n",
              "08-Jan-16 -0.071509       -0.048580          -0.069555       -0.059160   \n",
              "15-Jan-16 -0.026471       -0.019174          -0.049493       -0.020068   \n",
              "22-Jan-16 -0.002322        0.029078          -0.058760        0.000497   \n",
              "29-Jan-16  0.035141        0.078971           0.067806        0.019972   \n",
              "...             ...             ...                ...             ...   \n",
              "25-Sep-20 -0.060663       -0.038719          -0.029566        0.021311   \n",
              "02-Oct-20  0.049442        0.038383           0.005972       -0.033009   \n",
              "09-Oct-20  0.037079        0.073776          -0.022677        0.052142   \n",
              "16-Oct-20 -0.007048        0.006597          -0.008892        0.011522   \n",
              "23-Oct-20  0.021051       -0.005706          -0.004137        0.000183   \n",
              "\n",
              "           MSCI AUSTRIA  MSCI BELGIUM  MSCI BRAZIL  MSCI CANADA  MSCI CHINA  \\\n",
              "Date                                                                          \n",
              "01-Jan-16           NaN           NaN          NaN          NaN         NaN   \n",
              "08-Jan-16     -0.084724     -0.057221    -0.081275    -0.046348   -0.081386   \n",
              "15-Jan-16     -0.042187     -0.020433    -0.049758    -0.028433   -0.056562   \n",
              "22-Jan-16      0.024054      0.035039    -0.028155     0.026618   -0.007567   \n",
              "29-Jan-16      0.011901      0.023032     0.090767     0.035864    0.019159   \n",
              "...                 ...           ...          ...          ...         ...   \n",
              "25-Sep-20     -0.053482     -0.057185    -0.064895    -0.005072   -0.037575   \n",
              "02-Oct-20     -0.000706      0.021198    -0.041740     0.006509    0.025536   \n",
              "09-Oct-20      0.060313      0.050758     0.060642     0.022035    0.039510   \n",
              "16-Oct-20     -0.014998     -0.035328    -0.012246    -0.008635    0.020786   \n",
              "23-Oct-20      0.012181     -0.006577     0.033871    -0.009793    0.003976   \n",
              "\n",
              "           MSCI DENMARK  ...  MSCI NORWAY  MSCI PERU  MSCI RUSSIA  \\\n",
              "Date                     ...                                        \n",
              "01-Jan-16           NaN  ...          NaN        NaN          NaN   \n",
              "08-Jan-16     -0.044791  ...    -0.069017  -0.074967    -0.041213   \n",
              "15-Jan-16     -0.052214  ...    -0.051499  -0.041087    -0.112357   \n",
              "22-Jan-16      0.036097  ...     0.037197   0.035725     0.066744   \n",
              "29-Jan-16      0.021838  ...     0.019015   0.106199     0.091144   \n",
              "...                 ...  ...          ...        ...          ...   \n",
              "25-Sep-20     -0.005850  ...    -0.035754  -0.038059    -0.053961   \n",
              "02-Oct-20      0.024026  ...     0.006563   0.008420    -0.020648   \n",
              "09-Oct-20      0.034281  ...     0.018467   0.034006     0.018855   \n",
              "16-Oct-20      0.006167  ...    -0.004820  -0.033217    -0.028989   \n",
              "23-Oct-20     -0.028973  ...    -0.001628   0.038693     0.029500   \n",
              "\n",
              "           MSCI SINGAPORE  MSCI SOUTH AFRICA  MSCI SPAIN  MSCI SWEDEN  \\\n",
              "Date                                                                    \n",
              "01-Jan-16             NaN                NaN         NaN          NaN   \n",
              "08-Jan-16       -0.046524          -0.062106   -0.068266    -0.067051   \n",
              "15-Jan-16       -0.044990          -0.037393   -0.036238    -0.033456   \n",
              "22-Jan-16       -0.016701           0.023604    0.019211     0.042495   \n",
              "29-Jan-16        0.018555           0.068161    0.008568    -0.003501   \n",
              "...                   ...                ...         ...          ...   \n",
              "25-Sep-20       -0.010630          -0.024578   -0.041188    -0.026886   \n",
              "02-Oct-20        0.011964           0.030356    0.019375     0.018148   \n",
              "09-Oct-20        0.011116           0.011926    0.030887     0.017269   \n",
              "16-Oct-20        0.005622          -0.000604   -0.013707    -0.003026   \n",
              "23-Oct-20       -0.004171           0.012032    0.006149    -0.005956   \n",
              "\n",
              "           MSCI SWITZERLAND   MSCI UK  MSCI USA  \n",
              "Date                                             \n",
              "01-Jan-16               NaN       NaN       NaN  \n",
              "08-Jan-16         -0.063629 -0.053014 -0.060430  \n",
              "15-Jan-16         -0.017939 -0.017172 -0.023102  \n",
              "22-Jan-16          0.019384  0.016060  0.013724  \n",
              "29-Jan-16          0.009931  0.031862  0.016405  \n",
              "...                     ...       ...       ...  \n",
              "25-Sep-20         -0.027232 -0.028324 -0.005252  \n",
              "02-Oct-20          0.004926  0.010131  0.016352  \n",
              "09-Oct-20          0.005202  0.017743  0.039061  \n",
              "16-Oct-20         -0.011244 -0.018731  0.002578  \n",
              "23-Oct-20         -0.016870 -0.008315 -0.006031  \n",
              "\n",
              "[252 rows x 35 columns]"
            ],
            "text/html": [
              "\n",
              "  <div id=\"df-50464a64-f122-4d67-8a1d-b0960df5d78a\">\n",
              "    <div class=\"colab-df-container\">\n",
              "      <div>\n",
              "<style scoped>\n",
              "    .dataframe tbody tr th:only-of-type {\n",
              "        vertical-align: middle;\n",
              "    }\n",
              "\n",
              "    .dataframe tbody tr th {\n",
              "        vertical-align: top;\n",
              "    }\n",
              "\n",
              "    .dataframe thead th {\n",
              "        text-align: right;\n",
              "    }\n",
              "</style>\n",
              "<table border=\"1\" class=\"dataframe\">\n",
              "  <thead>\n",
              "    <tr style=\"text-align: right;\">\n",
              "      <th></th>\n",
              "      <th>LUXXX</th>\n",
              "      <th>MSCI ARGENTINA</th>\n",
              "      <th>BLP ORIENTE MEDIO</th>\n",
              "      <th>MSCI AUSTRALIA</th>\n",
              "      <th>MSCI AUSTRIA</th>\n",
              "      <th>MSCI BELGIUM</th>\n",
              "      <th>MSCI BRAZIL</th>\n",
              "      <th>MSCI CANADA</th>\n",
              "      <th>MSCI CHINA</th>\n",
              "      <th>MSCI DENMARK</th>\n",
              "      <th>...</th>\n",
              "      <th>MSCI NORWAY</th>\n",
              "      <th>MSCI PERU</th>\n",
              "      <th>MSCI RUSSIA</th>\n",
              "      <th>MSCI SINGAPORE</th>\n",
              "      <th>MSCI SOUTH AFRICA</th>\n",
              "      <th>MSCI SPAIN</th>\n",
              "      <th>MSCI SWEDEN</th>\n",
              "      <th>MSCI SWITZERLAND</th>\n",
              "      <th>MSCI UK</th>\n",
              "      <th>MSCI USA</th>\n",
              "    </tr>\n",
              "    <tr>\n",
              "      <th>Date</th>\n",
              "      <th></th>\n",
              "      <th></th>\n",
              "      <th></th>\n",
              "      <th></th>\n",
              "      <th></th>\n",
              "      <th></th>\n",
              "      <th></th>\n",
              "      <th></th>\n",
              "      <th></th>\n",
              "      <th></th>\n",
              "      <th></th>\n",
              "      <th></th>\n",
              "      <th></th>\n",
              "      <th></th>\n",
              "      <th></th>\n",
              "      <th></th>\n",
              "      <th></th>\n",
              "      <th></th>\n",
              "      <th></th>\n",
              "      <th></th>\n",
              "      <th></th>\n",
              "    </tr>\n",
              "  </thead>\n",
              "  <tbody>\n",
              "    <tr>\n",
              "      <th>01-Jan-16</th>\n",
              "      <td>NaN</td>\n",
              "      <td>NaN</td>\n",
              "      <td>NaN</td>\n",
              "      <td>NaN</td>\n",
              "      <td>NaN</td>\n",
              "      <td>NaN</td>\n",
              "      <td>NaN</td>\n",
              "      <td>NaN</td>\n",
              "      <td>NaN</td>\n",
              "      <td>NaN</td>\n",
              "      <td>...</td>\n",
              "      <td>NaN</td>\n",
              "      <td>NaN</td>\n",
              "      <td>NaN</td>\n",
              "      <td>NaN</td>\n",
              "      <td>NaN</td>\n",
              "      <td>NaN</td>\n",
              "      <td>NaN</td>\n",
              "      <td>NaN</td>\n",
              "      <td>NaN</td>\n",
              "      <td>NaN</td>\n",
              "    </tr>\n",
              "    <tr>\n",
              "      <th>08-Jan-16</th>\n",
              "      <td>-0.071509</td>\n",
              "      <td>-0.048580</td>\n",
              "      <td>-0.069555</td>\n",
              "      <td>-0.059160</td>\n",
              "      <td>-0.084724</td>\n",
              "      <td>-0.057221</td>\n",
              "      <td>-0.081275</td>\n",
              "      <td>-0.046348</td>\n",
              "      <td>-0.081386</td>\n",
              "      <td>-0.044791</td>\n",
              "      <td>...</td>\n",
              "      <td>-0.069017</td>\n",
              "      <td>-0.074967</td>\n",
              "      <td>-0.041213</td>\n",
              "      <td>-0.046524</td>\n",
              "      <td>-0.062106</td>\n",
              "      <td>-0.068266</td>\n",
              "      <td>-0.067051</td>\n",
              "      <td>-0.063629</td>\n",
              "      <td>-0.053014</td>\n",
              "      <td>-0.060430</td>\n",
              "    </tr>\n",
              "    <tr>\n",
              "      <th>15-Jan-16</th>\n",
              "      <td>-0.026471</td>\n",
              "      <td>-0.019174</td>\n",
              "      <td>-0.049493</td>\n",
              "      <td>-0.020068</td>\n",
              "      <td>-0.042187</td>\n",
              "      <td>-0.020433</td>\n",
              "      <td>-0.049758</td>\n",
              "      <td>-0.028433</td>\n",
              "      <td>-0.056562</td>\n",
              "      <td>-0.052214</td>\n",
              "      <td>...</td>\n",
              "      <td>-0.051499</td>\n",
              "      <td>-0.041087</td>\n",
              "      <td>-0.112357</td>\n",
              "      <td>-0.044990</td>\n",
              "      <td>-0.037393</td>\n",
              "      <td>-0.036238</td>\n",
              "      <td>-0.033456</td>\n",
              "      <td>-0.017939</td>\n",
              "      <td>-0.017172</td>\n",
              "      <td>-0.023102</td>\n",
              "    </tr>\n",
              "    <tr>\n",
              "      <th>22-Jan-16</th>\n",
              "      <td>-0.002322</td>\n",
              "      <td>0.029078</td>\n",
              "      <td>-0.058760</td>\n",
              "      <td>0.000497</td>\n",
              "      <td>0.024054</td>\n",
              "      <td>0.035039</td>\n",
              "      <td>-0.028155</td>\n",
              "      <td>0.026618</td>\n",
              "      <td>-0.007567</td>\n",
              "      <td>0.036097</td>\n",
              "      <td>...</td>\n",
              "      <td>0.037197</td>\n",
              "      <td>0.035725</td>\n",
              "      <td>0.066744</td>\n",
              "      <td>-0.016701</td>\n",
              "      <td>0.023604</td>\n",
              "      <td>0.019211</td>\n",
              "      <td>0.042495</td>\n",
              "      <td>0.019384</td>\n",
              "      <td>0.016060</td>\n",
              "      <td>0.013724</td>\n",
              "    </tr>\n",
              "    <tr>\n",
              "      <th>29-Jan-16</th>\n",
              "      <td>0.035141</td>\n",
              "      <td>0.078971</td>\n",
              "      <td>0.067806</td>\n",
              "      <td>0.019972</td>\n",
              "      <td>0.011901</td>\n",
              "      <td>0.023032</td>\n",
              "      <td>0.090767</td>\n",
              "      <td>0.035864</td>\n",
              "      <td>0.019159</td>\n",
              "      <td>0.021838</td>\n",
              "      <td>...</td>\n",
              "      <td>0.019015</td>\n",
              "      <td>0.106199</td>\n",
              "      <td>0.091144</td>\n",
              "      <td>0.018555</td>\n",
              "      <td>0.068161</td>\n",
              "      <td>0.008568</td>\n",
              "      <td>-0.003501</td>\n",
              "      <td>0.009931</td>\n",
              "      <td>0.031862</td>\n",
              "      <td>0.016405</td>\n",
              "    </tr>\n",
              "    <tr>\n",
              "      <th>...</th>\n",
              "      <td>...</td>\n",
              "      <td>...</td>\n",
              "      <td>...</td>\n",
              "      <td>...</td>\n",
              "      <td>...</td>\n",
              "      <td>...</td>\n",
              "      <td>...</td>\n",
              "      <td>...</td>\n",
              "      <td>...</td>\n",
              "      <td>...</td>\n",
              "      <td>...</td>\n",
              "      <td>...</td>\n",
              "      <td>...</td>\n",
              "      <td>...</td>\n",
              "      <td>...</td>\n",
              "      <td>...</td>\n",
              "      <td>...</td>\n",
              "      <td>...</td>\n",
              "      <td>...</td>\n",
              "      <td>...</td>\n",
              "      <td>...</td>\n",
              "    </tr>\n",
              "    <tr>\n",
              "      <th>25-Sep-20</th>\n",
              "      <td>-0.060663</td>\n",
              "      <td>-0.038719</td>\n",
              "      <td>-0.029566</td>\n",
              "      <td>0.021311</td>\n",
              "      <td>-0.053482</td>\n",
              "      <td>-0.057185</td>\n",
              "      <td>-0.064895</td>\n",
              "      <td>-0.005072</td>\n",
              "      <td>-0.037575</td>\n",
              "      <td>-0.005850</td>\n",
              "      <td>...</td>\n",
              "      <td>-0.035754</td>\n",
              "      <td>-0.038059</td>\n",
              "      <td>-0.053961</td>\n",
              "      <td>-0.010630</td>\n",
              "      <td>-0.024578</td>\n",
              "      <td>-0.041188</td>\n",
              "      <td>-0.026886</td>\n",
              "      <td>-0.027232</td>\n",
              "      <td>-0.028324</td>\n",
              "      <td>-0.005252</td>\n",
              "    </tr>\n",
              "    <tr>\n",
              "      <th>02-Oct-20</th>\n",
              "      <td>0.049442</td>\n",
              "      <td>0.038383</td>\n",
              "      <td>0.005972</td>\n",
              "      <td>-0.033009</td>\n",
              "      <td>-0.000706</td>\n",
              "      <td>0.021198</td>\n",
              "      <td>-0.041740</td>\n",
              "      <td>0.006509</td>\n",
              "      <td>0.025536</td>\n",
              "      <td>0.024026</td>\n",
              "      <td>...</td>\n",
              "      <td>0.006563</td>\n",
              "      <td>0.008420</td>\n",
              "      <td>-0.020648</td>\n",
              "      <td>0.011964</td>\n",
              "      <td>0.030356</td>\n",
              "      <td>0.019375</td>\n",
              "      <td>0.018148</td>\n",
              "      <td>0.004926</td>\n",
              "      <td>0.010131</td>\n",
              "      <td>0.016352</td>\n",
              "    </tr>\n",
              "    <tr>\n",
              "      <th>09-Oct-20</th>\n",
              "      <td>0.037079</td>\n",
              "      <td>0.073776</td>\n",
              "      <td>-0.022677</td>\n",
              "      <td>0.052142</td>\n",
              "      <td>0.060313</td>\n",
              "      <td>0.050758</td>\n",
              "      <td>0.060642</td>\n",
              "      <td>0.022035</td>\n",
              "      <td>0.039510</td>\n",
              "      <td>0.034281</td>\n",
              "      <td>...</td>\n",
              "      <td>0.018467</td>\n",
              "      <td>0.034006</td>\n",
              "      <td>0.018855</td>\n",
              "      <td>0.011116</td>\n",
              "      <td>0.011926</td>\n",
              "      <td>0.030887</td>\n",
              "      <td>0.017269</td>\n",
              "      <td>0.005202</td>\n",
              "      <td>0.017743</td>\n",
              "      <td>0.039061</td>\n",
              "    </tr>\n",
              "    <tr>\n",
              "      <th>16-Oct-20</th>\n",
              "      <td>-0.007048</td>\n",
              "      <td>0.006597</td>\n",
              "      <td>-0.008892</td>\n",
              "      <td>0.011522</td>\n",
              "      <td>-0.014998</td>\n",
              "      <td>-0.035328</td>\n",
              "      <td>-0.012246</td>\n",
              "      <td>-0.008635</td>\n",
              "      <td>0.020786</td>\n",
              "      <td>0.006167</td>\n",
              "      <td>...</td>\n",
              "      <td>-0.004820</td>\n",
              "      <td>-0.033217</td>\n",
              "      <td>-0.028989</td>\n",
              "      <td>0.005622</td>\n",
              "      <td>-0.000604</td>\n",
              "      <td>-0.013707</td>\n",
              "      <td>-0.003026</td>\n",
              "      <td>-0.011244</td>\n",
              "      <td>-0.018731</td>\n",
              "      <td>0.002578</td>\n",
              "    </tr>\n",
              "    <tr>\n",
              "      <th>23-Oct-20</th>\n",
              "      <td>0.021051</td>\n",
              "      <td>-0.005706</td>\n",
              "      <td>-0.004137</td>\n",
              "      <td>0.000183</td>\n",
              "      <td>0.012181</td>\n",
              "      <td>-0.006577</td>\n",
              "      <td>0.033871</td>\n",
              "      <td>-0.009793</td>\n",
              "      <td>0.003976</td>\n",
              "      <td>-0.028973</td>\n",
              "      <td>...</td>\n",
              "      <td>-0.001628</td>\n",
              "      <td>0.038693</td>\n",
              "      <td>0.029500</td>\n",
              "      <td>-0.004171</td>\n",
              "      <td>0.012032</td>\n",
              "      <td>0.006149</td>\n",
              "      <td>-0.005956</td>\n",
              "      <td>-0.016870</td>\n",
              "      <td>-0.008315</td>\n",
              "      <td>-0.006031</td>\n",
              "    </tr>\n",
              "  </tbody>\n",
              "</table>\n",
              "<p>252 rows × 35 columns</p>\n",
              "</div>\n",
              "      <button class=\"colab-df-convert\" onclick=\"convertToInteractive('df-50464a64-f122-4d67-8a1d-b0960df5d78a')\"\n",
              "              title=\"Convert this dataframe to an interactive table.\"\n",
              "              style=\"display:none;\">\n",
              "        \n",
              "  <svg xmlns=\"http://www.w3.org/2000/svg\" height=\"24px\"viewBox=\"0 0 24 24\"\n",
              "       width=\"24px\">\n",
              "    <path d=\"M0 0h24v24H0V0z\" fill=\"none\"/>\n",
              "    <path d=\"M18.56 5.44l.94 2.06.94-2.06 2.06-.94-2.06-.94-.94-2.06-.94 2.06-2.06.94zm-11 1L8.5 8.5l.94-2.06 2.06-.94-2.06-.94L8.5 2.5l-.94 2.06-2.06.94zm10 10l.94 2.06.94-2.06 2.06-.94-2.06-.94-.94-2.06-.94 2.06-2.06.94z\"/><path d=\"M17.41 7.96l-1.37-1.37c-.4-.4-.92-.59-1.43-.59-.52 0-1.04.2-1.43.59L10.3 9.45l-7.72 7.72c-.78.78-.78 2.05 0 2.83L4 21.41c.39.39.9.59 1.41.59.51 0 1.02-.2 1.41-.59l7.78-7.78 2.81-2.81c.8-.78.8-2.07 0-2.86zM5.41 20L4 18.59l7.72-7.72 1.47 1.35L5.41 20z\"/>\n",
              "  </svg>\n",
              "      </button>\n",
              "      \n",
              "  <style>\n",
              "    .colab-df-container {\n",
              "      display:flex;\n",
              "      flex-wrap:wrap;\n",
              "      gap: 12px;\n",
              "    }\n",
              "\n",
              "    .colab-df-convert {\n",
              "      background-color: #E8F0FE;\n",
              "      border: none;\n",
              "      border-radius: 50%;\n",
              "      cursor: pointer;\n",
              "      display: none;\n",
              "      fill: #1967D2;\n",
              "      height: 32px;\n",
              "      padding: 0 0 0 0;\n",
              "      width: 32px;\n",
              "    }\n",
              "\n",
              "    .colab-df-convert:hover {\n",
              "      background-color: #E2EBFA;\n",
              "      box-shadow: 0px 1px 2px rgba(60, 64, 67, 0.3), 0px 1px 3px 1px rgba(60, 64, 67, 0.15);\n",
              "      fill: #174EA6;\n",
              "    }\n",
              "\n",
              "    [theme=dark] .colab-df-convert {\n",
              "      background-color: #3B4455;\n",
              "      fill: #D2E3FC;\n",
              "    }\n",
              "\n",
              "    [theme=dark] .colab-df-convert:hover {\n",
              "      background-color: #434B5C;\n",
              "      box-shadow: 0px 1px 3px 1px rgba(0, 0, 0, 0.15);\n",
              "      filter: drop-shadow(0px 1px 2px rgba(0, 0, 0, 0.3));\n",
              "      fill: #FFFFFF;\n",
              "    }\n",
              "  </style>\n",
              "\n",
              "      <script>\n",
              "        const buttonEl =\n",
              "          document.querySelector('#df-50464a64-f122-4d67-8a1d-b0960df5d78a button.colab-df-convert');\n",
              "        buttonEl.style.display =\n",
              "          google.colab.kernel.accessAllowed ? 'block' : 'none';\n",
              "\n",
              "        async function convertToInteractive(key) {\n",
              "          const element = document.querySelector('#df-50464a64-f122-4d67-8a1d-b0960df5d78a');\n",
              "          const dataTable =\n",
              "            await google.colab.kernel.invokeFunction('convertToInteractive',\n",
              "                                                     [key], {});\n",
              "          if (!dataTable) return;\n",
              "\n",
              "          const docLinkHtml = 'Like what you see? Visit the ' +\n",
              "            '<a target=\"_blank\" href=https://colab.research.google.com/notebooks/data_table.ipynb>data table notebook</a>'\n",
              "            + ' to learn more about interactive tables.';\n",
              "          element.innerHTML = '';\n",
              "          dataTable['output_type'] = 'display_data';\n",
              "          await google.colab.output.renderOutput(dataTable, element);\n",
              "          const docLink = document.createElement('div');\n",
              "          docLink.innerHTML = docLinkHtml;\n",
              "          element.appendChild(docLink);\n",
              "        }\n",
              "      </script>\n",
              "    </div>\n",
              "  </div>\n",
              "  "
            ]
          },
          "metadata": {},
          "execution_count": 7
        }
      ],
      "source": [
        "daily_return = dataset.pct_change(1)\n",
        "daily_return"
      ]
    },
    {
      "cell_type": "markdown",
      "id": "7512689f-11a7-452e-96dd-15096915662c",
      "metadata": {
        "id": "7512689f-11a7-452e-96dd-15096915662c"
      },
      "source": [
        "### Calculate the mean of each series"
      ]
    },
    {
      "cell_type": "code",
      "execution_count": null,
      "id": "42402888-9a14-4778-b05b-7604a7c000f2",
      "metadata": {
        "colab": {
          "base_uri": "https://localhost:8080/"
        },
        "id": "42402888-9a14-4778-b05b-7604a7c000f2",
        "outputId": "090ec14d-afc6-4e66-a29d-8561c67563dd"
      },
      "outputs": [
        {
          "output_type": "execute_result",
          "data": {
            "text/plain": [
              "LUXXX               -0.000400\n",
              "MSCI ARGENTINA       0.000270\n",
              "BLP ORIENTE MEDIO   -0.001390\n",
              "MSCI AUSTRALIA       0.000716\n",
              "MSCI AUSTRIA        -0.000061\n",
              "Name: mean, dtype: float64"
            ]
          },
          "metadata": {},
          "execution_count": 8
        }
      ],
      "source": [
        "means = daily_return.describe().iloc[1]\n",
        "means.head()"
      ]
    },
    {
      "cell_type": "markdown",
      "id": "8f665899-3c30-44e1-98e0-0a7dbb16f83f",
      "metadata": {
        "id": "8f665899-3c30-44e1-98e0-0a7dbb16f83f"
      },
      "source": [
        "### Calculate the trimmed mean of each series, where trim=5%"
      ]
    },
    {
      "cell_type": "code",
      "execution_count": null,
      "id": "b17be573-bf08-4243-bf95-7374a955fad0",
      "metadata": {
        "colab": {
          "base_uri": "https://localhost:8080/"
        },
        "id": "b17be573-bf08-4243-bf95-7374a955fad0",
        "outputId": "b59ccb45-d700-4ca0-b64d-c6dcfaf96b31"
      },
      "outputs": [
        {
          "output_type": "execute_result",
          "data": {
            "text/plain": [
              "MSCI ARGENTINA       0.003069\n",
              "BLP ORIENTE MEDIO   -0.000764\n",
              "MSCI AUSTRALIA       0.001738\n",
              "MSCI AUSTRIA         0.000881\n",
              "MSCI BELGIUM        -0.000099\n",
              "dtype: float64"
            ]
          },
          "metadata": {},
          "execution_count": 9
        }
      ],
      "source": [
        "cols = list(dataset.columns)[1:]\n",
        "trimmed_means = []\n",
        "for col in cols:\n",
        "    trimmed_means.append(stats.trim_mean(daily_return[col],0.05))\n",
        "\n",
        "trimmedMeans = pd.Series(trimmed_means, cols)\n",
        "trimmedMeans.head()"
      ]
    },
    {
      "cell_type": "markdown",
      "id": "9427c6f5-1d33-4f35-b340-4713e9a0266e",
      "metadata": {
        "id": "9427c6f5-1d33-4f35-b340-4713e9a0266e"
      },
      "source": [
        "### Calculate the trimmed mean of each series, where trim=50%.  This is also called the median"
      ]
    },
    {
      "cell_type": "code",
      "execution_count": null,
      "id": "cfa88bc4-bf95-4e53-8b06-94fe1f6e016e",
      "metadata": {
        "colab": {
          "base_uri": "https://localhost:8080/"
        },
        "id": "cfa88bc4-bf95-4e53-8b06-94fe1f6e016e",
        "outputId": "f4c74c22-32e3-4f17-8297-3ed2879b086b"
      },
      "outputs": [
        {
          "output_type": "execute_result",
          "data": {
            "text/plain": [
              "LUXXX                0.000280\n",
              "MSCI ARGENTINA       0.001163\n",
              "BLP ORIENTE MEDIO   -0.000495\n",
              "MSCI AUSTRALIA       0.002233\n",
              "MSCI AUSTRIA         0.000000\n",
              "Name: 50%, dtype: float64"
            ]
          },
          "metadata": {},
          "execution_count": 10
        }
      ],
      "source": [
        "medians = daily_return.describe().iloc[5]\n",
        "medians.head()"
      ]
    },
    {
      "cell_type": "markdown",
      "id": "dadf40d3-d6ac-4539-9874-564b1f93b755",
      "metadata": {
        "tags": [],
        "id": "dadf40d3-d6ac-4539-9874-564b1f93b755"
      },
      "source": [
        "### Using subjective weights, apply 3 probabilities (that sum to 1) for each of the 3 averages"
      ]
    },
    {
      "cell_type": "code",
      "source": [
        "random.random()"
      ],
      "metadata": {
        "colab": {
          "base_uri": "https://localhost:8080/"
        },
        "id": "D1yQqs48FXZA",
        "outputId": "cdaf47a7-bb74-4c88-e329-6b99ff8e0df1"
      },
      "id": "D1yQqs48FXZA",
      "execution_count": null,
      "outputs": [
        {
          "output_type": "execute_result",
          "data": {
            "text/plain": [
              "0.6980070919013772"
            ]
          },
          "metadata": {},
          "execution_count": 11
        }
      ]
    },
    {
      "cell_type": "code",
      "execution_count": null,
      "id": "29e0b88b-40c1-4dc6-88a2-ef2bd7c2b403",
      "metadata": {
        "colab": {
          "base_uri": "https://localhost:8080/"
        },
        "id": "29e0b88b-40c1-4dc6-88a2-ef2bd7c2b403",
        "outputId": "c667a96d-9905-4453-f882-cb1cd169b545"
      },
      "outputs": [
        {
          "output_type": "stream",
          "name": "stdout",
          "text": [
            "[0.355817527496493, 0.4299094823820581, 0.21427299012144888]\n",
            "0.4858042186163367\n"
          ]
        }
      ],
      "source": [
        "weights = [random.random() for i in range(3)]\n",
        "s = sum(weights)\n",
        "weights = [ i/s for i in weights ]\n",
        "print(weights)\n",
        "print(s)"
      ]
    },
    {
      "cell_type": "markdown",
      "id": "5ee4a063-d78a-4cd3-a552-eb302c92af46",
      "metadata": {
        "id": "5ee4a063-d78a-4cd3-a552-eb302c92af46"
      },
      "source": [
        "### Rank the series, from highest expected return to lowest expected return using your weighted factor"
      ]
    },
    {
      "cell_type": "code",
      "execution_count": null,
      "id": "77091361-6e5e-4aa3-b347-505840ad272e",
      "metadata": {
        "colab": {
          "base_uri": "https://localhost:8080/"
        },
        "id": "77091361-6e5e-4aa3-b347-505840ad272e",
        "outputId": "4645e53c-3bdf-4906-a05c-8275b155030f"
      },
      "outputs": [
        {
          "output_type": "stream",
          "name": "stdout",
          "text": [
            "MSCI NEW ZEALAND    0.002569\n",
            "MSCI CANADA         0.002825\n",
            "MSCI EM ASIA        0.002864\n",
            "MSCI RUSSIA         0.003053\n",
            "MSCI DENMARK        0.003087\n",
            "dtype: float64\n",
            "MSCI BELGIUM        -0.000064\n",
            "BLP ORIENTE MEDIO    0.000017\n",
            "MSCI AUSTRALIA       0.000147\n",
            "MSCI SPAIN           0.000304\n",
            "MSCI NETHERLANDS     0.000551\n",
            "dtype: float64\n"
          ]
        }
      ],
      "source": [
        "avgReturns = []\n",
        "for i in range(len(cols)):\n",
        "    avgReturns.append(weights[0]*means[i]+weights[1]*trimmedMeans[i]+weights[2]*medians[i])\n",
        "\n",
        "returnSeries = pd.Series(avgReturns, index = cols)\n",
        "print(returnSeries.sort_values().tail())\n",
        "print(returnSeries.sort_values().head())"
      ]
    },
    {
      "cell_type": "markdown",
      "id": "a68bc529-94f3-4ac6-a998-e44b0b879471",
      "metadata": {
        "id": "a68bc529-94f3-4ac6-a998-e44b0b879471"
      },
      "source": [
        "### Summarize the data series, using 3 methods"
      ]
    },
    {
      "cell_type": "markdown",
      "id": "e1129657-1242-4679-a701-3f25ddf2eebd",
      "metadata": {
        "id": "e1129657-1242-4679-a701-3f25ddf2eebd"
      },
      "source": [
        "### For the log return series, compute a EWMA"
      ]
    },
    {
      "cell_type": "code",
      "execution_count": null,
      "id": "1c4657dd-16da-422d-90cd-10e53cd0deff",
      "metadata": {
        "colab": {
          "base_uri": "https://localhost:8080/"
        },
        "id": "1c4657dd-16da-422d-90cd-10e53cd0deff",
        "outputId": "1d8894d3-2c02-4060-face-291b86d90fea"
      },
      "outputs": [
        {
          "output_type": "stream",
          "name": "stdout",
          "text": [
            "MSCI ARGENTINA           -0.001762\n",
            "BLP ORIENTE MEDIO        -0.002220\n",
            "MSCI AUSTRALIA            0.000150\n",
            "MSCI AUSTRIA             -0.001110\n",
            "MSCI BELGIUM             -0.002043\n",
            "MSCI BRAZIL               0.000991\n",
            "MSCI CANADA               0.000642\n",
            "MSCI CHINA                0.001692\n",
            "MSCI DENMARK              0.000935\n",
            "MSCI EM ASIA              0.001414\n",
            "MSCI EM EU-MIDE-AFRICA   -0.000319\n",
            "MSCI EM EUROPE           -0.000119\n",
            "MSCI EM LATIN AMERICA    -0.000135\n",
            "MSCI FINLAND              0.000184\n",
            "MSCI FRANCE               0.000077\n",
            "MSCI GERMANY             -0.000264\n",
            "MSCI HONG KONG            0.000232\n",
            "MSCI INDIA                0.001126\n",
            "MSCI ITALY               -0.001176\n",
            "MSCI JAPAN               -0.000152\n",
            "MSCI KOREA                0.001192\n",
            "MSCI MEXICO              -0.001765\n",
            "MSCI NETHERLANDS          0.001139\n",
            "MSCI NEW ZEALAND          0.002017\n",
            "MSCI NORWAY               0.000074\n",
            "MSCI PERU                 0.001302\n",
            "MSCI RUSSIA               0.000995\n",
            "MSCI SINGAPORE           -0.000678\n",
            "MSCI SOUTH AFRICA        -0.000137\n",
            "MSCI SPAIN               -0.001460\n",
            "MSCI SWEDEN               0.000747\n",
            "MSCI SWITZERLAND          0.000394\n",
            "MSCI UK                  -0.000578\n",
            "MSCI USA                  0.001871\n",
            "Name: mean, dtype: float64\n"
          ]
        }
      ],
      "source": [
        "logReturns = pd.DataFrame()\n",
        "for col in cols:\n",
        "    logReturns = pd.concat([logReturns, np.log(dataset[col]) - np.log(dataset[col].shift(1))], axis=1)\n",
        "logReturns = logReturns.iloc[1: , :]\n",
        "\n",
        "ewm = logReturns.ewm(span = 5).mean().describe().iloc[1]\n",
        "print(ewm)"
      ]
    },
    {
      "cell_type": "markdown",
      "id": "0a420d47-790e-494d-bcaa-157bf680d5e6",
      "metadata": {
        "id": "0a420d47-790e-494d-bcaa-157bf680d5e6"
      },
      "source": [
        "### For the log series, run a GARCH(1,1) model"
      ]
    },
    {
      "cell_type": "code",
      "execution_count": null,
      "id": "11a095e4-e1c9-4a4c-a94e-1d859b5290c1",
      "metadata": {
        "colab": {
          "base_uri": "https://localhost:8080/"
        },
        "id": "11a095e4-e1c9-4a4c-a94e-1d859b5290c1",
        "outputId": "b34d2fa4-5e18-428b-ec2c-eaa13603ca7b"
      },
      "outputs": [
        {
          "output_type": "execute_result",
          "data": {
            "text/plain": [
              "MSCI ARGENTINA           -4.073611e+14\n",
              "BLP ORIENTE MEDIO         4.040474e+01\n",
              "MSCI AUSTRALIA            4.029503e+00\n",
              "MSCI AUSTRIA              1.238640e+01\n",
              "MSCI BELGIUM              1.262373e+01\n",
              "MSCI BRAZIL               2.093890e+01\n",
              "MSCI CANADA               4.654933e+00\n",
              "MSCI CHINA                7.918123e+00\n",
              "MSCI DENMARK              6.201700e+00\n",
              "MSCI EM ASIA              5.651085e+00\n",
              "MSCI EM EU-MIDE-AFRICA    8.406512e+00\n",
              "MSCI EM EUROPE            9.595684e+00\n",
              "MSCI EM LATIN AMERICA     1.358241e+01\n",
              "MSCI FINLAND              9.851981e+00\n",
              "MSCI FRANCE               7.733309e+00\n",
              "MSCI GERMANY              8.192901e+00\n",
              "MSCI HONG KONG            5.534642e+00\n",
              "MSCI INDIA                4.515900e+00\n",
              "MSCI ITALY                2.222975e+01\n",
              "MSCI JAPAN                8.130849e+00\n",
              "MSCI KOREA                5.581875e+00\n",
              "MSCI MEXICO               1.291461e+01\n",
              "MSCI NETHERLANDS          8.573152e+00\n",
              "MSCI NEW ZEALAND          5.311043e+00\n",
              "MSCI NORWAY               4.514997e+00\n",
              "MSCI PERU                 1.123646e+01\n",
              "MSCI RUSSIA               1.234683e+01\n",
              "MSCI SINGAPORE            4.860337e+00\n",
              "MSCI SOUTH AFRICA         7.741101e+00\n",
              "MSCI SPAIN                1.251232e+01\n",
              "MSCI SWEDEN               6.839486e+00\n",
              "MSCI SWITZERLAND          4.629160e+00\n",
              "MSCI UK                   6.974652e+00\n",
              "MSCI USA                  1.792880e+12\n",
              "dtype: float64"
            ]
          },
          "metadata": {},
          "execution_count": 15
        }
      ],
      "source": [
        "Garch_vol = []\n",
        "for col in cols:\n",
        "    model = arch_model(100*logReturns[col], p=1, q=1, vol=\"GARCH\")\n",
        "    model_fit = model.fit(update_freq=0, show_warning = False, disp=\"off\")\n",
        "    vol = model_fit.params[\"omega\"] / (1 - model_fit.params[\"alpha[1]\"] - model_fit.params[\"beta[1]\"])\n",
        "    Garch_vol.append(vol)\n",
        "Garch_vol = pd.Series(Garch_vol, index = cols)\n",
        "Garch_vol"
      ]
    },
    {
      "cell_type": "markdown",
      "id": "20431433-e712-4ae8-b7fb-d303488f6ae3",
      "metadata": {
        "id": "20431433-e712-4ae8-b7fb-d303488f6ae3"
      },
      "source": [
        "### For the price series, compute the 1-month range (high price minus low price over past 4 weeks)"
      ]
    },
    {
      "cell_type": "code",
      "execution_count": null,
      "id": "d6668d01-6a29-41fc-b26f-d536d641bf2c",
      "metadata": {
        "colab": {
          "base_uri": "https://localhost:8080/"
        },
        "id": "d6668d01-6a29-41fc-b26f-d536d641bf2c",
        "outputId": "fcb205f8-2f99-4d4e-ffdf-5b3def20ad31"
      },
      "outputs": [
        {
          "output_type": "execute_result",
          "data": {
            "text/plain": [
              "LUXXX                      73.464763\n",
              "MSCI ARGENTINA            216.271285\n",
              "BLP ORIENTE MEDIO         129.575322\n",
              "MSCI AUSTRALIA             39.542570\n",
              "MSCI AUSTRIA                6.687309\n",
              "MSCI BELGIUM                3.863173\n",
              "MSCI BRAZIL               141.987912\n",
              "MSCI CANADA                58.588353\n",
              "MSCI CHINA                  4.020120\n",
              "MSCI DENMARK              336.208313\n",
              "MSCI EM ASIA               21.583976\n",
              "MSCI EM EU-MIDE-AFRICA     11.993080\n",
              "MSCI EM EUROPE             15.375663\n",
              "MSCI EM LATIN AMERICA     151.498434\n",
              "MSCI FINLAND                4.929036\n",
              "MSCI FRANCE                 5.801888\n",
              "MSCI GERMANY                6.020321\n",
              "MSCI HONG KONG            587.613414\n",
              "MSCI INDIA                 44.530884\n",
              "MSCI ITALY                  2.804096\n",
              "MSCI JAPAN                 40.108755\n",
              "MSCI KOREA                 26.351446\n",
              "MSCI MEXICO               283.404297\n",
              "MSCI NETHERLANDS            5.475783\n",
              "MSCI NEW ZEALAND            5.517791\n",
              "MSCI NORWAY                98.375944\n",
              "MSCI PERU                  79.241285\n",
              "MSCI RUSSIA                36.466747\n",
              "MSCI SINGAPORE             57.839557\n",
              "MSCI SOUTH AFRICA          60.261044\n",
              "MSCI SPAIN                  4.875944\n",
              "MSCI SWEDEN               507.136185\n",
              "MSCI SWITZERLAND           38.137711\n",
              "MSCI UK                    66.795582\n",
              "MSCI USA                   95.361285\n",
              "Name: mean, dtype: float64"
            ]
          },
          "metadata": {},
          "execution_count": 16
        }
      ],
      "source": [
        "# warnings.simplefilter(action='ignore', category=FutureWarning)\n",
        "OneMonthRanges = dataset.rolling(4).max() - dataset.rolling(4).min()\n",
        "\n",
        "OneMonthRanges = OneMonthRanges.describe().iloc[1]\n",
        "OneMonthRanges"
      ]
    },
    {
      "cell_type": "markdown",
      "id": "51319b43-2064-4983-b3fb-2df223cdf35f",
      "metadata": {
        "id": "51319b43-2064-4983-b3fb-2df223cdf35f"
      },
      "source": [
        "### Using subjective weights, apply 3 probabilities (that sum to 1) for each of the 3 vol measures"
      ]
    },
    {
      "cell_type": "code",
      "execution_count": null,
      "id": "754e1f73-cc74-407c-b818-c5d01789538d",
      "metadata": {
        "colab": {
          "base_uri": "https://localhost:8080/"
        },
        "id": "754e1f73-cc74-407c-b818-c5d01789538d",
        "outputId": "06c66cd0-e046-486b-aea8-1f06a8607214"
      },
      "outputs": [
        {
          "output_type": "stream",
          "name": "stdout",
          "text": [
            "sum of weights:  1.0\n",
            "weights:  [0.355817527496493, 0.4299094823820581, 0.21427299012144888]\n",
            "weights:  [0.355817527496493, 0.4299094823820581, 0.21427299012144888]\n"
          ]
        }
      ],
      "source": [
        "volweights = [random.random() for i in range(3)]\n",
        "s = sum(weights)\n",
        "volweights = [ i/s for i in weights ] #probability\n",
        "print('sum of weights: ', sum(volweights))\n",
        "print('weights: ', volweights)\n",
        "print('weights: ', volweights) #probability"
      ]
    },
    {
      "cell_type": "markdown",
      "id": "388a6494-dfbb-456d-bee9-5d7af032160c",
      "metadata": {
        "id": "388a6494-dfbb-456d-bee9-5d7af032160c"
      },
      "source": [
        "### Rank the series, from highest volatility to lowest volatility using your weighted factor.  For GARCH, use the unconditional variance as the average.  For EWMA and hi-minus-low, you may average the time series of volatilities to be able to get single-number summaries for each model."
      ]
    },
    {
      "cell_type": "code",
      "execution_count": null,
      "id": "d7e5b172-b849-496c-80df-ce57fa0ff716",
      "metadata": {
        "colab": {
          "base_uri": "https://localhost:8080/"
        },
        "id": "d7e5b172-b849-496c-80df-ce57fa0ff716",
        "outputId": "c7fd5a6b-194a-45de-ab4d-74c5e7f47d63"
      },
      "outputs": [
        {
          "output_type": "stream",
          "name": "stdout",
          "text": [
            "MSCI NETHERLANDS    6.441197e+01\n",
            "MSCI EM ASIA        7.447032e+01\n",
            "MSCI SWITZERLAND    1.106558e+02\n",
            "MSCI INDIA          1.278515e+02\n",
            "MSCI USA            7.707761e+11\n",
            "dtype: float64\n",
            "MSCI ARGENTINA     -1.751284e+14\n",
            "MSCI NORWAY         3.123380e+00\n",
            "MSCI NEW ZEALAND    3.457298e+00\n",
            "MSCI DENMARK        3.527906e+00\n",
            "MSCI HONG KONG      3.669470e+00\n",
            "dtype: float64\n"
          ]
        }
      ],
      "source": [
        "avgVols = []\n",
        "for i in range(len(cols)):\n",
        "    avgVols.append(volweights[0]*ewm[i]+volweights[1]*Garch_vol[i]+volweights[2]*OneMonthRanges[i])\n",
        "\n",
        "volSeries = pd.Series(avgVols, index = cols)\n",
        "print(volSeries.sort_values().tail())\n",
        "print(volSeries.sort_values().head())"
      ]
    },
    {
      "cell_type": "markdown",
      "id": "298bef2b-b04d-4c2f-a566-5e5a2802d33f",
      "metadata": {
        "id": "298bef2b-b04d-4c2f-a566-5e5a2802d33f"
      },
      "source": [
        "### Write a Python function to compute a heat map of the correlations."
      ]
    },
    {
      "cell_type": "code",
      "execution_count": null,
      "id": "799079e9-ea29-48d8-bbcf-e24615bc2ca7",
      "metadata": {
        "colab": {
          "base_uri": "https://localhost:8080/"
        },
        "id": "799079e9-ea29-48d8-bbcf-e24615bc2ca7",
        "outputId": "3bc2e36c-ef02-4ca4-8607-09ffead062ce"
      },
      "outputs": [
        {
          "output_type": "display_data",
          "data": {
            "text/plain": [
              "<Figure size 720x432 with 2 Axes>"
            ],
            "image/png": "[encoded data removed]"
          },
          "metadata": {}
        }
      ],
      "source": [
        "def plot():\n",
        "  plt.style.use('ggplot')\n",
        "  plt.rcParams['figure.figsize'] = 10, 6\n",
        "  plt.rcParams['axes.facecolor'] = \"0.92\"\n",
        "  cmap=LinearSegmentedColormap.from_list('br',[\"b\", \"w\", \"r\"], N=256)\n",
        "  sns.heatmap(logReturns.corr().corr(), cmap = cmap)\n",
        "  plt.show()\n",
        "plot()\n"
      ]
    },
    {
      "cell_type": "markdown",
      "id": "571c06ed-9c4b-4c0b-8ed6-9d2d8e63ae49",
      "metadata": {
        "id": "571c06ed-9c4b-4c0b-8ed6-9d2d8e63ae49"
      },
      "source": [
        "### Calculate the Euclidean distance matrix for all 35 series"
      ]
    },
    {
      "cell_type": "code",
      "execution_count": null,
      "id": "b21ef6f0-f4cd-4f6e-95c9-9d6eb638769b",
      "metadata": {
        "colab": {
          "base_uri": "https://localhost:8080/"
        },
        "id": "b21ef6f0-f4cd-4f6e-95c9-9d6eb638769b",
        "outputId": "9fd96744-a7c4-4a43-9c2d-36f7fe23210e"
      },
      "outputs": [
        {
          "output_type": "stream",
          "name": "stdout",
          "text": [
            "[[0.         0.95089984 0.90563871 ... 0.89167977 0.85376424 0.        ]\n",
            " [0.95089984 0.         0.51493432 ... 0.50007701 0.52148883 0.        ]\n",
            " [0.90563871 0.51493432 0.         ... 0.32444197 0.31482655 0.        ]\n",
            " ...\n",
            " [0.89167977 0.50007701 0.32444197 ... 0.         0.30411319 0.        ]\n",
            " [0.85376424 0.52148883 0.31482655 ... 0.30411319 0.         0.        ]\n",
            " [0.         0.         0.         ... 0.         0.         0.        ]]\n"
          ]
        }
      ],
      "source": [
        "euclid = np.zeros((35,35))\n",
        "def euclidean_distance(x, y):\n",
        "    return np.linalg.norm(x.values-y.values)\n",
        "for i in range(35):\n",
        "    for j in range(i+1, 34):\n",
        "        euclid[i,j] = euclid[j,i] = euclidean_distance(logReturns.iloc[:,i], logReturns.iloc[:,j])\n",
        "\n",
        "print(euclid)"
      ]
    },
    {
      "cell_type": "markdown",
      "id": "02bff77e-a69e-490e-aa56-94a8557f9748",
      "metadata": {
        "id": "02bff77e-a69e-490e-aa56-94a8557f9748"
      },
      "source": [
        "### Run a k-means cluster on the 35 return series"
      ]
    },
    {
      "cell_type": "code",
      "execution_count": null,
      "id": "bea8ae2c-3573-41d6-9d8c-665b97fef67f",
      "metadata": {
        "colab": {
          "base_uri": "https://localhost:8080/"
        },
        "id": "bea8ae2c-3573-41d6-9d8c-665b97fef67f",
        "outputId": "968afdad-e294-4d9a-da72-fd7fb9775f7f"
      },
      "outputs": [
        {
          "output_type": "display_data",
          "data": {
            "text/plain": [
              "<Figure size 720x432 with 1 Axes>"
            ],
            "image/png": "[encoded data removed]"
          },
          "metadata": {}
        }
      ],
      "source": [
        "series_features = logReturns.T\n",
        "kmeans = KMeans(n_clusters=10)\n",
        "kmeans.fit(series_features)\n",
        "X = logReturns.mean()\n",
        "Y = logReturns.std()\n",
        "\n",
        "plt.scatter(X, Y, c= kmeans.labels_)\n",
        "plt.xlabel(\"Avg. daily return\")\n",
        "plt.ylabel(\"Return Std\")\n",
        "plt.show()\n"
      ]
    },
    {
      "cell_type": "markdown",
      "id": "c4bca6fa-5e71-4e33-a9a1-6f8fd22666c5",
      "metadata": {
        "id": "c4bca6fa-5e71-4e33-a9a1-6f8fd22666c5"
      },
      "source": [
        "### Justify your choice of k"
      ]
    },
    {
      "cell_type": "code",
      "execution_count": null,
      "id": "d0f2d0ea-944f-4a34-b543-c8d3c773041e",
      "metadata": {
        "id": "d0f2d0ea-944f-4a34-b543-c8d3c773041e"
      },
      "outputs": [],
      "source": [
        "wss = {}\n",
        "for i in range(2,20):\n",
        "    kmeans = KMeans(n_clusters=i)\n",
        "    kmeans.fit(series_features)\n",
        "    wss[i] = kmeans.inertia_\n"
      ]
    },
    {
      "cell_type": "code",
      "execution_count": null,
      "id": "df1c393b-783c-4487-b7c7-67c7ad31bc36",
      "metadata": {
        "colab": {
          "base_uri": "https://localhost:8080/"
        },
        "id": "df1c393b-783c-4487-b7c7-67c7ad31bc36",
        "outputId": "44b8be3b-6bb9-411c-8670-f971c7652613"
      },
      "outputs": [
        {
          "output_type": "display_data",
          "data": {
            "text/plain": [
              "<Figure size 720x432 with 1 Axes>"
            ],
            "image/png": "[encoded data removed]"
          },
          "metadata": {}
        }
      ],
      "source": [
        "plt.plot(list(wss.keys()), list(wss.values()))\n",
        "plt.plot(10, wss[10], marker=11)\n",
        "plt.xlabel(\"No. of clusters\")\n",
        "plt.ylabel(\"WSS\")\n",
        "plt.show()\n"
      ]
    },
    {
      "cell_type": "markdown",
      "id": "e224e579-6f91-4a60-8ba1-eca10ca4fcd9",
      "metadata": {
        "id": "e224e579-6f91-4a60-8ba1-eca10ca4fcd9"
      },
      "source": [
        "10 clusters seems like a good trade off between the WSS and number of clusters. Too many clusters would lead to overfitting, whereas too few will lead to an inaccurate model."
      ]
    },
    {
      "cell_type": "markdown",
      "id": "0dadda71-f026-43e3-8e19-f398913ef6e2",
      "metadata": {
        "id": "0dadda71-f026-43e3-8e19-f398913ef6e2"
      },
      "source": [
        "### Normalize each data series. Subtract each series by the weighted average from part 2.4.  Then divide this difference by the weighted volatility from part 3.4"
      ]
    },
    {
      "cell_type": "code",
      "execution_count": null,
      "id": "8a902f69-8d7f-4609-9433-9f8712623e98",
      "metadata": {
        "id": "8a902f69-8d7f-4609-9433-9f8712623e98"
      },
      "outputs": [],
      "source": [
        "x = logReturns.values\n",
        "standard_scaler = preprocessing.StandardScaler()\n",
        "x_scaled = standard_scaler.fit_transform(x)\n",
        "df_new = pd.DataFrame(x_scaled)"
      ]
    },
    {
      "cell_type": "markdown",
      "id": "e6585070-200a-4fae-bd8d-afa3a458c547",
      "metadata": {
        "id": "e6585070-200a-4fae-bd8d-afa3a458c547"
      },
      "source": [
        "### Using the normalized data series, re-calculate the Euclidean distance matrix for all 35 series"
      ]
    },
    {
      "cell_type": "code",
      "execution_count": null,
      "id": "c7fb88b6-266d-4b61-a9c1-4f238540c678",
      "metadata": {
        "id": "c7fb88b6-266d-4b61-a9c1-4f238540c678",
        "outputId": "b3cd3c1a-9ede-45cc-e37c-d34d25557aa9",
        "colab": {
          "base_uri": "https://localhost:8080/"
        }
      },
      "outputs": [
        {
          "output_type": "execute_result",
          "data": {
            "text/plain": [
              "array([[ 0.        , 18.65713533, 17.79574501, ..., 17.31013651,\n",
              "        15.97742461,  0.        ],\n",
              "       [18.65713533,  0.        , 18.18418918, ..., 17.46244568,\n",
              "        17.7218315 ,  0.        ],\n",
              "       [17.79574501, 18.18418918,  0.        , ..., 14.09618022,\n",
              "        13.01967757,  0.        ],\n",
              "       ...,\n",
              "       [17.31013651, 17.46244568, 14.09618022, ...,  0.        ,\n",
              "        12.33501825,  0.        ],\n",
              "       [15.97742461, 17.7218315 , 13.01967757, ..., 12.33501825,\n",
              "         0.        ,  0.        ],\n",
              "       [ 0.        ,  0.        ,  0.        , ...,  0.        ,\n",
              "         0.        ,  0.        ]])"
            ]
          },
          "metadata": {},
          "execution_count": 25
        }
      ],
      "source": [
        "euclid_new = np.zeros((35,35))\n",
        "for i in range(35):\n",
        "    for j in range(i+1, 34):\n",
        "        euclid_new[i,j] = euclid_new[j,i] = euclidean_distance(df_new.iloc[:,i], df_new.iloc[:,j])\n",
        "    \n",
        "euclid_new"
      ]
    },
    {
      "cell_type": "markdown",
      "id": "a19dee8e-2d30-416e-b5a6-772422ff566c",
      "metadata": {
        "id": "a19dee8e-2d30-416e-b5a6-772422ff566c"
      },
      "source": [
        "### Using the normalized data series, run a k-means cluster on the 35 transformed variables"
      ]
    },
    {
      "cell_type": "code",
      "execution_count": null,
      "id": "c3e487c4-df72-4fae-8b2c-0105f4ff70be",
      "metadata": {
        "id": "c3e487c4-df72-4fae-8b2c-0105f4ff70be",
        "outputId": "8c6e8936-9702-4381-f1a3-e971326ee803",
        "colab": {
          "base_uri": "https://localhost:8080/"
        }
      },
      "outputs": [
        {
          "output_type": "display_data",
          "data": {
            "text/plain": [
              "<Figure size 720x432 with 1 Axes>"
            ],
            "image/png": "[encoded data removed]"
          },
          "metadata": {}
        }
      ],
      "source": [
        "series_features_new = df_new.T\n",
        "kmeans_new = KMeans(n_clusters=5)\n",
        "kmeans_new.fit(series_features_new)\n",
        "\n",
        "X = logReturns.mean()\n",
        "Y = logReturns.std()\n",
        "\n",
        "plt.scatter(X, Y, c= kmeans_new.labels_)\n",
        "plt.xlabel(\"Avg. daily return\")\n",
        "plt.ylabel(\"Return Std\")\n",
        "plt.show()\n"
      ]
    },
    {
      "cell_type": "markdown",
      "id": "d3642773-0740-498a-bbd5-a2ba3c66bbf6",
      "metadata": {
        "id": "d3642773-0740-498a-bbd5-a2ba3c66bbf6"
      },
      "source": [
        "### Justify your choice of k"
      ]
    },
    {
      "cell_type": "code",
      "execution_count": null,
      "id": "f5b9ec5b-d3aa-4c97-b9f8-4d71f8c82f82",
      "metadata": {
        "id": "f5b9ec5b-d3aa-4c97-b9f8-4d71f8c82f82",
        "outputId": "a3017c36-30e0-420b-962d-02a886d6e3eb",
        "colab": {
          "base_uri": "https://localhost:8080/"
        }
      },
      "outputs": [
        {
          "output_type": "display_data",
          "data": {
            "text/plain": [
              "<Figure size 720x432 with 1 Axes>"
            ],
            "image/png": "[encoded data removed]"
          },
          "metadata": {}
        }
      ],
      "source": [
        "wss_new = {}\n",
        "for i in range(2,20):\n",
        "    kmeans_new = KMeans(n_clusters=i)\n",
        "    kmeans_new.fit(series_features_new)\n",
        "    wss_new[i] = kmeans_new.inertia_/(i)\n",
        "\n",
        "plt.plot(list(wss_new.keys()), list(wss_new.values()))\n",
        "plt.plot(5, wss_new[5], marker=11)\n",
        "plt.xlabel(\"No. of clusters\")\n",
        "plt.ylabel(\"WSS\")\n",
        "plt.show()"
      ]
    },
    {
      "cell_type": "markdown",
      "id": "82b63f5e-ce12-45f2-a39b-18e2ff7fb63e",
      "metadata": {
        "id": "82b63f5e-ce12-45f2-a39b-18e2ff7fb63e"
      },
      "source": [
        "This shows a much better trade off, with 5 clusters being enough to reduce the WSS."
      ]
    },
    {
      "cell_type": "markdown",
      "id": "69648571-72d5-4839-b608-a09b909ec03e",
      "metadata": {
        "id": "69648571-72d5-4839-b608-a09b909ec03e"
      },
      "source": [
        "### Were the 2 k values the same?"
      ]
    },
    {
      "cell_type": "markdown",
      "id": "b744188a-70db-43a1-a2ea-4e4569d99412",
      "metadata": {
        "id": "b744188a-70db-43a1-a2ea-4e4569d99412"
      },
      "source": [
        "The standardized data was able to use a lower k-value to show an improved amount of clustering with fewer clusters."
      ]
    },
    {
      "cell_type": "markdown",
      "id": "75e47c81-6f26-4530-bb75-7f8d7286e5d2",
      "metadata": {
        "id": "75e47c81-6f26-4530-bb75-7f8d7286e5d2"
      },
      "source": [
        "### Did the grouping of the series change as a result of your normalization?"
      ]
    },
    {
      "cell_type": "code",
      "execution_count": null,
      "id": "46063f22-582a-412a-b726-07bb1a72e9dc",
      "metadata": {
        "id": "46063f22-582a-412a-b726-07bb1a72e9dc",
        "outputId": "3dbdff53-60ab-4465-c924-284bb223248c",
        "colab": {
          "base_uri": "https://localhost:8080/"
        }
      },
      "outputs": [
        {
          "output_type": "stream",
          "name": "stdout",
          "text": [
            "[3 2 0 1 1 3 0 4 1 4 3 3 3 1 1 1 4 3 1 1 4 3 1 0 1 3 3 4 4 1 1 1 1 0]\n",
            "[ 6  7  5 16 13  1 14  3 17  3  8  8  1 13 13 13  3 10  0 15  4  9 13 12\n",
            "  2 11  8  4 18  0 13  2  2 14]\n"
          ]
        }
      ],
      "source": [
        "kmeans_new = KMeans(n_clusters = 5)\n",
        "kmeans_new.fit(series_features_new)\n",
        "print(kmeans_new.labels_)\n",
        "print(kmeans.labels_)"
      ]
    },
    {
      "cell_type": "markdown",
      "id": "a81bb32e-d791-4d3b-82d0-9ea4e13166a2",
      "metadata": {
        "id": "a81bb32e-d791-4d3b-82d0-9ea4e13166a2"
      },
      "source": [
        "We can see that the labels did indeed change and this is obvious from the scatter plot."
      ]
    },
    {
      "cell_type": "markdown",
      "id": "49ffba93-aaaa-45ab-85b1-5015f06ffcca",
      "metadata": {
        "id": "49ffba93-aaaa-45ab-85b1-5015f06ffcca"
      },
      "source": [
        "### Choose one of the 35 variables to serve as your response variable (e.g. LUXXX).  You may choose the same one that your group used in the previous assignment."
      ]
    },
    {
      "cell_type": "code",
      "execution_count": null,
      "id": "67016ce1-c187-45c1-a574-9b478586a582",
      "metadata": {
        "id": "67016ce1-c187-45c1-a574-9b478586a582"
      },
      "outputs": [],
      "source": [
        "luxx = dataset['LUXXX']"
      ]
    },
    {
      "cell_type": "markdown",
      "id": "db7289ad-7f5d-42a5-83b3-0080a7af8bb3",
      "metadata": {
        "id": "db7289ad-7f5d-42a5-83b3-0080a7af8bb3"
      },
      "source": [
        "### The goal is to explain (not predict) the value of your response at time t, given the other 34 variables at time t.  DO NOT USE the response at time T + 1.  "
      ]
    },
    {
      "cell_type": "code",
      "execution_count": null,
      "id": "51423584-9630-4a3e-a8fa-92ba6ad7556a",
      "metadata": {
        "id": "51423584-9630-4a3e-a8fa-92ba6ad7556a",
        "outputId": "59eb44dd-57c8-476e-d3c3-f8a0015d5666",
        "colab": {
          "base_uri": "https://localhost:8080/"
        }
      },
      "outputs": [
        {
          "output_type": "execute_result",
          "data": {
            "text/plain": [
              "array([-6.78963165e-02,  3.01817582e-02,  1.30307560e-02,  1.72983030e+00,\n",
              "        2.35176154e+00, -4.66692641e-01,  3.87152693e-01, -3.92906314e+00,\n",
              "        3.66339012e-02,  2.14198411e+00,  1.10562391e+00, -1.63739219e+00,\n",
              "        6.32161834e-01, -7.13861510e-01, -1.58435916e+00,  6.67116958e+00,\n",
              "       -3.23353094e-02, -4.81720919e-01, -1.41739712e+01,  3.45621150e-01,\n",
              "       -8.60864584e-01, -2.30265280e-02, -5.75355294e+00,  8.27983013e-01,\n",
              "       -4.52970517e-03,  8.71589939e-02,  7.07703064e-02,  2.01451702e-01,\n",
              "       -3.04657632e-01,  8.04377690e+00,  4.73772946e-02, -6.37792863e-01,\n",
              "        7.36385678e-02, -2.55124505e-03])"
            ]
          },
          "metadata": {},
          "execution_count": 30
        }
      ],
      "source": [
        "X = dataset.iloc[:, 1:]\n",
        "\n",
        "linreg= LinearRegression()\n",
        "linreg.fit(X, luxx)\n",
        "linreg.coef_\n"
      ]
    },
    {
      "cell_type": "markdown",
      "id": "e7f696fd-07ce-4a0d-b8d8-0e4f90562313",
      "metadata": {
        "id": "e7f696fd-07ce-4a0d-b8d8-0e4f90562313"
      },
      "source": [
        "### What is the difference between unsupervised learning and supervised learning?"
      ]
    },
    {
      "cell_type": "markdown",
      "id": "ae0cefdc-4c91-4a0a-bb3b-519ff8bd1140",
      "metadata": {
        "id": "ae0cefdc-4c91-4a0a-bb3b-519ff8bd1140"
      },
      "source": [
        "Unsupervised learning does not have any labels or \"y\" variables. It generates a model/detects a pattern without knowing the correct outputs. This is used to get insights from larger datasets."
      ]
    },
    {
      "cell_type": "markdown",
      "id": "2d05c4ef-b9bf-4e4f-aafb-76905620b064",
      "metadata": {
        "id": "2d05c4ef-b9bf-4e4f-aafb-76905620b064"
      },
      "source": [
        "Supervised learning does have labels or \"y\" variables. It uses these labels to train a model and predict labels/outputs for data outside of our training data. Its aim is to extrapolate/estimate the outputs/labels for data it has not seen before."
      ]
    },
    {
      "cell_type": "markdown",
      "id": "f9cfb97b-3d59-4f23-8bff-b70e77296c3d",
      "metadata": {
        "id": "f9cfb97b-3d59-4f23-8bff-b70e77296c3d"
      },
      "source": [
        "### Which is clustering?  Which is CART?  Which is SVM?"
      ]
    },
    {
      "cell_type": "markdown",
      "id": "c59e2f64-035b-4af0-ad92-138ac4ee9e79",
      "metadata": {
        "id": "c59e2f64-035b-4af0-ad92-138ac4ee9e79"
      },
      "source": [
        "Clustering is a form of unsupervised learning, where the aim is to seperate our dataset into seperate clusters where the datapoints within clusters are \"similar\" to each other and datapoints between clusters are \"different\"."
      ]
    },
    {
      "cell_type": "markdown",
      "id": "d9cafd91-d1b3-49da-8d77-dd8cf4070b15",
      "metadata": {
        "id": "d9cafd91-d1b3-49da-8d77-dd8cf4070b15"
      },
      "source": [
        "CART (Classification and Regression Trees) is a tree-like, non-parametric, supervised learning model. It is used for both classificiation and regression, whose goal is to create a model that predicts the value of a target variable by learning simple decision rules inferred from the data features."
      ]
    },
    {
      "cell_type": "markdown",
      "id": "0e2e722c-2c6e-4297-9937-6a5005251823",
      "metadata": {
        "id": "0e2e722c-2c6e-4297-9937-6a5005251823"
      },
      "source": [
        "SVM (Support Vector Machines) are a set of supervised learning models also used for classification and regression. They are particularly useful in larger dimensions."
      ]
    },
    {
      "cell_type": "markdown",
      "id": "68248540-513a-4db0-ae20-5caa367785ae",
      "metadata": {
        "id": "68248540-513a-4db0-ae20-5caa367785ae"
      },
      "source": [
        "### What do the CART and SVM have in common?  Be specific as to how they cut the dimensional space"
      ]
    },
    {
      "cell_type": "markdown",
      "id": "ad4a6319-d72f-4ea5-8886-c2efe5861a70",
      "metadata": {
        "id": "ad4a6319-d72f-4ea5-8886-c2efe5861a70"
      },
      "source": [
        "Both models aim to cut the dimesnion space into sectors with the aim of classifying different groups of datapoints. CART does this by linearly creating cuts in the dataspace to seperate the points, whereas SVM's cut may involve hyperplanes and non-linear cuts."
      ]
    },
    {
      "cell_type": "markdown",
      "id": "77d09402-d41d-46ba-97aa-190f1d6d1528",
      "metadata": {
        "id": "77d09402-d41d-46ba-97aa-190f1d6d1528"
      },
      "source": [
        "### How do the CART and SVM methodologies differ?"
      ]
    },
    {
      "cell_type": "markdown",
      "id": "61d21651-f577-4c8e-99be-066403b53ab5",
      "metadata": {
        "id": "61d21651-f577-4c8e-99be-066403b53ab5"
      },
      "source": [
        "Decision trees can classify datapoints to multiple labels, whereas SVM is a binary classifier used to split the dataset into two classes."
      ]
    },
    {
      "cell_type": "markdown",
      "source": [
        "## Classification and Regression Trees (CART)"
      ],
      "metadata": {
        "id": "htwxRwnVdfHu"
      },
      "id": "htwxRwnVdfHu"
    },
    {
      "cell_type": "markdown",
      "source": [
        "Perform a **Classification Tree**, where the response is categorical:\n",
        "\n",
        "whether your return was higher or lower than the previous week.  (Ties can be ignored).  Choose a suitable depth of the tree, basing your result on cross-validation"
      ],
      "metadata": {
        "id": "uqiGCNY4dkCl"
      },
      "id": "uqiGCNY4dkCl"
    },
    {
      "cell_type": "markdown",
      "source": [
        "We use the K-Fold Cross Validation with **k** parameters equal to **5**. By using a ‘for’ loop, we will fit each model using 4 folds for training data and 1 fold for testing data, and then we will call the accuracy_score method from scikit learn to determine the accuracy of the model."
      ],
      "metadata": {
        "id": "WQwJw612D2CT"
      },
      "id": "WQwJw612D2CT"
    },
    {
      "cell_type": "code",
      "source": [
        "daily_return = dataset.pct_change(1)\n",
        "daily_return_copy = daily_return.copy()\n",
        "daily_return_copy = daily_return_copy.drop(labels='01-Jan-16', axis=0)\n",
        "\n",
        "# convert all columns of DataFrame\n",
        "daily_return_copy = daily_return_copy.apply(pd.to_numeric) # convert all columns of DataFrame\n",
        "daily_return_copy_CT = daily_return_copy\n",
        "daily_return_copy_CT.head(2)\n",
        "\n",
        "# daily_return_copy.shape"
      ],
      "metadata": {
        "colab": {
          "base_uri": "https://localhost:8080/",
          "height": 341
        },
        "id": "kqxYUuAVjmlB",
        "outputId": "8cb9f2cb-eb5e-4904-8d3e-a8625197c259"
      },
      "id": "kqxYUuAVjmlB",
      "execution_count": null,
      "outputs": [
        {
          "output_type": "execute_result",
          "data": {
            "text/plain": [
              "              LUXXX  MSCI ARGENTINA  BLP ORIENTE MEDIO  MSCI AUSTRALIA  \\\n",
              "Date                                                                     \n",
              "08-Jan-16 -0.071509       -0.048580          -0.069555       -0.059160   \n",
              "15-Jan-16 -0.026471       -0.019174          -0.049493       -0.020068   \n",
              "\n",
              "           MSCI AUSTRIA  MSCI BELGIUM  MSCI BRAZIL  MSCI CANADA  MSCI CHINA  \\\n",
              "Date                                                                          \n",
              "08-Jan-16     -0.084724     -0.057221    -0.081275    -0.046348   -0.081386   \n",
              "15-Jan-16     -0.042187     -0.020433    -0.049758    -0.028433   -0.056562   \n",
              "\n",
              "           MSCI DENMARK  ...  MSCI NORWAY  MSCI PERU  MSCI RUSSIA  \\\n",
              "Date                     ...                                        \n",
              "08-Jan-16     -0.044791  ...    -0.069017  -0.074967    -0.041213   \n",
              "15-Jan-16     -0.052214  ...    -0.051499  -0.041087    -0.112357   \n",
              "\n",
              "           MSCI SINGAPORE  MSCI SOUTH AFRICA  MSCI SPAIN  MSCI SWEDEN  \\\n",
              "Date                                                                    \n",
              "08-Jan-16       -0.046524          -0.062106   -0.068266    -0.067051   \n",
              "15-Jan-16       -0.044990          -0.037393   -0.036238    -0.033456   \n",
              "\n",
              "           MSCI SWITZERLAND   MSCI UK  MSCI USA  \n",
              "Date                                             \n",
              "08-Jan-16         -0.063629 -0.053014 -0.060430  \n",
              "15-Jan-16         -0.017939 -0.017172 -0.023102  \n",
              "\n",
              "[2 rows x 35 columns]"
            ],
            "text/html": [
              "\n",
              "  <div id=\"df-f4379621-bba9-44da-a239-5f6ce6fdf3c4\">\n",
              "    <div class=\"colab-df-container\">\n",
              "      <div>\n",
              "<style scoped>\n",
              "    .dataframe tbody tr th:only-of-type {\n",
              "        vertical-align: middle;\n",
              "    }\n",
              "\n",
              "    .dataframe tbody tr th {\n",
              "        vertical-align: top;\n",
              "    }\n",
              "\n",
              "    .dataframe thead th {\n",
              "        text-align: right;\n",
              "    }\n",
              "</style>\n",
              "<table border=\"1\" class=\"dataframe\">\n",
              "  <thead>\n",
              "    <tr style=\"text-align: right;\">\n",
              "      <th></th>\n",
              "      <th>LUXXX</th>\n",
              "      <th>MSCI ARGENTINA</th>\n",
              "      <th>BLP ORIENTE MEDIO</th>\n",
              "      <th>MSCI AUSTRALIA</th>\n",
              "      <th>MSCI AUSTRIA</th>\n",
              "      <th>MSCI BELGIUM</th>\n",
              "      <th>MSCI BRAZIL</th>\n",
              "      <th>MSCI CANADA</th>\n",
              "      <th>MSCI CHINA</th>\n",
              "      <th>MSCI DENMARK</th>\n",
              "      <th>...</th>\n",
              "      <th>MSCI NORWAY</th>\n",
              "      <th>MSCI PERU</th>\n",
              "      <th>MSCI RUSSIA</th>\n",
              "      <th>MSCI SINGAPORE</th>\n",
              "      <th>MSCI SOUTH AFRICA</th>\n",
              "      <th>MSCI SPAIN</th>\n",
              "      <th>MSCI SWEDEN</th>\n",
              "      <th>MSCI SWITZERLAND</th>\n",
              "      <th>MSCI UK</th>\n",
              "      <th>MSCI USA</th>\n",
              "    </tr>\n",
              "    <tr>\n",
              "      <th>Date</th>\n",
              "      <th></th>\n",
              "      <th></th>\n",
              "      <th></th>\n",
              "      <th></th>\n",
              "      <th></th>\n",
              "      <th></th>\n",
              "      <th></th>\n",
              "      <th></th>\n",
              "      <th></th>\n",
              "      <th></th>\n",
              "      <th></th>\n",
              "      <th></th>\n",
              "      <th></th>\n",
              "      <th></th>\n",
              "      <th></th>\n",
              "      <th></th>\n",
              "      <th></th>\n",
              "      <th></th>\n",
              "      <th></th>\n",
              "      <th></th>\n",
              "      <th></th>\n",
              "    </tr>\n",
              "  </thead>\n",
              "  <tbody>\n",
              "    <tr>\n",
              "      <th>08-Jan-16</th>\n",
              "      <td>-0.071509</td>\n",
              "      <td>-0.048580</td>\n",
              "      <td>-0.069555</td>\n",
              "      <td>-0.059160</td>\n",
              "      <td>-0.084724</td>\n",
              "      <td>-0.057221</td>\n",
              "      <td>-0.081275</td>\n",
              "      <td>-0.046348</td>\n",
              "      <td>-0.081386</td>\n",
              "      <td>-0.044791</td>\n",
              "      <td>...</td>\n",
              "      <td>-0.069017</td>\n",
              "      <td>-0.074967</td>\n",
              "      <td>-0.041213</td>\n",
              "      <td>-0.046524</td>\n",
              "      <td>-0.062106</td>\n",
              "      <td>-0.068266</td>\n",
              "      <td>-0.067051</td>\n",
              "      <td>-0.063629</td>\n",
              "      <td>-0.053014</td>\n",
              "      <td>-0.060430</td>\n",
              "    </tr>\n",
              "    <tr>\n",
              "      <th>15-Jan-16</th>\n",
              "      <td>-0.026471</td>\n",
              "      <td>-0.019174</td>\n",
              "      <td>-0.049493</td>\n",
              "      <td>-0.020068</td>\n",
              "      <td>-0.042187</td>\n",
              "      <td>-0.020433</td>\n",
              "      <td>-0.049758</td>\n",
              "      <td>-0.028433</td>\n",
              "      <td>-0.056562</td>\n",
              "      <td>-0.052214</td>\n",
              "      <td>...</td>\n",
              "      <td>-0.051499</td>\n",
              "      <td>-0.041087</td>\n",
              "      <td>-0.112357</td>\n",
              "      <td>-0.044990</td>\n",
              "      <td>-0.037393</td>\n",
              "      <td>-0.036238</td>\n",
              "      <td>-0.033456</td>\n",
              "      <td>-0.017939</td>\n",
              "      <td>-0.017172</td>\n",
              "      <td>-0.023102</td>\n",
              "    </tr>\n",
              "  </tbody>\n",
              "</table>\n",
              "<p>2 rows × 35 columns</p>\n",
              "</div>\n",
              "      <button class=\"colab-df-convert\" onclick=\"convertToInteractive('df-f4379621-bba9-44da-a239-5f6ce6fdf3c4')\"\n",
              "              title=\"Convert this dataframe to an interactive table.\"\n",
              "              style=\"display:none;\">\n",
              "        \n",
              "  <svg xmlns=\"http://www.w3.org/2000/svg\" height=\"24px\"viewBox=\"0 0 24 24\"\n",
              "       width=\"24px\">\n",
              "    <path d=\"M0 0h24v24H0V0z\" fill=\"none\"/>\n",
              "    <path d=\"M18.56 5.44l.94 2.06.94-2.06 2.06-.94-2.06-.94-.94-2.06-.94 2.06-2.06.94zm-11 1L8.5 8.5l.94-2.06 2.06-.94-2.06-.94L8.5 2.5l-.94 2.06-2.06.94zm10 10l.94 2.06.94-2.06 2.06-.94-2.06-.94-.94-2.06-.94 2.06-2.06.94z\"/><path d=\"M17.41 7.96l-1.37-1.37c-.4-.4-.92-.59-1.43-.59-.52 0-1.04.2-1.43.59L10.3 9.45l-7.72 7.72c-.78.78-.78 2.05 0 2.83L4 21.41c.39.39.9.59 1.41.59.51 0 1.02-.2 1.41-.59l7.78-7.78 2.81-2.81c.8-.78.8-2.07 0-2.86zM5.41 20L4 18.59l7.72-7.72 1.47 1.35L5.41 20z\"/>\n",
              "  </svg>\n",
              "      </button>\n",
              "      \n",
              "  <style>\n",
              "    .colab-df-container {\n",
              "      display:flex;\n",
              "      flex-wrap:wrap;\n",
              "      gap: 12px;\n",
              "    }\n",
              "\n",
              "    .colab-df-convert {\n",
              "      background-color: #E8F0FE;\n",
              "      border: none;\n",
              "      border-radius: 50%;\n",
              "      cursor: pointer;\n",
              "      display: none;\n",
              "      fill: #1967D2;\n",
              "      height: 32px;\n",
              "      padding: 0 0 0 0;\n",
              "      width: 32px;\n",
              "    }\n",
              "\n",
              "    .colab-df-convert:hover {\n",
              "      background-color: #E2EBFA;\n",
              "      box-shadow: 0px 1px 2px rgba(60, 64, 67, 0.3), 0px 1px 3px 1px rgba(60, 64, 67, 0.15);\n",
              "      fill: #174EA6;\n",
              "    }\n",
              "\n",
              "    [theme=dark] .colab-df-convert {\n",
              "      background-color: #3B4455;\n",
              "      fill: #D2E3FC;\n",
              "    }\n",
              "\n",
              "    [theme=dark] .colab-df-convert:hover {\n",
              "      background-color: #434B5C;\n",
              "      box-shadow: 0px 1px 3px 1px rgba(0, 0, 0, 0.15);\n",
              "      filter: drop-shadow(0px 1px 2px rgba(0, 0, 0, 0.3));\n",
              "      fill: #FFFFFF;\n",
              "    }\n",
              "  </style>\n",
              "\n",
              "      <script>\n",
              "        const buttonEl =\n",
              "          document.querySelector('#df-f4379621-bba9-44da-a239-5f6ce6fdf3c4 button.colab-df-convert');\n",
              "        buttonEl.style.display =\n",
              "          google.colab.kernel.accessAllowed ? 'block' : 'none';\n",
              "\n",
              "        async function convertToInteractive(key) {\n",
              "          const element = document.querySelector('#df-f4379621-bba9-44da-a239-5f6ce6fdf3c4');\n",
              "          const dataTable =\n",
              "            await google.colab.kernel.invokeFunction('convertToInteractive',\n",
              "                                                     [key], {});\n",
              "          if (!dataTable) return;\n",
              "\n",
              "          const docLinkHtml = 'Like what you see? Visit the ' +\n",
              "            '<a target=\"_blank\" href=https://colab.research.google.com/notebooks/data_table.ipynb>data table notebook</a>'\n",
              "            + ' to learn more about interactive tables.';\n",
              "          element.innerHTML = '';\n",
              "          dataTable['output_type'] = 'display_data';\n",
              "          await google.colab.output.renderOutput(dataTable, element);\n",
              "          const docLink = document.createElement('div');\n",
              "          docLink.innerHTML = docLinkHtml;\n",
              "          element.appendChild(docLink);\n",
              "        }\n",
              "      </script>\n",
              "    </div>\n",
              "  </div>\n",
              "  "
            ]
          },
          "metadata": {},
          "execution_count": 32
        }
      ]
    },
    {
      "cell_type": "code",
      "source": [
        "daily_return_copy_CT['LUXXX_']=daily_return_copy_CT['LUXXX'].apply(lambda x: 1 if x > 0 else 0)\n",
        "daily_return_copy_CT.iloc[:,:36:35] #this enables us to view our transformed categorical LUXXX_ with the original\n",
        "#LUXXX"
      ],
      "metadata": {
        "colab": {
          "base_uri": "https://localhost:8080/",
          "height": 455
        },
        "id": "_oiMKeR5lRyZ",
        "outputId": "09d6dce7-c6d0-4f86-d5d1-f1da3eff06cc"
      },
      "id": "_oiMKeR5lRyZ",
      "execution_count": null,
      "outputs": [
        {
          "output_type": "execute_result",
          "data": {
            "text/plain": [
              "              LUXXX  LUXXX_\n",
              "Date                       \n",
              "08-Jan-16 -0.071509       0\n",
              "15-Jan-16 -0.026471       0\n",
              "22-Jan-16 -0.002322       0\n",
              "29-Jan-16  0.035141       1\n",
              "05-Feb-16 -0.018185       0\n",
              "...             ...     ...\n",
              "25-Sep-20 -0.060663       0\n",
              "02-Oct-20  0.049442       1\n",
              "09-Oct-20  0.037079       1\n",
              "16-Oct-20 -0.007048       0\n",
              "23-Oct-20  0.021051       1\n",
              "\n",
              "[251 rows x 2 columns]"
            ],
            "text/html": [
              "\n",
              "  <div id=\"df-19e919b8-da48-451c-83dd-5bbe997f7758\">\n",
              "    <div class=\"colab-df-container\">\n",
              "      <div>\n",
              "<style scoped>\n",
              "    .dataframe tbody tr th:only-of-type {\n",
              "        vertical-align: middle;\n",
              "    }\n",
              "\n",
              "    .dataframe tbody tr th {\n",
              "        vertical-align: top;\n",
              "    }\n",
              "\n",
              "    .dataframe thead th {\n",
              "        text-align: right;\n",
              "    }\n",
              "</style>\n",
              "<table border=\"1\" class=\"dataframe\">\n",
              "  <thead>\n",
              "    <tr style=\"text-align: right;\">\n",
              "      <th></th>\n",
              "      <th>LUXXX</th>\n",
              "      <th>LUXXX_</th>\n",
              "    </tr>\n",
              "    <tr>\n",
              "      <th>Date</th>\n",
              "      <th></th>\n",
              "      <th></th>\n",
              "    </tr>\n",
              "  </thead>\n",
              "  <tbody>\n",
              "    <tr>\n",
              "      <th>08-Jan-16</th>\n",
              "      <td>-0.071509</td>\n",
              "      <td>0</td>\n",
              "    </tr>\n",
              "    <tr>\n",
              "      <th>15-Jan-16</th>\n",
              "      <td>-0.026471</td>\n",
              "      <td>0</td>\n",
              "    </tr>\n",
              "    <tr>\n",
              "      <th>22-Jan-16</th>\n",
              "      <td>-0.002322</td>\n",
              "      <td>0</td>\n",
              "    </tr>\n",
              "    <tr>\n",
              "      <th>29-Jan-16</th>\n",
              "      <td>0.035141</td>\n",
              "      <td>1</td>\n",
              "    </tr>\n",
              "    <tr>\n",
              "      <th>05-Feb-16</th>\n",
              "      <td>-0.018185</td>\n",
              "      <td>0</td>\n",
              "    </tr>\n",
              "    <tr>\n",
              "      <th>...</th>\n",
              "      <td>...</td>\n",
              "      <td>...</td>\n",
              "    </tr>\n",
              "    <tr>\n",
              "      <th>25-Sep-20</th>\n",
              "      <td>-0.060663</td>\n",
              "      <td>0</td>\n",
              "    </tr>\n",
              "    <tr>\n",
              "      <th>02-Oct-20</th>\n",
              "      <td>0.049442</td>\n",
              "      <td>1</td>\n",
              "    </tr>\n",
              "    <tr>\n",
              "      <th>09-Oct-20</th>\n",
              "      <td>0.037079</td>\n",
              "      <td>1</td>\n",
              "    </tr>\n",
              "    <tr>\n",
              "      <th>16-Oct-20</th>\n",
              "      <td>-0.007048</td>\n",
              "      <td>0</td>\n",
              "    </tr>\n",
              "    <tr>\n",
              "      <th>23-Oct-20</th>\n",
              "      <td>0.021051</td>\n",
              "      <td>1</td>\n",
              "    </tr>\n",
              "  </tbody>\n",
              "</table>\n",
              "<p>251 rows × 2 columns</p>\n",
              "</div>\n",
              "      <button class=\"colab-df-convert\" onclick=\"convertToInteractive('df-19e919b8-da48-451c-83dd-5bbe997f7758')\"\n",
              "              title=\"Convert this dataframe to an interactive table.\"\n",
              "              style=\"display:none;\">\n",
              "        \n",
              "  <svg xmlns=\"http://www.w3.org/2000/svg\" height=\"24px\"viewBox=\"0 0 24 24\"\n",
              "       width=\"24px\">\n",
              "    <path d=\"M0 0h24v24H0V0z\" fill=\"none\"/>\n",
              "    <path d=\"M18.56 5.44l.94 2.06.94-2.06 2.06-.94-2.06-.94-.94-2.06-.94 2.06-2.06.94zm-11 1L8.5 8.5l.94-2.06 2.06-.94-2.06-.94L8.5 2.5l-.94 2.06-2.06.94zm10 10l.94 2.06.94-2.06 2.06-.94-2.06-.94-.94-2.06-.94 2.06-2.06.94z\"/><path d=\"M17.41 7.96l-1.37-1.37c-.4-.4-.92-.59-1.43-.59-.52 0-1.04.2-1.43.59L10.3 9.45l-7.72 7.72c-.78.78-.78 2.05 0 2.83L4 21.41c.39.39.9.59 1.41.59.51 0 1.02-.2 1.41-.59l7.78-7.78 2.81-2.81c.8-.78.8-2.07 0-2.86zM5.41 20L4 18.59l7.72-7.72 1.47 1.35L5.41 20z\"/>\n",
              "  </svg>\n",
              "      </button>\n",
              "      \n",
              "  <style>\n",
              "    .colab-df-container {\n",
              "      display:flex;\n",
              "      flex-wrap:wrap;\n",
              "      gap: 12px;\n",
              "    }\n",
              "\n",
              "    .colab-df-convert {\n",
              "      background-color: #E8F0FE;\n",
              "      border: none;\n",
              "      border-radius: 50%;\n",
              "      cursor: pointer;\n",
              "      display: none;\n",
              "      fill: #1967D2;\n",
              "      height: 32px;\n",
              "      padding: 0 0 0 0;\n",
              "      width: 32px;\n",
              "    }\n",
              "\n",
              "    .colab-df-convert:hover {\n",
              "      background-color: #E2EBFA;\n",
              "      box-shadow: 0px 1px 2px rgba(60, 64, 67, 0.3), 0px 1px 3px 1px rgba(60, 64, 67, 0.15);\n",
              "      fill: #174EA6;\n",
              "    }\n",
              "\n",
              "    [theme=dark] .colab-df-convert {\n",
              "      background-color: #3B4455;\n",
              "      fill: #D2E3FC;\n",
              "    }\n",
              "\n",
              "    [theme=dark] .colab-df-convert:hover {\n",
              "      background-color: #434B5C;\n",
              "      box-shadow: 0px 1px 3px 1px rgba(0, 0, 0, 0.15);\n",
              "      filter: drop-shadow(0px 1px 2px rgba(0, 0, 0, 0.3));\n",
              "      fill: #FFFFFF;\n",
              "    }\n",
              "  </style>\n",
              "\n",
              "      <script>\n",
              "        const buttonEl =\n",
              "          document.querySelector('#df-19e919b8-da48-451c-83dd-5bbe997f7758 button.colab-df-convert');\n",
              "        buttonEl.style.display =\n",
              "          google.colab.kernel.accessAllowed ? 'block' : 'none';\n",
              "\n",
              "        async function convertToInteractive(key) {\n",
              "          const element = document.querySelector('#df-19e919b8-da48-451c-83dd-5bbe997f7758');\n",
              "          const dataTable =\n",
              "            await google.colab.kernel.invokeFunction('convertToInteractive',\n",
              "                                                     [key], {});\n",
              "          if (!dataTable) return;\n",
              "\n",
              "          const docLinkHtml = 'Like what you see? Visit the ' +\n",
              "            '<a target=\"_blank\" href=https://colab.research.google.com/notebooks/data_table.ipynb>data table notebook</a>'\n",
              "            + ' to learn more about interactive tables.';\n",
              "          element.innerHTML = '';\n",
              "          dataTable['output_type'] = 'display_data';\n",
              "          await google.colab.output.renderOutput(dataTable, element);\n",
              "          const docLink = document.createElement('div');\n",
              "          docLink.innerHTML = docLinkHtml;\n",
              "          element.appendChild(docLink);\n",
              "        }\n",
              "      </script>\n",
              "    </div>\n",
              "  </div>\n",
              "  "
            ]
          },
          "metadata": {},
          "execution_count": 33
        }
      ]
    },
    {
      "cell_type": "code",
      "source": [
        "# We can now drop LUXXX so LUXXX_ can be our response variable\n",
        "daily_return_copy_CT = daily_return_copy_CT.drop(labels='LUXXX', axis=1)\n",
        "daily_return_copy_CT.head(1)"
      ],
      "metadata": {
        "colab": {
          "base_uri": "https://localhost:8080/",
          "height": 275
        },
        "id": "SkPPBA7zHQu3",
        "outputId": "3cd5020e-0124-4e3b-f4be-29482dce9fc2"
      },
      "id": "SkPPBA7zHQu3",
      "execution_count": null,
      "outputs": [
        {
          "output_type": "execute_result",
          "data": {
            "text/plain": [
              "           MSCI ARGENTINA  BLP ORIENTE MEDIO  MSCI AUSTRALIA  MSCI AUSTRIA  \\\n",
              "Date                                                                         \n",
              "08-Jan-16        -0.04858          -0.069555        -0.05916     -0.084724   \n",
              "\n",
              "           MSCI BELGIUM  MSCI BRAZIL  MSCI CANADA  MSCI CHINA  MSCI DENMARK  \\\n",
              "Date                                                                          \n",
              "08-Jan-16     -0.057221    -0.081275    -0.046348   -0.081386     -0.044791   \n",
              "\n",
              "           MSCI EM ASIA  ...  MSCI PERU  MSCI RUSSIA  MSCI SINGAPORE  \\\n",
              "Date                     ...                                           \n",
              "08-Jan-16     -0.064435  ...  -0.074967    -0.041213       -0.046524   \n",
              "\n",
              "           MSCI SOUTH AFRICA  MSCI SPAIN  MSCI SWEDEN  MSCI SWITZERLAND  \\\n",
              "Date                                                                      \n",
              "08-Jan-16          -0.062106   -0.068266    -0.067051         -0.063629   \n",
              "\n",
              "            MSCI UK  MSCI USA  LUXXX_  \n",
              "Date                                   \n",
              "08-Jan-16 -0.053014  -0.06043       0  \n",
              "\n",
              "[1 rows x 35 columns]"
            ],
            "text/html": [
              "\n",
              "  <div id=\"df-90db117d-a63a-4035-9ebe-96a2357b34aa\">\n",
              "    <div class=\"colab-df-container\">\n",
              "      <div>\n",
              "<style scoped>\n",
              "    .dataframe tbody tr th:only-of-type {\n",
              "        vertical-align: middle;\n",
              "    }\n",
              "\n",
              "    .dataframe tbody tr th {\n",
              "        vertical-align: top;\n",
              "    }\n",
              "\n",
              "    .dataframe thead th {\n",
              "        text-align: right;\n",
              "    }\n",
              "</style>\n",
              "<table border=\"1\" class=\"dataframe\">\n",
              "  <thead>\n",
              "    <tr style=\"text-align: right;\">\n",
              "      <th></th>\n",
              "      <th>MSCI ARGENTINA</th>\n",
              "      <th>BLP ORIENTE MEDIO</th>\n",
              "      <th>MSCI AUSTRALIA</th>\n",
              "      <th>MSCI AUSTRIA</th>\n",
              "      <th>MSCI BELGIUM</th>\n",
              "      <th>MSCI BRAZIL</th>\n",
              "      <th>MSCI CANADA</th>\n",
              "      <th>MSCI CHINA</th>\n",
              "      <th>MSCI DENMARK</th>\n",
              "      <th>MSCI EM ASIA</th>\n",
              "      <th>...</th>\n",
              "      <th>MSCI PERU</th>\n",
              "      <th>MSCI RUSSIA</th>\n",
              "      <th>MSCI SINGAPORE</th>\n",
              "      <th>MSCI SOUTH AFRICA</th>\n",
              "      <th>MSCI SPAIN</th>\n",
              "      <th>MSCI SWEDEN</th>\n",
              "      <th>MSCI SWITZERLAND</th>\n",
              "      <th>MSCI UK</th>\n",
              "      <th>MSCI USA</th>\n",
              "      <th>LUXXX_</th>\n",
              "    </tr>\n",
              "    <tr>\n",
              "      <th>Date</th>\n",
              "      <th></th>\n",
              "      <th></th>\n",
              "      <th></th>\n",
              "      <th></th>\n",
              "      <th></th>\n",
              "      <th></th>\n",
              "      <th></th>\n",
              "      <th></th>\n",
              "      <th></th>\n",
              "      <th></th>\n",
              "      <th></th>\n",
              "      <th></th>\n",
              "      <th></th>\n",
              "      <th></th>\n",
              "      <th></th>\n",
              "      <th></th>\n",
              "      <th></th>\n",
              "      <th></th>\n",
              "      <th></th>\n",
              "      <th></th>\n",
              "      <th></th>\n",
              "    </tr>\n",
              "  </thead>\n",
              "  <tbody>\n",
              "    <tr>\n",
              "      <th>08-Jan-16</th>\n",
              "      <td>-0.04858</td>\n",
              "      <td>-0.069555</td>\n",
              "      <td>-0.05916</td>\n",
              "      <td>-0.084724</td>\n",
              "      <td>-0.057221</td>\n",
              "      <td>-0.081275</td>\n",
              "      <td>-0.046348</td>\n",
              "      <td>-0.081386</td>\n",
              "      <td>-0.044791</td>\n",
              "      <td>-0.064435</td>\n",
              "      <td>...</td>\n",
              "      <td>-0.074967</td>\n",
              "      <td>-0.041213</td>\n",
              "      <td>-0.046524</td>\n",
              "      <td>-0.062106</td>\n",
              "      <td>-0.068266</td>\n",
              "      <td>-0.067051</td>\n",
              "      <td>-0.063629</td>\n",
              "      <td>-0.053014</td>\n",
              "      <td>-0.06043</td>\n",
              "      <td>0</td>\n",
              "    </tr>\n",
              "  </tbody>\n",
              "</table>\n",
              "<p>1 rows × 35 columns</p>\n",
              "</div>\n",
              "      <button class=\"colab-df-convert\" onclick=\"convertToInteractive('df-90db117d-a63a-4035-9ebe-96a2357b34aa')\"\n",
              "              title=\"Convert this dataframe to an interactive table.\"\n",
              "              style=\"display:none;\">\n",
              "        \n",
              "  <svg xmlns=\"http://www.w3.org/2000/svg\" height=\"24px\"viewBox=\"0 0 24 24\"\n",
              "       width=\"24px\">\n",
              "    <path d=\"M0 0h24v24H0V0z\" fill=\"none\"/>\n",
              "    <path d=\"M18.56 5.44l.94 2.06.94-2.06 2.06-.94-2.06-.94-.94-2.06-.94 2.06-2.06.94zm-11 1L8.5 8.5l.94-2.06 2.06-.94-2.06-.94L8.5 2.5l-.94 2.06-2.06.94zm10 10l.94 2.06.94-2.06 2.06-.94-2.06-.94-.94-2.06-.94 2.06-2.06.94z\"/><path d=\"M17.41 7.96l-1.37-1.37c-.4-.4-.92-.59-1.43-.59-.52 0-1.04.2-1.43.59L10.3 9.45l-7.72 7.72c-.78.78-.78 2.05 0 2.83L4 21.41c.39.39.9.59 1.41.59.51 0 1.02-.2 1.41-.59l7.78-7.78 2.81-2.81c.8-.78.8-2.07 0-2.86zM5.41 20L4 18.59l7.72-7.72 1.47 1.35L5.41 20z\"/>\n",
              "  </svg>\n",
              "      </button>\n",
              "      \n",
              "  <style>\n",
              "    .colab-df-container {\n",
              "      display:flex;\n",
              "      flex-wrap:wrap;\n",
              "      gap: 12px;\n",
              "    }\n",
              "\n",
              "    .colab-df-convert {\n",
              "      background-color: #E8F0FE;\n",
              "      border: none;\n",
              "      border-radius: 50%;\n",
              "      cursor: pointer;\n",
              "      display: none;\n",
              "      fill: #1967D2;\n",
              "      height: 32px;\n",
              "      padding: 0 0 0 0;\n",
              "      width: 32px;\n",
              "    }\n",
              "\n",
              "    .colab-df-convert:hover {\n",
              "      background-color: #E2EBFA;\n",
              "      box-shadow: 0px 1px 2px rgba(60, 64, 67, 0.3), 0px 1px 3px 1px rgba(60, 64, 67, 0.15);\n",
              "      fill: #174EA6;\n",
              "    }\n",
              "\n",
              "    [theme=dark] .colab-df-convert {\n",
              "      background-color: #3B4455;\n",
              "      fill: #D2E3FC;\n",
              "    }\n",
              "\n",
              "    [theme=dark] .colab-df-convert:hover {\n",
              "      background-color: #434B5C;\n",
              "      box-shadow: 0px 1px 3px 1px rgba(0, 0, 0, 0.15);\n",
              "      filter: drop-shadow(0px 1px 2px rgba(0, 0, 0, 0.3));\n",
              "      fill: #FFFFFF;\n",
              "    }\n",
              "  </style>\n",
              "\n",
              "      <script>\n",
              "        const buttonEl =\n",
              "          document.querySelector('#df-90db117d-a63a-4035-9ebe-96a2357b34aa button.colab-df-convert');\n",
              "        buttonEl.style.display =\n",
              "          google.colab.kernel.accessAllowed ? 'block' : 'none';\n",
              "\n",
              "        async function convertToInteractive(key) {\n",
              "          const element = document.querySelector('#df-90db117d-a63a-4035-9ebe-96a2357b34aa');\n",
              "          const dataTable =\n",
              "            await google.colab.kernel.invokeFunction('convertToInteractive',\n",
              "                                                     [key], {});\n",
              "          if (!dataTable) return;\n",
              "\n",
              "          const docLinkHtml = 'Like what you see? Visit the ' +\n",
              "            '<a target=\"_blank\" href=https://colab.research.google.com/notebooks/data_table.ipynb>data table notebook</a>'\n",
              "            + ' to learn more about interactive tables.';\n",
              "          element.innerHTML = '';\n",
              "          dataTable['output_type'] = 'display_data';\n",
              "          await google.colab.output.renderOutput(dataTable, element);\n",
              "          const docLink = document.createElement('div');\n",
              "          docLink.innerHTML = docLinkHtml;\n",
              "          element.appendChild(docLink);\n",
              "        }\n",
              "      </script>\n",
              "    </div>\n",
              "  </div>\n",
              "  "
            ]
          },
          "metadata": {},
          "execution_count": 34
        }
      ]
    },
    {
      "cell_type": "code",
      "source": [
        "import seaborn as sns\n",
        "from sklearn.metrics import accuracy_score\n",
        "from sklearn import tree\n",
        "from sklearn.model_selection import KFold"
      ],
      "metadata": {
        "id": "IHYU79o9ojlr"
      },
      "id": "IHYU79o9ojlr",
      "execution_count": null,
      "outputs": []
    },
    {
      "cell_type": "code",
      "source": [
        "# Validation Set approach : take 80% of the data as the training set and 20 % as the test set. \n",
        "# X is a dataframe with  the input variable\n",
        "\n",
        "X = daily_return_copy_CT.iloc[:,:34]\n",
        "\n",
        "X.reset_index(inplace=True)\n",
        "X.drop(labels='Date', axis=1, inplace=True)\n",
        "X = pd.DataFrame(X)\n",
        "\n",
        "X.head(1)"
      ],
      "metadata": {
        "id": "UiTvffrRIIsa",
        "colab": {
          "base_uri": "https://localhost:8080/",
          "height": 208
        },
        "outputId": "d3988460-b7be-4fc6-ac4c-f9b6118523ff"
      },
      "id": "UiTvffrRIIsa",
      "execution_count": null,
      "outputs": [
        {
          "output_type": "execute_result",
          "data": {
            "text/plain": [
              "   MSCI ARGENTINA  BLP ORIENTE MEDIO  MSCI AUSTRALIA  MSCI AUSTRIA  \\\n",
              "0        -0.04858          -0.069555        -0.05916     -0.084724   \n",
              "\n",
              "   MSCI BELGIUM  MSCI BRAZIL  MSCI CANADA  MSCI CHINA  MSCI DENMARK  \\\n",
              "0     -0.057221    -0.081275    -0.046348   -0.081386     -0.044791   \n",
              "\n",
              "   MSCI EM ASIA  ...  MSCI NORWAY  MSCI PERU  MSCI RUSSIA  MSCI SINGAPORE  \\\n",
              "0     -0.064435  ...    -0.069017  -0.074967    -0.041213       -0.046524   \n",
              "\n",
              "   MSCI SOUTH AFRICA  MSCI SPAIN  MSCI SWEDEN  MSCI SWITZERLAND   MSCI UK  \\\n",
              "0          -0.062106   -0.068266    -0.067051         -0.063629 -0.053014   \n",
              "\n",
              "   MSCI USA  \n",
              "0  -0.06043  \n",
              "\n",
              "[1 rows x 34 columns]"
            ],
            "text/html": [
              "\n",
              "  <div id=\"df-eab21fc3-aa43-4323-aba1-08c0982fce2b\">\n",
              "    <div class=\"colab-df-container\">\n",
              "      <div>\n",
              "<style scoped>\n",
              "    .dataframe tbody tr th:only-of-type {\n",
              "        vertical-align: middle;\n",
              "    }\n",
              "\n",
              "    .dataframe tbody tr th {\n",
              "        vertical-align: top;\n",
              "    }\n",
              "\n",
              "    .dataframe thead th {\n",
              "        text-align: right;\n",
              "    }\n",
              "</style>\n",
              "<table border=\"1\" class=\"dataframe\">\n",
              "  <thead>\n",
              "    <tr style=\"text-align: right;\">\n",
              "      <th></th>\n",
              "      <th>MSCI ARGENTINA</th>\n",
              "      <th>BLP ORIENTE MEDIO</th>\n",
              "      <th>MSCI AUSTRALIA</th>\n",
              "      <th>MSCI AUSTRIA</th>\n",
              "      <th>MSCI BELGIUM</th>\n",
              "      <th>MSCI BRAZIL</th>\n",
              "      <th>MSCI CANADA</th>\n",
              "      <th>MSCI CHINA</th>\n",
              "      <th>MSCI DENMARK</th>\n",
              "      <th>MSCI EM ASIA</th>\n",
              "      <th>...</th>\n",
              "      <th>MSCI NORWAY</th>\n",
              "      <th>MSCI PERU</th>\n",
              "      <th>MSCI RUSSIA</th>\n",
              "      <th>MSCI SINGAPORE</th>\n",
              "      <th>MSCI SOUTH AFRICA</th>\n",
              "      <th>MSCI SPAIN</th>\n",
              "      <th>MSCI SWEDEN</th>\n",
              "      <th>MSCI SWITZERLAND</th>\n",
              "      <th>MSCI UK</th>\n",
              "      <th>MSCI USA</th>\n",
              "    </tr>\n",
              "  </thead>\n",
              "  <tbody>\n",
              "    <tr>\n",
              "      <th>0</th>\n",
              "      <td>-0.04858</td>\n",
              "      <td>-0.069555</td>\n",
              "      <td>-0.05916</td>\n",
              "      <td>-0.084724</td>\n",
              "      <td>-0.057221</td>\n",
              "      <td>-0.081275</td>\n",
              "      <td>-0.046348</td>\n",
              "      <td>-0.081386</td>\n",
              "      <td>-0.044791</td>\n",
              "      <td>-0.064435</td>\n",
              "      <td>...</td>\n",
              "      <td>-0.069017</td>\n",
              "      <td>-0.074967</td>\n",
              "      <td>-0.041213</td>\n",
              "      <td>-0.046524</td>\n",
              "      <td>-0.062106</td>\n",
              "      <td>-0.068266</td>\n",
              "      <td>-0.067051</td>\n",
              "      <td>-0.063629</td>\n",
              "      <td>-0.053014</td>\n",
              "      <td>-0.06043</td>\n",
              "    </tr>\n",
              "  </tbody>\n",
              "</table>\n",
              "<p>1 rows × 34 columns</p>\n",
              "</div>\n",
              "      <button class=\"colab-df-convert\" onclick=\"convertToInteractive('df-eab21fc3-aa43-4323-aba1-08c0982fce2b')\"\n",
              "              title=\"Convert this dataframe to an interactive table.\"\n",
              "              style=\"display:none;\">\n",
              "        \n",
              "  <svg xmlns=\"http://www.w3.org/2000/svg\" height=\"24px\"viewBox=\"0 0 24 24\"\n",
              "       width=\"24px\">\n",
              "    <path d=\"M0 0h24v24H0V0z\" fill=\"none\"/>\n",
              "    <path d=\"M18.56 5.44l.94 2.06.94-2.06 2.06-.94-2.06-.94-.94-2.06-.94 2.06-2.06.94zm-11 1L8.5 8.5l.94-2.06 2.06-.94-2.06-.94L8.5 2.5l-.94 2.06-2.06.94zm10 10l.94 2.06.94-2.06 2.06-.94-2.06-.94-.94-2.06-.94 2.06-2.06.94z\"/><path d=\"M17.41 7.96l-1.37-1.37c-.4-.4-.92-.59-1.43-.59-.52 0-1.04.2-1.43.59L10.3 9.45l-7.72 7.72c-.78.78-.78 2.05 0 2.83L4 21.41c.39.39.9.59 1.41.59.51 0 1.02-.2 1.41-.59l7.78-7.78 2.81-2.81c.8-.78.8-2.07 0-2.86zM5.41 20L4 18.59l7.72-7.72 1.47 1.35L5.41 20z\"/>\n",
              "  </svg>\n",
              "      </button>\n",
              "      \n",
              "  <style>\n",
              "    .colab-df-container {\n",
              "      display:flex;\n",
              "      flex-wrap:wrap;\n",
              "      gap: 12px;\n",
              "    }\n",
              "\n",
              "    .colab-df-convert {\n",
              "      background-color: #E8F0FE;\n",
              "      border: none;\n",
              "      border-radius: 50%;\n",
              "      cursor: pointer;\n",
              "      display: none;\n",
              "      fill: #1967D2;\n",
              "      height: 32px;\n",
              "      padding: 0 0 0 0;\n",
              "      width: 32px;\n",
              "    }\n",
              "\n",
              "    .colab-df-convert:hover {\n",
              "      background-color: #E2EBFA;\n",
              "      box-shadow: 0px 1px 2px rgba(60, 64, 67, 0.3), 0px 1px 3px 1px rgba(60, 64, 67, 0.15);\n",
              "      fill: #174EA6;\n",
              "    }\n",
              "\n",
              "    [theme=dark] .colab-df-convert {\n",
              "      background-color: #3B4455;\n",
              "      fill: #D2E3FC;\n",
              "    }\n",
              "\n",
              "    [theme=dark] .colab-df-convert:hover {\n",
              "      background-color: #434B5C;\n",
              "      box-shadow: 0px 1px 3px 1px rgba(0, 0, 0, 0.15);\n",
              "      filter: drop-shadow(0px 1px 2px rgba(0, 0, 0, 0.3));\n",
              "      fill: #FFFFFF;\n",
              "    }\n",
              "  </style>\n",
              "\n",
              "      <script>\n",
              "        const buttonEl =\n",
              "          document.querySelector('#df-eab21fc3-aa43-4323-aba1-08c0982fce2b button.colab-df-convert');\n",
              "        buttonEl.style.display =\n",
              "          google.colab.kernel.accessAllowed ? 'block' : 'none';\n",
              "\n",
              "        async function convertToInteractive(key) {\n",
              "          const element = document.querySelector('#df-eab21fc3-aa43-4323-aba1-08c0982fce2b');\n",
              "          const dataTable =\n",
              "            await google.colab.kernel.invokeFunction('convertToInteractive',\n",
              "                                                     [key], {});\n",
              "          if (!dataTable) return;\n",
              "\n",
              "          const docLinkHtml = 'Like what you see? Visit the ' +\n",
              "            '<a target=\"_blank\" href=https://colab.research.google.com/notebooks/data_table.ipynb>data table notebook</a>'\n",
              "            + ' to learn more about interactive tables.';\n",
              "          element.innerHTML = '';\n",
              "          dataTable['output_type'] = 'display_data';\n",
              "          await google.colab.output.renderOutput(dataTable, element);\n",
              "          const docLink = document.createElement('div');\n",
              "          docLink.innerHTML = docLinkHtml;\n",
              "          element.appendChild(docLink);\n",
              "        }\n",
              "      </script>\n",
              "    </div>\n",
              "  </div>\n",
              "  "
            ]
          },
          "metadata": {},
          "execution_count": 36
        }
      ]
    },
    {
      "cell_type": "code",
      "source": [
        "# # Y is the target or output variable \n",
        "y = daily_return_copy_CT.iloc[:,-1:]\n",
        "\n",
        "y.reset_index(inplace=True)\n",
        "y.drop(labels='Date', axis=1,inplace=True)\n",
        "y = pd.DataFrame(y)\n",
        "\n",
        "y.head(2)"
      ],
      "metadata": {
        "colab": {
          "base_uri": "https://localhost:8080/",
          "height": 198
        },
        "id": "u9sBTvZFNk_j",
        "outputId": "12b95b87-7b06-4dfe-b620-f32399c93143"
      },
      "id": "u9sBTvZFNk_j",
      "execution_count": null,
      "outputs": [
        {
          "output_type": "stream",
          "name": "stderr",
          "text": [
            "/usr/local/lib/python3.7/dist-packages/pandas/core/frame.py:4913: SettingWithCopyWarning: \n",
            "A value is trying to be set on a copy of a slice from a DataFrame\n",
            "\n",
            "See the caveats in the documentation: https://pandas.pydata.org/pandas-docs/stable/user_guide/indexing.html#returning-a-view-versus-a-copy\n",
            "  errors=errors,\n"
          ]
        },
        {
          "output_type": "execute_result",
          "data": {
            "text/plain": [
              "   LUXXX_\n",
              "0       0\n",
              "1       0"
            ],
            "text/html": [
              "\n",
              "  <div id=\"df-c34dd356-5830-4594-9081-7c38bf2751f9\">\n",
              "    <div class=\"colab-df-container\">\n",
              "      <div>\n",
              "<style scoped>\n",
              "    .dataframe tbody tr th:only-of-type {\n",
              "        vertical-align: middle;\n",
              "    }\n",
              "\n",
              "    .dataframe tbody tr th {\n",
              "        vertical-align: top;\n",
              "    }\n",
              "\n",
              "    .dataframe thead th {\n",
              "        text-align: right;\n",
              "    }\n",
              "</style>\n",
              "<table border=\"1\" class=\"dataframe\">\n",
              "  <thead>\n",
              "    <tr style=\"text-align: right;\">\n",
              "      <th></th>\n",
              "      <th>LUXXX_</th>\n",
              "    </tr>\n",
              "  </thead>\n",
              "  <tbody>\n",
              "    <tr>\n",
              "      <th>0</th>\n",
              "      <td>0</td>\n",
              "    </tr>\n",
              "    <tr>\n",
              "      <th>1</th>\n",
              "      <td>0</td>\n",
              "    </tr>\n",
              "  </tbody>\n",
              "</table>\n",
              "</div>\n",
              "      <button class=\"colab-df-convert\" onclick=\"convertToInteractive('df-c34dd356-5830-4594-9081-7c38bf2751f9')\"\n",
              "              title=\"Convert this dataframe to an interactive table.\"\n",
              "              style=\"display:none;\">\n",
              "        \n",
              "  <svg xmlns=\"http://www.w3.org/2000/svg\" height=\"24px\"viewBox=\"0 0 24 24\"\n",
              "       width=\"24px\">\n",
              "    <path d=\"M0 0h24v24H0V0z\" fill=\"none\"/>\n",
              "    <path d=\"M18.56 5.44l.94 2.06.94-2.06 2.06-.94-2.06-.94-.94-2.06-.94 2.06-2.06.94zm-11 1L8.5 8.5l.94-2.06 2.06-.94-2.06-.94L8.5 2.5l-.94 2.06-2.06.94zm10 10l.94 2.06.94-2.06 2.06-.94-2.06-.94-.94-2.06-.94 2.06-2.06.94z\"/><path d=\"M17.41 7.96l-1.37-1.37c-.4-.4-.92-.59-1.43-.59-.52 0-1.04.2-1.43.59L10.3 9.45l-7.72 7.72c-.78.78-.78 2.05 0 2.83L4 21.41c.39.39.9.59 1.41.59.51 0 1.02-.2 1.41-.59l7.78-7.78 2.81-2.81c.8-.78.8-2.07 0-2.86zM5.41 20L4 18.59l7.72-7.72 1.47 1.35L5.41 20z\"/>\n",
              "  </svg>\n",
              "      </button>\n",
              "      \n",
              "  <style>\n",
              "    .colab-df-container {\n",
              "      display:flex;\n",
              "      flex-wrap:wrap;\n",
              "      gap: 12px;\n",
              "    }\n",
              "\n",
              "    .colab-df-convert {\n",
              "      background-color: #E8F0FE;\n",
              "      border: none;\n",
              "      border-radius: 50%;\n",
              "      cursor: pointer;\n",
              "      display: none;\n",
              "      fill: #1967D2;\n",
              "      height: 32px;\n",
              "      padding: 0 0 0 0;\n",
              "      width: 32px;\n",
              "    }\n",
              "\n",
              "    .colab-df-convert:hover {\n",
              "      background-color: #E2EBFA;\n",
              "      box-shadow: 0px 1px 2px rgba(60, 64, 67, 0.3), 0px 1px 3px 1px rgba(60, 64, 67, 0.15);\n",
              "      fill: #174EA6;\n",
              "    }\n",
              "\n",
              "    [theme=dark] .colab-df-convert {\n",
              "      background-color: #3B4455;\n",
              "      fill: #D2E3FC;\n",
              "    }\n",
              "\n",
              "    [theme=dark] .colab-df-convert:hover {\n",
              "      background-color: #434B5C;\n",
              "      box-shadow: 0px 1px 3px 1px rgba(0, 0, 0, 0.15);\n",
              "      filter: drop-shadow(0px 1px 2px rgba(0, 0, 0, 0.3));\n",
              "      fill: #FFFFFF;\n",
              "    }\n",
              "  </style>\n",
              "\n",
              "      <script>\n",
              "        const buttonEl =\n",
              "          document.querySelector('#df-c34dd356-5830-4594-9081-7c38bf2751f9 button.colab-df-convert');\n",
              "        buttonEl.style.display =\n",
              "          google.colab.kernel.accessAllowed ? 'block' : 'none';\n",
              "\n",
              "        async function convertToInteractive(key) {\n",
              "          const element = document.querySelector('#df-c34dd356-5830-4594-9081-7c38bf2751f9');\n",
              "          const dataTable =\n",
              "            await google.colab.kernel.invokeFunction('convertToInteractive',\n",
              "                                                     [key], {});\n",
              "          if (!dataTable) return;\n",
              "\n",
              "          const docLinkHtml = 'Like what you see? Visit the ' +\n",
              "            '<a target=\"_blank\" href=https://colab.research.google.com/notebooks/data_table.ipynb>data table notebook</a>'\n",
              "            + ' to learn more about interactive tables.';\n",
              "          element.innerHTML = '';\n",
              "          dataTable['output_type'] = 'display_data';\n",
              "          await google.colab.output.renderOutput(dataTable, element);\n",
              "          const docLink = document.createElement('div');\n",
              "          docLink.innerHTML = docLinkHtml;\n",
              "          element.appendChild(docLink);\n",
              "        }\n",
              "      </script>\n",
              "    </div>\n",
              "  </div>\n",
              "  "
            ]
          },
          "metadata": {},
          "execution_count": 39
        }
      ]
    },
    {
      "cell_type": "code",
      "source": [
        "length_to_split = int(len(X) * 0.8)\n",
        "# Splitting the X and y into train and test datasets for default model\n",
        "X_train, X_test = X[:length_to_split], X[length_to_split:]\n",
        "y_train, y_test = y[:length_to_split], y[length_to_split:]\n",
        " \n",
        "# Print the size of the train and test dataset\n",
        "print(X_train.shape, X_test.shape)\n",
        "print(y_train.shape, y_test.shape)\n",
        "    \n",
        "clf = tree.DecisionTreeClassifier(random_state=20)\n",
        "\n",
        "# Create the model on train dataset\n",
        "model = clf.fit(X_train, y_train)\n",
        "\n",
        "pred_labels_te = model.predict(X_test)\n",
        "pred_labels_tr = model.predict(X_train)\n",
        " \n",
        "\n",
        "# Calculate the accuracy\n",
        "print(accuracy_score(y_test, model.predict(X_test), normalize=True)*100)"
      ],
      "metadata": {
        "colab": {
          "base_uri": "https://localhost:8080/"
        },
        "id": "6c1fTySZEtsB",
        "outputId": "f52936db-2e2e-48c8-9ebe-8015c8fbf56a"
      },
      "id": "6c1fTySZEtsB",
      "execution_count": null,
      "outputs": [
        {
          "output_type": "stream",
          "name": "stdout",
          "text": [
            "(200, 34) (51, 34)\n",
            "(200, 1) (51, 1)\n",
            "62.745098039215684\n"
          ]
        }
      ]
    },
    {
      "cell_type": "code",
      "source": [
        "    # Tree summary and model evaluation metrics\n",
        "    print('*************** Tree Summary ***************')\n",
        "    print('Classes: ', clf.classes_)\n",
        "    print('Tree Depth: ', clf.tree_.max_depth)\n",
        "    print('No. of leaves: ', clf.tree_.n_leaves)\n",
        "    print('No. of features: ', clf.n_features_in_)\n",
        "    print('--------------------------------------------------------')\n",
        "    print(\"\")"
      ],
      "metadata": {
        "id": "_vs2hN6vYCa7",
        "colab": {
          "base_uri": "https://localhost:8080/"
        },
        "outputId": "f0da1318-ff9a-4b56-b2a3-aec6259e3f8c"
      },
      "id": "_vs2hN6vYCa7",
      "execution_count": null,
      "outputs": [
        {
          "output_type": "stream",
          "name": "stdout",
          "text": [
            "*************** Tree Summary ***************\n",
            "Classes:  [0 1]\n",
            "Tree Depth:  10\n",
            "No. of leaves:  32\n",
            "No. of features:  34\n",
            "--------------------------------------------------------\n",
            "\n"
          ]
        }
      ]
    },
    {
      "cell_type": "code",
      "source": [
        "    print('*************** Evaluation on Test Data ***************')\n",
        "    score_te = model.score(X_test, y_test)\n",
        "    print('Accuracy Score: ', score_te)\n",
        "    # Look at classification report to evaluate the model\n",
        "    print(classification_report(y_test, pred_labels_te))\n",
        "    print('--------------------------------------------------------')\n",
        "    print(\"\")"
      ],
      "metadata": {
        "id": "miuILwq7YMh6",
        "colab": {
          "base_uri": "https://localhost:8080/"
        },
        "outputId": "b9e3109f-c717-4eef-b3e0-ba09b66ea81a"
      },
      "id": "miuILwq7YMh6",
      "execution_count": null,
      "outputs": [
        {
          "output_type": "stream",
          "name": "stdout",
          "text": [
            "*************** Evaluation on Test Data ***************\n",
            "Accuracy Score:  0.6274509803921569\n",
            "              precision    recall  f1-score   support\n",
            "\n",
            "           0       0.59      0.85      0.70        26\n",
            "           1       0.71      0.40      0.51        25\n",
            "\n",
            "    accuracy                           0.63        51\n",
            "   macro avg       0.65      0.62      0.61        51\n",
            "weighted avg       0.65      0.63      0.61        51\n",
            "\n",
            "--------------------------------------------------------\n",
            "\n"
          ]
        }
      ]
    },
    {
      "cell_type": "code",
      "source": [
        "    print('*************** Evaluation on Training Data ***************')\n",
        "    score_tr = model.score(X_train, y_train)\n",
        "    print('Accuracy Score: ', score_tr)\n",
        "    # Look at classification report to evaluate the model\n",
        "    print(classification_report(y_train, pred_labels_tr))\n",
        "    print('--------------------------------------------------------')"
      ],
      "metadata": {
        "id": "UixWkckwYY70",
        "colab": {
          "base_uri": "https://localhost:8080/"
        },
        "outputId": "fe6d85b1-772e-4755-e21c-2bf012494627"
      },
      "id": "UixWkckwYY70",
      "execution_count": null,
      "outputs": [
        {
          "output_type": "stream",
          "name": "stdout",
          "text": [
            "*************** Evaluation on Training Data ***************\n",
            "Accuracy Score:  1.0\n",
            "              precision    recall  f1-score   support\n",
            "\n",
            "           0       1.00      1.00      1.00        98\n",
            "           1       1.00      1.00      1.00       102\n",
            "\n",
            "    accuracy                           1.00       200\n",
            "   macro avg       1.00      1.00      1.00       200\n",
            "weighted avg       1.00      1.00      1.00       200\n",
            "\n",
            "--------------------------------------------------------\n"
          ]
        }
      ]
    },
    {
      "cell_type": "code",
      "source": [
        "# KFold Cross Validation approach\n",
        "kf = KFold(n_splits=5,shuffle=False)\n",
        "kf.split(X)    \n",
        "     \n",
        "# Initialize the accuracy of the models to blank list. The accuracy of each model will be appended to this list\n",
        "accuracy_model = []\n",
        " \n",
        "# Iterate over each train-test split\n",
        "for train_index, test_index in kf.split(X):\n",
        "    # Split train-test\n",
        "    X_train, X_test = X.iloc[train_index], X.iloc[test_index]\n",
        "    y_train, y_test = y.iloc[train_index], y.iloc[test_index]\n",
        "    # Train the model\n",
        "    model = clf.fit(X_train, y_train)\n",
        "    # Append to accuracy_model the accuracy of the model\n",
        "    accuracy_model.append(accuracy_score(y_test, model.predict(X_test), normalize=True)*100)\n",
        "\n",
        "# Print the accuracy    \n",
        "print(accuracy_model)"
      ],
      "metadata": {
        "id": "kFjYu75FX1Ps",
        "colab": {
          "base_uri": "https://localhost:8080/"
        },
        "outputId": "f89fb714-8a58-4a6a-db5a-06b8de5df2f7"
      },
      "id": "kFjYu75FX1Ps",
      "execution_count": null,
      "outputs": [
        {
          "output_type": "stream",
          "name": "stdout",
          "text": [
            "[60.78431372549019, 52.0, 54.0, 72.0, 64.0]\n"
          ]
        }
      ]
    },
    {
      "cell_type": "code",
      "source": [
        "import graphviz \n",
        "\n",
        "dot_data = tree.export_graphviz(model, out_file=None) \n",
        "graph = graphviz.Source(dot_data) \n",
        "graph"
      ],
      "metadata": {
        "colab": {
          "base_uri": "https://localhost:8080/",
          "height": 1000
        },
        "id": "89CSV4x4OoKY",
        "outputId": "810531c9-6f47-446d-c913-1f8cd1584877"
      },
      "id": "89CSV4x4OoKY",
      "execution_count": null,
      "outputs": [
        {
          "output_type": "execute_result",
          "data": {
            "text/plain": [
              "<graphviz.files.Source at 0x7f6aced43890>"
            ],
            "image/svg+xml": "<?xml version=\"1.0\" encoding=\"UTF-8\" standalone=\"no\"?>\n<!DOCTYPE svg PUBLIC \"-//W3C//DTD SVG 1.1//EN\"\n \"http://www.w3.org/Graphics/SVG/1.1/DTD/svg11.dtd\">\n<!-- Generated by graphviz version 2.40.1 (20161225.0304)\n -->\n<!-- Title: Tree Pages: 1 -->\n<svg width=\"1701pt\" height=\"1413pt\"\n viewBox=\"0.00 0.00 1701.00 1413.00\" xmlns=\"http://www.w3.org/2000/svg\" xmlns:xlink=\"http://www.w3.org/1999/xlink\">\n<g id=\"graph0\" class=\"graph\" transform=\"scale(1 1) rotate(0) translate(4 1409)\">\n<title>Tree</title>\n<polygon fill=\"#ffffff\" stroke=\"transparent\" points=\"-4,4 -4,-1409 1697,-1409 1697,4 -4,4\"/>\n<!-- 0 -->\n<g id=\"node1\" class=\"node\">\n<title>0</title>\n<polygon fill=\"none\" stroke=\"#000000\" points=\"1039.5,-1405 915.5,-1405 915.5,-1337 1039.5,-1337 1039.5,-1405\"/>\n<text text-anchor=\"middle\" x=\"977.5\" y=\"-1389.8\" font-family=\"Helvetica,sans-Serif\" font-size=\"14.00\" fill=\"#000000\">X[33] &lt;= 0.003</text>\n<text text-anchor=\"middle\" x=\"977.5\" y=\"-1374.8\" font-family=\"Helvetica,sans-Serif\" font-size=\"14.00\" fill=\"#000000\">gini = 0.5</text>\n<text text-anchor=\"middle\" x=\"977.5\" y=\"-1359.8\" font-family=\"Helvetica,sans-Serif\" font-size=\"14.00\" fill=\"#000000\">samples = 201</text>\n<text text-anchor=\"middle\" x=\"977.5\" y=\"-1344.8\" font-family=\"Helvetica,sans-Serif\" font-size=\"14.00\" fill=\"#000000\">value = [98, 103]</text>\n</g>\n<!-- 1 -->\n<g id=\"node2\" class=\"node\">\n<title>1</title>\n<polygon fill=\"none\" stroke=\"#000000\" points=\"968.5,-1301 852.5,-1301 852.5,-1233 968.5,-1233 968.5,-1301\"/>\n<text text-anchor=\"middle\" x=\"910.5\" y=\"-1285.8\" font-family=\"Helvetica,sans-Serif\" font-size=\"14.00\" fill=\"#000000\">X[3] &lt;= 0.003</text>\n<text text-anchor=\"middle\" x=\"910.5\" y=\"-1270.8\" font-family=\"Helvetica,sans-Serif\" font-size=\"14.00\" fill=\"#000000\">gini = 0.403</text>\n<text text-anchor=\"middle\" x=\"910.5\" y=\"-1255.8\" font-family=\"Helvetica,sans-Serif\" font-size=\"14.00\" fill=\"#000000\">samples = 100</text>\n<text text-anchor=\"middle\" x=\"910.5\" y=\"-1240.8\" font-family=\"Helvetica,sans-Serif\" font-size=\"14.00\" fill=\"#000000\">value = [72, 28]</text>\n</g>\n<!-- 0&#45;&gt;1 -->\n<g id=\"edge1\" class=\"edge\">\n<title>0&#45;&gt;1</title>\n<path fill=\"none\" stroke=\"#000000\" d=\"M955.5617,-1336.9465C949.951,-1328.2373 943.8471,-1318.7626 937.9958,-1309.6801\"/>\n<polygon fill=\"#000000\" stroke=\"#000000\" points=\"940.8457,-1307.641 932.4876,-1301.13 934.9611,-1311.4321 940.8457,-1307.641\"/>\n<text text-anchor=\"middle\" x=\"927.2006\" y=\"-1321.8646\" font-family=\"Helvetica,sans-Serif\" font-size=\"14.00\" fill=\"#000000\">True</text>\n</g>\n<!-- 36 -->\n<g id=\"node37\" class=\"node\">\n<title>36</title>\n<polygon fill=\"none\" stroke=\"#000000\" points=\"1102.5,-1301 986.5,-1301 986.5,-1233 1102.5,-1233 1102.5,-1301\"/>\n<text text-anchor=\"middle\" x=\"1044.5\" y=\"-1285.8\" font-family=\"Helvetica,sans-Serif\" font-size=\"14.00\" fill=\"#000000\">X[6] &lt;= &#45;0.003</text>\n<text text-anchor=\"middle\" x=\"1044.5\" y=\"-1270.8\" font-family=\"Helvetica,sans-Serif\" font-size=\"14.00\" fill=\"#000000\">gini = 0.382</text>\n<text text-anchor=\"middle\" x=\"1044.5\" y=\"-1255.8\" font-family=\"Helvetica,sans-Serif\" font-size=\"14.00\" fill=\"#000000\">samples = 101</text>\n<text text-anchor=\"middle\" x=\"1044.5\" y=\"-1240.8\" font-family=\"Helvetica,sans-Serif\" font-size=\"14.00\" fill=\"#000000\">value = [26, 75]</text>\n</g>\n<!-- 0&#45;&gt;36 -->\n<g id=\"edge36\" class=\"edge\">\n<title>0&#45;&gt;36</title>\n<path fill=\"none\" stroke=\"#000000\" d=\"M999.4383,-1336.9465C1005.049,-1328.2373 1011.1529,-1318.7626 1017.0042,-1309.6801\"/>\n<polygon fill=\"#000000\" stroke=\"#000000\" points=\"1020.0389,-1311.4321 1022.5124,-1301.13 1014.1543,-1307.641 1020.0389,-1311.4321\"/>\n<text text-anchor=\"middle\" x=\"1027.7994\" y=\"-1321.8646\" font-family=\"Helvetica,sans-Serif\" font-size=\"14.00\" fill=\"#000000\">False</text>\n</g>\n<!-- 2 -->\n<g id=\"node3\" class=\"node\">\n<title>2</title>\n<polygon fill=\"none\" stroke=\"#000000\" points=\"783.5,-1197 667.5,-1197 667.5,-1129 783.5,-1129 783.5,-1197\"/>\n<text text-anchor=\"middle\" x=\"725.5\" y=\"-1181.8\" font-family=\"Helvetica,sans-Serif\" font-size=\"14.00\" fill=\"#000000\">X[27] &lt;= 0.009</text>\n<text text-anchor=\"middle\" x=\"725.5\" y=\"-1166.8\" font-family=\"Helvetica,sans-Serif\" font-size=\"14.00\" fill=\"#000000\">gini = 0.271</text>\n<text text-anchor=\"middle\" x=\"725.5\" y=\"-1151.8\" font-family=\"Helvetica,sans-Serif\" font-size=\"14.00\" fill=\"#000000\">samples = 68</text>\n<text text-anchor=\"middle\" x=\"725.5\" y=\"-1136.8\" font-family=\"Helvetica,sans-Serif\" font-size=\"14.00\" fill=\"#000000\">value = [57, 11]</text>\n</g>\n<!-- 1&#45;&gt;2 -->\n<g id=\"edge2\" class=\"edge\">\n<title>1&#45;&gt;2</title>\n<path fill=\"none\" stroke=\"#000000\" d=\"M852.4724,-1234.3791C833.4508,-1223.6858 812.1595,-1211.7167 792.5283,-1200.6808\"/>\n<polygon fill=\"#000000\" stroke=\"#000000\" points=\"794.0717,-1197.5333 783.6395,-1195.6838 790.6414,-1203.6352 794.0717,-1197.5333\"/>\n</g>\n<!-- 23 -->\n<g id=\"node24\" class=\"node\">\n<title>23</title>\n<polygon fill=\"none\" stroke=\"#000000\" points=\"970.5,-1197 854.5,-1197 854.5,-1129 970.5,-1129 970.5,-1197\"/>\n<text text-anchor=\"middle\" x=\"912.5\" y=\"-1181.8\" font-family=\"Helvetica,sans-Serif\" font-size=\"14.00\" fill=\"#000000\">X[0] &lt;= 0.028</text>\n<text text-anchor=\"middle\" x=\"912.5\" y=\"-1166.8\" font-family=\"Helvetica,sans-Serif\" font-size=\"14.00\" fill=\"#000000\">gini = 0.498</text>\n<text text-anchor=\"middle\" x=\"912.5\" y=\"-1151.8\" font-family=\"Helvetica,sans-Serif\" font-size=\"14.00\" fill=\"#000000\">samples = 32</text>\n<text text-anchor=\"middle\" x=\"912.5\" y=\"-1136.8\" font-family=\"Helvetica,sans-Serif\" font-size=\"14.00\" fill=\"#000000\">value = [15, 17]</text>\n</g>\n<!-- 1&#45;&gt;23 -->\n<g id=\"edge23\" class=\"edge\">\n<title>1&#45;&gt;23</title>\n<path fill=\"none\" stroke=\"#000000\" d=\"M911.1549,-1232.9465C911.312,-1224.776 911.4821,-1215.9318 911.6467,-1207.3697\"/>\n<polygon fill=\"#000000\" stroke=\"#000000\" points=\"915.1506,-1207.1955 911.8437,-1197.13 908.1519,-1207.0608 915.1506,-1207.1955\"/>\n</g>\n<!-- 3 -->\n<g id=\"node4\" class=\"node\">\n<title>3</title>\n<polygon fill=\"none\" stroke=\"#000000\" points=\"599,-1093 488,-1093 488,-1025 599,-1025 599,-1093\"/>\n<text text-anchor=\"middle\" x=\"543.5\" y=\"-1077.8\" font-family=\"Helvetica,sans-Serif\" font-size=\"14.00\" fill=\"#000000\">X[25] &lt;= 0.033</text>\n<text text-anchor=\"middle\" x=\"543.5\" y=\"-1062.8\" font-family=\"Helvetica,sans-Serif\" font-size=\"14.00\" fill=\"#000000\">gini = 0.198</text>\n<text text-anchor=\"middle\" x=\"543.5\" y=\"-1047.8\" font-family=\"Helvetica,sans-Serif\" font-size=\"14.00\" fill=\"#000000\">samples = 63</text>\n<text text-anchor=\"middle\" x=\"543.5\" y=\"-1032.8\" font-family=\"Helvetica,sans-Serif\" font-size=\"14.00\" fill=\"#000000\">value = [56, 7]</text>\n</g>\n<!-- 2&#45;&gt;3 -->\n<g id=\"edge3\" class=\"edge\">\n<title>2&#45;&gt;3</title>\n<path fill=\"none\" stroke=\"#000000\" d=\"M667.4137,-1129.8078C648.4688,-1118.9821 627.3243,-1106.8996 607.9416,-1095.8238\"/>\n<polygon fill=\"#000000\" stroke=\"#000000\" points=\"609.5933,-1092.7365 599.1743,-1090.8139 606.1203,-1098.8142 609.5933,-1092.7365\"/>\n</g>\n<!-- 20 -->\n<g id=\"node21\" class=\"node\">\n<title>20</title>\n<polygon fill=\"none\" stroke=\"#000000\" points=\"781,-1093 670,-1093 670,-1025 781,-1025 781,-1093\"/>\n<text text-anchor=\"middle\" x=\"725.5\" y=\"-1077.8\" font-family=\"Helvetica,sans-Serif\" font-size=\"14.00\" fill=\"#000000\">X[18] &lt;= 0.022</text>\n<text text-anchor=\"middle\" x=\"725.5\" y=\"-1062.8\" font-family=\"Helvetica,sans-Serif\" font-size=\"14.00\" fill=\"#000000\">gini = 0.32</text>\n<text text-anchor=\"middle\" x=\"725.5\" y=\"-1047.8\" font-family=\"Helvetica,sans-Serif\" font-size=\"14.00\" fill=\"#000000\">samples = 5</text>\n<text text-anchor=\"middle\" x=\"725.5\" y=\"-1032.8\" font-family=\"Helvetica,sans-Serif\" font-size=\"14.00\" fill=\"#000000\">value = [1, 4]</text>\n</g>\n<!-- 2&#45;&gt;20 -->\n<g id=\"edge20\" class=\"edge\">\n<title>2&#45;&gt;20</title>\n<path fill=\"none\" stroke=\"#000000\" d=\"M725.5,-1128.9465C725.5,-1120.776 725.5,-1111.9318 725.5,-1103.3697\"/>\n<polygon fill=\"#000000\" stroke=\"#000000\" points=\"729.0001,-1103.13 725.5,-1093.13 722.0001,-1103.13 729.0001,-1103.13\"/>\n</g>\n<!-- 4 -->\n<g id=\"node5\" class=\"node\">\n<title>4</title>\n<polygon fill=\"none\" stroke=\"#000000\" points=\"467,-989 356,-989 356,-921 467,-921 467,-989\"/>\n<text text-anchor=\"middle\" x=\"411.5\" y=\"-973.8\" font-family=\"Helvetica,sans-Serif\" font-size=\"14.00\" fill=\"#000000\">X[33] &lt;= 0.003</text>\n<text text-anchor=\"middle\" x=\"411.5\" y=\"-958.8\" font-family=\"Helvetica,sans-Serif\" font-size=\"14.00\" fill=\"#000000\">gini = 0.153</text>\n<text text-anchor=\"middle\" x=\"411.5\" y=\"-943.8\" font-family=\"Helvetica,sans-Serif\" font-size=\"14.00\" fill=\"#000000\">samples = 60</text>\n<text text-anchor=\"middle\" x=\"411.5\" y=\"-928.8\" font-family=\"Helvetica,sans-Serif\" font-size=\"14.00\" fill=\"#000000\">value = [55, 5]</text>\n</g>\n<!-- 3&#45;&gt;4 -->\n<g id=\"edge4\" class=\"edge\">\n<title>3&#45;&gt;4</title>\n<path fill=\"none\" stroke=\"#000000\" d=\"M500.2783,-1024.9465C488.3126,-1015.519 475.2085,-1005.1946 462.8296,-995.4415\"/>\n<polygon fill=\"#000000\" stroke=\"#000000\" points=\"464.8398,-992.5695 454.8188,-989.13 460.5077,-998.068 464.8398,-992.5695\"/>\n</g>\n<!-- 17 -->\n<g id=\"node18\" class=\"node\">\n<title>17</title>\n<polygon fill=\"none\" stroke=\"#000000\" points=\"601.5,-989 485.5,-989 485.5,-921 601.5,-921 601.5,-989\"/>\n<text text-anchor=\"middle\" x=\"543.5\" y=\"-973.8\" font-family=\"Helvetica,sans-Serif\" font-size=\"14.00\" fill=\"#000000\">X[11] &lt;= &#45;0.027</text>\n<text text-anchor=\"middle\" x=\"543.5\" y=\"-958.8\" font-family=\"Helvetica,sans-Serif\" font-size=\"14.00\" fill=\"#000000\">gini = 0.444</text>\n<text text-anchor=\"middle\" x=\"543.5\" y=\"-943.8\" font-family=\"Helvetica,sans-Serif\" font-size=\"14.00\" fill=\"#000000\">samples = 3</text>\n<text text-anchor=\"middle\" x=\"543.5\" y=\"-928.8\" font-family=\"Helvetica,sans-Serif\" font-size=\"14.00\" fill=\"#000000\">value = [1, 2]</text>\n</g>\n<!-- 3&#45;&gt;17 -->\n<g id=\"edge17\" class=\"edge\">\n<title>3&#45;&gt;17</title>\n<path fill=\"none\" stroke=\"#000000\" d=\"M543.5,-1024.9465C543.5,-1016.776 543.5,-1007.9318 543.5,-999.3697\"/>\n<polygon fill=\"#000000\" stroke=\"#000000\" points=\"547.0001,-999.13 543.5,-989.13 540.0001,-999.13 547.0001,-999.13\"/>\n</g>\n<!-- 5 -->\n<g id=\"node6\" class=\"node\">\n<title>5</title>\n<polygon fill=\"none\" stroke=\"#000000\" points=\"348,-885 241,-885 241,-817 348,-817 348,-885\"/>\n<text text-anchor=\"middle\" x=\"294.5\" y=\"-869.8\" font-family=\"Helvetica,sans-Serif\" font-size=\"14.00\" fill=\"#000000\">X[2] &lt;= 0.01</text>\n<text text-anchor=\"middle\" x=\"294.5\" y=\"-854.8\" font-family=\"Helvetica,sans-Serif\" font-size=\"14.00\" fill=\"#000000\">gini = 0.126</text>\n<text text-anchor=\"middle\" x=\"294.5\" y=\"-839.8\" font-family=\"Helvetica,sans-Serif\" font-size=\"14.00\" fill=\"#000000\">samples = 59</text>\n<text text-anchor=\"middle\" x=\"294.5\" y=\"-824.8\" font-family=\"Helvetica,sans-Serif\" font-size=\"14.00\" fill=\"#000000\">value = [55, 4]</text>\n</g>\n<!-- 4&#45;&gt;5 -->\n<g id=\"edge5\" class=\"edge\">\n<title>4&#45;&gt;5</title>\n<path fill=\"none\" stroke=\"#000000\" d=\"M373.1898,-920.9465C362.7859,-911.6986 351.411,-901.5876 340.6243,-891.9994\"/>\n<polygon fill=\"#000000\" stroke=\"#000000\" points=\"342.6956,-889.1577 332.8962,-885.13 338.0451,-894.3896 342.6956,-889.1577\"/>\n</g>\n<!-- 16 -->\n<g id=\"node17\" class=\"node\">\n<title>16</title>\n<polygon fill=\"none\" stroke=\"#000000\" points=\"465,-877.5 366,-877.5 366,-824.5 465,-824.5 465,-877.5\"/>\n<text text-anchor=\"middle\" x=\"415.5\" y=\"-862.3\" font-family=\"Helvetica,sans-Serif\" font-size=\"14.00\" fill=\"#000000\">gini = 0.0</text>\n<text text-anchor=\"middle\" x=\"415.5\" y=\"-847.3\" font-family=\"Helvetica,sans-Serif\" font-size=\"14.00\" fill=\"#000000\">samples = 1</text>\n<text text-anchor=\"middle\" x=\"415.5\" y=\"-832.3\" font-family=\"Helvetica,sans-Serif\" font-size=\"14.00\" fill=\"#000000\">value = [0, 1]</text>\n</g>\n<!-- 4&#45;&gt;16 -->\n<g id=\"edge16\" class=\"edge\">\n<title>4&#45;&gt;16</title>\n<path fill=\"none\" stroke=\"#000000\" d=\"M412.8097,-920.9465C413.2207,-910.2621 413.6759,-898.4254 414.0933,-887.5742\"/>\n<polygon fill=\"#000000\" stroke=\"#000000\" points=\"417.5921,-887.6693 414.4791,-877.5422 410.5973,-887.4002 417.5921,-887.6693\"/>\n</g>\n<!-- 6 -->\n<g id=\"node7\" class=\"node\">\n<title>6</title>\n<polygon fill=\"none\" stroke=\"#000000\" points=\"283,-781 176,-781 176,-713 283,-713 283,-781\"/>\n<text text-anchor=\"middle\" x=\"229.5\" y=\"-765.8\" font-family=\"Helvetica,sans-Serif\" font-size=\"14.00\" fill=\"#000000\">X[8] &lt;= &#45;0.052</text>\n<text text-anchor=\"middle\" x=\"229.5\" y=\"-750.8\" font-family=\"Helvetica,sans-Serif\" font-size=\"14.00\" fill=\"#000000\">gini = 0.039</text>\n<text text-anchor=\"middle\" x=\"229.5\" y=\"-735.8\" font-family=\"Helvetica,sans-Serif\" font-size=\"14.00\" fill=\"#000000\">samples = 50</text>\n<text text-anchor=\"middle\" x=\"229.5\" y=\"-720.8\" font-family=\"Helvetica,sans-Serif\" font-size=\"14.00\" fill=\"#000000\">value = [49, 1]</text>\n</g>\n<!-- 5&#45;&gt;6 -->\n<g id=\"edge6\" class=\"edge\">\n<title>5&#45;&gt;6</title>\n<path fill=\"none\" stroke=\"#000000\" d=\"M273.2166,-816.9465C267.7733,-808.2373 261.8516,-798.7626 256.175,-789.6801\"/>\n<polygon fill=\"#000000\" stroke=\"#000000\" points=\"259.0993,-787.755 250.8312,-781.13 253.1633,-791.465 259.0993,-787.755\"/>\n</g>\n<!-- 11 -->\n<g id=\"node12\" class=\"node\">\n<title>11</title>\n<polygon fill=\"none\" stroke=\"#000000\" points=\"417.5,-781 301.5,-781 301.5,-713 417.5,-713 417.5,-781\"/>\n<text text-anchor=\"middle\" x=\"359.5\" y=\"-765.8\" font-family=\"Helvetica,sans-Serif\" font-size=\"14.00\" fill=\"#000000\">X[28] &lt;= &#45;0.012</text>\n<text text-anchor=\"middle\" x=\"359.5\" y=\"-750.8\" font-family=\"Helvetica,sans-Serif\" font-size=\"14.00\" fill=\"#000000\">gini = 0.444</text>\n<text text-anchor=\"middle\" x=\"359.5\" y=\"-735.8\" font-family=\"Helvetica,sans-Serif\" font-size=\"14.00\" fill=\"#000000\">samples = 9</text>\n<text text-anchor=\"middle\" x=\"359.5\" y=\"-720.8\" font-family=\"Helvetica,sans-Serif\" font-size=\"14.00\" fill=\"#000000\">value = [6, 3]</text>\n</g>\n<!-- 5&#45;&gt;11 -->\n<g id=\"edge11\" class=\"edge\">\n<title>5&#45;&gt;11</title>\n<path fill=\"none\" stroke=\"#000000\" d=\"M315.7834,-816.9465C321.2267,-808.2373 327.1484,-798.7626 332.825,-789.6801\"/>\n<polygon fill=\"#000000\" stroke=\"#000000\" points=\"335.8367,-791.465 338.1688,-781.13 329.9007,-787.755 335.8367,-791.465\"/>\n</g>\n<!-- 7 -->\n<g id=\"node8\" class=\"node\">\n<title>7</title>\n<polygon fill=\"none\" stroke=\"#000000\" points=\"161,-677 54,-677 54,-609 161,-609 161,-677\"/>\n<text text-anchor=\"middle\" x=\"107.5\" y=\"-661.8\" font-family=\"Helvetica,sans-Serif\" font-size=\"14.00\" fill=\"#000000\">X[8] &lt;= &#45;0.064</text>\n<text text-anchor=\"middle\" x=\"107.5\" y=\"-646.8\" font-family=\"Helvetica,sans-Serif\" font-size=\"14.00\" fill=\"#000000\">gini = 0.5</text>\n<text text-anchor=\"middle\" x=\"107.5\" y=\"-631.8\" font-family=\"Helvetica,sans-Serif\" font-size=\"14.00\" fill=\"#000000\">samples = 2</text>\n<text text-anchor=\"middle\" x=\"107.5\" y=\"-616.8\" font-family=\"Helvetica,sans-Serif\" font-size=\"14.00\" fill=\"#000000\">value = [1, 1]</text>\n</g>\n<!-- 6&#45;&gt;7 -->\n<g id=\"edge7\" class=\"edge\">\n<title>6&#45;&gt;7</title>\n<path fill=\"none\" stroke=\"#000000\" d=\"M189.5526,-712.9465C178.5988,-703.6088 166.6127,-693.3911 155.268,-683.7203\"/>\n<polygon fill=\"#000000\" stroke=\"#000000\" points=\"157.4179,-680.9538 147.5371,-677.13 152.8767,-686.2809 157.4179,-680.9538\"/>\n</g>\n<!-- 10 -->\n<g id=\"node11\" class=\"node\">\n<title>10</title>\n<polygon fill=\"none\" stroke=\"#000000\" points=\"286,-669.5 179,-669.5 179,-616.5 286,-616.5 286,-669.5\"/>\n<text text-anchor=\"middle\" x=\"232.5\" y=\"-654.3\" font-family=\"Helvetica,sans-Serif\" font-size=\"14.00\" fill=\"#000000\">gini = 0.0</text>\n<text text-anchor=\"middle\" x=\"232.5\" y=\"-639.3\" font-family=\"Helvetica,sans-Serif\" font-size=\"14.00\" fill=\"#000000\">samples = 48</text>\n<text text-anchor=\"middle\" x=\"232.5\" y=\"-624.3\" font-family=\"Helvetica,sans-Serif\" font-size=\"14.00\" fill=\"#000000\">value = [48, 0]</text>\n</g>\n<!-- 6&#45;&gt;10 -->\n<g id=\"edge10\" class=\"edge\">\n<title>6&#45;&gt;10</title>\n<path fill=\"none\" stroke=\"#000000\" d=\"M230.4823,-712.9465C230.7905,-702.2621 231.132,-690.4254 231.445,-679.5742\"/>\n<polygon fill=\"#000000\" stroke=\"#000000\" points=\"234.9445,-679.639 231.7344,-669.5422 227.9474,-679.4371 234.9445,-679.639\"/>\n</g>\n<!-- 8 -->\n<g id=\"node9\" class=\"node\">\n<title>8</title>\n<polygon fill=\"none\" stroke=\"#000000\" points=\"99,-565.5 0,-565.5 0,-512.5 99,-512.5 99,-565.5\"/>\n<text text-anchor=\"middle\" x=\"49.5\" y=\"-550.3\" font-family=\"Helvetica,sans-Serif\" font-size=\"14.00\" fill=\"#000000\">gini = 0.0</text>\n<text text-anchor=\"middle\" x=\"49.5\" y=\"-535.3\" font-family=\"Helvetica,sans-Serif\" font-size=\"14.00\" fill=\"#000000\">samples = 1</text>\n<text text-anchor=\"middle\" x=\"49.5\" y=\"-520.3\" font-family=\"Helvetica,sans-Serif\" font-size=\"14.00\" fill=\"#000000\">value = [1, 0]</text>\n</g>\n<!-- 7&#45;&gt;8 -->\n<g id=\"edge8\" class=\"edge\">\n<title>7&#45;&gt;8</title>\n<path fill=\"none\" stroke=\"#000000\" d=\"M88.5086,-608.9465C82.3657,-597.9316 75.5399,-585.6922 69.3373,-574.5703\"/>\n<polygon fill=\"#000000\" stroke=\"#000000\" points=\"72.2299,-572.5711 64.3024,-565.5422 66.1163,-575.9806 72.2299,-572.5711\"/>\n</g>\n<!-- 9 -->\n<g id=\"node10\" class=\"node\">\n<title>9</title>\n<polygon fill=\"none\" stroke=\"#000000\" points=\"216,-565.5 117,-565.5 117,-512.5 216,-512.5 216,-565.5\"/>\n<text text-anchor=\"middle\" x=\"166.5\" y=\"-550.3\" font-family=\"Helvetica,sans-Serif\" font-size=\"14.00\" fill=\"#000000\">gini = 0.0</text>\n<text text-anchor=\"middle\" x=\"166.5\" y=\"-535.3\" font-family=\"Helvetica,sans-Serif\" font-size=\"14.00\" fill=\"#000000\">samples = 1</text>\n<text text-anchor=\"middle\" x=\"166.5\" y=\"-520.3\" font-family=\"Helvetica,sans-Serif\" font-size=\"14.00\" fill=\"#000000\">value = [0, 1]</text>\n</g>\n<!-- 7&#45;&gt;9 -->\n<g id=\"edge9\" class=\"edge\">\n<title>7&#45;&gt;9</title>\n<path fill=\"none\" stroke=\"#000000\" d=\"M126.8188,-608.9465C133.0676,-597.9316 140.0112,-585.6922 146.3207,-574.5703\"/>\n<polygon fill=\"#000000\" stroke=\"#000000\" points=\"149.5523,-575.967 151.4424,-565.5422 143.4638,-572.513 149.5523,-575.967\"/>\n</g>\n<!-- 12 -->\n<g id=\"node13\" class=\"node\">\n<title>12</title>\n<polygon fill=\"none\" stroke=\"#000000\" points=\"407,-669.5 308,-669.5 308,-616.5 407,-616.5 407,-669.5\"/>\n<text text-anchor=\"middle\" x=\"357.5\" y=\"-654.3\" font-family=\"Helvetica,sans-Serif\" font-size=\"14.00\" fill=\"#000000\">gini = 0.0</text>\n<text text-anchor=\"middle\" x=\"357.5\" y=\"-639.3\" font-family=\"Helvetica,sans-Serif\" font-size=\"14.00\" fill=\"#000000\">samples = 5</text>\n<text text-anchor=\"middle\" x=\"357.5\" y=\"-624.3\" font-family=\"Helvetica,sans-Serif\" font-size=\"14.00\" fill=\"#000000\">value = [5, 0]</text>\n</g>\n<!-- 11&#45;&gt;12 -->\n<g id=\"edge12\" class=\"edge\">\n<title>11&#45;&gt;12</title>\n<path fill=\"none\" stroke=\"#000000\" d=\"M358.8451,-712.9465C358.6397,-702.2621 358.412,-690.4254 358.2034,-679.5742\"/>\n<polygon fill=\"#000000\" stroke=\"#000000\" points=\"361.7021,-679.473 358.0104,-669.5422 354.7034,-679.6076 361.7021,-679.473\"/>\n</g>\n<!-- 13 -->\n<g id=\"node14\" class=\"node\">\n<title>13</title>\n<polygon fill=\"none\" stroke=\"#000000\" points=\"536,-677 425,-677 425,-609 536,-609 536,-677\"/>\n<text text-anchor=\"middle\" x=\"480.5\" y=\"-661.8\" font-family=\"Helvetica,sans-Serif\" font-size=\"14.00\" fill=\"#000000\">X[22] &lt;= 0.005</text>\n<text text-anchor=\"middle\" x=\"480.5\" y=\"-646.8\" font-family=\"Helvetica,sans-Serif\" font-size=\"14.00\" fill=\"#000000\">gini = 0.375</text>\n<text text-anchor=\"middle\" x=\"480.5\" y=\"-631.8\" font-family=\"Helvetica,sans-Serif\" font-size=\"14.00\" fill=\"#000000\">samples = 4</text>\n<text text-anchor=\"middle\" x=\"480.5\" y=\"-616.8\" font-family=\"Helvetica,sans-Serif\" font-size=\"14.00\" fill=\"#000000\">value = [1, 3]</text>\n</g>\n<!-- 11&#45;&gt;13 -->\n<g id=\"edge13\" class=\"edge\">\n<title>11&#45;&gt;13</title>\n<path fill=\"none\" stroke=\"#000000\" d=\"M399.1199,-712.9465C409.984,-703.6088 421.8718,-693.3911 433.1235,-683.7203\"/>\n<polygon fill=\"#000000\" stroke=\"#000000\" points=\"435.4887,-686.3026 440.7911,-677.13 430.9259,-680.994 435.4887,-686.3026\"/>\n</g>\n<!-- 14 -->\n<g id=\"node15\" class=\"node\">\n<title>14</title>\n<polygon fill=\"none\" stroke=\"#000000\" points=\"471,-565.5 372,-565.5 372,-512.5 471,-512.5 471,-565.5\"/>\n<text text-anchor=\"middle\" x=\"421.5\" y=\"-550.3\" font-family=\"Helvetica,sans-Serif\" font-size=\"14.00\" fill=\"#000000\">gini = 0.0</text>\n<text text-anchor=\"middle\" x=\"421.5\" y=\"-535.3\" font-family=\"Helvetica,sans-Serif\" font-size=\"14.00\" fill=\"#000000\">samples = 3</text>\n<text text-anchor=\"middle\" x=\"421.5\" y=\"-520.3\" font-family=\"Helvetica,sans-Serif\" font-size=\"14.00\" fill=\"#000000\">value = [0, 3]</text>\n</g>\n<!-- 13&#45;&gt;14 -->\n<g id=\"edge14\" class=\"edge\">\n<title>13&#45;&gt;14</title>\n<path fill=\"none\" stroke=\"#000000\" d=\"M461.1812,-608.9465C454.9324,-597.9316 447.9888,-585.6922 441.6793,-574.5703\"/>\n<polygon fill=\"#000000\" stroke=\"#000000\" points=\"444.5362,-572.513 436.5576,-565.5422 438.4477,-575.967 444.5362,-572.513\"/>\n</g>\n<!-- 15 -->\n<g id=\"node16\" class=\"node\">\n<title>15</title>\n<polygon fill=\"none\" stroke=\"#000000\" points=\"588,-565.5 489,-565.5 489,-512.5 588,-512.5 588,-565.5\"/>\n<text text-anchor=\"middle\" x=\"538.5\" y=\"-550.3\" font-family=\"Helvetica,sans-Serif\" font-size=\"14.00\" fill=\"#000000\">gini = 0.0</text>\n<text text-anchor=\"middle\" x=\"538.5\" y=\"-535.3\" font-family=\"Helvetica,sans-Serif\" font-size=\"14.00\" fill=\"#000000\">samples = 1</text>\n<text text-anchor=\"middle\" x=\"538.5\" y=\"-520.3\" font-family=\"Helvetica,sans-Serif\" font-size=\"14.00\" fill=\"#000000\">value = [1, 0]</text>\n</g>\n<!-- 13&#45;&gt;15 -->\n<g id=\"edge15\" class=\"edge\">\n<title>13&#45;&gt;15</title>\n<path fill=\"none\" stroke=\"#000000\" d=\"M499.4914,-608.9465C505.6343,-597.9316 512.4601,-585.6922 518.6627,-574.5703\"/>\n<polygon fill=\"#000000\" stroke=\"#000000\" points=\"521.8837,-575.9806 523.6976,-565.5422 515.7701,-572.5711 521.8837,-575.9806\"/>\n</g>\n<!-- 18 -->\n<g id=\"node19\" class=\"node\">\n<title>18</title>\n<polygon fill=\"none\" stroke=\"#000000\" points=\"589,-877.5 490,-877.5 490,-824.5 589,-824.5 589,-877.5\"/>\n<text text-anchor=\"middle\" x=\"539.5\" y=\"-862.3\" font-family=\"Helvetica,sans-Serif\" font-size=\"14.00\" fill=\"#000000\">gini = 0.0</text>\n<text text-anchor=\"middle\" x=\"539.5\" y=\"-847.3\" font-family=\"Helvetica,sans-Serif\" font-size=\"14.00\" fill=\"#000000\">samples = 1</text>\n<text text-anchor=\"middle\" x=\"539.5\" y=\"-832.3\" font-family=\"Helvetica,sans-Serif\" font-size=\"14.00\" fill=\"#000000\">value = [1, 0]</text>\n</g>\n<!-- 17&#45;&gt;18 -->\n<g id=\"edge18\" class=\"edge\">\n<title>17&#45;&gt;18</title>\n<path fill=\"none\" stroke=\"#000000\" d=\"M542.1903,-920.9465C541.7793,-910.2621 541.3241,-898.4254 540.9067,-887.5742\"/>\n<polygon fill=\"#000000\" stroke=\"#000000\" points=\"544.4027,-887.4002 540.5209,-877.5422 537.4079,-887.6693 544.4027,-887.4002\"/>\n</g>\n<!-- 19 -->\n<g id=\"node20\" class=\"node\">\n<title>19</title>\n<polygon fill=\"none\" stroke=\"#000000\" points=\"706,-877.5 607,-877.5 607,-824.5 706,-824.5 706,-877.5\"/>\n<text text-anchor=\"middle\" x=\"656.5\" y=\"-862.3\" font-family=\"Helvetica,sans-Serif\" font-size=\"14.00\" fill=\"#000000\">gini = 0.0</text>\n<text text-anchor=\"middle\" x=\"656.5\" y=\"-847.3\" font-family=\"Helvetica,sans-Serif\" font-size=\"14.00\" fill=\"#000000\">samples = 2</text>\n<text text-anchor=\"middle\" x=\"656.5\" y=\"-832.3\" font-family=\"Helvetica,sans-Serif\" font-size=\"14.00\" fill=\"#000000\">value = [0, 2]</text>\n</g>\n<!-- 17&#45;&gt;19 -->\n<g id=\"edge19\" class=\"edge\">\n<title>17&#45;&gt;19</title>\n<path fill=\"none\" stroke=\"#000000\" d=\"M580.5004,-920.9465C593.1866,-909.2707 607.3678,-896.219 620.013,-884.5809\"/>\n<polygon fill=\"#000000\" stroke=\"#000000\" points=\"622.6731,-886.8895 627.6609,-877.5422 617.9327,-881.7389 622.6731,-886.8895\"/>\n</g>\n<!-- 21 -->\n<g id=\"node22\" class=\"node\">\n<title>21</title>\n<polygon fill=\"none\" stroke=\"#000000\" points=\"719,-981.5 620,-981.5 620,-928.5 719,-928.5 719,-981.5\"/>\n<text text-anchor=\"middle\" x=\"669.5\" y=\"-966.3\" font-family=\"Helvetica,sans-Serif\" font-size=\"14.00\" fill=\"#000000\">gini = 0.0</text>\n<text text-anchor=\"middle\" x=\"669.5\" y=\"-951.3\" font-family=\"Helvetica,sans-Serif\" font-size=\"14.00\" fill=\"#000000\">samples = 4</text>\n<text text-anchor=\"middle\" x=\"669.5\" y=\"-936.3\" font-family=\"Helvetica,sans-Serif\" font-size=\"14.00\" fill=\"#000000\">value = [0, 4]</text>\n</g>\n<!-- 20&#45;&gt;21 -->\n<g id=\"edge21\" class=\"edge\">\n<title>20&#45;&gt;21</title>\n<path fill=\"none\" stroke=\"#000000\" d=\"M707.1635,-1024.9465C701.2324,-1013.9316 694.6419,-1001.6922 688.6532,-990.5703\"/>\n<polygon fill=\"#000000\" stroke=\"#000000\" points=\"691.6146,-988.6875 683.7919,-981.5422 685.4513,-992.0063 691.6146,-988.6875\"/>\n</g>\n<!-- 22 -->\n<g id=\"node23\" class=\"node\">\n<title>22</title>\n<polygon fill=\"none\" stroke=\"#000000\" points=\"836,-981.5 737,-981.5 737,-928.5 836,-928.5 836,-981.5\"/>\n<text text-anchor=\"middle\" x=\"786.5\" y=\"-966.3\" font-family=\"Helvetica,sans-Serif\" font-size=\"14.00\" fill=\"#000000\">gini = 0.0</text>\n<text text-anchor=\"middle\" x=\"786.5\" y=\"-951.3\" font-family=\"Helvetica,sans-Serif\" font-size=\"14.00\" fill=\"#000000\">samples = 1</text>\n<text text-anchor=\"middle\" x=\"786.5\" y=\"-936.3\" font-family=\"Helvetica,sans-Serif\" font-size=\"14.00\" fill=\"#000000\">value = [1, 0]</text>\n</g>\n<!-- 20&#45;&gt;22 -->\n<g id=\"edge22\" class=\"edge\">\n<title>20&#45;&gt;22</title>\n<path fill=\"none\" stroke=\"#000000\" d=\"M745.4737,-1024.9465C751.999,-1013.8215 759.2569,-1001.4473 765.8322,-990.237\"/>\n<polygon fill=\"#000000\" stroke=\"#000000\" points=\"768.8916,-991.9387 770.932,-981.5422 762.8536,-988.3971 768.8916,-991.9387\"/>\n</g>\n<!-- 24 -->\n<g id=\"node25\" class=\"node\">\n<title>24</title>\n<polygon fill=\"none\" stroke=\"#000000\" points=\"970.5,-1093 854.5,-1093 854.5,-1025 970.5,-1025 970.5,-1093\"/>\n<text text-anchor=\"middle\" x=\"912.5\" y=\"-1077.8\" font-family=\"Helvetica,sans-Serif\" font-size=\"14.00\" fill=\"#000000\">X[17] &lt;= &#45;0.013</text>\n<text text-anchor=\"middle\" x=\"912.5\" y=\"-1062.8\" font-family=\"Helvetica,sans-Serif\" font-size=\"14.00\" fill=\"#000000\">gini = 0.453</text>\n<text text-anchor=\"middle\" x=\"912.5\" y=\"-1047.8\" font-family=\"Helvetica,sans-Serif\" font-size=\"14.00\" fill=\"#000000\">samples = 26</text>\n<text text-anchor=\"middle\" x=\"912.5\" y=\"-1032.8\" font-family=\"Helvetica,sans-Serif\" font-size=\"14.00\" fill=\"#000000\">value = [9, 17]</text>\n</g>\n<!-- 23&#45;&gt;24 -->\n<g id=\"edge24\" class=\"edge\">\n<title>23&#45;&gt;24</title>\n<path fill=\"none\" stroke=\"#000000\" d=\"M912.5,-1128.9465C912.5,-1120.776 912.5,-1111.9318 912.5,-1103.3697\"/>\n<polygon fill=\"#000000\" stroke=\"#000000\" points=\"916.0001,-1103.13 912.5,-1093.13 909.0001,-1103.13 916.0001,-1103.13\"/>\n</g>\n<!-- 35 -->\n<g id=\"node36\" class=\"node\">\n<title>35</title>\n<polygon fill=\"none\" stroke=\"#000000\" points=\"1088,-1085.5 989,-1085.5 989,-1032.5 1088,-1032.5 1088,-1085.5\"/>\n<text text-anchor=\"middle\" x=\"1038.5\" y=\"-1070.3\" font-family=\"Helvetica,sans-Serif\" font-size=\"14.00\" fill=\"#000000\">gini = 0.0</text>\n<text text-anchor=\"middle\" x=\"1038.5\" y=\"-1055.3\" font-family=\"Helvetica,sans-Serif\" font-size=\"14.00\" fill=\"#000000\">samples = 6</text>\n<text text-anchor=\"middle\" x=\"1038.5\" y=\"-1040.3\" font-family=\"Helvetica,sans-Serif\" font-size=\"14.00\" fill=\"#000000\">value = [6, 0]</text>\n</g>\n<!-- 23&#45;&gt;35 -->\n<g id=\"edge35\" class=\"edge\">\n<title>23&#45;&gt;35</title>\n<path fill=\"none\" stroke=\"#000000\" d=\"M953.7571,-1128.9465C968.1697,-1117.0504 984.3127,-1103.726 998.6117,-1091.9237\"/>\n<polygon fill=\"#000000\" stroke=\"#000000\" points=\"1000.8589,-1094.6071 1006.3431,-1085.5422 996.4029,-1089.2086 1000.8589,-1094.6071\"/>\n</g>\n<!-- 25 -->\n<g id=\"node26\" class=\"node\">\n<title>25</title>\n<polygon fill=\"none\" stroke=\"#000000\" points=\"970.5,-989 854.5,-989 854.5,-921 970.5,-921 970.5,-989\"/>\n<text text-anchor=\"middle\" x=\"912.5\" y=\"-973.8\" font-family=\"Helvetica,sans-Serif\" font-size=\"14.00\" fill=\"#000000\">X[24] &lt;= &#45;0.012</text>\n<text text-anchor=\"middle\" x=\"912.5\" y=\"-958.8\" font-family=\"Helvetica,sans-Serif\" font-size=\"14.00\" fill=\"#000000\">gini = 0.32</text>\n<text text-anchor=\"middle\" x=\"912.5\" y=\"-943.8\" font-family=\"Helvetica,sans-Serif\" font-size=\"14.00\" fill=\"#000000\">samples = 5</text>\n<text text-anchor=\"middle\" x=\"912.5\" y=\"-928.8\" font-family=\"Helvetica,sans-Serif\" font-size=\"14.00\" fill=\"#000000\">value = [4, 1]</text>\n</g>\n<!-- 24&#45;&gt;25 -->\n<g id=\"edge25\" class=\"edge\">\n<title>24&#45;&gt;25</title>\n<path fill=\"none\" stroke=\"#000000\" d=\"M912.5,-1024.9465C912.5,-1016.776 912.5,-1007.9318 912.5,-999.3697\"/>\n<polygon fill=\"#000000\" stroke=\"#000000\" points=\"916.0001,-999.13 912.5,-989.13 909.0001,-999.13 916.0001,-999.13\"/>\n</g>\n<!-- 28 -->\n<g id=\"node29\" class=\"node\">\n<title>28</title>\n<polygon fill=\"none\" stroke=\"#000000\" points=\"1100,-989 989,-989 989,-921 1100,-921 1100,-989\"/>\n<text text-anchor=\"middle\" x=\"1044.5\" y=\"-973.8\" font-family=\"Helvetica,sans-Serif\" font-size=\"14.00\" fill=\"#000000\">X[14] &lt;= 0.001</text>\n<text text-anchor=\"middle\" x=\"1044.5\" y=\"-958.8\" font-family=\"Helvetica,sans-Serif\" font-size=\"14.00\" fill=\"#000000\">gini = 0.363</text>\n<text text-anchor=\"middle\" x=\"1044.5\" y=\"-943.8\" font-family=\"Helvetica,sans-Serif\" font-size=\"14.00\" fill=\"#000000\">samples = 21</text>\n<text text-anchor=\"middle\" x=\"1044.5\" y=\"-928.8\" font-family=\"Helvetica,sans-Serif\" font-size=\"14.00\" fill=\"#000000\">value = [5, 16]</text>\n</g>\n<!-- 24&#45;&gt;28 -->\n<g id=\"edge28\" class=\"edge\">\n<title>24&#45;&gt;28</title>\n<path fill=\"none\" stroke=\"#000000\" d=\"M955.7217,-1024.9465C967.6874,-1015.519 980.7915,-1005.1946 993.1704,-995.4415\"/>\n<polygon fill=\"#000000\" stroke=\"#000000\" points=\"995.4923,-998.068 1001.1812,-989.13 991.1602,-992.5695 995.4923,-998.068\"/>\n</g>\n<!-- 26 -->\n<g id=\"node27\" class=\"node\">\n<title>26</title>\n<polygon fill=\"none\" stroke=\"#000000\" points=\"847,-877.5 748,-877.5 748,-824.5 847,-824.5 847,-877.5\"/>\n<text text-anchor=\"middle\" x=\"797.5\" y=\"-862.3\" font-family=\"Helvetica,sans-Serif\" font-size=\"14.00\" fill=\"#000000\">gini = 0.0</text>\n<text text-anchor=\"middle\" x=\"797.5\" y=\"-847.3\" font-family=\"Helvetica,sans-Serif\" font-size=\"14.00\" fill=\"#000000\">samples = 1</text>\n<text text-anchor=\"middle\" x=\"797.5\" y=\"-832.3\" font-family=\"Helvetica,sans-Serif\" font-size=\"14.00\" fill=\"#000000\">value = [0, 1]</text>\n</g>\n<!-- 25&#45;&gt;26 -->\n<g id=\"edge26\" class=\"edge\">\n<title>25&#45;&gt;26</title>\n<path fill=\"none\" stroke=\"#000000\" d=\"M874.8447,-920.9465C861.8122,-909.1606 847.2294,-895.9726 834.2689,-884.2519\"/>\n<polygon fill=\"#000000\" stroke=\"#000000\" points=\"836.614,-881.6537 826.8495,-877.5422 831.9188,-886.8456 836.614,-881.6537\"/>\n</g>\n<!-- 27 -->\n<g id=\"node28\" class=\"node\">\n<title>27</title>\n<polygon fill=\"none\" stroke=\"#000000\" points=\"964,-877.5 865,-877.5 865,-824.5 964,-824.5 964,-877.5\"/>\n<text text-anchor=\"middle\" x=\"914.5\" y=\"-862.3\" font-family=\"Helvetica,sans-Serif\" font-size=\"14.00\" fill=\"#000000\">gini = 0.0</text>\n<text text-anchor=\"middle\" x=\"914.5\" y=\"-847.3\" font-family=\"Helvetica,sans-Serif\" font-size=\"14.00\" fill=\"#000000\">samples = 4</text>\n<text text-anchor=\"middle\" x=\"914.5\" y=\"-832.3\" font-family=\"Helvetica,sans-Serif\" font-size=\"14.00\" fill=\"#000000\">value = [4, 0]</text>\n</g>\n<!-- 25&#45;&gt;27 -->\n<g id=\"edge27\" class=\"edge\">\n<title>25&#45;&gt;27</title>\n<path fill=\"none\" stroke=\"#000000\" d=\"M913.1549,-920.9465C913.3603,-910.2621 913.588,-898.4254 913.7966,-887.5742\"/>\n<polygon fill=\"#000000\" stroke=\"#000000\" points=\"917.2966,-887.6076 913.9896,-877.5422 910.2979,-887.473 917.2966,-887.6076\"/>\n</g>\n<!-- 29 -->\n<g id=\"node30\" class=\"node\">\n<title>29</title>\n<polygon fill=\"none\" stroke=\"#000000\" points=\"1101.5,-885 985.5,-885 985.5,-817 1101.5,-817 1101.5,-885\"/>\n<text text-anchor=\"middle\" x=\"1043.5\" y=\"-869.8\" font-family=\"Helvetica,sans-Serif\" font-size=\"14.00\" fill=\"#000000\">X[14] &lt;= &#45;0.012</text>\n<text text-anchor=\"middle\" x=\"1043.5\" y=\"-854.8\" font-family=\"Helvetica,sans-Serif\" font-size=\"14.00\" fill=\"#000000\">gini = 0.5</text>\n<text text-anchor=\"middle\" x=\"1043.5\" y=\"-839.8\" font-family=\"Helvetica,sans-Serif\" font-size=\"14.00\" fill=\"#000000\">samples = 10</text>\n<text text-anchor=\"middle\" x=\"1043.5\" y=\"-824.8\" font-family=\"Helvetica,sans-Serif\" font-size=\"14.00\" fill=\"#000000\">value = [5, 5]</text>\n</g>\n<!-- 28&#45;&gt;29 -->\n<g id=\"edge29\" class=\"edge\">\n<title>28&#45;&gt;29</title>\n<path fill=\"none\" stroke=\"#000000\" d=\"M1044.1726,-920.9465C1044.094,-912.776 1044.009,-903.9318 1043.9266,-895.3697\"/>\n<polygon fill=\"#000000\" stroke=\"#000000\" points=\"1047.4243,-895.0958 1043.8282,-885.13 1040.4246,-895.1632 1047.4243,-895.0958\"/>\n</g>\n<!-- 34 -->\n<g id=\"node35\" class=\"node\">\n<title>34</title>\n<polygon fill=\"none\" stroke=\"#000000\" points=\"1227,-877.5 1120,-877.5 1120,-824.5 1227,-824.5 1227,-877.5\"/>\n<text text-anchor=\"middle\" x=\"1173.5\" y=\"-862.3\" font-family=\"Helvetica,sans-Serif\" font-size=\"14.00\" fill=\"#000000\">gini = 0.0</text>\n<text text-anchor=\"middle\" x=\"1173.5\" y=\"-847.3\" font-family=\"Helvetica,sans-Serif\" font-size=\"14.00\" fill=\"#000000\">samples = 11</text>\n<text text-anchor=\"middle\" x=\"1173.5\" y=\"-832.3\" font-family=\"Helvetica,sans-Serif\" font-size=\"14.00\" fill=\"#000000\">value = [0, 11]</text>\n</g>\n<!-- 28&#45;&gt;34 -->\n<g id=\"edge34\" class=\"edge\">\n<title>28&#45;&gt;34</title>\n<path fill=\"none\" stroke=\"#000000\" d=\"M1086.7394,-920.9465C1101.4952,-909.0504 1118.0225,-895.726 1132.662,-883.9237\"/>\n<polygon fill=\"#000000\" stroke=\"#000000\" points=\"1134.9891,-886.5433 1140.5775,-877.5422 1130.5957,-881.0938 1134.9891,-886.5433\"/>\n</g>\n<!-- 30 -->\n<g id=\"node31\" class=\"node\">\n<title>30</title>\n<polygon fill=\"none\" stroke=\"#000000\" points=\"1008,-773.5 909,-773.5 909,-720.5 1008,-720.5 1008,-773.5\"/>\n<text text-anchor=\"middle\" x=\"958.5\" y=\"-758.3\" font-family=\"Helvetica,sans-Serif\" font-size=\"14.00\" fill=\"#000000\">gini = 0.0</text>\n<text text-anchor=\"middle\" x=\"958.5\" y=\"-743.3\" font-family=\"Helvetica,sans-Serif\" font-size=\"14.00\" fill=\"#000000\">samples = 4</text>\n<text text-anchor=\"middle\" x=\"958.5\" y=\"-728.3\" font-family=\"Helvetica,sans-Serif\" font-size=\"14.00\" fill=\"#000000\">value = [0, 4]</text>\n</g>\n<!-- 29&#45;&gt;30 -->\n<g id=\"edge30\" class=\"edge\">\n<title>29&#45;&gt;30</title>\n<path fill=\"none\" stroke=\"#000000\" d=\"M1015.6678,-816.9465C1006.3952,-805.6012 996.0608,-792.9567 986.7563,-781.5724\"/>\n<polygon fill=\"#000000\" stroke=\"#000000\" points=\"989.2315,-779.0701 980.1931,-773.5422 983.8115,-783.5 989.2315,-779.0701\"/>\n</g>\n<!-- 31 -->\n<g id=\"node32\" class=\"node\">\n<title>31</title>\n<polygon fill=\"none\" stroke=\"#000000\" points=\"1129,-781 1026,-781 1026,-713 1129,-713 1129,-781\"/>\n<text text-anchor=\"middle\" x=\"1077.5\" y=\"-765.8\" font-family=\"Helvetica,sans-Serif\" font-size=\"14.00\" fill=\"#000000\">X[1] &lt;= 0.013</text>\n<text text-anchor=\"middle\" x=\"1077.5\" y=\"-750.8\" font-family=\"Helvetica,sans-Serif\" font-size=\"14.00\" fill=\"#000000\">gini = 0.278</text>\n<text text-anchor=\"middle\" x=\"1077.5\" y=\"-735.8\" font-family=\"Helvetica,sans-Serif\" font-size=\"14.00\" fill=\"#000000\">samples = 6</text>\n<text text-anchor=\"middle\" x=\"1077.5\" y=\"-720.8\" font-family=\"Helvetica,sans-Serif\" font-size=\"14.00\" fill=\"#000000\">value = [5, 1]</text>\n</g>\n<!-- 29&#45;&gt;31 -->\n<g id=\"edge31\" class=\"edge\">\n<title>29&#45;&gt;31</title>\n<path fill=\"none\" stroke=\"#000000\" d=\"M1054.6329,-816.9465C1057.3627,-808.5965 1060.3226,-799.5427 1063.1789,-790.8056\"/>\n<polygon fill=\"#000000\" stroke=\"#000000\" points=\"1066.5614,-791.7226 1066.3421,-781.13 1059.9079,-789.5473 1066.5614,-791.7226\"/>\n</g>\n<!-- 32 -->\n<g id=\"node33\" class=\"node\">\n<title>32</title>\n<polygon fill=\"none\" stroke=\"#000000\" points=\"1013,-669.5 914,-669.5 914,-616.5 1013,-616.5 1013,-669.5\"/>\n<text text-anchor=\"middle\" x=\"963.5\" y=\"-654.3\" font-family=\"Helvetica,sans-Serif\" font-size=\"14.00\" fill=\"#000000\">gini = 0.0</text>\n<text text-anchor=\"middle\" x=\"963.5\" y=\"-639.3\" font-family=\"Helvetica,sans-Serif\" font-size=\"14.00\" fill=\"#000000\">samples = 5</text>\n<text text-anchor=\"middle\" x=\"963.5\" y=\"-624.3\" font-family=\"Helvetica,sans-Serif\" font-size=\"14.00\" fill=\"#000000\">value = [5, 0]</text>\n</g>\n<!-- 31&#45;&gt;32 -->\n<g id=\"edge32\" class=\"edge\">\n<title>31&#45;&gt;32</title>\n<path fill=\"none\" stroke=\"#000000\" d=\"M1040.1721,-712.9465C1027.3737,-701.2707 1013.067,-688.219 1000.3099,-676.5809\"/>\n<polygon fill=\"#000000\" stroke=\"#000000\" points=\"1002.3409,-673.6961 992.5943,-669.5422 997.6231,-678.8675 1002.3409,-673.6961\"/>\n</g>\n<!-- 33 -->\n<g id=\"node34\" class=\"node\">\n<title>33</title>\n<polygon fill=\"none\" stroke=\"#000000\" points=\"1130,-669.5 1031,-669.5 1031,-616.5 1130,-616.5 1130,-669.5\"/>\n<text text-anchor=\"middle\" x=\"1080.5\" y=\"-654.3\" font-family=\"Helvetica,sans-Serif\" font-size=\"14.00\" fill=\"#000000\">gini = 0.0</text>\n<text text-anchor=\"middle\" x=\"1080.5\" y=\"-639.3\" font-family=\"Helvetica,sans-Serif\" font-size=\"14.00\" fill=\"#000000\">samples = 1</text>\n<text text-anchor=\"middle\" x=\"1080.5\" y=\"-624.3\" font-family=\"Helvetica,sans-Serif\" font-size=\"14.00\" fill=\"#000000\">value = [0, 1]</text>\n</g>\n<!-- 31&#45;&gt;33 -->\n<g id=\"edge33\" class=\"edge\">\n<title>31&#45;&gt;33</title>\n<path fill=\"none\" stroke=\"#000000\" d=\"M1078.4823,-712.9465C1078.7905,-702.2621 1079.132,-690.4254 1079.445,-679.5742\"/>\n<polygon fill=\"#000000\" stroke=\"#000000\" points=\"1082.9445,-679.639 1079.7344,-669.5422 1075.9474,-679.4371 1082.9445,-679.639\"/>\n</g>\n<!-- 37 -->\n<g id=\"node38\" class=\"node\">\n<title>37</title>\n<polygon fill=\"none\" stroke=\"#000000\" points=\"1092,-1189.5 993,-1189.5 993,-1136.5 1092,-1136.5 1092,-1189.5\"/>\n<text text-anchor=\"middle\" x=\"1042.5\" y=\"-1174.3\" font-family=\"Helvetica,sans-Serif\" font-size=\"14.00\" fill=\"#000000\">gini = 0.0</text>\n<text text-anchor=\"middle\" x=\"1042.5\" y=\"-1159.3\" font-family=\"Helvetica,sans-Serif\" font-size=\"14.00\" fill=\"#000000\">samples = 7</text>\n<text text-anchor=\"middle\" x=\"1042.5\" y=\"-1144.3\" font-family=\"Helvetica,sans-Serif\" font-size=\"14.00\" fill=\"#000000\">value = [7, 0]</text>\n</g>\n<!-- 36&#45;&gt;37 -->\n<g id=\"edge37\" class=\"edge\">\n<title>36&#45;&gt;37</title>\n<path fill=\"none\" stroke=\"#000000\" d=\"M1043.8451,-1232.9465C1043.6397,-1222.2621 1043.412,-1210.4254 1043.2034,-1199.5742\"/>\n<polygon fill=\"#000000\" stroke=\"#000000\" points=\"1046.7021,-1199.473 1043.0104,-1189.5422 1039.7034,-1199.6076 1046.7021,-1199.473\"/>\n</g>\n<!-- 38 -->\n<g id=\"node39\" class=\"node\">\n<title>38</title>\n<polygon fill=\"none\" stroke=\"#000000\" points=\"1226.5,-1197 1110.5,-1197 1110.5,-1129 1226.5,-1129 1226.5,-1197\"/>\n<text text-anchor=\"middle\" x=\"1168.5\" y=\"-1181.8\" font-family=\"Helvetica,sans-Serif\" font-size=\"14.00\" fill=\"#000000\">X[3] &lt;= &#45;0.018</text>\n<text text-anchor=\"middle\" x=\"1168.5\" y=\"-1166.8\" font-family=\"Helvetica,sans-Serif\" font-size=\"14.00\" fill=\"#000000\">gini = 0.323</text>\n<text text-anchor=\"middle\" x=\"1168.5\" y=\"-1151.8\" font-family=\"Helvetica,sans-Serif\" font-size=\"14.00\" fill=\"#000000\">samples = 94</text>\n<text text-anchor=\"middle\" x=\"1168.5\" y=\"-1136.8\" font-family=\"Helvetica,sans-Serif\" font-size=\"14.00\" fill=\"#000000\">value = [19, 75]</text>\n</g>\n<!-- 36&#45;&gt;38 -->\n<g id=\"edge38\" class=\"edge\">\n<title>36&#45;&gt;38</title>\n<path fill=\"none\" stroke=\"#000000\" d=\"M1085.1022,-1232.9465C1096.2356,-1223.6088 1108.4183,-1213.3911 1119.9489,-1203.7203\"/>\n<polygon fill=\"#000000\" stroke=\"#000000\" points=\"1122.3938,-1206.2378 1127.8065,-1197.13 1117.8954,-1200.8745 1122.3938,-1206.2378\"/>\n</g>\n<!-- 39 -->\n<g id=\"node40\" class=\"node\">\n<title>39</title>\n<polygon fill=\"none\" stroke=\"#000000\" points=\"1212,-1085.5 1113,-1085.5 1113,-1032.5 1212,-1032.5 1212,-1085.5\"/>\n<text text-anchor=\"middle\" x=\"1162.5\" y=\"-1070.3\" font-family=\"Helvetica,sans-Serif\" font-size=\"14.00\" fill=\"#000000\">gini = 0.0</text>\n<text text-anchor=\"middle\" x=\"1162.5\" y=\"-1055.3\" font-family=\"Helvetica,sans-Serif\" font-size=\"14.00\" fill=\"#000000\">samples = 4</text>\n<text text-anchor=\"middle\" x=\"1162.5\" y=\"-1040.3\" font-family=\"Helvetica,sans-Serif\" font-size=\"14.00\" fill=\"#000000\">value = [4, 0]</text>\n</g>\n<!-- 38&#45;&gt;39 -->\n<g id=\"edge39\" class=\"edge\">\n<title>38&#45;&gt;39</title>\n<path fill=\"none\" stroke=\"#000000\" d=\"M1166.5354,-1128.9465C1165.919,-1118.2621 1165.2361,-1106.4254 1164.6101,-1095.5742\"/>\n<polygon fill=\"#000000\" stroke=\"#000000\" points=\"1168.1015,-1095.3239 1164.0313,-1085.5422 1161.1131,-1095.7272 1168.1015,-1095.3239\"/>\n</g>\n<!-- 40 -->\n<g id=\"node41\" class=\"node\">\n<title>40</title>\n<polygon fill=\"none\" stroke=\"#000000\" points=\"1346.5,-1093 1230.5,-1093 1230.5,-1025 1346.5,-1025 1346.5,-1093\"/>\n<text text-anchor=\"middle\" x=\"1288.5\" y=\"-1077.8\" font-family=\"Helvetica,sans-Serif\" font-size=\"14.00\" fill=\"#000000\">X[16] &lt;= &#45;0.027</text>\n<text text-anchor=\"middle\" x=\"1288.5\" y=\"-1062.8\" font-family=\"Helvetica,sans-Serif\" font-size=\"14.00\" fill=\"#000000\">gini = 0.278</text>\n<text text-anchor=\"middle\" x=\"1288.5\" y=\"-1047.8\" font-family=\"Helvetica,sans-Serif\" font-size=\"14.00\" fill=\"#000000\">samples = 90</text>\n<text text-anchor=\"middle\" x=\"1288.5\" y=\"-1032.8\" font-family=\"Helvetica,sans-Serif\" font-size=\"14.00\" fill=\"#000000\">value = [15, 75]</text>\n</g>\n<!-- 38&#45;&gt;40 -->\n<g id=\"edge40\" class=\"edge\">\n<title>38&#45;&gt;40</title>\n<path fill=\"none\" stroke=\"#000000\" d=\"M1207.7925,-1128.9465C1218.5667,-1119.6088 1230.3564,-1109.3911 1241.515,-1099.7203\"/>\n<polygon fill=\"#000000\" stroke=\"#000000\" points=\"1243.8546,-1102.3243 1249.1192,-1093.13 1239.2701,-1097.0344 1243.8546,-1102.3243\"/>\n</g>\n<!-- 41 -->\n<g id=\"node42\" class=\"node\">\n<title>41</title>\n<polygon fill=\"none\" stroke=\"#000000\" points=\"1324,-981.5 1225,-981.5 1225,-928.5 1324,-928.5 1324,-981.5\"/>\n<text text-anchor=\"middle\" x=\"1274.5\" y=\"-966.3\" font-family=\"Helvetica,sans-Serif\" font-size=\"14.00\" fill=\"#000000\">gini = 0.0</text>\n<text text-anchor=\"middle\" x=\"1274.5\" y=\"-951.3\" font-family=\"Helvetica,sans-Serif\" font-size=\"14.00\" fill=\"#000000\">samples = 3</text>\n<text text-anchor=\"middle\" x=\"1274.5\" y=\"-936.3\" font-family=\"Helvetica,sans-Serif\" font-size=\"14.00\" fill=\"#000000\">value = [3, 0]</text>\n</g>\n<!-- 40&#45;&gt;41 -->\n<g id=\"edge41\" class=\"edge\">\n<title>40&#45;&gt;41</title>\n<path fill=\"none\" stroke=\"#000000\" d=\"M1283.9159,-1024.9465C1282.4776,-1014.2621 1280.8842,-1002.4254 1279.4235,-991.5742\"/>\n<polygon fill=\"#000000\" stroke=\"#000000\" points=\"1282.8759,-990.9858 1278.073,-981.5422 1275.9385,-991.9197 1282.8759,-990.9858\"/>\n</g>\n<!-- 42 -->\n<g id=\"node43\" class=\"node\">\n<title>42</title>\n<polygon fill=\"none\" stroke=\"#000000\" points=\"1458.5,-989 1342.5,-989 1342.5,-921 1458.5,-921 1458.5,-989\"/>\n<text text-anchor=\"middle\" x=\"1400.5\" y=\"-973.8\" font-family=\"Helvetica,sans-Serif\" font-size=\"14.00\" fill=\"#000000\">X[4] &lt;= 0.038</text>\n<text text-anchor=\"middle\" x=\"1400.5\" y=\"-958.8\" font-family=\"Helvetica,sans-Serif\" font-size=\"14.00\" fill=\"#000000\">gini = 0.238</text>\n<text text-anchor=\"middle\" x=\"1400.5\" y=\"-943.8\" font-family=\"Helvetica,sans-Serif\" font-size=\"14.00\" fill=\"#000000\">samples = 87</text>\n<text text-anchor=\"middle\" x=\"1400.5\" y=\"-928.8\" font-family=\"Helvetica,sans-Serif\" font-size=\"14.00\" fill=\"#000000\">value = [12, 75]</text>\n</g>\n<!-- 40&#45;&gt;42 -->\n<g id=\"edge42\" class=\"edge\">\n<title>40&#45;&gt;42</title>\n<path fill=\"none\" stroke=\"#000000\" d=\"M1325.173,-1024.9465C1335.1323,-1015.6986 1346.0211,-1005.5876 1356.3468,-995.9994\"/>\n<polygon fill=\"#000000\" stroke=\"#000000\" points=\"1358.7982,-998.4993 1363.7446,-989.13 1354.0351,-993.3698 1358.7982,-998.4993\"/>\n</g>\n<!-- 43 -->\n<g id=\"node44\" class=\"node\">\n<title>43</title>\n<polygon fill=\"none\" stroke=\"#000000\" points=\"1449,-885 1338,-885 1338,-817 1449,-817 1449,-885\"/>\n<text text-anchor=\"middle\" x=\"1393.5\" y=\"-869.8\" font-family=\"Helvetica,sans-Serif\" font-size=\"14.00\" fill=\"#000000\">X[24] &lt;= 0.012</text>\n<text text-anchor=\"middle\" x=\"1393.5\" y=\"-854.8\" font-family=\"Helvetica,sans-Serif\" font-size=\"14.00\" fill=\"#000000\">gini = 0.198</text>\n<text text-anchor=\"middle\" x=\"1393.5\" y=\"-839.8\" font-family=\"Helvetica,sans-Serif\" font-size=\"14.00\" fill=\"#000000\">samples = 81</text>\n<text text-anchor=\"middle\" x=\"1393.5\" y=\"-824.8\" font-family=\"Helvetica,sans-Serif\" font-size=\"14.00\" fill=\"#000000\">value = [9, 72]</text>\n</g>\n<!-- 42&#45;&gt;43 -->\n<g id=\"edge43\" class=\"edge\">\n<title>42&#45;&gt;43</title>\n<path fill=\"none\" stroke=\"#000000\" d=\"M1398.2079,-920.9465C1397.658,-912.776 1397.0627,-903.9318 1396.4864,-895.3697\"/>\n<polygon fill=\"#000000\" stroke=\"#000000\" points=\"1399.961,-894.8723 1395.7972,-885.13 1392.9768,-895.3425 1399.961,-894.8723\"/>\n</g>\n<!-- 62 -->\n<g id=\"node63\" class=\"node\">\n<title>62</title>\n<polygon fill=\"none\" stroke=\"#000000\" points=\"1572,-885 1469,-885 1469,-817 1572,-817 1572,-885\"/>\n<text text-anchor=\"middle\" x=\"1520.5\" y=\"-869.8\" font-family=\"Helvetica,sans-Serif\" font-size=\"14.00\" fill=\"#000000\">X[3] &lt;= 0.031</text>\n<text text-anchor=\"middle\" x=\"1520.5\" y=\"-854.8\" font-family=\"Helvetica,sans-Serif\" font-size=\"14.00\" fill=\"#000000\">gini = 0.5</text>\n<text text-anchor=\"middle\" x=\"1520.5\" y=\"-839.8\" font-family=\"Helvetica,sans-Serif\" font-size=\"14.00\" fill=\"#000000\">samples = 6</text>\n<text text-anchor=\"middle\" x=\"1520.5\" y=\"-824.8\" font-family=\"Helvetica,sans-Serif\" font-size=\"14.00\" fill=\"#000000\">value = [3, 3]</text>\n</g>\n<!-- 42&#45;&gt;62 -->\n<g id=\"edge62\" class=\"edge\">\n<title>42&#45;&gt;62</title>\n<path fill=\"none\" stroke=\"#000000\" d=\"M1439.7925,-920.9465C1450.5667,-911.6088 1462.3564,-901.3911 1473.515,-891.7203\"/>\n<polygon fill=\"#000000\" stroke=\"#000000\" points=\"1475.8546,-894.3243 1481.1192,-885.13 1471.2701,-889.0344 1475.8546,-894.3243\"/>\n</g>\n<!-- 44 -->\n<g id=\"node45\" class=\"node\">\n<title>44</title>\n<polygon fill=\"none\" stroke=\"#000000\" points=\"1322,-781 1211,-781 1211,-713 1322,-713 1322,-781\"/>\n<text text-anchor=\"middle\" x=\"1266.5\" y=\"-765.8\" font-family=\"Helvetica,sans-Serif\" font-size=\"14.00\" fill=\"#000000\">X[14] &lt;= 0.025</text>\n<text text-anchor=\"middle\" x=\"1266.5\" y=\"-750.8\" font-family=\"Helvetica,sans-Serif\" font-size=\"14.00\" fill=\"#000000\">gini = 0.337</text>\n<text text-anchor=\"middle\" x=\"1266.5\" y=\"-735.8\" font-family=\"Helvetica,sans-Serif\" font-size=\"14.00\" fill=\"#000000\">samples = 42</text>\n<text text-anchor=\"middle\" x=\"1266.5\" y=\"-720.8\" font-family=\"Helvetica,sans-Serif\" font-size=\"14.00\" fill=\"#000000\">value = [9, 33]</text>\n</g>\n<!-- 43&#45;&gt;44 -->\n<g id=\"edge44\" class=\"edge\">\n<title>43&#45;&gt;44</title>\n<path fill=\"none\" stroke=\"#000000\" d=\"M1351.9155,-816.9465C1340.5127,-807.6088 1328.0353,-797.3911 1316.2257,-787.7203\"/>\n<polygon fill=\"#000000\" stroke=\"#000000\" points=\"1318.1324,-784.7578 1308.178,-781.13 1313.6974,-790.1736 1318.1324,-784.7578\"/>\n</g>\n<!-- 61 -->\n<g id=\"node62\" class=\"node\">\n<title>61</title>\n<polygon fill=\"none\" stroke=\"#000000\" points=\"1447,-773.5 1340,-773.5 1340,-720.5 1447,-720.5 1447,-773.5\"/>\n<text text-anchor=\"middle\" x=\"1393.5\" y=\"-758.3\" font-family=\"Helvetica,sans-Serif\" font-size=\"14.00\" fill=\"#000000\">gini = 0.0</text>\n<text text-anchor=\"middle\" x=\"1393.5\" y=\"-743.3\" font-family=\"Helvetica,sans-Serif\" font-size=\"14.00\" fill=\"#000000\">samples = 39</text>\n<text text-anchor=\"middle\" x=\"1393.5\" y=\"-728.3\" font-family=\"Helvetica,sans-Serif\" font-size=\"14.00\" fill=\"#000000\">value = [0, 39]</text>\n</g>\n<!-- 43&#45;&gt;61 -->\n<g id=\"edge61\" class=\"edge\">\n<title>43&#45;&gt;61</title>\n<path fill=\"none\" stroke=\"#000000\" d=\"M1393.5,-816.9465C1393.5,-806.2621 1393.5,-794.4254 1393.5,-783.5742\"/>\n<polygon fill=\"#000000\" stroke=\"#000000\" points=\"1397.0001,-783.5421 1393.5,-773.5422 1390.0001,-783.5422 1397.0001,-783.5421\"/>\n</g>\n<!-- 45 -->\n<g id=\"node46\" class=\"node\">\n<title>45</title>\n<polygon fill=\"none\" stroke=\"#000000\" points=\"1259,-677 1152,-677 1152,-609 1259,-609 1259,-677\"/>\n<text text-anchor=\"middle\" x=\"1205.5\" y=\"-661.8\" font-family=\"Helvetica,sans-Serif\" font-size=\"14.00\" fill=\"#000000\">X[24] &lt;= 0.01</text>\n<text text-anchor=\"middle\" x=\"1205.5\" y=\"-646.8\" font-family=\"Helvetica,sans-Serif\" font-size=\"14.00\" fill=\"#000000\">gini = 0.26</text>\n<text text-anchor=\"middle\" x=\"1205.5\" y=\"-631.8\" font-family=\"Helvetica,sans-Serif\" font-size=\"14.00\" fill=\"#000000\">samples = 39</text>\n<text text-anchor=\"middle\" x=\"1205.5\" y=\"-616.8\" font-family=\"Helvetica,sans-Serif\" font-size=\"14.00\" fill=\"#000000\">value = [6, 33]</text>\n</g>\n<!-- 44&#45;&gt;45 -->\n<g id=\"edge45\" class=\"edge\">\n<title>44&#45;&gt;45</title>\n<path fill=\"none\" stroke=\"#000000\" d=\"M1246.5263,-712.9465C1241.4707,-704.3271 1235.9753,-694.9579 1230.6983,-685.9611\"/>\n<polygon fill=\"#000000\" stroke=\"#000000\" points=\"1233.5969,-683.985 1225.5186,-677.13 1227.5589,-687.5265 1233.5969,-683.985\"/>\n</g>\n<!-- 60 -->\n<g id=\"node61\" class=\"node\">\n<title>60</title>\n<polygon fill=\"none\" stroke=\"#000000\" points=\"1376,-669.5 1277,-669.5 1277,-616.5 1376,-616.5 1376,-669.5\"/>\n<text text-anchor=\"middle\" x=\"1326.5\" y=\"-654.3\" font-family=\"Helvetica,sans-Serif\" font-size=\"14.00\" fill=\"#000000\">gini = 0.0</text>\n<text text-anchor=\"middle\" x=\"1326.5\" y=\"-639.3\" font-family=\"Helvetica,sans-Serif\" font-size=\"14.00\" fill=\"#000000\">samples = 3</text>\n<text text-anchor=\"middle\" x=\"1326.5\" y=\"-624.3\" font-family=\"Helvetica,sans-Serif\" font-size=\"14.00\" fill=\"#000000\">value = [3, 0]</text>\n</g>\n<!-- 44&#45;&gt;60 -->\n<g id=\"edge60\" class=\"edge\">\n<title>44&#45;&gt;60</title>\n<path fill=\"none\" stroke=\"#000000\" d=\"M1286.1462,-712.9465C1292.5645,-701.8215 1299.7035,-689.4473 1306.171,-678.237\"/>\n<polygon fill=\"#000000\" stroke=\"#000000\" points=\"1309.2216,-679.9531 1311.1872,-669.5422 1303.1583,-676.455 1309.2216,-679.9531\"/>\n</g>\n<!-- 46 -->\n<g id=\"node47\" class=\"node\">\n<title>46</title>\n<polygon fill=\"none\" stroke=\"#000000\" points=\"1199.5,-573 1083.5,-573 1083.5,-505 1199.5,-505 1199.5,-573\"/>\n<text text-anchor=\"middle\" x=\"1141.5\" y=\"-557.8\" font-family=\"Helvetica,sans-Serif\" font-size=\"14.00\" fill=\"#000000\">X[10] &lt;= &#45;0.024</text>\n<text text-anchor=\"middle\" x=\"1141.5\" y=\"-542.8\" font-family=\"Helvetica,sans-Serif\" font-size=\"14.00\" fill=\"#000000\">gini = 0.198</text>\n<text text-anchor=\"middle\" x=\"1141.5\" y=\"-527.8\" font-family=\"Helvetica,sans-Serif\" font-size=\"14.00\" fill=\"#000000\">samples = 36</text>\n<text text-anchor=\"middle\" x=\"1141.5\" y=\"-512.8\" font-family=\"Helvetica,sans-Serif\" font-size=\"14.00\" fill=\"#000000\">value = [4, 32]</text>\n</g>\n<!-- 45&#45;&gt;46 -->\n<g id=\"edge46\" class=\"edge\">\n<title>45&#45;&gt;46</title>\n<path fill=\"none\" stroke=\"#000000\" d=\"M1184.544,-608.9465C1179.1845,-600.2373 1173.3539,-590.7626 1167.7647,-581.6801\"/>\n<polygon fill=\"#000000\" stroke=\"#000000\" points=\"1170.7249,-579.8122 1162.5031,-573.13 1164.7633,-583.481 1170.7249,-579.8122\"/>\n</g>\n<!-- 57 -->\n<g id=\"node58\" class=\"node\">\n<title>57</title>\n<polygon fill=\"none\" stroke=\"#000000\" points=\"1321,-573 1218,-573 1218,-505 1321,-505 1321,-573\"/>\n<text text-anchor=\"middle\" x=\"1269.5\" y=\"-557.8\" font-family=\"Helvetica,sans-Serif\" font-size=\"14.00\" fill=\"#000000\">X[7] &lt;= 0.028</text>\n<text text-anchor=\"middle\" x=\"1269.5\" y=\"-542.8\" font-family=\"Helvetica,sans-Serif\" font-size=\"14.00\" fill=\"#000000\">gini = 0.444</text>\n<text text-anchor=\"middle\" x=\"1269.5\" y=\"-527.8\" font-family=\"Helvetica,sans-Serif\" font-size=\"14.00\" fill=\"#000000\">samples = 3</text>\n<text text-anchor=\"middle\" x=\"1269.5\" y=\"-512.8\" font-family=\"Helvetica,sans-Serif\" font-size=\"14.00\" fill=\"#000000\">value = [2, 1]</text>\n</g>\n<!-- 45&#45;&gt;57 -->\n<g id=\"edge57\" class=\"edge\">\n<title>45&#45;&gt;57</title>\n<path fill=\"none\" stroke=\"#000000\" d=\"M1226.456,-608.9465C1231.8155,-600.2373 1237.6461,-590.7626 1243.2353,-581.6801\"/>\n<polygon fill=\"#000000\" stroke=\"#000000\" points=\"1246.2367,-583.481 1248.4969,-573.13 1240.2751,-579.8122 1246.2367,-583.481\"/>\n</g>\n<!-- 47 -->\n<g id=\"node48\" class=\"node\">\n<title>47</title>\n<polygon fill=\"none\" stroke=\"#000000\" points=\"1072,-461.5 973,-461.5 973,-408.5 1072,-408.5 1072,-461.5\"/>\n<text text-anchor=\"middle\" x=\"1022.5\" y=\"-446.3\" font-family=\"Helvetica,sans-Serif\" font-size=\"14.00\" fill=\"#000000\">gini = 0.0</text>\n<text text-anchor=\"middle\" x=\"1022.5\" y=\"-431.3\" font-family=\"Helvetica,sans-Serif\" font-size=\"14.00\" fill=\"#000000\">samples = 1</text>\n<text text-anchor=\"middle\" x=\"1022.5\" y=\"-416.3\" font-family=\"Helvetica,sans-Serif\" font-size=\"14.00\" fill=\"#000000\">value = [1, 0]</text>\n</g>\n<!-- 46&#45;&gt;47 -->\n<g id=\"edge47\" class=\"edge\">\n<title>46&#45;&gt;47</title>\n<path fill=\"none\" stroke=\"#000000\" d=\"M1102.5349,-504.9465C1089.0491,-493.1606 1073.9591,-479.9726 1060.5479,-468.2519\"/>\n<polygon fill=\"#000000\" stroke=\"#000000\" points=\"1062.7033,-465.4874 1052.8704,-461.5422 1058.0969,-470.7582 1062.7033,-465.4874\"/>\n</g>\n<!-- 48 -->\n<g id=\"node49\" class=\"node\">\n<title>48</title>\n<polygon fill=\"none\" stroke=\"#000000\" points=\"1197,-469 1090,-469 1090,-401 1197,-401 1197,-469\"/>\n<text text-anchor=\"middle\" x=\"1143.5\" y=\"-453.8\" font-family=\"Helvetica,sans-Serif\" font-size=\"14.00\" fill=\"#000000\">X[5] &lt;= &#45;0.044</text>\n<text text-anchor=\"middle\" x=\"1143.5\" y=\"-438.8\" font-family=\"Helvetica,sans-Serif\" font-size=\"14.00\" fill=\"#000000\">gini = 0.157</text>\n<text text-anchor=\"middle\" x=\"1143.5\" y=\"-423.8\" font-family=\"Helvetica,sans-Serif\" font-size=\"14.00\" fill=\"#000000\">samples = 35</text>\n<text text-anchor=\"middle\" x=\"1143.5\" y=\"-408.8\" font-family=\"Helvetica,sans-Serif\" font-size=\"14.00\" fill=\"#000000\">value = [3, 32]</text>\n</g>\n<!-- 46&#45;&gt;48 -->\n<g id=\"edge48\" class=\"edge\">\n<title>46&#45;&gt;48</title>\n<path fill=\"none\" stroke=\"#000000\" d=\"M1142.1549,-504.9465C1142.312,-496.776 1142.4821,-487.9318 1142.6467,-479.3697\"/>\n<polygon fill=\"#000000\" stroke=\"#000000\" points=\"1146.1506,-479.1955 1142.8437,-469.13 1139.1519,-479.0608 1146.1506,-479.1955\"/>\n</g>\n<!-- 49 -->\n<g id=\"node50\" class=\"node\">\n<title>49</title>\n<polygon fill=\"none\" stroke=\"#000000\" points=\"1130,-357.5 1031,-357.5 1031,-304.5 1130,-304.5 1130,-357.5\"/>\n<text text-anchor=\"middle\" x=\"1080.5\" y=\"-342.3\" font-family=\"Helvetica,sans-Serif\" font-size=\"14.00\" fill=\"#000000\">gini = 0.0</text>\n<text text-anchor=\"middle\" x=\"1080.5\" y=\"-327.3\" font-family=\"Helvetica,sans-Serif\" font-size=\"14.00\" fill=\"#000000\">samples = 1</text>\n<text text-anchor=\"middle\" x=\"1080.5\" y=\"-312.3\" font-family=\"Helvetica,sans-Serif\" font-size=\"14.00\" fill=\"#000000\">value = [1, 0]</text>\n</g>\n<!-- 48&#45;&gt;49 -->\n<g id=\"edge49\" class=\"edge\">\n<title>48&#45;&gt;49</title>\n<path fill=\"none\" stroke=\"#000000\" d=\"M1122.8714,-400.9465C1116.1322,-389.8215 1108.6363,-377.4473 1101.8455,-366.237\"/>\n<polygon fill=\"#000000\" stroke=\"#000000\" points=\"1104.7533,-364.2818 1096.5784,-357.5422 1098.7661,-367.9087 1104.7533,-364.2818\"/>\n</g>\n<!-- 50 -->\n<g id=\"node51\" class=\"node\">\n<title>50</title>\n<polygon fill=\"none\" stroke=\"#000000\" points=\"1264.5,-365 1148.5,-365 1148.5,-297 1264.5,-297 1264.5,-365\"/>\n<text text-anchor=\"middle\" x=\"1206.5\" y=\"-349.8\" font-family=\"Helvetica,sans-Serif\" font-size=\"14.00\" fill=\"#000000\">X[25] &lt;= &#45;0.042</text>\n<text text-anchor=\"middle\" x=\"1206.5\" y=\"-334.8\" font-family=\"Helvetica,sans-Serif\" font-size=\"14.00\" fill=\"#000000\">gini = 0.111</text>\n<text text-anchor=\"middle\" x=\"1206.5\" y=\"-319.8\" font-family=\"Helvetica,sans-Serif\" font-size=\"14.00\" fill=\"#000000\">samples = 34</text>\n<text text-anchor=\"middle\" x=\"1206.5\" y=\"-304.8\" font-family=\"Helvetica,sans-Serif\" font-size=\"14.00\" fill=\"#000000\">value = [2, 32]</text>\n</g>\n<!-- 48&#45;&gt;50 -->\n<g id=\"edge50\" class=\"edge\">\n<title>48&#45;&gt;50</title>\n<path fill=\"none\" stroke=\"#000000\" d=\"M1164.1286,-400.9465C1169.3499,-392.3271 1175.0255,-382.9579 1180.4755,-373.9611\"/>\n<polygon fill=\"#000000\" stroke=\"#000000\" points=\"1183.6374,-375.4965 1185.8251,-365.13 1177.6503,-371.8697 1183.6374,-375.4965\"/>\n</g>\n<!-- 51 -->\n<g id=\"node52\" class=\"node\">\n<title>51</title>\n<polygon fill=\"none\" stroke=\"#000000\" points=\"1194,-253.5 1095,-253.5 1095,-200.5 1194,-200.5 1194,-253.5\"/>\n<text text-anchor=\"middle\" x=\"1144.5\" y=\"-238.3\" font-family=\"Helvetica,sans-Serif\" font-size=\"14.00\" fill=\"#000000\">gini = 0.0</text>\n<text text-anchor=\"middle\" x=\"1144.5\" y=\"-223.3\" font-family=\"Helvetica,sans-Serif\" font-size=\"14.00\" fill=\"#000000\">samples = 1</text>\n<text text-anchor=\"middle\" x=\"1144.5\" y=\"-208.3\" font-family=\"Helvetica,sans-Serif\" font-size=\"14.00\" fill=\"#000000\">value = [1, 0]</text>\n</g>\n<!-- 50&#45;&gt;51 -->\n<g id=\"edge51\" class=\"edge\">\n<title>50&#45;&gt;51</title>\n<path fill=\"none\" stroke=\"#000000\" d=\"M1186.1989,-296.9465C1179.5666,-285.8215 1172.1897,-273.4473 1165.5067,-262.237\"/>\n<polygon fill=\"#000000\" stroke=\"#000000\" points=\"1168.4502,-260.3394 1160.3232,-253.5422 1162.4376,-263.9239 1168.4502,-260.3394\"/>\n</g>\n<!-- 52 -->\n<g id=\"node53\" class=\"node\">\n<title>52</title>\n<polygon fill=\"none\" stroke=\"#000000\" points=\"1323,-261 1212,-261 1212,-193 1323,-193 1323,-261\"/>\n<text text-anchor=\"middle\" x=\"1267.5\" y=\"-245.8\" font-family=\"Helvetica,sans-Serif\" font-size=\"14.00\" fill=\"#000000\">X[22] &lt;= 0.019</text>\n<text text-anchor=\"middle\" x=\"1267.5\" y=\"-230.8\" font-family=\"Helvetica,sans-Serif\" font-size=\"14.00\" fill=\"#000000\">gini = 0.059</text>\n<text text-anchor=\"middle\" x=\"1267.5\" y=\"-215.8\" font-family=\"Helvetica,sans-Serif\" font-size=\"14.00\" fill=\"#000000\">samples = 33</text>\n<text text-anchor=\"middle\" x=\"1267.5\" y=\"-200.8\" font-family=\"Helvetica,sans-Serif\" font-size=\"14.00\" fill=\"#000000\">value = [1, 32]</text>\n</g>\n<!-- 50&#45;&gt;52 -->\n<g id=\"edge52\" class=\"edge\">\n<title>50&#45;&gt;52</title>\n<path fill=\"none\" stroke=\"#000000\" d=\"M1226.4737,-296.9465C1231.5293,-288.3271 1237.0247,-278.9579 1242.3017,-269.9611\"/>\n<polygon fill=\"#000000\" stroke=\"#000000\" points=\"1245.4411,-271.5265 1247.4814,-261.13 1239.4031,-267.985 1245.4411,-271.5265\"/>\n</g>\n<!-- 53 -->\n<g id=\"node54\" class=\"node\">\n<title>53</title>\n<polygon fill=\"none\" stroke=\"#000000\" points=\"1258,-149.5 1151,-149.5 1151,-96.5 1258,-96.5 1258,-149.5\"/>\n<text text-anchor=\"middle\" x=\"1204.5\" y=\"-134.3\" font-family=\"Helvetica,sans-Serif\" font-size=\"14.00\" fill=\"#000000\">gini = 0.0</text>\n<text text-anchor=\"middle\" x=\"1204.5\" y=\"-119.3\" font-family=\"Helvetica,sans-Serif\" font-size=\"14.00\" fill=\"#000000\">samples = 29</text>\n<text text-anchor=\"middle\" x=\"1204.5\" y=\"-104.3\" font-family=\"Helvetica,sans-Serif\" font-size=\"14.00\" fill=\"#000000\">value = [0, 29]</text>\n</g>\n<!-- 52&#45;&gt;53 -->\n<g id=\"edge53\" class=\"edge\">\n<title>52&#45;&gt;53</title>\n<path fill=\"none\" stroke=\"#000000\" d=\"M1246.8714,-192.9465C1240.1322,-181.8215 1232.6363,-169.4473 1225.8455,-158.237\"/>\n<polygon fill=\"#000000\" stroke=\"#000000\" points=\"1228.7533,-156.2818 1220.5784,-149.5422 1222.7661,-159.9087 1228.7533,-156.2818\"/>\n</g>\n<!-- 54 -->\n<g id=\"node55\" class=\"node\">\n<title>54</title>\n<polygon fill=\"none\" stroke=\"#000000\" points=\"1387,-157 1276,-157 1276,-89 1387,-89 1387,-157\"/>\n<text text-anchor=\"middle\" x=\"1331.5\" y=\"-141.8\" font-family=\"Helvetica,sans-Serif\" font-size=\"14.00\" fill=\"#000000\">X[33] &lt;= 0.009</text>\n<text text-anchor=\"middle\" x=\"1331.5\" y=\"-126.8\" font-family=\"Helvetica,sans-Serif\" font-size=\"14.00\" fill=\"#000000\">gini = 0.375</text>\n<text text-anchor=\"middle\" x=\"1331.5\" y=\"-111.8\" font-family=\"Helvetica,sans-Serif\" font-size=\"14.00\" fill=\"#000000\">samples = 4</text>\n<text text-anchor=\"middle\" x=\"1331.5\" y=\"-96.8\" font-family=\"Helvetica,sans-Serif\" font-size=\"14.00\" fill=\"#000000\">value = [1, 3]</text>\n</g>\n<!-- 52&#45;&gt;54 -->\n<g id=\"edge54\" class=\"edge\">\n<title>52&#45;&gt;54</title>\n<path fill=\"none\" stroke=\"#000000\" d=\"M1288.456,-192.9465C1293.8155,-184.2373 1299.6461,-174.7626 1305.2353,-165.6801\"/>\n<polygon fill=\"#000000\" stroke=\"#000000\" points=\"1308.2367,-167.481 1310.4969,-157.13 1302.2751,-163.8122 1308.2367,-167.481\"/>\n</g>\n<!-- 55 -->\n<g id=\"node56\" class=\"node\">\n<title>55</title>\n<polygon fill=\"none\" stroke=\"#000000\" points=\"1322,-53 1223,-53 1223,0 1322,0 1322,-53\"/>\n<text text-anchor=\"middle\" x=\"1272.5\" y=\"-37.8\" font-family=\"Helvetica,sans-Serif\" font-size=\"14.00\" fill=\"#000000\">gini = 0.0</text>\n<text text-anchor=\"middle\" x=\"1272.5\" y=\"-22.8\" font-family=\"Helvetica,sans-Serif\" font-size=\"14.00\" fill=\"#000000\">samples = 3</text>\n<text text-anchor=\"middle\" x=\"1272.5\" y=\"-7.8\" font-family=\"Helvetica,sans-Serif\" font-size=\"14.00\" fill=\"#000000\">value = [0, 3]</text>\n</g>\n<!-- 54&#45;&gt;55 -->\n<g id=\"edge55\" class=\"edge\">\n<title>54&#45;&gt;55</title>\n<path fill=\"none\" stroke=\"#000000\" d=\"M1310.6988,-88.9777C1305.3242,-80.187 1299.5265,-70.7044 1294.1115,-61.8477\"/>\n<polygon fill=\"#000000\" stroke=\"#000000\" points=\"1297.0564,-59.9545 1288.854,-53.2485 1291.0842,-63.6059 1297.0564,-59.9545\"/>\n</g>\n<!-- 56 -->\n<g id=\"node57\" class=\"node\">\n<title>56</title>\n<polygon fill=\"none\" stroke=\"#000000\" points=\"1439,-53 1340,-53 1340,0 1439,0 1439,-53\"/>\n<text text-anchor=\"middle\" x=\"1389.5\" y=\"-37.8\" font-family=\"Helvetica,sans-Serif\" font-size=\"14.00\" fill=\"#000000\">gini = 0.0</text>\n<text text-anchor=\"middle\" x=\"1389.5\" y=\"-22.8\" font-family=\"Helvetica,sans-Serif\" font-size=\"14.00\" fill=\"#000000\">samples = 1</text>\n<text text-anchor=\"middle\" x=\"1389.5\" y=\"-7.8\" font-family=\"Helvetica,sans-Serif\" font-size=\"14.00\" fill=\"#000000\">value = [1, 0]</text>\n</g>\n<!-- 54&#45;&gt;56 -->\n<g id=\"edge56\" class=\"edge\">\n<title>54&#45;&gt;56</title>\n<path fill=\"none\" stroke=\"#000000\" d=\"M1351.9486,-88.9777C1357.2322,-80.187 1362.9316,-70.7044 1368.2548,-61.8477\"/>\n<polygon fill=\"#000000\" stroke=\"#000000\" points=\"1371.2715,-63.6225 1373.4232,-53.2485 1365.2718,-60.0165 1371.2715,-63.6225\"/>\n</g>\n<!-- 58 -->\n<g id=\"node59\" class=\"node\">\n<title>58</title>\n<polygon fill=\"none\" stroke=\"#000000\" points=\"1317,-461.5 1218,-461.5 1218,-408.5 1317,-408.5 1317,-461.5\"/>\n<text text-anchor=\"middle\" x=\"1267.5\" y=\"-446.3\" font-family=\"Helvetica,sans-Serif\" font-size=\"14.00\" fill=\"#000000\">gini = 0.0</text>\n<text text-anchor=\"middle\" x=\"1267.5\" y=\"-431.3\" font-family=\"Helvetica,sans-Serif\" font-size=\"14.00\" fill=\"#000000\">samples = 2</text>\n<text text-anchor=\"middle\" x=\"1267.5\" y=\"-416.3\" font-family=\"Helvetica,sans-Serif\" font-size=\"14.00\" fill=\"#000000\">value = [2, 0]</text>\n</g>\n<!-- 57&#45;&gt;58 -->\n<g id=\"edge58\" class=\"edge\">\n<title>57&#45;&gt;58</title>\n<path fill=\"none\" stroke=\"#000000\" d=\"M1268.8451,-504.9465C1268.6397,-494.2621 1268.412,-482.4254 1268.2034,-471.5742\"/>\n<polygon fill=\"#000000\" stroke=\"#000000\" points=\"1271.7021,-471.473 1268.0104,-461.5422 1264.7034,-471.6076 1271.7021,-471.473\"/>\n</g>\n<!-- 59 -->\n<g id=\"node60\" class=\"node\">\n<title>59</title>\n<polygon fill=\"none\" stroke=\"#000000\" points=\"1434,-461.5 1335,-461.5 1335,-408.5 1434,-408.5 1434,-461.5\"/>\n<text text-anchor=\"middle\" x=\"1384.5\" y=\"-446.3\" font-family=\"Helvetica,sans-Serif\" font-size=\"14.00\" fill=\"#000000\">gini = 0.0</text>\n<text text-anchor=\"middle\" x=\"1384.5\" y=\"-431.3\" font-family=\"Helvetica,sans-Serif\" font-size=\"14.00\" fill=\"#000000\">samples = 1</text>\n<text text-anchor=\"middle\" x=\"1384.5\" y=\"-416.3\" font-family=\"Helvetica,sans-Serif\" font-size=\"14.00\" fill=\"#000000\">value = [0, 1]</text>\n</g>\n<!-- 57&#45;&gt;59 -->\n<g id=\"edge59\" class=\"edge\">\n<title>57&#45;&gt;59</title>\n<path fill=\"none\" stroke=\"#000000\" d=\"M1307.1553,-504.9465C1320.1878,-493.1606 1334.7706,-479.9726 1347.7311,-468.2519\"/>\n<polygon fill=\"#000000\" stroke=\"#000000\" points=\"1350.0812,-470.8456 1355.1505,-461.5422 1345.386,-465.6537 1350.0812,-470.8456\"/>\n</g>\n<!-- 63 -->\n<g id=\"node64\" class=\"node\">\n<title>63</title>\n<polygon fill=\"none\" stroke=\"#000000\" points=\"1576,-781 1465,-781 1465,-713 1576,-713 1576,-781\"/>\n<text text-anchor=\"middle\" x=\"1520.5\" y=\"-765.8\" font-family=\"Helvetica,sans-Serif\" font-size=\"14.00\" fill=\"#000000\">X[23] &lt;= 0.038</text>\n<text text-anchor=\"middle\" x=\"1520.5\" y=\"-750.8\" font-family=\"Helvetica,sans-Serif\" font-size=\"14.00\" fill=\"#000000\">gini = 0.375</text>\n<text text-anchor=\"middle\" x=\"1520.5\" y=\"-735.8\" font-family=\"Helvetica,sans-Serif\" font-size=\"14.00\" fill=\"#000000\">samples = 4</text>\n<text text-anchor=\"middle\" x=\"1520.5\" y=\"-720.8\" font-family=\"Helvetica,sans-Serif\" font-size=\"14.00\" fill=\"#000000\">value = [3, 1]</text>\n</g>\n<!-- 62&#45;&gt;63 -->\n<g id=\"edge63\" class=\"edge\">\n<title>62&#45;&gt;63</title>\n<path fill=\"none\" stroke=\"#000000\" d=\"M1520.5,-816.9465C1520.5,-808.776 1520.5,-799.9318 1520.5,-791.3697\"/>\n<polygon fill=\"#000000\" stroke=\"#000000\" points=\"1524.0001,-791.13 1520.5,-781.13 1517.0001,-791.13 1524.0001,-791.13\"/>\n</g>\n<!-- 66 -->\n<g id=\"node67\" class=\"node\">\n<title>66</title>\n<polygon fill=\"none\" stroke=\"#000000\" points=\"1693,-773.5 1594,-773.5 1594,-720.5 1693,-720.5 1693,-773.5\"/>\n<text text-anchor=\"middle\" x=\"1643.5\" y=\"-758.3\" font-family=\"Helvetica,sans-Serif\" font-size=\"14.00\" fill=\"#000000\">gini = 0.0</text>\n<text text-anchor=\"middle\" x=\"1643.5\" y=\"-743.3\" font-family=\"Helvetica,sans-Serif\" font-size=\"14.00\" fill=\"#000000\">samples = 2</text>\n<text text-anchor=\"middle\" x=\"1643.5\" y=\"-728.3\" font-family=\"Helvetica,sans-Serif\" font-size=\"14.00\" fill=\"#000000\">value = [0, 2]</text>\n</g>\n<!-- 62&#45;&gt;66 -->\n<g id=\"edge66\" class=\"edge\">\n<title>62&#45;&gt;66</title>\n<path fill=\"none\" stroke=\"#000000\" d=\"M1560.7748,-816.9465C1574.7139,-805.1606 1590.3112,-791.9726 1604.1732,-780.2519\"/>\n<polygon fill=\"#000000\" stroke=\"#000000\" points=\"1606.7324,-782.6715 1612.1088,-773.5422 1602.2127,-777.3262 1606.7324,-782.6715\"/>\n</g>\n<!-- 64 -->\n<g id=\"node65\" class=\"node\">\n<title>64</title>\n<polygon fill=\"none\" stroke=\"#000000\" points=\"1532,-669.5 1433,-669.5 1433,-616.5 1532,-616.5 1532,-669.5\"/>\n<text text-anchor=\"middle\" x=\"1482.5\" y=\"-654.3\" font-family=\"Helvetica,sans-Serif\" font-size=\"14.00\" fill=\"#000000\">gini = 0.0</text>\n<text text-anchor=\"middle\" x=\"1482.5\" y=\"-639.3\" font-family=\"Helvetica,sans-Serif\" font-size=\"14.00\" fill=\"#000000\">samples = 3</text>\n<text text-anchor=\"middle\" x=\"1482.5\" y=\"-624.3\" font-family=\"Helvetica,sans-Serif\" font-size=\"14.00\" fill=\"#000000\">value = [3, 0]</text>\n</g>\n<!-- 63&#45;&gt;64 -->\n<g id=\"edge64\" class=\"edge\">\n<title>63&#45;&gt;64</title>\n<path fill=\"none\" stroke=\"#000000\" d=\"M1508.0574,-712.9465C1504.1132,-702.1519 1499.7393,-690.1813 1495.7411,-679.2389\"/>\n<polygon fill=\"#000000\" stroke=\"#000000\" points=\"1498.9175,-677.7336 1492.1981,-669.5422 1492.3427,-680.136 1498.9175,-677.7336\"/>\n</g>\n<!-- 65 -->\n<g id=\"node66\" class=\"node\">\n<title>65</title>\n<polygon fill=\"none\" stroke=\"#000000\" points=\"1649,-669.5 1550,-669.5 1550,-616.5 1649,-616.5 1649,-669.5\"/>\n<text text-anchor=\"middle\" x=\"1599.5\" y=\"-654.3\" font-family=\"Helvetica,sans-Serif\" font-size=\"14.00\" fill=\"#000000\">gini = 0.0</text>\n<text text-anchor=\"middle\" x=\"1599.5\" y=\"-639.3\" font-family=\"Helvetica,sans-Serif\" font-size=\"14.00\" fill=\"#000000\">samples = 1</text>\n<text text-anchor=\"middle\" x=\"1599.5\" y=\"-624.3\" font-family=\"Helvetica,sans-Serif\" font-size=\"14.00\" fill=\"#000000\">value = [0, 1]</text>\n</g>\n<!-- 63&#45;&gt;65 -->\n<g id=\"edge65\" class=\"edge\">\n<title>63&#45;&gt;65</title>\n<path fill=\"none\" stroke=\"#000000\" d=\"M1546.3676,-712.9465C1554.9857,-701.6012 1564.5906,-688.9567 1573.2383,-677.5724\"/>\n<polygon fill=\"#000000\" stroke=\"#000000\" points=\"1576.0763,-679.6224 1579.3382,-669.5422 1570.5021,-675.3882 1576.0763,-679.6224\"/>\n</g>\n</g>\n</svg>\n"
          },
          "metadata": {},
          "execution_count": 48
        }
      ]
    },
    {
      "cell_type": "markdown",
      "source": [
        "From the above, a depth size of 6 is optimal. We run the model again."
      ],
      "metadata": {
        "id": "4ENN3eoPSjl8"
      },
      "id": "4ENN3eoPSjl8"
    },
    {
      "cell_type": "code",
      "source": [
        "clf = tree.DecisionTreeClassifier(random_state=20, max_depth=6)\n",
        " \n",
        "# Create the model on train dataset\n",
        "model = clf.fit(X_train, y_train)\n",
        "pred_labels_te = model.predict(X_test)\n",
        "pred_labels_tr = model.predict(X_train)\n",
        " \n",
        "# Calculate the accuracy\n",
        "print(accuracy_score(y_test, model.predict(X_test), normalize=True)*100)"
      ],
      "metadata": {
        "colab": {
          "base_uri": "https://localhost:8080/"
        },
        "id": "GYX9fULHOq_4",
        "outputId": "bf2f1553-9403-42c1-f598-3c9dd33297a7"
      },
      "id": "GYX9fULHOq_4",
      "execution_count": null,
      "outputs": [
        {
          "output_type": "stream",
          "name": "stdout",
          "text": [
            "70.0\n"
          ]
        }
      ]
    },
    {
      "cell_type": "markdown",
      "source": [
        "Using a maximum depth of 6, we get around 70% accuracy which is not far from the maximum we had from our cross validation i.e 72%"
      ],
      "metadata": {
        "id": "CTdFR7f0T8lq"
      },
      "id": "CTdFR7f0T8lq"
    },
    {
      "cell_type": "markdown",
      "source": [
        "It is important to note that we can improve our model by including parameters such as `Entropy`. With a larger dataset, accuracy may also increase."
      ],
      "metadata": {
        "id": "mnqKUqhPVQqJ"
      },
      "id": "mnqKUqhPVQqJ"
    },
    {
      "cell_type": "code",
      "source": [
        "    # Tree summary and model evaluation metrics\n",
        "    print('*************** Tree Summary ***************')\n",
        "    print('Classes: ', clf.classes_)\n",
        "    print('Tree Depth: ', clf.tree_.max_depth)\n",
        "    print('No. of leaves: ', clf.tree_.n_leaves)\n",
        "    print('No. of features: ', clf.n_features_in_)\n",
        "    print('--------------------------------------------------------')\n",
        "    print(\"\")"
      ],
      "metadata": {
        "colab": {
          "base_uri": "https://localhost:8080/"
        },
        "id": "h2BvgBgMUG16",
        "outputId": "e0ce07da-8198-45d0-b142-9004f5387949"
      },
      "id": "h2BvgBgMUG16",
      "execution_count": null,
      "outputs": [
        {
          "output_type": "stream",
          "name": "stdout",
          "text": [
            "*************** Tree Summary ***************\n",
            "Classes:  [0 1]\n",
            "Tree Depth:  6\n",
            "No. of leaves:  20\n",
            "No. of features:  34\n",
            "--------------------------------------------------------\n",
            "\n"
          ]
        }
      ]
    },
    {
      "cell_type": "code",
      "source": [
        "    print('*************** Evaluation on Test Data ***************')\n",
        "    score_te = model.score(X_test, y_test)\n",
        "    print('Accuracy Score: ', score_te)\n",
        "    # Look at classification report to evaluate the model\n",
        "    print(classification_report(y_test, pred_labels_te))\n",
        "    print('--------------------------------------------------------')\n",
        "    print(\"\")"
      ],
      "metadata": {
        "colab": {
          "base_uri": "https://localhost:8080/"
        },
        "id": "-Ep2uzMkWfb9",
        "outputId": "c445a3ab-f1af-4f08-e8e1-798ab8f11058"
      },
      "id": "-Ep2uzMkWfb9",
      "execution_count": null,
      "outputs": [
        {
          "output_type": "stream",
          "name": "stdout",
          "text": [
            "*************** Evaluation on Test Data ***************\n",
            "Accuracy Score:  0.7\n",
            "              precision    recall  f1-score   support\n",
            "\n",
            "           0       0.67      0.85      0.75        26\n",
            "           1       0.76      0.54      0.63        24\n",
            "\n",
            "    accuracy                           0.70        50\n",
            "   macro avg       0.72      0.69      0.69        50\n",
            "weighted avg       0.71      0.70      0.69        50\n",
            "\n",
            "--------------------------------------------------------\n",
            "\n"
          ]
        }
      ]
    },
    {
      "cell_type": "code",
      "source": [
        "    print('*************** Evaluation on Training Data ***************')\n",
        "    score_tr = model.score(X_train, y_train)\n",
        "    print('Accuracy Score: ', score_tr)\n",
        "    # Look at classification report to evaluate the model\n",
        "    print(classification_report(y_train, pred_labels_tr))\n",
        "    print('--------------------------------------------------------')"
      ],
      "metadata": {
        "colab": {
          "base_uri": "https://localhost:8080/"
        },
        "id": "BDrReReQXZlM",
        "outputId": "4bef52c2-6616-47d3-8ffe-50a34b6cd339"
      },
      "id": "BDrReReQXZlM",
      "execution_count": null,
      "outputs": [
        {
          "output_type": "stream",
          "name": "stdout",
          "text": [
            "*************** Evaluation on Training Data ***************\n",
            "Accuracy Score:  0.9253731343283582\n",
            "              precision    recall  f1-score   support\n",
            "\n",
            "           0       0.94      0.91      0.92        98\n",
            "           1       0.92      0.94      0.93       103\n",
            "\n",
            "    accuracy                           0.93       201\n",
            "   macro avg       0.93      0.92      0.93       201\n",
            "weighted avg       0.93      0.93      0.93       201\n",
            "\n",
            "--------------------------------------------------------\n"
          ]
        }
      ]
    },
    {
      "cell_type": "markdown",
      "source": [
        "Our model perfomed quite well on the training data, this is very much expected."
      ],
      "metadata": {
        "id": "8eqZ3PyYXlUw"
      },
      "id": "8eqZ3PyYXlUw"
    },
    {
      "cell_type": "markdown",
      "source": [
        "The model does relatively well in predicting when there will be a rise in **LUXXX** return the next week i.e 0.76. But, the performance is a bit above average identifying when there will be a negative return.\n",
        "\n",
        "Interestingly, the model has a high recall rate i.e. 0.85 in identifying the weeks where there will be negative returns.\n",
        "\n",
        "Away from our test results, in the training result, the model performed excellently well."
      ],
      "metadata": {
        "id": "1YQqhAJ-XuJK"
      },
      "id": "1YQqhAJ-XuJK"
    },
    {
      "cell_type": "markdown",
      "source": [
        "### Perform a **Regression Tree**.  The difference here is the response is continuous.  This value should be the weekly return that you calculated on each series. Choose a suitable depth of the tree, basing your result on cross-validation"
      ],
      "metadata": {
        "id": "X2o5CyuhbUbS"
      },
      "id": "X2o5CyuhbUbS"
    },
    {
      "cell_type": "markdown",
      "source": [
        "We replicate exact model as above and this time with a regressor, then judge its performance."
      ],
      "metadata": {
        "id": "owBNMIHJcxPt"
      },
      "id": "owBNMIHJcxPt"
    },
    {
      "cell_type": "code",
      "source": [
        "from sklearn.model_selection import cross_val_score\n",
        "from sklearn.tree import DecisionTreeRegressor"
      ],
      "metadata": {
        "id": "K51yhbibaigx"
      },
      "id": "K51yhbibaigx",
      "execution_count": null,
      "outputs": []
    },
    {
      "cell_type": "code",
      "source": [
        "daily_return_copy_RT = dataset.pct_change(1).drop(labels='01-Jan-16', axis=0)\n",
        "daily_return_copy_RT.head(1)"
      ],
      "metadata": {
        "colab": {
          "base_uri": "https://localhost:8080/",
          "height": 275
        },
        "id": "ja0JYLt8e3BZ",
        "outputId": "7752265f-bde4-4706-9058-df138c3da316"
      },
      "id": "ja0JYLt8e3BZ",
      "execution_count": null,
      "outputs": [
        {
          "output_type": "execute_result",
          "data": {
            "text/plain": [
              "              LUXXX  MSCI ARGENTINA  BLP ORIENTE MEDIO  MSCI AUSTRALIA  \\\n",
              "Date                                                                     \n",
              "08-Jan-16 -0.071509        -0.04858          -0.069555        -0.05916   \n",
              "\n",
              "           MSCI AUSTRIA  MSCI BELGIUM  MSCI BRAZIL  MSCI CANADA  MSCI CHINA  \\\n",
              "Date                                                                          \n",
              "08-Jan-16     -0.084724     -0.057221    -0.081275    -0.046348   -0.081386   \n",
              "\n",
              "           MSCI DENMARK  ...  MSCI NORWAY  MSCI PERU  MSCI RUSSIA  \\\n",
              "Date                     ...                                        \n",
              "08-Jan-16     -0.044791  ...    -0.069017  -0.074967    -0.041213   \n",
              "\n",
              "           MSCI SINGAPORE  MSCI SOUTH AFRICA  MSCI SPAIN  MSCI SWEDEN  \\\n",
              "Date                                                                    \n",
              "08-Jan-16       -0.046524          -0.062106   -0.068266    -0.067051   \n",
              "\n",
              "           MSCI SWITZERLAND   MSCI UK  MSCI USA  \n",
              "Date                                             \n",
              "08-Jan-16         -0.063629 -0.053014  -0.06043  \n",
              "\n",
              "[1 rows x 35 columns]"
            ],
            "text/html": [
              "\n",
              "  <div id=\"df-6d3af897-6d4b-417c-b57a-a0924a4d0164\">\n",
              "    <div class=\"colab-df-container\">\n",
              "      <div>\n",
              "<style scoped>\n",
              "    .dataframe tbody tr th:only-of-type {\n",
              "        vertical-align: middle;\n",
              "    }\n",
              "\n",
              "    .dataframe tbody tr th {\n",
              "        vertical-align: top;\n",
              "    }\n",
              "\n",
              "    .dataframe thead th {\n",
              "        text-align: right;\n",
              "    }\n",
              "</style>\n",
              "<table border=\"1\" class=\"dataframe\">\n",
              "  <thead>\n",
              "    <tr style=\"text-align: right;\">\n",
              "      <th></th>\n",
              "      <th>LUXXX</th>\n",
              "      <th>MSCI ARGENTINA</th>\n",
              "      <th>BLP ORIENTE MEDIO</th>\n",
              "      <th>MSCI AUSTRALIA</th>\n",
              "      <th>MSCI AUSTRIA</th>\n",
              "      <th>MSCI BELGIUM</th>\n",
              "      <th>MSCI BRAZIL</th>\n",
              "      <th>MSCI CANADA</th>\n",
              "      <th>MSCI CHINA</th>\n",
              "      <th>MSCI DENMARK</th>\n",
              "      <th>...</th>\n",
              "      <th>MSCI NORWAY</th>\n",
              "      <th>MSCI PERU</th>\n",
              "      <th>MSCI RUSSIA</th>\n",
              "      <th>MSCI SINGAPORE</th>\n",
              "      <th>MSCI SOUTH AFRICA</th>\n",
              "      <th>MSCI SPAIN</th>\n",
              "      <th>MSCI SWEDEN</th>\n",
              "      <th>MSCI SWITZERLAND</th>\n",
              "      <th>MSCI UK</th>\n",
              "      <th>MSCI USA</th>\n",
              "    </tr>\n",
              "    <tr>\n",
              "      <th>Date</th>\n",
              "      <th></th>\n",
              "      <th></th>\n",
              "      <th></th>\n",
              "      <th></th>\n",
              "      <th></th>\n",
              "      <th></th>\n",
              "      <th></th>\n",
              "      <th></th>\n",
              "      <th></th>\n",
              "      <th></th>\n",
              "      <th></th>\n",
              "      <th></th>\n",
              "      <th></th>\n",
              "      <th></th>\n",
              "      <th></th>\n",
              "      <th></th>\n",
              "      <th></th>\n",
              "      <th></th>\n",
              "      <th></th>\n",
              "      <th></th>\n",
              "      <th></th>\n",
              "    </tr>\n",
              "  </thead>\n",
              "  <tbody>\n",
              "    <tr>\n",
              "      <th>08-Jan-16</th>\n",
              "      <td>-0.071509</td>\n",
              "      <td>-0.04858</td>\n",
              "      <td>-0.069555</td>\n",
              "      <td>-0.05916</td>\n",
              "      <td>-0.084724</td>\n",
              "      <td>-0.057221</td>\n",
              "      <td>-0.081275</td>\n",
              "      <td>-0.046348</td>\n",
              "      <td>-0.081386</td>\n",
              "      <td>-0.044791</td>\n",
              "      <td>...</td>\n",
              "      <td>-0.069017</td>\n",
              "      <td>-0.074967</td>\n",
              "      <td>-0.041213</td>\n",
              "      <td>-0.046524</td>\n",
              "      <td>-0.062106</td>\n",
              "      <td>-0.068266</td>\n",
              "      <td>-0.067051</td>\n",
              "      <td>-0.063629</td>\n",
              "      <td>-0.053014</td>\n",
              "      <td>-0.06043</td>\n",
              "    </tr>\n",
              "  </tbody>\n",
              "</table>\n",
              "<p>1 rows × 35 columns</p>\n",
              "</div>\n",
              "      <button class=\"colab-df-convert\" onclick=\"convertToInteractive('df-6d3af897-6d4b-417c-b57a-a0924a4d0164')\"\n",
              "              title=\"Convert this dataframe to an interactive table.\"\n",
              "              style=\"display:none;\">\n",
              "        \n",
              "  <svg xmlns=\"http://www.w3.org/2000/svg\" height=\"24px\"viewBox=\"0 0 24 24\"\n",
              "       width=\"24px\">\n",
              "    <path d=\"M0 0h24v24H0V0z\" fill=\"none\"/>\n",
              "    <path d=\"M18.56 5.44l.94 2.06.94-2.06 2.06-.94-2.06-.94-.94-2.06-.94 2.06-2.06.94zm-11 1L8.5 8.5l.94-2.06 2.06-.94-2.06-.94L8.5 2.5l-.94 2.06-2.06.94zm10 10l.94 2.06.94-2.06 2.06-.94-2.06-.94-.94-2.06-.94 2.06-2.06.94z\"/><path d=\"M17.41 7.96l-1.37-1.37c-.4-.4-.92-.59-1.43-.59-.52 0-1.04.2-1.43.59L10.3 9.45l-7.72 7.72c-.78.78-.78 2.05 0 2.83L4 21.41c.39.39.9.59 1.41.59.51 0 1.02-.2 1.41-.59l7.78-7.78 2.81-2.81c.8-.78.8-2.07 0-2.86zM5.41 20L4 18.59l7.72-7.72 1.47 1.35L5.41 20z\"/>\n",
              "  </svg>\n",
              "      </button>\n",
              "      \n",
              "  <style>\n",
              "    .colab-df-container {\n",
              "      display:flex;\n",
              "      flex-wrap:wrap;\n",
              "      gap: 12px;\n",
              "    }\n",
              "\n",
              "    .colab-df-convert {\n",
              "      background-color: #E8F0FE;\n",
              "      border: none;\n",
              "      border-radius: 50%;\n",
              "      cursor: pointer;\n",
              "      display: none;\n",
              "      fill: #1967D2;\n",
              "      height: 32px;\n",
              "      padding: 0 0 0 0;\n",
              "      width: 32px;\n",
              "    }\n",
              "\n",
              "    .colab-df-convert:hover {\n",
              "      background-color: #E2EBFA;\n",
              "      box-shadow: 0px 1px 2px rgba(60, 64, 67, 0.3), 0px 1px 3px 1px rgba(60, 64, 67, 0.15);\n",
              "      fill: #174EA6;\n",
              "    }\n",
              "\n",
              "    [theme=dark] .colab-df-convert {\n",
              "      background-color: #3B4455;\n",
              "      fill: #D2E3FC;\n",
              "    }\n",
              "\n",
              "    [theme=dark] .colab-df-convert:hover {\n",
              "      background-color: #434B5C;\n",
              "      box-shadow: 0px 1px 3px 1px rgba(0, 0, 0, 0.15);\n",
              "      filter: drop-shadow(0px 1px 2px rgba(0, 0, 0, 0.3));\n",
              "      fill: #FFFFFF;\n",
              "    }\n",
              "  </style>\n",
              "\n",
              "      <script>\n",
              "        const buttonEl =\n",
              "          document.querySelector('#df-6d3af897-6d4b-417c-b57a-a0924a4d0164 button.colab-df-convert');\n",
              "        buttonEl.style.display =\n",
              "          google.colab.kernel.accessAllowed ? 'block' : 'none';\n",
              "\n",
              "        async function convertToInteractive(key) {\n",
              "          const element = document.querySelector('#df-6d3af897-6d4b-417c-b57a-a0924a4d0164');\n",
              "          const dataTable =\n",
              "            await google.colab.kernel.invokeFunction('convertToInteractive',\n",
              "                                                     [key], {});\n",
              "          if (!dataTable) return;\n",
              "\n",
              "          const docLinkHtml = 'Like what you see? Visit the ' +\n",
              "            '<a target=\"_blank\" href=https://colab.research.google.com/notebooks/data_table.ipynb>data table notebook</a>'\n",
              "            + ' to learn more about interactive tables.';\n",
              "          element.innerHTML = '';\n",
              "          dataTable['output_type'] = 'display_data';\n",
              "          await google.colab.output.renderOutput(dataTable, element);\n",
              "          const docLink = document.createElement('div');\n",
              "          docLink.innerHTML = docLinkHtml;\n",
              "          element.appendChild(docLink);\n",
              "        }\n",
              "      </script>\n",
              "    </div>\n",
              "  </div>\n",
              "  "
            ]
          },
          "metadata": {},
          "execution_count": 54
        }
      ]
    },
    {
      "cell_type": "code",
      "source": [
        "# Validation Set approach : take 80% of the data as the training set and 20 % as the test set. \n",
        "# X is a dataframe with  the input variable\n",
        "\n",
        "X = daily_return_copy_RT.iloc[:,1:36]\n",
        "\n",
        "X.reset_index(inplace=True)\n",
        "X.drop(labels='Date', axis=1, inplace=True)\n",
        "# X = pd.DataFrame(X)\n",
        "\n",
        "X.head(1)"
      ],
      "metadata": {
        "colab": {
          "base_uri": "https://localhost:8080/",
          "height": 296
        },
        "id": "OdMFtaMHfiY8",
        "outputId": "1a91ce94-1935-44ca-af2a-ce2bb99b0d1f"
      },
      "id": "OdMFtaMHfiY8",
      "execution_count": null,
      "outputs": [
        {
          "output_type": "stream",
          "name": "stderr",
          "text": [
            "/usr/local/lib/python3.7/dist-packages/pandas/core/frame.py:4913: SettingWithCopyWarning: \n",
            "A value is trying to be set on a copy of a slice from a DataFrame\n",
            "\n",
            "See the caveats in the documentation: https://pandas.pydata.org/pandas-docs/stable/user_guide/indexing.html#returning-a-view-versus-a-copy\n",
            "  errors=errors,\n"
          ]
        },
        {
          "output_type": "execute_result",
          "data": {
            "text/plain": [
              "   MSCI ARGENTINA  BLP ORIENTE MEDIO  MSCI AUSTRALIA  MSCI AUSTRIA  \\\n",
              "0        -0.04858          -0.069555        -0.05916     -0.084724   \n",
              "\n",
              "   MSCI BELGIUM  MSCI BRAZIL  MSCI CANADA  MSCI CHINA  MSCI DENMARK  \\\n",
              "0     -0.057221    -0.081275    -0.046348   -0.081386     -0.044791   \n",
              "\n",
              "   MSCI EM ASIA  ...  MSCI NORWAY  MSCI PERU  MSCI RUSSIA  MSCI SINGAPORE  \\\n",
              "0     -0.064435  ...    -0.069017  -0.074967    -0.041213       -0.046524   \n",
              "\n",
              "   MSCI SOUTH AFRICA  MSCI SPAIN  MSCI SWEDEN  MSCI SWITZERLAND   MSCI UK  \\\n",
              "0          -0.062106   -0.068266    -0.067051         -0.063629 -0.053014   \n",
              "\n",
              "   MSCI USA  \n",
              "0  -0.06043  \n",
              "\n",
              "[1 rows x 34 columns]"
            ],
            "text/html": [
              "\n",
              "  <div id=\"df-f2211784-7ac4-49b8-8660-6be113340364\">\n",
              "    <div class=\"colab-df-container\">\n",
              "      <div>\n",
              "<style scoped>\n",
              "    .dataframe tbody tr th:only-of-type {\n",
              "        vertical-align: middle;\n",
              "    }\n",
              "\n",
              "    .dataframe tbody tr th {\n",
              "        vertical-align: top;\n",
              "    }\n",
              "\n",
              "    .dataframe thead th {\n",
              "        text-align: right;\n",
              "    }\n",
              "</style>\n",
              "<table border=\"1\" class=\"dataframe\">\n",
              "  <thead>\n",
              "    <tr style=\"text-align: right;\">\n",
              "      <th></th>\n",
              "      <th>MSCI ARGENTINA</th>\n",
              "      <th>BLP ORIENTE MEDIO</th>\n",
              "      <th>MSCI AUSTRALIA</th>\n",
              "      <th>MSCI AUSTRIA</th>\n",
              "      <th>MSCI BELGIUM</th>\n",
              "      <th>MSCI BRAZIL</th>\n",
              "      <th>MSCI CANADA</th>\n",
              "      <th>MSCI CHINA</th>\n",
              "      <th>MSCI DENMARK</th>\n",
              "      <th>MSCI EM ASIA</th>\n",
              "      <th>...</th>\n",
              "      <th>MSCI NORWAY</th>\n",
              "      <th>MSCI PERU</th>\n",
              "      <th>MSCI RUSSIA</th>\n",
              "      <th>MSCI SINGAPORE</th>\n",
              "      <th>MSCI SOUTH AFRICA</th>\n",
              "      <th>MSCI SPAIN</th>\n",
              "      <th>MSCI SWEDEN</th>\n",
              "      <th>MSCI SWITZERLAND</th>\n",
              "      <th>MSCI UK</th>\n",
              "      <th>MSCI USA</th>\n",
              "    </tr>\n",
              "  </thead>\n",
              "  <tbody>\n",
              "    <tr>\n",
              "      <th>0</th>\n",
              "      <td>-0.04858</td>\n",
              "      <td>-0.069555</td>\n",
              "      <td>-0.05916</td>\n",
              "      <td>-0.084724</td>\n",
              "      <td>-0.057221</td>\n",
              "      <td>-0.081275</td>\n",
              "      <td>-0.046348</td>\n",
              "      <td>-0.081386</td>\n",
              "      <td>-0.044791</td>\n",
              "      <td>-0.064435</td>\n",
              "      <td>...</td>\n",
              "      <td>-0.069017</td>\n",
              "      <td>-0.074967</td>\n",
              "      <td>-0.041213</td>\n",
              "      <td>-0.046524</td>\n",
              "      <td>-0.062106</td>\n",
              "      <td>-0.068266</td>\n",
              "      <td>-0.067051</td>\n",
              "      <td>-0.063629</td>\n",
              "      <td>-0.053014</td>\n",
              "      <td>-0.06043</td>\n",
              "    </tr>\n",
              "  </tbody>\n",
              "</table>\n",
              "<p>1 rows × 34 columns</p>\n",
              "</div>\n",
              "      <button class=\"colab-df-convert\" onclick=\"convertToInteractive('df-f2211784-7ac4-49b8-8660-6be113340364')\"\n",
              "              title=\"Convert this dataframe to an interactive table.\"\n",
              "              style=\"display:none;\">\n",
              "        \n",
              "  <svg xmlns=\"http://www.w3.org/2000/svg\" height=\"24px\"viewBox=\"0 0 24 24\"\n",
              "       width=\"24px\">\n",
              "    <path d=\"M0 0h24v24H0V0z\" fill=\"none\"/>\n",
              "    <path d=\"M18.56 5.44l.94 2.06.94-2.06 2.06-.94-2.06-.94-.94-2.06-.94 2.06-2.06.94zm-11 1L8.5 8.5l.94-2.06 2.06-.94-2.06-.94L8.5 2.5l-.94 2.06-2.06.94zm10 10l.94 2.06.94-2.06 2.06-.94-2.06-.94-.94-2.06-.94 2.06-2.06.94z\"/><path d=\"M17.41 7.96l-1.37-1.37c-.4-.4-.92-.59-1.43-.59-.52 0-1.04.2-1.43.59L10.3 9.45l-7.72 7.72c-.78.78-.78 2.05 0 2.83L4 21.41c.39.39.9.59 1.41.59.51 0 1.02-.2 1.41-.59l7.78-7.78 2.81-2.81c.8-.78.8-2.07 0-2.86zM5.41 20L4 18.59l7.72-7.72 1.47 1.35L5.41 20z\"/>\n",
              "  </svg>\n",
              "      </button>\n",
              "      \n",
              "  <style>\n",
              "    .colab-df-container {\n",
              "      display:flex;\n",
              "      flex-wrap:wrap;\n",
              "      gap: 12px;\n",
              "    }\n",
              "\n",
              "    .colab-df-convert {\n",
              "      background-color: #E8F0FE;\n",
              "      border: none;\n",
              "      border-radius: 50%;\n",
              "      cursor: pointer;\n",
              "      display: none;\n",
              "      fill: #1967D2;\n",
              "      height: 32px;\n",
              "      padding: 0 0 0 0;\n",
              "      width: 32px;\n",
              "    }\n",
              "\n",
              "    .colab-df-convert:hover {\n",
              "      background-color: #E2EBFA;\n",
              "      box-shadow: 0px 1px 2px rgba(60, 64, 67, 0.3), 0px 1px 3px 1px rgba(60, 64, 67, 0.15);\n",
              "      fill: #174EA6;\n",
              "    }\n",
              "\n",
              "    [theme=dark] .colab-df-convert {\n",
              "      background-color: #3B4455;\n",
              "      fill: #D2E3FC;\n",
              "    }\n",
              "\n",
              "    [theme=dark] .colab-df-convert:hover {\n",
              "      background-color: #434B5C;\n",
              "      box-shadow: 0px 1px 3px 1px rgba(0, 0, 0, 0.15);\n",
              "      filter: drop-shadow(0px 1px 2px rgba(0, 0, 0, 0.3));\n",
              "      fill: #FFFFFF;\n",
              "    }\n",
              "  </style>\n",
              "\n",
              "      <script>\n",
              "        const buttonEl =\n",
              "          document.querySelector('#df-f2211784-7ac4-49b8-8660-6be113340364 button.colab-df-convert');\n",
              "        buttonEl.style.display =\n",
              "          google.colab.kernel.accessAllowed ? 'block' : 'none';\n",
              "\n",
              "        async function convertToInteractive(key) {\n",
              "          const element = document.querySelector('#df-f2211784-7ac4-49b8-8660-6be113340364');\n",
              "          const dataTable =\n",
              "            await google.colab.kernel.invokeFunction('convertToInteractive',\n",
              "                                                     [key], {});\n",
              "          if (!dataTable) return;\n",
              "\n",
              "          const docLinkHtml = 'Like what you see? Visit the ' +\n",
              "            '<a target=\"_blank\" href=https://colab.research.google.com/notebooks/data_table.ipynb>data table notebook</a>'\n",
              "            + ' to learn more about interactive tables.';\n",
              "          element.innerHTML = '';\n",
              "          dataTable['output_type'] = 'display_data';\n",
              "          await google.colab.output.renderOutput(dataTable, element);\n",
              "          const docLink = document.createElement('div');\n",
              "          docLink.innerHTML = docLinkHtml;\n",
              "          element.appendChild(docLink);\n",
              "        }\n",
              "      </script>\n",
              "    </div>\n",
              "  </div>\n",
              "  "
            ]
          },
          "metadata": {},
          "execution_count": 55
        }
      ]
    },
    {
      "cell_type": "code",
      "source": [
        "# # Y is the target or output variable \n",
        "y = daily_return_copy_RT.iloc[:,0:1]\n",
        "\n",
        "y.reset_index(inplace=True)\n",
        "y.drop(labels='Date', axis=1,inplace=True)\n",
        "# y = pd.DataFrame(y)\n",
        "\n",
        "y.head(2)"
      ],
      "metadata": {
        "colab": {
          "base_uri": "https://localhost:8080/",
          "height": 198
        },
        "id": "KDbWVvqUgVWm",
        "outputId": "277eb013-3436-4fb5-beca-f0ef33a14f7f"
      },
      "id": "KDbWVvqUgVWm",
      "execution_count": null,
      "outputs": [
        {
          "output_type": "stream",
          "name": "stderr",
          "text": [
            "/usr/local/lib/python3.7/dist-packages/pandas/core/frame.py:4913: SettingWithCopyWarning: \n",
            "A value is trying to be set on a copy of a slice from a DataFrame\n",
            "\n",
            "See the caveats in the documentation: https://pandas.pydata.org/pandas-docs/stable/user_guide/indexing.html#returning-a-view-versus-a-copy\n",
            "  errors=errors,\n"
          ]
        },
        {
          "output_type": "execute_result",
          "data": {
            "text/plain": [
              "      LUXXX\n",
              "0 -0.071509\n",
              "1 -0.026471"
            ],
            "text/html": [
              "\n",
              "  <div id=\"df-ca4dc523-c94d-44cb-97c8-a50855e4cd77\">\n",
              "    <div class=\"colab-df-container\">\n",
              "      <div>\n",
              "<style scoped>\n",
              "    .dataframe tbody tr th:only-of-type {\n",
              "        vertical-align: middle;\n",
              "    }\n",
              "\n",
              "    .dataframe tbody tr th {\n",
              "        vertical-align: top;\n",
              "    }\n",
              "\n",
              "    .dataframe thead th {\n",
              "        text-align: right;\n",
              "    }\n",
              "</style>\n",
              "<table border=\"1\" class=\"dataframe\">\n",
              "  <thead>\n",
              "    <tr style=\"text-align: right;\">\n",
              "      <th></th>\n",
              "      <th>LUXXX</th>\n",
              "    </tr>\n",
              "  </thead>\n",
              "  <tbody>\n",
              "    <tr>\n",
              "      <th>0</th>\n",
              "      <td>-0.071509</td>\n",
              "    </tr>\n",
              "    <tr>\n",
              "      <th>1</th>\n",
              "      <td>-0.026471</td>\n",
              "    </tr>\n",
              "  </tbody>\n",
              "</table>\n",
              "</div>\n",
              "      <button class=\"colab-df-convert\" onclick=\"convertToInteractive('df-ca4dc523-c94d-44cb-97c8-a50855e4cd77')\"\n",
              "              title=\"Convert this dataframe to an interactive table.\"\n",
              "              style=\"display:none;\">\n",
              "        \n",
              "  <svg xmlns=\"http://www.w3.org/2000/svg\" height=\"24px\"viewBox=\"0 0 24 24\"\n",
              "       width=\"24px\">\n",
              "    <path d=\"M0 0h24v24H0V0z\" fill=\"none\"/>\n",
              "    <path d=\"M18.56 5.44l.94 2.06.94-2.06 2.06-.94-2.06-.94-.94-2.06-.94 2.06-2.06.94zm-11 1L8.5 8.5l.94-2.06 2.06-.94-2.06-.94L8.5 2.5l-.94 2.06-2.06.94zm10 10l.94 2.06.94-2.06 2.06-.94-2.06-.94-.94-2.06-.94 2.06-2.06.94z\"/><path d=\"M17.41 7.96l-1.37-1.37c-.4-.4-.92-.59-1.43-.59-.52 0-1.04.2-1.43.59L10.3 9.45l-7.72 7.72c-.78.78-.78 2.05 0 2.83L4 21.41c.39.39.9.59 1.41.59.51 0 1.02-.2 1.41-.59l7.78-7.78 2.81-2.81c.8-.78.8-2.07 0-2.86zM5.41 20L4 18.59l7.72-7.72 1.47 1.35L5.41 20z\"/>\n",
              "  </svg>\n",
              "      </button>\n",
              "      \n",
              "  <style>\n",
              "    .colab-df-container {\n",
              "      display:flex;\n",
              "      flex-wrap:wrap;\n",
              "      gap: 12px;\n",
              "    }\n",
              "\n",
              "    .colab-df-convert {\n",
              "      background-color: #E8F0FE;\n",
              "      border: none;\n",
              "      border-radius: 50%;\n",
              "      cursor: pointer;\n",
              "      display: none;\n",
              "      fill: #1967D2;\n",
              "      height: 32px;\n",
              "      padding: 0 0 0 0;\n",
              "      width: 32px;\n",
              "    }\n",
              "\n",
              "    .colab-df-convert:hover {\n",
              "      background-color: #E2EBFA;\n",
              "      box-shadow: 0px 1px 2px rgba(60, 64, 67, 0.3), 0px 1px 3px 1px rgba(60, 64, 67, 0.15);\n",
              "      fill: #174EA6;\n",
              "    }\n",
              "\n",
              "    [theme=dark] .colab-df-convert {\n",
              "      background-color: #3B4455;\n",
              "      fill: #D2E3FC;\n",
              "    }\n",
              "\n",
              "    [theme=dark] .colab-df-convert:hover {\n",
              "      background-color: #434B5C;\n",
              "      box-shadow: 0px 1px 3px 1px rgba(0, 0, 0, 0.15);\n",
              "      filter: drop-shadow(0px 1px 2px rgba(0, 0, 0, 0.3));\n",
              "      fill: #FFFFFF;\n",
              "    }\n",
              "  </style>\n",
              "\n",
              "      <script>\n",
              "        const buttonEl =\n",
              "          document.querySelector('#df-ca4dc523-c94d-44cb-97c8-a50855e4cd77 button.colab-df-convert');\n",
              "        buttonEl.style.display =\n",
              "          google.colab.kernel.accessAllowed ? 'block' : 'none';\n",
              "\n",
              "        async function convertToInteractive(key) {\n",
              "          const element = document.querySelector('#df-ca4dc523-c94d-44cb-97c8-a50855e4cd77');\n",
              "          const dataTable =\n",
              "            await google.colab.kernel.invokeFunction('convertToInteractive',\n",
              "                                                     [key], {});\n",
              "          if (!dataTable) return;\n",
              "\n",
              "          const docLinkHtml = 'Like what you see? Visit the ' +\n",
              "            '<a target=\"_blank\" href=https://colab.research.google.com/notebooks/data_table.ipynb>data table notebook</a>'\n",
              "            + ' to learn more about interactive tables.';\n",
              "          element.innerHTML = '';\n",
              "          dataTable['output_type'] = 'display_data';\n",
              "          await google.colab.output.renderOutput(dataTable, element);\n",
              "          const docLink = document.createElement('div');\n",
              "          docLink.innerHTML = docLinkHtml;\n",
              "          element.appendChild(docLink);\n",
              "        }\n",
              "      </script>\n",
              "    </div>\n",
              "  </div>\n",
              "  "
            ]
          },
          "metadata": {},
          "execution_count": 56
        }
      ]
    },
    {
      "cell_type": "code",
      "source": [
        "length_to_split = int(len(X) * 0.8)\n",
        "# Splitting the X and y into train and test datasets for default model\n",
        "X_train, X_test = X[:length_to_split], X[length_to_split:]\n",
        "y_train, y_test = y[:length_to_split], y[length_to_split:]\n",
        " \n",
        "# Print the size of the train and test dataset\n",
        "print(X_train.shape, X_test.shape)\n",
        "print(y_train.shape, y_test.shape)"
      ],
      "metadata": {
        "colab": {
          "base_uri": "https://localhost:8080/"
        },
        "id": "jqX9FLuLl_TR",
        "outputId": "185584bb-a6d7-4882-afba-8ddc8808b9f9"
      },
      "id": "jqX9FLuLl_TR",
      "execution_count": null,
      "outputs": [
        {
          "output_type": "stream",
          "name": "stdout",
          "text": [
            "(200, 34) (51, 34)\n",
            "(200, 1) (51, 1)\n"
          ]
        }
      ]
    },
    {
      "cell_type": "markdown",
      "source": [
        "Using feature scaling we will normalize the range of independent variables."
      ],
      "metadata": {
        "id": "Xq5s_U1pmEW3"
      },
      "id": "Xq5s_U1pmEW3"
    },
    {
      "cell_type": "code",
      "source": [
        "# using feature scaling\n",
        "# from sklearn.preprocessing import StandardScaler\n",
        "# X_sc = StandardScaler()\n",
        "# X_train = X_sc.fit_transform(X_train)\n",
        "# # X_test = X_sc.transform(X_test)\n",
        "# X_train[0]"
      ],
      "metadata": {
        "id": "PwXVdieDmLWM"
      },
      "id": "PwXVdieDmLWM",
      "execution_count": null,
      "outputs": []
    },
    {
      "cell_type": "code",
      "source": [
        "regressor  = tree.DecisionTreeRegressor(random_state=20)\n",
        "\n",
        "# Create the model on train dataset\n",
        "model = regressor.fit(X_train, y_train)\n",
        "\n",
        "# predicting the result\n",
        "# pred_labels_te = model.predict(X_sc.transform(X_test))\n",
        "pred_labels_te = model.predict(X_test)\n",
        "pred_labels_tr = model.predict(X_train)\n",
        "\n",
        "print(cross_val_score(model, X, y, cv=10 ) )\n",
        " \n",
        "\n",
        " # Accuracy of the algorithm\n",
        "from sklearn.metrics import accuracy_score\n",
        "# print(accuracy_score(y_test, pred_labels_te))\n",
        "# Calculate the accuracy\n",
        "# print(model.score(model.predict(X_test, y_test)*100))\n",
        "print(model.score(  X_test,  y_test   ) )"
      ],
      "metadata": {
        "colab": {
          "base_uri": "https://localhost:8080/"
        },
        "outputId": "36807ef9-ead5-4bab-d70d-5d64820c2deb",
        "id": "srcJkaDkhF1q"
      },
      "execution_count": null,
      "outputs": [
        {
          "output_type": "stream",
          "name": "stdout",
          "text": [
            "[ 0.0368078  -1.52084295 -0.91669881 -1.60088242 -0.3870793  -0.65812625\n",
            "  0.16479488  0.09078428 -0.19304896  0.36924785]\n",
            "0.02562926419692646\n"
          ]
        }
      ],
      "id": "srcJkaDkhF1q"
    },
    {
      "cell_type": "markdown",
      "source": [
        "Our coefficient of determination $R^2$ is given as $0.02562926419692646 ≈ 2.6\\%$.  This is the proportion of the variation in the dependent variable that is predictable from the independent variable(s). Best possible score is 1.0, lower values are worse. Which shows our model is not good.\n",
        "\n",
        "Furthermore, the cross validation score from the plot shows us that regression is not a good fit for our data."
      ],
      "metadata": {
        "id": "AD2_Ajtc2Hwf"
      },
      "id": "AD2_Ajtc2Hwf"
    },
    {
      "cell_type": "code",
      "source": [
        "top_features = pd.DataFrame( model.feature_importances_, index =  list (model.feature_names_in_ ))\n",
        "\n",
        "top_features.rename( index=str, columns={0:'Gini Importance'} , inplace=True  )\n",
        "top_features.sort_values( by= 'Gini Importance' , ascending=False, inplace=True )\n",
        "top_features.head(10)"
      ],
      "metadata": {
        "colab": {
          "base_uri": "https://localhost:8080/",
          "height": 362
        },
        "id": "FXqyfK3WuqDe",
        "outputId": "2ab75e7e-fe9c-4664-fe6b-019b45ce4535"
      },
      "id": "FXqyfK3WuqDe",
      "execution_count": null,
      "outputs": [
        {
          "output_type": "execute_result",
          "data": {
            "text/plain": [
              "                  Gini Importance\n",
              "MSCI AUSTRIA             0.408712\n",
              "MSCI NETHERLANDS         0.075948\n",
              "MSCI NORWAY              0.057827\n",
              "MSCI PERU                0.042765\n",
              "MSCI BELGIUM             0.042355\n",
              "MSCI CANADA              0.039286\n",
              "MSCI AUSTRALIA           0.035663\n",
              "MSCI KOREA               0.028785\n",
              "MSCI FINLAND             0.028037\n",
              "MSCI JAPAN               0.024984"
            ],
            "text/html": [
              "\n",
              "  <div id=\"df-5ad27dbf-4fbc-4728-bbc0-032b3c62537c\">\n",
              "    <div class=\"colab-df-container\">\n",
              "      <div>\n",
              "<style scoped>\n",
              "    .dataframe tbody tr th:only-of-type {\n",
              "        vertical-align: middle;\n",
              "    }\n",
              "\n",
              "    .dataframe tbody tr th {\n",
              "        vertical-align: top;\n",
              "    }\n",
              "\n",
              "    .dataframe thead th {\n",
              "        text-align: right;\n",
              "    }\n",
              "</style>\n",
              "<table border=\"1\" class=\"dataframe\">\n",
              "  <thead>\n",
              "    <tr style=\"text-align: right;\">\n",
              "      <th></th>\n",
              "      <th>Gini Importance</th>\n",
              "    </tr>\n",
              "  </thead>\n",
              "  <tbody>\n",
              "    <tr>\n",
              "      <th>MSCI AUSTRIA</th>\n",
              "      <td>0.408712</td>\n",
              "    </tr>\n",
              "    <tr>\n",
              "      <th>MSCI NETHERLANDS</th>\n",
              "      <td>0.075948</td>\n",
              "    </tr>\n",
              "    <tr>\n",
              "      <th>MSCI NORWAY</th>\n",
              "      <td>0.057827</td>\n",
              "    </tr>\n",
              "    <tr>\n",
              "      <th>MSCI PERU</th>\n",
              "      <td>0.042765</td>\n",
              "    </tr>\n",
              "    <tr>\n",
              "      <th>MSCI BELGIUM</th>\n",
              "      <td>0.042355</td>\n",
              "    </tr>\n",
              "    <tr>\n",
              "      <th>MSCI CANADA</th>\n",
              "      <td>0.039286</td>\n",
              "    </tr>\n",
              "    <tr>\n",
              "      <th>MSCI AUSTRALIA</th>\n",
              "      <td>0.035663</td>\n",
              "    </tr>\n",
              "    <tr>\n",
              "      <th>MSCI KOREA</th>\n",
              "      <td>0.028785</td>\n",
              "    </tr>\n",
              "    <tr>\n",
              "      <th>MSCI FINLAND</th>\n",
              "      <td>0.028037</td>\n",
              "    </tr>\n",
              "    <tr>\n",
              "      <th>MSCI JAPAN</th>\n",
              "      <td>0.024984</td>\n",
              "    </tr>\n",
              "  </tbody>\n",
              "</table>\n",
              "</div>\n",
              "      <button class=\"colab-df-convert\" onclick=\"convertToInteractive('df-5ad27dbf-4fbc-4728-bbc0-032b3c62537c')\"\n",
              "              title=\"Convert this dataframe to an interactive table.\"\n",
              "              style=\"display:none;\">\n",
              "        \n",
              "  <svg xmlns=\"http://www.w3.org/2000/svg\" height=\"24px\"viewBox=\"0 0 24 24\"\n",
              "       width=\"24px\">\n",
              "    <path d=\"M0 0h24v24H0V0z\" fill=\"none\"/>\n",
              "    <path d=\"M18.56 5.44l.94 2.06.94-2.06 2.06-.94-2.06-.94-.94-2.06-.94 2.06-2.06.94zm-11 1L8.5 8.5l.94-2.06 2.06-.94-2.06-.94L8.5 2.5l-.94 2.06-2.06.94zm10 10l.94 2.06.94-2.06 2.06-.94-2.06-.94-.94-2.06-.94 2.06-2.06.94z\"/><path d=\"M17.41 7.96l-1.37-1.37c-.4-.4-.92-.59-1.43-.59-.52 0-1.04.2-1.43.59L10.3 9.45l-7.72 7.72c-.78.78-.78 2.05 0 2.83L4 21.41c.39.39.9.59 1.41.59.51 0 1.02-.2 1.41-.59l7.78-7.78 2.81-2.81c.8-.78.8-2.07 0-2.86zM5.41 20L4 18.59l7.72-7.72 1.47 1.35L5.41 20z\"/>\n",
              "  </svg>\n",
              "      </button>\n",
              "      \n",
              "  <style>\n",
              "    .colab-df-container {\n",
              "      display:flex;\n",
              "      flex-wrap:wrap;\n",
              "      gap: 12px;\n",
              "    }\n",
              "\n",
              "    .colab-df-convert {\n",
              "      background-color: #E8F0FE;\n",
              "      border: none;\n",
              "      border-radius: 50%;\n",
              "      cursor: pointer;\n",
              "      display: none;\n",
              "      fill: #1967D2;\n",
              "      height: 32px;\n",
              "      padding: 0 0 0 0;\n",
              "      width: 32px;\n",
              "    }\n",
              "\n",
              "    .colab-df-convert:hover {\n",
              "      background-color: #E2EBFA;\n",
              "      box-shadow: 0px 1px 2px rgba(60, 64, 67, 0.3), 0px 1px 3px 1px rgba(60, 64, 67, 0.15);\n",
              "      fill: #174EA6;\n",
              "    }\n",
              "\n",
              "    [theme=dark] .colab-df-convert {\n",
              "      background-color: #3B4455;\n",
              "      fill: #D2E3FC;\n",
              "    }\n",
              "\n",
              "    [theme=dark] .colab-df-convert:hover {\n",
              "      background-color: #434B5C;\n",
              "      box-shadow: 0px 1px 3px 1px rgba(0, 0, 0, 0.15);\n",
              "      filter: drop-shadow(0px 1px 2px rgba(0, 0, 0, 0.3));\n",
              "      fill: #FFFFFF;\n",
              "    }\n",
              "  </style>\n",
              "\n",
              "      <script>\n",
              "        const buttonEl =\n",
              "          document.querySelector('#df-5ad27dbf-4fbc-4728-bbc0-032b3c62537c button.colab-df-convert');\n",
              "        buttonEl.style.display =\n",
              "          google.colab.kernel.accessAllowed ? 'block' : 'none';\n",
              "\n",
              "        async function convertToInteractive(key) {\n",
              "          const element = document.querySelector('#df-5ad27dbf-4fbc-4728-bbc0-032b3c62537c');\n",
              "          const dataTable =\n",
              "            await google.colab.kernel.invokeFunction('convertToInteractive',\n",
              "                                                     [key], {});\n",
              "          if (!dataTable) return;\n",
              "\n",
              "          const docLinkHtml = 'Like what you see? Visit the ' +\n",
              "            '<a target=\"_blank\" href=https://colab.research.google.com/notebooks/data_table.ipynb>data table notebook</a>'\n",
              "            + ' to learn more about interactive tables.';\n",
              "          element.innerHTML = '';\n",
              "          dataTable['output_type'] = 'display_data';\n",
              "          await google.colab.output.renderOutput(dataTable, element);\n",
              "          const docLink = document.createElement('div');\n",
              "          docLink.innerHTML = docLinkHtml;\n",
              "          element.appendChild(docLink);\n",
              "        }\n",
              "      </script>\n",
              "    </div>\n",
              "  </div>\n",
              "  "
            ]
          },
          "metadata": {},
          "execution_count": 60
        }
      ]
    },
    {
      "cell_type": "code",
      "source": [
        ""
      ],
      "metadata": {
        "id": "lszbDrq8qe67"
      },
      "id": "lszbDrq8qe67",
      "execution_count": null,
      "outputs": []
    },
    {
      "cell_type": "code",
      "source": [
        "    # Tree summary and model evaluation metrics\n",
        "    print('*************** Tree Summary ***************')\n",
        "    print('Tree Depth: ', clf.tree_.max_depth)\n",
        "    print('No. of leaves: ', clf.tree_.n_leaves)\n",
        "    print('No. of features: ', clf.n_features_in_)\n",
        "    print('--------------------------------------------------------')\n",
        "    print(\"\")"
      ],
      "metadata": {
        "colab": {
          "base_uri": "https://localhost:8080/"
        },
        "id": "JCInP5enhF1r",
        "outputId": "195d85cd-aee3-4469-c686-33e2b9bba8b0"
      },
      "execution_count": null,
      "outputs": [
        {
          "output_type": "stream",
          "name": "stdout",
          "text": [
            "*************** Tree Summary ***************\n",
            "Tree Depth:  6\n",
            "No. of leaves:  20\n",
            "No. of features:  34\n",
            "--------------------------------------------------------\n",
            "\n"
          ]
        }
      ],
      "id": "JCInP5enhF1r"
    },
    {
      "cell_type": "code",
      "source": [
        "    print('*************** Evaluation on Test Data ***************')\n",
        "    score_te = model.score(X_test, y_test)\n",
        "    print('Accuracy Score: ', score_te)\n",
        "    print('--------------------------------------------------------')\n",
        "    print(\"\")"
      ],
      "metadata": {
        "colab": {
          "base_uri": "https://localhost:8080/"
        },
        "id": "k_uAdt3ThF1s",
        "outputId": "52480fc9-b1ac-4c3c-dcc6-00430864a99b"
      },
      "execution_count": null,
      "outputs": [
        {
          "output_type": "stream",
          "name": "stdout",
          "text": [
            "*************** Evaluation on Test Data ***************\n",
            "Accuracy Score:  0.02562926419692646\n",
            "--------------------------------------------------------\n",
            "\n"
          ]
        }
      ],
      "id": "k_uAdt3ThF1s"
    },
    {
      "cell_type": "code",
      "source": [
        "    print('*************** Evaluation on Training Data ***************')\n",
        "    score_tr = model.score(X_train, y_train)\n",
        "    print('Accuracy Score: ', score_tr)\n",
        "    print('--------------------------------------------------------')"
      ],
      "metadata": {
        "colab": {
          "base_uri": "https://localhost:8080/"
        },
        "id": "Jta8mGdDhF1s",
        "outputId": "0842d4ae-c2d6-40cb-e45b-de7bc96f5e90"
      },
      "execution_count": null,
      "outputs": [
        {
          "output_type": "stream",
          "name": "stdout",
          "text": [
            "*************** Evaluation on Training Data ***************\n",
            "Accuracy Score:  1.0\n",
            "--------------------------------------------------------\n"
          ]
        }
      ],
      "id": "Jta8mGdDhF1s"
    },
    {
      "cell_type": "markdown",
      "source": [
        "For the training test, our model outputs a score of $1.0$, this indicates a likelihood of overfitting."
      ],
      "metadata": {
        "id": "txCxYqmE4In4"
      },
      "id": "txCxYqmE4In4"
    },
    {
      "cell_type": "code",
      "source": [
        "# KFold Cross Validation approach\n",
        "kf = KFold(n_splits=10,shuffle=False)\n",
        "kf.split(X)    \n",
        "     \n",
        "# Initialize the accuracy of the models to blank list. The accuracy of each model will be appended to this list\n",
        "coef_of_det_model = []\n",
        " \n",
        "# Iterate over each train-test split\n",
        "for train_index, test_index in kf.split(X):\n",
        "    # Split train-test\n",
        "    X_train, X_test = X.iloc[train_index], X.iloc[test_index]\n",
        "    y_train, y_test = y.iloc[train_index], y.iloc[test_index]\n",
        "    # Train the model\n",
        "    model2 = regressor.fit(X_train, y_train)\n",
        "    # Append to accuracy_model the accuracy of the model\n",
        "    coef_of_det_model.append(model2.score( X_test, y_test)*100)\n",
        "\n",
        "# Print the accuracy    \n",
        "print(coef_of_det_model)"
      ],
      "metadata": {
        "colab": {
          "base_uri": "https://localhost:8080/"
        },
        "id": "fZzTUspAhF1s",
        "outputId": "8bf64e9a-31cb-4c38-89a9-d263436829bc"
      },
      "execution_count": null,
      "outputs": [
        {
          "output_type": "stream",
          "name": "stdout",
          "text": [
            "[3.680779777115961, -152.0842947138774, -91.66988119896797, -160.0882417533624, -38.70793047316039, -65.81262543856417, 16.479488009187914, 9.078428277050431, -19.304896494347233, 36.92478458398624]\n"
          ]
        }
      ],
      "id": "fZzTUspAhF1s"
    },
    {
      "cell_type": "markdown",
      "source": [
        "From the above, hardcoding the **K-Folds** didn't help us out."
      ],
      "metadata": {
        "id": "QeGTLvab5GBI"
      },
      "id": "QeGTLvab5GBI"
    },
    {
      "cell_type": "markdown",
      "source": [
        "We plot our model to gain some insights."
      ],
      "metadata": {
        "id": "5S3nYa673zpB"
      },
      "id": "5S3nYa673zpB"
    },
    {
      "cell_type": "code",
      "source": [
        "import graphviz \n",
        "dot_data2 = tree.export_graphviz(model2, out_file=None) \n",
        "graph2 = graphviz.Source(dot_data2) \n",
        "graph2"
      ],
      "metadata": {
        "colab": {
          "base_uri": "https://localhost:8080/",
          "height": 1000
        },
        "outputId": "24b55b89-a0ce-4d76-bad5-0380fdd747b1",
        "id": "jgV-hlR4hF1s"
      },
      "execution_count": null,
      "outputs": [
        {
          "output_type": "execute_result",
          "data": {
            "text/plain": [
              "<graphviz.files.Source at 0x7f6ad10acd50>"
            ],
            "image/svg+xml": "<?xml version=\"1.0\" encoding=\"UTF-8\" standalone=\"no\"?>\n<!DOCTYPE svg PUBLIC \"-//W3C//DTD SVG 1.1//EN\"\n \"http://www.w3.org/Graphics/SVG/1.1/DTD/svg11.dtd\">\n<!-- Generated by graphviz version 2.40.1 (20161225.0304)\n -->\n<!-- Title: Tree Pages: 1 -->\n<svg width=\"13651pt\" height=\"1933pt\"\n viewBox=\"0.00 0.00 13650.50 1933.00\" xmlns=\"http://www.w3.org/2000/svg\" xmlns:xlink=\"http://www.w3.org/1999/xlink\">\n<g id=\"graph0\" class=\"graph\" transform=\"scale(1 1) rotate(0) translate(4 1929)\">\n<title>Tree</title>\n<polygon fill=\"#ffffff\" stroke=\"transparent\" points=\"-4,4 -4,-1929 13646.5,-1929 13646.5,4 -4,4\"/>\n<!-- 0 -->\n<g id=\"node1\" class=\"node\">\n<title>0</title>\n<polygon fill=\"none\" stroke=\"#000000\" points=\"4195.5,-1925 4034.5,-1925 4034.5,-1857 4195.5,-1857 4195.5,-1925\"/>\n<text text-anchor=\"middle\" x=\"4115\" y=\"-1909.8\" font-family=\"Helvetica,sans-Serif\" font-size=\"14.00\" fill=\"#000000\">X[3] &lt;= &#45;0.023</text>\n<text text-anchor=\"middle\" x=\"4115\" y=\"-1894.8\" font-family=\"Helvetica,sans-Serif\" font-size=\"14.00\" fill=\"#000000\">squared_error = 0.001</text>\n<text text-anchor=\"middle\" x=\"4115\" y=\"-1879.8\" font-family=\"Helvetica,sans-Serif\" font-size=\"14.00\" fill=\"#000000\">samples = 226</text>\n<text text-anchor=\"middle\" x=\"4115\" y=\"-1864.8\" font-family=\"Helvetica,sans-Serif\" font-size=\"14.00\" fill=\"#000000\">value = &#45;0.001</text>\n</g>\n<!-- 1 -->\n<g id=\"node2\" class=\"node\">\n<title>1</title>\n<polygon fill=\"none\" stroke=\"#000000\" points=\"1085.5,-1821 924.5,-1821 924.5,-1753 1085.5,-1753 1085.5,-1821\"/>\n<text text-anchor=\"middle\" x=\"1005\" y=\"-1805.8\" font-family=\"Helvetica,sans-Serif\" font-size=\"14.00\" fill=\"#000000\">X[17] &lt;= &#45;0.072</text>\n<text text-anchor=\"middle\" x=\"1005\" y=\"-1790.8\" font-family=\"Helvetica,sans-Serif\" font-size=\"14.00\" fill=\"#000000\">squared_error = 0.001</text>\n<text text-anchor=\"middle\" x=\"1005\" y=\"-1775.8\" font-family=\"Helvetica,sans-Serif\" font-size=\"14.00\" fill=\"#000000\">samples = 40</text>\n<text text-anchor=\"middle\" x=\"1005\" y=\"-1760.8\" font-family=\"Helvetica,sans-Serif\" font-size=\"14.00\" fill=\"#000000\">value = &#45;0.038</text>\n</g>\n<!-- 0&#45;&gt;1 -->\n<g id=\"edge1\" class=\"edge\">\n<title>0&#45;&gt;1</title>\n<path fill=\"none\" stroke=\"#000000\" d=\"M4034.2075,-1888.2983C3600.7951,-1873.8047 1553.9073,-1805.3557 1096.0136,-1790.0435\"/>\n<polygon fill=\"#000000\" stroke=\"#000000\" points=\"1095.9279,-1786.5388 1085.8164,-1789.7025 1095.6938,-1793.5349 1095.9279,-1786.5388\"/>\n<text text-anchor=\"middle\" x=\"1102.8934\" y=\"-1804.2612\" font-family=\"Helvetica,sans-Serif\" font-size=\"14.00\" fill=\"#000000\">True</text>\n</g>\n<!-- 80 -->\n<g id=\"node81\" class=\"node\">\n<title>80</title>\n<polygon fill=\"none\" stroke=\"#000000\" points=\"6935.5,-1821 6774.5,-1821 6774.5,-1753 6935.5,-1753 6935.5,-1821\"/>\n<text text-anchor=\"middle\" x=\"6855\" y=\"-1805.8\" font-family=\"Helvetica,sans-Serif\" font-size=\"14.00\" fill=\"#000000\">X[3] &lt;= 0.034</text>\n<text text-anchor=\"middle\" x=\"6855\" y=\"-1790.8\" font-family=\"Helvetica,sans-Serif\" font-size=\"14.00\" fill=\"#000000\">squared_error = 0.001</text>\n<text text-anchor=\"middle\" x=\"6855\" y=\"-1775.8\" font-family=\"Helvetica,sans-Serif\" font-size=\"14.00\" fill=\"#000000\">samples = 186</text>\n<text text-anchor=\"middle\" x=\"6855\" y=\"-1760.8\" font-family=\"Helvetica,sans-Serif\" font-size=\"14.00\" fill=\"#000000\">value = 0.007</text>\n</g>\n<!-- 0&#45;&gt;80 -->\n<g id=\"edge80\" class=\"edge\">\n<title>0&#45;&gt;80</title>\n<path fill=\"none\" stroke=\"#000000\" d=\"M4195.5191,-1887.9438C4593.0659,-1872.8544 6344.1828,-1806.3887 6764.2107,-1790.446\"/>\n<polygon fill=\"#000000\" stroke=\"#000000\" points=\"6764.6165,-1793.9332 6774.4766,-1790.0564 6764.351,-1786.9383 6764.6165,-1793.9332\"/>\n<text text-anchor=\"middle\" x=\"6757.4821\" y=\"-1804.6918\" font-family=\"Helvetica,sans-Serif\" font-size=\"14.00\" fill=\"#000000\">False</text>\n</g>\n<!-- 2 -->\n<g id=\"node3\" class=\"node\">\n<title>2</title>\n<polygon fill=\"none\" stroke=\"#000000\" points=\"514.5,-1717 353.5,-1717 353.5,-1649 514.5,-1649 514.5,-1717\"/>\n<text text-anchor=\"middle\" x=\"434\" y=\"-1701.8\" font-family=\"Helvetica,sans-Serif\" font-size=\"14.00\" fill=\"#000000\">X[14] &lt;= &#45;0.157</text>\n<text text-anchor=\"middle\" x=\"434\" y=\"-1686.8\" font-family=\"Helvetica,sans-Serif\" font-size=\"14.00\" fill=\"#000000\">squared_error = 0.001</text>\n<text text-anchor=\"middle\" x=\"434\" y=\"-1671.8\" font-family=\"Helvetica,sans-Serif\" font-size=\"14.00\" fill=\"#000000\">samples = 3</text>\n<text text-anchor=\"middle\" x=\"434\" y=\"-1656.8\" font-family=\"Helvetica,sans-Serif\" font-size=\"14.00\" fill=\"#000000\">value = &#45;0.123</text>\n</g>\n<!-- 1&#45;&gt;2 -->\n<g id=\"edge2\" class=\"edge\">\n<title>1&#45;&gt;2</title>\n<path fill=\"none\" stroke=\"#000000\" d=\"M924.4007,-1772.3199C819.0193,-1753.1261 634.9187,-1719.5946 524.7474,-1699.5284\"/>\n<polygon fill=\"#000000\" stroke=\"#000000\" points=\"525.1153,-1696.0379 514.65,-1697.6893 523.861,-1702.9246 525.1153,-1696.0379\"/>\n</g>\n<!-- 7 -->\n<g id=\"node8\" class=\"node\">\n<title>7</title>\n<polygon fill=\"none\" stroke=\"#000000\" points=\"1085.5,-1717 924.5,-1717 924.5,-1649 1085.5,-1649 1085.5,-1717\"/>\n<text text-anchor=\"middle\" x=\"1005\" y=\"-1701.8\" font-family=\"Helvetica,sans-Serif\" font-size=\"14.00\" fill=\"#000000\">X[2] &lt;= &#45;0.035</text>\n<text text-anchor=\"middle\" x=\"1005\" y=\"-1686.8\" font-family=\"Helvetica,sans-Serif\" font-size=\"14.00\" fill=\"#000000\">squared_error = 0.001</text>\n<text text-anchor=\"middle\" x=\"1005\" y=\"-1671.8\" font-family=\"Helvetica,sans-Serif\" font-size=\"14.00\" fill=\"#000000\">samples = 37</text>\n<text text-anchor=\"middle\" x=\"1005\" y=\"-1656.8\" font-family=\"Helvetica,sans-Serif\" font-size=\"14.00\" fill=\"#000000\">value = &#45;0.031</text>\n</g>\n<!-- 1&#45;&gt;7 -->\n<g id=\"edge7\" class=\"edge\">\n<title>1&#45;&gt;7</title>\n<path fill=\"none\" stroke=\"#000000\" d=\"M1005,-1752.9465C1005,-1744.776 1005,-1735.9318 1005,-1727.3697\"/>\n<polygon fill=\"#000000\" stroke=\"#000000\" points=\"1008.5001,-1727.13 1005,-1717.13 1001.5001,-1727.13 1008.5001,-1727.13\"/>\n</g>\n<!-- 3 -->\n<g id=\"node4\" class=\"node\">\n<title>3</title>\n<polygon fill=\"none\" stroke=\"#000000\" points=\"344,-1605.5 200,-1605.5 200,-1552.5 344,-1552.5 344,-1605.5\"/>\n<text text-anchor=\"middle\" x=\"272\" y=\"-1590.3\" font-family=\"Helvetica,sans-Serif\" font-size=\"14.00\" fill=\"#000000\">squared_error = 0.0</text>\n<text text-anchor=\"middle\" x=\"272\" y=\"-1575.3\" font-family=\"Helvetica,sans-Serif\" font-size=\"14.00\" fill=\"#000000\">samples = 1</text>\n<text text-anchor=\"middle\" x=\"272\" y=\"-1560.3\" font-family=\"Helvetica,sans-Serif\" font-size=\"14.00\" fill=\"#000000\">value = &#45;0.169</text>\n</g>\n<!-- 2&#45;&gt;3 -->\n<g id=\"edge3\" class=\"edge\">\n<title>2&#45;&gt;3</title>\n<path fill=\"none\" stroke=\"#000000\" d=\"M380.9551,-1648.9465C361.9957,-1636.775 340.7073,-1623.1084 322.0121,-1611.1066\"/>\n<polygon fill=\"#000000\" stroke=\"#000000\" points=\"323.6505,-1607.9992 313.3445,-1605.5422 319.8689,-1613.8898 323.6505,-1607.9992\"/>\n</g>\n<!-- 4 -->\n<g id=\"node5\" class=\"node\">\n<title>4</title>\n<polygon fill=\"none\" stroke=\"#000000\" points=\"506,-1613 362,-1613 362,-1545 506,-1545 506,-1613\"/>\n<text text-anchor=\"middle\" x=\"434\" y=\"-1597.8\" font-family=\"Helvetica,sans-Serif\" font-size=\"14.00\" fill=\"#000000\">X[3] &lt;= &#45;0.078</text>\n<text text-anchor=\"middle\" x=\"434\" y=\"-1582.8\" font-family=\"Helvetica,sans-Serif\" font-size=\"14.00\" fill=\"#000000\">squared_error = 0.0</text>\n<text text-anchor=\"middle\" x=\"434\" y=\"-1567.8\" font-family=\"Helvetica,sans-Serif\" font-size=\"14.00\" fill=\"#000000\">samples = 2</text>\n<text text-anchor=\"middle\" x=\"434\" y=\"-1552.8\" font-family=\"Helvetica,sans-Serif\" font-size=\"14.00\" fill=\"#000000\">value = &#45;0.1</text>\n</g>\n<!-- 2&#45;&gt;4 -->\n<g id=\"edge4\" class=\"edge\">\n<title>2&#45;&gt;4</title>\n<path fill=\"none\" stroke=\"#000000\" d=\"M434,-1648.9465C434,-1640.776 434,-1631.9318 434,-1623.3697\"/>\n<polygon fill=\"#000000\" stroke=\"#000000\" points=\"437.5001,-1623.13 434,-1613.13 430.5001,-1623.13 437.5001,-1623.13\"/>\n</g>\n<!-- 5 -->\n<g id=\"node6\" class=\"node\">\n<title>5</title>\n<polygon fill=\"none\" stroke=\"#000000\" points=\"341,-1501.5 197,-1501.5 197,-1448.5 341,-1448.5 341,-1501.5\"/>\n<text text-anchor=\"middle\" x=\"269\" y=\"-1486.3\" font-family=\"Helvetica,sans-Serif\" font-size=\"14.00\" fill=\"#000000\">squared_error = 0.0</text>\n<text text-anchor=\"middle\" x=\"269\" y=\"-1471.3\" font-family=\"Helvetica,sans-Serif\" font-size=\"14.00\" fill=\"#000000\">samples = 1</text>\n<text text-anchor=\"middle\" x=\"269\" y=\"-1456.3\" font-family=\"Helvetica,sans-Serif\" font-size=\"14.00\" fill=\"#000000\">value = &#45;0.117</text>\n</g>\n<!-- 4&#45;&gt;5 -->\n<g id=\"edge5\" class=\"edge\">\n<title>4&#45;&gt;5</title>\n<path fill=\"none\" stroke=\"#000000\" d=\"M379.9728,-1544.9465C360.5749,-1532.72 338.7834,-1518.9847 319.68,-1506.9437\"/>\n<polygon fill=\"#000000\" stroke=\"#000000\" points=\"321.4362,-1503.9135 311.1102,-1501.5422 317.7036,-1509.8353 321.4362,-1503.9135\"/>\n</g>\n<!-- 6 -->\n<g id=\"node7\" class=\"node\">\n<title>6</title>\n<polygon fill=\"none\" stroke=\"#000000\" points=\"508.5,-1501.5 359.5,-1501.5 359.5,-1448.5 508.5,-1448.5 508.5,-1501.5\"/>\n<text text-anchor=\"middle\" x=\"434\" y=\"-1486.3\" font-family=\"Helvetica,sans-Serif\" font-size=\"14.00\" fill=\"#000000\">squared_error = &#45;0.0</text>\n<text text-anchor=\"middle\" x=\"434\" y=\"-1471.3\" font-family=\"Helvetica,sans-Serif\" font-size=\"14.00\" fill=\"#000000\">samples = 1</text>\n<text text-anchor=\"middle\" x=\"434\" y=\"-1456.3\" font-family=\"Helvetica,sans-Serif\" font-size=\"14.00\" fill=\"#000000\">value = &#45;0.082</text>\n</g>\n<!-- 4&#45;&gt;6 -->\n<g id=\"edge6\" class=\"edge\">\n<title>4&#45;&gt;6</title>\n<path fill=\"none\" stroke=\"#000000\" d=\"M434,-1544.9465C434,-1534.2621 434,-1522.4254 434,-1511.5742\"/>\n<polygon fill=\"#000000\" stroke=\"#000000\" points=\"437.5001,-1511.5421 434,-1501.5422 430.5001,-1511.5422 437.5001,-1511.5421\"/>\n</g>\n<!-- 8 -->\n<g id=\"node9\" class=\"node\">\n<title>8</title>\n<polygon fill=\"none\" stroke=\"#000000\" points=\"922.5,-1613 761.5,-1613 761.5,-1545 922.5,-1545 922.5,-1613\"/>\n<text text-anchor=\"middle\" x=\"842\" y=\"-1597.8\" font-family=\"Helvetica,sans-Serif\" font-size=\"14.00\" fill=\"#000000\">X[23] &lt;= &#45;0.034</text>\n<text text-anchor=\"middle\" x=\"842\" y=\"-1582.8\" font-family=\"Helvetica,sans-Serif\" font-size=\"14.00\" fill=\"#000000\">squared_error = 0.001</text>\n<text text-anchor=\"middle\" x=\"842\" y=\"-1567.8\" font-family=\"Helvetica,sans-Serif\" font-size=\"14.00\" fill=\"#000000\">samples = 6</text>\n<text text-anchor=\"middle\" x=\"842\" y=\"-1552.8\" font-family=\"Helvetica,sans-Serif\" font-size=\"14.00\" fill=\"#000000\">value = &#45;0.059</text>\n</g>\n<!-- 7&#45;&gt;8 -->\n<g id=\"edge8\" class=\"edge\">\n<title>7&#45;&gt;8</title>\n<path fill=\"none\" stroke=\"#000000\" d=\"M951.6277,-1648.9465C936.4298,-1639.2497 919.7445,-1628.6039 904.0763,-1618.6069\"/>\n<polygon fill=\"#000000\" stroke=\"#000000\" points=\"905.805,-1615.5582 895.4922,-1613.13 902.0398,-1621.4594 905.805,-1615.5582\"/>\n</g>\n<!-- 19 -->\n<g id=\"node20\" class=\"node\">\n<title>19</title>\n<polygon fill=\"none\" stroke=\"#000000\" points=\"1238,-1613 1094,-1613 1094,-1545 1238,-1545 1238,-1613\"/>\n<text text-anchor=\"middle\" x=\"1166\" y=\"-1597.8\" font-family=\"Helvetica,sans-Serif\" font-size=\"14.00\" fill=\"#000000\">X[9] &lt;= &#45;0.001</text>\n<text text-anchor=\"middle\" x=\"1166\" y=\"-1582.8\" font-family=\"Helvetica,sans-Serif\" font-size=\"14.00\" fill=\"#000000\">squared_error = 0.0</text>\n<text text-anchor=\"middle\" x=\"1166\" y=\"-1567.8\" font-family=\"Helvetica,sans-Serif\" font-size=\"14.00\" fill=\"#000000\">samples = 31</text>\n<text text-anchor=\"middle\" x=\"1166\" y=\"-1552.8\" font-family=\"Helvetica,sans-Serif\" font-size=\"14.00\" fill=\"#000000\">value = &#45;0.025</text>\n</g>\n<!-- 7&#45;&gt;19 -->\n<g id=\"edge19\" class=\"edge\">\n<title>7&#45;&gt;19</title>\n<path fill=\"none\" stroke=\"#000000\" d=\"M1057.7174,-1648.9465C1072.7288,-1639.2497 1089.2094,-1628.6039 1104.6854,-1618.6069\"/>\n<polygon fill=\"#000000\" stroke=\"#000000\" points=\"1106.6633,-1621.496 1113.1641,-1613.13 1102.8651,-1615.6161 1106.6633,-1621.496\"/>\n</g>\n<!-- 9 -->\n<g id=\"node10\" class=\"node\">\n<title>9</title>\n<polygon fill=\"none\" stroke=\"#000000\" points=\"671,-1509 527,-1509 527,-1441 671,-1441 671,-1509\"/>\n<text text-anchor=\"middle\" x=\"599\" y=\"-1493.8\" font-family=\"Helvetica,sans-Serif\" font-size=\"14.00\" fill=\"#000000\">X[32] &lt;= &#45;0.044</text>\n<text text-anchor=\"middle\" x=\"599\" y=\"-1478.8\" font-family=\"Helvetica,sans-Serif\" font-size=\"14.00\" fill=\"#000000\">squared_error = 0.0</text>\n<text text-anchor=\"middle\" x=\"599\" y=\"-1463.8\" font-family=\"Helvetica,sans-Serif\" font-size=\"14.00\" fill=\"#000000\">samples = 2</text>\n<text text-anchor=\"middle\" x=\"599\" y=\"-1448.8\" font-family=\"Helvetica,sans-Serif\" font-size=\"14.00\" fill=\"#000000\">value = &#45;0.027</text>\n</g>\n<!-- 8&#45;&gt;9 -->\n<g id=\"edge9\" class=\"edge\">\n<title>8&#45;&gt;9</title>\n<path fill=\"none\" stroke=\"#000000\" d=\"M762.4327,-1544.9465C736.1834,-1533.7122 706.9578,-1521.2042 680.5618,-1509.9071\"/>\n<polygon fill=\"#000000\" stroke=\"#000000\" points=\"681.9233,-1506.6828 671.3528,-1505.9658 679.1691,-1513.1182 681.9233,-1506.6828\"/>\n</g>\n<!-- 12 -->\n<g id=\"node13\" class=\"node\">\n<title>12</title>\n<polygon fill=\"none\" stroke=\"#000000\" points=\"914,-1509 770,-1509 770,-1441 914,-1441 914,-1509\"/>\n<text text-anchor=\"middle\" x=\"842\" y=\"-1493.8\" font-family=\"Helvetica,sans-Serif\" font-size=\"14.00\" fill=\"#000000\">X[21] &lt;= &#45;0.056</text>\n<text text-anchor=\"middle\" x=\"842\" y=\"-1478.8\" font-family=\"Helvetica,sans-Serif\" font-size=\"14.00\" fill=\"#000000\">squared_error = 0.0</text>\n<text text-anchor=\"middle\" x=\"842\" y=\"-1463.8\" font-family=\"Helvetica,sans-Serif\" font-size=\"14.00\" fill=\"#000000\">samples = 4</text>\n<text text-anchor=\"middle\" x=\"842\" y=\"-1448.8\" font-family=\"Helvetica,sans-Serif\" font-size=\"14.00\" fill=\"#000000\">value = &#45;0.076</text>\n</g>\n<!-- 8&#45;&gt;12 -->\n<g id=\"edge12\" class=\"edge\">\n<title>8&#45;&gt;12</title>\n<path fill=\"none\" stroke=\"#000000\" d=\"M842,-1544.9465C842,-1536.776 842,-1527.9318 842,-1519.3697\"/>\n<polygon fill=\"#000000\" stroke=\"#000000\" points=\"845.5001,-1519.13 842,-1509.13 838.5001,-1519.13 845.5001,-1519.13\"/>\n</g>\n<!-- 10 -->\n<g id=\"node11\" class=\"node\">\n<title>10</title>\n<polygon fill=\"none\" stroke=\"#000000\" points=\"468,-1397.5 324,-1397.5 324,-1344.5 468,-1344.5 468,-1397.5\"/>\n<text text-anchor=\"middle\" x=\"396\" y=\"-1382.3\" font-family=\"Helvetica,sans-Serif\" font-size=\"14.00\" fill=\"#000000\">squared_error = 0.0</text>\n<text text-anchor=\"middle\" x=\"396\" y=\"-1367.3\" font-family=\"Helvetica,sans-Serif\" font-size=\"14.00\" fill=\"#000000\">samples = 1</text>\n<text text-anchor=\"middle\" x=\"396\" y=\"-1352.3\" font-family=\"Helvetica,sans-Serif\" font-size=\"14.00\" fill=\"#000000\">value = &#45;0.022</text>\n</g>\n<!-- 9&#45;&gt;10 -->\n<g id=\"edge10\" class=\"edge\">\n<title>9&#45;&gt;10</title>\n<path fill=\"none\" stroke=\"#000000\" d=\"M532.5302,-1440.9465C508.1274,-1428.4446 480.6455,-1414.3652 456.7688,-1402.1328\"/>\n<polygon fill=\"#000000\" stroke=\"#000000\" points=\"458.3042,-1398.9868 447.8083,-1397.5422 455.1124,-1405.2168 458.3042,-1398.9868\"/>\n</g>\n<!-- 11 -->\n<g id=\"node12\" class=\"node\">\n<title>11</title>\n<polygon fill=\"none\" stroke=\"#000000\" points=\"630,-1397.5 486,-1397.5 486,-1344.5 630,-1344.5 630,-1397.5\"/>\n<text text-anchor=\"middle\" x=\"558\" y=\"-1382.3\" font-family=\"Helvetica,sans-Serif\" font-size=\"14.00\" fill=\"#000000\">squared_error = 0.0</text>\n<text text-anchor=\"middle\" x=\"558\" y=\"-1367.3\" font-family=\"Helvetica,sans-Serif\" font-size=\"14.00\" fill=\"#000000\">samples = 1</text>\n<text text-anchor=\"middle\" x=\"558\" y=\"-1352.3\" font-family=\"Helvetica,sans-Serif\" font-size=\"14.00\" fill=\"#000000\">value = &#45;0.031</text>\n</g>\n<!-- 9&#45;&gt;11 -->\n<g id=\"edge11\" class=\"edge\">\n<title>9&#45;&gt;11</title>\n<path fill=\"none\" stroke=\"#000000\" d=\"M585.5751,-1440.9465C581.2761,-1430.0418 576.5039,-1417.9368 572.1546,-1406.9043\"/>\n<polygon fill=\"#000000\" stroke=\"#000000\" points=\"575.3875,-1405.5617 568.4637,-1397.5422 568.8753,-1408.129 575.3875,-1405.5617\"/>\n</g>\n<!-- 13 -->\n<g id=\"node14\" class=\"node\">\n<title>13</title>\n<polygon fill=\"none\" stroke=\"#000000\" points=\"792,-1405 648,-1405 648,-1337 792,-1337 792,-1405\"/>\n<text text-anchor=\"middle\" x=\"720\" y=\"-1389.8\" font-family=\"Helvetica,sans-Serif\" font-size=\"14.00\" fill=\"#000000\">X[10] &lt;= &#45;0.053</text>\n<text text-anchor=\"middle\" x=\"720\" y=\"-1374.8\" font-family=\"Helvetica,sans-Serif\" font-size=\"14.00\" fill=\"#000000\">squared_error = 0.0</text>\n<text text-anchor=\"middle\" x=\"720\" y=\"-1359.8\" font-family=\"Helvetica,sans-Serif\" font-size=\"14.00\" fill=\"#000000\">samples = 2</text>\n<text text-anchor=\"middle\" x=\"720\" y=\"-1344.8\" font-family=\"Helvetica,sans-Serif\" font-size=\"14.00\" fill=\"#000000\">value = &#45;0.07</text>\n</g>\n<!-- 12&#45;&gt;13 -->\n<g id=\"edge13\" class=\"edge\">\n<title>12&#45;&gt;13</title>\n<path fill=\"none\" stroke=\"#000000\" d=\"M802.0526,-1440.9465C791.0988,-1431.6088 779.1127,-1421.3911 767.768,-1411.7203\"/>\n<polygon fill=\"#000000\" stroke=\"#000000\" points=\"769.9179,-1408.9538 760.0371,-1405.13 765.3767,-1414.2809 769.9179,-1408.9538\"/>\n</g>\n<!-- 16 -->\n<g id=\"node17\" class=\"node\">\n<title>16</title>\n<polygon fill=\"none\" stroke=\"#000000\" points=\"954,-1405 810,-1405 810,-1337 954,-1337 954,-1405\"/>\n<text text-anchor=\"middle\" x=\"882\" y=\"-1389.8\" font-family=\"Helvetica,sans-Serif\" font-size=\"14.00\" fill=\"#000000\">X[22] &lt;= &#45;0.02</text>\n<text text-anchor=\"middle\" x=\"882\" y=\"-1374.8\" font-family=\"Helvetica,sans-Serif\" font-size=\"14.00\" fill=\"#000000\">squared_error = 0.0</text>\n<text text-anchor=\"middle\" x=\"882\" y=\"-1359.8\" font-family=\"Helvetica,sans-Serif\" font-size=\"14.00\" fill=\"#000000\">samples = 2</text>\n<text text-anchor=\"middle\" x=\"882\" y=\"-1344.8\" font-family=\"Helvetica,sans-Serif\" font-size=\"14.00\" fill=\"#000000\">value = &#45;0.082</text>\n</g>\n<!-- 12&#45;&gt;16 -->\n<g id=\"edge16\" class=\"edge\">\n<title>12&#45;&gt;16</title>\n<path fill=\"none\" stroke=\"#000000\" d=\"M855.0975,-1440.9465C858.3436,-1432.5067 861.8662,-1423.3479 865.2601,-1414.5239\"/>\n<polygon fill=\"#000000\" stroke=\"#000000\" points=\"868.5499,-1415.7199 868.8731,-1405.13 862.0165,-1413.207 868.5499,-1415.7199\"/>\n</g>\n<!-- 14 -->\n<g id=\"node15\" class=\"node\">\n<title>14</title>\n<polygon fill=\"none\" stroke=\"#000000\" points=\"468,-1293.5 324,-1293.5 324,-1240.5 468,-1240.5 468,-1293.5\"/>\n<text text-anchor=\"middle\" x=\"396\" y=\"-1278.3\" font-family=\"Helvetica,sans-Serif\" font-size=\"14.00\" fill=\"#000000\">squared_error = 0.0</text>\n<text text-anchor=\"middle\" x=\"396\" y=\"-1263.3\" font-family=\"Helvetica,sans-Serif\" font-size=\"14.00\" fill=\"#000000\">samples = 1</text>\n<text text-anchor=\"middle\" x=\"396\" y=\"-1248.3\" font-family=\"Helvetica,sans-Serif\" font-size=\"14.00\" fill=\"#000000\">value = &#45;0.072</text>\n</g>\n<!-- 13&#45;&gt;14 -->\n<g id=\"edge14\" class=\"edge\">\n<title>13&#45;&gt;14</title>\n<path fill=\"none\" stroke=\"#000000\" d=\"M647.8166,-1339.948C644.8535,-1338.9126 641.9066,-1337.9248 639,-1337 568.7155,-1314.6375 547.2845,-1323.3625 477,-1301 473.2645,-1299.8115 469.4626,-1298.5189 465.6452,-1297.1551\"/>\n<polygon fill=\"#000000\" stroke=\"#000000\" points=\"466.7466,-1293.8307 456.1536,-1293.6371 464.3138,-1300.3943 466.7466,-1293.8307\"/>\n</g>\n<!-- 15 -->\n<g id=\"node16\" class=\"node\">\n<title>15</title>\n<polygon fill=\"none\" stroke=\"#000000\" points=\"630,-1293.5 486,-1293.5 486,-1240.5 630,-1240.5 630,-1293.5\"/>\n<text text-anchor=\"middle\" x=\"558\" y=\"-1278.3\" font-family=\"Helvetica,sans-Serif\" font-size=\"14.00\" fill=\"#000000\">squared_error = 0.0</text>\n<text text-anchor=\"middle\" x=\"558\" y=\"-1263.3\" font-family=\"Helvetica,sans-Serif\" font-size=\"14.00\" fill=\"#000000\">samples = 1</text>\n<text text-anchor=\"middle\" x=\"558\" y=\"-1248.3\" font-family=\"Helvetica,sans-Serif\" font-size=\"14.00\" fill=\"#000000\">value = &#45;0.069</text>\n</g>\n<!-- 13&#45;&gt;15 -->\n<g id=\"edge15\" class=\"edge\">\n<title>13&#45;&gt;15</title>\n<path fill=\"none\" stroke=\"#000000\" d=\"M666.9551,-1336.9465C647.9957,-1324.775 626.7073,-1311.1084 608.0121,-1299.1066\"/>\n<polygon fill=\"#000000\" stroke=\"#000000\" points=\"609.6505,-1295.9992 599.3445,-1293.5422 605.8689,-1301.8898 609.6505,-1295.9992\"/>\n</g>\n<!-- 17 -->\n<g id=\"node18\" class=\"node\">\n<title>17</title>\n<polygon fill=\"none\" stroke=\"#000000\" points=\"792,-1293.5 648,-1293.5 648,-1240.5 792,-1240.5 792,-1293.5\"/>\n<text text-anchor=\"middle\" x=\"720\" y=\"-1278.3\" font-family=\"Helvetica,sans-Serif\" font-size=\"14.00\" fill=\"#000000\">squared_error = 0.0</text>\n<text text-anchor=\"middle\" x=\"720\" y=\"-1263.3\" font-family=\"Helvetica,sans-Serif\" font-size=\"14.00\" fill=\"#000000\">samples = 1</text>\n<text text-anchor=\"middle\" x=\"720\" y=\"-1248.3\" font-family=\"Helvetica,sans-Serif\" font-size=\"14.00\" fill=\"#000000\">value = &#45;0.084</text>\n</g>\n<!-- 16&#45;&gt;17 -->\n<g id=\"edge17\" class=\"edge\">\n<title>16&#45;&gt;17</title>\n<path fill=\"none\" stroke=\"#000000\" d=\"M828.9551,-1336.9465C809.9957,-1324.775 788.7073,-1311.1084 770.0121,-1299.1066\"/>\n<polygon fill=\"#000000\" stroke=\"#000000\" points=\"771.6505,-1295.9992 761.3445,-1293.5422 767.8689,-1301.8898 771.6505,-1295.9992\"/>\n</g>\n<!-- 18 -->\n<g id=\"node19\" class=\"node\">\n<title>18</title>\n<polygon fill=\"none\" stroke=\"#000000\" points=\"954,-1293.5 810,-1293.5 810,-1240.5 954,-1240.5 954,-1293.5\"/>\n<text text-anchor=\"middle\" x=\"882\" y=\"-1278.3\" font-family=\"Helvetica,sans-Serif\" font-size=\"14.00\" fill=\"#000000\">squared_error = 0.0</text>\n<text text-anchor=\"middle\" x=\"882\" y=\"-1263.3\" font-family=\"Helvetica,sans-Serif\" font-size=\"14.00\" fill=\"#000000\">samples = 1</text>\n<text text-anchor=\"middle\" x=\"882\" y=\"-1248.3\" font-family=\"Helvetica,sans-Serif\" font-size=\"14.00\" fill=\"#000000\">value = &#45;0.079</text>\n</g>\n<!-- 16&#45;&gt;18 -->\n<g id=\"edge18\" class=\"edge\">\n<title>16&#45;&gt;18</title>\n<path fill=\"none\" stroke=\"#000000\" d=\"M882,-1336.9465C882,-1326.2621 882,-1314.4254 882,-1303.5742\"/>\n<polygon fill=\"#000000\" stroke=\"#000000\" points=\"885.5001,-1303.5421 882,-1293.5422 878.5001,-1303.5422 885.5001,-1303.5421\"/>\n</g>\n<!-- 20 -->\n<g id=\"node21\" class=\"node\">\n<title>20</title>\n<polygon fill=\"none\" stroke=\"#000000\" points=\"1238,-1509 1094,-1509 1094,-1441 1238,-1441 1238,-1509\"/>\n<text text-anchor=\"middle\" x=\"1166\" y=\"-1493.8\" font-family=\"Helvetica,sans-Serif\" font-size=\"14.00\" fill=\"#000000\">X[21] &lt;= 0.023</text>\n<text text-anchor=\"middle\" x=\"1166\" y=\"-1478.8\" font-family=\"Helvetica,sans-Serif\" font-size=\"14.00\" fill=\"#000000\">squared_error = 0.0</text>\n<text text-anchor=\"middle\" x=\"1166\" y=\"-1463.8\" font-family=\"Helvetica,sans-Serif\" font-size=\"14.00\" fill=\"#000000\">samples = 22</text>\n<text text-anchor=\"middle\" x=\"1166\" y=\"-1448.8\" font-family=\"Helvetica,sans-Serif\" font-size=\"14.00\" fill=\"#000000\">value = &#45;0.033</text>\n</g>\n<!-- 19&#45;&gt;20 -->\n<g id=\"edge20\" class=\"edge\">\n<title>19&#45;&gt;20</title>\n<path fill=\"none\" stroke=\"#000000\" d=\"M1166,-1544.9465C1166,-1536.776 1166,-1527.9318 1166,-1519.3697\"/>\n<polygon fill=\"#000000\" stroke=\"#000000\" points=\"1169.5001,-1519.13 1166,-1509.13 1162.5001,-1519.13 1169.5001,-1519.13\"/>\n</g>\n<!-- 63 -->\n<g id=\"node64\" class=\"node\">\n<title>63</title>\n<polygon fill=\"none\" stroke=\"#000000\" points=\"1563,-1509 1419,-1509 1419,-1441 1563,-1441 1563,-1509\"/>\n<text text-anchor=\"middle\" x=\"1491\" y=\"-1493.8\" font-family=\"Helvetica,sans-Serif\" font-size=\"14.00\" fill=\"#000000\">X[17] &lt;= &#45;0.004</text>\n<text text-anchor=\"middle\" x=\"1491\" y=\"-1478.8\" font-family=\"Helvetica,sans-Serif\" font-size=\"14.00\" fill=\"#000000\">squared_error = 0.0</text>\n<text text-anchor=\"middle\" x=\"1491\" y=\"-1463.8\" font-family=\"Helvetica,sans-Serif\" font-size=\"14.00\" fill=\"#000000\">samples = 9</text>\n<text text-anchor=\"middle\" x=\"1491\" y=\"-1448.8\" font-family=\"Helvetica,sans-Serif\" font-size=\"14.00\" fill=\"#000000\">value = &#45;0.008</text>\n</g>\n<!-- 19&#45;&gt;63 -->\n<g id=\"edge63\" class=\"edge\">\n<title>19&#45;&gt;63</title>\n<path fill=\"none\" stroke=\"#000000\" d=\"M1238.128,-1555.919C1288.7423,-1539.7225 1356.5077,-1518.0375 1409.1477,-1501.1927\"/>\n<polygon fill=\"#000000\" stroke=\"#000000\" points=\"1410.3357,-1504.4875 1418.7932,-1498.1062 1408.2022,-1497.8205 1410.3357,-1504.4875\"/>\n</g>\n<!-- 21 -->\n<g id=\"node22\" class=\"node\">\n<title>21</title>\n<polygon fill=\"none\" stroke=\"#000000\" points=\"1155,-1405 1011,-1405 1011,-1337 1155,-1337 1155,-1405\"/>\n<text text-anchor=\"middle\" x=\"1083\" y=\"-1389.8\" font-family=\"Helvetica,sans-Serif\" font-size=\"14.00\" fill=\"#000000\">X[18] &lt;= &#45;0.036</text>\n<text text-anchor=\"middle\" x=\"1083\" y=\"-1374.8\" font-family=\"Helvetica,sans-Serif\" font-size=\"14.00\" fill=\"#000000\">squared_error = 0.0</text>\n<text text-anchor=\"middle\" x=\"1083\" y=\"-1359.8\" font-family=\"Helvetica,sans-Serif\" font-size=\"14.00\" fill=\"#000000\">samples = 21</text>\n<text text-anchor=\"middle\" x=\"1083\" y=\"-1344.8\" font-family=\"Helvetica,sans-Serif\" font-size=\"14.00\" fill=\"#000000\">value = &#45;0.034</text>\n</g>\n<!-- 20&#45;&gt;21 -->\n<g id=\"edge21\" class=\"edge\">\n<title>20&#45;&gt;21</title>\n<path fill=\"none\" stroke=\"#000000\" d=\"M1138.8227,-1440.9465C1131.7288,-1432.0578 1123.9985,-1422.3716 1116.614,-1413.1188\"/>\n<polygon fill=\"#000000\" stroke=\"#000000\" points=\"1119.2118,-1410.7628 1110.2384,-1405.13 1113.7406,-1415.1293 1119.2118,-1410.7628\"/>\n</g>\n<!-- 62 -->\n<g id=\"node63\" class=\"node\">\n<title>62</title>\n<polygon fill=\"none\" stroke=\"#000000\" points=\"1322.5,-1397.5 1173.5,-1397.5 1173.5,-1344.5 1322.5,-1344.5 1322.5,-1397.5\"/>\n<text text-anchor=\"middle\" x=\"1248\" y=\"-1382.3\" font-family=\"Helvetica,sans-Serif\" font-size=\"14.00\" fill=\"#000000\">squared_error = &#45;0.0</text>\n<text text-anchor=\"middle\" x=\"1248\" y=\"-1367.3\" font-family=\"Helvetica,sans-Serif\" font-size=\"14.00\" fill=\"#000000\">samples = 1</text>\n<text text-anchor=\"middle\" x=\"1248\" y=\"-1352.3\" font-family=\"Helvetica,sans-Serif\" font-size=\"14.00\" fill=\"#000000\">value = 0.005</text>\n</g>\n<!-- 20&#45;&gt;62 -->\n<g id=\"edge62\" class=\"edge\">\n<title>20&#45;&gt;62</title>\n<path fill=\"none\" stroke=\"#000000\" d=\"M1192.8499,-1440.9465C1201.7952,-1429.6012 1211.7649,-1416.9567 1220.741,-1405.5724\"/>\n<polygon fill=\"#000000\" stroke=\"#000000\" points=\"1223.6294,-1407.5619 1227.0725,-1397.5422 1218.1325,-1403.2278 1223.6294,-1407.5619\"/>\n</g>\n<!-- 22 -->\n<g id=\"node23\" class=\"node\">\n<title>22</title>\n<polygon fill=\"none\" stroke=\"#000000\" points=\"1116,-1301 972,-1301 972,-1233 1116,-1233 1116,-1301\"/>\n<text text-anchor=\"middle\" x=\"1044\" y=\"-1285.8\" font-family=\"Helvetica,sans-Serif\" font-size=\"14.00\" fill=\"#000000\">X[21] &lt;= &#45;0.012</text>\n<text text-anchor=\"middle\" x=\"1044\" y=\"-1270.8\" font-family=\"Helvetica,sans-Serif\" font-size=\"14.00\" fill=\"#000000\">squared_error = 0.0</text>\n<text text-anchor=\"middle\" x=\"1044\" y=\"-1255.8\" font-family=\"Helvetica,sans-Serif\" font-size=\"14.00\" fill=\"#000000\">samples = 8</text>\n<text text-anchor=\"middle\" x=\"1044\" y=\"-1240.8\" font-family=\"Helvetica,sans-Serif\" font-size=\"14.00\" fill=\"#000000\">value = &#45;0.024</text>\n</g>\n<!-- 21&#45;&gt;22 -->\n<g id=\"edge22\" class=\"edge\">\n<title>21&#45;&gt;22</title>\n<path fill=\"none\" stroke=\"#000000\" d=\"M1070.2299,-1336.9465C1067.065,-1328.5067 1063.6305,-1319.3479 1060.3214,-1310.5239\"/>\n<polygon fill=\"#000000\" stroke=\"#000000\" points=\"1063.5872,-1309.2643 1056.7987,-1301.13 1057.0329,-1311.7222 1063.5872,-1309.2643\"/>\n</g>\n<!-- 37 -->\n<g id=\"node38\" class=\"node\">\n<title>37</title>\n<polygon fill=\"none\" stroke=\"#000000\" points=\"1278,-1301 1134,-1301 1134,-1233 1278,-1233 1278,-1301\"/>\n<text text-anchor=\"middle\" x=\"1206\" y=\"-1285.8\" font-family=\"Helvetica,sans-Serif\" font-size=\"14.00\" fill=\"#000000\">X[7] &lt;= &#45;0.04</text>\n<text text-anchor=\"middle\" x=\"1206\" y=\"-1270.8\" font-family=\"Helvetica,sans-Serif\" font-size=\"14.00\" fill=\"#000000\">squared_error = 0.0</text>\n<text text-anchor=\"middle\" x=\"1206\" y=\"-1255.8\" font-family=\"Helvetica,sans-Serif\" font-size=\"14.00\" fill=\"#000000\">samples = 13</text>\n<text text-anchor=\"middle\" x=\"1206\" y=\"-1240.8\" font-family=\"Helvetica,sans-Serif\" font-size=\"14.00\" fill=\"#000000\">value = &#45;0.041</text>\n</g>\n<!-- 21&#45;&gt;37 -->\n<g id=\"edge37\" class=\"edge\">\n<title>21&#45;&gt;37</title>\n<path fill=\"none\" stroke=\"#000000\" d=\"M1123.2748,-1336.9465C1134.3184,-1327.6088 1146.4028,-1317.3911 1157.8404,-1307.7203\"/>\n<polygon fill=\"#000000\" stroke=\"#000000\" points=\"1160.2583,-1310.2594 1165.6347,-1301.13 1155.7386,-1304.914 1160.2583,-1310.2594\"/>\n</g>\n<!-- 23 -->\n<g id=\"node24\" class=\"node\">\n<title>23</title>\n<polygon fill=\"none\" stroke=\"#000000\" points=\"549,-1197 405,-1197 405,-1129 549,-1129 549,-1197\"/>\n<text text-anchor=\"middle\" x=\"477\" y=\"-1181.8\" font-family=\"Helvetica,sans-Serif\" font-size=\"14.00\" fill=\"#000000\">X[20] &lt;= &#45;0.018</text>\n<text text-anchor=\"middle\" x=\"477\" y=\"-1166.8\" font-family=\"Helvetica,sans-Serif\" font-size=\"14.00\" fill=\"#000000\">squared_error = 0.0</text>\n<text text-anchor=\"middle\" x=\"477\" y=\"-1151.8\" font-family=\"Helvetica,sans-Serif\" font-size=\"14.00\" fill=\"#000000\">samples = 5</text>\n<text text-anchor=\"middle\" x=\"477\" y=\"-1136.8\" font-family=\"Helvetica,sans-Serif\" font-size=\"14.00\" fill=\"#000000\">value = &#45;0.02</text>\n</g>\n<!-- 22&#45;&gt;23 -->\n<g id=\"edge23\" class=\"edge\">\n<title>22&#45;&gt;23</title>\n<path fill=\"none\" stroke=\"#000000\" d=\"M971.9004,-1235.6662C968.9141,-1234.7088 965.9395,-1233.8143 963,-1233 824.3462,-1194.5916 657.2738,-1176.4014 559.5216,-1168.4647\"/>\n<polygon fill=\"#000000\" stroke=\"#000000\" points=\"559.6544,-1164.9643 549.4083,-1167.6602 559.0992,-1171.9423 559.6544,-1164.9643\"/>\n</g>\n<!-- 32 -->\n<g id=\"node33\" class=\"node\">\n<title>32</title>\n<polygon fill=\"none\" stroke=\"#000000\" points=\"954,-1197 810,-1197 810,-1129 954,-1129 954,-1197\"/>\n<text text-anchor=\"middle\" x=\"882\" y=\"-1181.8\" font-family=\"Helvetica,sans-Serif\" font-size=\"14.00\" fill=\"#000000\">X[28] &lt;= &#45;0.008</text>\n<text text-anchor=\"middle\" x=\"882\" y=\"-1166.8\" font-family=\"Helvetica,sans-Serif\" font-size=\"14.00\" fill=\"#000000\">squared_error = 0.0</text>\n<text text-anchor=\"middle\" x=\"882\" y=\"-1151.8\" font-family=\"Helvetica,sans-Serif\" font-size=\"14.00\" fill=\"#000000\">samples = 3</text>\n<text text-anchor=\"middle\" x=\"882\" y=\"-1136.8\" font-family=\"Helvetica,sans-Serif\" font-size=\"14.00\" fill=\"#000000\">value = &#45;0.031</text>\n</g>\n<!-- 22&#45;&gt;32 -->\n<g id=\"edge32\" class=\"edge\">\n<title>22&#45;&gt;32</title>\n<path fill=\"none\" stroke=\"#000000\" d=\"M990.9551,-1232.9465C975.8505,-1223.2497 959.2676,-1212.6039 943.6954,-1202.6069\"/>\n<polygon fill=\"#000000\" stroke=\"#000000\" points=\"945.47,-1199.5871 935.164,-1197.13 941.6884,-1205.4777 945.47,-1199.5871\"/>\n</g>\n<!-- 24 -->\n<g id=\"node25\" class=\"node\">\n<title>24</title>\n<polygon fill=\"none\" stroke=\"#000000\" points=\"306,-1093 162,-1093 162,-1025 306,-1025 306,-1093\"/>\n<text text-anchor=\"middle\" x=\"234\" y=\"-1077.8\" font-family=\"Helvetica,sans-Serif\" font-size=\"14.00\" fill=\"#000000\">X[30] &lt;= &#45;0.026</text>\n<text text-anchor=\"middle\" x=\"234\" y=\"-1062.8\" font-family=\"Helvetica,sans-Serif\" font-size=\"14.00\" fill=\"#000000\">squared_error = 0.0</text>\n<text text-anchor=\"middle\" x=\"234\" y=\"-1047.8\" font-family=\"Helvetica,sans-Serif\" font-size=\"14.00\" fill=\"#000000\">samples = 2</text>\n<text text-anchor=\"middle\" x=\"234\" y=\"-1032.8\" font-family=\"Helvetica,sans-Serif\" font-size=\"14.00\" fill=\"#000000\">value = &#45;0.025</text>\n</g>\n<!-- 23&#45;&gt;24 -->\n<g id=\"edge24\" class=\"edge\">\n<title>23&#45;&gt;24</title>\n<path fill=\"none\" stroke=\"#000000\" d=\"M404.7499,-1132.0782C376.7247,-1120.0838 344.4914,-1106.2885 315.6328,-1093.9375\"/>\n<polygon fill=\"#000000\" stroke=\"#000000\" points=\"316.9619,-1090.6993 306.3913,-1089.9823 314.2076,-1097.1347 316.9619,-1090.6993\"/>\n</g>\n<!-- 27 -->\n<g id=\"node28\" class=\"node\">\n<title>27</title>\n<polygon fill=\"none\" stroke=\"#000000\" points=\"549,-1093 405,-1093 405,-1025 549,-1025 549,-1093\"/>\n<text text-anchor=\"middle\" x=\"477\" y=\"-1077.8\" font-family=\"Helvetica,sans-Serif\" font-size=\"14.00\" fill=\"#000000\">X[32] &lt;= &#45;0.041</text>\n<text text-anchor=\"middle\" x=\"477\" y=\"-1062.8\" font-family=\"Helvetica,sans-Serif\" font-size=\"14.00\" fill=\"#000000\">squared_error = 0.0</text>\n<text text-anchor=\"middle\" x=\"477\" y=\"-1047.8\" font-family=\"Helvetica,sans-Serif\" font-size=\"14.00\" fill=\"#000000\">samples = 3</text>\n<text text-anchor=\"middle\" x=\"477\" y=\"-1032.8\" font-family=\"Helvetica,sans-Serif\" font-size=\"14.00\" fill=\"#000000\">value = &#45;0.016</text>\n</g>\n<!-- 23&#45;&gt;27 -->\n<g id=\"edge27\" class=\"edge\">\n<title>23&#45;&gt;27</title>\n<path fill=\"none\" stroke=\"#000000\" d=\"M477,-1128.9465C477,-1120.776 477,-1111.9318 477,-1103.3697\"/>\n<polygon fill=\"#000000\" stroke=\"#000000\" points=\"480.5001,-1103.13 477,-1093.13 473.5001,-1103.13 480.5001,-1103.13\"/>\n</g>\n<!-- 25 -->\n<g id=\"node26\" class=\"node\">\n<title>25</title>\n<polygon fill=\"none\" stroke=\"#000000\" points=\"144,-981.5 0,-981.5 0,-928.5 144,-928.5 144,-981.5\"/>\n<text text-anchor=\"middle\" x=\"72\" y=\"-966.3\" font-family=\"Helvetica,sans-Serif\" font-size=\"14.00\" fill=\"#000000\">squared_error = 0.0</text>\n<text text-anchor=\"middle\" x=\"72\" y=\"-951.3\" font-family=\"Helvetica,sans-Serif\" font-size=\"14.00\" fill=\"#000000\">samples = 1</text>\n<text text-anchor=\"middle\" x=\"72\" y=\"-936.3\" font-family=\"Helvetica,sans-Serif\" font-size=\"14.00\" fill=\"#000000\">value = &#45;0.025</text>\n</g>\n<!-- 24&#45;&gt;25 -->\n<g id=\"edge25\" class=\"edge\">\n<title>24&#45;&gt;25</title>\n<path fill=\"none\" stroke=\"#000000\" d=\"M180.9551,-1024.9465C161.9957,-1012.775 140.7073,-999.1084 122.0121,-987.1066\"/>\n<polygon fill=\"#000000\" stroke=\"#000000\" points=\"123.6505,-983.9992 113.3445,-981.5422 119.8689,-989.8898 123.6505,-983.9992\"/>\n</g>\n<!-- 26 -->\n<g id=\"node27\" class=\"node\">\n<title>26</title>\n<polygon fill=\"none\" stroke=\"#000000\" points=\"306,-981.5 162,-981.5 162,-928.5 306,-928.5 306,-981.5\"/>\n<text text-anchor=\"middle\" x=\"234\" y=\"-966.3\" font-family=\"Helvetica,sans-Serif\" font-size=\"14.00\" fill=\"#000000\">squared_error = 0.0</text>\n<text text-anchor=\"middle\" x=\"234\" y=\"-951.3\" font-family=\"Helvetica,sans-Serif\" font-size=\"14.00\" fill=\"#000000\">samples = 1</text>\n<text text-anchor=\"middle\" x=\"234\" y=\"-936.3\" font-family=\"Helvetica,sans-Serif\" font-size=\"14.00\" fill=\"#000000\">value = &#45;0.024</text>\n</g>\n<!-- 24&#45;&gt;26 -->\n<g id=\"edge26\" class=\"edge\">\n<title>24&#45;&gt;26</title>\n<path fill=\"none\" stroke=\"#000000\" d=\"M234,-1024.9465C234,-1014.2621 234,-1002.4254 234,-991.5742\"/>\n<polygon fill=\"#000000\" stroke=\"#000000\" points=\"237.5001,-991.5421 234,-981.5422 230.5001,-991.5422 237.5001,-991.5421\"/>\n</g>\n<!-- 28 -->\n<g id=\"node29\" class=\"node\">\n<title>28</title>\n<polygon fill=\"none\" stroke=\"#000000\" points=\"468,-981.5 324,-981.5 324,-928.5 468,-928.5 468,-981.5\"/>\n<text text-anchor=\"middle\" x=\"396\" y=\"-966.3\" font-family=\"Helvetica,sans-Serif\" font-size=\"14.00\" fill=\"#000000\">squared_error = 0.0</text>\n<text text-anchor=\"middle\" x=\"396\" y=\"-951.3\" font-family=\"Helvetica,sans-Serif\" font-size=\"14.00\" fill=\"#000000\">samples = 1</text>\n<text text-anchor=\"middle\" x=\"396\" y=\"-936.3\" font-family=\"Helvetica,sans-Serif\" font-size=\"14.00\" fill=\"#000000\">value = &#45;0.013</text>\n</g>\n<!-- 27&#45;&gt;28 -->\n<g id=\"edge28\" class=\"edge\">\n<title>27&#45;&gt;28</title>\n<path fill=\"none\" stroke=\"#000000\" d=\"M450.4776,-1024.9465C441.6413,-1013.6012 431.7932,-1000.9567 422.9266,-989.5724\"/>\n<polygon fill=\"#000000\" stroke=\"#000000\" points=\"425.5783,-987.281 416.6723,-981.5422 420.0556,-991.5823 425.5783,-987.281\"/>\n</g>\n<!-- 29 -->\n<g id=\"node30\" class=\"node\">\n<title>29</title>\n<polygon fill=\"none\" stroke=\"#000000\" points=\"630,-989 486,-989 486,-921 630,-921 630,-989\"/>\n<text text-anchor=\"middle\" x=\"558\" y=\"-973.8\" font-family=\"Helvetica,sans-Serif\" font-size=\"14.00\" fill=\"#000000\">X[27] &lt;= &#45;0.019</text>\n<text text-anchor=\"middle\" x=\"558\" y=\"-958.8\" font-family=\"Helvetica,sans-Serif\" font-size=\"14.00\" fill=\"#000000\">squared_error = 0.0</text>\n<text text-anchor=\"middle\" x=\"558\" y=\"-943.8\" font-family=\"Helvetica,sans-Serif\" font-size=\"14.00\" fill=\"#000000\">samples = 2</text>\n<text text-anchor=\"middle\" x=\"558\" y=\"-928.8\" font-family=\"Helvetica,sans-Serif\" font-size=\"14.00\" fill=\"#000000\">value = &#45;0.018</text>\n</g>\n<!-- 27&#45;&gt;29 -->\n<g id=\"edge29\" class=\"edge\">\n<title>27&#45;&gt;29</title>\n<path fill=\"none\" stroke=\"#000000\" d=\"M503.5224,-1024.9465C510.4454,-1016.0578 517.9894,-1006.3716 525.196,-997.1188\"/>\n<polygon fill=\"#000000\" stroke=\"#000000\" points=\"528.0346,-999.1701 531.418,-989.13 522.512,-994.8688 528.0346,-999.1701\"/>\n</g>\n<!-- 30 -->\n<g id=\"node31\" class=\"node\">\n<title>30</title>\n<polygon fill=\"none\" stroke=\"#000000\" points=\"549,-877.5 405,-877.5 405,-824.5 549,-824.5 549,-877.5\"/>\n<text text-anchor=\"middle\" x=\"477\" y=\"-862.3\" font-family=\"Helvetica,sans-Serif\" font-size=\"14.00\" fill=\"#000000\">squared_error = 0.0</text>\n<text text-anchor=\"middle\" x=\"477\" y=\"-847.3\" font-family=\"Helvetica,sans-Serif\" font-size=\"14.00\" fill=\"#000000\">samples = 1</text>\n<text text-anchor=\"middle\" x=\"477\" y=\"-832.3\" font-family=\"Helvetica,sans-Serif\" font-size=\"14.00\" fill=\"#000000\">value = &#45;0.018</text>\n</g>\n<!-- 29&#45;&gt;30 -->\n<g id=\"edge30\" class=\"edge\">\n<title>29&#45;&gt;30</title>\n<path fill=\"none\" stroke=\"#000000\" d=\"M531.4776,-920.9465C522.6413,-909.6012 512.7932,-896.9567 503.9266,-885.5724\"/>\n<polygon fill=\"#000000\" stroke=\"#000000\" points=\"506.5783,-883.281 497.6723,-877.5422 501.0556,-887.5823 506.5783,-883.281\"/>\n</g>\n<!-- 31 -->\n<g id=\"node32\" class=\"node\">\n<title>31</title>\n<polygon fill=\"none\" stroke=\"#000000\" points=\"711,-877.5 567,-877.5 567,-824.5 711,-824.5 711,-877.5\"/>\n<text text-anchor=\"middle\" x=\"639\" y=\"-862.3\" font-family=\"Helvetica,sans-Serif\" font-size=\"14.00\" fill=\"#000000\">squared_error = 0.0</text>\n<text text-anchor=\"middle\" x=\"639\" y=\"-847.3\" font-family=\"Helvetica,sans-Serif\" font-size=\"14.00\" fill=\"#000000\">samples = 1</text>\n<text text-anchor=\"middle\" x=\"639\" y=\"-832.3\" font-family=\"Helvetica,sans-Serif\" font-size=\"14.00\" fill=\"#000000\">value = &#45;0.018</text>\n</g>\n<!-- 29&#45;&gt;31 -->\n<g id=\"edge31\" class=\"edge\">\n<title>29&#45;&gt;31</title>\n<path fill=\"none\" stroke=\"#000000\" d=\"M584.5224,-920.9465C593.3587,-909.6012 603.2068,-896.9567 612.0734,-885.5724\"/>\n<polygon fill=\"#000000\" stroke=\"#000000\" points=\"614.9444,-887.5823 618.3277,-877.5422 609.4217,-883.281 614.9444,-887.5823\"/>\n</g>\n<!-- 33 -->\n<g id=\"node34\" class=\"node\">\n<title>33</title>\n<polygon fill=\"none\" stroke=\"#000000\" points=\"792,-1093 648,-1093 648,-1025 792,-1025 792,-1093\"/>\n<text text-anchor=\"middle\" x=\"720\" y=\"-1077.8\" font-family=\"Helvetica,sans-Serif\" font-size=\"14.00\" fill=\"#000000\">X[29] &lt;= &#45;0.026</text>\n<text text-anchor=\"middle\" x=\"720\" y=\"-1062.8\" font-family=\"Helvetica,sans-Serif\" font-size=\"14.00\" fill=\"#000000\">squared_error = 0.0</text>\n<text text-anchor=\"middle\" x=\"720\" y=\"-1047.8\" font-family=\"Helvetica,sans-Serif\" font-size=\"14.00\" fill=\"#000000\">samples = 2</text>\n<text text-anchor=\"middle\" x=\"720\" y=\"-1032.8\" font-family=\"Helvetica,sans-Serif\" font-size=\"14.00\" fill=\"#000000\">value = &#45;0.027</text>\n</g>\n<!-- 32&#45;&gt;33 -->\n<g id=\"edge33\" class=\"edge\">\n<title>32&#45;&gt;33</title>\n<path fill=\"none\" stroke=\"#000000\" d=\"M828.9551,-1128.9465C813.8505,-1119.2497 797.2676,-1108.6039 781.6954,-1098.6069\"/>\n<polygon fill=\"#000000\" stroke=\"#000000\" points=\"783.47,-1095.5871 773.164,-1093.13 779.6884,-1101.4777 783.47,-1095.5871\"/>\n</g>\n<!-- 36 -->\n<g id=\"node37\" class=\"node\">\n<title>36</title>\n<polygon fill=\"none\" stroke=\"#000000\" points=\"954,-1085.5 810,-1085.5 810,-1032.5 954,-1032.5 954,-1085.5\"/>\n<text text-anchor=\"middle\" x=\"882\" y=\"-1070.3\" font-family=\"Helvetica,sans-Serif\" font-size=\"14.00\" fill=\"#000000\">squared_error = 0.0</text>\n<text text-anchor=\"middle\" x=\"882\" y=\"-1055.3\" font-family=\"Helvetica,sans-Serif\" font-size=\"14.00\" fill=\"#000000\">samples = 1</text>\n<text text-anchor=\"middle\" x=\"882\" y=\"-1040.3\" font-family=\"Helvetica,sans-Serif\" font-size=\"14.00\" fill=\"#000000\">value = &#45;0.039</text>\n</g>\n<!-- 32&#45;&gt;36 -->\n<g id=\"edge36\" class=\"edge\">\n<title>32&#45;&gt;36</title>\n<path fill=\"none\" stroke=\"#000000\" d=\"M882,-1128.9465C882,-1118.2621 882,-1106.4254 882,-1095.5742\"/>\n<polygon fill=\"#000000\" stroke=\"#000000\" points=\"885.5001,-1095.5421 882,-1085.5422 878.5001,-1095.5422 885.5001,-1095.5421\"/>\n</g>\n<!-- 34 -->\n<g id=\"node35\" class=\"node\">\n<title>34</title>\n<polygon fill=\"none\" stroke=\"#000000\" points=\"792,-981.5 648,-981.5 648,-928.5 792,-928.5 792,-981.5\"/>\n<text text-anchor=\"middle\" x=\"720\" y=\"-966.3\" font-family=\"Helvetica,sans-Serif\" font-size=\"14.00\" fill=\"#000000\">squared_error = 0.0</text>\n<text text-anchor=\"middle\" x=\"720\" y=\"-951.3\" font-family=\"Helvetica,sans-Serif\" font-size=\"14.00\" fill=\"#000000\">samples = 1</text>\n<text text-anchor=\"middle\" x=\"720\" y=\"-936.3\" font-family=\"Helvetica,sans-Serif\" font-size=\"14.00\" fill=\"#000000\">value = &#45;0.026</text>\n</g>\n<!-- 33&#45;&gt;34 -->\n<g id=\"edge34\" class=\"edge\">\n<title>33&#45;&gt;34</title>\n<path fill=\"none\" stroke=\"#000000\" d=\"M720,-1024.9465C720,-1014.2621 720,-1002.4254 720,-991.5742\"/>\n<polygon fill=\"#000000\" stroke=\"#000000\" points=\"723.5001,-991.5421 720,-981.5422 716.5001,-991.5422 723.5001,-991.5421\"/>\n</g>\n<!-- 35 -->\n<g id=\"node36\" class=\"node\">\n<title>35</title>\n<polygon fill=\"none\" stroke=\"#000000\" points=\"954,-981.5 810,-981.5 810,-928.5 954,-928.5 954,-981.5\"/>\n<text text-anchor=\"middle\" x=\"882\" y=\"-966.3\" font-family=\"Helvetica,sans-Serif\" font-size=\"14.00\" fill=\"#000000\">squared_error = 0.0</text>\n<text text-anchor=\"middle\" x=\"882\" y=\"-951.3\" font-family=\"Helvetica,sans-Serif\" font-size=\"14.00\" fill=\"#000000\">samples = 1</text>\n<text text-anchor=\"middle\" x=\"882\" y=\"-936.3\" font-family=\"Helvetica,sans-Serif\" font-size=\"14.00\" fill=\"#000000\">value = &#45;0.028</text>\n</g>\n<!-- 33&#45;&gt;35 -->\n<g id=\"edge35\" class=\"edge\">\n<title>33&#45;&gt;35</title>\n<path fill=\"none\" stroke=\"#000000\" d=\"M773.0449,-1024.9465C792.0043,-1012.775 813.2927,-999.1084 831.9879,-987.1066\"/>\n<polygon fill=\"#000000\" stroke=\"#000000\" points=\"834.1311,-989.8898 840.6555,-981.5422 830.3495,-983.9992 834.1311,-989.8898\"/>\n</g>\n<!-- 38 -->\n<g id=\"node39\" class=\"node\">\n<title>38</title>\n<polygon fill=\"none\" stroke=\"#000000\" points=\"1278,-1197 1134,-1197 1134,-1129 1278,-1129 1278,-1197\"/>\n<text text-anchor=\"middle\" x=\"1206\" y=\"-1181.8\" font-family=\"Helvetica,sans-Serif\" font-size=\"14.00\" fill=\"#000000\">X[10] &lt;= &#45;0.047</text>\n<text text-anchor=\"middle\" x=\"1206\" y=\"-1166.8\" font-family=\"Helvetica,sans-Serif\" font-size=\"14.00\" fill=\"#000000\">squared_error = 0.0</text>\n<text text-anchor=\"middle\" x=\"1206\" y=\"-1151.8\" font-family=\"Helvetica,sans-Serif\" font-size=\"14.00\" fill=\"#000000\">samples = 5</text>\n<text text-anchor=\"middle\" x=\"1206\" y=\"-1136.8\" font-family=\"Helvetica,sans-Serif\" font-size=\"14.00\" fill=\"#000000\">value = &#45;0.053</text>\n</g>\n<!-- 37&#45;&gt;38 -->\n<g id=\"edge38\" class=\"edge\">\n<title>37&#45;&gt;38</title>\n<path fill=\"none\" stroke=\"#000000\" d=\"M1206,-1232.9465C1206,-1224.776 1206,-1215.9318 1206,-1207.3697\"/>\n<polygon fill=\"#000000\" stroke=\"#000000\" points=\"1209.5001,-1207.13 1206,-1197.13 1202.5001,-1207.13 1209.5001,-1207.13\"/>\n</g>\n<!-- 47 -->\n<g id=\"node48\" class=\"node\">\n<title>47</title>\n<polygon fill=\"none\" stroke=\"#000000\" points=\"1440,-1197 1296,-1197 1296,-1129 1440,-1129 1440,-1197\"/>\n<text text-anchor=\"middle\" x=\"1368\" y=\"-1181.8\" font-family=\"Helvetica,sans-Serif\" font-size=\"14.00\" fill=\"#000000\">X[20] &lt;= &#45;0.028</text>\n<text text-anchor=\"middle\" x=\"1368\" y=\"-1166.8\" font-family=\"Helvetica,sans-Serif\" font-size=\"14.00\" fill=\"#000000\">squared_error = 0.0</text>\n<text text-anchor=\"middle\" x=\"1368\" y=\"-1151.8\" font-family=\"Helvetica,sans-Serif\" font-size=\"14.00\" fill=\"#000000\">samples = 8</text>\n<text text-anchor=\"middle\" x=\"1368\" y=\"-1136.8\" font-family=\"Helvetica,sans-Serif\" font-size=\"14.00\" fill=\"#000000\">value = &#45;0.033</text>\n</g>\n<!-- 37&#45;&gt;47 -->\n<g id=\"edge47\" class=\"edge\">\n<title>37&#45;&gt;47</title>\n<path fill=\"none\" stroke=\"#000000\" d=\"M1259.0449,-1232.9465C1274.1495,-1223.2497 1290.7324,-1212.6039 1306.3046,-1202.6069\"/>\n<polygon fill=\"#000000\" stroke=\"#000000\" points=\"1308.3116,-1205.4777 1314.836,-1197.13 1304.53,-1199.5871 1308.3116,-1205.4777\"/>\n</g>\n<!-- 39 -->\n<g id=\"node40\" class=\"node\">\n<title>39</title>\n<polygon fill=\"none\" stroke=\"#000000\" points=\"1116,-1085.5 972,-1085.5 972,-1032.5 1116,-1032.5 1116,-1085.5\"/>\n<text text-anchor=\"middle\" x=\"1044\" y=\"-1070.3\" font-family=\"Helvetica,sans-Serif\" font-size=\"14.00\" fill=\"#000000\">squared_error = 0.0</text>\n<text text-anchor=\"middle\" x=\"1044\" y=\"-1055.3\" font-family=\"Helvetica,sans-Serif\" font-size=\"14.00\" fill=\"#000000\">samples = 1</text>\n<text text-anchor=\"middle\" x=\"1044\" y=\"-1040.3\" font-family=\"Helvetica,sans-Serif\" font-size=\"14.00\" fill=\"#000000\">value = &#45;0.037</text>\n</g>\n<!-- 38&#45;&gt;39 -->\n<g id=\"edge39\" class=\"edge\">\n<title>38&#45;&gt;39</title>\n<path fill=\"none\" stroke=\"#000000\" d=\"M1152.9551,-1128.9465C1133.9957,-1116.775 1112.7073,-1103.1084 1094.0121,-1091.1066\"/>\n<polygon fill=\"#000000\" stroke=\"#000000\" points=\"1095.6505,-1087.9992 1085.3445,-1085.5422 1091.8689,-1093.8898 1095.6505,-1087.9992\"/>\n</g>\n<!-- 40 -->\n<g id=\"node41\" class=\"node\">\n<title>40</title>\n<polygon fill=\"none\" stroke=\"#000000\" points=\"1278,-1093 1134,-1093 1134,-1025 1278,-1025 1278,-1093\"/>\n<text text-anchor=\"middle\" x=\"1206\" y=\"-1077.8\" font-family=\"Helvetica,sans-Serif\" font-size=\"14.00\" fill=\"#000000\">X[25] &lt;= &#45;0.057</text>\n<text text-anchor=\"middle\" x=\"1206\" y=\"-1062.8\" font-family=\"Helvetica,sans-Serif\" font-size=\"14.00\" fill=\"#000000\">squared_error = 0.0</text>\n<text text-anchor=\"middle\" x=\"1206\" y=\"-1047.8\" font-family=\"Helvetica,sans-Serif\" font-size=\"14.00\" fill=\"#000000\">samples = 4</text>\n<text text-anchor=\"middle\" x=\"1206\" y=\"-1032.8\" font-family=\"Helvetica,sans-Serif\" font-size=\"14.00\" fill=\"#000000\">value = &#45;0.057</text>\n</g>\n<!-- 38&#45;&gt;40 -->\n<g id=\"edge40\" class=\"edge\">\n<title>38&#45;&gt;40</title>\n<path fill=\"none\" stroke=\"#000000\" d=\"M1206,-1128.9465C1206,-1120.776 1206,-1111.9318 1206,-1103.3697\"/>\n<polygon fill=\"#000000\" stroke=\"#000000\" points=\"1209.5001,-1103.13 1206,-1093.13 1202.5001,-1103.13 1209.5001,-1103.13\"/>\n</g>\n<!-- 41 -->\n<g id=\"node42\" class=\"node\">\n<title>41</title>\n<polygon fill=\"none\" stroke=\"#000000\" points=\"1116,-981.5 972,-981.5 972,-928.5 1116,-928.5 1116,-981.5\"/>\n<text text-anchor=\"middle\" x=\"1044\" y=\"-966.3\" font-family=\"Helvetica,sans-Serif\" font-size=\"14.00\" fill=\"#000000\">squared_error = 0.0</text>\n<text text-anchor=\"middle\" x=\"1044\" y=\"-951.3\" font-family=\"Helvetica,sans-Serif\" font-size=\"14.00\" fill=\"#000000\">samples = 1</text>\n<text text-anchor=\"middle\" x=\"1044\" y=\"-936.3\" font-family=\"Helvetica,sans-Serif\" font-size=\"14.00\" fill=\"#000000\">value = &#45;0.05</text>\n</g>\n<!-- 40&#45;&gt;41 -->\n<g id=\"edge41\" class=\"edge\">\n<title>40&#45;&gt;41</title>\n<path fill=\"none\" stroke=\"#000000\" d=\"M1152.9551,-1024.9465C1133.9957,-1012.775 1112.7073,-999.1084 1094.0121,-987.1066\"/>\n<polygon fill=\"#000000\" stroke=\"#000000\" points=\"1095.6505,-983.9992 1085.3445,-981.5422 1091.8689,-989.8898 1095.6505,-983.9992\"/>\n</g>\n<!-- 42 -->\n<g id=\"node43\" class=\"node\">\n<title>42</title>\n<polygon fill=\"none\" stroke=\"#000000\" points=\"1278,-989 1134,-989 1134,-921 1278,-921 1278,-989\"/>\n<text text-anchor=\"middle\" x=\"1206\" y=\"-973.8\" font-family=\"Helvetica,sans-Serif\" font-size=\"14.00\" fill=\"#000000\">X[3] &lt;= &#45;0.06</text>\n<text text-anchor=\"middle\" x=\"1206\" y=\"-958.8\" font-family=\"Helvetica,sans-Serif\" font-size=\"14.00\" fill=\"#000000\">squared_error = 0.0</text>\n<text text-anchor=\"middle\" x=\"1206\" y=\"-943.8\" font-family=\"Helvetica,sans-Serif\" font-size=\"14.00\" fill=\"#000000\">samples = 3</text>\n<text text-anchor=\"middle\" x=\"1206\" y=\"-928.8\" font-family=\"Helvetica,sans-Serif\" font-size=\"14.00\" fill=\"#000000\">value = &#45;0.059</text>\n</g>\n<!-- 40&#45;&gt;42 -->\n<g id=\"edge42\" class=\"edge\">\n<title>40&#45;&gt;42</title>\n<path fill=\"none\" stroke=\"#000000\" d=\"M1206,-1024.9465C1206,-1016.776 1206,-1007.9318 1206,-999.3697\"/>\n<polygon fill=\"#000000\" stroke=\"#000000\" points=\"1209.5001,-999.13 1206,-989.13 1202.5001,-999.13 1209.5001,-999.13\"/>\n</g>\n<!-- 43 -->\n<g id=\"node44\" class=\"node\">\n<title>43</title>\n<polygon fill=\"none\" stroke=\"#000000\" points=\"1116,-877.5 972,-877.5 972,-824.5 1116,-824.5 1116,-877.5\"/>\n<text text-anchor=\"middle\" x=\"1044\" y=\"-862.3\" font-family=\"Helvetica,sans-Serif\" font-size=\"14.00\" fill=\"#000000\">squared_error = 0.0</text>\n<text text-anchor=\"middle\" x=\"1044\" y=\"-847.3\" font-family=\"Helvetica,sans-Serif\" font-size=\"14.00\" fill=\"#000000\">samples = 1</text>\n<text text-anchor=\"middle\" x=\"1044\" y=\"-832.3\" font-family=\"Helvetica,sans-Serif\" font-size=\"14.00\" fill=\"#000000\">value = &#45;0.056</text>\n</g>\n<!-- 42&#45;&gt;43 -->\n<g id=\"edge43\" class=\"edge\">\n<title>42&#45;&gt;43</title>\n<path fill=\"none\" stroke=\"#000000\" d=\"M1152.9551,-920.9465C1133.9957,-908.775 1112.7073,-895.1084 1094.0121,-883.1066\"/>\n<polygon fill=\"#000000\" stroke=\"#000000\" points=\"1095.6505,-879.9992 1085.3445,-877.5422 1091.8689,-885.8898 1095.6505,-879.9992\"/>\n</g>\n<!-- 44 -->\n<g id=\"node45\" class=\"node\">\n<title>44</title>\n<polygon fill=\"none\" stroke=\"#000000\" points=\"1278,-885 1134,-885 1134,-817 1278,-817 1278,-885\"/>\n<text text-anchor=\"middle\" x=\"1206\" y=\"-869.8\" font-family=\"Helvetica,sans-Serif\" font-size=\"14.00\" fill=\"#000000\">X[30] &lt;= &#45;0.023</text>\n<text text-anchor=\"middle\" x=\"1206\" y=\"-854.8\" font-family=\"Helvetica,sans-Serif\" font-size=\"14.00\" fill=\"#000000\">squared_error = 0.0</text>\n<text text-anchor=\"middle\" x=\"1206\" y=\"-839.8\" font-family=\"Helvetica,sans-Serif\" font-size=\"14.00\" fill=\"#000000\">samples = 2</text>\n<text text-anchor=\"middle\" x=\"1206\" y=\"-824.8\" font-family=\"Helvetica,sans-Serif\" font-size=\"14.00\" fill=\"#000000\">value = &#45;0.061</text>\n</g>\n<!-- 42&#45;&gt;44 -->\n<g id=\"edge44\" class=\"edge\">\n<title>42&#45;&gt;44</title>\n<path fill=\"none\" stroke=\"#000000\" d=\"M1206,-920.9465C1206,-912.776 1206,-903.9318 1206,-895.3697\"/>\n<polygon fill=\"#000000\" stroke=\"#000000\" points=\"1209.5001,-895.13 1206,-885.13 1202.5001,-895.13 1209.5001,-895.13\"/>\n</g>\n<!-- 45 -->\n<g id=\"node46\" class=\"node\">\n<title>45</title>\n<polygon fill=\"none\" stroke=\"#000000\" points=\"1197,-773.5 1053,-773.5 1053,-720.5 1197,-720.5 1197,-773.5\"/>\n<text text-anchor=\"middle\" x=\"1125\" y=\"-758.3\" font-family=\"Helvetica,sans-Serif\" font-size=\"14.00\" fill=\"#000000\">squared_error = 0.0</text>\n<text text-anchor=\"middle\" x=\"1125\" y=\"-743.3\" font-family=\"Helvetica,sans-Serif\" font-size=\"14.00\" fill=\"#000000\">samples = 1</text>\n<text text-anchor=\"middle\" x=\"1125\" y=\"-728.3\" font-family=\"Helvetica,sans-Serif\" font-size=\"14.00\" fill=\"#000000\">value = &#45;0.061</text>\n</g>\n<!-- 44&#45;&gt;45 -->\n<g id=\"edge45\" class=\"edge\">\n<title>44&#45;&gt;45</title>\n<path fill=\"none\" stroke=\"#000000\" d=\"M1179.4776,-816.9465C1170.6413,-805.6012 1160.7932,-792.9567 1151.9266,-781.5724\"/>\n<polygon fill=\"#000000\" stroke=\"#000000\" points=\"1154.5783,-779.281 1145.6723,-773.5422 1149.0556,-783.5823 1154.5783,-779.281\"/>\n</g>\n<!-- 46 -->\n<g id=\"node47\" class=\"node\">\n<title>46</title>\n<polygon fill=\"none\" stroke=\"#000000\" points=\"1359,-773.5 1215,-773.5 1215,-720.5 1359,-720.5 1359,-773.5\"/>\n<text text-anchor=\"middle\" x=\"1287\" y=\"-758.3\" font-family=\"Helvetica,sans-Serif\" font-size=\"14.00\" fill=\"#000000\">squared_error = 0.0</text>\n<text text-anchor=\"middle\" x=\"1287\" y=\"-743.3\" font-family=\"Helvetica,sans-Serif\" font-size=\"14.00\" fill=\"#000000\">samples = 1</text>\n<text text-anchor=\"middle\" x=\"1287\" y=\"-728.3\" font-family=\"Helvetica,sans-Serif\" font-size=\"14.00\" fill=\"#000000\">value = &#45;0.061</text>\n</g>\n<!-- 44&#45;&gt;46 -->\n<g id=\"edge46\" class=\"edge\">\n<title>44&#45;&gt;46</title>\n<path fill=\"none\" stroke=\"#000000\" d=\"M1232.5224,-816.9465C1241.3587,-805.6012 1251.2068,-792.9567 1260.0734,-781.5724\"/>\n<polygon fill=\"#000000\" stroke=\"#000000\" points=\"1262.9444,-783.5823 1266.3277,-773.5422 1257.4217,-779.281 1262.9444,-783.5823\"/>\n</g>\n<!-- 48 -->\n<g id=\"node49\" class=\"node\">\n<title>48</title>\n<polygon fill=\"none\" stroke=\"#000000\" points=\"1440,-1085.5 1296,-1085.5 1296,-1032.5 1440,-1032.5 1440,-1085.5\"/>\n<text text-anchor=\"middle\" x=\"1368\" y=\"-1070.3\" font-family=\"Helvetica,sans-Serif\" font-size=\"14.00\" fill=\"#000000\">squared_error = 0.0</text>\n<text text-anchor=\"middle\" x=\"1368\" y=\"-1055.3\" font-family=\"Helvetica,sans-Serif\" font-size=\"14.00\" fill=\"#000000\">samples = 1</text>\n<text text-anchor=\"middle\" x=\"1368\" y=\"-1040.3\" font-family=\"Helvetica,sans-Serif\" font-size=\"14.00\" fill=\"#000000\">value = &#45;0.058</text>\n</g>\n<!-- 47&#45;&gt;48 -->\n<g id=\"edge48\" class=\"edge\">\n<title>47&#45;&gt;48</title>\n<path fill=\"none\" stroke=\"#000000\" d=\"M1368,-1128.9465C1368,-1118.2621 1368,-1106.4254 1368,-1095.5742\"/>\n<polygon fill=\"#000000\" stroke=\"#000000\" points=\"1371.5001,-1095.5421 1368,-1085.5422 1364.5001,-1095.5422 1371.5001,-1095.5421\"/>\n</g>\n<!-- 49 -->\n<g id=\"node50\" class=\"node\">\n<title>49</title>\n<polygon fill=\"none\" stroke=\"#000000\" points=\"1602,-1093 1458,-1093 1458,-1025 1602,-1025 1602,-1093\"/>\n<text text-anchor=\"middle\" x=\"1530\" y=\"-1077.8\" font-family=\"Helvetica,sans-Serif\" font-size=\"14.00\" fill=\"#000000\">X[33] &lt;= &#45;0.006</text>\n<text text-anchor=\"middle\" x=\"1530\" y=\"-1062.8\" font-family=\"Helvetica,sans-Serif\" font-size=\"14.00\" fill=\"#000000\">squared_error = 0.0</text>\n<text text-anchor=\"middle\" x=\"1530\" y=\"-1047.8\" font-family=\"Helvetica,sans-Serif\" font-size=\"14.00\" fill=\"#000000\">samples = 7</text>\n<text text-anchor=\"middle\" x=\"1530\" y=\"-1032.8\" font-family=\"Helvetica,sans-Serif\" font-size=\"14.00\" fill=\"#000000\">value = &#45;0.029</text>\n</g>\n<!-- 47&#45;&gt;49 -->\n<g id=\"edge49\" class=\"edge\">\n<title>47&#45;&gt;49</title>\n<path fill=\"none\" stroke=\"#000000\" d=\"M1421.0449,-1128.9465C1436.1495,-1119.2497 1452.7324,-1108.6039 1468.3046,-1098.6069\"/>\n<polygon fill=\"#000000\" stroke=\"#000000\" points=\"1470.3116,-1101.4777 1476.836,-1093.13 1466.53,-1095.5871 1470.3116,-1101.4777\"/>\n</g>\n<!-- 50 -->\n<g id=\"node51\" class=\"node\">\n<title>50</title>\n<polygon fill=\"none\" stroke=\"#000000\" points=\"1602,-989 1458,-989 1458,-921 1602,-921 1602,-989\"/>\n<text text-anchor=\"middle\" x=\"1530\" y=\"-973.8\" font-family=\"Helvetica,sans-Serif\" font-size=\"14.00\" fill=\"#000000\">X[9] &lt;= &#45;0.025</text>\n<text text-anchor=\"middle\" x=\"1530\" y=\"-958.8\" font-family=\"Helvetica,sans-Serif\" font-size=\"14.00\" fill=\"#000000\">squared_error = 0.0</text>\n<text text-anchor=\"middle\" x=\"1530\" y=\"-943.8\" font-family=\"Helvetica,sans-Serif\" font-size=\"14.00\" fill=\"#000000\">samples = 4</text>\n<text text-anchor=\"middle\" x=\"1530\" y=\"-928.8\" font-family=\"Helvetica,sans-Serif\" font-size=\"14.00\" fill=\"#000000\">value = &#45;0.024</text>\n</g>\n<!-- 49&#45;&gt;50 -->\n<g id=\"edge50\" class=\"edge\">\n<title>49&#45;&gt;50</title>\n<path fill=\"none\" stroke=\"#000000\" d=\"M1530,-1024.9465C1530,-1016.776 1530,-1007.9318 1530,-999.3697\"/>\n<polygon fill=\"#000000\" stroke=\"#000000\" points=\"1533.5001,-999.13 1530,-989.13 1526.5001,-999.13 1533.5001,-999.13\"/>\n</g>\n<!-- 57 -->\n<g id=\"node58\" class=\"node\">\n<title>57</title>\n<polygon fill=\"none\" stroke=\"#000000\" points=\"1764,-989 1620,-989 1620,-921 1764,-921 1764,-989\"/>\n<text text-anchor=\"middle\" x=\"1692\" y=\"-973.8\" font-family=\"Helvetica,sans-Serif\" font-size=\"14.00\" fill=\"#000000\">X[7] &lt;= &#45;0.019</text>\n<text text-anchor=\"middle\" x=\"1692\" y=\"-958.8\" font-family=\"Helvetica,sans-Serif\" font-size=\"14.00\" fill=\"#000000\">squared_error = 0.0</text>\n<text text-anchor=\"middle\" x=\"1692\" y=\"-943.8\" font-family=\"Helvetica,sans-Serif\" font-size=\"14.00\" fill=\"#000000\">samples = 3</text>\n<text text-anchor=\"middle\" x=\"1692\" y=\"-928.8\" font-family=\"Helvetica,sans-Serif\" font-size=\"14.00\" fill=\"#000000\">value = &#45;0.037</text>\n</g>\n<!-- 49&#45;&gt;57 -->\n<g id=\"edge57\" class=\"edge\">\n<title>49&#45;&gt;57</title>\n<path fill=\"none\" stroke=\"#000000\" d=\"M1583.0449,-1024.9465C1598.1495,-1015.2497 1614.7324,-1004.6039 1630.3046,-994.6069\"/>\n<polygon fill=\"#000000\" stroke=\"#000000\" points=\"1632.3116,-997.4777 1638.836,-989.13 1628.53,-991.5871 1632.3116,-997.4777\"/>\n</g>\n<!-- 51 -->\n<g id=\"node52\" class=\"node\">\n<title>51</title>\n<polygon fill=\"none\" stroke=\"#000000\" points=\"1440,-877.5 1296,-877.5 1296,-824.5 1440,-824.5 1440,-877.5\"/>\n<text text-anchor=\"middle\" x=\"1368\" y=\"-862.3\" font-family=\"Helvetica,sans-Serif\" font-size=\"14.00\" fill=\"#000000\">squared_error = 0.0</text>\n<text text-anchor=\"middle\" x=\"1368\" y=\"-847.3\" font-family=\"Helvetica,sans-Serif\" font-size=\"14.00\" fill=\"#000000\">samples = 1</text>\n<text text-anchor=\"middle\" x=\"1368\" y=\"-832.3\" font-family=\"Helvetica,sans-Serif\" font-size=\"14.00\" fill=\"#000000\">value = &#45;0.015</text>\n</g>\n<!-- 50&#45;&gt;51 -->\n<g id=\"edge51\" class=\"edge\">\n<title>50&#45;&gt;51</title>\n<path fill=\"none\" stroke=\"#000000\" d=\"M1476.9551,-920.9465C1457.9957,-908.775 1436.7073,-895.1084 1418.0121,-883.1066\"/>\n<polygon fill=\"#000000\" stroke=\"#000000\" points=\"1419.6505,-879.9992 1409.3445,-877.5422 1415.8689,-885.8898 1419.6505,-879.9992\"/>\n</g>\n<!-- 52 -->\n<g id=\"node53\" class=\"node\">\n<title>52</title>\n<polygon fill=\"none\" stroke=\"#000000\" points=\"1602,-885 1458,-885 1458,-817 1602,-817 1602,-885\"/>\n<text text-anchor=\"middle\" x=\"1530\" y=\"-869.8\" font-family=\"Helvetica,sans-Serif\" font-size=\"14.00\" fill=\"#000000\">X[30] &lt;= &#45;0.033</text>\n<text text-anchor=\"middle\" x=\"1530\" y=\"-854.8\" font-family=\"Helvetica,sans-Serif\" font-size=\"14.00\" fill=\"#000000\">squared_error = 0.0</text>\n<text text-anchor=\"middle\" x=\"1530\" y=\"-839.8\" font-family=\"Helvetica,sans-Serif\" font-size=\"14.00\" fill=\"#000000\">samples = 3</text>\n<text text-anchor=\"middle\" x=\"1530\" y=\"-824.8\" font-family=\"Helvetica,sans-Serif\" font-size=\"14.00\" fill=\"#000000\">value = &#45;0.027</text>\n</g>\n<!-- 50&#45;&gt;52 -->\n<g id=\"edge52\" class=\"edge\">\n<title>50&#45;&gt;52</title>\n<path fill=\"none\" stroke=\"#000000\" d=\"M1530,-920.9465C1530,-912.776 1530,-903.9318 1530,-895.3697\"/>\n<polygon fill=\"#000000\" stroke=\"#000000\" points=\"1533.5001,-895.13 1530,-885.13 1526.5001,-895.13 1533.5001,-895.13\"/>\n</g>\n<!-- 53 -->\n<g id=\"node54\" class=\"node\">\n<title>53</title>\n<polygon fill=\"none\" stroke=\"#000000\" points=\"1602,-773.5 1458,-773.5 1458,-720.5 1602,-720.5 1602,-773.5\"/>\n<text text-anchor=\"middle\" x=\"1530\" y=\"-758.3\" font-family=\"Helvetica,sans-Serif\" font-size=\"14.00\" fill=\"#000000\">squared_error = 0.0</text>\n<text text-anchor=\"middle\" x=\"1530\" y=\"-743.3\" font-family=\"Helvetica,sans-Serif\" font-size=\"14.00\" fill=\"#000000\">samples = 1</text>\n<text text-anchor=\"middle\" x=\"1530\" y=\"-728.3\" font-family=\"Helvetica,sans-Serif\" font-size=\"14.00\" fill=\"#000000\">value = &#45;0.029</text>\n</g>\n<!-- 52&#45;&gt;53 -->\n<g id=\"edge53\" class=\"edge\">\n<title>52&#45;&gt;53</title>\n<path fill=\"none\" stroke=\"#000000\" d=\"M1530,-816.9465C1530,-806.2621 1530,-794.4254 1530,-783.5742\"/>\n<polygon fill=\"#000000\" stroke=\"#000000\" points=\"1533.5001,-783.5421 1530,-773.5422 1526.5001,-783.5422 1533.5001,-783.5421\"/>\n</g>\n<!-- 54 -->\n<g id=\"node55\" class=\"node\">\n<title>54</title>\n<polygon fill=\"none\" stroke=\"#000000\" points=\"1764,-781 1620,-781 1620,-713 1764,-713 1764,-781\"/>\n<text text-anchor=\"middle\" x=\"1692\" y=\"-765.8\" font-family=\"Helvetica,sans-Serif\" font-size=\"14.00\" fill=\"#000000\">X[3] &lt;= &#45;0.043</text>\n<text text-anchor=\"middle\" x=\"1692\" y=\"-750.8\" font-family=\"Helvetica,sans-Serif\" font-size=\"14.00\" fill=\"#000000\">squared_error = 0.0</text>\n<text text-anchor=\"middle\" x=\"1692\" y=\"-735.8\" font-family=\"Helvetica,sans-Serif\" font-size=\"14.00\" fill=\"#000000\">samples = 2</text>\n<text text-anchor=\"middle\" x=\"1692\" y=\"-720.8\" font-family=\"Helvetica,sans-Serif\" font-size=\"14.00\" fill=\"#000000\">value = &#45;0.026</text>\n</g>\n<!-- 52&#45;&gt;54 -->\n<g id=\"edge54\" class=\"edge\">\n<title>52&#45;&gt;54</title>\n<path fill=\"none\" stroke=\"#000000\" d=\"M1583.0449,-816.9465C1598.1495,-807.2497 1614.7324,-796.6039 1630.3046,-786.6069\"/>\n<polygon fill=\"#000000\" stroke=\"#000000\" points=\"1632.3116,-789.4777 1638.836,-781.13 1628.53,-783.5871 1632.3116,-789.4777\"/>\n</g>\n<!-- 55 -->\n<g id=\"node56\" class=\"node\">\n<title>55</title>\n<polygon fill=\"none\" stroke=\"#000000\" points=\"1682,-669.5 1538,-669.5 1538,-616.5 1682,-616.5 1682,-669.5\"/>\n<text text-anchor=\"middle\" x=\"1610\" y=\"-654.3\" font-family=\"Helvetica,sans-Serif\" font-size=\"14.00\" fill=\"#000000\">squared_error = 0.0</text>\n<text text-anchor=\"middle\" x=\"1610\" y=\"-639.3\" font-family=\"Helvetica,sans-Serif\" font-size=\"14.00\" fill=\"#000000\">samples = 1</text>\n<text text-anchor=\"middle\" x=\"1610\" y=\"-624.3\" font-family=\"Helvetica,sans-Serif\" font-size=\"14.00\" fill=\"#000000\">value = &#45;0.027</text>\n</g>\n<!-- 54&#45;&gt;55 -->\n<g id=\"edge55\" class=\"edge\">\n<title>54&#45;&gt;55</title>\n<path fill=\"none\" stroke=\"#000000\" d=\"M1665.1501,-712.9465C1656.2048,-701.6012 1646.2351,-688.9567 1637.259,-677.5724\"/>\n<polygon fill=\"#000000\" stroke=\"#000000\" points=\"1639.8675,-675.2278 1630.9275,-669.5422 1634.3706,-679.5619 1639.8675,-675.2278\"/>\n</g>\n<!-- 56 -->\n<g id=\"node57\" class=\"node\">\n<title>56</title>\n<polygon fill=\"none\" stroke=\"#000000\" points=\"1849.5,-669.5 1700.5,-669.5 1700.5,-616.5 1849.5,-616.5 1849.5,-669.5\"/>\n<text text-anchor=\"middle\" x=\"1775\" y=\"-654.3\" font-family=\"Helvetica,sans-Serif\" font-size=\"14.00\" fill=\"#000000\">squared_error = &#45;0.0</text>\n<text text-anchor=\"middle\" x=\"1775\" y=\"-639.3\" font-family=\"Helvetica,sans-Serif\" font-size=\"14.00\" fill=\"#000000\">samples = 1</text>\n<text text-anchor=\"middle\" x=\"1775\" y=\"-624.3\" font-family=\"Helvetica,sans-Serif\" font-size=\"14.00\" fill=\"#000000\">value = &#45;0.025</text>\n</g>\n<!-- 54&#45;&gt;56 -->\n<g id=\"edge56\" class=\"edge\">\n<title>54&#45;&gt;56</title>\n<path fill=\"none\" stroke=\"#000000\" d=\"M1719.1773,-712.9465C1728.2318,-701.6012 1738.323,-688.9567 1747.4086,-677.5724\"/>\n<polygon fill=\"#000000\" stroke=\"#000000\" points=\"1750.3151,-679.5414 1753.8173,-669.5422 1744.8439,-675.175 1750.3151,-679.5414\"/>\n</g>\n<!-- 58 -->\n<g id=\"node59\" class=\"node\">\n<title>58</title>\n<polygon fill=\"none\" stroke=\"#000000\" points=\"1764,-877.5 1620,-877.5 1620,-824.5 1764,-824.5 1764,-877.5\"/>\n<text text-anchor=\"middle\" x=\"1692\" y=\"-862.3\" font-family=\"Helvetica,sans-Serif\" font-size=\"14.00\" fill=\"#000000\">squared_error = 0.0</text>\n<text text-anchor=\"middle\" x=\"1692\" y=\"-847.3\" font-family=\"Helvetica,sans-Serif\" font-size=\"14.00\" fill=\"#000000\">samples = 1</text>\n<text text-anchor=\"middle\" x=\"1692\" y=\"-832.3\" font-family=\"Helvetica,sans-Serif\" font-size=\"14.00\" fill=\"#000000\">value = &#45;0.038</text>\n</g>\n<!-- 57&#45;&gt;58 -->\n<g id=\"edge58\" class=\"edge\">\n<title>57&#45;&gt;58</title>\n<path fill=\"none\" stroke=\"#000000\" d=\"M1692,-920.9465C1692,-910.2621 1692,-898.4254 1692,-887.5742\"/>\n<polygon fill=\"#000000\" stroke=\"#000000\" points=\"1695.5001,-887.5421 1692,-877.5422 1688.5001,-887.5422 1695.5001,-887.5421\"/>\n</g>\n<!-- 59 -->\n<g id=\"node60\" class=\"node\">\n<title>59</title>\n<polygon fill=\"none\" stroke=\"#000000\" points=\"1926,-885 1782,-885 1782,-817 1926,-817 1926,-885\"/>\n<text text-anchor=\"middle\" x=\"1854\" y=\"-869.8\" font-family=\"Helvetica,sans-Serif\" font-size=\"14.00\" fill=\"#000000\">X[3] &lt;= &#45;0.034</text>\n<text text-anchor=\"middle\" x=\"1854\" y=\"-854.8\" font-family=\"Helvetica,sans-Serif\" font-size=\"14.00\" fill=\"#000000\">squared_error = 0.0</text>\n<text text-anchor=\"middle\" x=\"1854\" y=\"-839.8\" font-family=\"Helvetica,sans-Serif\" font-size=\"14.00\" fill=\"#000000\">samples = 2</text>\n<text text-anchor=\"middle\" x=\"1854\" y=\"-824.8\" font-family=\"Helvetica,sans-Serif\" font-size=\"14.00\" fill=\"#000000\">value = &#45;0.036</text>\n</g>\n<!-- 57&#45;&gt;59 -->\n<g id=\"edge59\" class=\"edge\">\n<title>57&#45;&gt;59</title>\n<path fill=\"none\" stroke=\"#000000\" d=\"M1745.0449,-920.9465C1760.1495,-911.2497 1776.7324,-900.6039 1792.3046,-890.6069\"/>\n<polygon fill=\"#000000\" stroke=\"#000000\" points=\"1794.3116,-893.4777 1800.836,-885.13 1790.53,-887.5871 1794.3116,-893.4777\"/>\n</g>\n<!-- 60 -->\n<g id=\"node61\" class=\"node\">\n<title>60</title>\n<polygon fill=\"none\" stroke=\"#000000\" points=\"1926,-773.5 1782,-773.5 1782,-720.5 1926,-720.5 1926,-773.5\"/>\n<text text-anchor=\"middle\" x=\"1854\" y=\"-758.3\" font-family=\"Helvetica,sans-Serif\" font-size=\"14.00\" fill=\"#000000\">squared_error = 0.0</text>\n<text text-anchor=\"middle\" x=\"1854\" y=\"-743.3\" font-family=\"Helvetica,sans-Serif\" font-size=\"14.00\" fill=\"#000000\">samples = 1</text>\n<text text-anchor=\"middle\" x=\"1854\" y=\"-728.3\" font-family=\"Helvetica,sans-Serif\" font-size=\"14.00\" fill=\"#000000\">value = &#45;0.035</text>\n</g>\n<!-- 59&#45;&gt;60 -->\n<g id=\"edge60\" class=\"edge\">\n<title>59&#45;&gt;60</title>\n<path fill=\"none\" stroke=\"#000000\" d=\"M1854,-816.9465C1854,-806.2621 1854,-794.4254 1854,-783.5742\"/>\n<polygon fill=\"#000000\" stroke=\"#000000\" points=\"1857.5001,-783.5421 1854,-773.5422 1850.5001,-783.5422 1857.5001,-783.5421\"/>\n</g>\n<!-- 61 -->\n<g id=\"node62\" class=\"node\">\n<title>61</title>\n<polygon fill=\"none\" stroke=\"#000000\" points=\"2093.5,-773.5 1944.5,-773.5 1944.5,-720.5 2093.5,-720.5 2093.5,-773.5\"/>\n<text text-anchor=\"middle\" x=\"2019\" y=\"-758.3\" font-family=\"Helvetica,sans-Serif\" font-size=\"14.00\" fill=\"#000000\">squared_error = &#45;0.0</text>\n<text text-anchor=\"middle\" x=\"2019\" y=\"-743.3\" font-family=\"Helvetica,sans-Serif\" font-size=\"14.00\" fill=\"#000000\">samples = 1</text>\n<text text-anchor=\"middle\" x=\"2019\" y=\"-728.3\" font-family=\"Helvetica,sans-Serif\" font-size=\"14.00\" fill=\"#000000\">value = &#45;0.037</text>\n</g>\n<!-- 59&#45;&gt;61 -->\n<g id=\"edge61\" class=\"edge\">\n<title>59&#45;&gt;61</title>\n<path fill=\"none\" stroke=\"#000000\" d=\"M1908.0272,-816.9465C1927.4251,-804.72 1949.2166,-790.9847 1968.32,-778.9437\"/>\n<polygon fill=\"#000000\" stroke=\"#000000\" points=\"1970.2964,-781.8353 1976.8898,-773.5422 1966.5638,-775.9135 1970.2964,-781.8353\"/>\n</g>\n<!-- 64 -->\n<g id=\"node65\" class=\"node\">\n<title>64</title>\n<polygon fill=\"none\" stroke=\"#000000\" points=\"1563,-1405 1419,-1405 1419,-1337 1563,-1337 1563,-1405\"/>\n<text text-anchor=\"middle\" x=\"1491\" y=\"-1389.8\" font-family=\"Helvetica,sans-Serif\" font-size=\"14.00\" fill=\"#000000\">X[23] &lt;= &#45;0.008</text>\n<text text-anchor=\"middle\" x=\"1491\" y=\"-1374.8\" font-family=\"Helvetica,sans-Serif\" font-size=\"14.00\" fill=\"#000000\">squared_error = 0.0</text>\n<text text-anchor=\"middle\" x=\"1491\" y=\"-1359.8\" font-family=\"Helvetica,sans-Serif\" font-size=\"14.00\" fill=\"#000000\">samples = 2</text>\n<text text-anchor=\"middle\" x=\"1491\" y=\"-1344.8\" font-family=\"Helvetica,sans-Serif\" font-size=\"14.00\" fill=\"#000000\">value = &#45;0.033</text>\n</g>\n<!-- 63&#45;&gt;64 -->\n<g id=\"edge64\" class=\"edge\">\n<title>63&#45;&gt;64</title>\n<path fill=\"none\" stroke=\"#000000\" d=\"M1491,-1440.9465C1491,-1432.776 1491,-1423.9318 1491,-1415.3697\"/>\n<polygon fill=\"#000000\" stroke=\"#000000\" points=\"1494.5001,-1415.13 1491,-1405.13 1487.5001,-1415.13 1494.5001,-1415.13\"/>\n</g>\n<!-- 67 -->\n<g id=\"node68\" class=\"node\">\n<title>67</title>\n<polygon fill=\"none\" stroke=\"#000000\" points=\"1764,-1405 1620,-1405 1620,-1337 1764,-1337 1764,-1405\"/>\n<text text-anchor=\"middle\" x=\"1692\" y=\"-1389.8\" font-family=\"Helvetica,sans-Serif\" font-size=\"14.00\" fill=\"#000000\">X[1] &lt;= &#45;0.005</text>\n<text text-anchor=\"middle\" x=\"1692\" y=\"-1374.8\" font-family=\"Helvetica,sans-Serif\" font-size=\"14.00\" fill=\"#000000\">squared_error = 0.0</text>\n<text text-anchor=\"middle\" x=\"1692\" y=\"-1359.8\" font-family=\"Helvetica,sans-Serif\" font-size=\"14.00\" fill=\"#000000\">samples = 7</text>\n<text text-anchor=\"middle\" x=\"1692\" y=\"-1344.8\" font-family=\"Helvetica,sans-Serif\" font-size=\"14.00\" fill=\"#000000\">value = &#45;0.001</text>\n</g>\n<!-- 63&#45;&gt;67 -->\n<g id=\"edge67\" class=\"edge\">\n<title>63&#45;&gt;67</title>\n<path fill=\"none\" stroke=\"#000000\" d=\"M1556.8149,-1440.9465C1576.0765,-1430.9803 1597.2755,-1420.0117 1617.0591,-1409.7754\"/>\n<polygon fill=\"#000000\" stroke=\"#000000\" points=\"1618.7641,-1412.834 1626.0372,-1405.13 1615.5472,-1406.6169 1618.7641,-1412.834\"/>\n</g>\n<!-- 65 -->\n<g id=\"node66\" class=\"node\">\n<title>65</title>\n<polygon fill=\"none\" stroke=\"#000000\" points=\"1440,-1293.5 1296,-1293.5 1296,-1240.5 1440,-1240.5 1440,-1293.5\"/>\n<text text-anchor=\"middle\" x=\"1368\" y=\"-1278.3\" font-family=\"Helvetica,sans-Serif\" font-size=\"14.00\" fill=\"#000000\">squared_error = 0.0</text>\n<text text-anchor=\"middle\" x=\"1368\" y=\"-1263.3\" font-family=\"Helvetica,sans-Serif\" font-size=\"14.00\" fill=\"#000000\">samples = 1</text>\n<text text-anchor=\"middle\" x=\"1368\" y=\"-1248.3\" font-family=\"Helvetica,sans-Serif\" font-size=\"14.00\" fill=\"#000000\">value = &#45;0.027</text>\n</g>\n<!-- 64&#45;&gt;65 -->\n<g id=\"edge65\" class=\"edge\">\n<title>64&#45;&gt;65</title>\n<path fill=\"none\" stroke=\"#000000\" d=\"M1450.7252,-1336.9465C1436.7861,-1325.1606 1421.1888,-1311.9726 1407.3268,-1300.2519\"/>\n<polygon fill=\"#000000\" stroke=\"#000000\" points=\"1409.2873,-1297.3262 1399.3912,-1293.5422 1404.7676,-1302.6715 1409.2873,-1297.3262\"/>\n</g>\n<!-- 66 -->\n<g id=\"node67\" class=\"node\">\n<title>66</title>\n<polygon fill=\"none\" stroke=\"#000000\" points=\"1602,-1293.5 1458,-1293.5 1458,-1240.5 1602,-1240.5 1602,-1293.5\"/>\n<text text-anchor=\"middle\" x=\"1530\" y=\"-1278.3\" font-family=\"Helvetica,sans-Serif\" font-size=\"14.00\" fill=\"#000000\">squared_error = 0.0</text>\n<text text-anchor=\"middle\" x=\"1530\" y=\"-1263.3\" font-family=\"Helvetica,sans-Serif\" font-size=\"14.00\" fill=\"#000000\">samples = 1</text>\n<text text-anchor=\"middle\" x=\"1530\" y=\"-1248.3\" font-family=\"Helvetica,sans-Serif\" font-size=\"14.00\" fill=\"#000000\">value = &#45;0.039</text>\n</g>\n<!-- 64&#45;&gt;66 -->\n<g id=\"edge66\" class=\"edge\">\n<title>64&#45;&gt;66</title>\n<path fill=\"none\" stroke=\"#000000\" d=\"M1503.7701,-1336.9465C1507.818,-1326.1519 1512.307,-1314.1813 1516.4104,-1303.2389\"/>\n<polygon fill=\"#000000\" stroke=\"#000000\" points=\"1519.8125,-1304.1344 1520.0467,-1293.5422 1513.2582,-1301.6765 1519.8125,-1304.1344\"/>\n</g>\n<!-- 68 -->\n<g id=\"node69\" class=\"node\">\n<title>68</title>\n<polygon fill=\"none\" stroke=\"#000000\" points=\"1764,-1301 1620,-1301 1620,-1233 1764,-1233 1764,-1301\"/>\n<text text-anchor=\"middle\" x=\"1692\" y=\"-1285.8\" font-family=\"Helvetica,sans-Serif\" font-size=\"14.00\" fill=\"#000000\">X[5] &lt;= &#45;0.022</text>\n<text text-anchor=\"middle\" x=\"1692\" y=\"-1270.8\" font-family=\"Helvetica,sans-Serif\" font-size=\"14.00\" fill=\"#000000\">squared_error = 0.0</text>\n<text text-anchor=\"middle\" x=\"1692\" y=\"-1255.8\" font-family=\"Helvetica,sans-Serif\" font-size=\"14.00\" fill=\"#000000\">samples = 2</text>\n<text text-anchor=\"middle\" x=\"1692\" y=\"-1240.8\" font-family=\"Helvetica,sans-Serif\" font-size=\"14.00\" fill=\"#000000\">value = 0.014</text>\n</g>\n<!-- 67&#45;&gt;68 -->\n<g id=\"edge68\" class=\"edge\">\n<title>67&#45;&gt;68</title>\n<path fill=\"none\" stroke=\"#000000\" d=\"M1692,-1336.9465C1692,-1328.776 1692,-1319.9318 1692,-1311.3697\"/>\n<polygon fill=\"#000000\" stroke=\"#000000\" points=\"1695.5001,-1311.13 1692,-1301.13 1688.5001,-1311.13 1695.5001,-1311.13\"/>\n</g>\n<!-- 71 -->\n<g id=\"node72\" class=\"node\">\n<title>71</title>\n<polygon fill=\"none\" stroke=\"#000000\" points=\"1926,-1301 1782,-1301 1782,-1233 1926,-1233 1926,-1301\"/>\n<text text-anchor=\"middle\" x=\"1854\" y=\"-1285.8\" font-family=\"Helvetica,sans-Serif\" font-size=\"14.00\" fill=\"#000000\">X[3] &lt;= &#45;0.03</text>\n<text text-anchor=\"middle\" x=\"1854\" y=\"-1270.8\" font-family=\"Helvetica,sans-Serif\" font-size=\"14.00\" fill=\"#000000\">squared_error = 0.0</text>\n<text text-anchor=\"middle\" x=\"1854\" y=\"-1255.8\" font-family=\"Helvetica,sans-Serif\" font-size=\"14.00\" fill=\"#000000\">samples = 5</text>\n<text text-anchor=\"middle\" x=\"1854\" y=\"-1240.8\" font-family=\"Helvetica,sans-Serif\" font-size=\"14.00\" fill=\"#000000\">value = &#45;0.007</text>\n</g>\n<!-- 67&#45;&gt;71 -->\n<g id=\"edge71\" class=\"edge\">\n<title>67&#45;&gt;71</title>\n<path fill=\"none\" stroke=\"#000000\" d=\"M1745.0449,-1336.9465C1760.1495,-1327.2497 1776.7324,-1316.6039 1792.3046,-1306.6069\"/>\n<polygon fill=\"#000000\" stroke=\"#000000\" points=\"1794.3116,-1309.4777 1800.836,-1301.13 1790.53,-1303.5871 1794.3116,-1309.4777\"/>\n</g>\n<!-- 69 -->\n<g id=\"node70\" class=\"node\">\n<title>69</title>\n<polygon fill=\"none\" stroke=\"#000000\" points=\"1602,-1189.5 1458,-1189.5 1458,-1136.5 1602,-1136.5 1602,-1189.5\"/>\n<text text-anchor=\"middle\" x=\"1530\" y=\"-1174.3\" font-family=\"Helvetica,sans-Serif\" font-size=\"14.00\" fill=\"#000000\">squared_error = 0.0</text>\n<text text-anchor=\"middle\" x=\"1530\" y=\"-1159.3\" font-family=\"Helvetica,sans-Serif\" font-size=\"14.00\" fill=\"#000000\">samples = 1</text>\n<text text-anchor=\"middle\" x=\"1530\" y=\"-1144.3\" font-family=\"Helvetica,sans-Serif\" font-size=\"14.00\" fill=\"#000000\">value = 0.015</text>\n</g>\n<!-- 68&#45;&gt;69 -->\n<g id=\"edge69\" class=\"edge\">\n<title>68&#45;&gt;69</title>\n<path fill=\"none\" stroke=\"#000000\" d=\"M1638.9551,-1232.9465C1619.9957,-1220.775 1598.7073,-1207.1084 1580.0121,-1195.1066\"/>\n<polygon fill=\"#000000\" stroke=\"#000000\" points=\"1581.6505,-1191.9992 1571.3445,-1189.5422 1577.8689,-1197.8898 1581.6505,-1191.9992\"/>\n</g>\n<!-- 70 -->\n<g id=\"node71\" class=\"node\">\n<title>70</title>\n<polygon fill=\"none\" stroke=\"#000000\" points=\"1764,-1189.5 1620,-1189.5 1620,-1136.5 1764,-1136.5 1764,-1189.5\"/>\n<text text-anchor=\"middle\" x=\"1692\" y=\"-1174.3\" font-family=\"Helvetica,sans-Serif\" font-size=\"14.00\" fill=\"#000000\">squared_error = 0.0</text>\n<text text-anchor=\"middle\" x=\"1692\" y=\"-1159.3\" font-family=\"Helvetica,sans-Serif\" font-size=\"14.00\" fill=\"#000000\">samples = 1</text>\n<text text-anchor=\"middle\" x=\"1692\" y=\"-1144.3\" font-family=\"Helvetica,sans-Serif\" font-size=\"14.00\" fill=\"#000000\">value = 0.014</text>\n</g>\n<!-- 68&#45;&gt;70 -->\n<g id=\"edge70\" class=\"edge\">\n<title>68&#45;&gt;70</title>\n<path fill=\"none\" stroke=\"#000000\" d=\"M1692,-1232.9465C1692,-1222.2621 1692,-1210.4254 1692,-1199.5742\"/>\n<polygon fill=\"#000000\" stroke=\"#000000\" points=\"1695.5001,-1199.5421 1692,-1189.5422 1688.5001,-1199.5422 1695.5001,-1199.5421\"/>\n</g>\n<!-- 72 -->\n<g id=\"node73\" class=\"node\">\n<title>72</title>\n<polygon fill=\"none\" stroke=\"#000000\" points=\"1926,-1197 1782,-1197 1782,-1129 1926,-1129 1926,-1197\"/>\n<text text-anchor=\"middle\" x=\"1854\" y=\"-1181.8\" font-family=\"Helvetica,sans-Serif\" font-size=\"14.00\" fill=\"#000000\">X[0] &lt;= 0.001</text>\n<text text-anchor=\"middle\" x=\"1854\" y=\"-1166.8\" font-family=\"Helvetica,sans-Serif\" font-size=\"14.00\" fill=\"#000000\">squared_error = 0.0</text>\n<text text-anchor=\"middle\" x=\"1854\" y=\"-1151.8\" font-family=\"Helvetica,sans-Serif\" font-size=\"14.00\" fill=\"#000000\">samples = 2</text>\n<text text-anchor=\"middle\" x=\"1854\" y=\"-1136.8\" font-family=\"Helvetica,sans-Serif\" font-size=\"14.00\" fill=\"#000000\">value = 0.0</text>\n</g>\n<!-- 71&#45;&gt;72 -->\n<g id=\"edge72\" class=\"edge\">\n<title>71&#45;&gt;72</title>\n<path fill=\"none\" stroke=\"#000000\" d=\"M1854,-1232.9465C1854,-1224.776 1854,-1215.9318 1854,-1207.3697\"/>\n<polygon fill=\"#000000\" stroke=\"#000000\" points=\"1857.5001,-1207.13 1854,-1197.13 1850.5001,-1207.13 1857.5001,-1207.13\"/>\n</g>\n<!-- 75 -->\n<g id=\"node76\" class=\"node\">\n<title>75</title>\n<polygon fill=\"none\" stroke=\"#000000\" points=\"2088,-1197 1944,-1197 1944,-1129 2088,-1129 2088,-1197\"/>\n<text text-anchor=\"middle\" x=\"2016\" y=\"-1181.8\" font-family=\"Helvetica,sans-Serif\" font-size=\"14.00\" fill=\"#000000\">X[3] &lt;= &#45;0.029</text>\n<text text-anchor=\"middle\" x=\"2016\" y=\"-1166.8\" font-family=\"Helvetica,sans-Serif\" font-size=\"14.00\" fill=\"#000000\">squared_error = 0.0</text>\n<text text-anchor=\"middle\" x=\"2016\" y=\"-1151.8\" font-family=\"Helvetica,sans-Serif\" font-size=\"14.00\" fill=\"#000000\">samples = 3</text>\n<text text-anchor=\"middle\" x=\"2016\" y=\"-1136.8\" font-family=\"Helvetica,sans-Serif\" font-size=\"14.00\" fill=\"#000000\">value = &#45;0.012</text>\n</g>\n<!-- 71&#45;&gt;75 -->\n<g id=\"edge75\" class=\"edge\">\n<title>71&#45;&gt;75</title>\n<path fill=\"none\" stroke=\"#000000\" d=\"M1907.0449,-1232.9465C1922.1495,-1223.2497 1938.7324,-1212.6039 1954.3046,-1202.6069\"/>\n<polygon fill=\"#000000\" stroke=\"#000000\" points=\"1956.3116,-1205.4777 1962.836,-1197.13 1952.53,-1199.5871 1956.3116,-1205.4777\"/>\n</g>\n<!-- 73 -->\n<g id=\"node74\" class=\"node\">\n<title>73</title>\n<polygon fill=\"none\" stroke=\"#000000\" points=\"1764,-1085.5 1620,-1085.5 1620,-1032.5 1764,-1032.5 1764,-1085.5\"/>\n<text text-anchor=\"middle\" x=\"1692\" y=\"-1070.3\" font-family=\"Helvetica,sans-Serif\" font-size=\"14.00\" fill=\"#000000\">squared_error = 0.0</text>\n<text text-anchor=\"middle\" x=\"1692\" y=\"-1055.3\" font-family=\"Helvetica,sans-Serif\" font-size=\"14.00\" fill=\"#000000\">samples = 1</text>\n<text text-anchor=\"middle\" x=\"1692\" y=\"-1040.3\" font-family=\"Helvetica,sans-Serif\" font-size=\"14.00\" fill=\"#000000\">value = 0.001</text>\n</g>\n<!-- 72&#45;&gt;73 -->\n<g id=\"edge73\" class=\"edge\">\n<title>72&#45;&gt;73</title>\n<path fill=\"none\" stroke=\"#000000\" d=\"M1800.9551,-1128.9465C1781.9957,-1116.775 1760.7073,-1103.1084 1742.0121,-1091.1066\"/>\n<polygon fill=\"#000000\" stroke=\"#000000\" points=\"1743.6505,-1087.9992 1733.3445,-1085.5422 1739.8689,-1093.8898 1743.6505,-1087.9992\"/>\n</g>\n<!-- 74 -->\n<g id=\"node75\" class=\"node\">\n<title>74</title>\n<polygon fill=\"none\" stroke=\"#000000\" points=\"1926,-1085.5 1782,-1085.5 1782,-1032.5 1926,-1032.5 1926,-1085.5\"/>\n<text text-anchor=\"middle\" x=\"1854\" y=\"-1070.3\" font-family=\"Helvetica,sans-Serif\" font-size=\"14.00\" fill=\"#000000\">squared_error = 0.0</text>\n<text text-anchor=\"middle\" x=\"1854\" y=\"-1055.3\" font-family=\"Helvetica,sans-Serif\" font-size=\"14.00\" fill=\"#000000\">samples = 1</text>\n<text text-anchor=\"middle\" x=\"1854\" y=\"-1040.3\" font-family=\"Helvetica,sans-Serif\" font-size=\"14.00\" fill=\"#000000\">value = &#45;0.001</text>\n</g>\n<!-- 72&#45;&gt;74 -->\n<g id=\"edge74\" class=\"edge\">\n<title>72&#45;&gt;74</title>\n<path fill=\"none\" stroke=\"#000000\" d=\"M1854,-1128.9465C1854,-1118.2621 1854,-1106.4254 1854,-1095.5742\"/>\n<polygon fill=\"#000000\" stroke=\"#000000\" points=\"1857.5001,-1095.5421 1854,-1085.5422 1850.5001,-1095.5422 1857.5001,-1095.5421\"/>\n</g>\n<!-- 76 -->\n<g id=\"node77\" class=\"node\">\n<title>76</title>\n<polygon fill=\"none\" stroke=\"#000000\" points=\"2088,-1085.5 1944,-1085.5 1944,-1032.5 2088,-1032.5 2088,-1085.5\"/>\n<text text-anchor=\"middle\" x=\"2016\" y=\"-1070.3\" font-family=\"Helvetica,sans-Serif\" font-size=\"14.00\" fill=\"#000000\">squared_error = 0.0</text>\n<text text-anchor=\"middle\" x=\"2016\" y=\"-1055.3\" font-family=\"Helvetica,sans-Serif\" font-size=\"14.00\" fill=\"#000000\">samples = 1</text>\n<text text-anchor=\"middle\" x=\"2016\" y=\"-1040.3\" font-family=\"Helvetica,sans-Serif\" font-size=\"14.00\" fill=\"#000000\">value = &#45;0.013</text>\n</g>\n<!-- 75&#45;&gt;76 -->\n<g id=\"edge76\" class=\"edge\">\n<title>75&#45;&gt;76</title>\n<path fill=\"none\" stroke=\"#000000\" d=\"M2016,-1128.9465C2016,-1118.2621 2016,-1106.4254 2016,-1095.5742\"/>\n<polygon fill=\"#000000\" stroke=\"#000000\" points=\"2019.5001,-1095.5421 2016,-1085.5422 2012.5001,-1095.5422 2019.5001,-1095.5421\"/>\n</g>\n<!-- 77 -->\n<g id=\"node78\" class=\"node\">\n<title>77</title>\n<polygon fill=\"none\" stroke=\"#000000\" points=\"2250,-1093 2106,-1093 2106,-1025 2250,-1025 2250,-1093\"/>\n<text text-anchor=\"middle\" x=\"2178\" y=\"-1077.8\" font-family=\"Helvetica,sans-Serif\" font-size=\"14.00\" fill=\"#000000\">X[33] &lt;= &#45;0.009</text>\n<text text-anchor=\"middle\" x=\"2178\" y=\"-1062.8\" font-family=\"Helvetica,sans-Serif\" font-size=\"14.00\" fill=\"#000000\">squared_error = 0.0</text>\n<text text-anchor=\"middle\" x=\"2178\" y=\"-1047.8\" font-family=\"Helvetica,sans-Serif\" font-size=\"14.00\" fill=\"#000000\">samples = 2</text>\n<text text-anchor=\"middle\" x=\"2178\" y=\"-1032.8\" font-family=\"Helvetica,sans-Serif\" font-size=\"14.00\" fill=\"#000000\">value = &#45;0.011</text>\n</g>\n<!-- 75&#45;&gt;77 -->\n<g id=\"edge77\" class=\"edge\">\n<title>75&#45;&gt;77</title>\n<path fill=\"none\" stroke=\"#000000\" d=\"M2069.0449,-1128.9465C2084.1495,-1119.2497 2100.7324,-1108.6039 2116.3046,-1098.6069\"/>\n<polygon fill=\"#000000\" stroke=\"#000000\" points=\"2118.3116,-1101.4777 2124.836,-1093.13 2114.53,-1095.5871 2118.3116,-1101.4777\"/>\n</g>\n<!-- 78 -->\n<g id=\"node79\" class=\"node\">\n<title>78</title>\n<polygon fill=\"none\" stroke=\"#000000\" points=\"2088,-981.5 1944,-981.5 1944,-928.5 2088,-928.5 2088,-981.5\"/>\n<text text-anchor=\"middle\" x=\"2016\" y=\"-966.3\" font-family=\"Helvetica,sans-Serif\" font-size=\"14.00\" fill=\"#000000\">squared_error = 0.0</text>\n<text text-anchor=\"middle\" x=\"2016\" y=\"-951.3\" font-family=\"Helvetica,sans-Serif\" font-size=\"14.00\" fill=\"#000000\">samples = 1</text>\n<text text-anchor=\"middle\" x=\"2016\" y=\"-936.3\" font-family=\"Helvetica,sans-Serif\" font-size=\"14.00\" fill=\"#000000\">value = &#45;0.01</text>\n</g>\n<!-- 77&#45;&gt;78 -->\n<g id=\"edge78\" class=\"edge\">\n<title>77&#45;&gt;78</title>\n<path fill=\"none\" stroke=\"#000000\" d=\"M2124.9551,-1024.9465C2105.9957,-1012.775 2084.7073,-999.1084 2066.0121,-987.1066\"/>\n<polygon fill=\"#000000\" stroke=\"#000000\" points=\"2067.6505,-983.9992 2057.3445,-981.5422 2063.8689,-989.8898 2067.6505,-983.9992\"/>\n</g>\n<!-- 79 -->\n<g id=\"node80\" class=\"node\">\n<title>79</title>\n<polygon fill=\"none\" stroke=\"#000000\" points=\"2250,-981.5 2106,-981.5 2106,-928.5 2250,-928.5 2250,-981.5\"/>\n<text text-anchor=\"middle\" x=\"2178\" y=\"-966.3\" font-family=\"Helvetica,sans-Serif\" font-size=\"14.00\" fill=\"#000000\">squared_error = 0.0</text>\n<text text-anchor=\"middle\" x=\"2178\" y=\"-951.3\" font-family=\"Helvetica,sans-Serif\" font-size=\"14.00\" fill=\"#000000\">samples = 1</text>\n<text text-anchor=\"middle\" x=\"2178\" y=\"-936.3\" font-family=\"Helvetica,sans-Serif\" font-size=\"14.00\" fill=\"#000000\">value = &#45;0.011</text>\n</g>\n<!-- 77&#45;&gt;79 -->\n<g id=\"edge79\" class=\"edge\">\n<title>77&#45;&gt;79</title>\n<path fill=\"none\" stroke=\"#000000\" d=\"M2178,-1024.9465C2178,-1014.2621 2178,-1002.4254 2178,-991.5742\"/>\n<polygon fill=\"#000000\" stroke=\"#000000\" points=\"2181.5001,-991.5421 2178,-981.5422 2174.5001,-991.5422 2181.5001,-991.5421\"/>\n</g>\n<!-- 81 -->\n<g id=\"node82\" class=\"node\">\n<title>81</title>\n<polygon fill=\"none\" stroke=\"#000000\" points=\"6927,-1717 6783,-1717 6783,-1649 6927,-1649 6927,-1717\"/>\n<text text-anchor=\"middle\" x=\"6855\" y=\"-1701.8\" font-family=\"Helvetica,sans-Serif\" font-size=\"14.00\" fill=\"#000000\">X[22] &lt;= 0.05</text>\n<text text-anchor=\"middle\" x=\"6855\" y=\"-1686.8\" font-family=\"Helvetica,sans-Serif\" font-size=\"14.00\" fill=\"#000000\">squared_error = 0.0</text>\n<text text-anchor=\"middle\" x=\"6855\" y=\"-1671.8\" font-family=\"Helvetica,sans-Serif\" font-size=\"14.00\" fill=\"#000000\">samples = 162</text>\n<text text-anchor=\"middle\" x=\"6855\" y=\"-1656.8\" font-family=\"Helvetica,sans-Serif\" font-size=\"14.00\" fill=\"#000000\">value = 0.002</text>\n</g>\n<!-- 80&#45;&gt;81 -->\n<g id=\"edge81\" class=\"edge\">\n<title>80&#45;&gt;81</title>\n<path fill=\"none\" stroke=\"#000000\" d=\"M6855,-1752.9465C6855,-1744.776 6855,-1735.9318 6855,-1727.3697\"/>\n<polygon fill=\"#000000\" stroke=\"#000000\" points=\"6858.5001,-1727.13 6855,-1717.13 6851.5001,-1727.13 6858.5001,-1727.13\"/>\n</g>\n<!-- 404 -->\n<g id=\"node405\" class=\"node\">\n<title>404</title>\n<polygon fill=\"none\" stroke=\"#000000\" points=\"12128.5,-1717 11967.5,-1717 11967.5,-1649 12128.5,-1649 12128.5,-1717\"/>\n<text text-anchor=\"middle\" x=\"12048\" y=\"-1701.8\" font-family=\"Helvetica,sans-Serif\" font-size=\"14.00\" fill=\"#000000\">X[1] &lt;= 0.032</text>\n<text text-anchor=\"middle\" x=\"12048\" y=\"-1686.8\" font-family=\"Helvetica,sans-Serif\" font-size=\"14.00\" fill=\"#000000\">squared_error = 0.001</text>\n<text text-anchor=\"middle\" x=\"12048\" y=\"-1671.8\" font-family=\"Helvetica,sans-Serif\" font-size=\"14.00\" fill=\"#000000\">samples = 24</text>\n<text text-anchor=\"middle\" x=\"12048\" y=\"-1656.8\" font-family=\"Helvetica,sans-Serif\" font-size=\"14.00\" fill=\"#000000\">value = 0.041</text>\n</g>\n<!-- 80&#45;&gt;404 -->\n<g id=\"edge404\" class=\"edge\">\n<title>80&#45;&gt;404</title>\n<path fill=\"none\" stroke=\"#000000\" d=\"M6935.5274,-1785.3873C7536.9955,-1773.3417 11321.8717,-1697.5421 11957.4709,-1684.813\"/>\n<polygon fill=\"#000000\" stroke=\"#000000\" points=\"11957.5634,-1688.312 11967.4913,-1684.6123 11957.4232,-1681.3134 11957.5634,-1688.312\"/>\n</g>\n<!-- 82 -->\n<g id=\"node83\" class=\"node\">\n<title>82</title>\n<polygon fill=\"none\" stroke=\"#000000\" points=\"6844,-1613 6700,-1613 6700,-1545 6844,-1545 6844,-1613\"/>\n<text text-anchor=\"middle\" x=\"6772\" y=\"-1597.8\" font-family=\"Helvetica,sans-Serif\" font-size=\"14.00\" fill=\"#000000\">X[33] &lt;= 0.003</text>\n<text text-anchor=\"middle\" x=\"6772\" y=\"-1582.8\" font-family=\"Helvetica,sans-Serif\" font-size=\"14.00\" fill=\"#000000\">squared_error = 0.0</text>\n<text text-anchor=\"middle\" x=\"6772\" y=\"-1567.8\" font-family=\"Helvetica,sans-Serif\" font-size=\"14.00\" fill=\"#000000\">samples = 161</text>\n<text text-anchor=\"middle\" x=\"6772\" y=\"-1552.8\" font-family=\"Helvetica,sans-Serif\" font-size=\"14.00\" fill=\"#000000\">value = 0.001</text>\n</g>\n<!-- 81&#45;&gt;82 -->\n<g id=\"edge82\" class=\"edge\">\n<title>81&#45;&gt;82</title>\n<path fill=\"none\" stroke=\"#000000\" d=\"M6827.8227,-1648.9465C6820.7288,-1640.0578 6812.9985,-1630.3716 6805.614,-1621.1188\"/>\n<polygon fill=\"#000000\" stroke=\"#000000\" points=\"6808.2118,-1618.7628 6799.2384,-1613.13 6802.7406,-1623.1293 6808.2118,-1618.7628\"/>\n</g>\n<!-- 403 -->\n<g id=\"node404\" class=\"node\">\n<title>403</title>\n<polygon fill=\"none\" stroke=\"#000000\" points=\"7011.5,-1605.5 6862.5,-1605.5 6862.5,-1552.5 7011.5,-1552.5 7011.5,-1605.5\"/>\n<text text-anchor=\"middle\" x=\"6937\" y=\"-1590.3\" font-family=\"Helvetica,sans-Serif\" font-size=\"14.00\" fill=\"#000000\">squared_error = &#45;0.0</text>\n<text text-anchor=\"middle\" x=\"6937\" y=\"-1575.3\" font-family=\"Helvetica,sans-Serif\" font-size=\"14.00\" fill=\"#000000\">samples = 1</text>\n<text text-anchor=\"middle\" x=\"6937\" y=\"-1560.3\" font-family=\"Helvetica,sans-Serif\" font-size=\"14.00\" fill=\"#000000\">value = 0.114</text>\n</g>\n<!-- 81&#45;&gt;403 -->\n<g id=\"edge403\" class=\"edge\">\n<title>81&#45;&gt;403</title>\n<path fill=\"none\" stroke=\"#000000\" d=\"M6881.8499,-1648.9465C6890.7952,-1637.6012 6900.7649,-1624.9567 6909.741,-1613.5724\"/>\n<polygon fill=\"#000000\" stroke=\"#000000\" points=\"6912.6294,-1615.5619 6916.0725,-1605.5422 6907.1325,-1611.2278 6912.6294,-1615.5619\"/>\n</g>\n<!-- 83 -->\n<g id=\"node84\" class=\"node\">\n<title>83</title>\n<polygon fill=\"none\" stroke=\"#000000\" points=\"5677,-1509 5533,-1509 5533,-1441 5677,-1441 5677,-1509\"/>\n<text text-anchor=\"middle\" x=\"5605\" y=\"-1493.8\" font-family=\"Helvetica,sans-Serif\" font-size=\"14.00\" fill=\"#000000\">X[15] &lt;= 0.004</text>\n<text text-anchor=\"middle\" x=\"5605\" y=\"-1478.8\" font-family=\"Helvetica,sans-Serif\" font-size=\"14.00\" fill=\"#000000\">squared_error = 0.0</text>\n<text text-anchor=\"middle\" x=\"5605\" y=\"-1463.8\" font-family=\"Helvetica,sans-Serif\" font-size=\"14.00\" fill=\"#000000\">samples = 77</text>\n<text text-anchor=\"middle\" x=\"5605\" y=\"-1448.8\" font-family=\"Helvetica,sans-Serif\" font-size=\"14.00\" fill=\"#000000\">value = &#45;0.007</text>\n</g>\n<!-- 82&#45;&gt;83 -->\n<g id=\"edge83\" class=\"edge\">\n<title>82&#45;&gt;83</title>\n<path fill=\"none\" stroke=\"#000000\" d=\"M6699.8796,-1572.5728C6494.0599,-1554.2307 5904.7641,-1501.7142 5687.0925,-1482.3159\"/>\n<polygon fill=\"#000000\" stroke=\"#000000\" points=\"5687.2823,-1478.819 5677.0111,-1481.4174 5686.6609,-1485.7914 5687.2823,-1478.819\"/>\n</g>\n<!-- 236 -->\n<g id=\"node237\" class=\"node\">\n<title>236</title>\n<polygon fill=\"none\" stroke=\"#000000\" points=\"8357,-1509 8213,-1509 8213,-1441 8357,-1441 8357,-1509\"/>\n<text text-anchor=\"middle\" x=\"8285\" y=\"-1493.8\" font-family=\"Helvetica,sans-Serif\" font-size=\"14.00\" fill=\"#000000\">X[32] &lt;= 0.002</text>\n<text text-anchor=\"middle\" x=\"8285\" y=\"-1478.8\" font-family=\"Helvetica,sans-Serif\" font-size=\"14.00\" fill=\"#000000\">squared_error = 0.0</text>\n<text text-anchor=\"middle\" x=\"8285\" y=\"-1463.8\" font-family=\"Helvetica,sans-Serif\" font-size=\"14.00\" fill=\"#000000\">samples = 84</text>\n<text text-anchor=\"middle\" x=\"8285\" y=\"-1448.8\" font-family=\"Helvetica,sans-Serif\" font-size=\"14.00\" fill=\"#000000\">value = 0.008</text>\n</g>\n<!-- 82&#45;&gt;236 -->\n<g id=\"edge236\" class=\"edge\">\n<title>82&#45;&gt;236</title>\n<path fill=\"none\" stroke=\"#000000\" d=\"M6844.0102,-1547.311C6847.0212,-1546.452 6850.0254,-1545.675 6853,-1545 6984.3514,-1515.1952 7917.2998,-1485.7489 8202.4302,-1477.3619\"/>\n<polygon fill=\"#000000\" stroke=\"#000000\" points=\"8202.8084,-1480.8524 8212.7015,-1477.0606 8202.6032,-1473.8554 8202.8084,-1480.8524\"/>\n</g>\n<!-- 84 -->\n<g id=\"node85\" class=\"node\">\n<title>84</title>\n<polygon fill=\"none\" stroke=\"#000000\" points=\"4847,-1405 4703,-1405 4703,-1337 4847,-1337 4847,-1405\"/>\n<text text-anchor=\"middle\" x=\"4775\" y=\"-1389.8\" font-family=\"Helvetica,sans-Serif\" font-size=\"14.00\" fill=\"#000000\">X[13] &lt;= &#45;0.001</text>\n<text text-anchor=\"middle\" x=\"4775\" y=\"-1374.8\" font-family=\"Helvetica,sans-Serif\" font-size=\"14.00\" fill=\"#000000\">squared_error = 0.0</text>\n<text text-anchor=\"middle\" x=\"4775\" y=\"-1359.8\" font-family=\"Helvetica,sans-Serif\" font-size=\"14.00\" fill=\"#000000\">samples = 52</text>\n<text text-anchor=\"middle\" x=\"4775\" y=\"-1344.8\" font-family=\"Helvetica,sans-Serif\" font-size=\"14.00\" fill=\"#000000\">value = &#45;0.011</text>\n</g>\n<!-- 83&#45;&gt;84 -->\n<g id=\"edge84\" class=\"edge\">\n<title>83&#45;&gt;84</title>\n<path fill=\"none\" stroke=\"#000000\" d=\"M5532.7949,-1465.9526C5378.8489,-1446.663 5019.2036,-1401.599 4856.9644,-1381.2702\"/>\n<polygon fill=\"#000000\" stroke=\"#000000\" points=\"4857.3948,-1377.7969 4847.0372,-1380.0263 4856.5244,-1384.7426 4857.3948,-1377.7969\"/>\n</g>\n<!-- 187 -->\n<g id=\"node188\" class=\"node\">\n<title>187</title>\n<polygon fill=\"none\" stroke=\"#000000\" points=\"5677,-1405 5533,-1405 5533,-1337 5677,-1337 5677,-1405\"/>\n<text text-anchor=\"middle\" x=\"5605\" y=\"-1389.8\" font-family=\"Helvetica,sans-Serif\" font-size=\"14.00\" fill=\"#000000\">X[16] &lt;= &#45;0.004</text>\n<text text-anchor=\"middle\" x=\"5605\" y=\"-1374.8\" font-family=\"Helvetica,sans-Serif\" font-size=\"14.00\" fill=\"#000000\">squared_error = 0.0</text>\n<text text-anchor=\"middle\" x=\"5605\" y=\"-1359.8\" font-family=\"Helvetica,sans-Serif\" font-size=\"14.00\" fill=\"#000000\">samples = 25</text>\n<text text-anchor=\"middle\" x=\"5605\" y=\"-1344.8\" font-family=\"Helvetica,sans-Serif\" font-size=\"14.00\" fill=\"#000000\">value = 0.002</text>\n</g>\n<!-- 83&#45;&gt;187 -->\n<g id=\"edge187\" class=\"edge\">\n<title>83&#45;&gt;187</title>\n<path fill=\"none\" stroke=\"#000000\" d=\"M5605,-1440.9465C5605,-1432.776 5605,-1423.9318 5605,-1415.3697\"/>\n<polygon fill=\"#000000\" stroke=\"#000000\" points=\"5608.5001,-1415.13 5605,-1405.13 5601.5001,-1415.13 5608.5001,-1415.13\"/>\n</g>\n<!-- 85 -->\n<g id=\"node86\" class=\"node\">\n<title>85</title>\n<polygon fill=\"none\" stroke=\"#000000\" points=\"3506,-1301 3362,-1301 3362,-1233 3506,-1233 3506,-1301\"/>\n<text text-anchor=\"middle\" x=\"3434\" y=\"-1285.8\" font-family=\"Helvetica,sans-Serif\" font-size=\"14.00\" fill=\"#000000\">X[23] &lt;= &#45;0.022</text>\n<text text-anchor=\"middle\" x=\"3434\" y=\"-1270.8\" font-family=\"Helvetica,sans-Serif\" font-size=\"14.00\" fill=\"#000000\">squared_error = 0.0</text>\n<text text-anchor=\"middle\" x=\"3434\" y=\"-1255.8\" font-family=\"Helvetica,sans-Serif\" font-size=\"14.00\" fill=\"#000000\">samples = 38</text>\n<text text-anchor=\"middle\" x=\"3434\" y=\"-1240.8\" font-family=\"Helvetica,sans-Serif\" font-size=\"14.00\" fill=\"#000000\">value = &#45;0.007</text>\n</g>\n<!-- 84&#45;&gt;85 -->\n<g id=\"edge85\" class=\"edge\">\n<title>84&#45;&gt;85</title>\n<path fill=\"none\" stroke=\"#000000\" d=\"M4702.902,-1365.4085C4473.2234,-1347.596 3759.5512,-1292.2478 3516.2367,-1273.3778\"/>\n<polygon fill=\"#000000\" stroke=\"#000000\" points=\"3516.2868,-1269.8713 3506.0461,-1272.5875 3515.7455,-1276.8503 3516.2868,-1269.8713\"/>\n</g>\n<!-- 160 -->\n<g id=\"node161\" class=\"node\">\n<title>160</title>\n<polygon fill=\"none\" stroke=\"#000000\" points=\"4847,-1301 4703,-1301 4703,-1233 4847,-1233 4847,-1301\"/>\n<text text-anchor=\"middle\" x=\"4775\" y=\"-1285.8\" font-family=\"Helvetica,sans-Serif\" font-size=\"14.00\" fill=\"#000000\">X[18] &lt;= 0.017</text>\n<text text-anchor=\"middle\" x=\"4775\" y=\"-1270.8\" font-family=\"Helvetica,sans-Serif\" font-size=\"14.00\" fill=\"#000000\">squared_error = 0.0</text>\n<text text-anchor=\"middle\" x=\"4775\" y=\"-1255.8\" font-family=\"Helvetica,sans-Serif\" font-size=\"14.00\" fill=\"#000000\">samples = 14</text>\n<text text-anchor=\"middle\" x=\"4775\" y=\"-1240.8\" font-family=\"Helvetica,sans-Serif\" font-size=\"14.00\" fill=\"#000000\">value = &#45;0.024</text>\n</g>\n<!-- 84&#45;&gt;160 -->\n<g id=\"edge160\" class=\"edge\">\n<title>84&#45;&gt;160</title>\n<path fill=\"none\" stroke=\"#000000\" d=\"M4775,-1336.9465C4775,-1328.776 4775,-1319.9318 4775,-1311.3697\"/>\n<polygon fill=\"#000000\" stroke=\"#000000\" points=\"4778.5001,-1311.13 4775,-1301.13 4771.5001,-1311.13 4778.5001,-1311.13\"/>\n</g>\n<!-- 86 -->\n<g id=\"node87\" class=\"node\">\n<title>86</title>\n<polygon fill=\"none\" stroke=\"#000000\" points=\"2817,-1197 2673,-1197 2673,-1129 2817,-1129 2817,-1197\"/>\n<text text-anchor=\"middle\" x=\"2745\" y=\"-1181.8\" font-family=\"Helvetica,sans-Serif\" font-size=\"14.00\" fill=\"#000000\">X[3] &lt;= &#45;0.014</text>\n<text text-anchor=\"middle\" x=\"2745\" y=\"-1166.8\" font-family=\"Helvetica,sans-Serif\" font-size=\"14.00\" fill=\"#000000\">squared_error = 0.0</text>\n<text text-anchor=\"middle\" x=\"2745\" y=\"-1151.8\" font-family=\"Helvetica,sans-Serif\" font-size=\"14.00\" fill=\"#000000\">samples = 5</text>\n<text text-anchor=\"middle\" x=\"2745\" y=\"-1136.8\" font-family=\"Helvetica,sans-Serif\" font-size=\"14.00\" fill=\"#000000\">value = &#45;0.024</text>\n</g>\n<!-- 85&#45;&gt;86 -->\n<g id=\"edge86\" class=\"edge\">\n<title>85&#45;&gt;86</title>\n<path fill=\"none\" stroke=\"#000000\" d=\"M3361.8913,-1256.1157C3232.7814,-1236.6274 2962.9569,-1195.8992 2827.0101,-1175.3789\"/>\n<polygon fill=\"#000000\" stroke=\"#000000\" points=\"2827.4701,-1171.9088 2817.0597,-1173.8769 2826.4253,-1178.8303 2827.4701,-1171.9088\"/>\n</g>\n<!-- 95 -->\n<g id=\"node96\" class=\"node\">\n<title>95</title>\n<polygon fill=\"none\" stroke=\"#000000\" points=\"3506,-1197 3362,-1197 3362,-1129 3506,-1129 3506,-1197\"/>\n<text text-anchor=\"middle\" x=\"3434\" y=\"-1181.8\" font-family=\"Helvetica,sans-Serif\" font-size=\"14.00\" fill=\"#000000\">X[23] &lt;= 0.008</text>\n<text text-anchor=\"middle\" x=\"3434\" y=\"-1166.8\" font-family=\"Helvetica,sans-Serif\" font-size=\"14.00\" fill=\"#000000\">squared_error = 0.0</text>\n<text text-anchor=\"middle\" x=\"3434\" y=\"-1151.8\" font-family=\"Helvetica,sans-Serif\" font-size=\"14.00\" fill=\"#000000\">samples = 33</text>\n<text text-anchor=\"middle\" x=\"3434\" y=\"-1136.8\" font-family=\"Helvetica,sans-Serif\" font-size=\"14.00\" fill=\"#000000\">value = &#45;0.004</text>\n</g>\n<!-- 85&#45;&gt;95 -->\n<g id=\"edge95\" class=\"edge\">\n<title>85&#45;&gt;95</title>\n<path fill=\"none\" stroke=\"#000000\" d=\"M3434,-1232.9465C3434,-1224.776 3434,-1215.9318 3434,-1207.3697\"/>\n<polygon fill=\"#000000\" stroke=\"#000000\" points=\"3437.5001,-1207.13 3434,-1197.13 3430.5001,-1207.13 3437.5001,-1207.13\"/>\n</g>\n<!-- 87 -->\n<g id=\"node88\" class=\"node\">\n<title>87</title>\n<polygon fill=\"none\" stroke=\"#000000\" points=\"2574,-1093 2430,-1093 2430,-1025 2574,-1025 2574,-1093\"/>\n<text text-anchor=\"middle\" x=\"2502\" y=\"-1077.8\" font-family=\"Helvetica,sans-Serif\" font-size=\"14.00\" fill=\"#000000\">X[33] &lt;= &#45;0.013</text>\n<text text-anchor=\"middle\" x=\"2502\" y=\"-1062.8\" font-family=\"Helvetica,sans-Serif\" font-size=\"14.00\" fill=\"#000000\">squared_error = 0.0</text>\n<text text-anchor=\"middle\" x=\"2502\" y=\"-1047.8\" font-family=\"Helvetica,sans-Serif\" font-size=\"14.00\" fill=\"#000000\">samples = 2</text>\n<text text-anchor=\"middle\" x=\"2502\" y=\"-1032.8\" font-family=\"Helvetica,sans-Serif\" font-size=\"14.00\" fill=\"#000000\">value = &#45;0.033</text>\n</g>\n<!-- 86&#45;&gt;87 -->\n<g id=\"edge87\" class=\"edge\">\n<title>86&#45;&gt;87</title>\n<path fill=\"none\" stroke=\"#000000\" d=\"M2672.7499,-1132.0782C2644.7247,-1120.0838 2612.4914,-1106.2885 2583.6328,-1093.9375\"/>\n<polygon fill=\"#000000\" stroke=\"#000000\" points=\"2584.9619,-1090.6993 2574.3913,-1089.9823 2582.2076,-1097.1347 2584.9619,-1090.6993\"/>\n</g>\n<!-- 90 -->\n<g id=\"node91\" class=\"node\">\n<title>90</title>\n<polygon fill=\"none\" stroke=\"#000000\" points=\"2817,-1093 2673,-1093 2673,-1025 2817,-1025 2817,-1093\"/>\n<text text-anchor=\"middle\" x=\"2745\" y=\"-1077.8\" font-family=\"Helvetica,sans-Serif\" font-size=\"14.00\" fill=\"#000000\">X[4] &lt;= &#45;0.031</text>\n<text text-anchor=\"middle\" x=\"2745\" y=\"-1062.8\" font-family=\"Helvetica,sans-Serif\" font-size=\"14.00\" fill=\"#000000\">squared_error = 0.0</text>\n<text text-anchor=\"middle\" x=\"2745\" y=\"-1047.8\" font-family=\"Helvetica,sans-Serif\" font-size=\"14.00\" fill=\"#000000\">samples = 3</text>\n<text text-anchor=\"middle\" x=\"2745\" y=\"-1032.8\" font-family=\"Helvetica,sans-Serif\" font-size=\"14.00\" fill=\"#000000\">value = &#45;0.017</text>\n</g>\n<!-- 86&#45;&gt;90 -->\n<g id=\"edge90\" class=\"edge\">\n<title>86&#45;&gt;90</title>\n<path fill=\"none\" stroke=\"#000000\" d=\"M2745,-1128.9465C2745,-1120.776 2745,-1111.9318 2745,-1103.3697\"/>\n<polygon fill=\"#000000\" stroke=\"#000000\" points=\"2748.5001,-1103.13 2745,-1093.13 2741.5001,-1103.13 2748.5001,-1103.13\"/>\n</g>\n<!-- 88 -->\n<g id=\"node89\" class=\"node\">\n<title>88</title>\n<polygon fill=\"none\" stroke=\"#000000\" points=\"2412,-981.5 2268,-981.5 2268,-928.5 2412,-928.5 2412,-981.5\"/>\n<text text-anchor=\"middle\" x=\"2340\" y=\"-966.3\" font-family=\"Helvetica,sans-Serif\" font-size=\"14.00\" fill=\"#000000\">squared_error = 0.0</text>\n<text text-anchor=\"middle\" x=\"2340\" y=\"-951.3\" font-family=\"Helvetica,sans-Serif\" font-size=\"14.00\" fill=\"#000000\">samples = 1</text>\n<text text-anchor=\"middle\" x=\"2340\" y=\"-936.3\" font-family=\"Helvetica,sans-Serif\" font-size=\"14.00\" fill=\"#000000\">value = &#45;0.037</text>\n</g>\n<!-- 87&#45;&gt;88 -->\n<g id=\"edge88\" class=\"edge\">\n<title>87&#45;&gt;88</title>\n<path fill=\"none\" stroke=\"#000000\" d=\"M2448.9551,-1024.9465C2429.9957,-1012.775 2408.7073,-999.1084 2390.0121,-987.1066\"/>\n<polygon fill=\"#000000\" stroke=\"#000000\" points=\"2391.6505,-983.9992 2381.3445,-981.5422 2387.8689,-989.8898 2391.6505,-983.9992\"/>\n</g>\n<!-- 89 -->\n<g id=\"node90\" class=\"node\">\n<title>89</title>\n<polygon fill=\"none\" stroke=\"#000000\" points=\"2574,-981.5 2430,-981.5 2430,-928.5 2574,-928.5 2574,-981.5\"/>\n<text text-anchor=\"middle\" x=\"2502\" y=\"-966.3\" font-family=\"Helvetica,sans-Serif\" font-size=\"14.00\" fill=\"#000000\">squared_error = 0.0</text>\n<text text-anchor=\"middle\" x=\"2502\" y=\"-951.3\" font-family=\"Helvetica,sans-Serif\" font-size=\"14.00\" fill=\"#000000\">samples = 1</text>\n<text text-anchor=\"middle\" x=\"2502\" y=\"-936.3\" font-family=\"Helvetica,sans-Serif\" font-size=\"14.00\" fill=\"#000000\">value = &#45;0.03</text>\n</g>\n<!-- 87&#45;&gt;89 -->\n<g id=\"edge89\" class=\"edge\">\n<title>87&#45;&gt;89</title>\n<path fill=\"none\" stroke=\"#000000\" d=\"M2502,-1024.9465C2502,-1014.2621 2502,-1002.4254 2502,-991.5742\"/>\n<polygon fill=\"#000000\" stroke=\"#000000\" points=\"2505.5001,-991.5421 2502,-981.5422 2498.5001,-991.5422 2505.5001,-991.5421\"/>\n</g>\n<!-- 91 -->\n<g id=\"node92\" class=\"node\">\n<title>91</title>\n<polygon fill=\"none\" stroke=\"#000000\" points=\"2736,-981.5 2592,-981.5 2592,-928.5 2736,-928.5 2736,-981.5\"/>\n<text text-anchor=\"middle\" x=\"2664\" y=\"-966.3\" font-family=\"Helvetica,sans-Serif\" font-size=\"14.00\" fill=\"#000000\">squared_error = 0.0</text>\n<text text-anchor=\"middle\" x=\"2664\" y=\"-951.3\" font-family=\"Helvetica,sans-Serif\" font-size=\"14.00\" fill=\"#000000\">samples = 1</text>\n<text text-anchor=\"middle\" x=\"2664\" y=\"-936.3\" font-family=\"Helvetica,sans-Serif\" font-size=\"14.00\" fill=\"#000000\">value = &#45;0.016</text>\n</g>\n<!-- 90&#45;&gt;91 -->\n<g id=\"edge91\" class=\"edge\">\n<title>90&#45;&gt;91</title>\n<path fill=\"none\" stroke=\"#000000\" d=\"M2718.4776,-1024.9465C2709.6413,-1013.6012 2699.7932,-1000.9567 2690.9266,-989.5724\"/>\n<polygon fill=\"#000000\" stroke=\"#000000\" points=\"2693.5783,-987.281 2684.6723,-981.5422 2688.0556,-991.5823 2693.5783,-987.281\"/>\n</g>\n<!-- 92 -->\n<g id=\"node93\" class=\"node\">\n<title>92</title>\n<polygon fill=\"none\" stroke=\"#000000\" points=\"2898,-989 2754,-989 2754,-921 2898,-921 2898,-989\"/>\n<text text-anchor=\"middle\" x=\"2826\" y=\"-973.8\" font-family=\"Helvetica,sans-Serif\" font-size=\"14.00\" fill=\"#000000\">X[15] &lt;= &#45;0.018</text>\n<text text-anchor=\"middle\" x=\"2826\" y=\"-958.8\" font-family=\"Helvetica,sans-Serif\" font-size=\"14.00\" fill=\"#000000\">squared_error = 0.0</text>\n<text text-anchor=\"middle\" x=\"2826\" y=\"-943.8\" font-family=\"Helvetica,sans-Serif\" font-size=\"14.00\" fill=\"#000000\">samples = 2</text>\n<text text-anchor=\"middle\" x=\"2826\" y=\"-928.8\" font-family=\"Helvetica,sans-Serif\" font-size=\"14.00\" fill=\"#000000\">value = &#45;0.018</text>\n</g>\n<!-- 90&#45;&gt;92 -->\n<g id=\"edge92\" class=\"edge\">\n<title>90&#45;&gt;92</title>\n<path fill=\"none\" stroke=\"#000000\" d=\"M2771.5224,-1024.9465C2778.4454,-1016.0578 2785.9894,-1006.3716 2793.196,-997.1188\"/>\n<polygon fill=\"#000000\" stroke=\"#000000\" points=\"2796.0346,-999.1701 2799.418,-989.13 2790.512,-994.8688 2796.0346,-999.1701\"/>\n</g>\n<!-- 93 -->\n<g id=\"node94\" class=\"node\">\n<title>93</title>\n<polygon fill=\"none\" stroke=\"#000000\" points=\"2655,-877.5 2511,-877.5 2511,-824.5 2655,-824.5 2655,-877.5\"/>\n<text text-anchor=\"middle\" x=\"2583\" y=\"-862.3\" font-family=\"Helvetica,sans-Serif\" font-size=\"14.00\" fill=\"#000000\">squared_error = 0.0</text>\n<text text-anchor=\"middle\" x=\"2583\" y=\"-847.3\" font-family=\"Helvetica,sans-Serif\" font-size=\"14.00\" fill=\"#000000\">samples = 1</text>\n<text text-anchor=\"middle\" x=\"2583\" y=\"-832.3\" font-family=\"Helvetica,sans-Serif\" font-size=\"14.00\" fill=\"#000000\">value = &#45;0.018</text>\n</g>\n<!-- 92&#45;&gt;93 -->\n<g id=\"edge93\" class=\"edge\">\n<title>92&#45;&gt;93</title>\n<path fill=\"none\" stroke=\"#000000\" d=\"M2753.7499,-924.0782C2722.4337,-910.6753 2685.8631,-895.0237 2654.6182,-881.6514\"/>\n<polygon fill=\"#000000\" stroke=\"#000000\" points=\"2655.6747,-878.2965 2645.1042,-877.5796 2652.9204,-884.7319 2655.6747,-878.2965\"/>\n</g>\n<!-- 94 -->\n<g id=\"node95\" class=\"node\">\n<title>94</title>\n<polygon fill=\"none\" stroke=\"#000000\" points=\"2817,-877.5 2673,-877.5 2673,-824.5 2817,-824.5 2817,-877.5\"/>\n<text text-anchor=\"middle\" x=\"2745\" y=\"-862.3\" font-family=\"Helvetica,sans-Serif\" font-size=\"14.00\" fill=\"#000000\">squared_error = 0.0</text>\n<text text-anchor=\"middle\" x=\"2745\" y=\"-847.3\" font-family=\"Helvetica,sans-Serif\" font-size=\"14.00\" fill=\"#000000\">samples = 1</text>\n<text text-anchor=\"middle\" x=\"2745\" y=\"-832.3\" font-family=\"Helvetica,sans-Serif\" font-size=\"14.00\" fill=\"#000000\">value = &#45;0.018</text>\n</g>\n<!-- 92&#45;&gt;94 -->\n<g id=\"edge94\" class=\"edge\">\n<title>92&#45;&gt;94</title>\n<path fill=\"none\" stroke=\"#000000\" d=\"M2799.4776,-920.9465C2790.6413,-909.6012 2780.7932,-896.9567 2771.9266,-885.5724\"/>\n<polygon fill=\"#000000\" stroke=\"#000000\" points=\"2774.5783,-883.281 2765.6723,-877.5422 2769.0556,-887.5823 2774.5783,-883.281\"/>\n</g>\n<!-- 96 -->\n<g id=\"node97\" class=\"node\">\n<title>96</title>\n<polygon fill=\"none\" stroke=\"#000000\" points=\"3384,-1093 3240,-1093 3240,-1025 3384,-1025 3384,-1093\"/>\n<text text-anchor=\"middle\" x=\"3312\" y=\"-1077.8\" font-family=\"Helvetica,sans-Serif\" font-size=\"14.00\" fill=\"#000000\">X[10] &lt;= &#45;0.026</text>\n<text text-anchor=\"middle\" x=\"3312\" y=\"-1062.8\" font-family=\"Helvetica,sans-Serif\" font-size=\"14.00\" fill=\"#000000\">squared_error = 0.0</text>\n<text text-anchor=\"middle\" x=\"3312\" y=\"-1047.8\" font-family=\"Helvetica,sans-Serif\" font-size=\"14.00\" fill=\"#000000\">samples = 27</text>\n<text text-anchor=\"middle\" x=\"3312\" y=\"-1032.8\" font-family=\"Helvetica,sans-Serif\" font-size=\"14.00\" fill=\"#000000\">value = &#45;0.001</text>\n</g>\n<!-- 95&#45;&gt;96 -->\n<g id=\"edge96\" class=\"edge\">\n<title>95&#45;&gt;96</title>\n<path fill=\"none\" stroke=\"#000000\" d=\"M3394.0526,-1128.9465C3383.0988,-1119.6088 3371.1127,-1109.3911 3359.768,-1099.7203\"/>\n<polygon fill=\"#000000\" stroke=\"#000000\" points=\"3361.9179,-1096.9538 3352.0371,-1093.13 3357.3767,-1102.2809 3361.9179,-1096.9538\"/>\n</g>\n<!-- 149 -->\n<g id=\"node150\" class=\"node\">\n<title>149</title>\n<polygon fill=\"none\" stroke=\"#000000\" points=\"3710,-1093 3566,-1093 3566,-1025 3710,-1025 3710,-1093\"/>\n<text text-anchor=\"middle\" x=\"3638\" y=\"-1077.8\" font-family=\"Helvetica,sans-Serif\" font-size=\"14.00\" fill=\"#000000\">X[15] &lt;= &#45;0.021</text>\n<text text-anchor=\"middle\" x=\"3638\" y=\"-1062.8\" font-family=\"Helvetica,sans-Serif\" font-size=\"14.00\" fill=\"#000000\">squared_error = 0.0</text>\n<text text-anchor=\"middle\" x=\"3638\" y=\"-1047.8\" font-family=\"Helvetica,sans-Serif\" font-size=\"14.00\" fill=\"#000000\">samples = 6</text>\n<text text-anchor=\"middle\" x=\"3638\" y=\"-1032.8\" font-family=\"Helvetica,sans-Serif\" font-size=\"14.00\" fill=\"#000000\">value = &#45;0.02</text>\n</g>\n<!-- 95&#45;&gt;149 -->\n<g id=\"edge149\" class=\"edge\">\n<title>95&#45;&gt;149</title>\n<path fill=\"none\" stroke=\"#000000\" d=\"M3500.7972,-1128.9465C3520.3463,-1118.9803 3541.8617,-1108.0117 3561.9406,-1097.7754\"/>\n<polygon fill=\"#000000\" stroke=\"#000000\" points=\"3563.7333,-1100.7901 3571.0527,-1093.13 3560.554,-1094.5537 3563.7333,-1100.7901\"/>\n</g>\n<!-- 97 -->\n<g id=\"node98\" class=\"node\">\n<title>97</title>\n<polygon fill=\"none\" stroke=\"#000000\" points=\"3141,-989 2997,-989 2997,-921 3141,-921 3141,-989\"/>\n<text text-anchor=\"middle\" x=\"3069\" y=\"-973.8\" font-family=\"Helvetica,sans-Serif\" font-size=\"14.00\" fill=\"#000000\">X[5] &lt;= &#45;0.019</text>\n<text text-anchor=\"middle\" x=\"3069\" y=\"-958.8\" font-family=\"Helvetica,sans-Serif\" font-size=\"14.00\" fill=\"#000000\">squared_error = 0.0</text>\n<text text-anchor=\"middle\" x=\"3069\" y=\"-943.8\" font-family=\"Helvetica,sans-Serif\" font-size=\"14.00\" fill=\"#000000\">samples = 5</text>\n<text text-anchor=\"middle\" x=\"3069\" y=\"-928.8\" font-family=\"Helvetica,sans-Serif\" font-size=\"14.00\" fill=\"#000000\">value = 0.01</text>\n</g>\n<!-- 96&#45;&gt;97 -->\n<g id=\"edge97\" class=\"edge\">\n<title>96&#45;&gt;97</title>\n<path fill=\"none\" stroke=\"#000000\" d=\"M3239.7499,-1028.0782C3211.7247,-1016.0838 3179.4914,-1002.2885 3150.6328,-989.9375\"/>\n<polygon fill=\"#000000\" stroke=\"#000000\" points=\"3151.9619,-986.6993 3141.3913,-985.9823 3149.2076,-993.1347 3151.9619,-986.6993\"/>\n</g>\n<!-- 106 -->\n<g id=\"node107\" class=\"node\">\n<title>106</title>\n<polygon fill=\"none\" stroke=\"#000000\" points=\"3384,-989 3240,-989 3240,-921 3384,-921 3384,-989\"/>\n<text text-anchor=\"middle\" x=\"3312\" y=\"-973.8\" font-family=\"Helvetica,sans-Serif\" font-size=\"14.00\" fill=\"#000000\">X[11] &lt;= 0.031</text>\n<text text-anchor=\"middle\" x=\"3312\" y=\"-958.8\" font-family=\"Helvetica,sans-Serif\" font-size=\"14.00\" fill=\"#000000\">squared_error = 0.0</text>\n<text text-anchor=\"middle\" x=\"3312\" y=\"-943.8\" font-family=\"Helvetica,sans-Serif\" font-size=\"14.00\" fill=\"#000000\">samples = 22</text>\n<text text-anchor=\"middle\" x=\"3312\" y=\"-928.8\" font-family=\"Helvetica,sans-Serif\" font-size=\"14.00\" fill=\"#000000\">value = &#45;0.003</text>\n</g>\n<!-- 96&#45;&gt;106 -->\n<g id=\"edge106\" class=\"edge\">\n<title>96&#45;&gt;106</title>\n<path fill=\"none\" stroke=\"#000000\" d=\"M3312,-1024.9465C3312,-1016.776 3312,-1007.9318 3312,-999.3697\"/>\n<polygon fill=\"#000000\" stroke=\"#000000\" points=\"3315.5001,-999.13 3312,-989.13 3308.5001,-999.13 3315.5001,-999.13\"/>\n</g>\n<!-- 98 -->\n<g id=\"node99\" class=\"node\">\n<title>98</title>\n<polygon fill=\"none\" stroke=\"#000000\" points=\"2979,-885 2835,-885 2835,-817 2979,-817 2979,-885\"/>\n<text text-anchor=\"middle\" x=\"2907\" y=\"-869.8\" font-family=\"Helvetica,sans-Serif\" font-size=\"14.00\" fill=\"#000000\">X[12] &lt;= &#45;0.03</text>\n<text text-anchor=\"middle\" x=\"2907\" y=\"-854.8\" font-family=\"Helvetica,sans-Serif\" font-size=\"14.00\" fill=\"#000000\">squared_error = 0.0</text>\n<text text-anchor=\"middle\" x=\"2907\" y=\"-839.8\" font-family=\"Helvetica,sans-Serif\" font-size=\"14.00\" fill=\"#000000\">samples = 2</text>\n<text text-anchor=\"middle\" x=\"2907\" y=\"-824.8\" font-family=\"Helvetica,sans-Serif\" font-size=\"14.00\" fill=\"#000000\">value = 0.007</text>\n</g>\n<!-- 97&#45;&gt;98 -->\n<g id=\"edge98\" class=\"edge\">\n<title>97&#45;&gt;98</title>\n<path fill=\"none\" stroke=\"#000000\" d=\"M3015.9551,-920.9465C3000.8505,-911.2497 2984.2676,-900.6039 2968.6954,-890.6069\"/>\n<polygon fill=\"#000000\" stroke=\"#000000\" points=\"2970.47,-887.5871 2960.164,-885.13 2966.6884,-893.4777 2970.47,-887.5871\"/>\n</g>\n<!-- 101 -->\n<g id=\"node102\" class=\"node\">\n<title>101</title>\n<polygon fill=\"none\" stroke=\"#000000\" points=\"3141,-885 2997,-885 2997,-817 3141,-817 3141,-885\"/>\n<text text-anchor=\"middle\" x=\"3069\" y=\"-869.8\" font-family=\"Helvetica,sans-Serif\" font-size=\"14.00\" fill=\"#000000\">X[4] &lt;= &#45;0.013</text>\n<text text-anchor=\"middle\" x=\"3069\" y=\"-854.8\" font-family=\"Helvetica,sans-Serif\" font-size=\"14.00\" fill=\"#000000\">squared_error = 0.0</text>\n<text text-anchor=\"middle\" x=\"3069\" y=\"-839.8\" font-family=\"Helvetica,sans-Serif\" font-size=\"14.00\" fill=\"#000000\">samples = 3</text>\n<text text-anchor=\"middle\" x=\"3069\" y=\"-824.8\" font-family=\"Helvetica,sans-Serif\" font-size=\"14.00\" fill=\"#000000\">value = 0.011</text>\n</g>\n<!-- 97&#45;&gt;101 -->\n<g id=\"edge101\" class=\"edge\">\n<title>97&#45;&gt;101</title>\n<path fill=\"none\" stroke=\"#000000\" d=\"M3069,-920.9465C3069,-912.776 3069,-903.9318 3069,-895.3697\"/>\n<polygon fill=\"#000000\" stroke=\"#000000\" points=\"3072.5001,-895.13 3069,-885.13 3065.5001,-895.13 3072.5001,-895.13\"/>\n</g>\n<!-- 99 -->\n<g id=\"node100\" class=\"node\">\n<title>99</title>\n<polygon fill=\"none\" stroke=\"#000000\" points=\"2655,-773.5 2511,-773.5 2511,-720.5 2655,-720.5 2655,-773.5\"/>\n<text text-anchor=\"middle\" x=\"2583\" y=\"-758.3\" font-family=\"Helvetica,sans-Serif\" font-size=\"14.00\" fill=\"#000000\">squared_error = 0.0</text>\n<text text-anchor=\"middle\" x=\"2583\" y=\"-743.3\" font-family=\"Helvetica,sans-Serif\" font-size=\"14.00\" fill=\"#000000\">samples = 1</text>\n<text text-anchor=\"middle\" x=\"2583\" y=\"-728.3\" font-family=\"Helvetica,sans-Serif\" font-size=\"14.00\" fill=\"#000000\">value = 0.007</text>\n</g>\n<!-- 98&#45;&gt;99 -->\n<g id=\"edge99\" class=\"edge\">\n<title>98&#45;&gt;99</title>\n<path fill=\"none\" stroke=\"#000000\" d=\"M2834.8166,-819.948C2831.8535,-818.9126 2828.9066,-817.9248 2826,-817 2755.7155,-794.6375 2734.2845,-803.3625 2664,-781 2660.2645,-779.8115 2656.4626,-778.5189 2652.6452,-777.1551\"/>\n<polygon fill=\"#000000\" stroke=\"#000000\" points=\"2653.7466,-773.8307 2643.1536,-773.6371 2651.3138,-780.3943 2653.7466,-773.8307\"/>\n</g>\n<!-- 100 -->\n<g id=\"node101\" class=\"node\">\n<title>100</title>\n<polygon fill=\"none\" stroke=\"#000000\" points=\"2817,-773.5 2673,-773.5 2673,-720.5 2817,-720.5 2817,-773.5\"/>\n<text text-anchor=\"middle\" x=\"2745\" y=\"-758.3\" font-family=\"Helvetica,sans-Serif\" font-size=\"14.00\" fill=\"#000000\">squared_error = 0.0</text>\n<text text-anchor=\"middle\" x=\"2745\" y=\"-743.3\" font-family=\"Helvetica,sans-Serif\" font-size=\"14.00\" fill=\"#000000\">samples = 1</text>\n<text text-anchor=\"middle\" x=\"2745\" y=\"-728.3\" font-family=\"Helvetica,sans-Serif\" font-size=\"14.00\" fill=\"#000000\">value = 0.008</text>\n</g>\n<!-- 98&#45;&gt;100 -->\n<g id=\"edge100\" class=\"edge\">\n<title>98&#45;&gt;100</title>\n<path fill=\"none\" stroke=\"#000000\" d=\"M2853.9551,-816.9465C2834.9957,-804.775 2813.7073,-791.1084 2795.0121,-779.1066\"/>\n<polygon fill=\"#000000\" stroke=\"#000000\" points=\"2796.6505,-775.9992 2786.3445,-773.5422 2792.8689,-781.8898 2796.6505,-775.9992\"/>\n</g>\n<!-- 102 -->\n<g id=\"node103\" class=\"node\">\n<title>102</title>\n<polygon fill=\"none\" stroke=\"#000000\" points=\"2979,-773.5 2835,-773.5 2835,-720.5 2979,-720.5 2979,-773.5\"/>\n<text text-anchor=\"middle\" x=\"2907\" y=\"-758.3\" font-family=\"Helvetica,sans-Serif\" font-size=\"14.00\" fill=\"#000000\">squared_error = 0.0</text>\n<text text-anchor=\"middle\" x=\"2907\" y=\"-743.3\" font-family=\"Helvetica,sans-Serif\" font-size=\"14.00\" fill=\"#000000\">samples = 1</text>\n<text text-anchor=\"middle\" x=\"2907\" y=\"-728.3\" font-family=\"Helvetica,sans-Serif\" font-size=\"14.00\" fill=\"#000000\">value = 0.012</text>\n</g>\n<!-- 101&#45;&gt;102 -->\n<g id=\"edge102\" class=\"edge\">\n<title>101&#45;&gt;102</title>\n<path fill=\"none\" stroke=\"#000000\" d=\"M3015.9551,-816.9465C2996.9957,-804.775 2975.7073,-791.1084 2957.0121,-779.1066\"/>\n<polygon fill=\"#000000\" stroke=\"#000000\" points=\"2958.6505,-775.9992 2948.3445,-773.5422 2954.8689,-781.8898 2958.6505,-775.9992\"/>\n</g>\n<!-- 103 -->\n<g id=\"node104\" class=\"node\">\n<title>103</title>\n<polygon fill=\"none\" stroke=\"#000000\" points=\"3141,-781 2997,-781 2997,-713 3141,-713 3141,-781\"/>\n<text text-anchor=\"middle\" x=\"3069\" y=\"-765.8\" font-family=\"Helvetica,sans-Serif\" font-size=\"14.00\" fill=\"#000000\">X[24] &lt;= &#45;0.009</text>\n<text text-anchor=\"middle\" x=\"3069\" y=\"-750.8\" font-family=\"Helvetica,sans-Serif\" font-size=\"14.00\" fill=\"#000000\">squared_error = 0.0</text>\n<text text-anchor=\"middle\" x=\"3069\" y=\"-735.8\" font-family=\"Helvetica,sans-Serif\" font-size=\"14.00\" fill=\"#000000\">samples = 2</text>\n<text text-anchor=\"middle\" x=\"3069\" y=\"-720.8\" font-family=\"Helvetica,sans-Serif\" font-size=\"14.00\" fill=\"#000000\">value = 0.011</text>\n</g>\n<!-- 101&#45;&gt;103 -->\n<g id=\"edge103\" class=\"edge\">\n<title>101&#45;&gt;103</title>\n<path fill=\"none\" stroke=\"#000000\" d=\"M3069,-816.9465C3069,-808.776 3069,-799.9318 3069,-791.3697\"/>\n<polygon fill=\"#000000\" stroke=\"#000000\" points=\"3072.5001,-791.13 3069,-781.13 3065.5001,-791.13 3072.5001,-791.13\"/>\n</g>\n<!-- 104 -->\n<g id=\"node105\" class=\"node\">\n<title>104</title>\n<polygon fill=\"none\" stroke=\"#000000\" points=\"2940,-669.5 2796,-669.5 2796,-616.5 2940,-616.5 2940,-669.5\"/>\n<text text-anchor=\"middle\" x=\"2868\" y=\"-654.3\" font-family=\"Helvetica,sans-Serif\" font-size=\"14.00\" fill=\"#000000\">squared_error = 0.0</text>\n<text text-anchor=\"middle\" x=\"2868\" y=\"-639.3\" font-family=\"Helvetica,sans-Serif\" font-size=\"14.00\" fill=\"#000000\">samples = 1</text>\n<text text-anchor=\"middle\" x=\"2868\" y=\"-624.3\" font-family=\"Helvetica,sans-Serif\" font-size=\"14.00\" fill=\"#000000\">value = 0.011</text>\n</g>\n<!-- 103&#45;&gt;104 -->\n<g id=\"edge104\" class=\"edge\">\n<title>103&#45;&gt;104</title>\n<path fill=\"none\" stroke=\"#000000\" d=\"M3003.1851,-712.9465C2979.1292,-700.4997 2952.0513,-686.4892 2928.4827,-674.2946\"/>\n<polygon fill=\"#000000\" stroke=\"#000000\" points=\"2929.7878,-671.0291 2919.2978,-669.5422 2926.571,-677.2462 2929.7878,-671.0291\"/>\n</g>\n<!-- 105 -->\n<g id=\"node106\" class=\"node\">\n<title>105</title>\n<polygon fill=\"none\" stroke=\"#000000\" points=\"3102,-669.5 2958,-669.5 2958,-616.5 3102,-616.5 3102,-669.5\"/>\n<text text-anchor=\"middle\" x=\"3030\" y=\"-654.3\" font-family=\"Helvetica,sans-Serif\" font-size=\"14.00\" fill=\"#000000\">squared_error = 0.0</text>\n<text text-anchor=\"middle\" x=\"3030\" y=\"-639.3\" font-family=\"Helvetica,sans-Serif\" font-size=\"14.00\" fill=\"#000000\">samples = 1</text>\n<text text-anchor=\"middle\" x=\"3030\" y=\"-624.3\" font-family=\"Helvetica,sans-Serif\" font-size=\"14.00\" fill=\"#000000\">value = 0.011</text>\n</g>\n<!-- 103&#45;&gt;105 -->\n<g id=\"edge105\" class=\"edge\">\n<title>103&#45;&gt;105</title>\n<path fill=\"none\" stroke=\"#000000\" d=\"M3056.2299,-712.9465C3052.182,-702.1519 3047.693,-690.1813 3043.5896,-679.2389\"/>\n<polygon fill=\"#000000\" stroke=\"#000000\" points=\"3046.7418,-677.6765 3039.9533,-669.5422 3040.1875,-680.1344 3046.7418,-677.6765\"/>\n</g>\n<!-- 107 -->\n<g id=\"node108\" class=\"node\">\n<title>107</title>\n<polygon fill=\"none\" stroke=\"#000000\" points=\"3303,-885 3159,-885 3159,-817 3303,-817 3303,-885\"/>\n<text text-anchor=\"middle\" x=\"3231\" y=\"-869.8\" font-family=\"Helvetica,sans-Serif\" font-size=\"14.00\" fill=\"#000000\">X[8] &lt;= &#45;0.003</text>\n<text text-anchor=\"middle\" x=\"3231\" y=\"-854.8\" font-family=\"Helvetica,sans-Serif\" font-size=\"14.00\" fill=\"#000000\">squared_error = 0.0</text>\n<text text-anchor=\"middle\" x=\"3231\" y=\"-839.8\" font-family=\"Helvetica,sans-Serif\" font-size=\"14.00\" fill=\"#000000\">samples = 21</text>\n<text text-anchor=\"middle\" x=\"3231\" y=\"-824.8\" font-family=\"Helvetica,sans-Serif\" font-size=\"14.00\" fill=\"#000000\">value = &#45;0.004</text>\n</g>\n<!-- 106&#45;&gt;107 -->\n<g id=\"edge107\" class=\"edge\">\n<title>106&#45;&gt;107</title>\n<path fill=\"none\" stroke=\"#000000\" d=\"M3285.4776,-920.9465C3278.5546,-912.0578 3271.0106,-902.3716 3263.804,-893.1188\"/>\n<polygon fill=\"#000000\" stroke=\"#000000\" points=\"3266.488,-890.8688 3257.582,-885.13 3260.9654,-895.1701 3266.488,-890.8688\"/>\n</g>\n<!-- 148 -->\n<g id=\"node149\" class=\"node\">\n<title>148</title>\n<polygon fill=\"none\" stroke=\"#000000\" points=\"3465,-877.5 3321,-877.5 3321,-824.5 3465,-824.5 3465,-877.5\"/>\n<text text-anchor=\"middle\" x=\"3393\" y=\"-862.3\" font-family=\"Helvetica,sans-Serif\" font-size=\"14.00\" fill=\"#000000\">squared_error = 0.0</text>\n<text text-anchor=\"middle\" x=\"3393\" y=\"-847.3\" font-family=\"Helvetica,sans-Serif\" font-size=\"14.00\" fill=\"#000000\">samples = 1</text>\n<text text-anchor=\"middle\" x=\"3393\" y=\"-832.3\" font-family=\"Helvetica,sans-Serif\" font-size=\"14.00\" fill=\"#000000\">value = 0.019</text>\n</g>\n<!-- 106&#45;&gt;148 -->\n<g id=\"edge148\" class=\"edge\">\n<title>106&#45;&gt;148</title>\n<path fill=\"none\" stroke=\"#000000\" d=\"M3338.5224,-920.9465C3347.3587,-909.6012 3357.2068,-896.9567 3366.0734,-885.5724\"/>\n<polygon fill=\"#000000\" stroke=\"#000000\" points=\"3368.9444,-887.5823 3372.3277,-877.5422 3363.4217,-883.281 3368.9444,-887.5823\"/>\n</g>\n<!-- 108 -->\n<g id=\"node109\" class=\"node\">\n<title>108</title>\n<polygon fill=\"none\" stroke=\"#000000\" points=\"3303,-781 3159,-781 3159,-713 3303,-713 3303,-781\"/>\n<text text-anchor=\"middle\" x=\"3231\" y=\"-765.8\" font-family=\"Helvetica,sans-Serif\" font-size=\"14.00\" fill=\"#000000\">X[26] &lt;= 0.02</text>\n<text text-anchor=\"middle\" x=\"3231\" y=\"-750.8\" font-family=\"Helvetica,sans-Serif\" font-size=\"14.00\" fill=\"#000000\">squared_error = 0.0</text>\n<text text-anchor=\"middle\" x=\"3231\" y=\"-735.8\" font-family=\"Helvetica,sans-Serif\" font-size=\"14.00\" fill=\"#000000\">samples = 13</text>\n<text text-anchor=\"middle\" x=\"3231\" y=\"-720.8\" font-family=\"Helvetica,sans-Serif\" font-size=\"14.00\" fill=\"#000000\">value = &#45;0.001</text>\n</g>\n<!-- 107&#45;&gt;108 -->\n<g id=\"edge108\" class=\"edge\">\n<title>107&#45;&gt;108</title>\n<path fill=\"none\" stroke=\"#000000\" d=\"M3231,-816.9465C3231,-808.776 3231,-799.9318 3231,-791.3697\"/>\n<polygon fill=\"#000000\" stroke=\"#000000\" points=\"3234.5001,-791.13 3231,-781.13 3227.5001,-791.13 3234.5001,-791.13\"/>\n</g>\n<!-- 133 -->\n<g id=\"node134\" class=\"node\">\n<title>133</title>\n<polygon fill=\"none\" stroke=\"#000000\" points=\"3633,-781 3489,-781 3489,-713 3633,-713 3633,-781\"/>\n<text text-anchor=\"middle\" x=\"3561\" y=\"-765.8\" font-family=\"Helvetica,sans-Serif\" font-size=\"14.00\" fill=\"#000000\">X[33] &lt;= &#45;0.011</text>\n<text text-anchor=\"middle\" x=\"3561\" y=\"-750.8\" font-family=\"Helvetica,sans-Serif\" font-size=\"14.00\" fill=\"#000000\">squared_error = 0.0</text>\n<text text-anchor=\"middle\" x=\"3561\" y=\"-735.8\" font-family=\"Helvetica,sans-Serif\" font-size=\"14.00\" fill=\"#000000\">samples = 8</text>\n<text text-anchor=\"middle\" x=\"3561\" y=\"-720.8\" font-family=\"Helvetica,sans-Serif\" font-size=\"14.00\" fill=\"#000000\">value = &#45;0.009</text>\n</g>\n<!-- 107&#45;&gt;133 -->\n<g id=\"edge133\" class=\"edge\">\n<title>107&#45;&gt;133</title>\n<path fill=\"none\" stroke=\"#000000\" d=\"M3303.2515,-820.1523C3306.1958,-819.0604 3309.1201,-818.0049 3312,-817 3366.9362,-797.8303 3430.0506,-780.1331 3478.9908,-767.3287\"/>\n<polygon fill=\"#000000\" stroke=\"#000000\" points=\"3480.0992,-770.657 3488.8966,-764.7531 3478.3376,-763.8822 3480.0992,-770.657\"/>\n</g>\n<!-- 109 -->\n<g id=\"node110\" class=\"node\">\n<title>109</title>\n<polygon fill=\"none\" stroke=\"#000000\" points=\"3264,-677 3120,-677 3120,-609 3264,-609 3264,-677\"/>\n<text text-anchor=\"middle\" x=\"3192\" y=\"-661.8\" font-family=\"Helvetica,sans-Serif\" font-size=\"14.00\" fill=\"#000000\">X[4] &lt;= &#45;0.011</text>\n<text text-anchor=\"middle\" x=\"3192\" y=\"-646.8\" font-family=\"Helvetica,sans-Serif\" font-size=\"14.00\" fill=\"#000000\">squared_error = 0.0</text>\n<text text-anchor=\"middle\" x=\"3192\" y=\"-631.8\" font-family=\"Helvetica,sans-Serif\" font-size=\"14.00\" fill=\"#000000\">samples = 11</text>\n<text text-anchor=\"middle\" x=\"3192\" y=\"-616.8\" font-family=\"Helvetica,sans-Serif\" font-size=\"14.00\" fill=\"#000000\">value = 0.001</text>\n</g>\n<!-- 108&#45;&gt;109 -->\n<g id=\"edge109\" class=\"edge\">\n<title>108&#45;&gt;109</title>\n<path fill=\"none\" stroke=\"#000000\" d=\"M3218.2299,-712.9465C3215.065,-704.5067 3211.6305,-695.3479 3208.3214,-686.5239\"/>\n<polygon fill=\"#000000\" stroke=\"#000000\" points=\"3211.5872,-685.2643 3204.7987,-677.13 3205.0329,-687.7222 3211.5872,-685.2643\"/>\n</g>\n<!-- 130 -->\n<g id=\"node131\" class=\"node\">\n<title>130</title>\n<polygon fill=\"none\" stroke=\"#000000\" points=\"3426,-677 3282,-677 3282,-609 3426,-609 3426,-677\"/>\n<text text-anchor=\"middle\" x=\"3354\" y=\"-661.8\" font-family=\"Helvetica,sans-Serif\" font-size=\"14.00\" fill=\"#000000\">X[33] &lt;= &#45;0.013</text>\n<text text-anchor=\"middle\" x=\"3354\" y=\"-646.8\" font-family=\"Helvetica,sans-Serif\" font-size=\"14.00\" fill=\"#000000\">squared_error = 0.0</text>\n<text text-anchor=\"middle\" x=\"3354\" y=\"-631.8\" font-family=\"Helvetica,sans-Serif\" font-size=\"14.00\" fill=\"#000000\">samples = 2</text>\n<text text-anchor=\"middle\" x=\"3354\" y=\"-616.8\" font-family=\"Helvetica,sans-Serif\" font-size=\"14.00\" fill=\"#000000\">value = &#45;0.01</text>\n</g>\n<!-- 108&#45;&gt;130 -->\n<g id=\"edge130\" class=\"edge\">\n<title>108&#45;&gt;130</title>\n<path fill=\"none\" stroke=\"#000000\" d=\"M3271.2748,-712.9465C3282.3184,-703.6088 3294.4028,-693.3911 3305.8404,-683.7203\"/>\n<polygon fill=\"#000000\" stroke=\"#000000\" points=\"3308.2583,-686.2594 3313.6347,-677.13 3303.7386,-680.914 3308.2583,-686.2594\"/>\n</g>\n<!-- 110 -->\n<g id=\"node111\" class=\"node\">\n<title>110</title>\n<polygon fill=\"none\" stroke=\"#000000\" points=\"2949,-573 2805,-573 2805,-505 2949,-505 2949,-573\"/>\n<text text-anchor=\"middle\" x=\"2877\" y=\"-557.8\" font-family=\"Helvetica,sans-Serif\" font-size=\"14.00\" fill=\"#000000\">X[23] &lt;= &#45;0.01</text>\n<text text-anchor=\"middle\" x=\"2877\" y=\"-542.8\" font-family=\"Helvetica,sans-Serif\" font-size=\"14.00\" fill=\"#000000\">squared_error = 0.0</text>\n<text text-anchor=\"middle\" x=\"2877\" y=\"-527.8\" font-family=\"Helvetica,sans-Serif\" font-size=\"14.00\" fill=\"#000000\">samples = 6</text>\n<text text-anchor=\"middle\" x=\"2877\" y=\"-512.8\" font-family=\"Helvetica,sans-Serif\" font-size=\"14.00\" fill=\"#000000\">value = 0.004</text>\n</g>\n<!-- 109&#45;&gt;110 -->\n<g id=\"edge110\" class=\"edge\">\n<title>109&#45;&gt;110</title>\n<path fill=\"none\" stroke=\"#000000\" d=\"M3119.7269,-612.2132C3116.7887,-611.1044 3113.8715,-610.0288 3111,-609 3061.0724,-591.1112 3004.0757,-573.9934 2958.8349,-561.1632\"/>\n<polygon fill=\"#000000\" stroke=\"#000000\" points=\"2959.6482,-557.756 2949.0735,-558.4095 2957.7476,-564.4931 2959.6482,-557.756\"/>\n</g>\n<!-- 121 -->\n<g id=\"node122\" class=\"node\">\n<title>121</title>\n<polygon fill=\"none\" stroke=\"#000000\" points=\"3225,-573 3081,-573 3081,-505 3225,-505 3225,-573\"/>\n<text text-anchor=\"middle\" x=\"3153\" y=\"-557.8\" font-family=\"Helvetica,sans-Serif\" font-size=\"14.00\" fill=\"#000000\">X[27] &lt;= &#45;0.01</text>\n<text text-anchor=\"middle\" x=\"3153\" y=\"-542.8\" font-family=\"Helvetica,sans-Serif\" font-size=\"14.00\" fill=\"#000000\">squared_error = 0.0</text>\n<text text-anchor=\"middle\" x=\"3153\" y=\"-527.8\" font-family=\"Helvetica,sans-Serif\" font-size=\"14.00\" fill=\"#000000\">samples = 5</text>\n<text text-anchor=\"middle\" x=\"3153\" y=\"-512.8\" font-family=\"Helvetica,sans-Serif\" font-size=\"14.00\" fill=\"#000000\">value = &#45;0.003</text>\n</g>\n<!-- 109&#45;&gt;121 -->\n<g id=\"edge121\" class=\"edge\">\n<title>109&#45;&gt;121</title>\n<path fill=\"none\" stroke=\"#000000\" d=\"M3179.2299,-608.9465C3176.065,-600.5067 3172.6305,-591.3479 3169.3214,-582.5239\"/>\n<polygon fill=\"#000000\" stroke=\"#000000\" points=\"3172.5872,-581.2643 3165.7987,-573.13 3166.0329,-583.7222 3172.5872,-581.2643\"/>\n</g>\n<!-- 111 -->\n<g id=\"node112\" class=\"node\">\n<title>111</title>\n<polygon fill=\"none\" stroke=\"#000000\" points=\"2787,-461.5 2643,-461.5 2643,-408.5 2787,-408.5 2787,-461.5\"/>\n<text text-anchor=\"middle\" x=\"2715\" y=\"-446.3\" font-family=\"Helvetica,sans-Serif\" font-size=\"14.00\" fill=\"#000000\">squared_error = 0.0</text>\n<text text-anchor=\"middle\" x=\"2715\" y=\"-431.3\" font-family=\"Helvetica,sans-Serif\" font-size=\"14.00\" fill=\"#000000\">samples = 1</text>\n<text text-anchor=\"middle\" x=\"2715\" y=\"-416.3\" font-family=\"Helvetica,sans-Serif\" font-size=\"14.00\" fill=\"#000000\">value = 0.01</text>\n</g>\n<!-- 110&#45;&gt;111 -->\n<g id=\"edge111\" class=\"edge\">\n<title>110&#45;&gt;111</title>\n<path fill=\"none\" stroke=\"#000000\" d=\"M2823.9551,-504.9465C2804.9957,-492.775 2783.7073,-479.1084 2765.0121,-467.1066\"/>\n<polygon fill=\"#000000\" stroke=\"#000000\" points=\"2766.6505,-463.9992 2756.3445,-461.5422 2762.8689,-469.8898 2766.6505,-463.9992\"/>\n</g>\n<!-- 112 -->\n<g id=\"node113\" class=\"node\">\n<title>112</title>\n<polygon fill=\"none\" stroke=\"#000000\" points=\"2949,-469 2805,-469 2805,-401 2949,-401 2949,-469\"/>\n<text text-anchor=\"middle\" x=\"2877\" y=\"-453.8\" font-family=\"Helvetica,sans-Serif\" font-size=\"14.00\" fill=\"#000000\">X[21] &lt;= 0.013</text>\n<text text-anchor=\"middle\" x=\"2877\" y=\"-438.8\" font-family=\"Helvetica,sans-Serif\" font-size=\"14.00\" fill=\"#000000\">squared_error = 0.0</text>\n<text text-anchor=\"middle\" x=\"2877\" y=\"-423.8\" font-family=\"Helvetica,sans-Serif\" font-size=\"14.00\" fill=\"#000000\">samples = 5</text>\n<text text-anchor=\"middle\" x=\"2877\" y=\"-408.8\" font-family=\"Helvetica,sans-Serif\" font-size=\"14.00\" fill=\"#000000\">value = 0.003</text>\n</g>\n<!-- 110&#45;&gt;112 -->\n<g id=\"edge112\" class=\"edge\">\n<title>110&#45;&gt;112</title>\n<path fill=\"none\" stroke=\"#000000\" d=\"M2877,-504.9465C2877,-496.776 2877,-487.9318 2877,-479.3697\"/>\n<polygon fill=\"#000000\" stroke=\"#000000\" points=\"2880.5001,-479.13 2877,-469.13 2873.5001,-479.13 2880.5001,-479.13\"/>\n</g>\n<!-- 113 -->\n<g id=\"node114\" class=\"node\">\n<title>113</title>\n<polygon fill=\"none\" stroke=\"#000000\" points=\"2784,-365 2640,-365 2640,-297 2784,-297 2784,-365\"/>\n<text text-anchor=\"middle\" x=\"2712\" y=\"-349.8\" font-family=\"Helvetica,sans-Serif\" font-size=\"14.00\" fill=\"#000000\">X[27] &lt;= 0.015</text>\n<text text-anchor=\"middle\" x=\"2712\" y=\"-334.8\" font-family=\"Helvetica,sans-Serif\" font-size=\"14.00\" fill=\"#000000\">squared_error = 0.0</text>\n<text text-anchor=\"middle\" x=\"2712\" y=\"-319.8\" font-family=\"Helvetica,sans-Serif\" font-size=\"14.00\" fill=\"#000000\">samples = 3</text>\n<text text-anchor=\"middle\" x=\"2712\" y=\"-304.8\" font-family=\"Helvetica,sans-Serif\" font-size=\"14.00\" fill=\"#000000\">value = 0.005</text>\n</g>\n<!-- 112&#45;&gt;113 -->\n<g id=\"edge113\" class=\"edge\">\n<title>112&#45;&gt;113</title>\n<path fill=\"none\" stroke=\"#000000\" d=\"M2822.9728,-400.9465C2807.5885,-391.2497 2790.6984,-380.6039 2774.8379,-370.6069\"/>\n<polygon fill=\"#000000\" stroke=\"#000000\" points=\"2776.4746,-367.5013 2766.1486,-365.13 2772.742,-373.4232 2776.4746,-367.5013\"/>\n</g>\n<!-- 118 -->\n<g id=\"node119\" class=\"node\">\n<title>118</title>\n<polygon fill=\"none\" stroke=\"#000000\" points=\"2949,-365 2805,-365 2805,-297 2949,-297 2949,-365\"/>\n<text text-anchor=\"middle\" x=\"2877\" y=\"-349.8\" font-family=\"Helvetica,sans-Serif\" font-size=\"14.00\" fill=\"#000000\">X[13] &lt;= &#45;0.013</text>\n<text text-anchor=\"middle\" x=\"2877\" y=\"-334.8\" font-family=\"Helvetica,sans-Serif\" font-size=\"14.00\" fill=\"#000000\">squared_error = 0.0</text>\n<text text-anchor=\"middle\" x=\"2877\" y=\"-319.8\" font-family=\"Helvetica,sans-Serif\" font-size=\"14.00\" fill=\"#000000\">samples = 2</text>\n<text text-anchor=\"middle\" x=\"2877\" y=\"-304.8\" font-family=\"Helvetica,sans-Serif\" font-size=\"14.00\" fill=\"#000000\">value = 0.001</text>\n</g>\n<!-- 112&#45;&gt;118 -->\n<g id=\"edge118\" class=\"edge\">\n<title>112&#45;&gt;118</title>\n<path fill=\"none\" stroke=\"#000000\" d=\"M2877,-400.9465C2877,-392.776 2877,-383.9318 2877,-375.3697\"/>\n<polygon fill=\"#000000\" stroke=\"#000000\" points=\"2880.5001,-375.13 2877,-365.13 2873.5001,-375.13 2880.5001,-375.13\"/>\n</g>\n<!-- 114 -->\n<g id=\"node115\" class=\"node\">\n<title>114</title>\n<polygon fill=\"none\" stroke=\"#000000\" points=\"2619,-261 2475,-261 2475,-193 2619,-193 2619,-261\"/>\n<text text-anchor=\"middle\" x=\"2547\" y=\"-245.8\" font-family=\"Helvetica,sans-Serif\" font-size=\"14.00\" fill=\"#000000\">X[26] &lt;= &#45;0.008</text>\n<text text-anchor=\"middle\" x=\"2547\" y=\"-230.8\" font-family=\"Helvetica,sans-Serif\" font-size=\"14.00\" fill=\"#000000\">squared_error = 0.0</text>\n<text text-anchor=\"middle\" x=\"2547\" y=\"-215.8\" font-family=\"Helvetica,sans-Serif\" font-size=\"14.00\" fill=\"#000000\">samples = 2</text>\n<text text-anchor=\"middle\" x=\"2547\" y=\"-200.8\" font-family=\"Helvetica,sans-Serif\" font-size=\"14.00\" fill=\"#000000\">value = 0.004</text>\n</g>\n<!-- 113&#45;&gt;114 -->\n<g id=\"edge114\" class=\"edge\">\n<title>113&#45;&gt;114</title>\n<path fill=\"none\" stroke=\"#000000\" d=\"M2657.9728,-296.9465C2642.5885,-287.2497 2625.6984,-276.6039 2609.8379,-266.6069\"/>\n<polygon fill=\"#000000\" stroke=\"#000000\" points=\"2611.4746,-263.5013 2601.1486,-261.13 2607.742,-269.4232 2611.4746,-263.5013\"/>\n</g>\n<!-- 117 -->\n<g id=\"node118\" class=\"node\">\n<title>117</title>\n<polygon fill=\"none\" stroke=\"#000000\" points=\"2786.5,-253.5 2637.5,-253.5 2637.5,-200.5 2786.5,-200.5 2786.5,-253.5\"/>\n<text text-anchor=\"middle\" x=\"2712\" y=\"-238.3\" font-family=\"Helvetica,sans-Serif\" font-size=\"14.00\" fill=\"#000000\">squared_error = &#45;0.0</text>\n<text text-anchor=\"middle\" x=\"2712\" y=\"-223.3\" font-family=\"Helvetica,sans-Serif\" font-size=\"14.00\" fill=\"#000000\">samples = 1</text>\n<text text-anchor=\"middle\" x=\"2712\" y=\"-208.3\" font-family=\"Helvetica,sans-Serif\" font-size=\"14.00\" fill=\"#000000\">value = 0.006</text>\n</g>\n<!-- 113&#45;&gt;117 -->\n<g id=\"edge117\" class=\"edge\">\n<title>113&#45;&gt;117</title>\n<path fill=\"none\" stroke=\"#000000\" d=\"M2712,-296.9465C2712,-286.2621 2712,-274.4254 2712,-263.5742\"/>\n<polygon fill=\"#000000\" stroke=\"#000000\" points=\"2715.5001,-263.5421 2712,-253.5422 2708.5001,-263.5422 2715.5001,-263.5421\"/>\n</g>\n<!-- 115 -->\n<g id=\"node116\" class=\"node\">\n<title>115</title>\n<polygon fill=\"none\" stroke=\"#000000\" points=\"2538,-149.5 2394,-149.5 2394,-96.5 2538,-96.5 2538,-149.5\"/>\n<text text-anchor=\"middle\" x=\"2466\" y=\"-134.3\" font-family=\"Helvetica,sans-Serif\" font-size=\"14.00\" fill=\"#000000\">squared_error = 0.0</text>\n<text text-anchor=\"middle\" x=\"2466\" y=\"-119.3\" font-family=\"Helvetica,sans-Serif\" font-size=\"14.00\" fill=\"#000000\">samples = 1</text>\n<text text-anchor=\"middle\" x=\"2466\" y=\"-104.3\" font-family=\"Helvetica,sans-Serif\" font-size=\"14.00\" fill=\"#000000\">value = 0.004</text>\n</g>\n<!-- 114&#45;&gt;115 -->\n<g id=\"edge115\" class=\"edge\">\n<title>114&#45;&gt;115</title>\n<path fill=\"none\" stroke=\"#000000\" d=\"M2520.4776,-192.9465C2511.6413,-181.6012 2501.7932,-168.9567 2492.9266,-157.5724\"/>\n<polygon fill=\"#000000\" stroke=\"#000000\" points=\"2495.5783,-155.281 2486.6723,-149.5422 2490.0556,-159.5823 2495.5783,-155.281\"/>\n</g>\n<!-- 116 -->\n<g id=\"node117\" class=\"node\">\n<title>116</title>\n<polygon fill=\"none\" stroke=\"#000000\" points=\"2700,-149.5 2556,-149.5 2556,-96.5 2700,-96.5 2700,-149.5\"/>\n<text text-anchor=\"middle\" x=\"2628\" y=\"-134.3\" font-family=\"Helvetica,sans-Serif\" font-size=\"14.00\" fill=\"#000000\">squared_error = 0.0</text>\n<text text-anchor=\"middle\" x=\"2628\" y=\"-119.3\" font-family=\"Helvetica,sans-Serif\" font-size=\"14.00\" fill=\"#000000\">samples = 1</text>\n<text text-anchor=\"middle\" x=\"2628\" y=\"-104.3\" font-family=\"Helvetica,sans-Serif\" font-size=\"14.00\" fill=\"#000000\">value = 0.004</text>\n</g>\n<!-- 114&#45;&gt;116 -->\n<g id=\"edge116\" class=\"edge\">\n<title>114&#45;&gt;116</title>\n<path fill=\"none\" stroke=\"#000000\" d=\"M2573.5224,-192.9465C2582.3587,-181.6012 2592.2068,-168.9567 2601.0734,-157.5724\"/>\n<polygon fill=\"#000000\" stroke=\"#000000\" points=\"2603.9444,-159.5823 2607.3277,-149.5422 2598.4217,-155.281 2603.9444,-159.5823\"/>\n</g>\n<!-- 119 -->\n<g id=\"node120\" class=\"node\">\n<title>119</title>\n<polygon fill=\"none\" stroke=\"#000000\" points=\"2949,-253.5 2805,-253.5 2805,-200.5 2949,-200.5 2949,-253.5\"/>\n<text text-anchor=\"middle\" x=\"2877\" y=\"-238.3\" font-family=\"Helvetica,sans-Serif\" font-size=\"14.00\" fill=\"#000000\">squared_error = 0.0</text>\n<text text-anchor=\"middle\" x=\"2877\" y=\"-223.3\" font-family=\"Helvetica,sans-Serif\" font-size=\"14.00\" fill=\"#000000\">samples = 1</text>\n<text text-anchor=\"middle\" x=\"2877\" y=\"-208.3\" font-family=\"Helvetica,sans-Serif\" font-size=\"14.00\" fill=\"#000000\">value = 0.0</text>\n</g>\n<!-- 118&#45;&gt;119 -->\n<g id=\"edge119\" class=\"edge\">\n<title>118&#45;&gt;119</title>\n<path fill=\"none\" stroke=\"#000000\" d=\"M2877,-296.9465C2877,-286.2621 2877,-274.4254 2877,-263.5742\"/>\n<polygon fill=\"#000000\" stroke=\"#000000\" points=\"2880.5001,-263.5421 2877,-253.5422 2873.5001,-263.5422 2880.5001,-263.5421\"/>\n</g>\n<!-- 120 -->\n<g id=\"node121\" class=\"node\">\n<title>120</title>\n<polygon fill=\"none\" stroke=\"#000000\" points=\"3111,-253.5 2967,-253.5 2967,-200.5 3111,-200.5 3111,-253.5\"/>\n<text text-anchor=\"middle\" x=\"3039\" y=\"-238.3\" font-family=\"Helvetica,sans-Serif\" font-size=\"14.00\" fill=\"#000000\">squared_error = 0.0</text>\n<text text-anchor=\"middle\" x=\"3039\" y=\"-223.3\" font-family=\"Helvetica,sans-Serif\" font-size=\"14.00\" fill=\"#000000\">samples = 1</text>\n<text text-anchor=\"middle\" x=\"3039\" y=\"-208.3\" font-family=\"Helvetica,sans-Serif\" font-size=\"14.00\" fill=\"#000000\">value = 0.002</text>\n</g>\n<!-- 118&#45;&gt;120 -->\n<g id=\"edge120\" class=\"edge\">\n<title>118&#45;&gt;120</title>\n<path fill=\"none\" stroke=\"#000000\" d=\"M2930.0449,-296.9465C2949.0043,-284.775 2970.2927,-271.1084 2988.9879,-259.1066\"/>\n<polygon fill=\"#000000\" stroke=\"#000000\" points=\"2991.1311,-261.8898 2997.6555,-253.5422 2987.3495,-255.9992 2991.1311,-261.8898\"/>\n</g>\n<!-- 122 -->\n<g id=\"node123\" class=\"node\">\n<title>122</title>\n<polygon fill=\"none\" stroke=\"#000000\" points=\"3225,-469 3081,-469 3081,-401 3225,-401 3225,-469\"/>\n<text text-anchor=\"middle\" x=\"3153\" y=\"-453.8\" font-family=\"Helvetica,sans-Serif\" font-size=\"14.00\" fill=\"#000000\">X[33] &lt;= &#45;0.012</text>\n<text text-anchor=\"middle\" x=\"3153\" y=\"-438.8\" font-family=\"Helvetica,sans-Serif\" font-size=\"14.00\" fill=\"#000000\">squared_error = 0.0</text>\n<text text-anchor=\"middle\" x=\"3153\" y=\"-423.8\" font-family=\"Helvetica,sans-Serif\" font-size=\"14.00\" fill=\"#000000\">samples = 2</text>\n<text text-anchor=\"middle\" x=\"3153\" y=\"-408.8\" font-family=\"Helvetica,sans-Serif\" font-size=\"14.00\" fill=\"#000000\">value = &#45;0.005</text>\n</g>\n<!-- 121&#45;&gt;122 -->\n<g id=\"edge122\" class=\"edge\">\n<title>121&#45;&gt;122</title>\n<path fill=\"none\" stroke=\"#000000\" d=\"M3153,-504.9465C3153,-496.776 3153,-487.9318 3153,-479.3697\"/>\n<polygon fill=\"#000000\" stroke=\"#000000\" points=\"3156.5001,-479.13 3153,-469.13 3149.5001,-479.13 3156.5001,-479.13\"/>\n</g>\n<!-- 125 -->\n<g id=\"node126\" class=\"node\">\n<title>125</title>\n<polygon fill=\"none\" stroke=\"#000000\" points=\"3441,-469 3297,-469 3297,-401 3441,-401 3441,-469\"/>\n<text text-anchor=\"middle\" x=\"3369\" y=\"-453.8\" font-family=\"Helvetica,sans-Serif\" font-size=\"14.00\" fill=\"#000000\">X[27] &lt;= &#45;0.003</text>\n<text text-anchor=\"middle\" x=\"3369\" y=\"-438.8\" font-family=\"Helvetica,sans-Serif\" font-size=\"14.00\" fill=\"#000000\">squared_error = 0.0</text>\n<text text-anchor=\"middle\" x=\"3369\" y=\"-423.8\" font-family=\"Helvetica,sans-Serif\" font-size=\"14.00\" fill=\"#000000\">samples = 3</text>\n<text text-anchor=\"middle\" x=\"3369\" y=\"-408.8\" font-family=\"Helvetica,sans-Serif\" font-size=\"14.00\" fill=\"#000000\">value = &#45;0.001</text>\n</g>\n<!-- 121&#45;&gt;125 -->\n<g id=\"edge125\" class=\"edge\">\n<title>121&#45;&gt;125</title>\n<path fill=\"none\" stroke=\"#000000\" d=\"M3223.7265,-504.9465C3244.6119,-494.8906 3267.6171,-483.814 3289.0407,-473.4989\"/>\n<polygon fill=\"#000000\" stroke=\"#000000\" points=\"3290.623,-476.6217 3298.1146,-469.13 3287.5862,-470.3147 3290.623,-476.6217\"/>\n</g>\n<!-- 123 -->\n<g id=\"node124\" class=\"node\">\n<title>123</title>\n<polygon fill=\"none\" stroke=\"#000000\" points=\"3111,-357.5 2967,-357.5 2967,-304.5 3111,-304.5 3111,-357.5\"/>\n<text text-anchor=\"middle\" x=\"3039\" y=\"-342.3\" font-family=\"Helvetica,sans-Serif\" font-size=\"14.00\" fill=\"#000000\">squared_error = 0.0</text>\n<text text-anchor=\"middle\" x=\"3039\" y=\"-327.3\" font-family=\"Helvetica,sans-Serif\" font-size=\"14.00\" fill=\"#000000\">samples = 1</text>\n<text text-anchor=\"middle\" x=\"3039\" y=\"-312.3\" font-family=\"Helvetica,sans-Serif\" font-size=\"14.00\" fill=\"#000000\">value = &#45;0.007</text>\n</g>\n<!-- 122&#45;&gt;123 -->\n<g id=\"edge123\" class=\"edge\">\n<title>122&#45;&gt;123</title>\n<path fill=\"none\" stroke=\"#000000\" d=\"M3115.6721,-400.9465C3102.8737,-389.2707 3088.567,-376.219 3075.8099,-364.5809\"/>\n<polygon fill=\"#000000\" stroke=\"#000000\" points=\"3077.8409,-361.6961 3068.0943,-357.5422 3073.1231,-366.8675 3077.8409,-361.6961\"/>\n</g>\n<!-- 124 -->\n<g id=\"node125\" class=\"node\">\n<title>124</title>\n<polygon fill=\"none\" stroke=\"#000000\" points=\"3278.5,-357.5 3129.5,-357.5 3129.5,-304.5 3278.5,-304.5 3278.5,-357.5\"/>\n<text text-anchor=\"middle\" x=\"3204\" y=\"-342.3\" font-family=\"Helvetica,sans-Serif\" font-size=\"14.00\" fill=\"#000000\">squared_error = &#45;0.0</text>\n<text text-anchor=\"middle\" x=\"3204\" y=\"-327.3\" font-family=\"Helvetica,sans-Serif\" font-size=\"14.00\" fill=\"#000000\">samples = 1</text>\n<text text-anchor=\"middle\" x=\"3204\" y=\"-312.3\" font-family=\"Helvetica,sans-Serif\" font-size=\"14.00\" fill=\"#000000\">value = &#45;0.004</text>\n</g>\n<!-- 122&#45;&gt;124 -->\n<g id=\"edge124\" class=\"edge\">\n<title>122&#45;&gt;124</title>\n<path fill=\"none\" stroke=\"#000000\" d=\"M3169.6993,-400.9465C3175.1008,-389.9316 3181.1029,-377.6922 3186.5569,-366.5703\"/>\n<polygon fill=\"#000000\" stroke=\"#000000\" points=\"3189.7236,-368.0618 3190.9841,-357.5422 3183.4386,-364.9797 3189.7236,-368.0618\"/>\n</g>\n<!-- 126 -->\n<g id=\"node127\" class=\"node\">\n<title>126</title>\n<polygon fill=\"none\" stroke=\"#000000\" points=\"3441,-357.5 3297,-357.5 3297,-304.5 3441,-304.5 3441,-357.5\"/>\n<text text-anchor=\"middle\" x=\"3369\" y=\"-342.3\" font-family=\"Helvetica,sans-Serif\" font-size=\"14.00\" fill=\"#000000\">squared_error = 0.0</text>\n<text text-anchor=\"middle\" x=\"3369\" y=\"-327.3\" font-family=\"Helvetica,sans-Serif\" font-size=\"14.00\" fill=\"#000000\">samples = 1</text>\n<text text-anchor=\"middle\" x=\"3369\" y=\"-312.3\" font-family=\"Helvetica,sans-Serif\" font-size=\"14.00\" fill=\"#000000\">value = &#45;0.0</text>\n</g>\n<!-- 125&#45;&gt;126 -->\n<g id=\"edge126\" class=\"edge\">\n<title>125&#45;&gt;126</title>\n<path fill=\"none\" stroke=\"#000000\" d=\"M3369,-400.9465C3369,-390.2621 3369,-378.4254 3369,-367.5742\"/>\n<polygon fill=\"#000000\" stroke=\"#000000\" points=\"3372.5001,-367.5421 3369,-357.5422 3365.5001,-367.5422 3372.5001,-367.5421\"/>\n</g>\n<!-- 127 -->\n<g id=\"node128\" class=\"node\">\n<title>127</title>\n<polygon fill=\"none\" stroke=\"#000000\" points=\"3603,-365 3459,-365 3459,-297 3603,-297 3603,-365\"/>\n<text text-anchor=\"middle\" x=\"3531\" y=\"-349.8\" font-family=\"Helvetica,sans-Serif\" font-size=\"14.00\" fill=\"#000000\">X[8] &lt;= &#45;0.011</text>\n<text text-anchor=\"middle\" x=\"3531\" y=\"-334.8\" font-family=\"Helvetica,sans-Serif\" font-size=\"14.00\" fill=\"#000000\">squared_error = 0.0</text>\n<text text-anchor=\"middle\" x=\"3531\" y=\"-319.8\" font-family=\"Helvetica,sans-Serif\" font-size=\"14.00\" fill=\"#000000\">samples = 2</text>\n<text text-anchor=\"middle\" x=\"3531\" y=\"-304.8\" font-family=\"Helvetica,sans-Serif\" font-size=\"14.00\" fill=\"#000000\">value = &#45;0.002</text>\n</g>\n<!-- 125&#45;&gt;127 -->\n<g id=\"edge127\" class=\"edge\">\n<title>125&#45;&gt;127</title>\n<path fill=\"none\" stroke=\"#000000\" d=\"M3422.0449,-400.9465C3437.1495,-391.2497 3453.7324,-380.6039 3469.3046,-370.6069\"/>\n<polygon fill=\"#000000\" stroke=\"#000000\" points=\"3471.3116,-373.4777 3477.836,-365.13 3467.53,-367.5871 3471.3116,-373.4777\"/>\n</g>\n<!-- 128 -->\n<g id=\"node129\" class=\"node\">\n<title>128</title>\n<polygon fill=\"none\" stroke=\"#000000\" points=\"3516,-253.5 3372,-253.5 3372,-200.5 3516,-200.5 3516,-253.5\"/>\n<text text-anchor=\"middle\" x=\"3444\" y=\"-238.3\" font-family=\"Helvetica,sans-Serif\" font-size=\"14.00\" fill=\"#000000\">squared_error = 0.0</text>\n<text text-anchor=\"middle\" x=\"3444\" y=\"-223.3\" font-family=\"Helvetica,sans-Serif\" font-size=\"14.00\" fill=\"#000000\">samples = 1</text>\n<text text-anchor=\"middle\" x=\"3444\" y=\"-208.3\" font-family=\"Helvetica,sans-Serif\" font-size=\"14.00\" fill=\"#000000\">value = &#45;0.002</text>\n</g>\n<!-- 127&#45;&gt;128 -->\n<g id=\"edge128\" class=\"edge\">\n<title>127&#45;&gt;128</title>\n<path fill=\"none\" stroke=\"#000000\" d=\"M3502.5129,-296.9465C3492.93,-285.491 3482.239,-272.711 3472.6441,-261.2412\"/>\n<polygon fill=\"#000000\" stroke=\"#000000\" points=\"3475.3045,-258.9666 3466.2035,-253.5422 3469.9354,-263.458 3475.3045,-258.9666\"/>\n</g>\n<!-- 129 -->\n<g id=\"node130\" class=\"node\">\n<title>129</title>\n<polygon fill=\"none\" stroke=\"#000000\" points=\"3683.5,-253.5 3534.5,-253.5 3534.5,-200.5 3683.5,-200.5 3683.5,-253.5\"/>\n<text text-anchor=\"middle\" x=\"3609\" y=\"-238.3\" font-family=\"Helvetica,sans-Serif\" font-size=\"14.00\" fill=\"#000000\">squared_error = &#45;0.0</text>\n<text text-anchor=\"middle\" x=\"3609\" y=\"-223.3\" font-family=\"Helvetica,sans-Serif\" font-size=\"14.00\" fill=\"#000000\">samples = 1</text>\n<text text-anchor=\"middle\" x=\"3609\" y=\"-208.3\" font-family=\"Helvetica,sans-Serif\" font-size=\"14.00\" fill=\"#000000\">value = &#45;0.002</text>\n</g>\n<!-- 127&#45;&gt;129 -->\n<g id=\"edge129\" class=\"edge\">\n<title>127&#45;&gt;129</title>\n<path fill=\"none\" stroke=\"#000000\" d=\"M3556.5401,-296.9465C3565.0491,-285.6012 3574.5325,-272.9567 3583.0707,-261.5724\"/>\n<polygon fill=\"#000000\" stroke=\"#000000\" points=\"3585.8933,-263.6422 3589.0934,-253.5422 3580.2933,-259.4422 3585.8933,-263.6422\"/>\n</g>\n<!-- 131 -->\n<g id=\"node132\" class=\"node\">\n<title>131</title>\n<polygon fill=\"none\" stroke=\"#000000\" points=\"3387,-565.5 3243,-565.5 3243,-512.5 3387,-512.5 3387,-565.5\"/>\n<text text-anchor=\"middle\" x=\"3315\" y=\"-550.3\" font-family=\"Helvetica,sans-Serif\" font-size=\"14.00\" fill=\"#000000\">squared_error = 0.0</text>\n<text text-anchor=\"middle\" x=\"3315\" y=\"-535.3\" font-family=\"Helvetica,sans-Serif\" font-size=\"14.00\" fill=\"#000000\">samples = 1</text>\n<text text-anchor=\"middle\" x=\"3315\" y=\"-520.3\" font-family=\"Helvetica,sans-Serif\" font-size=\"14.00\" fill=\"#000000\">value = &#45;0.008</text>\n</g>\n<!-- 130&#45;&gt;131 -->\n<g id=\"edge131\" class=\"edge\">\n<title>130&#45;&gt;131</title>\n<path fill=\"none\" stroke=\"#000000\" d=\"M3341.2299,-608.9465C3337.182,-598.1519 3332.693,-586.1813 3328.5896,-575.2389\"/>\n<polygon fill=\"#000000\" stroke=\"#000000\" points=\"3331.7418,-573.6765 3324.9533,-565.5422 3325.1875,-576.1344 3331.7418,-573.6765\"/>\n</g>\n<!-- 132 -->\n<g id=\"node133\" class=\"node\">\n<title>132</title>\n<polygon fill=\"none\" stroke=\"#000000\" points=\"3549,-565.5 3405,-565.5 3405,-512.5 3549,-512.5 3549,-565.5\"/>\n<text text-anchor=\"middle\" x=\"3477\" y=\"-550.3\" font-family=\"Helvetica,sans-Serif\" font-size=\"14.00\" fill=\"#000000\">squared_error = 0.0</text>\n<text text-anchor=\"middle\" x=\"3477\" y=\"-535.3\" font-family=\"Helvetica,sans-Serif\" font-size=\"14.00\" fill=\"#000000\">samples = 1</text>\n<text text-anchor=\"middle\" x=\"3477\" y=\"-520.3\" font-family=\"Helvetica,sans-Serif\" font-size=\"14.00\" fill=\"#000000\">value = &#45;0.012</text>\n</g>\n<!-- 130&#45;&gt;132 -->\n<g id=\"edge132\" class=\"edge\">\n<title>130&#45;&gt;132</title>\n<path fill=\"none\" stroke=\"#000000\" d=\"M3394.2748,-608.9465C3408.2139,-597.1606 3423.8112,-583.9726 3437.6732,-572.2519\"/>\n<polygon fill=\"#000000\" stroke=\"#000000\" points=\"3440.2324,-574.6715 3445.6088,-565.5422 3435.7127,-569.3262 3440.2324,-574.6715\"/>\n</g>\n<!-- 134 -->\n<g id=\"node135\" class=\"node\">\n<title>134</title>\n<polygon fill=\"none\" stroke=\"#000000\" points=\"3711,-677 3567,-677 3567,-609 3711,-609 3711,-677\"/>\n<text text-anchor=\"middle\" x=\"3639\" y=\"-661.8\" font-family=\"Helvetica,sans-Serif\" font-size=\"14.00\" fill=\"#000000\">X[2] &lt;= 0.002</text>\n<text text-anchor=\"middle\" x=\"3639\" y=\"-646.8\" font-family=\"Helvetica,sans-Serif\" font-size=\"14.00\" fill=\"#000000\">squared_error = 0.0</text>\n<text text-anchor=\"middle\" x=\"3639\" y=\"-631.8\" font-family=\"Helvetica,sans-Serif\" font-size=\"14.00\" fill=\"#000000\">samples = 3</text>\n<text text-anchor=\"middle\" x=\"3639\" y=\"-616.8\" font-family=\"Helvetica,sans-Serif\" font-size=\"14.00\" fill=\"#000000\">value = &#45;0.003</text>\n</g>\n<!-- 133&#45;&gt;134 -->\n<g id=\"edge134\" class=\"edge\">\n<title>133&#45;&gt;134</title>\n<path fill=\"none\" stroke=\"#000000\" d=\"M3586.5401,-712.9465C3593.1393,-704.1475 3600.3246,-694.5672 3607.2005,-685.3993\"/>\n<polygon fill=\"#000000\" stroke=\"#000000\" points=\"3610.2025,-687.23 3613.4025,-677.13 3604.6025,-683.03 3610.2025,-687.23\"/>\n</g>\n<!-- 139 -->\n<g id=\"node140\" class=\"node\">\n<title>139</title>\n<polygon fill=\"none\" stroke=\"#000000\" points=\"4035,-677 3891,-677 3891,-609 4035,-609 4035,-677\"/>\n<text text-anchor=\"middle\" x=\"3963\" y=\"-661.8\" font-family=\"Helvetica,sans-Serif\" font-size=\"14.00\" fill=\"#000000\">X[23] &lt;= &#45;0.001</text>\n<text text-anchor=\"middle\" x=\"3963\" y=\"-646.8\" font-family=\"Helvetica,sans-Serif\" font-size=\"14.00\" fill=\"#000000\">squared_error = 0.0</text>\n<text text-anchor=\"middle\" x=\"3963\" y=\"-631.8\" font-family=\"Helvetica,sans-Serif\" font-size=\"14.00\" fill=\"#000000\">samples = 5</text>\n<text text-anchor=\"middle\" x=\"3963\" y=\"-616.8\" font-family=\"Helvetica,sans-Serif\" font-size=\"14.00\" fill=\"#000000\">value = &#45;0.013</text>\n</g>\n<!-- 133&#45;&gt;139 -->\n<g id=\"edge139\" class=\"edge\">\n<title>133&#45;&gt;139</title>\n<path fill=\"none\" stroke=\"#000000\" d=\"M3633.1788,-715.9333C3636.1431,-714.902 3639.0915,-713.9191 3642,-713 3721.7973,-687.7847 3815.5651,-668.4796 3881.0794,-656.5925\"/>\n<polygon fill=\"#000000\" stroke=\"#000000\" points=\"3881.7164,-660.0342 3890.9397,-654.8207 3880.4784,-653.1445 3881.7164,-660.0342\"/>\n</g>\n<!-- 135 -->\n<g id=\"node136\" class=\"node\">\n<title>135</title>\n<polygon fill=\"none\" stroke=\"#000000\" points=\"3711,-565.5 3567,-565.5 3567,-512.5 3711,-512.5 3711,-565.5\"/>\n<text text-anchor=\"middle\" x=\"3639\" y=\"-550.3\" font-family=\"Helvetica,sans-Serif\" font-size=\"14.00\" fill=\"#000000\">squared_error = 0.0</text>\n<text text-anchor=\"middle\" x=\"3639\" y=\"-535.3\" font-family=\"Helvetica,sans-Serif\" font-size=\"14.00\" fill=\"#000000\">samples = 1</text>\n<text text-anchor=\"middle\" x=\"3639\" y=\"-520.3\" font-family=\"Helvetica,sans-Serif\" font-size=\"14.00\" fill=\"#000000\">value = &#45;0.006</text>\n</g>\n<!-- 134&#45;&gt;135 -->\n<g id=\"edge135\" class=\"edge\">\n<title>134&#45;&gt;135</title>\n<path fill=\"none\" stroke=\"#000000\" d=\"M3639,-608.9465C3639,-598.2621 3639,-586.4254 3639,-575.5742\"/>\n<polygon fill=\"#000000\" stroke=\"#000000\" points=\"3642.5001,-575.5421 3639,-565.5422 3635.5001,-575.5422 3642.5001,-575.5421\"/>\n</g>\n<!-- 136 -->\n<g id=\"node137\" class=\"node\">\n<title>136</title>\n<polygon fill=\"none\" stroke=\"#000000\" points=\"3873,-573 3729,-573 3729,-505 3873,-505 3873,-573\"/>\n<text text-anchor=\"middle\" x=\"3801\" y=\"-557.8\" font-family=\"Helvetica,sans-Serif\" font-size=\"14.00\" fill=\"#000000\">X[31] &lt;= &#45;0.013</text>\n<text text-anchor=\"middle\" x=\"3801\" y=\"-542.8\" font-family=\"Helvetica,sans-Serif\" font-size=\"14.00\" fill=\"#000000\">squared_error = 0.0</text>\n<text text-anchor=\"middle\" x=\"3801\" y=\"-527.8\" font-family=\"Helvetica,sans-Serif\" font-size=\"14.00\" fill=\"#000000\">samples = 2</text>\n<text text-anchor=\"middle\" x=\"3801\" y=\"-512.8\" font-family=\"Helvetica,sans-Serif\" font-size=\"14.00\" fill=\"#000000\">value = &#45;0.001</text>\n</g>\n<!-- 134&#45;&gt;136 -->\n<g id=\"edge136\" class=\"edge\">\n<title>134&#45;&gt;136</title>\n<path fill=\"none\" stroke=\"#000000\" d=\"M3692.0449,-608.9465C3707.1495,-599.2497 3723.7324,-588.6039 3739.3046,-578.6069\"/>\n<polygon fill=\"#000000\" stroke=\"#000000\" points=\"3741.3116,-581.4777 3747.836,-573.13 3737.53,-575.5871 3741.3116,-581.4777\"/>\n</g>\n<!-- 137 -->\n<g id=\"node138\" class=\"node\">\n<title>137</title>\n<polygon fill=\"none\" stroke=\"#000000\" points=\"3711,-461.5 3567,-461.5 3567,-408.5 3711,-408.5 3711,-461.5\"/>\n<text text-anchor=\"middle\" x=\"3639\" y=\"-446.3\" font-family=\"Helvetica,sans-Serif\" font-size=\"14.00\" fill=\"#000000\">squared_error = 0.0</text>\n<text text-anchor=\"middle\" x=\"3639\" y=\"-431.3\" font-family=\"Helvetica,sans-Serif\" font-size=\"14.00\" fill=\"#000000\">samples = 1</text>\n<text text-anchor=\"middle\" x=\"3639\" y=\"-416.3\" font-family=\"Helvetica,sans-Serif\" font-size=\"14.00\" fill=\"#000000\">value = &#45;0.001</text>\n</g>\n<!-- 136&#45;&gt;137 -->\n<g id=\"edge137\" class=\"edge\">\n<title>136&#45;&gt;137</title>\n<path fill=\"none\" stroke=\"#000000\" d=\"M3747.9551,-504.9465C3728.9957,-492.775 3707.7073,-479.1084 3689.0121,-467.1066\"/>\n<polygon fill=\"#000000\" stroke=\"#000000\" points=\"3690.6505,-463.9992 3680.3445,-461.5422 3686.8689,-469.8898 3690.6505,-463.9992\"/>\n</g>\n<!-- 138 -->\n<g id=\"node139\" class=\"node\">\n<title>138</title>\n<polygon fill=\"none\" stroke=\"#000000\" points=\"3873,-461.5 3729,-461.5 3729,-408.5 3873,-408.5 3873,-461.5\"/>\n<text text-anchor=\"middle\" x=\"3801\" y=\"-446.3\" font-family=\"Helvetica,sans-Serif\" font-size=\"14.00\" fill=\"#000000\">squared_error = 0.0</text>\n<text text-anchor=\"middle\" x=\"3801\" y=\"-431.3\" font-family=\"Helvetica,sans-Serif\" font-size=\"14.00\" fill=\"#000000\">samples = 1</text>\n<text text-anchor=\"middle\" x=\"3801\" y=\"-416.3\" font-family=\"Helvetica,sans-Serif\" font-size=\"14.00\" fill=\"#000000\">value = &#45;0.001</text>\n</g>\n<!-- 136&#45;&gt;138 -->\n<g id=\"edge138\" class=\"edge\">\n<title>136&#45;&gt;138</title>\n<path fill=\"none\" stroke=\"#000000\" d=\"M3801,-504.9465C3801,-494.2621 3801,-482.4254 3801,-471.5742\"/>\n<polygon fill=\"#000000\" stroke=\"#000000\" points=\"3804.5001,-471.5421 3801,-461.5422 3797.5001,-471.5422 3804.5001,-471.5421\"/>\n</g>\n<!-- 140 -->\n<g id=\"node141\" class=\"node\">\n<title>140</title>\n<polygon fill=\"none\" stroke=\"#000000\" points=\"4035,-573 3891,-573 3891,-505 4035,-505 4035,-573\"/>\n<text text-anchor=\"middle\" x=\"3963\" y=\"-557.8\" font-family=\"Helvetica,sans-Serif\" font-size=\"14.00\" fill=\"#000000\">X[20] &lt;= 0.013</text>\n<text text-anchor=\"middle\" x=\"3963\" y=\"-542.8\" font-family=\"Helvetica,sans-Serif\" font-size=\"14.00\" fill=\"#000000\">squared_error = 0.0</text>\n<text text-anchor=\"middle\" x=\"3963\" y=\"-527.8\" font-family=\"Helvetica,sans-Serif\" font-size=\"14.00\" fill=\"#000000\">samples = 4</text>\n<text text-anchor=\"middle\" x=\"3963\" y=\"-512.8\" font-family=\"Helvetica,sans-Serif\" font-size=\"14.00\" fill=\"#000000\">value = &#45;0.015</text>\n</g>\n<!-- 139&#45;&gt;140 -->\n<g id=\"edge140\" class=\"edge\">\n<title>139&#45;&gt;140</title>\n<path fill=\"none\" stroke=\"#000000\" d=\"M3963,-608.9465C3963,-600.776 3963,-591.9318 3963,-583.3697\"/>\n<polygon fill=\"#000000\" stroke=\"#000000\" points=\"3966.5001,-583.13 3963,-573.13 3959.5001,-583.13 3966.5001,-583.13\"/>\n</g>\n<!-- 147 -->\n<g id=\"node148\" class=\"node\">\n<title>147</title>\n<polygon fill=\"none\" stroke=\"#000000\" points=\"4197,-565.5 4053,-565.5 4053,-512.5 4197,-512.5 4197,-565.5\"/>\n<text text-anchor=\"middle\" x=\"4125\" y=\"-550.3\" font-family=\"Helvetica,sans-Serif\" font-size=\"14.00\" fill=\"#000000\">squared_error = 0.0</text>\n<text text-anchor=\"middle\" x=\"4125\" y=\"-535.3\" font-family=\"Helvetica,sans-Serif\" font-size=\"14.00\" fill=\"#000000\">samples = 1</text>\n<text text-anchor=\"middle\" x=\"4125\" y=\"-520.3\" font-family=\"Helvetica,sans-Serif\" font-size=\"14.00\" fill=\"#000000\">value = &#45;0.007</text>\n</g>\n<!-- 139&#45;&gt;147 -->\n<g id=\"edge147\" class=\"edge\">\n<title>139&#45;&gt;147</title>\n<path fill=\"none\" stroke=\"#000000\" d=\"M4016.0449,-608.9465C4035.0043,-596.775 4056.2927,-583.1084 4074.9879,-571.1066\"/>\n<polygon fill=\"#000000\" stroke=\"#000000\" points=\"4077.1311,-573.8898 4083.6555,-565.5422 4073.3495,-567.9992 4077.1311,-573.8898\"/>\n</g>\n<!-- 141 -->\n<g id=\"node142\" class=\"node\">\n<title>141</title>\n<polygon fill=\"none\" stroke=\"#000000\" points=\"4035,-469 3891,-469 3891,-401 4035,-401 4035,-469\"/>\n<text text-anchor=\"middle\" x=\"3963\" y=\"-453.8\" font-family=\"Helvetica,sans-Serif\" font-size=\"14.00\" fill=\"#000000\">X[27] &lt;= 0.013</text>\n<text text-anchor=\"middle\" x=\"3963\" y=\"-438.8\" font-family=\"Helvetica,sans-Serif\" font-size=\"14.00\" fill=\"#000000\">squared_error = 0.0</text>\n<text text-anchor=\"middle\" x=\"3963\" y=\"-423.8\" font-family=\"Helvetica,sans-Serif\" font-size=\"14.00\" fill=\"#000000\">samples = 3</text>\n<text text-anchor=\"middle\" x=\"3963\" y=\"-408.8\" font-family=\"Helvetica,sans-Serif\" font-size=\"14.00\" fill=\"#000000\">value = &#45;0.014</text>\n</g>\n<!-- 140&#45;&gt;141 -->\n<g id=\"edge141\" class=\"edge\">\n<title>140&#45;&gt;141</title>\n<path fill=\"none\" stroke=\"#000000\" d=\"M3963,-504.9465C3963,-496.776 3963,-487.9318 3963,-479.3697\"/>\n<polygon fill=\"#000000\" stroke=\"#000000\" points=\"3966.5001,-479.13 3963,-469.13 3959.5001,-479.13 3966.5001,-479.13\"/>\n</g>\n<!-- 146 -->\n<g id=\"node147\" class=\"node\">\n<title>146</title>\n<polygon fill=\"none\" stroke=\"#000000\" points=\"4197,-461.5 4053,-461.5 4053,-408.5 4197,-408.5 4197,-461.5\"/>\n<text text-anchor=\"middle\" x=\"4125\" y=\"-446.3\" font-family=\"Helvetica,sans-Serif\" font-size=\"14.00\" fill=\"#000000\">squared_error = 0.0</text>\n<text text-anchor=\"middle\" x=\"4125\" y=\"-431.3\" font-family=\"Helvetica,sans-Serif\" font-size=\"14.00\" fill=\"#000000\">samples = 1</text>\n<text text-anchor=\"middle\" x=\"4125\" y=\"-416.3\" font-family=\"Helvetica,sans-Serif\" font-size=\"14.00\" fill=\"#000000\">value = &#45;0.019</text>\n</g>\n<!-- 140&#45;&gt;146 -->\n<g id=\"edge146\" class=\"edge\">\n<title>140&#45;&gt;146</title>\n<path fill=\"none\" stroke=\"#000000\" d=\"M4016.0449,-504.9465C4035.0043,-492.775 4056.2927,-479.1084 4074.9879,-467.1066\"/>\n<polygon fill=\"#000000\" stroke=\"#000000\" points=\"4077.1311,-469.8898 4083.6555,-461.5422 4073.3495,-463.9992 4077.1311,-469.8898\"/>\n</g>\n<!-- 142 -->\n<g id=\"node143\" class=\"node\">\n<title>142</title>\n<polygon fill=\"none\" stroke=\"#000000\" points=\"3984,-365 3840,-365 3840,-297 3984,-297 3984,-365\"/>\n<text text-anchor=\"middle\" x=\"3912\" y=\"-349.8\" font-family=\"Helvetica,sans-Serif\" font-size=\"14.00\" fill=\"#000000\">X[15] &lt;= &#45;0.008</text>\n<text text-anchor=\"middle\" x=\"3912\" y=\"-334.8\" font-family=\"Helvetica,sans-Serif\" font-size=\"14.00\" fill=\"#000000\">squared_error = 0.0</text>\n<text text-anchor=\"middle\" x=\"3912\" y=\"-319.8\" font-family=\"Helvetica,sans-Serif\" font-size=\"14.00\" fill=\"#000000\">samples = 2</text>\n<text text-anchor=\"middle\" x=\"3912\" y=\"-304.8\" font-family=\"Helvetica,sans-Serif\" font-size=\"14.00\" fill=\"#000000\">value = &#45;0.014</text>\n</g>\n<!-- 141&#45;&gt;142 -->\n<g id=\"edge142\" class=\"edge\">\n<title>141&#45;&gt;142</title>\n<path fill=\"none\" stroke=\"#000000\" d=\"M3946.3007,-400.9465C3942.1179,-392.4169 3937.575,-383.153 3933.2054,-374.2424\"/>\n<polygon fill=\"#000000\" stroke=\"#000000\" points=\"3936.2823,-372.5675 3928.7368,-365.13 3929.9973,-375.6496 3936.2823,-372.5675\"/>\n</g>\n<!-- 145 -->\n<g id=\"node146\" class=\"node\">\n<title>145</title>\n<polygon fill=\"none\" stroke=\"#000000\" points=\"4151.5,-357.5 4002.5,-357.5 4002.5,-304.5 4151.5,-304.5 4151.5,-357.5\"/>\n<text text-anchor=\"middle\" x=\"4077\" y=\"-342.3\" font-family=\"Helvetica,sans-Serif\" font-size=\"14.00\" fill=\"#000000\">squared_error = &#45;0.0</text>\n<text text-anchor=\"middle\" x=\"4077\" y=\"-327.3\" font-family=\"Helvetica,sans-Serif\" font-size=\"14.00\" fill=\"#000000\">samples = 1</text>\n<text text-anchor=\"middle\" x=\"4077\" y=\"-312.3\" font-family=\"Helvetica,sans-Serif\" font-size=\"14.00\" fill=\"#000000\">value = &#45;0.013</text>\n</g>\n<!-- 141&#45;&gt;145 -->\n<g id=\"edge145\" class=\"edge\">\n<title>141&#45;&gt;145</title>\n<path fill=\"none\" stroke=\"#000000\" d=\"M4000.3279,-400.9465C4013.1263,-389.2707 4027.433,-376.219 4040.1901,-364.5809\"/>\n<polygon fill=\"#000000\" stroke=\"#000000\" points=\"4042.8769,-366.8675 4047.9057,-357.5422 4038.1591,-361.6961 4042.8769,-366.8675\"/>\n</g>\n<!-- 143 -->\n<g id=\"node144\" class=\"node\">\n<title>143</title>\n<polygon fill=\"none\" stroke=\"#000000\" points=\"3885,-253.5 3741,-253.5 3741,-200.5 3885,-200.5 3885,-253.5\"/>\n<text text-anchor=\"middle\" x=\"3813\" y=\"-238.3\" font-family=\"Helvetica,sans-Serif\" font-size=\"14.00\" fill=\"#000000\">squared_error = 0.0</text>\n<text text-anchor=\"middle\" x=\"3813\" y=\"-223.3\" font-family=\"Helvetica,sans-Serif\" font-size=\"14.00\" fill=\"#000000\">samples = 1</text>\n<text text-anchor=\"middle\" x=\"3813\" y=\"-208.3\" font-family=\"Helvetica,sans-Serif\" font-size=\"14.00\" fill=\"#000000\">value = &#45;0.014</text>\n</g>\n<!-- 142&#45;&gt;143 -->\n<g id=\"edge143\" class=\"edge\">\n<title>142&#45;&gt;143</title>\n<path fill=\"none\" stroke=\"#000000\" d=\"M3879.5837,-296.9465C3868.5741,-285.3809 3856.2793,-272.4652 3845.2804,-260.9107\"/>\n<polygon fill=\"#000000\" stroke=\"#000000\" points=\"3847.696,-258.372 3838.2661,-253.5422 3842.6259,-263.1984 3847.696,-258.372\"/>\n</g>\n<!-- 144 -->\n<g id=\"node145\" class=\"node\">\n<title>144</title>\n<polygon fill=\"none\" stroke=\"#000000\" points=\"4047,-253.5 3903,-253.5 3903,-200.5 4047,-200.5 4047,-253.5\"/>\n<text text-anchor=\"middle\" x=\"3975\" y=\"-238.3\" font-family=\"Helvetica,sans-Serif\" font-size=\"14.00\" fill=\"#000000\">squared_error = 0.0</text>\n<text text-anchor=\"middle\" x=\"3975\" y=\"-223.3\" font-family=\"Helvetica,sans-Serif\" font-size=\"14.00\" fill=\"#000000\">samples = 1</text>\n<text text-anchor=\"middle\" x=\"3975\" y=\"-208.3\" font-family=\"Helvetica,sans-Serif\" font-size=\"14.00\" fill=\"#000000\">value = &#45;0.014</text>\n</g>\n<!-- 142&#45;&gt;144 -->\n<g id=\"edge144\" class=\"edge\">\n<title>142&#45;&gt;144</title>\n<path fill=\"none\" stroke=\"#000000\" d=\"M3932.6286,-296.9465C3939.3678,-285.8215 3946.8637,-273.4473 3953.6545,-262.237\"/>\n<polygon fill=\"#000000\" stroke=\"#000000\" points=\"3956.7339,-263.9087 3958.9216,-253.5422 3950.7467,-260.2818 3956.7339,-263.9087\"/>\n</g>\n<!-- 150 -->\n<g id=\"node151\" class=\"node\">\n<title>150</title>\n<polygon fill=\"none\" stroke=\"#000000\" points=\"3710,-989 3566,-989 3566,-921 3710,-921 3710,-989\"/>\n<text text-anchor=\"middle\" x=\"3638\" y=\"-973.8\" font-family=\"Helvetica,sans-Serif\" font-size=\"14.00\" fill=\"#000000\">X[33] &lt;= &#45;0.033</text>\n<text text-anchor=\"middle\" x=\"3638\" y=\"-958.8\" font-family=\"Helvetica,sans-Serif\" font-size=\"14.00\" fill=\"#000000\">squared_error = 0.0</text>\n<text text-anchor=\"middle\" x=\"3638\" y=\"-943.8\" font-family=\"Helvetica,sans-Serif\" font-size=\"14.00\" fill=\"#000000\">samples = 2</text>\n<text text-anchor=\"middle\" x=\"3638\" y=\"-928.8\" font-family=\"Helvetica,sans-Serif\" font-size=\"14.00\" fill=\"#000000\">value = &#45;0.044</text>\n</g>\n<!-- 149&#45;&gt;150 -->\n<g id=\"edge150\" class=\"edge\">\n<title>149&#45;&gt;150</title>\n<path fill=\"none\" stroke=\"#000000\" d=\"M3638,-1024.9465C3638,-1016.776 3638,-1007.9318 3638,-999.3697\"/>\n<polygon fill=\"#000000\" stroke=\"#000000\" points=\"3641.5001,-999.13 3638,-989.13 3634.5001,-999.13 3641.5001,-999.13\"/>\n</g>\n<!-- 153 -->\n<g id=\"node154\" class=\"node\">\n<title>153</title>\n<polygon fill=\"none\" stroke=\"#000000\" points=\"3957,-989 3813,-989 3813,-921 3957,-921 3957,-989\"/>\n<text text-anchor=\"middle\" x=\"3885\" y=\"-973.8\" font-family=\"Helvetica,sans-Serif\" font-size=\"14.00\" fill=\"#000000\">X[31] &lt;= 0.002</text>\n<text text-anchor=\"middle\" x=\"3885\" y=\"-958.8\" font-family=\"Helvetica,sans-Serif\" font-size=\"14.00\" fill=\"#000000\">squared_error = 0.0</text>\n<text text-anchor=\"middle\" x=\"3885\" y=\"-943.8\" font-family=\"Helvetica,sans-Serif\" font-size=\"14.00\" fill=\"#000000\">samples = 4</text>\n<text text-anchor=\"middle\" x=\"3885\" y=\"-928.8\" font-family=\"Helvetica,sans-Serif\" font-size=\"14.00\" fill=\"#000000\">value = &#45;0.008</text>\n</g>\n<!-- 149&#45;&gt;153 -->\n<g id=\"edge153\" class=\"edge\">\n<title>149&#45;&gt;153</title>\n<path fill=\"none\" stroke=\"#000000\" d=\"M3710.1066,-1028.6393C3739.3996,-1016.3054 3773.3877,-1001.9947 3803.5688,-989.2868\"/>\n<polygon fill=\"#000000\" stroke=\"#000000\" points=\"3804.9456,-992.5048 3812.8038,-985.3984 3802.2292,-986.0533 3804.9456,-992.5048\"/>\n</g>\n<!-- 151 -->\n<g id=\"node152\" class=\"node\">\n<title>151</title>\n<polygon fill=\"none\" stroke=\"#000000\" points=\"3627,-877.5 3483,-877.5 3483,-824.5 3627,-824.5 3627,-877.5\"/>\n<text text-anchor=\"middle\" x=\"3555\" y=\"-862.3\" font-family=\"Helvetica,sans-Serif\" font-size=\"14.00\" fill=\"#000000\">squared_error = 0.0</text>\n<text text-anchor=\"middle\" x=\"3555\" y=\"-847.3\" font-family=\"Helvetica,sans-Serif\" font-size=\"14.00\" fill=\"#000000\">samples = 1</text>\n<text text-anchor=\"middle\" x=\"3555\" y=\"-832.3\" font-family=\"Helvetica,sans-Serif\" font-size=\"14.00\" fill=\"#000000\">value = &#45;0.041</text>\n</g>\n<!-- 150&#45;&gt;151 -->\n<g id=\"edge151\" class=\"edge\">\n<title>150&#45;&gt;151</title>\n<path fill=\"none\" stroke=\"#000000\" d=\"M3610.8227,-920.9465C3601.7682,-909.6012 3591.677,-896.9567 3582.5914,-885.5724\"/>\n<polygon fill=\"#000000\" stroke=\"#000000\" points=\"3585.1561,-883.175 3576.1827,-877.5422 3579.6849,-887.5414 3585.1561,-883.175\"/>\n</g>\n<!-- 152 -->\n<g id=\"node153\" class=\"node\">\n<title>152</title>\n<polygon fill=\"none\" stroke=\"#000000\" points=\"3794.5,-877.5 3645.5,-877.5 3645.5,-824.5 3794.5,-824.5 3794.5,-877.5\"/>\n<text text-anchor=\"middle\" x=\"3720\" y=\"-862.3\" font-family=\"Helvetica,sans-Serif\" font-size=\"14.00\" fill=\"#000000\">squared_error = &#45;0.0</text>\n<text text-anchor=\"middle\" x=\"3720\" y=\"-847.3\" font-family=\"Helvetica,sans-Serif\" font-size=\"14.00\" fill=\"#000000\">samples = 1</text>\n<text text-anchor=\"middle\" x=\"3720\" y=\"-832.3\" font-family=\"Helvetica,sans-Serif\" font-size=\"14.00\" fill=\"#000000\">value = &#45;0.047</text>\n</g>\n<!-- 150&#45;&gt;152 -->\n<g id=\"edge152\" class=\"edge\">\n<title>150&#45;&gt;152</title>\n<path fill=\"none\" stroke=\"#000000\" d=\"M3664.8499,-920.9465C3673.7952,-909.6012 3683.7649,-896.9567 3692.741,-885.5724\"/>\n<polygon fill=\"#000000\" stroke=\"#000000\" points=\"3695.6294,-887.5619 3699.0725,-877.5422 3690.1325,-883.2278 3695.6294,-887.5619\"/>\n</g>\n<!-- 154 -->\n<g id=\"node155\" class=\"node\">\n<title>154</title>\n<polygon fill=\"none\" stroke=\"#000000\" points=\"3957,-885 3813,-885 3813,-817 3957,-817 3957,-885\"/>\n<text text-anchor=\"middle\" x=\"3885\" y=\"-869.8\" font-family=\"Helvetica,sans-Serif\" font-size=\"14.00\" fill=\"#000000\">X[27] &lt;= &#45;0.012</text>\n<text text-anchor=\"middle\" x=\"3885\" y=\"-854.8\" font-family=\"Helvetica,sans-Serif\" font-size=\"14.00\" fill=\"#000000\">squared_error = 0.0</text>\n<text text-anchor=\"middle\" x=\"3885\" y=\"-839.8\" font-family=\"Helvetica,sans-Serif\" font-size=\"14.00\" fill=\"#000000\">samples = 2</text>\n<text text-anchor=\"middle\" x=\"3885\" y=\"-824.8\" font-family=\"Helvetica,sans-Serif\" font-size=\"14.00\" fill=\"#000000\">value = 0.001</text>\n</g>\n<!-- 153&#45;&gt;154 -->\n<g id=\"edge154\" class=\"edge\">\n<title>153&#45;&gt;154</title>\n<path fill=\"none\" stroke=\"#000000\" d=\"M3885,-920.9465C3885,-912.776 3885,-903.9318 3885,-895.3697\"/>\n<polygon fill=\"#000000\" stroke=\"#000000\" points=\"3888.5001,-895.13 3885,-885.13 3881.5001,-895.13 3888.5001,-895.13\"/>\n</g>\n<!-- 157 -->\n<g id=\"node158\" class=\"node\">\n<title>157</title>\n<polygon fill=\"none\" stroke=\"#000000\" points=\"4119,-885 3975,-885 3975,-817 4119,-817 4119,-885\"/>\n<text text-anchor=\"middle\" x=\"4047\" y=\"-869.8\" font-family=\"Helvetica,sans-Serif\" font-size=\"14.00\" fill=\"#000000\">X[25] &lt;= &#45;0.002</text>\n<text text-anchor=\"middle\" x=\"4047\" y=\"-854.8\" font-family=\"Helvetica,sans-Serif\" font-size=\"14.00\" fill=\"#000000\">squared_error = 0.0</text>\n<text text-anchor=\"middle\" x=\"4047\" y=\"-839.8\" font-family=\"Helvetica,sans-Serif\" font-size=\"14.00\" fill=\"#000000\">samples = 2</text>\n<text text-anchor=\"middle\" x=\"4047\" y=\"-824.8\" font-family=\"Helvetica,sans-Serif\" font-size=\"14.00\" fill=\"#000000\">value = &#45;0.016</text>\n</g>\n<!-- 153&#45;&gt;157 -->\n<g id=\"edge157\" class=\"edge\">\n<title>153&#45;&gt;157</title>\n<path fill=\"none\" stroke=\"#000000\" d=\"M3938.0449,-920.9465C3953.1495,-911.2497 3969.7324,-900.6039 3985.3046,-890.6069\"/>\n<polygon fill=\"#000000\" stroke=\"#000000\" points=\"3987.3116,-893.4777 3993.836,-885.13 3983.53,-887.5871 3987.3116,-893.4777\"/>\n</g>\n<!-- 155 -->\n<g id=\"node156\" class=\"node\">\n<title>155</title>\n<polygon fill=\"none\" stroke=\"#000000\" points=\"3795,-773.5 3651,-773.5 3651,-720.5 3795,-720.5 3795,-773.5\"/>\n<text text-anchor=\"middle\" x=\"3723\" y=\"-758.3\" font-family=\"Helvetica,sans-Serif\" font-size=\"14.00\" fill=\"#000000\">squared_error = 0.0</text>\n<text text-anchor=\"middle\" x=\"3723\" y=\"-743.3\" font-family=\"Helvetica,sans-Serif\" font-size=\"14.00\" fill=\"#000000\">samples = 1</text>\n<text text-anchor=\"middle\" x=\"3723\" y=\"-728.3\" font-family=\"Helvetica,sans-Serif\" font-size=\"14.00\" fill=\"#000000\">value = 0.003</text>\n</g>\n<!-- 154&#45;&gt;155 -->\n<g id=\"edge155\" class=\"edge\">\n<title>154&#45;&gt;155</title>\n<path fill=\"none\" stroke=\"#000000\" d=\"M3831.9551,-816.9465C3812.9957,-804.775 3791.7073,-791.1084 3773.0121,-779.1066\"/>\n<polygon fill=\"#000000\" stroke=\"#000000\" points=\"3774.6505,-775.9992 3764.3445,-773.5422 3770.8689,-781.8898 3774.6505,-775.9992\"/>\n</g>\n<!-- 156 -->\n<g id=\"node157\" class=\"node\">\n<title>156</title>\n<polygon fill=\"none\" stroke=\"#000000\" points=\"3957,-773.5 3813,-773.5 3813,-720.5 3957,-720.5 3957,-773.5\"/>\n<text text-anchor=\"middle\" x=\"3885\" y=\"-758.3\" font-family=\"Helvetica,sans-Serif\" font-size=\"14.00\" fill=\"#000000\">squared_error = 0.0</text>\n<text text-anchor=\"middle\" x=\"3885\" y=\"-743.3\" font-family=\"Helvetica,sans-Serif\" font-size=\"14.00\" fill=\"#000000\">samples = 1</text>\n<text text-anchor=\"middle\" x=\"3885\" y=\"-728.3\" font-family=\"Helvetica,sans-Serif\" font-size=\"14.00\" fill=\"#000000\">value = &#45;0.002</text>\n</g>\n<!-- 154&#45;&gt;156 -->\n<g id=\"edge156\" class=\"edge\">\n<title>154&#45;&gt;156</title>\n<path fill=\"none\" stroke=\"#000000\" d=\"M3885,-816.9465C3885,-806.2621 3885,-794.4254 3885,-783.5742\"/>\n<polygon fill=\"#000000\" stroke=\"#000000\" points=\"3888.5001,-783.5421 3885,-773.5422 3881.5001,-783.5422 3888.5001,-783.5421\"/>\n</g>\n<!-- 158 -->\n<g id=\"node159\" class=\"node\">\n<title>158</title>\n<polygon fill=\"none\" stroke=\"#000000\" points=\"4119,-773.5 3975,-773.5 3975,-720.5 4119,-720.5 4119,-773.5\"/>\n<text text-anchor=\"middle\" x=\"4047\" y=\"-758.3\" font-family=\"Helvetica,sans-Serif\" font-size=\"14.00\" fill=\"#000000\">squared_error = 0.0</text>\n<text text-anchor=\"middle\" x=\"4047\" y=\"-743.3\" font-family=\"Helvetica,sans-Serif\" font-size=\"14.00\" fill=\"#000000\">samples = 1</text>\n<text text-anchor=\"middle\" x=\"4047\" y=\"-728.3\" font-family=\"Helvetica,sans-Serif\" font-size=\"14.00\" fill=\"#000000\">value = &#45;0.021</text>\n</g>\n<!-- 157&#45;&gt;158 -->\n<g id=\"edge158\" class=\"edge\">\n<title>157&#45;&gt;158</title>\n<path fill=\"none\" stroke=\"#000000\" d=\"M4047,-816.9465C4047,-806.2621 4047,-794.4254 4047,-783.5742\"/>\n<polygon fill=\"#000000\" stroke=\"#000000\" points=\"4050.5001,-783.5421 4047,-773.5422 4043.5001,-783.5422 4050.5001,-783.5421\"/>\n</g>\n<!-- 159 -->\n<g id=\"node160\" class=\"node\">\n<title>159</title>\n<polygon fill=\"none\" stroke=\"#000000\" points=\"4286.5,-773.5 4137.5,-773.5 4137.5,-720.5 4286.5,-720.5 4286.5,-773.5\"/>\n<text text-anchor=\"middle\" x=\"4212\" y=\"-758.3\" font-family=\"Helvetica,sans-Serif\" font-size=\"14.00\" fill=\"#000000\">squared_error = &#45;0.0</text>\n<text text-anchor=\"middle\" x=\"4212\" y=\"-743.3\" font-family=\"Helvetica,sans-Serif\" font-size=\"14.00\" fill=\"#000000\">samples = 1</text>\n<text text-anchor=\"middle\" x=\"4212\" y=\"-728.3\" font-family=\"Helvetica,sans-Serif\" font-size=\"14.00\" fill=\"#000000\">value = &#45;0.011</text>\n</g>\n<!-- 157&#45;&gt;159 -->\n<g id=\"edge159\" class=\"edge\">\n<title>157&#45;&gt;159</title>\n<path fill=\"none\" stroke=\"#000000\" d=\"M4101.0272,-816.9465C4120.4251,-804.72 4142.2166,-790.9847 4161.32,-778.9437\"/>\n<polygon fill=\"#000000\" stroke=\"#000000\" points=\"4163.2964,-781.8353 4169.8898,-773.5422 4159.5638,-775.9135 4163.2964,-781.8353\"/>\n</g>\n<!-- 161 -->\n<g id=\"node162\" class=\"node\">\n<title>161</title>\n<polygon fill=\"none\" stroke=\"#000000\" points=\"4764,-1197 4620,-1197 4620,-1129 4764,-1129 4764,-1197\"/>\n<text text-anchor=\"middle\" x=\"4692\" y=\"-1181.8\" font-family=\"Helvetica,sans-Serif\" font-size=\"14.00\" fill=\"#000000\">X[30] &lt;= 0.003</text>\n<text text-anchor=\"middle\" x=\"4692\" y=\"-1166.8\" font-family=\"Helvetica,sans-Serif\" font-size=\"14.00\" fill=\"#000000\">squared_error = 0.0</text>\n<text text-anchor=\"middle\" x=\"4692\" y=\"-1151.8\" font-family=\"Helvetica,sans-Serif\" font-size=\"14.00\" fill=\"#000000\">samples = 13</text>\n<text text-anchor=\"middle\" x=\"4692\" y=\"-1136.8\" font-family=\"Helvetica,sans-Serif\" font-size=\"14.00\" fill=\"#000000\">value = &#45;0.021</text>\n</g>\n<!-- 160&#45;&gt;161 -->\n<g id=\"edge161\" class=\"edge\">\n<title>160&#45;&gt;161</title>\n<path fill=\"none\" stroke=\"#000000\" d=\"M4747.8227,-1232.9465C4740.7288,-1224.0578 4732.9985,-1214.3716 4725.614,-1205.1188\"/>\n<polygon fill=\"#000000\" stroke=\"#000000\" points=\"4728.2118,-1202.7628 4719.2384,-1197.13 4722.7406,-1207.1293 4728.2118,-1202.7628\"/>\n</g>\n<!-- 186 -->\n<g id=\"node187\" class=\"node\">\n<title>186</title>\n<polygon fill=\"none\" stroke=\"#000000\" points=\"4931.5,-1189.5 4782.5,-1189.5 4782.5,-1136.5 4931.5,-1136.5 4931.5,-1189.5\"/>\n<text text-anchor=\"middle\" x=\"4857\" y=\"-1174.3\" font-family=\"Helvetica,sans-Serif\" font-size=\"14.00\" fill=\"#000000\">squared_error = &#45;0.0</text>\n<text text-anchor=\"middle\" x=\"4857\" y=\"-1159.3\" font-family=\"Helvetica,sans-Serif\" font-size=\"14.00\" fill=\"#000000\">samples = 1</text>\n<text text-anchor=\"middle\" x=\"4857\" y=\"-1144.3\" font-family=\"Helvetica,sans-Serif\" font-size=\"14.00\" fill=\"#000000\">value = &#45;0.06</text>\n</g>\n<!-- 160&#45;&gt;186 -->\n<g id=\"edge186\" class=\"edge\">\n<title>160&#45;&gt;186</title>\n<path fill=\"none\" stroke=\"#000000\" d=\"M4801.8499,-1232.9465C4810.7952,-1221.6012 4820.7649,-1208.9567 4829.741,-1197.5724\"/>\n<polygon fill=\"#000000\" stroke=\"#000000\" points=\"4832.6294,-1199.5619 4836.0725,-1189.5422 4827.1325,-1195.2278 4832.6294,-1199.5619\"/>\n</g>\n<!-- 162 -->\n<g id=\"node163\" class=\"node\">\n<title>162</title>\n<polygon fill=\"none\" stroke=\"#000000\" points=\"4686,-1093 4542,-1093 4542,-1025 4686,-1025 4686,-1093\"/>\n<text text-anchor=\"middle\" x=\"4614\" y=\"-1077.8\" font-family=\"Helvetica,sans-Serif\" font-size=\"14.00\" fill=\"#000000\">X[1] &lt;= &#45;0.017</text>\n<text text-anchor=\"middle\" x=\"4614\" y=\"-1062.8\" font-family=\"Helvetica,sans-Serif\" font-size=\"14.00\" fill=\"#000000\">squared_error = 0.0</text>\n<text text-anchor=\"middle\" x=\"4614\" y=\"-1047.8\" font-family=\"Helvetica,sans-Serif\" font-size=\"14.00\" fill=\"#000000\">samples = 5</text>\n<text text-anchor=\"middle\" x=\"4614\" y=\"-1032.8\" font-family=\"Helvetica,sans-Serif\" font-size=\"14.00\" fill=\"#000000\">value = &#45;0.011</text>\n</g>\n<!-- 161&#45;&gt;162 -->\n<g id=\"edge162\" class=\"edge\">\n<title>161&#45;&gt;162</title>\n<path fill=\"none\" stroke=\"#000000\" d=\"M4666.4599,-1128.9465C4659.8607,-1120.1475 4652.6754,-1110.5672 4645.7995,-1101.3993\"/>\n<polygon fill=\"#000000\" stroke=\"#000000\" points=\"4648.3975,-1099.03 4639.5975,-1093.13 4642.7975,-1103.23 4648.3975,-1099.03\"/>\n</g>\n<!-- 171 -->\n<g id=\"node172\" class=\"node\">\n<title>171</title>\n<polygon fill=\"none\" stroke=\"#000000\" points=\"4929,-1093 4785,-1093 4785,-1025 4929,-1025 4929,-1093\"/>\n<text text-anchor=\"middle\" x=\"4857\" y=\"-1077.8\" font-family=\"Helvetica,sans-Serif\" font-size=\"14.00\" fill=\"#000000\">X[25] &lt;= &#45;0.021</text>\n<text text-anchor=\"middle\" x=\"4857\" y=\"-1062.8\" font-family=\"Helvetica,sans-Serif\" font-size=\"14.00\" fill=\"#000000\">squared_error = 0.0</text>\n<text text-anchor=\"middle\" x=\"4857\" y=\"-1047.8\" font-family=\"Helvetica,sans-Serif\" font-size=\"14.00\" fill=\"#000000\">samples = 8</text>\n<text text-anchor=\"middle\" x=\"4857\" y=\"-1032.8\" font-family=\"Helvetica,sans-Serif\" font-size=\"14.00\" fill=\"#000000\">value = &#45;0.027</text>\n</g>\n<!-- 161&#45;&gt;171 -->\n<g id=\"edge171\" class=\"edge\">\n<title>161&#45;&gt;171</title>\n<path fill=\"none\" stroke=\"#000000\" d=\"M4746.0272,-1128.9465C4761.4115,-1119.2497 4778.3016,-1108.6039 4794.1621,-1098.6069\"/>\n<polygon fill=\"#000000\" stroke=\"#000000\" points=\"4796.258,-1101.4232 4802.8514,-1093.13 4792.5254,-1095.5013 4796.258,-1101.4232\"/>\n</g>\n<!-- 163 -->\n<g id=\"node164\" class=\"node\">\n<title>163</title>\n<polygon fill=\"none\" stroke=\"#000000\" points=\"4443,-989 4299,-989 4299,-921 4443,-921 4443,-989\"/>\n<text text-anchor=\"middle\" x=\"4371\" y=\"-973.8\" font-family=\"Helvetica,sans-Serif\" font-size=\"14.00\" fill=\"#000000\">X[27] &lt;= &#45;0.029</text>\n<text text-anchor=\"middle\" x=\"4371\" y=\"-958.8\" font-family=\"Helvetica,sans-Serif\" font-size=\"14.00\" fill=\"#000000\">squared_error = 0.0</text>\n<text text-anchor=\"middle\" x=\"4371\" y=\"-943.8\" font-family=\"Helvetica,sans-Serif\" font-size=\"14.00\" fill=\"#000000\">samples = 2</text>\n<text text-anchor=\"middle\" x=\"4371\" y=\"-928.8\" font-family=\"Helvetica,sans-Serif\" font-size=\"14.00\" fill=\"#000000\">value = &#45;0.004</text>\n</g>\n<!-- 162&#45;&gt;163 -->\n<g id=\"edge163\" class=\"edge\">\n<title>162&#45;&gt;163</title>\n<path fill=\"none\" stroke=\"#000000\" d=\"M4541.7499,-1028.0782C4513.7247,-1016.0838 4481.4914,-1002.2885 4452.6328,-989.9375\"/>\n<polygon fill=\"#000000\" stroke=\"#000000\" points=\"4453.9619,-986.6993 4443.3913,-985.9823 4451.2076,-993.1347 4453.9619,-986.6993\"/>\n</g>\n<!-- 166 -->\n<g id=\"node167\" class=\"node\">\n<title>166</title>\n<polygon fill=\"none\" stroke=\"#000000\" points=\"4686,-989 4542,-989 4542,-921 4686,-921 4686,-989\"/>\n<text text-anchor=\"middle\" x=\"4614\" y=\"-973.8\" font-family=\"Helvetica,sans-Serif\" font-size=\"14.00\" fill=\"#000000\">X[26] &lt;= &#45;0.0</text>\n<text text-anchor=\"middle\" x=\"4614\" y=\"-958.8\" font-family=\"Helvetica,sans-Serif\" font-size=\"14.00\" fill=\"#000000\">squared_error = 0.0</text>\n<text text-anchor=\"middle\" x=\"4614\" y=\"-943.8\" font-family=\"Helvetica,sans-Serif\" font-size=\"14.00\" fill=\"#000000\">samples = 3</text>\n<text text-anchor=\"middle\" x=\"4614\" y=\"-928.8\" font-family=\"Helvetica,sans-Serif\" font-size=\"14.00\" fill=\"#000000\">value = &#45;0.016</text>\n</g>\n<!-- 162&#45;&gt;166 -->\n<g id=\"edge166\" class=\"edge\">\n<title>162&#45;&gt;166</title>\n<path fill=\"none\" stroke=\"#000000\" d=\"M4614,-1024.9465C4614,-1016.776 4614,-1007.9318 4614,-999.3697\"/>\n<polygon fill=\"#000000\" stroke=\"#000000\" points=\"4617.5001,-999.13 4614,-989.13 4610.5001,-999.13 4617.5001,-999.13\"/>\n</g>\n<!-- 164 -->\n<g id=\"node165\" class=\"node\">\n<title>164</title>\n<polygon fill=\"none\" stroke=\"#000000\" points=\"4281,-877.5 4137,-877.5 4137,-824.5 4281,-824.5 4281,-877.5\"/>\n<text text-anchor=\"middle\" x=\"4209\" y=\"-862.3\" font-family=\"Helvetica,sans-Serif\" font-size=\"14.00\" fill=\"#000000\">squared_error = 0.0</text>\n<text text-anchor=\"middle\" x=\"4209\" y=\"-847.3\" font-family=\"Helvetica,sans-Serif\" font-size=\"14.00\" fill=\"#000000\">samples = 1</text>\n<text text-anchor=\"middle\" x=\"4209\" y=\"-832.3\" font-family=\"Helvetica,sans-Serif\" font-size=\"14.00\" fill=\"#000000\">value = &#45;0.0</text>\n</g>\n<!-- 163&#45;&gt;164 -->\n<g id=\"edge164\" class=\"edge\">\n<title>163&#45;&gt;164</title>\n<path fill=\"none\" stroke=\"#000000\" d=\"M4317.9551,-920.9465C4298.9957,-908.775 4277.7073,-895.1084 4259.0121,-883.1066\"/>\n<polygon fill=\"#000000\" stroke=\"#000000\" points=\"4260.6505,-879.9992 4250.3445,-877.5422 4256.8689,-885.8898 4260.6505,-879.9992\"/>\n</g>\n<!-- 165 -->\n<g id=\"node166\" class=\"node\">\n<title>165</title>\n<polygon fill=\"none\" stroke=\"#000000\" points=\"4443,-877.5 4299,-877.5 4299,-824.5 4443,-824.5 4443,-877.5\"/>\n<text text-anchor=\"middle\" x=\"4371\" y=\"-862.3\" font-family=\"Helvetica,sans-Serif\" font-size=\"14.00\" fill=\"#000000\">squared_error = 0.0</text>\n<text text-anchor=\"middle\" x=\"4371\" y=\"-847.3\" font-family=\"Helvetica,sans-Serif\" font-size=\"14.00\" fill=\"#000000\">samples = 1</text>\n<text text-anchor=\"middle\" x=\"4371\" y=\"-832.3\" font-family=\"Helvetica,sans-Serif\" font-size=\"14.00\" fill=\"#000000\">value = &#45;0.008</text>\n</g>\n<!-- 163&#45;&gt;165 -->\n<g id=\"edge165\" class=\"edge\">\n<title>163&#45;&gt;165</title>\n<path fill=\"none\" stroke=\"#000000\" d=\"M4371,-920.9465C4371,-910.2621 4371,-898.4254 4371,-887.5742\"/>\n<polygon fill=\"#000000\" stroke=\"#000000\" points=\"4374.5001,-887.5421 4371,-877.5422 4367.5001,-887.5422 4374.5001,-887.5421\"/>\n</g>\n<!-- 167 -->\n<g id=\"node168\" class=\"node\">\n<title>167</title>\n<polygon fill=\"none\" stroke=\"#000000\" points=\"4605,-877.5 4461,-877.5 4461,-824.5 4605,-824.5 4605,-877.5\"/>\n<text text-anchor=\"middle\" x=\"4533\" y=\"-862.3\" font-family=\"Helvetica,sans-Serif\" font-size=\"14.00\" fill=\"#000000\">squared_error = 0.0</text>\n<text text-anchor=\"middle\" x=\"4533\" y=\"-847.3\" font-family=\"Helvetica,sans-Serif\" font-size=\"14.00\" fill=\"#000000\">samples = 1</text>\n<text text-anchor=\"middle\" x=\"4533\" y=\"-832.3\" font-family=\"Helvetica,sans-Serif\" font-size=\"14.00\" fill=\"#000000\">value = &#45;0.019</text>\n</g>\n<!-- 166&#45;&gt;167 -->\n<g id=\"edge167\" class=\"edge\">\n<title>166&#45;&gt;167</title>\n<path fill=\"none\" stroke=\"#000000\" d=\"M4587.4776,-920.9465C4578.6413,-909.6012 4568.7932,-896.9567 4559.9266,-885.5724\"/>\n<polygon fill=\"#000000\" stroke=\"#000000\" points=\"4562.5783,-883.281 4553.6723,-877.5422 4557.0556,-887.5823 4562.5783,-883.281\"/>\n</g>\n<!-- 168 -->\n<g id=\"node169\" class=\"node\">\n<title>168</title>\n<polygon fill=\"none\" stroke=\"#000000\" points=\"4767,-885 4623,-885 4623,-817 4767,-817 4767,-885\"/>\n<text text-anchor=\"middle\" x=\"4695\" y=\"-869.8\" font-family=\"Helvetica,sans-Serif\" font-size=\"14.00\" fill=\"#000000\">X[1] &lt;= &#45;0.002</text>\n<text text-anchor=\"middle\" x=\"4695\" y=\"-854.8\" font-family=\"Helvetica,sans-Serif\" font-size=\"14.00\" fill=\"#000000\">squared_error = 0.0</text>\n<text text-anchor=\"middle\" x=\"4695\" y=\"-839.8\" font-family=\"Helvetica,sans-Serif\" font-size=\"14.00\" fill=\"#000000\">samples = 2</text>\n<text text-anchor=\"middle\" x=\"4695\" y=\"-824.8\" font-family=\"Helvetica,sans-Serif\" font-size=\"14.00\" fill=\"#000000\">value = &#45;0.014</text>\n</g>\n<!-- 166&#45;&gt;168 -->\n<g id=\"edge168\" class=\"edge\">\n<title>166&#45;&gt;168</title>\n<path fill=\"none\" stroke=\"#000000\" d=\"M4640.5224,-920.9465C4647.4454,-912.0578 4654.9894,-902.3716 4662.196,-893.1188\"/>\n<polygon fill=\"#000000\" stroke=\"#000000\" points=\"4665.0346,-895.1701 4668.418,-885.13 4659.512,-890.8688 4665.0346,-895.1701\"/>\n</g>\n<!-- 169 -->\n<g id=\"node170\" class=\"node\">\n<title>169</title>\n<polygon fill=\"none\" stroke=\"#000000\" points=\"4686,-773.5 4542,-773.5 4542,-720.5 4686,-720.5 4686,-773.5\"/>\n<text text-anchor=\"middle\" x=\"4614\" y=\"-758.3\" font-family=\"Helvetica,sans-Serif\" font-size=\"14.00\" fill=\"#000000\">squared_error = 0.0</text>\n<text text-anchor=\"middle\" x=\"4614\" y=\"-743.3\" font-family=\"Helvetica,sans-Serif\" font-size=\"14.00\" fill=\"#000000\">samples = 1</text>\n<text text-anchor=\"middle\" x=\"4614\" y=\"-728.3\" font-family=\"Helvetica,sans-Serif\" font-size=\"14.00\" fill=\"#000000\">value = &#45;0.013</text>\n</g>\n<!-- 168&#45;&gt;169 -->\n<g id=\"edge169\" class=\"edge\">\n<title>168&#45;&gt;169</title>\n<path fill=\"none\" stroke=\"#000000\" d=\"M4668.4776,-816.9465C4659.6413,-805.6012 4649.7932,-792.9567 4640.9266,-781.5724\"/>\n<polygon fill=\"#000000\" stroke=\"#000000\" points=\"4643.5783,-779.281 4634.6723,-773.5422 4638.0556,-783.5823 4643.5783,-779.281\"/>\n</g>\n<!-- 170 -->\n<g id=\"node171\" class=\"node\">\n<title>170</title>\n<polygon fill=\"none\" stroke=\"#000000\" points=\"4848,-773.5 4704,-773.5 4704,-720.5 4848,-720.5 4848,-773.5\"/>\n<text text-anchor=\"middle\" x=\"4776\" y=\"-758.3\" font-family=\"Helvetica,sans-Serif\" font-size=\"14.00\" fill=\"#000000\">squared_error = 0.0</text>\n<text text-anchor=\"middle\" x=\"4776\" y=\"-743.3\" font-family=\"Helvetica,sans-Serif\" font-size=\"14.00\" fill=\"#000000\">samples = 1</text>\n<text text-anchor=\"middle\" x=\"4776\" y=\"-728.3\" font-family=\"Helvetica,sans-Serif\" font-size=\"14.00\" fill=\"#000000\">value = &#45;0.015</text>\n</g>\n<!-- 168&#45;&gt;170 -->\n<g id=\"edge170\" class=\"edge\">\n<title>168&#45;&gt;170</title>\n<path fill=\"none\" stroke=\"#000000\" d=\"M4721.5224,-816.9465C4730.3587,-805.6012 4740.2068,-792.9567 4749.0734,-781.5724\"/>\n<polygon fill=\"#000000\" stroke=\"#000000\" points=\"4751.9444,-783.5823 4755.3277,-773.5422 4746.4217,-779.281 4751.9444,-783.5823\"/>\n</g>\n<!-- 172 -->\n<g id=\"node173\" class=\"node\">\n<title>172</title>\n<polygon fill=\"none\" stroke=\"#000000\" points=\"4929,-989 4785,-989 4785,-921 4929,-921 4929,-989\"/>\n<text text-anchor=\"middle\" x=\"4857\" y=\"-973.8\" font-family=\"Helvetica,sans-Serif\" font-size=\"14.00\" fill=\"#000000\">X[14] &lt;= 0.005</text>\n<text text-anchor=\"middle\" x=\"4857\" y=\"-958.8\" font-family=\"Helvetica,sans-Serif\" font-size=\"14.00\" fill=\"#000000\">squared_error = 0.0</text>\n<text text-anchor=\"middle\" x=\"4857\" y=\"-943.8\" font-family=\"Helvetica,sans-Serif\" font-size=\"14.00\" fill=\"#000000\">samples = 2</text>\n<text text-anchor=\"middle\" x=\"4857\" y=\"-928.8\" font-family=\"Helvetica,sans-Serif\" font-size=\"14.00\" fill=\"#000000\">value = &#45;0.018</text>\n</g>\n<!-- 171&#45;&gt;172 -->\n<g id=\"edge172\" class=\"edge\">\n<title>171&#45;&gt;172</title>\n<path fill=\"none\" stroke=\"#000000\" d=\"M4857,-1024.9465C4857,-1016.776 4857,-1007.9318 4857,-999.3697\"/>\n<polygon fill=\"#000000\" stroke=\"#000000\" points=\"4860.5001,-999.13 4857,-989.13 4853.5001,-999.13 4860.5001,-999.13\"/>\n</g>\n<!-- 175 -->\n<g id=\"node176\" class=\"node\">\n<title>175</title>\n<polygon fill=\"none\" stroke=\"#000000\" points=\"5253,-989 5109,-989 5109,-921 5253,-921 5253,-989\"/>\n<text text-anchor=\"middle\" x=\"5181\" y=\"-973.8\" font-family=\"Helvetica,sans-Serif\" font-size=\"14.00\" fill=\"#000000\">X[16] &lt;= 0.003</text>\n<text text-anchor=\"middle\" x=\"5181\" y=\"-958.8\" font-family=\"Helvetica,sans-Serif\" font-size=\"14.00\" fill=\"#000000\">squared_error = 0.0</text>\n<text text-anchor=\"middle\" x=\"5181\" y=\"-943.8\" font-family=\"Helvetica,sans-Serif\" font-size=\"14.00\" fill=\"#000000\">samples = 6</text>\n<text text-anchor=\"middle\" x=\"5181\" y=\"-928.8\" font-family=\"Helvetica,sans-Serif\" font-size=\"14.00\" fill=\"#000000\">value = &#45;0.03</text>\n</g>\n<!-- 171&#45;&gt;175 -->\n<g id=\"edge175\" class=\"edge\">\n<title>171&#45;&gt;175</title>\n<path fill=\"none\" stroke=\"#000000\" d=\"M4929.2598,-1028.1758C4932.2017,-1027.0774 4935.1233,-1026.0142 4938,-1025 4990.8616,-1006.3636 5051.4345,-988.9058 5098.8802,-976.0861\"/>\n<polygon fill=\"#000000\" stroke=\"#000000\" points=\"5100.0481,-979.3965 5108.7978,-973.4222 5098.2322,-972.6362 5100.0481,-979.3965\"/>\n</g>\n<!-- 173 -->\n<g id=\"node174\" class=\"node\">\n<title>173</title>\n<polygon fill=\"none\" stroke=\"#000000\" points=\"4929,-877.5 4785,-877.5 4785,-824.5 4929,-824.5 4929,-877.5\"/>\n<text text-anchor=\"middle\" x=\"4857\" y=\"-862.3\" font-family=\"Helvetica,sans-Serif\" font-size=\"14.00\" fill=\"#000000\">squared_error = 0.0</text>\n<text text-anchor=\"middle\" x=\"4857\" y=\"-847.3\" font-family=\"Helvetica,sans-Serif\" font-size=\"14.00\" fill=\"#000000\">samples = 1</text>\n<text text-anchor=\"middle\" x=\"4857\" y=\"-832.3\" font-family=\"Helvetica,sans-Serif\" font-size=\"14.00\" fill=\"#000000\">value = &#45;0.019</text>\n</g>\n<!-- 172&#45;&gt;173 -->\n<g id=\"edge173\" class=\"edge\">\n<title>172&#45;&gt;173</title>\n<path fill=\"none\" stroke=\"#000000\" d=\"M4857,-920.9465C4857,-910.2621 4857,-898.4254 4857,-887.5742\"/>\n<polygon fill=\"#000000\" stroke=\"#000000\" points=\"4860.5001,-887.5421 4857,-877.5422 4853.5001,-887.5422 4860.5001,-887.5421\"/>\n</g>\n<!-- 174 -->\n<g id=\"node175\" class=\"node\">\n<title>174</title>\n<polygon fill=\"none\" stroke=\"#000000\" points=\"5091,-877.5 4947,-877.5 4947,-824.5 5091,-824.5 5091,-877.5\"/>\n<text text-anchor=\"middle\" x=\"5019\" y=\"-862.3\" font-family=\"Helvetica,sans-Serif\" font-size=\"14.00\" fill=\"#000000\">squared_error = 0.0</text>\n<text text-anchor=\"middle\" x=\"5019\" y=\"-847.3\" font-family=\"Helvetica,sans-Serif\" font-size=\"14.00\" fill=\"#000000\">samples = 1</text>\n<text text-anchor=\"middle\" x=\"5019\" y=\"-832.3\" font-family=\"Helvetica,sans-Serif\" font-size=\"14.00\" fill=\"#000000\">value = &#45;0.018</text>\n</g>\n<!-- 172&#45;&gt;174 -->\n<g id=\"edge174\" class=\"edge\">\n<title>172&#45;&gt;174</title>\n<path fill=\"none\" stroke=\"#000000\" d=\"M4910.0449,-920.9465C4929.0043,-908.775 4950.2927,-895.1084 4968.9879,-883.1066\"/>\n<polygon fill=\"#000000\" stroke=\"#000000\" points=\"4971.1311,-885.8898 4977.6555,-877.5422 4967.3495,-879.9992 4971.1311,-885.8898\"/>\n</g>\n<!-- 176 -->\n<g id=\"node177\" class=\"node\">\n<title>176</title>\n<polygon fill=\"none\" stroke=\"#000000\" points=\"5253,-885 5109,-885 5109,-817 5253,-817 5253,-885\"/>\n<text text-anchor=\"middle\" x=\"5181\" y=\"-869.8\" font-family=\"Helvetica,sans-Serif\" font-size=\"14.00\" fill=\"#000000\">X[18] &lt;= &#45;0.02</text>\n<text text-anchor=\"middle\" x=\"5181\" y=\"-854.8\" font-family=\"Helvetica,sans-Serif\" font-size=\"14.00\" fill=\"#000000\">squared_error = 0.0</text>\n<text text-anchor=\"middle\" x=\"5181\" y=\"-839.8\" font-family=\"Helvetica,sans-Serif\" font-size=\"14.00\" fill=\"#000000\">samples = 5</text>\n<text text-anchor=\"middle\" x=\"5181\" y=\"-824.8\" font-family=\"Helvetica,sans-Serif\" font-size=\"14.00\" fill=\"#000000\">value = &#45;0.032</text>\n</g>\n<!-- 175&#45;&gt;176 -->\n<g id=\"edge176\" class=\"edge\">\n<title>175&#45;&gt;176</title>\n<path fill=\"none\" stroke=\"#000000\" d=\"M5181,-920.9465C5181,-912.776 5181,-903.9318 5181,-895.3697\"/>\n<polygon fill=\"#000000\" stroke=\"#000000\" points=\"5184.5001,-895.13 5181,-885.13 5177.5001,-895.13 5184.5001,-895.13\"/>\n</g>\n<!-- 185 -->\n<g id=\"node186\" class=\"node\">\n<title>185</title>\n<polygon fill=\"none\" stroke=\"#000000\" points=\"5415,-877.5 5271,-877.5 5271,-824.5 5415,-824.5 5415,-877.5\"/>\n<text text-anchor=\"middle\" x=\"5343\" y=\"-862.3\" font-family=\"Helvetica,sans-Serif\" font-size=\"14.00\" fill=\"#000000\">squared_error = 0.0</text>\n<text text-anchor=\"middle\" x=\"5343\" y=\"-847.3\" font-family=\"Helvetica,sans-Serif\" font-size=\"14.00\" fill=\"#000000\">samples = 1</text>\n<text text-anchor=\"middle\" x=\"5343\" y=\"-832.3\" font-family=\"Helvetica,sans-Serif\" font-size=\"14.00\" fill=\"#000000\">value = &#45;0.022</text>\n</g>\n<!-- 175&#45;&gt;185 -->\n<g id=\"edge185\" class=\"edge\">\n<title>175&#45;&gt;185</title>\n<path fill=\"none\" stroke=\"#000000\" d=\"M5234.0449,-920.9465C5253.0043,-908.775 5274.2927,-895.1084 5292.9879,-883.1066\"/>\n<polygon fill=\"#000000\" stroke=\"#000000\" points=\"5295.1311,-885.8898 5301.6555,-877.5422 5291.3495,-879.9992 5295.1311,-885.8898\"/>\n</g>\n<!-- 177 -->\n<g id=\"node178\" class=\"node\">\n<title>177</title>\n<polygon fill=\"none\" stroke=\"#000000\" points=\"5172,-773.5 5028,-773.5 5028,-720.5 5172,-720.5 5172,-773.5\"/>\n<text text-anchor=\"middle\" x=\"5100\" y=\"-758.3\" font-family=\"Helvetica,sans-Serif\" font-size=\"14.00\" fill=\"#000000\">squared_error = 0.0</text>\n<text text-anchor=\"middle\" x=\"5100\" y=\"-743.3\" font-family=\"Helvetica,sans-Serif\" font-size=\"14.00\" fill=\"#000000\">samples = 1</text>\n<text text-anchor=\"middle\" x=\"5100\" y=\"-728.3\" font-family=\"Helvetica,sans-Serif\" font-size=\"14.00\" fill=\"#000000\">value = &#45;0.03</text>\n</g>\n<!-- 176&#45;&gt;177 -->\n<g id=\"edge177\" class=\"edge\">\n<title>176&#45;&gt;177</title>\n<path fill=\"none\" stroke=\"#000000\" d=\"M5154.4776,-816.9465C5145.6413,-805.6012 5135.7932,-792.9567 5126.9266,-781.5724\"/>\n<polygon fill=\"#000000\" stroke=\"#000000\" points=\"5129.5783,-779.281 5120.6723,-773.5422 5124.0556,-783.5823 5129.5783,-779.281\"/>\n</g>\n<!-- 178 -->\n<g id=\"node179\" class=\"node\">\n<title>178</title>\n<polygon fill=\"none\" stroke=\"#000000\" points=\"5334,-781 5190,-781 5190,-713 5334,-713 5334,-781\"/>\n<text text-anchor=\"middle\" x=\"5262\" y=\"-765.8\" font-family=\"Helvetica,sans-Serif\" font-size=\"14.00\" fill=\"#000000\">X[20] &lt;= &#45;0.003</text>\n<text text-anchor=\"middle\" x=\"5262\" y=\"-750.8\" font-family=\"Helvetica,sans-Serif\" font-size=\"14.00\" fill=\"#000000\">squared_error = 0.0</text>\n<text text-anchor=\"middle\" x=\"5262\" y=\"-735.8\" font-family=\"Helvetica,sans-Serif\" font-size=\"14.00\" fill=\"#000000\">samples = 4</text>\n<text text-anchor=\"middle\" x=\"5262\" y=\"-720.8\" font-family=\"Helvetica,sans-Serif\" font-size=\"14.00\" fill=\"#000000\">value = &#45;0.032</text>\n</g>\n<!-- 176&#45;&gt;178 -->\n<g id=\"edge178\" class=\"edge\">\n<title>176&#45;&gt;178</title>\n<path fill=\"none\" stroke=\"#000000\" d=\"M5207.5224,-816.9465C5214.4454,-808.0578 5221.9894,-798.3716 5229.196,-789.1188\"/>\n<polygon fill=\"#000000\" stroke=\"#000000\" points=\"5232.0346,-791.1701 5235.418,-781.13 5226.512,-786.8688 5232.0346,-791.1701\"/>\n</g>\n<!-- 179 -->\n<g id=\"node180\" class=\"node\">\n<title>179</title>\n<polygon fill=\"none\" stroke=\"#000000\" points=\"5253,-677 5109,-677 5109,-609 5253,-609 5253,-677\"/>\n<text text-anchor=\"middle\" x=\"5181\" y=\"-661.8\" font-family=\"Helvetica,sans-Serif\" font-size=\"14.00\" fill=\"#000000\">X[24] &lt;= &#45;0.002</text>\n<text text-anchor=\"middle\" x=\"5181\" y=\"-646.8\" font-family=\"Helvetica,sans-Serif\" font-size=\"14.00\" fill=\"#000000\">squared_error = 0.0</text>\n<text text-anchor=\"middle\" x=\"5181\" y=\"-631.8\" font-family=\"Helvetica,sans-Serif\" font-size=\"14.00\" fill=\"#000000\">samples = 2</text>\n<text text-anchor=\"middle\" x=\"5181\" y=\"-616.8\" font-family=\"Helvetica,sans-Serif\" font-size=\"14.00\" fill=\"#000000\">value = &#45;0.033</text>\n</g>\n<!-- 178&#45;&gt;179 -->\n<g id=\"edge179\" class=\"edge\">\n<title>178&#45;&gt;179</title>\n<path fill=\"none\" stroke=\"#000000\" d=\"M5235.4776,-712.9465C5228.5546,-704.0578 5221.0106,-694.3716 5213.804,-685.1188\"/>\n<polygon fill=\"#000000\" stroke=\"#000000\" points=\"5216.488,-682.8688 5207.582,-677.13 5210.9654,-687.1701 5216.488,-682.8688\"/>\n</g>\n<!-- 182 -->\n<g id=\"node183\" class=\"node\">\n<title>182</title>\n<polygon fill=\"none\" stroke=\"#000000\" points=\"5415,-677 5271,-677 5271,-609 5415,-609 5415,-677\"/>\n<text text-anchor=\"middle\" x=\"5343\" y=\"-661.8\" font-family=\"Helvetica,sans-Serif\" font-size=\"14.00\" fill=\"#000000\">X[9] &lt;= &#45;0.009</text>\n<text text-anchor=\"middle\" x=\"5343\" y=\"-646.8\" font-family=\"Helvetica,sans-Serif\" font-size=\"14.00\" fill=\"#000000\">squared_error = 0.0</text>\n<text text-anchor=\"middle\" x=\"5343\" y=\"-631.8\" font-family=\"Helvetica,sans-Serif\" font-size=\"14.00\" fill=\"#000000\">samples = 2</text>\n<text text-anchor=\"middle\" x=\"5343\" y=\"-616.8\" font-family=\"Helvetica,sans-Serif\" font-size=\"14.00\" fill=\"#000000\">value = &#45;0.032</text>\n</g>\n<!-- 178&#45;&gt;182 -->\n<g id=\"edge182\" class=\"edge\">\n<title>178&#45;&gt;182</title>\n<path fill=\"none\" stroke=\"#000000\" d=\"M5288.5224,-712.9465C5295.4454,-704.0578 5302.9894,-694.3716 5310.196,-685.1188\"/>\n<polygon fill=\"#000000\" stroke=\"#000000\" points=\"5313.0346,-687.1701 5316.418,-677.13 5307.512,-682.8688 5313.0346,-687.1701\"/>\n</g>\n<!-- 180 -->\n<g id=\"node181\" class=\"node\">\n<title>180</title>\n<polygon fill=\"none\" stroke=\"#000000\" points=\"5091,-565.5 4947,-565.5 4947,-512.5 5091,-512.5 5091,-565.5\"/>\n<text text-anchor=\"middle\" x=\"5019\" y=\"-550.3\" font-family=\"Helvetica,sans-Serif\" font-size=\"14.00\" fill=\"#000000\">squared_error = 0.0</text>\n<text text-anchor=\"middle\" x=\"5019\" y=\"-535.3\" font-family=\"Helvetica,sans-Serif\" font-size=\"14.00\" fill=\"#000000\">samples = 1</text>\n<text text-anchor=\"middle\" x=\"5019\" y=\"-520.3\" font-family=\"Helvetica,sans-Serif\" font-size=\"14.00\" fill=\"#000000\">value = &#45;0.033</text>\n</g>\n<!-- 179&#45;&gt;180 -->\n<g id=\"edge180\" class=\"edge\">\n<title>179&#45;&gt;180</title>\n<path fill=\"none\" stroke=\"#000000\" d=\"M5127.9551,-608.9465C5108.9957,-596.775 5087.7073,-583.1084 5069.0121,-571.1066\"/>\n<polygon fill=\"#000000\" stroke=\"#000000\" points=\"5070.6505,-567.9992 5060.3445,-565.5422 5066.8689,-573.8898 5070.6505,-567.9992\"/>\n</g>\n<!-- 181 -->\n<g id=\"node182\" class=\"node\">\n<title>181</title>\n<polygon fill=\"none\" stroke=\"#000000\" points=\"5253,-565.5 5109,-565.5 5109,-512.5 5253,-512.5 5253,-565.5\"/>\n<text text-anchor=\"middle\" x=\"5181\" y=\"-550.3\" font-family=\"Helvetica,sans-Serif\" font-size=\"14.00\" fill=\"#000000\">squared_error = 0.0</text>\n<text text-anchor=\"middle\" x=\"5181\" y=\"-535.3\" font-family=\"Helvetica,sans-Serif\" font-size=\"14.00\" fill=\"#000000\">samples = 1</text>\n<text text-anchor=\"middle\" x=\"5181\" y=\"-520.3\" font-family=\"Helvetica,sans-Serif\" font-size=\"14.00\" fill=\"#000000\">value = &#45;0.033</text>\n</g>\n<!-- 179&#45;&gt;181 -->\n<g id=\"edge181\" class=\"edge\">\n<title>179&#45;&gt;181</title>\n<path fill=\"none\" stroke=\"#000000\" d=\"M5181,-608.9465C5181,-598.2621 5181,-586.4254 5181,-575.5742\"/>\n<polygon fill=\"#000000\" stroke=\"#000000\" points=\"5184.5001,-575.5421 5181,-565.5422 5177.5001,-575.5422 5184.5001,-575.5421\"/>\n</g>\n<!-- 183 -->\n<g id=\"node184\" class=\"node\">\n<title>183</title>\n<polygon fill=\"none\" stroke=\"#000000\" points=\"5415,-565.5 5271,-565.5 5271,-512.5 5415,-512.5 5415,-565.5\"/>\n<text text-anchor=\"middle\" x=\"5343\" y=\"-550.3\" font-family=\"Helvetica,sans-Serif\" font-size=\"14.00\" fill=\"#000000\">squared_error = 0.0</text>\n<text text-anchor=\"middle\" x=\"5343\" y=\"-535.3\" font-family=\"Helvetica,sans-Serif\" font-size=\"14.00\" fill=\"#000000\">samples = 1</text>\n<text text-anchor=\"middle\" x=\"5343\" y=\"-520.3\" font-family=\"Helvetica,sans-Serif\" font-size=\"14.00\" fill=\"#000000\">value = &#45;0.032</text>\n</g>\n<!-- 182&#45;&gt;183 -->\n<g id=\"edge183\" class=\"edge\">\n<title>182&#45;&gt;183</title>\n<path fill=\"none\" stroke=\"#000000\" d=\"M5343,-608.9465C5343,-598.2621 5343,-586.4254 5343,-575.5742\"/>\n<polygon fill=\"#000000\" stroke=\"#000000\" points=\"5346.5001,-575.5421 5343,-565.5422 5339.5001,-575.5422 5346.5001,-575.5421\"/>\n</g>\n<!-- 184 -->\n<g id=\"node185\" class=\"node\">\n<title>184</title>\n<polygon fill=\"none\" stroke=\"#000000\" points=\"5582.5,-565.5 5433.5,-565.5 5433.5,-512.5 5582.5,-512.5 5582.5,-565.5\"/>\n<text text-anchor=\"middle\" x=\"5508\" y=\"-550.3\" font-family=\"Helvetica,sans-Serif\" font-size=\"14.00\" fill=\"#000000\">squared_error = &#45;0.0</text>\n<text text-anchor=\"middle\" x=\"5508\" y=\"-535.3\" font-family=\"Helvetica,sans-Serif\" font-size=\"14.00\" fill=\"#000000\">samples = 1</text>\n<text text-anchor=\"middle\" x=\"5508\" y=\"-520.3\" font-family=\"Helvetica,sans-Serif\" font-size=\"14.00\" fill=\"#000000\">value = &#45;0.032</text>\n</g>\n<!-- 182&#45;&gt;184 -->\n<g id=\"edge184\" class=\"edge\">\n<title>182&#45;&gt;184</title>\n<path fill=\"none\" stroke=\"#000000\" d=\"M5397.0272,-608.9465C5416.4251,-596.72 5438.2166,-582.9847 5457.32,-570.9437\"/>\n<polygon fill=\"#000000\" stroke=\"#000000\" points=\"5459.2964,-573.8353 5465.8898,-565.5422 5455.5638,-567.9135 5459.2964,-573.8353\"/>\n</g>\n<!-- 188 -->\n<g id=\"node189\" class=\"node\">\n<title>188</title>\n<polygon fill=\"none\" stroke=\"#000000\" points=\"5556,-1301 5412,-1301 5412,-1233 5556,-1233 5556,-1301\"/>\n<text text-anchor=\"middle\" x=\"5484\" y=\"-1285.8\" font-family=\"Helvetica,sans-Serif\" font-size=\"14.00\" fill=\"#000000\">X[31] &lt;= &#45;0.0</text>\n<text text-anchor=\"middle\" x=\"5484\" y=\"-1270.8\" font-family=\"Helvetica,sans-Serif\" font-size=\"14.00\" fill=\"#000000\">squared_error = 0.0</text>\n<text text-anchor=\"middle\" x=\"5484\" y=\"-1255.8\" font-family=\"Helvetica,sans-Serif\" font-size=\"14.00\" fill=\"#000000\">samples = 6</text>\n<text text-anchor=\"middle\" x=\"5484\" y=\"-1240.8\" font-family=\"Helvetica,sans-Serif\" font-size=\"14.00\" fill=\"#000000\">value = &#45;0.016</text>\n</g>\n<!-- 187&#45;&gt;188 -->\n<g id=\"edge188\" class=\"edge\">\n<title>187&#45;&gt;188</title>\n<path fill=\"none\" stroke=\"#000000\" d=\"M5565.3801,-1336.9465C5554.516,-1327.6088 5542.6282,-1317.3911 5531.3765,-1307.7203\"/>\n<polygon fill=\"#000000\" stroke=\"#000000\" points=\"5533.5741,-1304.994 5523.7089,-1301.13 5529.0113,-1310.3026 5533.5741,-1304.994\"/>\n</g>\n<!-- 199 -->\n<g id=\"node200\" class=\"node\">\n<title>199</title>\n<polygon fill=\"none\" stroke=\"#000000\" points=\"5799,-1301 5655,-1301 5655,-1233 5799,-1233 5799,-1301\"/>\n<text text-anchor=\"middle\" x=\"5727\" y=\"-1285.8\" font-family=\"Helvetica,sans-Serif\" font-size=\"14.00\" fill=\"#000000\">X[29] &lt;= &#45;0.003</text>\n<text text-anchor=\"middle\" x=\"5727\" y=\"-1270.8\" font-family=\"Helvetica,sans-Serif\" font-size=\"14.00\" fill=\"#000000\">squared_error = 0.0</text>\n<text text-anchor=\"middle\" x=\"5727\" y=\"-1255.8\" font-family=\"Helvetica,sans-Serif\" font-size=\"14.00\" fill=\"#000000\">samples = 19</text>\n<text text-anchor=\"middle\" x=\"5727\" y=\"-1240.8\" font-family=\"Helvetica,sans-Serif\" font-size=\"14.00\" fill=\"#000000\">value = 0.008</text>\n</g>\n<!-- 187&#45;&gt;199 -->\n<g id=\"edge199\" class=\"edge\">\n<title>187&#45;&gt;199</title>\n<path fill=\"none\" stroke=\"#000000\" d=\"M5644.9474,-1336.9465C5655.9012,-1327.6088 5667.8873,-1317.3911 5679.232,-1307.7203\"/>\n<polygon fill=\"#000000\" stroke=\"#000000\" points=\"5681.6233,-1310.2809 5686.9629,-1301.13 5677.0821,-1304.9538 5681.6233,-1310.2809\"/>\n</g>\n<!-- 189 -->\n<g id=\"node190\" class=\"node\">\n<title>189</title>\n<polygon fill=\"none\" stroke=\"#000000\" points=\"5253,-1197 5109,-1197 5109,-1129 5253,-1129 5253,-1197\"/>\n<text text-anchor=\"middle\" x=\"5181\" y=\"-1181.8\" font-family=\"Helvetica,sans-Serif\" font-size=\"14.00\" fill=\"#000000\">X[19] &lt;= 0.006</text>\n<text text-anchor=\"middle\" x=\"5181\" y=\"-1166.8\" font-family=\"Helvetica,sans-Serif\" font-size=\"14.00\" fill=\"#000000\">squared_error = 0.0</text>\n<text text-anchor=\"middle\" x=\"5181\" y=\"-1151.8\" font-family=\"Helvetica,sans-Serif\" font-size=\"14.00\" fill=\"#000000\">samples = 2</text>\n<text text-anchor=\"middle\" x=\"5181\" y=\"-1136.8\" font-family=\"Helvetica,sans-Serif\" font-size=\"14.00\" fill=\"#000000\">value = &#45;0.035</text>\n</g>\n<!-- 188&#45;&gt;189 -->\n<g id=\"edge189\" class=\"edge\">\n<title>188&#45;&gt;189</title>\n<path fill=\"none\" stroke=\"#000000\" d=\"M5411.8089,-1242.2215C5367.0325,-1226.8527 5309.3841,-1207.0658 5262.903,-1191.1119\"/>\n<polygon fill=\"#000000\" stroke=\"#000000\" points=\"5263.7572,-1187.7047 5253.1625,-1187.7687 5261.4846,-1194.3256 5263.7572,-1187.7047\"/>\n</g>\n<!-- 192 -->\n<g id=\"node193\" class=\"node\">\n<title>192</title>\n<polygon fill=\"none\" stroke=\"#000000\" points=\"5556,-1197 5412,-1197 5412,-1129 5556,-1129 5556,-1197\"/>\n<text text-anchor=\"middle\" x=\"5484\" y=\"-1181.8\" font-family=\"Helvetica,sans-Serif\" font-size=\"14.00\" fill=\"#000000\">X[13] &lt;= &#45;0.001</text>\n<text text-anchor=\"middle\" x=\"5484\" y=\"-1166.8\" font-family=\"Helvetica,sans-Serif\" font-size=\"14.00\" fill=\"#000000\">squared_error = 0.0</text>\n<text text-anchor=\"middle\" x=\"5484\" y=\"-1151.8\" font-family=\"Helvetica,sans-Serif\" font-size=\"14.00\" fill=\"#000000\">samples = 4</text>\n<text text-anchor=\"middle\" x=\"5484\" y=\"-1136.8\" font-family=\"Helvetica,sans-Serif\" font-size=\"14.00\" fill=\"#000000\">value = &#45;0.006</text>\n</g>\n<!-- 188&#45;&gt;192 -->\n<g id=\"edge192\" class=\"edge\">\n<title>188&#45;&gt;192</title>\n<path fill=\"none\" stroke=\"#000000\" d=\"M5484,-1232.9465C5484,-1224.776 5484,-1215.9318 5484,-1207.3697\"/>\n<polygon fill=\"#000000\" stroke=\"#000000\" points=\"5487.5001,-1207.13 5484,-1197.13 5480.5001,-1207.13 5487.5001,-1207.13\"/>\n</g>\n<!-- 190 -->\n<g id=\"node191\" class=\"node\">\n<title>190</title>\n<polygon fill=\"none\" stroke=\"#000000\" points=\"5091,-1085.5 4947,-1085.5 4947,-1032.5 5091,-1032.5 5091,-1085.5\"/>\n<text text-anchor=\"middle\" x=\"5019\" y=\"-1070.3\" font-family=\"Helvetica,sans-Serif\" font-size=\"14.00\" fill=\"#000000\">squared_error = 0.0</text>\n<text text-anchor=\"middle\" x=\"5019\" y=\"-1055.3\" font-family=\"Helvetica,sans-Serif\" font-size=\"14.00\" fill=\"#000000\">samples = 1</text>\n<text text-anchor=\"middle\" x=\"5019\" y=\"-1040.3\" font-family=\"Helvetica,sans-Serif\" font-size=\"14.00\" fill=\"#000000\">value = &#45;0.043</text>\n</g>\n<!-- 189&#45;&gt;190 -->\n<g id=\"edge190\" class=\"edge\">\n<title>189&#45;&gt;190</title>\n<path fill=\"none\" stroke=\"#000000\" d=\"M5127.9551,-1128.9465C5108.9957,-1116.775 5087.7073,-1103.1084 5069.0121,-1091.1066\"/>\n<polygon fill=\"#000000\" stroke=\"#000000\" points=\"5070.6505,-1087.9992 5060.3445,-1085.5422 5066.8689,-1093.8898 5070.6505,-1087.9992\"/>\n</g>\n<!-- 191 -->\n<g id=\"node192\" class=\"node\">\n<title>191</title>\n<polygon fill=\"none\" stroke=\"#000000\" points=\"5253,-1085.5 5109,-1085.5 5109,-1032.5 5253,-1032.5 5253,-1085.5\"/>\n<text text-anchor=\"middle\" x=\"5181\" y=\"-1070.3\" font-family=\"Helvetica,sans-Serif\" font-size=\"14.00\" fill=\"#000000\">squared_error = 0.0</text>\n<text text-anchor=\"middle\" x=\"5181\" y=\"-1055.3\" font-family=\"Helvetica,sans-Serif\" font-size=\"14.00\" fill=\"#000000\">samples = 1</text>\n<text text-anchor=\"middle\" x=\"5181\" y=\"-1040.3\" font-family=\"Helvetica,sans-Serif\" font-size=\"14.00\" fill=\"#000000\">value = &#45;0.026</text>\n</g>\n<!-- 189&#45;&gt;191 -->\n<g id=\"edge191\" class=\"edge\">\n<title>189&#45;&gt;191</title>\n<path fill=\"none\" stroke=\"#000000\" d=\"M5181,-1128.9465C5181,-1118.2621 5181,-1106.4254 5181,-1095.5742\"/>\n<polygon fill=\"#000000\" stroke=\"#000000\" points=\"5184.5001,-1095.5421 5181,-1085.5422 5177.5001,-1095.5422 5184.5001,-1095.5421\"/>\n</g>\n<!-- 193 -->\n<g id=\"node194\" class=\"node\">\n<title>193</title>\n<polygon fill=\"none\" stroke=\"#000000\" points=\"5415,-1085.5 5271,-1085.5 5271,-1032.5 5415,-1032.5 5415,-1085.5\"/>\n<text text-anchor=\"middle\" x=\"5343\" y=\"-1070.3\" font-family=\"Helvetica,sans-Serif\" font-size=\"14.00\" fill=\"#000000\">squared_error = 0.0</text>\n<text text-anchor=\"middle\" x=\"5343\" y=\"-1055.3\" font-family=\"Helvetica,sans-Serif\" font-size=\"14.00\" fill=\"#000000\">samples = 1</text>\n<text text-anchor=\"middle\" x=\"5343\" y=\"-1040.3\" font-family=\"Helvetica,sans-Serif\" font-size=\"14.00\" fill=\"#000000\">value = 0.01</text>\n</g>\n<!-- 192&#45;&gt;193 -->\n<g id=\"edge193\" class=\"edge\">\n<title>192&#45;&gt;193</title>\n<path fill=\"none\" stroke=\"#000000\" d=\"M5437.8313,-1128.9465C5421.5536,-1116.9403 5403.3035,-1103.4791 5387.193,-1091.5962\"/>\n<polygon fill=\"#000000\" stroke=\"#000000\" points=\"5389.1103,-1088.6614 5378.985,-1085.5422 5384.9552,-1094.2948 5389.1103,-1088.6614\"/>\n</g>\n<!-- 194 -->\n<g id=\"node195\" class=\"node\">\n<title>194</title>\n<polygon fill=\"none\" stroke=\"#000000\" points=\"5577,-1093 5433,-1093 5433,-1025 5577,-1025 5577,-1093\"/>\n<text text-anchor=\"middle\" x=\"5505\" y=\"-1077.8\" font-family=\"Helvetica,sans-Serif\" font-size=\"14.00\" fill=\"#000000\">X[11] &lt;= &#45;0.022</text>\n<text text-anchor=\"middle\" x=\"5505\" y=\"-1062.8\" font-family=\"Helvetica,sans-Serif\" font-size=\"14.00\" fill=\"#000000\">squared_error = 0.0</text>\n<text text-anchor=\"middle\" x=\"5505\" y=\"-1047.8\" font-family=\"Helvetica,sans-Serif\" font-size=\"14.00\" fill=\"#000000\">samples = 3</text>\n<text text-anchor=\"middle\" x=\"5505\" y=\"-1032.8\" font-family=\"Helvetica,sans-Serif\" font-size=\"14.00\" fill=\"#000000\">value = &#45;0.012</text>\n</g>\n<!-- 192&#45;&gt;194 -->\n<g id=\"edge194\" class=\"edge\">\n<title>192&#45;&gt;194</title>\n<path fill=\"none\" stroke=\"#000000\" d=\"M5490.8762,-1128.9465C5492.5441,-1120.6863 5494.3511,-1111.7374 5496.0977,-1103.0875\"/>\n<polygon fill=\"#000000\" stroke=\"#000000\" points=\"5499.5598,-1103.6249 5498.1084,-1093.13 5492.6982,-1102.2394 5499.5598,-1103.6249\"/>\n</g>\n<!-- 195 -->\n<g id=\"node196\" class=\"node\">\n<title>195</title>\n<polygon fill=\"none\" stroke=\"#000000\" points=\"5415,-981.5 5271,-981.5 5271,-928.5 5415,-928.5 5415,-981.5\"/>\n<text text-anchor=\"middle\" x=\"5343\" y=\"-966.3\" font-family=\"Helvetica,sans-Serif\" font-size=\"14.00\" fill=\"#000000\">squared_error = 0.0</text>\n<text text-anchor=\"middle\" x=\"5343\" y=\"-951.3\" font-family=\"Helvetica,sans-Serif\" font-size=\"14.00\" fill=\"#000000\">samples = 1</text>\n<text text-anchor=\"middle\" x=\"5343\" y=\"-936.3\" font-family=\"Helvetica,sans-Serif\" font-size=\"14.00\" fill=\"#000000\">value = &#45;0.016</text>\n</g>\n<!-- 194&#45;&gt;195 -->\n<g id=\"edge195\" class=\"edge\">\n<title>194&#45;&gt;195</title>\n<path fill=\"none\" stroke=\"#000000\" d=\"M5451.9551,-1024.9465C5432.9957,-1012.775 5411.7073,-999.1084 5393.0121,-987.1066\"/>\n<polygon fill=\"#000000\" stroke=\"#000000\" points=\"5394.6505,-983.9992 5384.3445,-981.5422 5390.8689,-989.8898 5394.6505,-983.9992\"/>\n</g>\n<!-- 196 -->\n<g id=\"node197\" class=\"node\">\n<title>196</title>\n<polygon fill=\"none\" stroke=\"#000000\" points=\"5577,-989 5433,-989 5433,-921 5577,-921 5577,-989\"/>\n<text text-anchor=\"middle\" x=\"5505\" y=\"-973.8\" font-family=\"Helvetica,sans-Serif\" font-size=\"14.00\" fill=\"#000000\">X[18] &lt;= 0.028</text>\n<text text-anchor=\"middle\" x=\"5505\" y=\"-958.8\" font-family=\"Helvetica,sans-Serif\" font-size=\"14.00\" fill=\"#000000\">squared_error = 0.0</text>\n<text text-anchor=\"middle\" x=\"5505\" y=\"-943.8\" font-family=\"Helvetica,sans-Serif\" font-size=\"14.00\" fill=\"#000000\">samples = 2</text>\n<text text-anchor=\"middle\" x=\"5505\" y=\"-928.8\" font-family=\"Helvetica,sans-Serif\" font-size=\"14.00\" fill=\"#000000\">value = &#45;0.01</text>\n</g>\n<!-- 194&#45;&gt;196 -->\n<g id=\"edge196\" class=\"edge\">\n<title>194&#45;&gt;196</title>\n<path fill=\"none\" stroke=\"#000000\" d=\"M5505,-1024.9465C5505,-1016.776 5505,-1007.9318 5505,-999.3697\"/>\n<polygon fill=\"#000000\" stroke=\"#000000\" points=\"5508.5001,-999.13 5505,-989.13 5501.5001,-999.13 5508.5001,-999.13\"/>\n</g>\n<!-- 197 -->\n<g id=\"node198\" class=\"node\">\n<title>197</title>\n<polygon fill=\"none\" stroke=\"#000000\" points=\"5577,-877.5 5433,-877.5 5433,-824.5 5577,-824.5 5577,-877.5\"/>\n<text text-anchor=\"middle\" x=\"5505\" y=\"-862.3\" font-family=\"Helvetica,sans-Serif\" font-size=\"14.00\" fill=\"#000000\">squared_error = 0.0</text>\n<text text-anchor=\"middle\" x=\"5505\" y=\"-847.3\" font-family=\"Helvetica,sans-Serif\" font-size=\"14.00\" fill=\"#000000\">samples = 1</text>\n<text text-anchor=\"middle\" x=\"5505\" y=\"-832.3\" font-family=\"Helvetica,sans-Serif\" font-size=\"14.00\" fill=\"#000000\">value = &#45;0.008</text>\n</g>\n<!-- 196&#45;&gt;197 -->\n<g id=\"edge197\" class=\"edge\">\n<title>196&#45;&gt;197</title>\n<path fill=\"none\" stroke=\"#000000\" d=\"M5505,-920.9465C5505,-910.2621 5505,-898.4254 5505,-887.5742\"/>\n<polygon fill=\"#000000\" stroke=\"#000000\" points=\"5508.5001,-887.5421 5505,-877.5422 5501.5001,-887.5422 5508.5001,-887.5421\"/>\n</g>\n<!-- 198 -->\n<g id=\"node199\" class=\"node\">\n<title>198</title>\n<polygon fill=\"none\" stroke=\"#000000\" points=\"5739,-877.5 5595,-877.5 5595,-824.5 5739,-824.5 5739,-877.5\"/>\n<text text-anchor=\"middle\" x=\"5667\" y=\"-862.3\" font-family=\"Helvetica,sans-Serif\" font-size=\"14.00\" fill=\"#000000\">squared_error = 0.0</text>\n<text text-anchor=\"middle\" x=\"5667\" y=\"-847.3\" font-family=\"Helvetica,sans-Serif\" font-size=\"14.00\" fill=\"#000000\">samples = 1</text>\n<text text-anchor=\"middle\" x=\"5667\" y=\"-832.3\" font-family=\"Helvetica,sans-Serif\" font-size=\"14.00\" fill=\"#000000\">value = &#45;0.012</text>\n</g>\n<!-- 196&#45;&gt;198 -->\n<g id=\"edge198\" class=\"edge\">\n<title>196&#45;&gt;198</title>\n<path fill=\"none\" stroke=\"#000000\" d=\"M5558.0449,-920.9465C5577.0043,-908.775 5598.2927,-895.1084 5616.9879,-883.1066\"/>\n<polygon fill=\"#000000\" stroke=\"#000000\" points=\"5619.1311,-885.8898 5625.6555,-877.5422 5615.3495,-879.9992 5619.1311,-885.8898\"/>\n</g>\n<!-- 200 -->\n<g id=\"node201\" class=\"node\">\n<title>200</title>\n<polygon fill=\"none\" stroke=\"#000000\" points=\"5799,-1197 5655,-1197 5655,-1129 5799,-1129 5799,-1197\"/>\n<text text-anchor=\"middle\" x=\"5727\" y=\"-1181.8\" font-family=\"Helvetica,sans-Serif\" font-size=\"14.00\" fill=\"#000000\">X[9] &lt;= 0.006</text>\n<text text-anchor=\"middle\" x=\"5727\" y=\"-1166.8\" font-family=\"Helvetica,sans-Serif\" font-size=\"14.00\" fill=\"#000000\">squared_error = 0.0</text>\n<text text-anchor=\"middle\" x=\"5727\" y=\"-1151.8\" font-family=\"Helvetica,sans-Serif\" font-size=\"14.00\" fill=\"#000000\">samples = 3</text>\n<text text-anchor=\"middle\" x=\"5727\" y=\"-1136.8\" font-family=\"Helvetica,sans-Serif\" font-size=\"14.00\" fill=\"#000000\">value = 0.029</text>\n</g>\n<!-- 199&#45;&gt;200 -->\n<g id=\"edge200\" class=\"edge\">\n<title>199&#45;&gt;200</title>\n<path fill=\"none\" stroke=\"#000000\" d=\"M5727,-1232.9465C5727,-1224.776 5727,-1215.9318 5727,-1207.3697\"/>\n<polygon fill=\"#000000\" stroke=\"#000000\" points=\"5730.5001,-1207.13 5727,-1197.13 5723.5001,-1207.13 5730.5001,-1207.13\"/>\n</g>\n<!-- 205 -->\n<g id=\"node206\" class=\"node\">\n<title>205</title>\n<polygon fill=\"none\" stroke=\"#000000\" points=\"6149,-1197 6005,-1197 6005,-1129 6149,-1129 6149,-1197\"/>\n<text text-anchor=\"middle\" x=\"6077\" y=\"-1181.8\" font-family=\"Helvetica,sans-Serif\" font-size=\"14.00\" fill=\"#000000\">X[16] &lt;= &#45;0.003</text>\n<text text-anchor=\"middle\" x=\"6077\" y=\"-1166.8\" font-family=\"Helvetica,sans-Serif\" font-size=\"14.00\" fill=\"#000000\">squared_error = 0.0</text>\n<text text-anchor=\"middle\" x=\"6077\" y=\"-1151.8\" font-family=\"Helvetica,sans-Serif\" font-size=\"14.00\" fill=\"#000000\">samples = 16</text>\n<text text-anchor=\"middle\" x=\"6077\" y=\"-1136.8\" font-family=\"Helvetica,sans-Serif\" font-size=\"14.00\" fill=\"#000000\">value = 0.004</text>\n</g>\n<!-- 199&#45;&gt;205 -->\n<g id=\"edge205\" class=\"edge\">\n<title>199&#45;&gt;205</title>\n<path fill=\"none\" stroke=\"#000000\" d=\"M5799.0958,-1245.5772C5856.1535,-1228.623 5935.8466,-1204.9427 5995.2694,-1187.2857\"/>\n<polygon fill=\"#000000\" stroke=\"#000000\" points=\"5996.4089,-1190.5984 6004.9977,-1184.395 5994.415,-1183.8884 5996.4089,-1190.5984\"/>\n</g>\n<!-- 201 -->\n<g id=\"node202\" class=\"node\">\n<title>201</title>\n<polygon fill=\"none\" stroke=\"#000000\" points=\"5779,-1093 5635,-1093 5635,-1025 5779,-1025 5779,-1093\"/>\n<text text-anchor=\"middle\" x=\"5707\" y=\"-1077.8\" font-family=\"Helvetica,sans-Serif\" font-size=\"14.00\" fill=\"#000000\">X[27] &lt;= &#45;0.013</text>\n<text text-anchor=\"middle\" x=\"5707\" y=\"-1062.8\" font-family=\"Helvetica,sans-Serif\" font-size=\"14.00\" fill=\"#000000\">squared_error = 0.0</text>\n<text text-anchor=\"middle\" x=\"5707\" y=\"-1047.8\" font-family=\"Helvetica,sans-Serif\" font-size=\"14.00\" fill=\"#000000\">samples = 2</text>\n<text text-anchor=\"middle\" x=\"5707\" y=\"-1032.8\" font-family=\"Helvetica,sans-Serif\" font-size=\"14.00\" fill=\"#000000\">value = 0.039</text>\n</g>\n<!-- 200&#45;&gt;201 -->\n<g id=\"edge201\" class=\"edge\">\n<title>200&#45;&gt;201</title>\n<path fill=\"none\" stroke=\"#000000\" d=\"M5720.4513,-1128.9465C5718.8627,-1120.6863 5717.1418,-1111.7374 5715.4784,-1103.0875\"/>\n<polygon fill=\"#000000\" stroke=\"#000000\" points=\"5718.889,-1102.2891 5713.5635,-1093.13 5712.015,-1103.6111 5718.889,-1102.2891\"/>\n</g>\n<!-- 204 -->\n<g id=\"node205\" class=\"node\">\n<title>204</title>\n<polygon fill=\"none\" stroke=\"#000000\" points=\"5946.5,-1085.5 5797.5,-1085.5 5797.5,-1032.5 5946.5,-1032.5 5946.5,-1085.5\"/>\n<text text-anchor=\"middle\" x=\"5872\" y=\"-1070.3\" font-family=\"Helvetica,sans-Serif\" font-size=\"14.00\" fill=\"#000000\">squared_error = &#45;0.0</text>\n<text text-anchor=\"middle\" x=\"5872\" y=\"-1055.3\" font-family=\"Helvetica,sans-Serif\" font-size=\"14.00\" fill=\"#000000\">samples = 1</text>\n<text text-anchor=\"middle\" x=\"5872\" y=\"-1040.3\" font-family=\"Helvetica,sans-Serif\" font-size=\"14.00\" fill=\"#000000\">value = 0.009</text>\n</g>\n<!-- 200&#45;&gt;204 -->\n<g id=\"edge204\" class=\"edge\">\n<title>200&#45;&gt;204</title>\n<path fill=\"none\" stroke=\"#000000\" d=\"M5774.4784,-1128.9465C5791.2179,-1116.9403 5809.9858,-1103.4791 5826.5533,-1091.5962\"/>\n<polygon fill=\"#000000\" stroke=\"#000000\" points=\"5828.908,-1094.2146 5834.9941,-1085.5422 5824.8282,-1088.5264 5828.908,-1094.2146\"/>\n</g>\n<!-- 202 -->\n<g id=\"node203\" class=\"node\">\n<title>202</title>\n<polygon fill=\"none\" stroke=\"#000000\" points=\"5739,-981.5 5595,-981.5 5595,-928.5 5739,-928.5 5739,-981.5\"/>\n<text text-anchor=\"middle\" x=\"5667\" y=\"-966.3\" font-family=\"Helvetica,sans-Serif\" font-size=\"14.00\" fill=\"#000000\">squared_error = 0.0</text>\n<text text-anchor=\"middle\" x=\"5667\" y=\"-951.3\" font-family=\"Helvetica,sans-Serif\" font-size=\"14.00\" fill=\"#000000\">samples = 1</text>\n<text text-anchor=\"middle\" x=\"5667\" y=\"-936.3\" font-family=\"Helvetica,sans-Serif\" font-size=\"14.00\" fill=\"#000000\">value = 0.04</text>\n</g>\n<!-- 201&#45;&gt;202 -->\n<g id=\"edge202\" class=\"edge\">\n<title>201&#45;&gt;202</title>\n<path fill=\"none\" stroke=\"#000000\" d=\"M5693.9025,-1024.9465C5689.7084,-1014.0418 5685.0526,-1001.9368 5680.8093,-990.9043\"/>\n<polygon fill=\"#000000\" stroke=\"#000000\" points=\"5684.0651,-989.6192 5677.2085,-981.5422 5677.5317,-992.1321 5684.0651,-989.6192\"/>\n</g>\n<!-- 203 -->\n<g id=\"node204\" class=\"node\">\n<title>203</title>\n<polygon fill=\"none\" stroke=\"#000000\" points=\"5901,-981.5 5757,-981.5 5757,-928.5 5901,-928.5 5901,-981.5\"/>\n<text text-anchor=\"middle\" x=\"5829\" y=\"-966.3\" font-family=\"Helvetica,sans-Serif\" font-size=\"14.00\" fill=\"#000000\">squared_error = 0.0</text>\n<text text-anchor=\"middle\" x=\"5829\" y=\"-951.3\" font-family=\"Helvetica,sans-Serif\" font-size=\"14.00\" fill=\"#000000\">samples = 1</text>\n<text text-anchor=\"middle\" x=\"5829\" y=\"-936.3\" font-family=\"Helvetica,sans-Serif\" font-size=\"14.00\" fill=\"#000000\">value = 0.039</text>\n</g>\n<!-- 201&#45;&gt;203 -->\n<g id=\"edge203\" class=\"edge\">\n<title>201&#45;&gt;203</title>\n<path fill=\"none\" stroke=\"#000000\" d=\"M5746.9474,-1024.9465C5760.7732,-1013.1606 5776.2436,-999.9726 5789.9929,-988.2519\"/>\n<polygon fill=\"#000000\" stroke=\"#000000\" points=\"5792.5244,-990.6931 5797.864,-981.5422 5787.9832,-985.366 5792.5244,-990.6931\"/>\n</g>\n<!-- 206 -->\n<g id=\"node207\" class=\"node\">\n<title>206</title>\n<polygon fill=\"none\" stroke=\"#000000\" points=\"6149,-1093 6005,-1093 6005,-1025 6149,-1025 6149,-1093\"/>\n<text text-anchor=\"middle\" x=\"6077\" y=\"-1077.8\" font-family=\"Helvetica,sans-Serif\" font-size=\"14.00\" fill=\"#000000\">X[25] &lt;= 0.015</text>\n<text text-anchor=\"middle\" x=\"6077\" y=\"-1062.8\" font-family=\"Helvetica,sans-Serif\" font-size=\"14.00\" fill=\"#000000\">squared_error = 0.0</text>\n<text text-anchor=\"middle\" x=\"6077\" y=\"-1047.8\" font-family=\"Helvetica,sans-Serif\" font-size=\"14.00\" fill=\"#000000\">samples = 3</text>\n<text text-anchor=\"middle\" x=\"6077\" y=\"-1032.8\" font-family=\"Helvetica,sans-Serif\" font-size=\"14.00\" fill=\"#000000\">value = 0.019</text>\n</g>\n<!-- 205&#45;&gt;206 -->\n<g id=\"edge206\" class=\"edge\">\n<title>205&#45;&gt;206</title>\n<path fill=\"none\" stroke=\"#000000\" d=\"M6077,-1128.9465C6077,-1120.776 6077,-1111.9318 6077,-1103.3697\"/>\n<polygon fill=\"#000000\" stroke=\"#000000\" points=\"6080.5001,-1103.13 6077,-1093.13 6073.5001,-1103.13 6080.5001,-1103.13\"/>\n</g>\n<!-- 211 -->\n<g id=\"node212\" class=\"node\">\n<title>211</title>\n<polygon fill=\"none\" stroke=\"#000000\" points=\"6393,-1093 6249,-1093 6249,-1025 6393,-1025 6393,-1093\"/>\n<text text-anchor=\"middle\" x=\"6321\" y=\"-1077.8\" font-family=\"Helvetica,sans-Serif\" font-size=\"14.00\" fill=\"#000000\">X[16] &lt;= &#45;0.0</text>\n<text text-anchor=\"middle\" x=\"6321\" y=\"-1062.8\" font-family=\"Helvetica,sans-Serif\" font-size=\"14.00\" fill=\"#000000\">squared_error = 0.0</text>\n<text text-anchor=\"middle\" x=\"6321\" y=\"-1047.8\" font-family=\"Helvetica,sans-Serif\" font-size=\"14.00\" fill=\"#000000\">samples = 13</text>\n<text text-anchor=\"middle\" x=\"6321\" y=\"-1032.8\" font-family=\"Helvetica,sans-Serif\" font-size=\"14.00\" fill=\"#000000\">value = 0.0</text>\n</g>\n<!-- 205&#45;&gt;211 -->\n<g id=\"edge211\" class=\"edge\">\n<title>205&#45;&gt;211</title>\n<path fill=\"none\" stroke=\"#000000\" d=\"M6149.2177,-1132.2187C6177.6216,-1120.1121 6210.3711,-1106.1533 6239.6084,-1093.6915\"/>\n<polygon fill=\"#000000\" stroke=\"#000000\" points=\"6241.1407,-1096.8431 6248.9676,-1089.7023 6238.396,-1090.4036 6241.1407,-1096.8431\"/>\n</g>\n<!-- 207 -->\n<g id=\"node208\" class=\"node\">\n<title>207</title>\n<polygon fill=\"none\" stroke=\"#000000\" points=\"6063,-989 5919,-989 5919,-921 6063,-921 6063,-989\"/>\n<text text-anchor=\"middle\" x=\"5991\" y=\"-973.8\" font-family=\"Helvetica,sans-Serif\" font-size=\"14.00\" fill=\"#000000\">X[2] &lt;= &#45;0.005</text>\n<text text-anchor=\"middle\" x=\"5991\" y=\"-958.8\" font-family=\"Helvetica,sans-Serif\" font-size=\"14.00\" fill=\"#000000\">squared_error = 0.0</text>\n<text text-anchor=\"middle\" x=\"5991\" y=\"-943.8\" font-family=\"Helvetica,sans-Serif\" font-size=\"14.00\" fill=\"#000000\">samples = 2</text>\n<text text-anchor=\"middle\" x=\"5991\" y=\"-928.8\" font-family=\"Helvetica,sans-Serif\" font-size=\"14.00\" fill=\"#000000\">value = 0.026</text>\n</g>\n<!-- 206&#45;&gt;207 -->\n<g id=\"edge207\" class=\"edge\">\n<title>206&#45;&gt;207</title>\n<path fill=\"none\" stroke=\"#000000\" d=\"M6048.8404,-1024.9465C6041.4158,-1015.968 6033.3185,-1006.1758 6025.5972,-996.8385\"/>\n<polygon fill=\"#000000\" stroke=\"#000000\" points=\"6028.2928,-994.606 6019.2229,-989.13 6022.8983,-999.0669 6028.2928,-994.606\"/>\n</g>\n<!-- 210 -->\n<g id=\"node211\" class=\"node\">\n<title>210</title>\n<polygon fill=\"none\" stroke=\"#000000\" points=\"6230.5,-981.5 6081.5,-981.5 6081.5,-928.5 6230.5,-928.5 6230.5,-981.5\"/>\n<text text-anchor=\"middle\" x=\"6156\" y=\"-966.3\" font-family=\"Helvetica,sans-Serif\" font-size=\"14.00\" fill=\"#000000\">squared_error = &#45;0.0</text>\n<text text-anchor=\"middle\" x=\"6156\" y=\"-951.3\" font-family=\"Helvetica,sans-Serif\" font-size=\"14.00\" fill=\"#000000\">samples = 1</text>\n<text text-anchor=\"middle\" x=\"6156\" y=\"-936.3\" font-family=\"Helvetica,sans-Serif\" font-size=\"14.00\" fill=\"#000000\">value = 0.006</text>\n</g>\n<!-- 206&#45;&gt;210 -->\n<g id=\"edge210\" class=\"edge\">\n<title>206&#45;&gt;210</title>\n<path fill=\"none\" stroke=\"#000000\" d=\"M6102.8676,-1024.9465C6111.4857,-1013.6012 6121.0906,-1000.9567 6129.7383,-989.5724\"/>\n<polygon fill=\"#000000\" stroke=\"#000000\" points=\"6132.5763,-991.6224 6135.8382,-981.5422 6127.0021,-987.3882 6132.5763,-991.6224\"/>\n</g>\n<!-- 208 -->\n<g id=\"node209\" class=\"node\">\n<title>208</title>\n<polygon fill=\"none\" stroke=\"#000000\" points=\"5902,-877.5 5758,-877.5 5758,-824.5 5902,-824.5 5902,-877.5\"/>\n<text text-anchor=\"middle\" x=\"5830\" y=\"-862.3\" font-family=\"Helvetica,sans-Serif\" font-size=\"14.00\" fill=\"#000000\">squared_error = 0.0</text>\n<text text-anchor=\"middle\" x=\"5830\" y=\"-847.3\" font-family=\"Helvetica,sans-Serif\" font-size=\"14.00\" fill=\"#000000\">samples = 1</text>\n<text text-anchor=\"middle\" x=\"5830\" y=\"-832.3\" font-family=\"Helvetica,sans-Serif\" font-size=\"14.00\" fill=\"#000000\">value = 0.027</text>\n</g>\n<!-- 207&#45;&gt;208 -->\n<g id=\"edge208\" class=\"edge\">\n<title>207&#45;&gt;208</title>\n<path fill=\"none\" stroke=\"#000000\" d=\"M5938.2826,-920.9465C5919.4402,-908.775 5898.2832,-895.1084 5879.7034,-883.1066\"/>\n<polygon fill=\"#000000\" stroke=\"#000000\" points=\"5881.3883,-880.0283 5871.0893,-877.5422 5877.5901,-885.9082 5881.3883,-880.0283\"/>\n</g>\n<!-- 209 -->\n<g id=\"node210\" class=\"node\">\n<title>209</title>\n<polygon fill=\"none\" stroke=\"#000000\" points=\"6064,-877.5 5920,-877.5 5920,-824.5 6064,-824.5 6064,-877.5\"/>\n<text text-anchor=\"middle\" x=\"5992\" y=\"-862.3\" font-family=\"Helvetica,sans-Serif\" font-size=\"14.00\" fill=\"#000000\">squared_error = 0.0</text>\n<text text-anchor=\"middle\" x=\"5992\" y=\"-847.3\" font-family=\"Helvetica,sans-Serif\" font-size=\"14.00\" fill=\"#000000\">samples = 1</text>\n<text text-anchor=\"middle\" x=\"5992\" y=\"-832.3\" font-family=\"Helvetica,sans-Serif\" font-size=\"14.00\" fill=\"#000000\">value = 0.025</text>\n</g>\n<!-- 207&#45;&gt;209 -->\n<g id=\"edge209\" class=\"edge\">\n<title>207&#45;&gt;209</title>\n<path fill=\"none\" stroke=\"#000000\" d=\"M5991.3274,-920.9465C5991.4302,-910.2621 5991.544,-898.4254 5991.6483,-887.5742\"/>\n<polygon fill=\"#000000\" stroke=\"#000000\" points=\"5995.1484,-887.5754 5991.7448,-877.5422 5988.1487,-887.508 5995.1484,-887.5754\"/>\n</g>\n<!-- 212 -->\n<g id=\"node213\" class=\"node\">\n<title>212</title>\n<polygon fill=\"none\" stroke=\"#000000\" points=\"6393,-989 6249,-989 6249,-921 6393,-921 6393,-989\"/>\n<text text-anchor=\"middle\" x=\"6321\" y=\"-973.8\" font-family=\"Helvetica,sans-Serif\" font-size=\"14.00\" fill=\"#000000\">X[7] &lt;= &#45;0.006</text>\n<text text-anchor=\"middle\" x=\"6321\" y=\"-958.8\" font-family=\"Helvetica,sans-Serif\" font-size=\"14.00\" fill=\"#000000\">squared_error = 0.0</text>\n<text text-anchor=\"middle\" x=\"6321\" y=\"-943.8\" font-family=\"Helvetica,sans-Serif\" font-size=\"14.00\" fill=\"#000000\">samples = 3</text>\n<text text-anchor=\"middle\" x=\"6321\" y=\"-928.8\" font-family=\"Helvetica,sans-Serif\" font-size=\"14.00\" fill=\"#000000\">value = &#45;0.01</text>\n</g>\n<!-- 211&#45;&gt;212 -->\n<g id=\"edge212\" class=\"edge\">\n<title>211&#45;&gt;212</title>\n<path fill=\"none\" stroke=\"#000000\" d=\"M6321,-1024.9465C6321,-1016.776 6321,-1007.9318 6321,-999.3697\"/>\n<polygon fill=\"#000000\" stroke=\"#000000\" points=\"6324.5001,-999.13 6321,-989.13 6317.5001,-999.13 6324.5001,-999.13\"/>\n</g>\n<!-- 217 -->\n<g id=\"node218\" class=\"node\">\n<title>217</title>\n<polygon fill=\"none\" stroke=\"#000000\" points=\"6555,-989 6411,-989 6411,-921 6555,-921 6555,-989\"/>\n<text text-anchor=\"middle\" x=\"6483\" y=\"-973.8\" font-family=\"Helvetica,sans-Serif\" font-size=\"14.00\" fill=\"#000000\">X[31] &lt;= 0.014</text>\n<text text-anchor=\"middle\" x=\"6483\" y=\"-958.8\" font-family=\"Helvetica,sans-Serif\" font-size=\"14.00\" fill=\"#000000\">squared_error = 0.0</text>\n<text text-anchor=\"middle\" x=\"6483\" y=\"-943.8\" font-family=\"Helvetica,sans-Serif\" font-size=\"14.00\" fill=\"#000000\">samples = 10</text>\n<text text-anchor=\"middle\" x=\"6483\" y=\"-928.8\" font-family=\"Helvetica,sans-Serif\" font-size=\"14.00\" fill=\"#000000\">value = 0.003</text>\n</g>\n<!-- 211&#45;&gt;217 -->\n<g id=\"edge217\" class=\"edge\">\n<title>211&#45;&gt;217</title>\n<path fill=\"none\" stroke=\"#000000\" d=\"M6374.0449,-1024.9465C6389.1495,-1015.2497 6405.7324,-1004.6039 6421.3046,-994.6069\"/>\n<polygon fill=\"#000000\" stroke=\"#000000\" points=\"6423.3116,-997.4777 6429.836,-989.13 6419.53,-991.5871 6423.3116,-997.4777\"/>\n</g>\n<!-- 213 -->\n<g id=\"node214\" class=\"node\">\n<title>213</title>\n<polygon fill=\"none\" stroke=\"#000000\" points=\"6229,-877.5 6085,-877.5 6085,-824.5 6229,-824.5 6229,-877.5\"/>\n<text text-anchor=\"middle\" x=\"6157\" y=\"-862.3\" font-family=\"Helvetica,sans-Serif\" font-size=\"14.00\" fill=\"#000000\">squared_error = 0.0</text>\n<text text-anchor=\"middle\" x=\"6157\" y=\"-847.3\" font-family=\"Helvetica,sans-Serif\" font-size=\"14.00\" fill=\"#000000\">samples = 1</text>\n<text text-anchor=\"middle\" x=\"6157\" y=\"-832.3\" font-family=\"Helvetica,sans-Serif\" font-size=\"14.00\" fill=\"#000000\">value = &#45;0.004</text>\n</g>\n<!-- 212&#45;&gt;213 -->\n<g id=\"edge213\" class=\"edge\">\n<title>212&#45;&gt;213</title>\n<path fill=\"none\" stroke=\"#000000\" d=\"M6267.3003,-920.9465C6248.0199,-908.72 6226.3604,-894.9847 6207.3728,-882.9437\"/>\n<polygon fill=\"#000000\" stroke=\"#000000\" points=\"6209.1745,-879.9418 6198.855,-877.5422 6205.4256,-885.8534 6209.1745,-879.9418\"/>\n</g>\n<!-- 214 -->\n<g id=\"node215\" class=\"node\">\n<title>214</title>\n<polygon fill=\"none\" stroke=\"#000000\" points=\"6391,-885 6247,-885 6247,-817 6391,-817 6391,-885\"/>\n<text text-anchor=\"middle\" x=\"6319\" y=\"-869.8\" font-family=\"Helvetica,sans-Serif\" font-size=\"14.00\" fill=\"#000000\">X[33] &lt;= &#45;0.001</text>\n<text text-anchor=\"middle\" x=\"6319\" y=\"-854.8\" font-family=\"Helvetica,sans-Serif\" font-size=\"14.00\" fill=\"#000000\">squared_error = 0.0</text>\n<text text-anchor=\"middle\" x=\"6319\" y=\"-839.8\" font-family=\"Helvetica,sans-Serif\" font-size=\"14.00\" fill=\"#000000\">samples = 2</text>\n<text text-anchor=\"middle\" x=\"6319\" y=\"-824.8\" font-family=\"Helvetica,sans-Serif\" font-size=\"14.00\" fill=\"#000000\">value = &#45;0.013</text>\n</g>\n<!-- 212&#45;&gt;214 -->\n<g id=\"edge214\" class=\"edge\">\n<title>212&#45;&gt;214</title>\n<path fill=\"none\" stroke=\"#000000\" d=\"M6320.3451,-920.9465C6320.188,-912.776 6320.0179,-903.9318 6319.8533,-895.3697\"/>\n<polygon fill=\"#000000\" stroke=\"#000000\" points=\"6323.3481,-895.0608 6319.6563,-885.13 6316.3494,-895.1955 6323.3481,-895.0608\"/>\n</g>\n<!-- 215 -->\n<g id=\"node216\" class=\"node\">\n<title>215</title>\n<polygon fill=\"none\" stroke=\"#000000\" points=\"6068,-773.5 5924,-773.5 5924,-720.5 6068,-720.5 6068,-773.5\"/>\n<text text-anchor=\"middle\" x=\"5996\" y=\"-758.3\" font-family=\"Helvetica,sans-Serif\" font-size=\"14.00\" fill=\"#000000\">squared_error = 0.0</text>\n<text text-anchor=\"middle\" x=\"5996\" y=\"-743.3\" font-family=\"Helvetica,sans-Serif\" font-size=\"14.00\" fill=\"#000000\">samples = 1</text>\n<text text-anchor=\"middle\" x=\"5996\" y=\"-728.3\" font-family=\"Helvetica,sans-Serif\" font-size=\"14.00\" fill=\"#000000\">value = &#45;0.012</text>\n</g>\n<!-- 214&#45;&gt;215 -->\n<g id=\"edge215\" class=\"edge\">\n<title>214&#45;&gt;215</title>\n<path fill=\"none\" stroke=\"#000000\" d=\"M6246.815,-819.9529C6243.8524,-818.9162 6240.906,-817.9267 6238,-817 6168.1435,-794.723 6146.8565,-803.277 6077,-781 6073.2653,-779.809 6069.464,-778.5144 6065.6471,-777.1491\"/>\n<polygon fill=\"#000000\" stroke=\"#000000\" points=\"6066.7494,-773.825 6056.1564,-773.6281 6064.3146,-780.3879 6066.7494,-773.825\"/>\n</g>\n<!-- 216 -->\n<g id=\"node217\" class=\"node\">\n<title>216</title>\n<polygon fill=\"none\" stroke=\"#000000\" points=\"6230,-773.5 6086,-773.5 6086,-720.5 6230,-720.5 6230,-773.5\"/>\n<text text-anchor=\"middle\" x=\"6158\" y=\"-758.3\" font-family=\"Helvetica,sans-Serif\" font-size=\"14.00\" fill=\"#000000\">squared_error = 0.0</text>\n<text text-anchor=\"middle\" x=\"6158\" y=\"-743.3\" font-family=\"Helvetica,sans-Serif\" font-size=\"14.00\" fill=\"#000000\">samples = 1</text>\n<text text-anchor=\"middle\" x=\"6158\" y=\"-728.3\" font-family=\"Helvetica,sans-Serif\" font-size=\"14.00\" fill=\"#000000\">value = &#45;0.015</text>\n</g>\n<!-- 214&#45;&gt;216 -->\n<g id=\"edge216\" class=\"edge\">\n<title>214&#45;&gt;216</title>\n<path fill=\"none\" stroke=\"#000000\" d=\"M6266.2826,-816.9465C6247.4402,-804.775 6226.2832,-791.1084 6207.7034,-779.1066\"/>\n<polygon fill=\"#000000\" stroke=\"#000000\" points=\"6209.3883,-776.0283 6199.0893,-773.5422 6205.5901,-781.9082 6209.3883,-776.0283\"/>\n</g>\n<!-- 218 -->\n<g id=\"node219\" class=\"node\">\n<title>218</title>\n<polygon fill=\"none\" stroke=\"#000000\" points=\"6554,-885 6410,-885 6410,-817 6554,-817 6554,-885\"/>\n<text text-anchor=\"middle\" x=\"6482\" y=\"-869.8\" font-family=\"Helvetica,sans-Serif\" font-size=\"14.00\" fill=\"#000000\">X[24] &lt;= 0.003</text>\n<text text-anchor=\"middle\" x=\"6482\" y=\"-854.8\" font-family=\"Helvetica,sans-Serif\" font-size=\"14.00\" fill=\"#000000\">squared_error = 0.0</text>\n<text text-anchor=\"middle\" x=\"6482\" y=\"-839.8\" font-family=\"Helvetica,sans-Serif\" font-size=\"14.00\" fill=\"#000000\">samples = 7</text>\n<text text-anchor=\"middle\" x=\"6482\" y=\"-824.8\" font-family=\"Helvetica,sans-Serif\" font-size=\"14.00\" fill=\"#000000\">value = 0.007</text>\n</g>\n<!-- 217&#45;&gt;218 -->\n<g id=\"edge218\" class=\"edge\">\n<title>217&#45;&gt;218</title>\n<path fill=\"none\" stroke=\"#000000\" d=\"M6482.6726,-920.9465C6482.594,-912.776 6482.509,-903.9318 6482.4266,-895.3697\"/>\n<polygon fill=\"#000000\" stroke=\"#000000\" points=\"6485.9243,-895.0958 6482.3282,-885.13 6478.9246,-895.1632 6485.9243,-895.0958\"/>\n</g>\n<!-- 231 -->\n<g id=\"node232\" class=\"node\">\n<title>231</title>\n<polygon fill=\"none\" stroke=\"#000000\" points=\"6716,-885 6572,-885 6572,-817 6716,-817 6716,-885\"/>\n<text text-anchor=\"middle\" x=\"6644\" y=\"-869.8\" font-family=\"Helvetica,sans-Serif\" font-size=\"14.00\" fill=\"#000000\">X[25] &lt;= &#45;0.004</text>\n<text text-anchor=\"middle\" x=\"6644\" y=\"-854.8\" font-family=\"Helvetica,sans-Serif\" font-size=\"14.00\" fill=\"#000000\">squared_error = 0.0</text>\n<text text-anchor=\"middle\" x=\"6644\" y=\"-839.8\" font-family=\"Helvetica,sans-Serif\" font-size=\"14.00\" fill=\"#000000\">samples = 3</text>\n<text text-anchor=\"middle\" x=\"6644\" y=\"-824.8\" font-family=\"Helvetica,sans-Serif\" font-size=\"14.00\" fill=\"#000000\">value = &#45;0.006</text>\n</g>\n<!-- 217&#45;&gt;231 -->\n<g id=\"edge231\" class=\"edge\">\n<title>217&#45;&gt;231</title>\n<path fill=\"none\" stroke=\"#000000\" d=\"M6535.7174,-920.9465C6550.7288,-911.2497 6567.2094,-900.6039 6582.6854,-890.6069\"/>\n<polygon fill=\"#000000\" stroke=\"#000000\" points=\"6584.6633,-893.496 6591.1641,-885.13 6580.8651,-887.6161 6584.6633,-893.496\"/>\n</g>\n<!-- 219 -->\n<g id=\"node220\" class=\"node\">\n<title>219</title>\n<polygon fill=\"none\" stroke=\"#000000\" points=\"6392,-781 6248,-781 6248,-713 6392,-713 6392,-781\"/>\n<text text-anchor=\"middle\" x=\"6320\" y=\"-765.8\" font-family=\"Helvetica,sans-Serif\" font-size=\"14.00\" fill=\"#000000\">X[25] &lt;= &#45;0.005</text>\n<text text-anchor=\"middle\" x=\"6320\" y=\"-750.8\" font-family=\"Helvetica,sans-Serif\" font-size=\"14.00\" fill=\"#000000\">squared_error = 0.0</text>\n<text text-anchor=\"middle\" x=\"6320\" y=\"-735.8\" font-family=\"Helvetica,sans-Serif\" font-size=\"14.00\" fill=\"#000000\">samples = 2</text>\n<text text-anchor=\"middle\" x=\"6320\" y=\"-720.8\" font-family=\"Helvetica,sans-Serif\" font-size=\"14.00\" fill=\"#000000\">value = 0.015</text>\n</g>\n<!-- 218&#45;&gt;219 -->\n<g id=\"edge219\" class=\"edge\">\n<title>218&#45;&gt;219</title>\n<path fill=\"none\" stroke=\"#000000\" d=\"M6428.9551,-816.9465C6413.8505,-807.2497 6397.2676,-796.6039 6381.6954,-786.6069\"/>\n<polygon fill=\"#000000\" stroke=\"#000000\" points=\"6383.47,-783.5871 6373.164,-781.13 6379.6884,-789.4777 6383.47,-783.5871\"/>\n</g>\n<!-- 222 -->\n<g id=\"node223\" class=\"node\">\n<title>222</title>\n<polygon fill=\"none\" stroke=\"#000000\" points=\"6554,-781 6410,-781 6410,-713 6554,-713 6554,-781\"/>\n<text text-anchor=\"middle\" x=\"6482\" y=\"-765.8\" font-family=\"Helvetica,sans-Serif\" font-size=\"14.00\" fill=\"#000000\">X[6] &lt;= 0.009</text>\n<text text-anchor=\"middle\" x=\"6482\" y=\"-750.8\" font-family=\"Helvetica,sans-Serif\" font-size=\"14.00\" fill=\"#000000\">squared_error = 0.0</text>\n<text text-anchor=\"middle\" x=\"6482\" y=\"-735.8\" font-family=\"Helvetica,sans-Serif\" font-size=\"14.00\" fill=\"#000000\">samples = 5</text>\n<text text-anchor=\"middle\" x=\"6482\" y=\"-720.8\" font-family=\"Helvetica,sans-Serif\" font-size=\"14.00\" fill=\"#000000\">value = 0.004</text>\n</g>\n<!-- 218&#45;&gt;222 -->\n<g id=\"edge222\" class=\"edge\">\n<title>218&#45;&gt;222</title>\n<path fill=\"none\" stroke=\"#000000\" d=\"M6482,-816.9465C6482,-808.776 6482,-799.9318 6482,-791.3697\"/>\n<polygon fill=\"#000000\" stroke=\"#000000\" points=\"6485.5001,-791.13 6482,-781.13 6478.5001,-791.13 6485.5001,-791.13\"/>\n</g>\n<!-- 220 -->\n<g id=\"node221\" class=\"node\">\n<title>220</title>\n<polygon fill=\"none\" stroke=\"#000000\" points=\"6138,-669.5 5994,-669.5 5994,-616.5 6138,-616.5 6138,-669.5\"/>\n<text text-anchor=\"middle\" x=\"6066\" y=\"-654.3\" font-family=\"Helvetica,sans-Serif\" font-size=\"14.00\" fill=\"#000000\">squared_error = 0.0</text>\n<text text-anchor=\"middle\" x=\"6066\" y=\"-639.3\" font-family=\"Helvetica,sans-Serif\" font-size=\"14.00\" fill=\"#000000\">samples = 1</text>\n<text text-anchor=\"middle\" x=\"6066\" y=\"-624.3\" font-family=\"Helvetica,sans-Serif\" font-size=\"14.00\" fill=\"#000000\">value = 0.016</text>\n</g>\n<!-- 219&#45;&gt;220 -->\n<g id=\"edge220\" class=\"edge\">\n<title>219&#45;&gt;220</title>\n<path fill=\"none\" stroke=\"#000000\" d=\"M6247.6128,-716.5122C6244.7061,-715.3207 6241.8267,-714.1461 6239,-713 6198.3096,-696.5017 6187.6904,-693.4983 6147,-677 6144.1247,-675.8342 6141.1949,-674.639 6138.2373,-673.4263\"/>\n<polygon fill=\"#000000\" stroke=\"#000000\" points=\"6139.3097,-670.0828 6128.7304,-669.5092 6136.6429,-676.5549 6139.3097,-670.0828\"/>\n</g>\n<!-- 221 -->\n<g id=\"node222\" class=\"node\">\n<title>221</title>\n<polygon fill=\"none\" stroke=\"#000000\" points=\"6305.5,-669.5 6156.5,-669.5 6156.5,-616.5 6305.5,-616.5 6305.5,-669.5\"/>\n<text text-anchor=\"middle\" x=\"6231\" y=\"-654.3\" font-family=\"Helvetica,sans-Serif\" font-size=\"14.00\" fill=\"#000000\">squared_error = &#45;0.0</text>\n<text text-anchor=\"middle\" x=\"6231\" y=\"-639.3\" font-family=\"Helvetica,sans-Serif\" font-size=\"14.00\" fill=\"#000000\">samples = 1</text>\n<text text-anchor=\"middle\" x=\"6231\" y=\"-624.3\" font-family=\"Helvetica,sans-Serif\" font-size=\"14.00\" fill=\"#000000\">value = 0.014</text>\n</g>\n<!-- 219&#45;&gt;221 -->\n<g id=\"edge221\" class=\"edge\">\n<title>219&#45;&gt;221</title>\n<path fill=\"none\" stroke=\"#000000\" d=\"M6290.8581,-712.9465C6281.0548,-701.491 6270.1181,-688.711 6260.3025,-677.2412\"/>\n<polygon fill=\"#000000\" stroke=\"#000000\" points=\"6262.8751,-674.8642 6253.714,-669.5422 6257.5567,-679.4156 6262.8751,-674.8642\"/>\n</g>\n<!-- 223 -->\n<g id=\"node224\" class=\"node\">\n<title>223</title>\n<polygon fill=\"none\" stroke=\"#000000\" points=\"6468,-677 6324,-677 6324,-609 6468,-609 6468,-677\"/>\n<text text-anchor=\"middle\" x=\"6396\" y=\"-661.8\" font-family=\"Helvetica,sans-Serif\" font-size=\"14.00\" fill=\"#000000\">X[10] &lt;= 0.036</text>\n<text text-anchor=\"middle\" x=\"6396\" y=\"-646.8\" font-family=\"Helvetica,sans-Serif\" font-size=\"14.00\" fill=\"#000000\">squared_error = 0.0</text>\n<text text-anchor=\"middle\" x=\"6396\" y=\"-631.8\" font-family=\"Helvetica,sans-Serif\" font-size=\"14.00\" fill=\"#000000\">samples = 4</text>\n<text text-anchor=\"middle\" x=\"6396\" y=\"-616.8\" font-family=\"Helvetica,sans-Serif\" font-size=\"14.00\" fill=\"#000000\">value = 0.005</text>\n</g>\n<!-- 222&#45;&gt;223 -->\n<g id=\"edge223\" class=\"edge\">\n<title>222&#45;&gt;223</title>\n<path fill=\"none\" stroke=\"#000000\" d=\"M6453.8404,-712.9465C6446.4158,-703.968 6438.3185,-694.1758 6430.5972,-684.8385\"/>\n<polygon fill=\"#000000\" stroke=\"#000000\" points=\"6433.2928,-682.606 6424.2229,-677.13 6427.8983,-687.0669 6433.2928,-682.606\"/>\n</g>\n<!-- 230 -->\n<g id=\"node231\" class=\"node\">\n<title>230</title>\n<polygon fill=\"none\" stroke=\"#000000\" points=\"6635.5,-669.5 6486.5,-669.5 6486.5,-616.5 6635.5,-616.5 6635.5,-669.5\"/>\n<text text-anchor=\"middle\" x=\"6561\" y=\"-654.3\" font-family=\"Helvetica,sans-Serif\" font-size=\"14.00\" fill=\"#000000\">squared_error = &#45;0.0</text>\n<text text-anchor=\"middle\" x=\"6561\" y=\"-639.3\" font-family=\"Helvetica,sans-Serif\" font-size=\"14.00\" fill=\"#000000\">samples = 1</text>\n<text text-anchor=\"middle\" x=\"6561\" y=\"-624.3\" font-family=\"Helvetica,sans-Serif\" font-size=\"14.00\" fill=\"#000000\">value = &#45;0.001</text>\n</g>\n<!-- 222&#45;&gt;230 -->\n<g id=\"edge230\" class=\"edge\">\n<title>222&#45;&gt;230</title>\n<path fill=\"none\" stroke=\"#000000\" d=\"M6507.8676,-712.9465C6516.4857,-701.6012 6526.0906,-688.9567 6534.7383,-677.5724\"/>\n<polygon fill=\"#000000\" stroke=\"#000000\" points=\"6537.5763,-679.6224 6540.8382,-669.5422 6532.0021,-675.3882 6537.5763,-679.6224\"/>\n</g>\n<!-- 224 -->\n<g id=\"node225\" class=\"node\">\n<title>224</title>\n<polygon fill=\"none\" stroke=\"#000000\" points=\"6387,-573 6243,-573 6243,-505 6387,-505 6387,-573\"/>\n<text text-anchor=\"middle\" x=\"6315\" y=\"-557.8\" font-family=\"Helvetica,sans-Serif\" font-size=\"14.00\" fill=\"#000000\">X[13] &lt;= 0.003</text>\n<text text-anchor=\"middle\" x=\"6315\" y=\"-542.8\" font-family=\"Helvetica,sans-Serif\" font-size=\"14.00\" fill=\"#000000\">squared_error = 0.0</text>\n<text text-anchor=\"middle\" x=\"6315\" y=\"-527.8\" font-family=\"Helvetica,sans-Serif\" font-size=\"14.00\" fill=\"#000000\">samples = 3</text>\n<text text-anchor=\"middle\" x=\"6315\" y=\"-512.8\" font-family=\"Helvetica,sans-Serif\" font-size=\"14.00\" fill=\"#000000\">value = 0.004</text>\n</g>\n<!-- 223&#45;&gt;224 -->\n<g id=\"edge224\" class=\"edge\">\n<title>223&#45;&gt;224</title>\n<path fill=\"none\" stroke=\"#000000\" d=\"M6369.4776,-608.9465C6362.5546,-600.0578 6355.0106,-590.3716 6347.804,-581.1188\"/>\n<polygon fill=\"#000000\" stroke=\"#000000\" points=\"6350.488,-578.8688 6341.582,-573.13 6344.9654,-583.1701 6350.488,-578.8688\"/>\n</g>\n<!-- 229 -->\n<g id=\"node230\" class=\"node\">\n<title>229</title>\n<polygon fill=\"none\" stroke=\"#000000\" points=\"6549,-565.5 6405,-565.5 6405,-512.5 6549,-512.5 6549,-565.5\"/>\n<text text-anchor=\"middle\" x=\"6477\" y=\"-550.3\" font-family=\"Helvetica,sans-Serif\" font-size=\"14.00\" fill=\"#000000\">squared_error = 0.0</text>\n<text text-anchor=\"middle\" x=\"6477\" y=\"-535.3\" font-family=\"Helvetica,sans-Serif\" font-size=\"14.00\" fill=\"#000000\">samples = 1</text>\n<text text-anchor=\"middle\" x=\"6477\" y=\"-520.3\" font-family=\"Helvetica,sans-Serif\" font-size=\"14.00\" fill=\"#000000\">value = 0.009</text>\n</g>\n<!-- 223&#45;&gt;229 -->\n<g id=\"edge229\" class=\"edge\">\n<title>223&#45;&gt;229</title>\n<path fill=\"none\" stroke=\"#000000\" d=\"M6422.5224,-608.9465C6431.3587,-597.6012 6441.2068,-584.9567 6450.0734,-573.5724\"/>\n<polygon fill=\"#000000\" stroke=\"#000000\" points=\"6452.9444,-575.5823 6456.3277,-565.5422 6447.4217,-571.281 6452.9444,-575.5823\"/>\n</g>\n<!-- 225 -->\n<g id=\"node226\" class=\"node\">\n<title>225</title>\n<polygon fill=\"none\" stroke=\"#000000\" points=\"6306,-461.5 6162,-461.5 6162,-408.5 6306,-408.5 6306,-461.5\"/>\n<text text-anchor=\"middle\" x=\"6234\" y=\"-446.3\" font-family=\"Helvetica,sans-Serif\" font-size=\"14.00\" fill=\"#000000\">squared_error = 0.0</text>\n<text text-anchor=\"middle\" x=\"6234\" y=\"-431.3\" font-family=\"Helvetica,sans-Serif\" font-size=\"14.00\" fill=\"#000000\">samples = 1</text>\n<text text-anchor=\"middle\" x=\"6234\" y=\"-416.3\" font-family=\"Helvetica,sans-Serif\" font-size=\"14.00\" fill=\"#000000\">value = 0.006</text>\n</g>\n<!-- 224&#45;&gt;225 -->\n<g id=\"edge225\" class=\"edge\">\n<title>224&#45;&gt;225</title>\n<path fill=\"none\" stroke=\"#000000\" d=\"M6288.4776,-504.9465C6279.6413,-493.6012 6269.7932,-480.9567 6260.9266,-469.5724\"/>\n<polygon fill=\"#000000\" stroke=\"#000000\" points=\"6263.5783,-467.281 6254.6723,-461.5422 6258.0556,-471.5823 6263.5783,-467.281\"/>\n</g>\n<!-- 226 -->\n<g id=\"node227\" class=\"node\">\n<title>226</title>\n<polygon fill=\"none\" stroke=\"#000000\" points=\"6468,-469 6324,-469 6324,-401 6468,-401 6468,-469\"/>\n<text text-anchor=\"middle\" x=\"6396\" y=\"-453.8\" font-family=\"Helvetica,sans-Serif\" font-size=\"14.00\" fill=\"#000000\">X[23] &lt;= 0.006</text>\n<text text-anchor=\"middle\" x=\"6396\" y=\"-438.8\" font-family=\"Helvetica,sans-Serif\" font-size=\"14.00\" fill=\"#000000\">squared_error = 0.0</text>\n<text text-anchor=\"middle\" x=\"6396\" y=\"-423.8\" font-family=\"Helvetica,sans-Serif\" font-size=\"14.00\" fill=\"#000000\">samples = 2</text>\n<text text-anchor=\"middle\" x=\"6396\" y=\"-408.8\" font-family=\"Helvetica,sans-Serif\" font-size=\"14.00\" fill=\"#000000\">value = 0.004</text>\n</g>\n<!-- 224&#45;&gt;226 -->\n<g id=\"edge226\" class=\"edge\">\n<title>224&#45;&gt;226</title>\n<path fill=\"none\" stroke=\"#000000\" d=\"M6341.5224,-504.9465C6348.4454,-496.0578 6355.9894,-486.3716 6363.196,-477.1188\"/>\n<polygon fill=\"#000000\" stroke=\"#000000\" points=\"6366.0346,-479.1701 6369.418,-469.13 6360.512,-474.8688 6366.0346,-479.1701\"/>\n</g>\n<!-- 227 -->\n<g id=\"node228\" class=\"node\">\n<title>227</title>\n<polygon fill=\"none\" stroke=\"#000000\" points=\"6387,-357.5 6243,-357.5 6243,-304.5 6387,-304.5 6387,-357.5\"/>\n<text text-anchor=\"middle\" x=\"6315\" y=\"-342.3\" font-family=\"Helvetica,sans-Serif\" font-size=\"14.00\" fill=\"#000000\">squared_error = 0.0</text>\n<text text-anchor=\"middle\" x=\"6315\" y=\"-327.3\" font-family=\"Helvetica,sans-Serif\" font-size=\"14.00\" fill=\"#000000\">samples = 1</text>\n<text text-anchor=\"middle\" x=\"6315\" y=\"-312.3\" font-family=\"Helvetica,sans-Serif\" font-size=\"14.00\" fill=\"#000000\">value = 0.003</text>\n</g>\n<!-- 226&#45;&gt;227 -->\n<g id=\"edge227\" class=\"edge\">\n<title>226&#45;&gt;227</title>\n<path fill=\"none\" stroke=\"#000000\" d=\"M6369.4776,-400.9465C6360.6413,-389.6012 6350.7932,-376.9567 6341.9266,-365.5724\"/>\n<polygon fill=\"#000000\" stroke=\"#000000\" points=\"6344.5783,-363.281 6335.6723,-357.5422 6339.0556,-367.5823 6344.5783,-363.281\"/>\n</g>\n<!-- 228 -->\n<g id=\"node229\" class=\"node\">\n<title>228</title>\n<polygon fill=\"none\" stroke=\"#000000\" points=\"6549,-357.5 6405,-357.5 6405,-304.5 6549,-304.5 6549,-357.5\"/>\n<text text-anchor=\"middle\" x=\"6477\" y=\"-342.3\" font-family=\"Helvetica,sans-Serif\" font-size=\"14.00\" fill=\"#000000\">squared_error = 0.0</text>\n<text text-anchor=\"middle\" x=\"6477\" y=\"-327.3\" font-family=\"Helvetica,sans-Serif\" font-size=\"14.00\" fill=\"#000000\">samples = 1</text>\n<text text-anchor=\"middle\" x=\"6477\" y=\"-312.3\" font-family=\"Helvetica,sans-Serif\" font-size=\"14.00\" fill=\"#000000\">value = 0.004</text>\n</g>\n<!-- 226&#45;&gt;228 -->\n<g id=\"edge228\" class=\"edge\">\n<title>226&#45;&gt;228</title>\n<path fill=\"none\" stroke=\"#000000\" d=\"M6422.5224,-400.9465C6431.3587,-389.6012 6441.2068,-376.9567 6450.0734,-365.5724\"/>\n<polygon fill=\"#000000\" stroke=\"#000000\" points=\"6452.9444,-367.5823 6456.3277,-357.5422 6447.4217,-363.281 6452.9444,-367.5823\"/>\n</g>\n<!-- 232 -->\n<g id=\"node233\" class=\"node\">\n<title>232</title>\n<polygon fill=\"none\" stroke=\"#000000\" points=\"6716,-773.5 6572,-773.5 6572,-720.5 6716,-720.5 6716,-773.5\"/>\n<text text-anchor=\"middle\" x=\"6644\" y=\"-758.3\" font-family=\"Helvetica,sans-Serif\" font-size=\"14.00\" fill=\"#000000\">squared_error = 0.0</text>\n<text text-anchor=\"middle\" x=\"6644\" y=\"-743.3\" font-family=\"Helvetica,sans-Serif\" font-size=\"14.00\" fill=\"#000000\">samples = 1</text>\n<text text-anchor=\"middle\" x=\"6644\" y=\"-728.3\" font-family=\"Helvetica,sans-Serif\" font-size=\"14.00\" fill=\"#000000\">value = &#45;0.013</text>\n</g>\n<!-- 231&#45;&gt;232 -->\n<g id=\"edge232\" class=\"edge\">\n<title>231&#45;&gt;232</title>\n<path fill=\"none\" stroke=\"#000000\" d=\"M6644,-816.9465C6644,-806.2621 6644,-794.4254 6644,-783.5742\"/>\n<polygon fill=\"#000000\" stroke=\"#000000\" points=\"6647.5001,-783.5421 6644,-773.5422 6640.5001,-783.5422 6647.5001,-783.5421\"/>\n</g>\n<!-- 233 -->\n<g id=\"node234\" class=\"node\">\n<title>233</title>\n<polygon fill=\"none\" stroke=\"#000000\" points=\"6878,-781 6734,-781 6734,-713 6878,-713 6878,-781\"/>\n<text text-anchor=\"middle\" x=\"6806\" y=\"-765.8\" font-family=\"Helvetica,sans-Serif\" font-size=\"14.00\" fill=\"#000000\">X[27] &lt;= &#45;0.007</text>\n<text text-anchor=\"middle\" x=\"6806\" y=\"-750.8\" font-family=\"Helvetica,sans-Serif\" font-size=\"14.00\" fill=\"#000000\">squared_error = 0.0</text>\n<text text-anchor=\"middle\" x=\"6806\" y=\"-735.8\" font-family=\"Helvetica,sans-Serif\" font-size=\"14.00\" fill=\"#000000\">samples = 2</text>\n<text text-anchor=\"middle\" x=\"6806\" y=\"-720.8\" font-family=\"Helvetica,sans-Serif\" font-size=\"14.00\" fill=\"#000000\">value = &#45;0.002</text>\n</g>\n<!-- 231&#45;&gt;233 -->\n<g id=\"edge233\" class=\"edge\">\n<title>231&#45;&gt;233</title>\n<path fill=\"none\" stroke=\"#000000\" d=\"M6697.0449,-816.9465C6712.1495,-807.2497 6728.7324,-796.6039 6744.3046,-786.6069\"/>\n<polygon fill=\"#000000\" stroke=\"#000000\" points=\"6746.3116,-789.4777 6752.836,-781.13 6742.53,-783.5871 6746.3116,-789.4777\"/>\n</g>\n<!-- 234 -->\n<g id=\"node235\" class=\"node\">\n<title>234</title>\n<polygon fill=\"none\" stroke=\"#000000\" points=\"6798,-669.5 6654,-669.5 6654,-616.5 6798,-616.5 6798,-669.5\"/>\n<text text-anchor=\"middle\" x=\"6726\" y=\"-654.3\" font-family=\"Helvetica,sans-Serif\" font-size=\"14.00\" fill=\"#000000\">squared_error = 0.0</text>\n<text text-anchor=\"middle\" x=\"6726\" y=\"-639.3\" font-family=\"Helvetica,sans-Serif\" font-size=\"14.00\" fill=\"#000000\">samples = 1</text>\n<text text-anchor=\"middle\" x=\"6726\" y=\"-624.3\" font-family=\"Helvetica,sans-Serif\" font-size=\"14.00\" fill=\"#000000\">value = &#45;0.002</text>\n</g>\n<!-- 233&#45;&gt;234 -->\n<g id=\"edge234\" class=\"edge\">\n<title>233&#45;&gt;234</title>\n<path fill=\"none\" stroke=\"#000000\" d=\"M6779.805,-712.9465C6771.0778,-701.6012 6761.3513,-688.9567 6752.5941,-677.5724\"/>\n<polygon fill=\"#000000\" stroke=\"#000000\" points=\"6755.2884,-675.3344 6746.417,-669.5422 6749.74,-679.6024 6755.2884,-675.3344\"/>\n</g>\n<!-- 235 -->\n<g id=\"node236\" class=\"node\">\n<title>235</title>\n<polygon fill=\"none\" stroke=\"#000000\" points=\"6965.5,-669.5 6816.5,-669.5 6816.5,-616.5 6965.5,-616.5 6965.5,-669.5\"/>\n<text text-anchor=\"middle\" x=\"6891\" y=\"-654.3\" font-family=\"Helvetica,sans-Serif\" font-size=\"14.00\" fill=\"#000000\">squared_error = &#45;0.0</text>\n<text text-anchor=\"middle\" x=\"6891\" y=\"-639.3\" font-family=\"Helvetica,sans-Serif\" font-size=\"14.00\" fill=\"#000000\">samples = 1</text>\n<text text-anchor=\"middle\" x=\"6891\" y=\"-624.3\" font-family=\"Helvetica,sans-Serif\" font-size=\"14.00\" fill=\"#000000\">value = &#45;0.001</text>\n</g>\n<!-- 233&#45;&gt;235 -->\n<g id=\"edge235\" class=\"edge\">\n<title>233&#45;&gt;235</title>\n<path fill=\"none\" stroke=\"#000000\" d=\"M6833.8322,-712.9465C6843.1048,-701.6012 6853.4392,-688.9567 6862.7437,-677.5724\"/>\n<polygon fill=\"#000000\" stroke=\"#000000\" points=\"6865.6885,-679.5 6869.3069,-669.5422 6860.2685,-675.0701 6865.6885,-679.5\"/>\n</g>\n<!-- 237 -->\n<g id=\"node238\" class=\"node\">\n<title>237</title>\n<polygon fill=\"none\" stroke=\"#000000\" points=\"8357,-1405 8213,-1405 8213,-1337 8357,-1337 8357,-1405\"/>\n<text text-anchor=\"middle\" x=\"8285\" y=\"-1389.8\" font-family=\"Helvetica,sans-Serif\" font-size=\"14.00\" fill=\"#000000\">X[16] &lt;= &#45;0.044</text>\n<text text-anchor=\"middle\" x=\"8285\" y=\"-1374.8\" font-family=\"Helvetica,sans-Serif\" font-size=\"14.00\" fill=\"#000000\">squared_error = 0.0</text>\n<text text-anchor=\"middle\" x=\"8285\" y=\"-1359.8\" font-family=\"Helvetica,sans-Serif\" font-size=\"14.00\" fill=\"#000000\">samples = 31</text>\n<text text-anchor=\"middle\" x=\"8285\" y=\"-1344.8\" font-family=\"Helvetica,sans-Serif\" font-size=\"14.00\" fill=\"#000000\">value = &#45;0.001</text>\n</g>\n<!-- 236&#45;&gt;237 -->\n<g id=\"edge237\" class=\"edge\">\n<title>236&#45;&gt;237</title>\n<path fill=\"none\" stroke=\"#000000\" d=\"M8285,-1440.9465C8285,-1432.776 8285,-1423.9318 8285,-1415.3697\"/>\n<polygon fill=\"#000000\" stroke=\"#000000\" points=\"8288.5001,-1415.13 8285,-1405.13 8281.5001,-1415.13 8288.5001,-1415.13\"/>\n</g>\n<!-- 298 -->\n<g id=\"node299\" class=\"node\">\n<title>298</title>\n<polygon fill=\"none\" stroke=\"#000000\" points=\"9779,-1405 9635,-1405 9635,-1337 9779,-1337 9779,-1405\"/>\n<text text-anchor=\"middle\" x=\"9707\" y=\"-1389.8\" font-family=\"Helvetica,sans-Serif\" font-size=\"14.00\" fill=\"#000000\">X[27] &lt;= 0.011</text>\n<text text-anchor=\"middle\" x=\"9707\" y=\"-1374.8\" font-family=\"Helvetica,sans-Serif\" font-size=\"14.00\" fill=\"#000000\">squared_error = 0.0</text>\n<text text-anchor=\"middle\" x=\"9707\" y=\"-1359.8\" font-family=\"Helvetica,sans-Serif\" font-size=\"14.00\" fill=\"#000000\">samples = 53</text>\n<text text-anchor=\"middle\" x=\"9707\" y=\"-1344.8\" font-family=\"Helvetica,sans-Serif\" font-size=\"14.00\" fill=\"#000000\">value = 0.014</text>\n</g>\n<!-- 236&#45;&gt;298 -->\n<g id=\"edge298\" class=\"edge\">\n<title>236&#45;&gt;298</title>\n<path fill=\"none\" stroke=\"#000000\" d=\"M8357.4722,-1469.6996C8598.0696,-1452.1032 9369.4716,-1395.6856 9624.3743,-1377.0429\"/>\n<polygon fill=\"#000000\" stroke=\"#000000\" points=\"9624.9557,-1380.5099 9634.6737,-1376.2897 9624.4451,-1373.5285 9624.9557,-1380.5099\"/>\n</g>\n<!-- 238 -->\n<g id=\"node239\" class=\"node\">\n<title>238</title>\n<polygon fill=\"none\" stroke=\"#000000\" points=\"8276,-1293.5 8132,-1293.5 8132,-1240.5 8276,-1240.5 8276,-1293.5\"/>\n<text text-anchor=\"middle\" x=\"8204\" y=\"-1278.3\" font-family=\"Helvetica,sans-Serif\" font-size=\"14.00\" fill=\"#000000\">squared_error = 0.0</text>\n<text text-anchor=\"middle\" x=\"8204\" y=\"-1263.3\" font-family=\"Helvetica,sans-Serif\" font-size=\"14.00\" fill=\"#000000\">samples = 1</text>\n<text text-anchor=\"middle\" x=\"8204\" y=\"-1248.3\" font-family=\"Helvetica,sans-Serif\" font-size=\"14.00\" fill=\"#000000\">value = &#45;0.045</text>\n</g>\n<!-- 237&#45;&gt;238 -->\n<g id=\"edge238\" class=\"edge\">\n<title>237&#45;&gt;238</title>\n<path fill=\"none\" stroke=\"#000000\" d=\"M8258.4776,-1336.9465C8249.6413,-1325.6012 8239.7932,-1312.9567 8230.9266,-1301.5724\"/>\n<polygon fill=\"#000000\" stroke=\"#000000\" points=\"8233.5783,-1299.281 8224.6723,-1293.5422 8228.0556,-1303.5823 8233.5783,-1299.281\"/>\n</g>\n<!-- 239 -->\n<g id=\"node240\" class=\"node\">\n<title>239</title>\n<polygon fill=\"none\" stroke=\"#000000\" points=\"8438,-1301 8294,-1301 8294,-1233 8438,-1233 8438,-1301\"/>\n<text text-anchor=\"middle\" x=\"8366\" y=\"-1285.8\" font-family=\"Helvetica,sans-Serif\" font-size=\"14.00\" fill=\"#000000\">X[31] &lt;= 0.011</text>\n<text text-anchor=\"middle\" x=\"8366\" y=\"-1270.8\" font-family=\"Helvetica,sans-Serif\" font-size=\"14.00\" fill=\"#000000\">squared_error = 0.0</text>\n<text text-anchor=\"middle\" x=\"8366\" y=\"-1255.8\" font-family=\"Helvetica,sans-Serif\" font-size=\"14.00\" fill=\"#000000\">samples = 30</text>\n<text text-anchor=\"middle\" x=\"8366\" y=\"-1240.8\" font-family=\"Helvetica,sans-Serif\" font-size=\"14.00\" fill=\"#000000\">value = 0.0</text>\n</g>\n<!-- 237&#45;&gt;239 -->\n<g id=\"edge239\" class=\"edge\">\n<title>237&#45;&gt;239</title>\n<path fill=\"none\" stroke=\"#000000\" d=\"M8311.5224,-1336.9465C8318.4454,-1328.0578 8325.9894,-1318.3716 8333.196,-1309.1188\"/>\n<polygon fill=\"#000000\" stroke=\"#000000\" points=\"8336.0346,-1311.1701 8339.418,-1301.13 8330.512,-1306.8688 8336.0346,-1311.1701\"/>\n</g>\n<!-- 240 -->\n<g id=\"node241\" class=\"node\">\n<title>240</title>\n<polygon fill=\"none\" stroke=\"#000000\" points=\"8357,-1197 8213,-1197 8213,-1129 8357,-1129 8357,-1197\"/>\n<text text-anchor=\"middle\" x=\"8285\" y=\"-1181.8\" font-family=\"Helvetica,sans-Serif\" font-size=\"14.00\" fill=\"#000000\">X[33] &lt;= 0.017</text>\n<text text-anchor=\"middle\" x=\"8285\" y=\"-1166.8\" font-family=\"Helvetica,sans-Serif\" font-size=\"14.00\" fill=\"#000000\">squared_error = 0.0</text>\n<text text-anchor=\"middle\" x=\"8285\" y=\"-1151.8\" font-family=\"Helvetica,sans-Serif\" font-size=\"14.00\" fill=\"#000000\">samples = 27</text>\n<text text-anchor=\"middle\" x=\"8285\" y=\"-1136.8\" font-family=\"Helvetica,sans-Serif\" font-size=\"14.00\" fill=\"#000000\">value = &#45;0.002</text>\n</g>\n<!-- 239&#45;&gt;240 -->\n<g id=\"edge240\" class=\"edge\">\n<title>239&#45;&gt;240</title>\n<path fill=\"none\" stroke=\"#000000\" d=\"M8339.4776,-1232.9465C8332.5546,-1224.0578 8325.0106,-1214.3716 8317.804,-1205.1188\"/>\n<polygon fill=\"#000000\" stroke=\"#000000\" points=\"8320.488,-1202.8688 8311.582,-1197.13 8314.9654,-1207.1701 8320.488,-1202.8688\"/>\n</g>\n<!-- 293 -->\n<g id=\"node294\" class=\"node\">\n<title>293</title>\n<polygon fill=\"none\" stroke=\"#000000\" points=\"8519,-1197 8375,-1197 8375,-1129 8519,-1129 8519,-1197\"/>\n<text text-anchor=\"middle\" x=\"8447\" y=\"-1181.8\" font-family=\"Helvetica,sans-Serif\" font-size=\"14.00\" fill=\"#000000\">X[12] &lt;= 0.009</text>\n<text text-anchor=\"middle\" x=\"8447\" y=\"-1166.8\" font-family=\"Helvetica,sans-Serif\" font-size=\"14.00\" fill=\"#000000\">squared_error = 0.0</text>\n<text text-anchor=\"middle\" x=\"8447\" y=\"-1151.8\" font-family=\"Helvetica,sans-Serif\" font-size=\"14.00\" fill=\"#000000\">samples = 3</text>\n<text text-anchor=\"middle\" x=\"8447\" y=\"-1136.8\" font-family=\"Helvetica,sans-Serif\" font-size=\"14.00\" fill=\"#000000\">value = 0.021</text>\n</g>\n<!-- 239&#45;&gt;293 -->\n<g id=\"edge293\" class=\"edge\">\n<title>239&#45;&gt;293</title>\n<path fill=\"none\" stroke=\"#000000\" d=\"M8392.5224,-1232.9465C8399.4454,-1224.0578 8406.9894,-1214.3716 8414.196,-1205.1188\"/>\n<polygon fill=\"#000000\" stroke=\"#000000\" points=\"8417.0346,-1207.1701 8420.418,-1197.13 8411.512,-1202.8688 8417.0346,-1207.1701\"/>\n</g>\n<!-- 241 -->\n<g id=\"node242\" class=\"node\">\n<title>241</title>\n<polygon fill=\"none\" stroke=\"#000000\" points=\"8154,-1093 8010,-1093 8010,-1025 8154,-1025 8154,-1093\"/>\n<text text-anchor=\"middle\" x=\"8082\" y=\"-1077.8\" font-family=\"Helvetica,sans-Serif\" font-size=\"14.00\" fill=\"#000000\">X[4] &lt;= 0.011</text>\n<text text-anchor=\"middle\" x=\"8082\" y=\"-1062.8\" font-family=\"Helvetica,sans-Serif\" font-size=\"14.00\" fill=\"#000000\">squared_error = 0.0</text>\n<text text-anchor=\"middle\" x=\"8082\" y=\"-1047.8\" font-family=\"Helvetica,sans-Serif\" font-size=\"14.00\" fill=\"#000000\">samples = 23</text>\n<text text-anchor=\"middle\" x=\"8082\" y=\"-1032.8\" font-family=\"Helvetica,sans-Serif\" font-size=\"14.00\" fill=\"#000000\">value = 0.0</text>\n</g>\n<!-- 240&#45;&gt;241 -->\n<g id=\"edge241\" class=\"edge\">\n<title>240&#45;&gt;241</title>\n<path fill=\"none\" stroke=\"#000000\" d=\"M8218.5302,-1128.9465C8199.077,-1118.9803 8177.6671,-1108.0117 8157.6866,-1097.7754\"/>\n<polygon fill=\"#000000\" stroke=\"#000000\" points=\"8159.115,-1094.5747 8148.6191,-1093.13 8155.9233,-1100.8047 8159.115,-1094.5747\"/>\n</g>\n<!-- 286 -->\n<g id=\"node287\" class=\"node\">\n<title>286</title>\n<polygon fill=\"none\" stroke=\"#000000\" points=\"8357,-1093 8213,-1093 8213,-1025 8357,-1025 8357,-1093\"/>\n<text text-anchor=\"middle\" x=\"8285\" y=\"-1077.8\" font-family=\"Helvetica,sans-Serif\" font-size=\"14.00\" fill=\"#000000\">X[33] &lt;= 0.026</text>\n<text text-anchor=\"middle\" x=\"8285\" y=\"-1062.8\" font-family=\"Helvetica,sans-Serif\" font-size=\"14.00\" fill=\"#000000\">squared_error = 0.0</text>\n<text text-anchor=\"middle\" x=\"8285\" y=\"-1047.8\" font-family=\"Helvetica,sans-Serif\" font-size=\"14.00\" fill=\"#000000\">samples = 4</text>\n<text text-anchor=\"middle\" x=\"8285\" y=\"-1032.8\" font-family=\"Helvetica,sans-Serif\" font-size=\"14.00\" fill=\"#000000\">value = &#45;0.017</text>\n</g>\n<!-- 240&#45;&gt;286 -->\n<g id=\"edge286\" class=\"edge\">\n<title>240&#45;&gt;286</title>\n<path fill=\"none\" stroke=\"#000000\" d=\"M8285,-1128.9465C8285,-1120.776 8285,-1111.9318 8285,-1103.3697\"/>\n<polygon fill=\"#000000\" stroke=\"#000000\" points=\"8288.5001,-1103.13 8285,-1093.13 8281.5001,-1103.13 8288.5001,-1103.13\"/>\n</g>\n<!-- 242 -->\n<g id=\"node243\" class=\"node\">\n<title>242</title>\n<polygon fill=\"none\" stroke=\"#000000\" points=\"7869,-989 7725,-989 7725,-921 7869,-921 7869,-989\"/>\n<text text-anchor=\"middle\" x=\"7797\" y=\"-973.8\" font-family=\"Helvetica,sans-Serif\" font-size=\"14.00\" fill=\"#000000\">X[33] &lt;= 0.006</text>\n<text text-anchor=\"middle\" x=\"7797\" y=\"-958.8\" font-family=\"Helvetica,sans-Serif\" font-size=\"14.00\" fill=\"#000000\">squared_error = 0.0</text>\n<text text-anchor=\"middle\" x=\"7797\" y=\"-943.8\" font-family=\"Helvetica,sans-Serif\" font-size=\"14.00\" fill=\"#000000\">samples = 20</text>\n<text text-anchor=\"middle\" x=\"7797\" y=\"-928.8\" font-family=\"Helvetica,sans-Serif\" font-size=\"14.00\" fill=\"#000000\">value = 0.002</text>\n</g>\n<!-- 241&#45;&gt;242 -->\n<g id=\"edge242\" class=\"edge\">\n<title>241&#45;&gt;242</title>\n<path fill=\"none\" stroke=\"#000000\" d=\"M8009.714,-1032.622C7969.7828,-1018.0506 7920.0451,-999.9007 7878.7074,-984.816\"/>\n<polygon fill=\"#000000\" stroke=\"#000000\" points=\"7879.8028,-981.4901 7869.2089,-981.3499 7877.4032,-988.0659 7879.8028,-981.4901\"/>\n</g>\n<!-- 281 -->\n<g id=\"node282\" class=\"node\">\n<title>281</title>\n<polygon fill=\"none\" stroke=\"#000000\" points=\"8154,-989 8010,-989 8010,-921 8154,-921 8154,-989\"/>\n<text text-anchor=\"middle\" x=\"8082\" y=\"-973.8\" font-family=\"Helvetica,sans-Serif\" font-size=\"14.00\" fill=\"#000000\">X[3] &lt;= 0.008</text>\n<text text-anchor=\"middle\" x=\"8082\" y=\"-958.8\" font-family=\"Helvetica,sans-Serif\" font-size=\"14.00\" fill=\"#000000\">squared_error = 0.0</text>\n<text text-anchor=\"middle\" x=\"8082\" y=\"-943.8\" font-family=\"Helvetica,sans-Serif\" font-size=\"14.00\" fill=\"#000000\">samples = 3</text>\n<text text-anchor=\"middle\" x=\"8082\" y=\"-928.8\" font-family=\"Helvetica,sans-Serif\" font-size=\"14.00\" fill=\"#000000\">value = &#45;0.014</text>\n</g>\n<!-- 241&#45;&gt;281 -->\n<g id=\"edge281\" class=\"edge\">\n<title>241&#45;&gt;281</title>\n<path fill=\"none\" stroke=\"#000000\" d=\"M8082,-1024.9465C8082,-1016.776 8082,-1007.9318 8082,-999.3697\"/>\n<polygon fill=\"#000000\" stroke=\"#000000\" points=\"8085.5001,-999.13 8082,-989.13 8078.5001,-999.13 8085.5001,-999.13\"/>\n</g>\n<!-- 243 -->\n<g id=\"node244\" class=\"node\">\n<title>243</title>\n<polygon fill=\"none\" stroke=\"#000000\" points=\"7541,-885 7397,-885 7397,-817 7541,-817 7541,-885\"/>\n<text text-anchor=\"middle\" x=\"7469\" y=\"-869.8\" font-family=\"Helvetica,sans-Serif\" font-size=\"14.00\" fill=\"#000000\">X[9] &lt;= 0.009</text>\n<text text-anchor=\"middle\" x=\"7469\" y=\"-854.8\" font-family=\"Helvetica,sans-Serif\" font-size=\"14.00\" fill=\"#000000\">squared_error = 0.0</text>\n<text text-anchor=\"middle\" x=\"7469\" y=\"-839.8\" font-family=\"Helvetica,sans-Serif\" font-size=\"14.00\" fill=\"#000000\">samples = 4</text>\n<text text-anchor=\"middle\" x=\"7469\" y=\"-824.8\" font-family=\"Helvetica,sans-Serif\" font-size=\"14.00\" fill=\"#000000\">value = 0.014</text>\n</g>\n<!-- 242&#45;&gt;243 -->\n<g id=\"edge243\" class=\"edge\">\n<title>242&#45;&gt;243</title>\n<path fill=\"none\" stroke=\"#000000\" d=\"M7724.613,-932.048C7673.2857,-915.7735 7604.3309,-893.9098 7550.9755,-876.9922\"/>\n<polygon fill=\"#000000\" stroke=\"#000000\" points=\"7551.7924,-873.5796 7541.2022,-873.8934 7549.6766,-880.2522 7551.7924,-873.5796\"/>\n</g>\n<!-- 250 -->\n<g id=\"node251\" class=\"node\">\n<title>250</title>\n<polygon fill=\"none\" stroke=\"#000000\" points=\"7869,-885 7725,-885 7725,-817 7869,-817 7869,-885\"/>\n<text text-anchor=\"middle\" x=\"7797\" y=\"-869.8\" font-family=\"Helvetica,sans-Serif\" font-size=\"14.00\" fill=\"#000000\">X[4] &lt;= &#45;0.015</text>\n<text text-anchor=\"middle\" x=\"7797\" y=\"-854.8\" font-family=\"Helvetica,sans-Serif\" font-size=\"14.00\" fill=\"#000000\">squared_error = 0.0</text>\n<text text-anchor=\"middle\" x=\"7797\" y=\"-839.8\" font-family=\"Helvetica,sans-Serif\" font-size=\"14.00\" fill=\"#000000\">samples = 16</text>\n<text text-anchor=\"middle\" x=\"7797\" y=\"-824.8\" font-family=\"Helvetica,sans-Serif\" font-size=\"14.00\" fill=\"#000000\">value = &#45;0.0</text>\n</g>\n<!-- 242&#45;&gt;250 -->\n<g id=\"edge250\" class=\"edge\">\n<title>242&#45;&gt;250</title>\n<path fill=\"none\" stroke=\"#000000\" d=\"M7797,-920.9465C7797,-912.776 7797,-903.9318 7797,-895.3697\"/>\n<polygon fill=\"#000000\" stroke=\"#000000\" points=\"7800.5001,-895.13 7797,-885.13 7793.5001,-895.13 7800.5001,-895.13\"/>\n</g>\n<!-- 244 -->\n<g id=\"node245\" class=\"node\">\n<title>244</title>\n<polygon fill=\"none\" stroke=\"#000000\" points=\"7293,-781 7149,-781 7149,-713 7293,-713 7293,-781\"/>\n<text text-anchor=\"middle\" x=\"7221\" y=\"-765.8\" font-family=\"Helvetica,sans-Serif\" font-size=\"14.00\" fill=\"#000000\">X[2] &lt;= 0.004</text>\n<text text-anchor=\"middle\" x=\"7221\" y=\"-750.8\" font-family=\"Helvetica,sans-Serif\" font-size=\"14.00\" fill=\"#000000\">squared_error = 0.0</text>\n<text text-anchor=\"middle\" x=\"7221\" y=\"-735.8\" font-family=\"Helvetica,sans-Serif\" font-size=\"14.00\" fill=\"#000000\">samples = 2</text>\n<text text-anchor=\"middle\" x=\"7221\" y=\"-720.8\" font-family=\"Helvetica,sans-Serif\" font-size=\"14.00\" fill=\"#000000\">value = 0.019</text>\n</g>\n<!-- 243&#45;&gt;244 -->\n<g id=\"edge244\" class=\"edge\">\n<title>243&#45;&gt;244</title>\n<path fill=\"none\" stroke=\"#000000\" d=\"M7396.935,-820.7792C7367.3849,-808.3872 7333.0321,-793.9812 7302.5655,-781.2049\"/>\n<polygon fill=\"#000000\" stroke=\"#000000\" points=\"7303.8203,-777.9358 7293.2448,-777.2962 7301.1131,-784.3912 7303.8203,-777.9358\"/>\n</g>\n<!-- 247 -->\n<g id=\"node248\" class=\"node\">\n<title>247</title>\n<polygon fill=\"none\" stroke=\"#000000\" points=\"7541,-781 7397,-781 7397,-713 7541,-713 7541,-781\"/>\n<text text-anchor=\"middle\" x=\"7469\" y=\"-765.8\" font-family=\"Helvetica,sans-Serif\" font-size=\"14.00\" fill=\"#000000\">X[26] &lt;= 0.01</text>\n<text text-anchor=\"middle\" x=\"7469\" y=\"-750.8\" font-family=\"Helvetica,sans-Serif\" font-size=\"14.00\" fill=\"#000000\">squared_error = 0.0</text>\n<text text-anchor=\"middle\" x=\"7469\" y=\"-735.8\" font-family=\"Helvetica,sans-Serif\" font-size=\"14.00\" fill=\"#000000\">samples = 2</text>\n<text text-anchor=\"middle\" x=\"7469\" y=\"-720.8\" font-family=\"Helvetica,sans-Serif\" font-size=\"14.00\" fill=\"#000000\">value = 0.009</text>\n</g>\n<!-- 243&#45;&gt;247 -->\n<g id=\"edge247\" class=\"edge\">\n<title>243&#45;&gt;247</title>\n<path fill=\"none\" stroke=\"#000000\" d=\"M7469,-816.9465C7469,-808.776 7469,-799.9318 7469,-791.3697\"/>\n<polygon fill=\"#000000\" stroke=\"#000000\" points=\"7472.5001,-791.13 7469,-781.13 7465.5001,-791.13 7472.5001,-791.13\"/>\n</g>\n<!-- 245 -->\n<g id=\"node246\" class=\"node\">\n<title>245</title>\n<polygon fill=\"none\" stroke=\"#000000\" points=\"7128,-669.5 6984,-669.5 6984,-616.5 7128,-616.5 7128,-669.5\"/>\n<text text-anchor=\"middle\" x=\"7056\" y=\"-654.3\" font-family=\"Helvetica,sans-Serif\" font-size=\"14.00\" fill=\"#000000\">squared_error = 0.0</text>\n<text text-anchor=\"middle\" x=\"7056\" y=\"-639.3\" font-family=\"Helvetica,sans-Serif\" font-size=\"14.00\" fill=\"#000000\">samples = 1</text>\n<text text-anchor=\"middle\" x=\"7056\" y=\"-624.3\" font-family=\"Helvetica,sans-Serif\" font-size=\"14.00\" fill=\"#000000\">value = 0.016</text>\n</g>\n<!-- 244&#45;&gt;245 -->\n<g id=\"edge245\" class=\"edge\">\n<title>244&#45;&gt;245</title>\n<path fill=\"none\" stroke=\"#000000\" d=\"M7166.9728,-712.9465C7147.5749,-700.72 7125.7834,-686.9847 7106.68,-674.9437\"/>\n<polygon fill=\"#000000\" stroke=\"#000000\" points=\"7108.4362,-671.9135 7098.1102,-669.5422 7104.7036,-677.8353 7108.4362,-671.9135\"/>\n</g>\n<!-- 246 -->\n<g id=\"node247\" class=\"node\">\n<title>246</title>\n<polygon fill=\"none\" stroke=\"#000000\" points=\"7295.5,-669.5 7146.5,-669.5 7146.5,-616.5 7295.5,-616.5 7295.5,-669.5\"/>\n<text text-anchor=\"middle\" x=\"7221\" y=\"-654.3\" font-family=\"Helvetica,sans-Serif\" font-size=\"14.00\" fill=\"#000000\">squared_error = &#45;0.0</text>\n<text text-anchor=\"middle\" x=\"7221\" y=\"-639.3\" font-family=\"Helvetica,sans-Serif\" font-size=\"14.00\" fill=\"#000000\">samples = 1</text>\n<text text-anchor=\"middle\" x=\"7221\" y=\"-624.3\" font-family=\"Helvetica,sans-Serif\" font-size=\"14.00\" fill=\"#000000\">value = 0.023</text>\n</g>\n<!-- 244&#45;&gt;246 -->\n<g id=\"edge246\" class=\"edge\">\n<title>244&#45;&gt;246</title>\n<path fill=\"none\" stroke=\"#000000\" d=\"M7221,-712.9465C7221,-702.2621 7221,-690.4254 7221,-679.5742\"/>\n<polygon fill=\"#000000\" stroke=\"#000000\" points=\"7224.5001,-679.5421 7221,-669.5422 7217.5001,-679.5422 7224.5001,-679.5421\"/>\n</g>\n<!-- 248 -->\n<g id=\"node249\" class=\"node\">\n<title>248</title>\n<polygon fill=\"none\" stroke=\"#000000\" points=\"7458,-669.5 7314,-669.5 7314,-616.5 7458,-616.5 7458,-669.5\"/>\n<text text-anchor=\"middle\" x=\"7386\" y=\"-654.3\" font-family=\"Helvetica,sans-Serif\" font-size=\"14.00\" fill=\"#000000\">squared_error = 0.0</text>\n<text text-anchor=\"middle\" x=\"7386\" y=\"-639.3\" font-family=\"Helvetica,sans-Serif\" font-size=\"14.00\" fill=\"#000000\">samples = 1</text>\n<text text-anchor=\"middle\" x=\"7386\" y=\"-624.3\" font-family=\"Helvetica,sans-Serif\" font-size=\"14.00\" fill=\"#000000\">value = 0.011</text>\n</g>\n<!-- 247&#45;&gt;248 -->\n<g id=\"edge248\" class=\"edge\">\n<title>247&#45;&gt;248</title>\n<path fill=\"none\" stroke=\"#000000\" d=\"M7441.8227,-712.9465C7432.7682,-701.6012 7422.677,-688.9567 7413.5914,-677.5724\"/>\n<polygon fill=\"#000000\" stroke=\"#000000\" points=\"7416.1561,-675.175 7407.1827,-669.5422 7410.6849,-679.5414 7416.1561,-675.175\"/>\n</g>\n<!-- 249 -->\n<g id=\"node250\" class=\"node\">\n<title>249</title>\n<polygon fill=\"none\" stroke=\"#000000\" points=\"7625.5,-669.5 7476.5,-669.5 7476.5,-616.5 7625.5,-616.5 7625.5,-669.5\"/>\n<text text-anchor=\"middle\" x=\"7551\" y=\"-654.3\" font-family=\"Helvetica,sans-Serif\" font-size=\"14.00\" fill=\"#000000\">squared_error = &#45;0.0</text>\n<text text-anchor=\"middle\" x=\"7551\" y=\"-639.3\" font-family=\"Helvetica,sans-Serif\" font-size=\"14.00\" fill=\"#000000\">samples = 1</text>\n<text text-anchor=\"middle\" x=\"7551\" y=\"-624.3\" font-family=\"Helvetica,sans-Serif\" font-size=\"14.00\" fill=\"#000000\">value = 0.007</text>\n</g>\n<!-- 247&#45;&gt;249 -->\n<g id=\"edge249\" class=\"edge\">\n<title>247&#45;&gt;249</title>\n<path fill=\"none\" stroke=\"#000000\" d=\"M7495.8499,-712.9465C7504.7952,-701.6012 7514.7649,-688.9567 7523.741,-677.5724\"/>\n<polygon fill=\"#000000\" stroke=\"#000000\" points=\"7526.6294,-679.5619 7530.0725,-669.5422 7521.1325,-675.2278 7526.6294,-679.5619\"/>\n</g>\n<!-- 251 -->\n<g id=\"node252\" class=\"node\">\n<title>251</title>\n<polygon fill=\"none\" stroke=\"#000000\" points=\"7788,-781 7644,-781 7644,-713 7788,-713 7788,-781\"/>\n<text text-anchor=\"middle\" x=\"7716\" y=\"-765.8\" font-family=\"Helvetica,sans-Serif\" font-size=\"14.00\" fill=\"#000000\">X[0] &lt;= 0.017</text>\n<text text-anchor=\"middle\" x=\"7716\" y=\"-750.8\" font-family=\"Helvetica,sans-Serif\" font-size=\"14.00\" fill=\"#000000\">squared_error = 0.0</text>\n<text text-anchor=\"middle\" x=\"7716\" y=\"-735.8\" font-family=\"Helvetica,sans-Serif\" font-size=\"14.00\" fill=\"#000000\">samples = 4</text>\n<text text-anchor=\"middle\" x=\"7716\" y=\"-720.8\" font-family=\"Helvetica,sans-Serif\" font-size=\"14.00\" fill=\"#000000\">value = &#45;0.009</text>\n</g>\n<!-- 250&#45;&gt;251 -->\n<g id=\"edge251\" class=\"edge\">\n<title>250&#45;&gt;251</title>\n<path fill=\"none\" stroke=\"#000000\" d=\"M7770.4776,-816.9465C7763.5546,-808.0578 7756.0106,-798.3716 7748.804,-789.1188\"/>\n<polygon fill=\"#000000\" stroke=\"#000000\" points=\"7751.488,-786.8688 7742.582,-781.13 7745.9654,-791.1701 7751.488,-786.8688\"/>\n</g>\n<!-- 258 -->\n<g id=\"node259\" class=\"node\">\n<title>258</title>\n<polygon fill=\"none\" stroke=\"#000000\" points=\"7950,-781 7806,-781 7806,-713 7950,-713 7950,-781\"/>\n<text text-anchor=\"middle\" x=\"7878\" y=\"-765.8\" font-family=\"Helvetica,sans-Serif\" font-size=\"14.00\" fill=\"#000000\">X[6] &lt;= 0.0</text>\n<text text-anchor=\"middle\" x=\"7878\" y=\"-750.8\" font-family=\"Helvetica,sans-Serif\" font-size=\"14.00\" fill=\"#000000\">squared_error = 0.0</text>\n<text text-anchor=\"middle\" x=\"7878\" y=\"-735.8\" font-family=\"Helvetica,sans-Serif\" font-size=\"14.00\" fill=\"#000000\">samples = 12</text>\n<text text-anchor=\"middle\" x=\"7878\" y=\"-720.8\" font-family=\"Helvetica,sans-Serif\" font-size=\"14.00\" fill=\"#000000\">value = 0.002</text>\n</g>\n<!-- 250&#45;&gt;258 -->\n<g id=\"edge258\" class=\"edge\">\n<title>250&#45;&gt;258</title>\n<path fill=\"none\" stroke=\"#000000\" d=\"M7823.5224,-816.9465C7830.4454,-808.0578 7837.9894,-798.3716 7845.196,-789.1188\"/>\n<polygon fill=\"#000000\" stroke=\"#000000\" points=\"7848.0346,-791.1701 7851.418,-781.13 7842.512,-786.8688 7848.0346,-791.1701\"/>\n</g>\n<!-- 252 -->\n<g id=\"node253\" class=\"node\">\n<title>252</title>\n<polygon fill=\"none\" stroke=\"#000000\" points=\"7788,-677 7644,-677 7644,-609 7788,-609 7788,-677\"/>\n<text text-anchor=\"middle\" x=\"7716\" y=\"-661.8\" font-family=\"Helvetica,sans-Serif\" font-size=\"14.00\" fill=\"#000000\">X[8] &lt;= &#45;0.003</text>\n<text text-anchor=\"middle\" x=\"7716\" y=\"-646.8\" font-family=\"Helvetica,sans-Serif\" font-size=\"14.00\" fill=\"#000000\">squared_error = 0.0</text>\n<text text-anchor=\"middle\" x=\"7716\" y=\"-631.8\" font-family=\"Helvetica,sans-Serif\" font-size=\"14.00\" fill=\"#000000\">samples = 2</text>\n<text text-anchor=\"middle\" x=\"7716\" y=\"-616.8\" font-family=\"Helvetica,sans-Serif\" font-size=\"14.00\" fill=\"#000000\">value = &#45;0.015</text>\n</g>\n<!-- 251&#45;&gt;252 -->\n<g id=\"edge252\" class=\"edge\">\n<title>251&#45;&gt;252</title>\n<path fill=\"none\" stroke=\"#000000\" d=\"M7716,-712.9465C7716,-704.776 7716,-695.9318 7716,-687.3697\"/>\n<polygon fill=\"#000000\" stroke=\"#000000\" points=\"7719.5001,-687.13 7716,-677.13 7712.5001,-687.13 7719.5001,-687.13\"/>\n</g>\n<!-- 255 -->\n<g id=\"node256\" class=\"node\">\n<title>255</title>\n<polygon fill=\"none\" stroke=\"#000000\" points=\"7950,-677 7806,-677 7806,-609 7950,-609 7950,-677\"/>\n<text text-anchor=\"middle\" x=\"7878\" y=\"-661.8\" font-family=\"Helvetica,sans-Serif\" font-size=\"14.00\" fill=\"#000000\">X[22] &lt;= &#45;0.01</text>\n<text text-anchor=\"middle\" x=\"7878\" y=\"-646.8\" font-family=\"Helvetica,sans-Serif\" font-size=\"14.00\" fill=\"#000000\">squared_error = 0.0</text>\n<text text-anchor=\"middle\" x=\"7878\" y=\"-631.8\" font-family=\"Helvetica,sans-Serif\" font-size=\"14.00\" fill=\"#000000\">samples = 2</text>\n<text text-anchor=\"middle\" x=\"7878\" y=\"-616.8\" font-family=\"Helvetica,sans-Serif\" font-size=\"14.00\" fill=\"#000000\">value = &#45;0.002</text>\n</g>\n<!-- 251&#45;&gt;255 -->\n<g id=\"edge255\" class=\"edge\">\n<title>251&#45;&gt;255</title>\n<path fill=\"none\" stroke=\"#000000\" d=\"M7769.0449,-712.9465C7784.1495,-703.2497 7800.7324,-692.6039 7816.3046,-682.6069\"/>\n<polygon fill=\"#000000\" stroke=\"#000000\" points=\"7818.3116,-685.4777 7824.836,-677.13 7814.53,-679.5871 7818.3116,-685.4777\"/>\n</g>\n<!-- 253 -->\n<g id=\"node254\" class=\"node\">\n<title>253</title>\n<polygon fill=\"none\" stroke=\"#000000\" points=\"7548,-565.5 7404,-565.5 7404,-512.5 7548,-512.5 7548,-565.5\"/>\n<text text-anchor=\"middle\" x=\"7476\" y=\"-550.3\" font-family=\"Helvetica,sans-Serif\" font-size=\"14.00\" fill=\"#000000\">squared_error = 0.0</text>\n<text text-anchor=\"middle\" x=\"7476\" y=\"-535.3\" font-family=\"Helvetica,sans-Serif\" font-size=\"14.00\" fill=\"#000000\">samples = 1</text>\n<text text-anchor=\"middle\" x=\"7476\" y=\"-520.3\" font-family=\"Helvetica,sans-Serif\" font-size=\"14.00\" fill=\"#000000\">value = &#45;0.016</text>\n</g>\n<!-- 252&#45;&gt;253 -->\n<g id=\"edge253\" class=\"edge\">\n<title>252&#45;&gt;253</title>\n<path fill=\"none\" stroke=\"#000000\" d=\"M7643.9921,-611.7966C7613.2104,-598.4578 7577.3845,-582.9333 7546.7432,-569.6554\"/>\n<polygon fill=\"#000000\" stroke=\"#000000\" points=\"7547.9788,-566.3764 7537.4116,-565.6117 7545.1955,-572.7993 7547.9788,-566.3764\"/>\n</g>\n<!-- 254 -->\n<g id=\"node255\" class=\"node\">\n<title>254</title>\n<polygon fill=\"none\" stroke=\"#000000\" points=\"7710,-565.5 7566,-565.5 7566,-512.5 7710,-512.5 7710,-565.5\"/>\n<text text-anchor=\"middle\" x=\"7638\" y=\"-550.3\" font-family=\"Helvetica,sans-Serif\" font-size=\"14.00\" fill=\"#000000\">squared_error = 0.0</text>\n<text text-anchor=\"middle\" x=\"7638\" y=\"-535.3\" font-family=\"Helvetica,sans-Serif\" font-size=\"14.00\" fill=\"#000000\">samples = 1</text>\n<text text-anchor=\"middle\" x=\"7638\" y=\"-520.3\" font-family=\"Helvetica,sans-Serif\" font-size=\"14.00\" fill=\"#000000\">value = &#45;0.015</text>\n</g>\n<!-- 252&#45;&gt;254 -->\n<g id=\"edge254\" class=\"edge\">\n<title>252&#45;&gt;254</title>\n<path fill=\"none\" stroke=\"#000000\" d=\"M7690.4599,-608.9465C7681.9509,-597.6012 7672.4675,-584.9567 7663.9293,-573.5724\"/>\n<polygon fill=\"#000000\" stroke=\"#000000\" points=\"7666.7067,-571.4422 7657.9066,-565.5422 7661.1067,-575.6422 7666.7067,-571.4422\"/>\n</g>\n<!-- 256 -->\n<g id=\"node257\" class=\"node\">\n<title>256</title>\n<polygon fill=\"none\" stroke=\"#000000\" points=\"7872,-565.5 7728,-565.5 7728,-512.5 7872,-512.5 7872,-565.5\"/>\n<text text-anchor=\"middle\" x=\"7800\" y=\"-550.3\" font-family=\"Helvetica,sans-Serif\" font-size=\"14.00\" fill=\"#000000\">squared_error = 0.0</text>\n<text text-anchor=\"middle\" x=\"7800\" y=\"-535.3\" font-family=\"Helvetica,sans-Serif\" font-size=\"14.00\" fill=\"#000000\">samples = 1</text>\n<text text-anchor=\"middle\" x=\"7800\" y=\"-520.3\" font-family=\"Helvetica,sans-Serif\" font-size=\"14.00\" fill=\"#000000\">value = 0.002</text>\n</g>\n<!-- 255&#45;&gt;256 -->\n<g id=\"edge256\" class=\"edge\">\n<title>255&#45;&gt;256</title>\n<path fill=\"none\" stroke=\"#000000\" d=\"M7852.4599,-608.9465C7843.9509,-597.6012 7834.4675,-584.9567 7825.9293,-573.5724\"/>\n<polygon fill=\"#000000\" stroke=\"#000000\" points=\"7828.7067,-571.4422 7819.9066,-565.5422 7823.1067,-575.6422 7828.7067,-571.4422\"/>\n</g>\n<!-- 257 -->\n<g id=\"node258\" class=\"node\">\n<title>257</title>\n<polygon fill=\"none\" stroke=\"#000000\" points=\"8034,-565.5 7890,-565.5 7890,-512.5 8034,-512.5 8034,-565.5\"/>\n<text text-anchor=\"middle\" x=\"7962\" y=\"-550.3\" font-family=\"Helvetica,sans-Serif\" font-size=\"14.00\" fill=\"#000000\">squared_error = 0.0</text>\n<text text-anchor=\"middle\" x=\"7962\" y=\"-535.3\" font-family=\"Helvetica,sans-Serif\" font-size=\"14.00\" fill=\"#000000\">samples = 1</text>\n<text text-anchor=\"middle\" x=\"7962\" y=\"-520.3\" font-family=\"Helvetica,sans-Serif\" font-size=\"14.00\" fill=\"#000000\">value = &#45;0.006</text>\n</g>\n<!-- 255&#45;&gt;257 -->\n<g id=\"edge257\" class=\"edge\">\n<title>255&#45;&gt;257</title>\n<path fill=\"none\" stroke=\"#000000\" d=\"M7905.5047,-608.9465C7914.6683,-597.6012 7924.8811,-584.9567 7934.0761,-573.5724\"/>\n<polygon fill=\"#000000\" stroke=\"#000000\" points=\"7937.0015,-575.5208 7940.5621,-565.5422 7931.5559,-571.1224 7937.0015,-575.5208\"/>\n</g>\n<!-- 259 -->\n<g id=\"node260\" class=\"node\">\n<title>259</title>\n<polygon fill=\"none\" stroke=\"#000000\" points=\"8196,-677 8052,-677 8052,-609 8196,-609 8196,-677\"/>\n<text text-anchor=\"middle\" x=\"8124\" y=\"-661.8\" font-family=\"Helvetica,sans-Serif\" font-size=\"14.00\" fill=\"#000000\">X[13] &lt;= 0.005</text>\n<text text-anchor=\"middle\" x=\"8124\" y=\"-646.8\" font-family=\"Helvetica,sans-Serif\" font-size=\"14.00\" fill=\"#000000\">squared_error = 0.0</text>\n<text text-anchor=\"middle\" x=\"8124\" y=\"-631.8\" font-family=\"Helvetica,sans-Serif\" font-size=\"14.00\" fill=\"#000000\">samples = 2</text>\n<text text-anchor=\"middle\" x=\"8124\" y=\"-616.8\" font-family=\"Helvetica,sans-Serif\" font-size=\"14.00\" fill=\"#000000\">value = 0.01</text>\n</g>\n<!-- 258&#45;&gt;259 -->\n<g id=\"edge259\" class=\"edge\">\n<title>258&#45;&gt;259</title>\n<path fill=\"none\" stroke=\"#000000\" d=\"M7950.1459,-716.4993C7979.0576,-704.2765 8012.5189,-690.1302 8042.319,-677.5318\"/>\n<polygon fill=\"#000000\" stroke=\"#000000\" points=\"8044.0076,-680.6179 8051.8554,-673.5002 8041.2817,-674.1704 8044.0076,-680.6179\"/>\n</g>\n<!-- 262 -->\n<g id=\"node263\" class=\"node\">\n<title>262</title>\n<polygon fill=\"none\" stroke=\"#000000\" points=\"8520,-677 8376,-677 8376,-609 8520,-609 8520,-677\"/>\n<text text-anchor=\"middle\" x=\"8448\" y=\"-661.8\" font-family=\"Helvetica,sans-Serif\" font-size=\"14.00\" fill=\"#000000\">X[9] &lt;= 0.017</text>\n<text text-anchor=\"middle\" x=\"8448\" y=\"-646.8\" font-family=\"Helvetica,sans-Serif\" font-size=\"14.00\" fill=\"#000000\">squared_error = 0.0</text>\n<text text-anchor=\"middle\" x=\"8448\" y=\"-631.8\" font-family=\"Helvetica,sans-Serif\" font-size=\"14.00\" fill=\"#000000\">samples = 10</text>\n<text text-anchor=\"middle\" x=\"8448\" y=\"-616.8\" font-family=\"Helvetica,sans-Serif\" font-size=\"14.00\" fill=\"#000000\">value = 0.001</text>\n</g>\n<!-- 258&#45;&gt;262 -->\n<g id=\"edge262\" class=\"edge\">\n<title>258&#45;&gt;262</title>\n<path fill=\"none\" stroke=\"#000000\" d=\"M7950.0987,-715.6629C7953.0852,-714.7065 7956.0601,-713.813 7959,-713 7968.7336,-710.3082 8229.0124,-673.6623 8365.7732,-654.4992\"/>\n<polygon fill=\"#000000\" stroke=\"#000000\" points=\"8366.3849,-657.9478 8375.8026,-653.0942 8365.4137,-651.0154 8366.3849,-657.9478\"/>\n</g>\n<!-- 260 -->\n<g id=\"node261\" class=\"node\">\n<title>260</title>\n<polygon fill=\"none\" stroke=\"#000000\" points=\"8196,-565.5 8052,-565.5 8052,-512.5 8196,-512.5 8196,-565.5\"/>\n<text text-anchor=\"middle\" x=\"8124\" y=\"-550.3\" font-family=\"Helvetica,sans-Serif\" font-size=\"14.00\" fill=\"#000000\">squared_error = 0.0</text>\n<text text-anchor=\"middle\" x=\"8124\" y=\"-535.3\" font-family=\"Helvetica,sans-Serif\" font-size=\"14.00\" fill=\"#000000\">samples = 1</text>\n<text text-anchor=\"middle\" x=\"8124\" y=\"-520.3\" font-family=\"Helvetica,sans-Serif\" font-size=\"14.00\" fill=\"#000000\">value = 0.011</text>\n</g>\n<!-- 259&#45;&gt;260 -->\n<g id=\"edge260\" class=\"edge\">\n<title>259&#45;&gt;260</title>\n<path fill=\"none\" stroke=\"#000000\" d=\"M8124,-608.9465C8124,-598.2621 8124,-586.4254 8124,-575.5742\"/>\n<polygon fill=\"#000000\" stroke=\"#000000\" points=\"8127.5001,-575.5421 8124,-565.5422 8120.5001,-575.5422 8127.5001,-575.5421\"/>\n</g>\n<!-- 261 -->\n<g id=\"node262\" class=\"node\">\n<title>261</title>\n<polygon fill=\"none\" stroke=\"#000000\" points=\"8358,-565.5 8214,-565.5 8214,-512.5 8358,-512.5 8358,-565.5\"/>\n<text text-anchor=\"middle\" x=\"8286\" y=\"-550.3\" font-family=\"Helvetica,sans-Serif\" font-size=\"14.00\" fill=\"#000000\">squared_error = 0.0</text>\n<text text-anchor=\"middle\" x=\"8286\" y=\"-535.3\" font-family=\"Helvetica,sans-Serif\" font-size=\"14.00\" fill=\"#000000\">samples = 1</text>\n<text text-anchor=\"middle\" x=\"8286\" y=\"-520.3\" font-family=\"Helvetica,sans-Serif\" font-size=\"14.00\" fill=\"#000000\">value = 0.01</text>\n</g>\n<!-- 259&#45;&gt;261 -->\n<g id=\"edge261\" class=\"edge\">\n<title>259&#45;&gt;261</title>\n<path fill=\"none\" stroke=\"#000000\" d=\"M8177.0449,-608.9465C8196.0043,-596.775 8217.2927,-583.1084 8235.9879,-571.1066\"/>\n<polygon fill=\"#000000\" stroke=\"#000000\" points=\"8238.1311,-573.8898 8244.6555,-565.5422 8234.3495,-567.9992 8238.1311,-573.8898\"/>\n</g>\n<!-- 263 -->\n<g id=\"node264\" class=\"node\">\n<title>263</title>\n<polygon fill=\"none\" stroke=\"#000000\" points=\"8520,-573 8376,-573 8376,-505 8520,-505 8520,-573\"/>\n<text text-anchor=\"middle\" x=\"8448\" y=\"-557.8\" font-family=\"Helvetica,sans-Serif\" font-size=\"14.00\" fill=\"#000000\">X[14] &lt;= 0.0</text>\n<text text-anchor=\"middle\" x=\"8448\" y=\"-542.8\" font-family=\"Helvetica,sans-Serif\" font-size=\"14.00\" fill=\"#000000\">squared_error = 0.0</text>\n<text text-anchor=\"middle\" x=\"8448\" y=\"-527.8\" font-family=\"Helvetica,sans-Serif\" font-size=\"14.00\" fill=\"#000000\">samples = 8</text>\n<text text-anchor=\"middle\" x=\"8448\" y=\"-512.8\" font-family=\"Helvetica,sans-Serif\" font-size=\"14.00\" fill=\"#000000\">value = 0.002</text>\n</g>\n<!-- 262&#45;&gt;263 -->\n<g id=\"edge263\" class=\"edge\">\n<title>262&#45;&gt;263</title>\n<path fill=\"none\" stroke=\"#000000\" d=\"M8448,-608.9465C8448,-600.776 8448,-591.9318 8448,-583.3697\"/>\n<polygon fill=\"#000000\" stroke=\"#000000\" points=\"8451.5001,-583.13 8448,-573.13 8444.5001,-583.13 8451.5001,-583.13\"/>\n</g>\n<!-- 278 -->\n<g id=\"node279\" class=\"node\">\n<title>278</title>\n<polygon fill=\"none\" stroke=\"#000000\" points=\"8682,-573 8538,-573 8538,-505 8682,-505 8682,-573\"/>\n<text text-anchor=\"middle\" x=\"8610\" y=\"-557.8\" font-family=\"Helvetica,sans-Serif\" font-size=\"14.00\" fill=\"#000000\">X[0] &lt;= 0.008</text>\n<text text-anchor=\"middle\" x=\"8610\" y=\"-542.8\" font-family=\"Helvetica,sans-Serif\" font-size=\"14.00\" fill=\"#000000\">squared_error = 0.0</text>\n<text text-anchor=\"middle\" x=\"8610\" y=\"-527.8\" font-family=\"Helvetica,sans-Serif\" font-size=\"14.00\" fill=\"#000000\">samples = 2</text>\n<text text-anchor=\"middle\" x=\"8610\" y=\"-512.8\" font-family=\"Helvetica,sans-Serif\" font-size=\"14.00\" fill=\"#000000\">value = &#45;0.005</text>\n</g>\n<!-- 262&#45;&gt;278 -->\n<g id=\"edge278\" class=\"edge\">\n<title>262&#45;&gt;278</title>\n<path fill=\"none\" stroke=\"#000000\" d=\"M8501.0449,-608.9465C8516.1495,-599.2497 8532.7324,-588.6039 8548.3046,-578.6069\"/>\n<polygon fill=\"#000000\" stroke=\"#000000\" points=\"8550.3116,-581.4777 8556.836,-573.13 8546.53,-575.5871 8550.3116,-581.4777\"/>\n</g>\n<!-- 264 -->\n<g id=\"node265\" class=\"node\">\n<title>264</title>\n<polygon fill=\"none\" stroke=\"#000000\" points=\"8355,-469 8211,-469 8211,-401 8355,-401 8355,-469\"/>\n<text text-anchor=\"middle\" x=\"8283\" y=\"-453.8\" font-family=\"Helvetica,sans-Serif\" font-size=\"14.00\" fill=\"#000000\">X[28] &lt;= 0.002</text>\n<text text-anchor=\"middle\" x=\"8283\" y=\"-438.8\" font-family=\"Helvetica,sans-Serif\" font-size=\"14.00\" fill=\"#000000\">squared_error = 0.0</text>\n<text text-anchor=\"middle\" x=\"8283\" y=\"-423.8\" font-family=\"Helvetica,sans-Serif\" font-size=\"14.00\" fill=\"#000000\">samples = 3</text>\n<text text-anchor=\"middle\" x=\"8283\" y=\"-408.8\" font-family=\"Helvetica,sans-Serif\" font-size=\"14.00\" fill=\"#000000\">value = &#45;0.0</text>\n</g>\n<!-- 263&#45;&gt;264 -->\n<g id=\"edge264\" class=\"edge\">\n<title>263&#45;&gt;264</title>\n<path fill=\"none\" stroke=\"#000000\" d=\"M8393.9728,-504.9465C8378.5885,-495.2497 8361.6984,-484.6039 8345.8379,-474.6069\"/>\n<polygon fill=\"#000000\" stroke=\"#000000\" points=\"8347.4746,-471.5013 8337.1486,-469.13 8343.742,-477.4232 8347.4746,-471.5013\"/>\n</g>\n<!-- 269 -->\n<g id=\"node270\" class=\"node\">\n<title>269</title>\n<polygon fill=\"none\" stroke=\"#000000\" points=\"8520,-469 8376,-469 8376,-401 8520,-401 8520,-469\"/>\n<text text-anchor=\"middle\" x=\"8448\" y=\"-453.8\" font-family=\"Helvetica,sans-Serif\" font-size=\"14.00\" fill=\"#000000\">X[2] &lt;= &#45;0.013</text>\n<text text-anchor=\"middle\" x=\"8448\" y=\"-438.8\" font-family=\"Helvetica,sans-Serif\" font-size=\"14.00\" fill=\"#000000\">squared_error = 0.0</text>\n<text text-anchor=\"middle\" x=\"8448\" y=\"-423.8\" font-family=\"Helvetica,sans-Serif\" font-size=\"14.00\" fill=\"#000000\">samples = 5</text>\n<text text-anchor=\"middle\" x=\"8448\" y=\"-408.8\" font-family=\"Helvetica,sans-Serif\" font-size=\"14.00\" fill=\"#000000\">value = 0.004</text>\n</g>\n<!-- 263&#45;&gt;269 -->\n<g id=\"edge269\" class=\"edge\">\n<title>263&#45;&gt;269</title>\n<path fill=\"none\" stroke=\"#000000\" d=\"M8448,-504.9465C8448,-496.776 8448,-487.9318 8448,-479.3697\"/>\n<polygon fill=\"#000000\" stroke=\"#000000\" points=\"8451.5001,-479.13 8448,-469.13 8444.5001,-479.13 8451.5001,-479.13\"/>\n</g>\n<!-- 265 -->\n<g id=\"node266\" class=\"node\">\n<title>265</title>\n<polygon fill=\"none\" stroke=\"#000000\" points=\"8190,-365 8046,-365 8046,-297 8190,-297 8190,-365\"/>\n<text text-anchor=\"middle\" x=\"8118\" y=\"-349.8\" font-family=\"Helvetica,sans-Serif\" font-size=\"14.00\" fill=\"#000000\">X[30] &lt;= 0.001</text>\n<text text-anchor=\"middle\" x=\"8118\" y=\"-334.8\" font-family=\"Helvetica,sans-Serif\" font-size=\"14.00\" fill=\"#000000\">squared_error = 0.0</text>\n<text text-anchor=\"middle\" x=\"8118\" y=\"-319.8\" font-family=\"Helvetica,sans-Serif\" font-size=\"14.00\" fill=\"#000000\">samples = 2</text>\n<text text-anchor=\"middle\" x=\"8118\" y=\"-304.8\" font-family=\"Helvetica,sans-Serif\" font-size=\"14.00\" fill=\"#000000\">value = &#45;0.001</text>\n</g>\n<!-- 264&#45;&gt;265 -->\n<g id=\"edge265\" class=\"edge\">\n<title>264&#45;&gt;265</title>\n<path fill=\"none\" stroke=\"#000000\" d=\"M8228.9728,-400.9465C8213.5885,-391.2497 8196.6984,-380.6039 8180.8379,-370.6069\"/>\n<polygon fill=\"#000000\" stroke=\"#000000\" points=\"8182.4746,-367.5013 8172.1486,-365.13 8178.742,-373.4232 8182.4746,-367.5013\"/>\n</g>\n<!-- 268 -->\n<g id=\"node269\" class=\"node\">\n<title>268</title>\n<polygon fill=\"none\" stroke=\"#000000\" points=\"8357.5,-357.5 8208.5,-357.5 8208.5,-304.5 8357.5,-304.5 8357.5,-357.5\"/>\n<text text-anchor=\"middle\" x=\"8283\" y=\"-342.3\" font-family=\"Helvetica,sans-Serif\" font-size=\"14.00\" fill=\"#000000\">squared_error = &#45;0.0</text>\n<text text-anchor=\"middle\" x=\"8283\" y=\"-327.3\" font-family=\"Helvetica,sans-Serif\" font-size=\"14.00\" fill=\"#000000\">samples = 1</text>\n<text text-anchor=\"middle\" x=\"8283\" y=\"-312.3\" font-family=\"Helvetica,sans-Serif\" font-size=\"14.00\" fill=\"#000000\">value = 0.001</text>\n</g>\n<!-- 264&#45;&gt;268 -->\n<g id=\"edge268\" class=\"edge\">\n<title>264&#45;&gt;268</title>\n<path fill=\"none\" stroke=\"#000000\" d=\"M8283,-400.9465C8283,-390.2621 8283,-378.4254 8283,-367.5742\"/>\n<polygon fill=\"#000000\" stroke=\"#000000\" points=\"8286.5001,-367.5421 8283,-357.5422 8279.5001,-367.5422 8286.5001,-367.5421\"/>\n</g>\n<!-- 266 -->\n<g id=\"node267\" class=\"node\">\n<title>266</title>\n<polygon fill=\"none\" stroke=\"#000000\" points=\"8109,-253.5 7965,-253.5 7965,-200.5 8109,-200.5 8109,-253.5\"/>\n<text text-anchor=\"middle\" x=\"8037\" y=\"-238.3\" font-family=\"Helvetica,sans-Serif\" font-size=\"14.00\" fill=\"#000000\">squared_error = 0.0</text>\n<text text-anchor=\"middle\" x=\"8037\" y=\"-223.3\" font-family=\"Helvetica,sans-Serif\" font-size=\"14.00\" fill=\"#000000\">samples = 1</text>\n<text text-anchor=\"middle\" x=\"8037\" y=\"-208.3\" font-family=\"Helvetica,sans-Serif\" font-size=\"14.00\" fill=\"#000000\">value = &#45;0.0</text>\n</g>\n<!-- 265&#45;&gt;266 -->\n<g id=\"edge266\" class=\"edge\">\n<title>265&#45;&gt;266</title>\n<path fill=\"none\" stroke=\"#000000\" d=\"M8091.4776,-296.9465C8082.6413,-285.6012 8072.7932,-272.9567 8063.9266,-261.5724\"/>\n<polygon fill=\"#000000\" stroke=\"#000000\" points=\"8066.5783,-259.281 8057.6723,-253.5422 8061.0556,-263.5823 8066.5783,-259.281\"/>\n</g>\n<!-- 267 -->\n<g id=\"node268\" class=\"node\">\n<title>267</title>\n<polygon fill=\"none\" stroke=\"#000000\" points=\"8271,-253.5 8127,-253.5 8127,-200.5 8271,-200.5 8271,-253.5\"/>\n<text text-anchor=\"middle\" x=\"8199\" y=\"-238.3\" font-family=\"Helvetica,sans-Serif\" font-size=\"14.00\" fill=\"#000000\">squared_error = 0.0</text>\n<text text-anchor=\"middle\" x=\"8199\" y=\"-223.3\" font-family=\"Helvetica,sans-Serif\" font-size=\"14.00\" fill=\"#000000\">samples = 1</text>\n<text text-anchor=\"middle\" x=\"8199\" y=\"-208.3\" font-family=\"Helvetica,sans-Serif\" font-size=\"14.00\" fill=\"#000000\">value = &#45;0.002</text>\n</g>\n<!-- 265&#45;&gt;267 -->\n<g id=\"edge267\" class=\"edge\">\n<title>265&#45;&gt;267</title>\n<path fill=\"none\" stroke=\"#000000\" d=\"M8144.5224,-296.9465C8153.3587,-285.6012 8163.2068,-272.9567 8172.0734,-261.5724\"/>\n<polygon fill=\"#000000\" stroke=\"#000000\" points=\"8174.9444,-263.5823 8178.3277,-253.5422 8169.4217,-259.281 8174.9444,-263.5823\"/>\n</g>\n<!-- 270 -->\n<g id=\"node271\" class=\"node\">\n<title>270</title>\n<polygon fill=\"none\" stroke=\"#000000\" points=\"8520,-357.5 8376,-357.5 8376,-304.5 8520,-304.5 8520,-357.5\"/>\n<text text-anchor=\"middle\" x=\"8448\" y=\"-342.3\" font-family=\"Helvetica,sans-Serif\" font-size=\"14.00\" fill=\"#000000\">squared_error = 0.0</text>\n<text text-anchor=\"middle\" x=\"8448\" y=\"-327.3\" font-family=\"Helvetica,sans-Serif\" font-size=\"14.00\" fill=\"#000000\">samples = 1</text>\n<text text-anchor=\"middle\" x=\"8448\" y=\"-312.3\" font-family=\"Helvetica,sans-Serif\" font-size=\"14.00\" fill=\"#000000\">value = 0.006</text>\n</g>\n<!-- 269&#45;&gt;270 -->\n<g id=\"edge270\" class=\"edge\">\n<title>269&#45;&gt;270</title>\n<path fill=\"none\" stroke=\"#000000\" d=\"M8448,-400.9465C8448,-390.2621 8448,-378.4254 8448,-367.5742\"/>\n<polygon fill=\"#000000\" stroke=\"#000000\" points=\"8451.5001,-367.5421 8448,-357.5422 8444.5001,-367.5422 8451.5001,-367.5421\"/>\n</g>\n<!-- 271 -->\n<g id=\"node272\" class=\"node\">\n<title>271</title>\n<polygon fill=\"none\" stroke=\"#000000\" points=\"8682,-365 8538,-365 8538,-297 8682,-297 8682,-365\"/>\n<text text-anchor=\"middle\" x=\"8610\" y=\"-349.8\" font-family=\"Helvetica,sans-Serif\" font-size=\"14.00\" fill=\"#000000\">X[27] &lt;= 0.001</text>\n<text text-anchor=\"middle\" x=\"8610\" y=\"-334.8\" font-family=\"Helvetica,sans-Serif\" font-size=\"14.00\" fill=\"#000000\">squared_error = 0.0</text>\n<text text-anchor=\"middle\" x=\"8610\" y=\"-319.8\" font-family=\"Helvetica,sans-Serif\" font-size=\"14.00\" fill=\"#000000\">samples = 4</text>\n<text text-anchor=\"middle\" x=\"8610\" y=\"-304.8\" font-family=\"Helvetica,sans-Serif\" font-size=\"14.00\" fill=\"#000000\">value = 0.003</text>\n</g>\n<!-- 269&#45;&gt;271 -->\n<g id=\"edge271\" class=\"edge\">\n<title>269&#45;&gt;271</title>\n<path fill=\"none\" stroke=\"#000000\" d=\"M8501.0449,-400.9465C8516.1495,-391.2497 8532.7324,-380.6039 8548.3046,-370.6069\"/>\n<polygon fill=\"#000000\" stroke=\"#000000\" points=\"8550.3116,-373.4777 8556.836,-365.13 8546.53,-367.5871 8550.3116,-373.4777\"/>\n</g>\n<!-- 272 -->\n<g id=\"node273\" class=\"node\">\n<title>272</title>\n<polygon fill=\"none\" stroke=\"#000000\" points=\"8601,-253.5 8457,-253.5 8457,-200.5 8601,-200.5 8601,-253.5\"/>\n<text text-anchor=\"middle\" x=\"8529\" y=\"-238.3\" font-family=\"Helvetica,sans-Serif\" font-size=\"14.00\" fill=\"#000000\">squared_error = 0.0</text>\n<text text-anchor=\"middle\" x=\"8529\" y=\"-223.3\" font-family=\"Helvetica,sans-Serif\" font-size=\"14.00\" fill=\"#000000\">samples = 1</text>\n<text text-anchor=\"middle\" x=\"8529\" y=\"-208.3\" font-family=\"Helvetica,sans-Serif\" font-size=\"14.00\" fill=\"#000000\">value = 0.001</text>\n</g>\n<!-- 271&#45;&gt;272 -->\n<g id=\"edge272\" class=\"edge\">\n<title>271&#45;&gt;272</title>\n<path fill=\"none\" stroke=\"#000000\" d=\"M8583.4776,-296.9465C8574.6413,-285.6012 8564.7932,-272.9567 8555.9266,-261.5724\"/>\n<polygon fill=\"#000000\" stroke=\"#000000\" points=\"8558.5783,-259.281 8549.6723,-253.5422 8553.0556,-263.5823 8558.5783,-259.281\"/>\n</g>\n<!-- 273 -->\n<g id=\"node274\" class=\"node\">\n<title>273</title>\n<polygon fill=\"none\" stroke=\"#000000\" points=\"8763,-261 8619,-261 8619,-193 8763,-193 8763,-261\"/>\n<text text-anchor=\"middle\" x=\"8691\" y=\"-245.8\" font-family=\"Helvetica,sans-Serif\" font-size=\"14.00\" fill=\"#000000\">X[20] &lt;= 0.005</text>\n<text text-anchor=\"middle\" x=\"8691\" y=\"-230.8\" font-family=\"Helvetica,sans-Serif\" font-size=\"14.00\" fill=\"#000000\">squared_error = 0.0</text>\n<text text-anchor=\"middle\" x=\"8691\" y=\"-215.8\" font-family=\"Helvetica,sans-Serif\" font-size=\"14.00\" fill=\"#000000\">samples = 3</text>\n<text text-anchor=\"middle\" x=\"8691\" y=\"-200.8\" font-family=\"Helvetica,sans-Serif\" font-size=\"14.00\" fill=\"#000000\">value = 0.003</text>\n</g>\n<!-- 271&#45;&gt;273 -->\n<g id=\"edge273\" class=\"edge\">\n<title>271&#45;&gt;273</title>\n<path fill=\"none\" stroke=\"#000000\" d=\"M8636.5224,-296.9465C8643.4454,-288.0578 8650.9894,-278.3716 8658.196,-269.1188\"/>\n<polygon fill=\"#000000\" stroke=\"#000000\" points=\"8661.0346,-271.1701 8664.418,-261.13 8655.512,-266.8688 8661.0346,-271.1701\"/>\n</g>\n<!-- 274 -->\n<g id=\"node275\" class=\"node\">\n<title>274</title>\n<polygon fill=\"none\" stroke=\"#000000\" points=\"8682,-157 8538,-157 8538,-89 8682,-89 8682,-157\"/>\n<text text-anchor=\"middle\" x=\"8610\" y=\"-141.8\" font-family=\"Helvetica,sans-Serif\" font-size=\"14.00\" fill=\"#000000\">X[12] &lt;= &#45;0.01</text>\n<text text-anchor=\"middle\" x=\"8610\" y=\"-126.8\" font-family=\"Helvetica,sans-Serif\" font-size=\"14.00\" fill=\"#000000\">squared_error = 0.0</text>\n<text text-anchor=\"middle\" x=\"8610\" y=\"-111.8\" font-family=\"Helvetica,sans-Serif\" font-size=\"14.00\" fill=\"#000000\">samples = 2</text>\n<text text-anchor=\"middle\" x=\"8610\" y=\"-96.8\" font-family=\"Helvetica,sans-Serif\" font-size=\"14.00\" fill=\"#000000\">value = 0.003</text>\n</g>\n<!-- 273&#45;&gt;274 -->\n<g id=\"edge274\" class=\"edge\">\n<title>273&#45;&gt;274</title>\n<path fill=\"none\" stroke=\"#000000\" d=\"M8664.4776,-192.9465C8657.5546,-184.0578 8650.0106,-174.3716 8642.804,-165.1188\"/>\n<polygon fill=\"#000000\" stroke=\"#000000\" points=\"8645.488,-162.8688 8636.582,-157.13 8639.9654,-167.1701 8645.488,-162.8688\"/>\n</g>\n<!-- 277 -->\n<g id=\"node278\" class=\"node\">\n<title>277</title>\n<polygon fill=\"none\" stroke=\"#000000\" points=\"8844,-149.5 8700,-149.5 8700,-96.5 8844,-96.5 8844,-149.5\"/>\n<text text-anchor=\"middle\" x=\"8772\" y=\"-134.3\" font-family=\"Helvetica,sans-Serif\" font-size=\"14.00\" fill=\"#000000\">squared_error = 0.0</text>\n<text text-anchor=\"middle\" x=\"8772\" y=\"-119.3\" font-family=\"Helvetica,sans-Serif\" font-size=\"14.00\" fill=\"#000000\">samples = 1</text>\n<text text-anchor=\"middle\" x=\"8772\" y=\"-104.3\" font-family=\"Helvetica,sans-Serif\" font-size=\"14.00\" fill=\"#000000\">value = 0.003</text>\n</g>\n<!-- 273&#45;&gt;277 -->\n<g id=\"edge277\" class=\"edge\">\n<title>273&#45;&gt;277</title>\n<path fill=\"none\" stroke=\"#000000\" d=\"M8717.5224,-192.9465C8726.3587,-181.6012 8736.2068,-168.9567 8745.0734,-157.5724\"/>\n<polygon fill=\"#000000\" stroke=\"#000000\" points=\"8747.9444,-159.5823 8751.3277,-149.5422 8742.4217,-155.281 8747.9444,-159.5823\"/>\n</g>\n<!-- 275 -->\n<g id=\"node276\" class=\"node\">\n<title>275</title>\n<polygon fill=\"none\" stroke=\"#000000\" points=\"8601,-53 8457,-53 8457,0 8601,0 8601,-53\"/>\n<text text-anchor=\"middle\" x=\"8529\" y=\"-37.8\" font-family=\"Helvetica,sans-Serif\" font-size=\"14.00\" fill=\"#000000\">squared_error = 0.0</text>\n<text text-anchor=\"middle\" x=\"8529\" y=\"-22.8\" font-family=\"Helvetica,sans-Serif\" font-size=\"14.00\" fill=\"#000000\">samples = 1</text>\n<text text-anchor=\"middle\" x=\"8529\" y=\"-7.8\" font-family=\"Helvetica,sans-Serif\" font-size=\"14.00\" fill=\"#000000\">value = 0.003</text>\n</g>\n<!-- 274&#45;&gt;275 -->\n<g id=\"edge275\" class=\"edge\">\n<title>274&#45;&gt;275</title>\n<path fill=\"none\" stroke=\"#000000\" d=\"M8581.4424,-88.9777C8573.8331,-79.9123 8565.6061,-70.111 8557.9747,-61.0192\"/>\n<polygon fill=\"#000000\" stroke=\"#000000\" points=\"8560.562,-58.6577 8551.4521,-53.2485 8555.2005,-63.1581 8560.562,-58.6577\"/>\n</g>\n<!-- 276 -->\n<g id=\"node277\" class=\"node\">\n<title>276</title>\n<polygon fill=\"none\" stroke=\"#000000\" points=\"8763,-53 8619,-53 8619,0 8763,0 8763,-53\"/>\n<text text-anchor=\"middle\" x=\"8691\" y=\"-37.8\" font-family=\"Helvetica,sans-Serif\" font-size=\"14.00\" fill=\"#000000\">squared_error = 0.0</text>\n<text text-anchor=\"middle\" x=\"8691\" y=\"-22.8\" font-family=\"Helvetica,sans-Serif\" font-size=\"14.00\" fill=\"#000000\">samples = 1</text>\n<text text-anchor=\"middle\" x=\"8691\" y=\"-7.8\" font-family=\"Helvetica,sans-Serif\" font-size=\"14.00\" fill=\"#000000\">value = 0.003</text>\n</g>\n<!-- 274&#45;&gt;276 -->\n<g id=\"edge276\" class=\"edge\">\n<title>274&#45;&gt;276</title>\n<path fill=\"none\" stroke=\"#000000\" d=\"M8638.5576,-88.9777C8646.1669,-79.9123 8654.3939,-70.111 8662.0253,-61.0192\"/>\n<polygon fill=\"#000000\" stroke=\"#000000\" points=\"8664.7995,-63.1581 8668.5479,-53.2485 8659.438,-58.6577 8664.7995,-63.1581\"/>\n</g>\n<!-- 279 -->\n<g id=\"node280\" class=\"node\">\n<title>279</title>\n<polygon fill=\"none\" stroke=\"#000000\" points=\"8682,-461.5 8538,-461.5 8538,-408.5 8682,-408.5 8682,-461.5\"/>\n<text text-anchor=\"middle\" x=\"8610\" y=\"-446.3\" font-family=\"Helvetica,sans-Serif\" font-size=\"14.00\" fill=\"#000000\">squared_error = 0.0</text>\n<text text-anchor=\"middle\" x=\"8610\" y=\"-431.3\" font-family=\"Helvetica,sans-Serif\" font-size=\"14.00\" fill=\"#000000\">samples = 1</text>\n<text text-anchor=\"middle\" x=\"8610\" y=\"-416.3\" font-family=\"Helvetica,sans-Serif\" font-size=\"14.00\" fill=\"#000000\">value = &#45;0.003</text>\n</g>\n<!-- 278&#45;&gt;279 -->\n<g id=\"edge279\" class=\"edge\">\n<title>278&#45;&gt;279</title>\n<path fill=\"none\" stroke=\"#000000\" d=\"M8610,-504.9465C8610,-494.2621 8610,-482.4254 8610,-471.5742\"/>\n<polygon fill=\"#000000\" stroke=\"#000000\" points=\"8613.5001,-471.5421 8610,-461.5422 8606.5001,-471.5422 8613.5001,-471.5421\"/>\n</g>\n<!-- 280 -->\n<g id=\"node281\" class=\"node\">\n<title>280</title>\n<polygon fill=\"none\" stroke=\"#000000\" points=\"8844,-461.5 8700,-461.5 8700,-408.5 8844,-408.5 8844,-461.5\"/>\n<text text-anchor=\"middle\" x=\"8772\" y=\"-446.3\" font-family=\"Helvetica,sans-Serif\" font-size=\"14.00\" fill=\"#000000\">squared_error = 0.0</text>\n<text text-anchor=\"middle\" x=\"8772\" y=\"-431.3\" font-family=\"Helvetica,sans-Serif\" font-size=\"14.00\" fill=\"#000000\">samples = 1</text>\n<text text-anchor=\"middle\" x=\"8772\" y=\"-416.3\" font-family=\"Helvetica,sans-Serif\" font-size=\"14.00\" fill=\"#000000\">value = &#45;0.007</text>\n</g>\n<!-- 278&#45;&gt;280 -->\n<g id=\"edge280\" class=\"edge\">\n<title>278&#45;&gt;280</title>\n<path fill=\"none\" stroke=\"#000000\" d=\"M8663.0449,-504.9465C8682.0043,-492.775 8703.2927,-479.1084 8721.9879,-467.1066\"/>\n<polygon fill=\"#000000\" stroke=\"#000000\" points=\"8724.1311,-469.8898 8730.6555,-461.5422 8720.3495,-463.9992 8724.1311,-469.8898\"/>\n</g>\n<!-- 282 -->\n<g id=\"node283\" class=\"node\">\n<title>282</title>\n<polygon fill=\"none\" stroke=\"#000000\" points=\"8073,-877.5 7929,-877.5 7929,-824.5 8073,-824.5 8073,-877.5\"/>\n<text text-anchor=\"middle\" x=\"8001\" y=\"-862.3\" font-family=\"Helvetica,sans-Serif\" font-size=\"14.00\" fill=\"#000000\">squared_error = 0.0</text>\n<text text-anchor=\"middle\" x=\"8001\" y=\"-847.3\" font-family=\"Helvetica,sans-Serif\" font-size=\"14.00\" fill=\"#000000\">samples = 1</text>\n<text text-anchor=\"middle\" x=\"8001\" y=\"-832.3\" font-family=\"Helvetica,sans-Serif\" font-size=\"14.00\" fill=\"#000000\">value = &#45;0.024</text>\n</g>\n<!-- 281&#45;&gt;282 -->\n<g id=\"edge282\" class=\"edge\">\n<title>281&#45;&gt;282</title>\n<path fill=\"none\" stroke=\"#000000\" d=\"M8055.4776,-920.9465C8046.6413,-909.6012 8036.7932,-896.9567 8027.9266,-885.5724\"/>\n<polygon fill=\"#000000\" stroke=\"#000000\" points=\"8030.5783,-883.281 8021.6723,-877.5422 8025.0556,-887.5823 8030.5783,-883.281\"/>\n</g>\n<!-- 283 -->\n<g id=\"node284\" class=\"node\">\n<title>283</title>\n<polygon fill=\"none\" stroke=\"#000000\" points=\"8235,-885 8091,-885 8091,-817 8235,-817 8235,-885\"/>\n<text text-anchor=\"middle\" x=\"8163\" y=\"-869.8\" font-family=\"Helvetica,sans-Serif\" font-size=\"14.00\" fill=\"#000000\">X[10] &lt;= 0.004</text>\n<text text-anchor=\"middle\" x=\"8163\" y=\"-854.8\" font-family=\"Helvetica,sans-Serif\" font-size=\"14.00\" fill=\"#000000\">squared_error = 0.0</text>\n<text text-anchor=\"middle\" x=\"8163\" y=\"-839.8\" font-family=\"Helvetica,sans-Serif\" font-size=\"14.00\" fill=\"#000000\">samples = 2</text>\n<text text-anchor=\"middle\" x=\"8163\" y=\"-824.8\" font-family=\"Helvetica,sans-Serif\" font-size=\"14.00\" fill=\"#000000\">value = &#45;0.009</text>\n</g>\n<!-- 281&#45;&gt;283 -->\n<g id=\"edge283\" class=\"edge\">\n<title>281&#45;&gt;283</title>\n<path fill=\"none\" stroke=\"#000000\" d=\"M8108.5224,-920.9465C8115.4454,-912.0578 8122.9894,-902.3716 8130.196,-893.1188\"/>\n<polygon fill=\"#000000\" stroke=\"#000000\" points=\"8133.0346,-895.1701 8136.418,-885.13 8127.512,-890.8688 8133.0346,-895.1701\"/>\n</g>\n<!-- 284 -->\n<g id=\"node285\" class=\"node\">\n<title>284</title>\n<polygon fill=\"none\" stroke=\"#000000\" points=\"8112,-773.5 7968,-773.5 7968,-720.5 8112,-720.5 8112,-773.5\"/>\n<text text-anchor=\"middle\" x=\"8040\" y=\"-758.3\" font-family=\"Helvetica,sans-Serif\" font-size=\"14.00\" fill=\"#000000\">squared_error = 0.0</text>\n<text text-anchor=\"middle\" x=\"8040\" y=\"-743.3\" font-family=\"Helvetica,sans-Serif\" font-size=\"14.00\" fill=\"#000000\">samples = 1</text>\n<text text-anchor=\"middle\" x=\"8040\" y=\"-728.3\" font-family=\"Helvetica,sans-Serif\" font-size=\"14.00\" fill=\"#000000\">value = &#45;0.008</text>\n</g>\n<!-- 283&#45;&gt;284 -->\n<g id=\"edge284\" class=\"edge\">\n<title>283&#45;&gt;284</title>\n<path fill=\"none\" stroke=\"#000000\" d=\"M8122.7252,-816.9465C8108.7861,-805.1606 8093.1888,-791.9726 8079.3268,-780.2519\"/>\n<polygon fill=\"#000000\" stroke=\"#000000\" points=\"8081.2873,-777.3262 8071.3912,-773.5422 8076.7676,-782.6715 8081.2873,-777.3262\"/>\n</g>\n<!-- 285 -->\n<g id=\"node286\" class=\"node\">\n<title>285</title>\n<polygon fill=\"none\" stroke=\"#000000\" points=\"8279.5,-773.5 8130.5,-773.5 8130.5,-720.5 8279.5,-720.5 8279.5,-773.5\"/>\n<text text-anchor=\"middle\" x=\"8205\" y=\"-758.3\" font-family=\"Helvetica,sans-Serif\" font-size=\"14.00\" fill=\"#000000\">squared_error = &#45;0.0</text>\n<text text-anchor=\"middle\" x=\"8205\" y=\"-743.3\" font-family=\"Helvetica,sans-Serif\" font-size=\"14.00\" fill=\"#000000\">samples = 1</text>\n<text text-anchor=\"middle\" x=\"8205\" y=\"-728.3\" font-family=\"Helvetica,sans-Serif\" font-size=\"14.00\" fill=\"#000000\">value = &#45;0.009</text>\n</g>\n<!-- 283&#45;&gt;285 -->\n<g id=\"edge285\" class=\"edge\">\n<title>283&#45;&gt;285</title>\n<path fill=\"none\" stroke=\"#000000\" d=\"M8176.7524,-816.9465C8181.1562,-806.0418 8186.0447,-793.9368 8190.5002,-782.9043\"/>\n<polygon fill=\"#000000\" stroke=\"#000000\" points=\"8193.7817,-784.1252 8194.281,-773.5422 8187.291,-781.5039 8193.7817,-784.1252\"/>\n</g>\n<!-- 287 -->\n<g id=\"node288\" class=\"node\">\n<title>287</title>\n<polygon fill=\"none\" stroke=\"#000000\" points=\"8357,-989 8213,-989 8213,-921 8357,-921 8357,-989\"/>\n<text text-anchor=\"middle\" x=\"8285\" y=\"-973.8\" font-family=\"Helvetica,sans-Serif\" font-size=\"14.00\" fill=\"#000000\">X[12] &lt;= 0.032</text>\n<text text-anchor=\"middle\" x=\"8285\" y=\"-958.8\" font-family=\"Helvetica,sans-Serif\" font-size=\"14.00\" fill=\"#000000\">squared_error = 0.0</text>\n<text text-anchor=\"middle\" x=\"8285\" y=\"-943.8\" font-family=\"Helvetica,sans-Serif\" font-size=\"14.00\" fill=\"#000000\">samples = 3</text>\n<text text-anchor=\"middle\" x=\"8285\" y=\"-928.8\" font-family=\"Helvetica,sans-Serif\" font-size=\"14.00\" fill=\"#000000\">value = &#45;0.022</text>\n</g>\n<!-- 286&#45;&gt;287 -->\n<g id=\"edge287\" class=\"edge\">\n<title>286&#45;&gt;287</title>\n<path fill=\"none\" stroke=\"#000000\" d=\"M8285,-1024.9465C8285,-1016.776 8285,-1007.9318 8285,-999.3697\"/>\n<polygon fill=\"#000000\" stroke=\"#000000\" points=\"8288.5001,-999.13 8285,-989.13 8281.5001,-999.13 8288.5001,-999.13\"/>\n</g>\n<!-- 292 -->\n<g id=\"node293\" class=\"node\">\n<title>292</title>\n<polygon fill=\"none\" stroke=\"#000000\" points=\"8519,-981.5 8375,-981.5 8375,-928.5 8519,-928.5 8519,-981.5\"/>\n<text text-anchor=\"middle\" x=\"8447\" y=\"-966.3\" font-family=\"Helvetica,sans-Serif\" font-size=\"14.00\" fill=\"#000000\">squared_error = 0.0</text>\n<text text-anchor=\"middle\" x=\"8447\" y=\"-951.3\" font-family=\"Helvetica,sans-Serif\" font-size=\"14.00\" fill=\"#000000\">samples = 1</text>\n<text text-anchor=\"middle\" x=\"8447\" y=\"-936.3\" font-family=\"Helvetica,sans-Serif\" font-size=\"14.00\" fill=\"#000000\">value = 0.0</text>\n</g>\n<!-- 286&#45;&gt;292 -->\n<g id=\"edge292\" class=\"edge\">\n<title>286&#45;&gt;292</title>\n<path fill=\"none\" stroke=\"#000000\" d=\"M8338.0449,-1024.9465C8357.0043,-1012.775 8378.2927,-999.1084 8396.9879,-987.1066\"/>\n<polygon fill=\"#000000\" stroke=\"#000000\" points=\"8399.1311,-989.8898 8405.6555,-981.5422 8395.3495,-983.9992 8399.1311,-989.8898\"/>\n</g>\n<!-- 288 -->\n<g id=\"node289\" class=\"node\">\n<title>288</title>\n<polygon fill=\"none\" stroke=\"#000000\" points=\"8398,-885 8254,-885 8254,-817 8398,-817 8398,-885\"/>\n<text text-anchor=\"middle\" x=\"8326\" y=\"-869.8\" font-family=\"Helvetica,sans-Serif\" font-size=\"14.00\" fill=\"#000000\">X[11] &lt;= 0.003</text>\n<text text-anchor=\"middle\" x=\"8326\" y=\"-854.8\" font-family=\"Helvetica,sans-Serif\" font-size=\"14.00\" fill=\"#000000\">squared_error = 0.0</text>\n<text text-anchor=\"middle\" x=\"8326\" y=\"-839.8\" font-family=\"Helvetica,sans-Serif\" font-size=\"14.00\" fill=\"#000000\">samples = 2</text>\n<text text-anchor=\"middle\" x=\"8326\" y=\"-824.8\" font-family=\"Helvetica,sans-Serif\" font-size=\"14.00\" fill=\"#000000\">value = &#45;0.026</text>\n</g>\n<!-- 287&#45;&gt;288 -->\n<g id=\"edge288\" class=\"edge\">\n<title>287&#45;&gt;288</title>\n<path fill=\"none\" stroke=\"#000000\" d=\"M8298.4249,-920.9465C8301.7522,-912.5067 8305.3628,-903.3479 8308.8416,-894.5239\"/>\n<polygon fill=\"#000000\" stroke=\"#000000\" points=\"8312.1334,-895.7168 8312.5449,-885.13 8305.6211,-893.1495 8312.1334,-895.7168\"/>\n</g>\n<!-- 291 -->\n<g id=\"node292\" class=\"node\">\n<title>291</title>\n<polygon fill=\"none\" stroke=\"#000000\" points=\"8560,-877.5 8416,-877.5 8416,-824.5 8560,-824.5 8560,-877.5\"/>\n<text text-anchor=\"middle\" x=\"8488\" y=\"-862.3\" font-family=\"Helvetica,sans-Serif\" font-size=\"14.00\" fill=\"#000000\">squared_error = 0.0</text>\n<text text-anchor=\"middle\" x=\"8488\" y=\"-847.3\" font-family=\"Helvetica,sans-Serif\" font-size=\"14.00\" fill=\"#000000\">samples = 1</text>\n<text text-anchor=\"middle\" x=\"8488\" y=\"-832.3\" font-family=\"Helvetica,sans-Serif\" font-size=\"14.00\" fill=\"#000000\">value = &#45;0.015</text>\n</g>\n<!-- 287&#45;&gt;291 -->\n<g id=\"edge291\" class=\"edge\">\n<title>287&#45;&gt;291</title>\n<path fill=\"none\" stroke=\"#000000\" d=\"M8351.4698,-920.9465C8375.8726,-908.4446 8403.3545,-894.3652 8427.2312,-882.1328\"/>\n<polygon fill=\"#000000\" stroke=\"#000000\" points=\"8428.8876,-885.2168 8436.1917,-877.5422 8425.6958,-878.9868 8428.8876,-885.2168\"/>\n</g>\n<!-- 289 -->\n<g id=\"node290\" class=\"node\">\n<title>289</title>\n<polygon fill=\"none\" stroke=\"#000000\" points=\"8442,-773.5 8298,-773.5 8298,-720.5 8442,-720.5 8442,-773.5\"/>\n<text text-anchor=\"middle\" x=\"8370\" y=\"-758.3\" font-family=\"Helvetica,sans-Serif\" font-size=\"14.00\" fill=\"#000000\">squared_error = 0.0</text>\n<text text-anchor=\"middle\" x=\"8370\" y=\"-743.3\" font-family=\"Helvetica,sans-Serif\" font-size=\"14.00\" fill=\"#000000\">samples = 1</text>\n<text text-anchor=\"middle\" x=\"8370\" y=\"-728.3\" font-family=\"Helvetica,sans-Serif\" font-size=\"14.00\" fill=\"#000000\">value = &#45;0.027</text>\n</g>\n<!-- 288&#45;&gt;289 -->\n<g id=\"edge289\" class=\"edge\">\n<title>288&#45;&gt;289</title>\n<path fill=\"none\" stroke=\"#000000\" d=\"M8340.4072,-816.9465C8345.0208,-806.0418 8350.1421,-793.9368 8354.8097,-782.9043\"/>\n<polygon fill=\"#000000\" stroke=\"#000000\" points=\"8358.0976,-784.1156 8358.7706,-773.5422 8351.6508,-781.3881 8358.0976,-784.1156\"/>\n</g>\n<!-- 290 -->\n<g id=\"node291\" class=\"node\">\n<title>290</title>\n<polygon fill=\"none\" stroke=\"#000000\" points=\"8609.5,-773.5 8460.5,-773.5 8460.5,-720.5 8609.5,-720.5 8609.5,-773.5\"/>\n<text text-anchor=\"middle\" x=\"8535\" y=\"-758.3\" font-family=\"Helvetica,sans-Serif\" font-size=\"14.00\" fill=\"#000000\">squared_error = &#45;0.0</text>\n<text text-anchor=\"middle\" x=\"8535\" y=\"-743.3\" font-family=\"Helvetica,sans-Serif\" font-size=\"14.00\" fill=\"#000000\">samples = 1</text>\n<text text-anchor=\"middle\" x=\"8535\" y=\"-728.3\" font-family=\"Helvetica,sans-Serif\" font-size=\"14.00\" fill=\"#000000\">value = &#45;0.025</text>\n</g>\n<!-- 288&#45;&gt;290 -->\n<g id=\"edge290\" class=\"edge\">\n<title>288&#45;&gt;290</title>\n<path fill=\"none\" stroke=\"#000000\" d=\"M8394.4344,-816.9465C8419.5585,-804.4446 8447.8526,-790.3652 8472.4351,-778.1328\"/>\n<polygon fill=\"#000000\" stroke=\"#000000\" points=\"8474.2669,-781.1307 8481.6605,-773.5422 8471.1484,-774.8637 8474.2669,-781.1307\"/>\n</g>\n<!-- 294 -->\n<g id=\"node295\" class=\"node\">\n<title>294</title>\n<polygon fill=\"none\" stroke=\"#000000\" points=\"8519,-1085.5 8375,-1085.5 8375,-1032.5 8519,-1032.5 8519,-1085.5\"/>\n<text text-anchor=\"middle\" x=\"8447\" y=\"-1070.3\" font-family=\"Helvetica,sans-Serif\" font-size=\"14.00\" fill=\"#000000\">squared_error = 0.0</text>\n<text text-anchor=\"middle\" x=\"8447\" y=\"-1055.3\" font-family=\"Helvetica,sans-Serif\" font-size=\"14.00\" fill=\"#000000\">samples = 1</text>\n<text text-anchor=\"middle\" x=\"8447\" y=\"-1040.3\" font-family=\"Helvetica,sans-Serif\" font-size=\"14.00\" fill=\"#000000\">value = 0.025</text>\n</g>\n<!-- 293&#45;&gt;294 -->\n<g id=\"edge294\" class=\"edge\">\n<title>293&#45;&gt;294</title>\n<path fill=\"none\" stroke=\"#000000\" d=\"M8447,-1128.9465C8447,-1118.2621 8447,-1106.4254 8447,-1095.5742\"/>\n<polygon fill=\"#000000\" stroke=\"#000000\" points=\"8450.5001,-1095.5421 8447,-1085.5422 8443.5001,-1095.5422 8450.5001,-1095.5421\"/>\n</g>\n<!-- 295 -->\n<g id=\"node296\" class=\"node\">\n<title>295</title>\n<polygon fill=\"none\" stroke=\"#000000\" points=\"8681,-1093 8537,-1093 8537,-1025 8681,-1025 8681,-1093\"/>\n<text text-anchor=\"middle\" x=\"8609\" y=\"-1077.8\" font-family=\"Helvetica,sans-Serif\" font-size=\"14.00\" fill=\"#000000\">X[1] &lt;= 0.012</text>\n<text text-anchor=\"middle\" x=\"8609\" y=\"-1062.8\" font-family=\"Helvetica,sans-Serif\" font-size=\"14.00\" fill=\"#000000\">squared_error = 0.0</text>\n<text text-anchor=\"middle\" x=\"8609\" y=\"-1047.8\" font-family=\"Helvetica,sans-Serif\" font-size=\"14.00\" fill=\"#000000\">samples = 2</text>\n<text text-anchor=\"middle\" x=\"8609\" y=\"-1032.8\" font-family=\"Helvetica,sans-Serif\" font-size=\"14.00\" fill=\"#000000\">value = 0.019</text>\n</g>\n<!-- 293&#45;&gt;295 -->\n<g id=\"edge295\" class=\"edge\">\n<title>293&#45;&gt;295</title>\n<path fill=\"none\" stroke=\"#000000\" d=\"M8500.0449,-1128.9465C8515.1495,-1119.2497 8531.7324,-1108.6039 8547.3046,-1098.6069\"/>\n<polygon fill=\"#000000\" stroke=\"#000000\" points=\"8549.3116,-1101.4777 8555.836,-1093.13 8545.53,-1095.5871 8549.3116,-1101.4777\"/>\n</g>\n<!-- 296 -->\n<g id=\"node297\" class=\"node\">\n<title>296</title>\n<polygon fill=\"none\" stroke=\"#000000\" points=\"8681,-981.5 8537,-981.5 8537,-928.5 8681,-928.5 8681,-981.5\"/>\n<text text-anchor=\"middle\" x=\"8609\" y=\"-966.3\" font-family=\"Helvetica,sans-Serif\" font-size=\"14.00\" fill=\"#000000\">squared_error = 0.0</text>\n<text text-anchor=\"middle\" x=\"8609\" y=\"-951.3\" font-family=\"Helvetica,sans-Serif\" font-size=\"14.00\" fill=\"#000000\">samples = 1</text>\n<text text-anchor=\"middle\" x=\"8609\" y=\"-936.3\" font-family=\"Helvetica,sans-Serif\" font-size=\"14.00\" fill=\"#000000\">value = 0.018</text>\n</g>\n<!-- 295&#45;&gt;296 -->\n<g id=\"edge296\" class=\"edge\">\n<title>295&#45;&gt;296</title>\n<path fill=\"none\" stroke=\"#000000\" d=\"M8609,-1024.9465C8609,-1014.2621 8609,-1002.4254 8609,-991.5742\"/>\n<polygon fill=\"#000000\" stroke=\"#000000\" points=\"8612.5001,-991.5421 8609,-981.5422 8605.5001,-991.5422 8612.5001,-991.5421\"/>\n</g>\n<!-- 297 -->\n<g id=\"node298\" class=\"node\">\n<title>297</title>\n<polygon fill=\"none\" stroke=\"#000000\" points=\"8843,-981.5 8699,-981.5 8699,-928.5 8843,-928.5 8843,-981.5\"/>\n<text text-anchor=\"middle\" x=\"8771\" y=\"-966.3\" font-family=\"Helvetica,sans-Serif\" font-size=\"14.00\" fill=\"#000000\">squared_error = 0.0</text>\n<text text-anchor=\"middle\" x=\"8771\" y=\"-951.3\" font-family=\"Helvetica,sans-Serif\" font-size=\"14.00\" fill=\"#000000\">samples = 1</text>\n<text text-anchor=\"middle\" x=\"8771\" y=\"-936.3\" font-family=\"Helvetica,sans-Serif\" font-size=\"14.00\" fill=\"#000000\">value = 0.02</text>\n</g>\n<!-- 295&#45;&gt;297 -->\n<g id=\"edge297\" class=\"edge\">\n<title>295&#45;&gt;297</title>\n<path fill=\"none\" stroke=\"#000000\" d=\"M8662.0449,-1024.9465C8681.0043,-1012.775 8702.2927,-999.1084 8720.9879,-987.1066\"/>\n<polygon fill=\"#000000\" stroke=\"#000000\" points=\"8723.1311,-989.8898 8729.6555,-981.5422 8719.3495,-983.9992 8723.1311,-989.8898\"/>\n</g>\n<!-- 299 -->\n<g id=\"node300\" class=\"node\">\n<title>299</title>\n<polygon fill=\"none\" stroke=\"#000000\" points=\"9779,-1301 9635,-1301 9635,-1233 9779,-1233 9779,-1301\"/>\n<text text-anchor=\"middle\" x=\"9707\" y=\"-1285.8\" font-family=\"Helvetica,sans-Serif\" font-size=\"14.00\" fill=\"#000000\">X[31] &lt;= 0.006</text>\n<text text-anchor=\"middle\" x=\"9707\" y=\"-1270.8\" font-family=\"Helvetica,sans-Serif\" font-size=\"14.00\" fill=\"#000000\">squared_error = 0.0</text>\n<text text-anchor=\"middle\" x=\"9707\" y=\"-1255.8\" font-family=\"Helvetica,sans-Serif\" font-size=\"14.00\" fill=\"#000000\">samples = 30</text>\n<text text-anchor=\"middle\" x=\"9707\" y=\"-1240.8\" font-family=\"Helvetica,sans-Serif\" font-size=\"14.00\" fill=\"#000000\">value = 0.008</text>\n</g>\n<!-- 298&#45;&gt;299 -->\n<g id=\"edge299\" class=\"edge\">\n<title>298&#45;&gt;299</title>\n<path fill=\"none\" stroke=\"#000000\" d=\"M9707,-1336.9465C9707,-1328.776 9707,-1319.9318 9707,-1311.3697\"/>\n<polygon fill=\"#000000\" stroke=\"#000000\" points=\"9710.5001,-1311.13 9707,-1301.13 9703.5001,-1311.13 9710.5001,-1311.13\"/>\n</g>\n<!-- 358 -->\n<g id=\"node359\" class=\"node\">\n<title>358</title>\n<polygon fill=\"none\" stroke=\"#000000\" points=\"11386,-1301 11242,-1301 11242,-1233 11386,-1233 11386,-1301\"/>\n<text text-anchor=\"middle\" x=\"11314\" y=\"-1285.8\" font-family=\"Helvetica,sans-Serif\" font-size=\"14.00\" fill=\"#000000\">X[12] &lt;= 0.014</text>\n<text text-anchor=\"middle\" x=\"11314\" y=\"-1270.8\" font-family=\"Helvetica,sans-Serif\" font-size=\"14.00\" fill=\"#000000\">squared_error = 0.0</text>\n<text text-anchor=\"middle\" x=\"11314\" y=\"-1255.8\" font-family=\"Helvetica,sans-Serif\" font-size=\"14.00\" fill=\"#000000\">samples = 23</text>\n<text text-anchor=\"middle\" x=\"11314\" y=\"-1240.8\" font-family=\"Helvetica,sans-Serif\" font-size=\"14.00\" fill=\"#000000\">value = 0.023</text>\n</g>\n<!-- 298&#45;&gt;358 -->\n<g id=\"edge358\" class=\"edge\">\n<title>298&#45;&gt;358</title>\n<path fill=\"none\" stroke=\"#000000\" d=\"M9779.1714,-1366.3293C10042.6522,-1349.2776 10951.8344,-1290.4382 11231.4923,-1272.3396\"/>\n<polygon fill=\"#000000\" stroke=\"#000000\" points=\"11231.8163,-1275.8261 11241.5694,-1271.6875 11231.3642,-1268.8407 11231.8163,-1275.8261\"/>\n</g>\n<!-- 300 -->\n<g id=\"node301\" class=\"node\">\n<title>300</title>\n<polygon fill=\"none\" stroke=\"#000000\" points=\"9485,-1197 9341,-1197 9341,-1129 9485,-1129 9485,-1197\"/>\n<text text-anchor=\"middle\" x=\"9413\" y=\"-1181.8\" font-family=\"Helvetica,sans-Serif\" font-size=\"14.00\" fill=\"#000000\">X[6] &lt;= 0.009</text>\n<text text-anchor=\"middle\" x=\"9413\" y=\"-1166.8\" font-family=\"Helvetica,sans-Serif\" font-size=\"14.00\" fill=\"#000000\">squared_error = 0.0</text>\n<text text-anchor=\"middle\" x=\"9413\" y=\"-1151.8\" font-family=\"Helvetica,sans-Serif\" font-size=\"14.00\" fill=\"#000000\">samples = 10</text>\n<text text-anchor=\"middle\" x=\"9413\" y=\"-1136.8\" font-family=\"Helvetica,sans-Serif\" font-size=\"14.00\" fill=\"#000000\">value = 0.019</text>\n</g>\n<!-- 299&#45;&gt;300 -->\n<g id=\"edge300\" class=\"edge\">\n<title>299&#45;&gt;300</title>\n<path fill=\"none\" stroke=\"#000000\" d=\"M9634.703,-1241.4255C9592.2522,-1226.409 9538.4814,-1207.388 9494.5263,-1191.8392\"/>\n<polygon fill=\"#000000\" stroke=\"#000000\" points=\"9495.6123,-1188.5109 9485.0175,-1188.4756 9493.2778,-1195.1102 9495.6123,-1188.5109\"/>\n</g>\n<!-- 319 -->\n<g id=\"node320\" class=\"node\">\n<title>319</title>\n<polygon fill=\"none\" stroke=\"#000000\" points=\"9999,-1197 9855,-1197 9855,-1129 9999,-1129 9999,-1197\"/>\n<text text-anchor=\"middle\" x=\"9927\" y=\"-1181.8\" font-family=\"Helvetica,sans-Serif\" font-size=\"14.00\" fill=\"#000000\">X[0] &lt;= &#45;0.006</text>\n<text text-anchor=\"middle\" x=\"9927\" y=\"-1166.8\" font-family=\"Helvetica,sans-Serif\" font-size=\"14.00\" fill=\"#000000\">squared_error = 0.0</text>\n<text text-anchor=\"middle\" x=\"9927\" y=\"-1151.8\" font-family=\"Helvetica,sans-Serif\" font-size=\"14.00\" fill=\"#000000\">samples = 20</text>\n<text text-anchor=\"middle\" x=\"9927\" y=\"-1136.8\" font-family=\"Helvetica,sans-Serif\" font-size=\"14.00\" fill=\"#000000\">value = 0.002</text>\n</g>\n<!-- 299&#45;&gt;319 -->\n<g id=\"edge319\" class=\"edge\">\n<title>299&#45;&gt;319</title>\n<path fill=\"none\" stroke=\"#000000\" d=\"M9779.0362,-1232.9465C9800.3084,-1222.8906 9823.7396,-1211.814 9845.56,-1201.4989\"/>\n<polygon fill=\"#000000\" stroke=\"#000000\" points=\"9847.257,-1204.5681 9854.8019,-1197.13 9844.2654,-1198.2396 9847.257,-1204.5681\"/>\n</g>\n<!-- 301 -->\n<g id=\"node302\" class=\"node\">\n<title>301</title>\n<polygon fill=\"none\" stroke=\"#000000\" points=\"9192,-1093 9048,-1093 9048,-1025 9192,-1025 9192,-1093\"/>\n<text text-anchor=\"middle\" x=\"9120\" y=\"-1077.8\" font-family=\"Helvetica,sans-Serif\" font-size=\"14.00\" fill=\"#000000\">X[3] &lt;= 0.003</text>\n<text text-anchor=\"middle\" x=\"9120\" y=\"-1062.8\" font-family=\"Helvetica,sans-Serif\" font-size=\"14.00\" fill=\"#000000\">squared_error = 0.0</text>\n<text text-anchor=\"middle\" x=\"9120\" y=\"-1047.8\" font-family=\"Helvetica,sans-Serif\" font-size=\"14.00\" fill=\"#000000\">samples = 7</text>\n<text text-anchor=\"middle\" x=\"9120\" y=\"-1032.8\" font-family=\"Helvetica,sans-Serif\" font-size=\"14.00\" fill=\"#000000\">value = 0.024</text>\n</g>\n<!-- 300&#45;&gt;301 -->\n<g id=\"edge301\" class=\"edge\">\n<title>300&#45;&gt;301</title>\n<path fill=\"none\" stroke=\"#000000\" d=\"M9340.9489,-1137.4255C9298.7215,-1122.437 9245.2545,-1103.459 9201.4943,-1087.9263\"/>\n<polygon fill=\"#000000\" stroke=\"#000000\" points=\"9202.6213,-1084.6124 9192.0266,-1084.5657 9200.2797,-1091.2092 9202.6213,-1084.6124\"/>\n</g>\n<!-- 314 -->\n<g id=\"node315\" class=\"node\">\n<title>314</title>\n<polygon fill=\"none\" stroke=\"#000000\" points=\"9485,-1093 9341,-1093 9341,-1025 9485,-1025 9485,-1093\"/>\n<text text-anchor=\"middle\" x=\"9413\" y=\"-1077.8\" font-family=\"Helvetica,sans-Serif\" font-size=\"14.00\" fill=\"#000000\">X[28] &lt;= &#45;0.009</text>\n<text text-anchor=\"middle\" x=\"9413\" y=\"-1062.8\" font-family=\"Helvetica,sans-Serif\" font-size=\"14.00\" fill=\"#000000\">squared_error = 0.0</text>\n<text text-anchor=\"middle\" x=\"9413\" y=\"-1047.8\" font-family=\"Helvetica,sans-Serif\" font-size=\"14.00\" fill=\"#000000\">samples = 3</text>\n<text text-anchor=\"middle\" x=\"9413\" y=\"-1032.8\" font-family=\"Helvetica,sans-Serif\" font-size=\"14.00\" fill=\"#000000\">value = 0.008</text>\n</g>\n<!-- 300&#45;&gt;314 -->\n<g id=\"edge314\" class=\"edge\">\n<title>300&#45;&gt;314</title>\n<path fill=\"none\" stroke=\"#000000\" d=\"M9413,-1128.9465C9413,-1120.776 9413,-1111.9318 9413,-1103.3697\"/>\n<polygon fill=\"#000000\" stroke=\"#000000\" points=\"9416.5001,-1103.13 9413,-1093.13 9409.5001,-1103.13 9416.5001,-1103.13\"/>\n</g>\n<!-- 302 -->\n<g id=\"node303\" class=\"node\">\n<title>302</title>\n<polygon fill=\"none\" stroke=\"#000000\" points=\"9005,-989 8861,-989 8861,-921 9005,-921 9005,-989\"/>\n<text text-anchor=\"middle\" x=\"8933\" y=\"-973.8\" font-family=\"Helvetica,sans-Serif\" font-size=\"14.00\" fill=\"#000000\">X[27] &lt;= 0.006</text>\n<text text-anchor=\"middle\" x=\"8933\" y=\"-958.8\" font-family=\"Helvetica,sans-Serif\" font-size=\"14.00\" fill=\"#000000\">squared_error = 0.0</text>\n<text text-anchor=\"middle\" x=\"8933\" y=\"-943.8\" font-family=\"Helvetica,sans-Serif\" font-size=\"14.00\" fill=\"#000000\">samples = 4</text>\n<text text-anchor=\"middle\" x=\"8933\" y=\"-928.8\" font-family=\"Helvetica,sans-Serif\" font-size=\"14.00\" fill=\"#000000\">value = 0.021</text>\n</g>\n<!-- 301&#45;&gt;302 -->\n<g id=\"edge302\" class=\"edge\">\n<title>301&#45;&gt;302</title>\n<path fill=\"none\" stroke=\"#000000\" d=\"M9058.7692,-1024.9465C9041.0107,-1015.0701 9021.482,-1004.2093 9003.2189,-994.0522\"/>\n<polygon fill=\"#000000\" stroke=\"#000000\" points=\"9004.8089,-990.9317 8994.3684,-989.13 9001.4066,-997.0492 9004.8089,-990.9317\"/>\n</g>\n<!-- 309 -->\n<g id=\"node310\" class=\"node\">\n<title>309</title>\n<polygon fill=\"none\" stroke=\"#000000\" points=\"9192,-989 9048,-989 9048,-921 9192,-921 9192,-989\"/>\n<text text-anchor=\"middle\" x=\"9120\" y=\"-973.8\" font-family=\"Helvetica,sans-Serif\" font-size=\"14.00\" fill=\"#000000\">X[12] &lt;= 0.022</text>\n<text text-anchor=\"middle\" x=\"9120\" y=\"-958.8\" font-family=\"Helvetica,sans-Serif\" font-size=\"14.00\" fill=\"#000000\">squared_error = 0.0</text>\n<text text-anchor=\"middle\" x=\"9120\" y=\"-943.8\" font-family=\"Helvetica,sans-Serif\" font-size=\"14.00\" fill=\"#000000\">samples = 3</text>\n<text text-anchor=\"middle\" x=\"9120\" y=\"-928.8\" font-family=\"Helvetica,sans-Serif\" font-size=\"14.00\" fill=\"#000000\">value = 0.028</text>\n</g>\n<!-- 301&#45;&gt;309 -->\n<g id=\"edge309\" class=\"edge\">\n<title>301&#45;&gt;309</title>\n<path fill=\"none\" stroke=\"#000000\" d=\"M9120,-1024.9465C9120,-1016.776 9120,-1007.9318 9120,-999.3697\"/>\n<polygon fill=\"#000000\" stroke=\"#000000\" points=\"9123.5001,-999.13 9120,-989.13 9116.5001,-999.13 9123.5001,-999.13\"/>\n</g>\n<!-- 303 -->\n<g id=\"node304\" class=\"node\">\n<title>303</title>\n<polygon fill=\"none\" stroke=\"#000000\" points=\"8772,-885 8628,-885 8628,-817 8772,-817 8772,-885\"/>\n<text text-anchor=\"middle\" x=\"8700\" y=\"-869.8\" font-family=\"Helvetica,sans-Serif\" font-size=\"14.00\" fill=\"#000000\">X[3] &lt;= &#45;0.004</text>\n<text text-anchor=\"middle\" x=\"8700\" y=\"-854.8\" font-family=\"Helvetica,sans-Serif\" font-size=\"14.00\" fill=\"#000000\">squared_error = 0.0</text>\n<text text-anchor=\"middle\" x=\"8700\" y=\"-839.8\" font-family=\"Helvetica,sans-Serif\" font-size=\"14.00\" fill=\"#000000\">samples = 3</text>\n<text text-anchor=\"middle\" x=\"8700\" y=\"-824.8\" font-family=\"Helvetica,sans-Serif\" font-size=\"14.00\" fill=\"#000000\">value = 0.022</text>\n</g>\n<!-- 302&#45;&gt;303 -->\n<g id=\"edge303\" class=\"edge\">\n<title>302&#45;&gt;303</title>\n<path fill=\"none\" stroke=\"#000000\" d=\"M8860.873,-922.806C8835.7569,-911.5954 8807.4058,-898.9408 8781.578,-887.4125\"/>\n<polygon fill=\"#000000\" stroke=\"#000000\" points=\"8782.7455,-884.1008 8772.1873,-883.2209 8779.8924,-890.493 8782.7455,-884.1008\"/>\n</g>\n<!-- 308 -->\n<g id=\"node309\" class=\"node\">\n<title>308</title>\n<polygon fill=\"none\" stroke=\"#000000\" points=\"8939.5,-877.5 8790.5,-877.5 8790.5,-824.5 8939.5,-824.5 8939.5,-877.5\"/>\n<text text-anchor=\"middle\" x=\"8865\" y=\"-862.3\" font-family=\"Helvetica,sans-Serif\" font-size=\"14.00\" fill=\"#000000\">squared_error = &#45;0.0</text>\n<text text-anchor=\"middle\" x=\"8865\" y=\"-847.3\" font-family=\"Helvetica,sans-Serif\" font-size=\"14.00\" fill=\"#000000\">samples = 1</text>\n<text text-anchor=\"middle\" x=\"8865\" y=\"-832.3\" font-family=\"Helvetica,sans-Serif\" font-size=\"14.00\" fill=\"#000000\">value = 0.018</text>\n</g>\n<!-- 302&#45;&gt;308 -->\n<g id=\"edge308\" class=\"edge\">\n<title>302&#45;&gt;308</title>\n<path fill=\"none\" stroke=\"#000000\" d=\"M8910.7343,-920.9465C8903.4602,-909.8215 8895.3694,-897.4473 8888.0396,-886.237\"/>\n<polygon fill=\"#000000\" stroke=\"#000000\" points=\"8890.7564,-883.9965 8882.3545,-877.5422 8884.8976,-887.8273 8890.7564,-883.9965\"/>\n</g>\n<!-- 304 -->\n<g id=\"node305\" class=\"node\">\n<title>304</title>\n<polygon fill=\"none\" stroke=\"#000000\" points=\"8772,-781 8628,-781 8628,-713 8772,-713 8772,-781\"/>\n<text text-anchor=\"middle\" x=\"8700\" y=\"-765.8\" font-family=\"Helvetica,sans-Serif\" font-size=\"14.00\" fill=\"#000000\">X[2] &lt;= &#45;0.009</text>\n<text text-anchor=\"middle\" x=\"8700\" y=\"-750.8\" font-family=\"Helvetica,sans-Serif\" font-size=\"14.00\" fill=\"#000000\">squared_error = 0.0</text>\n<text text-anchor=\"middle\" x=\"8700\" y=\"-735.8\" font-family=\"Helvetica,sans-Serif\" font-size=\"14.00\" fill=\"#000000\">samples = 2</text>\n<text text-anchor=\"middle\" x=\"8700\" y=\"-720.8\" font-family=\"Helvetica,sans-Serif\" font-size=\"14.00\" fill=\"#000000\">value = 0.022</text>\n</g>\n<!-- 303&#45;&gt;304 -->\n<g id=\"edge304\" class=\"edge\">\n<title>303&#45;&gt;304</title>\n<path fill=\"none\" stroke=\"#000000\" d=\"M8700,-816.9465C8700,-808.776 8700,-799.9318 8700,-791.3697\"/>\n<polygon fill=\"#000000\" stroke=\"#000000\" points=\"8703.5001,-791.13 8700,-781.13 8696.5001,-791.13 8703.5001,-791.13\"/>\n</g>\n<!-- 307 -->\n<g id=\"node308\" class=\"node\">\n<title>307</title>\n<polygon fill=\"none\" stroke=\"#000000\" points=\"8939.5,-773.5 8790.5,-773.5 8790.5,-720.5 8939.5,-720.5 8939.5,-773.5\"/>\n<text text-anchor=\"middle\" x=\"8865\" y=\"-758.3\" font-family=\"Helvetica,sans-Serif\" font-size=\"14.00\" fill=\"#000000\">squared_error = &#45;0.0</text>\n<text text-anchor=\"middle\" x=\"8865\" y=\"-743.3\" font-family=\"Helvetica,sans-Serif\" font-size=\"14.00\" fill=\"#000000\">samples = 1</text>\n<text text-anchor=\"middle\" x=\"8865\" y=\"-728.3\" font-family=\"Helvetica,sans-Serif\" font-size=\"14.00\" fill=\"#000000\">value = 0.024</text>\n</g>\n<!-- 303&#45;&gt;307 -->\n<g id=\"edge307\" class=\"edge\">\n<title>303&#45;&gt;307</title>\n<path fill=\"none\" stroke=\"#000000\" d=\"M8754.0272,-816.9465C8773.4251,-804.72 8795.2166,-790.9847 8814.32,-778.9437\"/>\n<polygon fill=\"#000000\" stroke=\"#000000\" points=\"8816.2964,-781.8353 8822.8898,-773.5422 8812.5638,-775.9135 8816.2964,-781.8353\"/>\n</g>\n<!-- 305 -->\n<g id=\"node306\" class=\"node\">\n<title>305</title>\n<polygon fill=\"none\" stroke=\"#000000\" points=\"8688,-669.5 8544,-669.5 8544,-616.5 8688,-616.5 8688,-669.5\"/>\n<text text-anchor=\"middle\" x=\"8616\" y=\"-654.3\" font-family=\"Helvetica,sans-Serif\" font-size=\"14.00\" fill=\"#000000\">squared_error = 0.0</text>\n<text text-anchor=\"middle\" x=\"8616\" y=\"-639.3\" font-family=\"Helvetica,sans-Serif\" font-size=\"14.00\" fill=\"#000000\">samples = 1</text>\n<text text-anchor=\"middle\" x=\"8616\" y=\"-624.3\" font-family=\"Helvetica,sans-Serif\" font-size=\"14.00\" fill=\"#000000\">value = 0.022</text>\n</g>\n<!-- 304&#45;&gt;305 -->\n<g id=\"edge305\" class=\"edge\">\n<title>304&#45;&gt;305</title>\n<path fill=\"none\" stroke=\"#000000\" d=\"M8672.4953,-712.9465C8663.3317,-701.6012 8653.1189,-688.9567 8643.9239,-677.5724\"/>\n<polygon fill=\"#000000\" stroke=\"#000000\" points=\"8646.4441,-675.1224 8637.4379,-669.5422 8640.9985,-679.5208 8646.4441,-675.1224\"/>\n</g>\n<!-- 306 -->\n<g id=\"node307\" class=\"node\">\n<title>306</title>\n<polygon fill=\"none\" stroke=\"#000000\" points=\"8850,-669.5 8706,-669.5 8706,-616.5 8850,-616.5 8850,-669.5\"/>\n<text text-anchor=\"middle\" x=\"8778\" y=\"-654.3\" font-family=\"Helvetica,sans-Serif\" font-size=\"14.00\" fill=\"#000000\">squared_error = 0.0</text>\n<text text-anchor=\"middle\" x=\"8778\" y=\"-639.3\" font-family=\"Helvetica,sans-Serif\" font-size=\"14.00\" fill=\"#000000\">samples = 1</text>\n<text text-anchor=\"middle\" x=\"8778\" y=\"-624.3\" font-family=\"Helvetica,sans-Serif\" font-size=\"14.00\" fill=\"#000000\">value = 0.022</text>\n</g>\n<!-- 304&#45;&gt;306 -->\n<g id=\"edge306\" class=\"edge\">\n<title>304&#45;&gt;306</title>\n<path fill=\"none\" stroke=\"#000000\" d=\"M8725.5401,-712.9465C8734.0491,-701.6012 8743.5325,-688.9567 8752.0707,-677.5724\"/>\n<polygon fill=\"#000000\" stroke=\"#000000\" points=\"8754.8933,-679.6422 8758.0934,-669.5422 8749.2933,-675.4422 8754.8933,-679.6422\"/>\n</g>\n<!-- 310 -->\n<g id=\"node311\" class=\"node\">\n<title>310</title>\n<polygon fill=\"none\" stroke=\"#000000\" points=\"9102,-877.5 8958,-877.5 8958,-824.5 9102,-824.5 9102,-877.5\"/>\n<text text-anchor=\"middle\" x=\"9030\" y=\"-862.3\" font-family=\"Helvetica,sans-Serif\" font-size=\"14.00\" fill=\"#000000\">squared_error = 0.0</text>\n<text text-anchor=\"middle\" x=\"9030\" y=\"-847.3\" font-family=\"Helvetica,sans-Serif\" font-size=\"14.00\" fill=\"#000000\">samples = 1</text>\n<text text-anchor=\"middle\" x=\"9030\" y=\"-832.3\" font-family=\"Helvetica,sans-Serif\" font-size=\"14.00\" fill=\"#000000\">value = 0.031</text>\n</g>\n<!-- 309&#45;&gt;310 -->\n<g id=\"edge310\" class=\"edge\">\n<title>309&#45;&gt;310</title>\n<path fill=\"none\" stroke=\"#000000\" d=\"M9090.5306,-920.9465C9080.6172,-909.491 9069.5576,-896.711 9059.6318,-885.2412\"/>\n<polygon fill=\"#000000\" stroke=\"#000000\" points=\"9062.1596,-882.8135 9052.9692,-877.5422 9056.8664,-887.3942 9062.1596,-882.8135\"/>\n</g>\n<!-- 311 -->\n<g id=\"node312\" class=\"node\">\n<title>311</title>\n<polygon fill=\"none\" stroke=\"#000000\" points=\"9264,-885 9120,-885 9120,-817 9264,-817 9264,-885\"/>\n<text text-anchor=\"middle\" x=\"9192\" y=\"-869.8\" font-family=\"Helvetica,sans-Serif\" font-size=\"14.00\" fill=\"#000000\">X[5] &lt;= 0.041</text>\n<text text-anchor=\"middle\" x=\"9192\" y=\"-854.8\" font-family=\"Helvetica,sans-Serif\" font-size=\"14.00\" fill=\"#000000\">squared_error = 0.0</text>\n<text text-anchor=\"middle\" x=\"9192\" y=\"-839.8\" font-family=\"Helvetica,sans-Serif\" font-size=\"14.00\" fill=\"#000000\">samples = 2</text>\n<text text-anchor=\"middle\" x=\"9192\" y=\"-824.8\" font-family=\"Helvetica,sans-Serif\" font-size=\"14.00\" fill=\"#000000\">value = 0.027</text>\n</g>\n<!-- 309&#45;&gt;311 -->\n<g id=\"edge311\" class=\"edge\">\n<title>309&#45;&gt;311</title>\n<path fill=\"none\" stroke=\"#000000\" d=\"M9143.5755,-920.9465C9149.6671,-912.1475 9156.2996,-902.5672 9162.6466,-893.3993\"/>\n<polygon fill=\"#000000\" stroke=\"#000000\" points=\"9165.5571,-895.3442 9168.3715,-885.13 9159.8017,-891.3597 9165.5571,-895.3442\"/>\n</g>\n<!-- 312 -->\n<g id=\"node313\" class=\"node\">\n<title>312</title>\n<polygon fill=\"none\" stroke=\"#000000\" points=\"9105,-773.5 8961,-773.5 8961,-720.5 9105,-720.5 9105,-773.5\"/>\n<text text-anchor=\"middle\" x=\"9033\" y=\"-758.3\" font-family=\"Helvetica,sans-Serif\" font-size=\"14.00\" fill=\"#000000\">squared_error = 0.0</text>\n<text text-anchor=\"middle\" x=\"9033\" y=\"-743.3\" font-family=\"Helvetica,sans-Serif\" font-size=\"14.00\" fill=\"#000000\">samples = 1</text>\n<text text-anchor=\"middle\" x=\"9033\" y=\"-728.3\" font-family=\"Helvetica,sans-Serif\" font-size=\"14.00\" fill=\"#000000\">value = 0.027</text>\n</g>\n<!-- 311&#45;&gt;312 -->\n<g id=\"edge312\" class=\"edge\">\n<title>311&#45;&gt;312</title>\n<path fill=\"none\" stroke=\"#000000\" d=\"M9139.9375,-816.9465C9121.4134,-804.8301 9100.624,-791.232 9082.3352,-779.2696\"/>\n<polygon fill=\"#000000\" stroke=\"#000000\" points=\"9083.8636,-776.087 9073.5789,-773.5422 9080.0318,-781.9452 9083.8636,-776.087\"/>\n</g>\n<!-- 313 -->\n<g id=\"node314\" class=\"node\">\n<title>313</title>\n<polygon fill=\"none\" stroke=\"#000000\" points=\"9267,-773.5 9123,-773.5 9123,-720.5 9267,-720.5 9267,-773.5\"/>\n<text text-anchor=\"middle\" x=\"9195\" y=\"-758.3\" font-family=\"Helvetica,sans-Serif\" font-size=\"14.00\" fill=\"#000000\">squared_error = 0.0</text>\n<text text-anchor=\"middle\" x=\"9195\" y=\"-743.3\" font-family=\"Helvetica,sans-Serif\" font-size=\"14.00\" fill=\"#000000\">samples = 1</text>\n<text text-anchor=\"middle\" x=\"9195\" y=\"-728.3\" font-family=\"Helvetica,sans-Serif\" font-size=\"14.00\" fill=\"#000000\">value = 0.027</text>\n</g>\n<!-- 311&#45;&gt;313 -->\n<g id=\"edge313\" class=\"edge\">\n<title>311&#45;&gt;313</title>\n<path fill=\"none\" stroke=\"#000000\" d=\"M9192.9823,-816.9465C9193.2905,-806.2621 9193.632,-794.4254 9193.945,-783.5742\"/>\n<polygon fill=\"#000000\" stroke=\"#000000\" points=\"9197.4445,-783.639 9194.2344,-773.5422 9190.4474,-783.4371 9197.4445,-783.639\"/>\n</g>\n<!-- 315 -->\n<g id=\"node316\" class=\"node\">\n<title>315</title>\n<polygon fill=\"none\" stroke=\"#000000\" points=\"9404,-981.5 9260,-981.5 9260,-928.5 9404,-928.5 9404,-981.5\"/>\n<text text-anchor=\"middle\" x=\"9332\" y=\"-966.3\" font-family=\"Helvetica,sans-Serif\" font-size=\"14.00\" fill=\"#000000\">squared_error = 0.0</text>\n<text text-anchor=\"middle\" x=\"9332\" y=\"-951.3\" font-family=\"Helvetica,sans-Serif\" font-size=\"14.00\" fill=\"#000000\">samples = 1</text>\n<text text-anchor=\"middle\" x=\"9332\" y=\"-936.3\" font-family=\"Helvetica,sans-Serif\" font-size=\"14.00\" fill=\"#000000\">value = 0.014</text>\n</g>\n<!-- 314&#45;&gt;315 -->\n<g id=\"edge315\" class=\"edge\">\n<title>314&#45;&gt;315</title>\n<path fill=\"none\" stroke=\"#000000\" d=\"M9386.4776,-1024.9465C9377.6413,-1013.6012 9367.7932,-1000.9567 9358.9266,-989.5724\"/>\n<polygon fill=\"#000000\" stroke=\"#000000\" points=\"9361.5783,-987.281 9352.6723,-981.5422 9356.0556,-991.5823 9361.5783,-987.281\"/>\n</g>\n<!-- 316 -->\n<g id=\"node317\" class=\"node\">\n<title>316</title>\n<polygon fill=\"none\" stroke=\"#000000\" points=\"9566,-989 9422,-989 9422,-921 9566,-921 9566,-989\"/>\n<text text-anchor=\"middle\" x=\"9494\" y=\"-973.8\" font-family=\"Helvetica,sans-Serif\" font-size=\"14.00\" fill=\"#000000\">X[2] &lt;= 0.017</text>\n<text text-anchor=\"middle\" x=\"9494\" y=\"-958.8\" font-family=\"Helvetica,sans-Serif\" font-size=\"14.00\" fill=\"#000000\">squared_error = 0.0</text>\n<text text-anchor=\"middle\" x=\"9494\" y=\"-943.8\" font-family=\"Helvetica,sans-Serif\" font-size=\"14.00\" fill=\"#000000\">samples = 2</text>\n<text text-anchor=\"middle\" x=\"9494\" y=\"-928.8\" font-family=\"Helvetica,sans-Serif\" font-size=\"14.00\" fill=\"#000000\">value = 0.005</text>\n</g>\n<!-- 314&#45;&gt;316 -->\n<g id=\"edge316\" class=\"edge\">\n<title>314&#45;&gt;316</title>\n<path fill=\"none\" stroke=\"#000000\" d=\"M9439.5224,-1024.9465C9446.4454,-1016.0578 9453.9894,-1006.3716 9461.196,-997.1188\"/>\n<polygon fill=\"#000000\" stroke=\"#000000\" points=\"9464.0346,-999.1701 9467.418,-989.13 9458.512,-994.8688 9464.0346,-999.1701\"/>\n</g>\n<!-- 317 -->\n<g id=\"node318\" class=\"node\">\n<title>317</title>\n<polygon fill=\"none\" stroke=\"#000000\" points=\"9426,-877.5 9282,-877.5 9282,-824.5 9426,-824.5 9426,-877.5\"/>\n<text text-anchor=\"middle\" x=\"9354\" y=\"-862.3\" font-family=\"Helvetica,sans-Serif\" font-size=\"14.00\" fill=\"#000000\">squared_error = 0.0</text>\n<text text-anchor=\"middle\" x=\"9354\" y=\"-847.3\" font-family=\"Helvetica,sans-Serif\" font-size=\"14.00\" fill=\"#000000\">samples = 1</text>\n<text text-anchor=\"middle\" x=\"9354\" y=\"-832.3\" font-family=\"Helvetica,sans-Serif\" font-size=\"14.00\" fill=\"#000000\">value = 0.008</text>\n</g>\n<!-- 316&#45;&gt;317 -->\n<g id=\"edge317\" class=\"edge\">\n<title>316&#45;&gt;317</title>\n<path fill=\"none\" stroke=\"#000000\" d=\"M9448.1588,-920.9465C9431.9965,-908.9403 9413.8758,-895.4791 9397.8795,-883.5962\"/>\n<polygon fill=\"#000000\" stroke=\"#000000\" points=\"9399.8444,-880.6958 9389.7298,-877.5422 9395.6701,-886.3151 9399.8444,-880.6958\"/>\n</g>\n<!-- 318 -->\n<g id=\"node319\" class=\"node\">\n<title>318</title>\n<polygon fill=\"none\" stroke=\"#000000\" points=\"9593.5,-877.5 9444.5,-877.5 9444.5,-824.5 9593.5,-824.5 9593.5,-877.5\"/>\n<text text-anchor=\"middle\" x=\"9519\" y=\"-862.3\" font-family=\"Helvetica,sans-Serif\" font-size=\"14.00\" fill=\"#000000\">squared_error = &#45;0.0</text>\n<text text-anchor=\"middle\" x=\"9519\" y=\"-847.3\" font-family=\"Helvetica,sans-Serif\" font-size=\"14.00\" fill=\"#000000\">samples = 1</text>\n<text text-anchor=\"middle\" x=\"9519\" y=\"-832.3\" font-family=\"Helvetica,sans-Serif\" font-size=\"14.00\" fill=\"#000000\">value = 0.002</text>\n</g>\n<!-- 316&#45;&gt;318 -->\n<g id=\"edge318\" class=\"edge\">\n<title>316&#45;&gt;318</title>\n<path fill=\"none\" stroke=\"#000000\" d=\"M9502.1859,-920.9465C9504.7543,-910.2621 9507.5997,-898.4254 9510.2081,-887.5742\"/>\n<polygon fill=\"#000000\" stroke=\"#000000\" points=\"9513.6854,-888.0833 9512.6197,-877.5422 9506.8793,-886.4471 9513.6854,-888.0833\"/>\n</g>\n<!-- 320 -->\n<g id=\"node321\" class=\"node\">\n<title>320</title>\n<polygon fill=\"none\" stroke=\"#000000\" points=\"9999,-1093 9855,-1093 9855,-1025 9999,-1025 9999,-1093\"/>\n<text text-anchor=\"middle\" x=\"9927\" y=\"-1077.8\" font-family=\"Helvetica,sans-Serif\" font-size=\"14.00\" fill=\"#000000\">X[33] &lt;= 0.014</text>\n<text text-anchor=\"middle\" x=\"9927\" y=\"-1062.8\" font-family=\"Helvetica,sans-Serif\" font-size=\"14.00\" fill=\"#000000\">squared_error = 0.0</text>\n<text text-anchor=\"middle\" x=\"9927\" y=\"-1047.8\" font-family=\"Helvetica,sans-Serif\" font-size=\"14.00\" fill=\"#000000\">samples = 8</text>\n<text text-anchor=\"middle\" x=\"9927\" y=\"-1032.8\" font-family=\"Helvetica,sans-Serif\" font-size=\"14.00\" fill=\"#000000\">value = 0.012</text>\n</g>\n<!-- 319&#45;&gt;320 -->\n<g id=\"edge320\" class=\"edge\">\n<title>319&#45;&gt;320</title>\n<path fill=\"none\" stroke=\"#000000\" d=\"M9927,-1128.9465C9927,-1120.776 9927,-1111.9318 9927,-1103.3697\"/>\n<polygon fill=\"#000000\" stroke=\"#000000\" points=\"9930.5001,-1103.13 9927,-1093.13 9923.5001,-1103.13 9930.5001,-1103.13\"/>\n</g>\n<!-- 335 -->\n<g id=\"node336\" class=\"node\">\n<title>335</title>\n<polygon fill=\"none\" stroke=\"#000000\" points=\"10488,-1093 10344,-1093 10344,-1025 10488,-1025 10488,-1093\"/>\n<text text-anchor=\"middle\" x=\"10416\" y=\"-1077.8\" font-family=\"Helvetica,sans-Serif\" font-size=\"14.00\" fill=\"#000000\">X[21] &lt;= &#45;0.001</text>\n<text text-anchor=\"middle\" x=\"10416\" y=\"-1062.8\" font-family=\"Helvetica,sans-Serif\" font-size=\"14.00\" fill=\"#000000\">squared_error = 0.0</text>\n<text text-anchor=\"middle\" x=\"10416\" y=\"-1047.8\" font-family=\"Helvetica,sans-Serif\" font-size=\"14.00\" fill=\"#000000\">samples = 12</text>\n<text text-anchor=\"middle\" x=\"10416\" y=\"-1032.8\" font-family=\"Helvetica,sans-Serif\" font-size=\"14.00\" fill=\"#000000\">value = &#45;0.005</text>\n</g>\n<!-- 319&#45;&gt;335 -->\n<g id=\"edge335\" class=\"edge\">\n<title>319&#45;&gt;335</title>\n<path fill=\"none\" stroke=\"#000000\" d=\"M9999.1536,-1147.6544C10088.485,-1128.6555 10240.2683,-1096.3744 10333.9462,-1076.4511\"/>\n<polygon fill=\"#000000\" stroke=\"#000000\" points=\"10334.8959,-1079.8275 10343.949,-1074.3237 10333.4397,-1072.9806 10334.8959,-1079.8275\"/>\n</g>\n<!-- 321 -->\n<g id=\"node322\" class=\"node\">\n<title>321</title>\n<polygon fill=\"none\" stroke=\"#000000\" points=\"9918,-989 9774,-989 9774,-921 9918,-921 9918,-989\"/>\n<text text-anchor=\"middle\" x=\"9846\" y=\"-973.8\" font-family=\"Helvetica,sans-Serif\" font-size=\"14.00\" fill=\"#000000\">X[31] &lt;= 0.012</text>\n<text text-anchor=\"middle\" x=\"9846\" y=\"-958.8\" font-family=\"Helvetica,sans-Serif\" font-size=\"14.00\" fill=\"#000000\">squared_error = 0.0</text>\n<text text-anchor=\"middle\" x=\"9846\" y=\"-943.8\" font-family=\"Helvetica,sans-Serif\" font-size=\"14.00\" fill=\"#000000\">samples = 4</text>\n<text text-anchor=\"middle\" x=\"9846\" y=\"-928.8\" font-family=\"Helvetica,sans-Serif\" font-size=\"14.00\" fill=\"#000000\">value = 0.001</text>\n</g>\n<!-- 320&#45;&gt;321 -->\n<g id=\"edge321\" class=\"edge\">\n<title>320&#45;&gt;321</title>\n<path fill=\"none\" stroke=\"#000000\" d=\"M9900.4776,-1024.9465C9893.5546,-1016.0578 9886.0106,-1006.3716 9878.804,-997.1188\"/>\n<polygon fill=\"#000000\" stroke=\"#000000\" points=\"9881.488,-994.8688 9872.582,-989.13 9875.9654,-999.1701 9881.488,-994.8688\"/>\n</g>\n<!-- 328 -->\n<g id=\"node329\" class=\"node\">\n<title>328</title>\n<polygon fill=\"none\" stroke=\"#000000\" points=\"10080,-989 9936,-989 9936,-921 10080,-921 10080,-989\"/>\n<text text-anchor=\"middle\" x=\"10008\" y=\"-973.8\" font-family=\"Helvetica,sans-Serif\" font-size=\"14.00\" fill=\"#000000\">X[21] &lt;= 0.057</text>\n<text text-anchor=\"middle\" x=\"10008\" y=\"-958.8\" font-family=\"Helvetica,sans-Serif\" font-size=\"14.00\" fill=\"#000000\">squared_error = 0.0</text>\n<text text-anchor=\"middle\" x=\"10008\" y=\"-943.8\" font-family=\"Helvetica,sans-Serif\" font-size=\"14.00\" fill=\"#000000\">samples = 4</text>\n<text text-anchor=\"middle\" x=\"10008\" y=\"-928.8\" font-family=\"Helvetica,sans-Serif\" font-size=\"14.00\" fill=\"#000000\">value = 0.023</text>\n</g>\n<!-- 320&#45;&gt;328 -->\n<g id=\"edge328\" class=\"edge\">\n<title>320&#45;&gt;328</title>\n<path fill=\"none\" stroke=\"#000000\" d=\"M9953.5224,-1024.9465C9960.4454,-1016.0578 9967.9894,-1006.3716 9975.196,-997.1188\"/>\n<polygon fill=\"#000000\" stroke=\"#000000\" points=\"9978.0346,-999.1701 9981.418,-989.13 9972.512,-994.8688 9978.0346,-999.1701\"/>\n</g>\n<!-- 322 -->\n<g id=\"node323\" class=\"node\">\n<title>322</title>\n<polygon fill=\"none\" stroke=\"#000000\" points=\"9756,-885 9612,-885 9612,-817 9756,-817 9756,-885\"/>\n<text text-anchor=\"middle\" x=\"9684\" y=\"-869.8\" font-family=\"Helvetica,sans-Serif\" font-size=\"14.00\" fill=\"#000000\">X[12] &lt;= &#45;0.012</text>\n<text text-anchor=\"middle\" x=\"9684\" y=\"-854.8\" font-family=\"Helvetica,sans-Serif\" font-size=\"14.00\" fill=\"#000000\">squared_error = 0.0</text>\n<text text-anchor=\"middle\" x=\"9684\" y=\"-839.8\" font-family=\"Helvetica,sans-Serif\" font-size=\"14.00\" fill=\"#000000\">samples = 2</text>\n<text text-anchor=\"middle\" x=\"9684\" y=\"-824.8\" font-family=\"Helvetica,sans-Serif\" font-size=\"14.00\" fill=\"#000000\">value = 0.002</text>\n</g>\n<!-- 321&#45;&gt;322 -->\n<g id=\"edge322\" class=\"edge\">\n<title>321&#45;&gt;322</title>\n<path fill=\"none\" stroke=\"#000000\" d=\"M9792.9551,-920.9465C9777.8505,-911.2497 9761.2676,-900.6039 9745.6954,-890.6069\"/>\n<polygon fill=\"#000000\" stroke=\"#000000\" points=\"9747.47,-887.5871 9737.164,-885.13 9743.6884,-893.4777 9747.47,-887.5871\"/>\n</g>\n<!-- 325 -->\n<g id=\"node326\" class=\"node\">\n<title>325</title>\n<polygon fill=\"none\" stroke=\"#000000\" points=\"9918,-885 9774,-885 9774,-817 9918,-817 9918,-885\"/>\n<text text-anchor=\"middle\" x=\"9846\" y=\"-869.8\" font-family=\"Helvetica,sans-Serif\" font-size=\"14.00\" fill=\"#000000\">X[11] &lt;= 0.006</text>\n<text text-anchor=\"middle\" x=\"9846\" y=\"-854.8\" font-family=\"Helvetica,sans-Serif\" font-size=\"14.00\" fill=\"#000000\">squared_error = 0.0</text>\n<text text-anchor=\"middle\" x=\"9846\" y=\"-839.8\" font-family=\"Helvetica,sans-Serif\" font-size=\"14.00\" fill=\"#000000\">samples = 2</text>\n<text text-anchor=\"middle\" x=\"9846\" y=\"-824.8\" font-family=\"Helvetica,sans-Serif\" font-size=\"14.00\" fill=\"#000000\">value = 0.0</text>\n</g>\n<!-- 321&#45;&gt;325 -->\n<g id=\"edge325\" class=\"edge\">\n<title>321&#45;&gt;325</title>\n<path fill=\"none\" stroke=\"#000000\" d=\"M9846,-920.9465C9846,-912.776 9846,-903.9318 9846,-895.3697\"/>\n<polygon fill=\"#000000\" stroke=\"#000000\" points=\"9849.5001,-895.13 9846,-885.13 9842.5001,-895.13 9849.5001,-895.13\"/>\n</g>\n<!-- 323 -->\n<g id=\"node324\" class=\"node\">\n<title>323</title>\n<polygon fill=\"none\" stroke=\"#000000\" points=\"9432,-773.5 9288,-773.5 9288,-720.5 9432,-720.5 9432,-773.5\"/>\n<text text-anchor=\"middle\" x=\"9360\" y=\"-758.3\" font-family=\"Helvetica,sans-Serif\" font-size=\"14.00\" fill=\"#000000\">squared_error = 0.0</text>\n<text text-anchor=\"middle\" x=\"9360\" y=\"-743.3\" font-family=\"Helvetica,sans-Serif\" font-size=\"14.00\" fill=\"#000000\">samples = 1</text>\n<text text-anchor=\"middle\" x=\"9360\" y=\"-728.3\" font-family=\"Helvetica,sans-Serif\" font-size=\"14.00\" fill=\"#000000\">value = 0.002</text>\n</g>\n<!-- 322&#45;&gt;323 -->\n<g id=\"edge323\" class=\"edge\">\n<title>322&#45;&gt;323</title>\n<path fill=\"none\" stroke=\"#000000\" d=\"M9611.815,-820.2745C9608.5149,-819.1214 9605.2325,-818.0231 9602,-817 9532.0951,-794.8754 9510.8565,-803.277 9441,-781 9437.2653,-779.809 9433.464,-778.5144 9429.6471,-777.1491\"/>\n<polygon fill=\"#000000\" stroke=\"#000000\" points=\"9430.7494,-773.825 9420.1564,-773.6281 9428.3146,-780.3879 9430.7494,-773.825\"/>\n</g>\n<!-- 324 -->\n<g id=\"node325\" class=\"node\">\n<title>324</title>\n<polygon fill=\"none\" stroke=\"#000000\" points=\"9594,-773.5 9450,-773.5 9450,-720.5 9594,-720.5 9594,-773.5\"/>\n<text text-anchor=\"middle\" x=\"9522\" y=\"-758.3\" font-family=\"Helvetica,sans-Serif\" font-size=\"14.00\" fill=\"#000000\">squared_error = 0.0</text>\n<text text-anchor=\"middle\" x=\"9522\" y=\"-743.3\" font-family=\"Helvetica,sans-Serif\" font-size=\"14.00\" fill=\"#000000\">samples = 1</text>\n<text text-anchor=\"middle\" x=\"9522\" y=\"-728.3\" font-family=\"Helvetica,sans-Serif\" font-size=\"14.00\" fill=\"#000000\">value = 0.002</text>\n</g>\n<!-- 322&#45;&gt;324 -->\n<g id=\"edge324\" class=\"edge\">\n<title>322&#45;&gt;324</title>\n<path fill=\"none\" stroke=\"#000000\" d=\"M9630.9551,-816.9465C9611.9957,-804.775 9590.7073,-791.1084 9572.0121,-779.1066\"/>\n<polygon fill=\"#000000\" stroke=\"#000000\" points=\"9573.6505,-775.9992 9563.3445,-773.5422 9569.8689,-781.8898 9573.6505,-775.9992\"/>\n</g>\n<!-- 326 -->\n<g id=\"node327\" class=\"node\">\n<title>326</title>\n<polygon fill=\"none\" stroke=\"#000000\" points=\"9756,-773.5 9612,-773.5 9612,-720.5 9756,-720.5 9756,-773.5\"/>\n<text text-anchor=\"middle\" x=\"9684\" y=\"-758.3\" font-family=\"Helvetica,sans-Serif\" font-size=\"14.00\" fill=\"#000000\">squared_error = 0.0</text>\n<text text-anchor=\"middle\" x=\"9684\" y=\"-743.3\" font-family=\"Helvetica,sans-Serif\" font-size=\"14.00\" fill=\"#000000\">samples = 1</text>\n<text text-anchor=\"middle\" x=\"9684\" y=\"-728.3\" font-family=\"Helvetica,sans-Serif\" font-size=\"14.00\" fill=\"#000000\">value = 0.0</text>\n</g>\n<!-- 325&#45;&gt;326 -->\n<g id=\"edge326\" class=\"edge\">\n<title>325&#45;&gt;326</title>\n<path fill=\"none\" stroke=\"#000000\" d=\"M9792.9551,-816.9465C9773.9957,-804.775 9752.7073,-791.1084 9734.0121,-779.1066\"/>\n<polygon fill=\"#000000\" stroke=\"#000000\" points=\"9735.6505,-775.9992 9725.3445,-773.5422 9731.8689,-781.8898 9735.6505,-775.9992\"/>\n</g>\n<!-- 327 -->\n<g id=\"node328\" class=\"node\">\n<title>327</title>\n<polygon fill=\"none\" stroke=\"#000000\" points=\"9918,-773.5 9774,-773.5 9774,-720.5 9918,-720.5 9918,-773.5\"/>\n<text text-anchor=\"middle\" x=\"9846\" y=\"-758.3\" font-family=\"Helvetica,sans-Serif\" font-size=\"14.00\" fill=\"#000000\">squared_error = 0.0</text>\n<text text-anchor=\"middle\" x=\"9846\" y=\"-743.3\" font-family=\"Helvetica,sans-Serif\" font-size=\"14.00\" fill=\"#000000\">samples = 1</text>\n<text text-anchor=\"middle\" x=\"9846\" y=\"-728.3\" font-family=\"Helvetica,sans-Serif\" font-size=\"14.00\" fill=\"#000000\">value = &#45;0.0</text>\n</g>\n<!-- 325&#45;&gt;327 -->\n<g id=\"edge327\" class=\"edge\">\n<title>325&#45;&gt;327</title>\n<path fill=\"none\" stroke=\"#000000\" d=\"M9846,-816.9465C9846,-806.2621 9846,-794.4254 9846,-783.5742\"/>\n<polygon fill=\"#000000\" stroke=\"#000000\" points=\"9849.5001,-783.5421 9846,-773.5422 9842.5001,-783.5422 9849.5001,-783.5421\"/>\n</g>\n<!-- 329 -->\n<g id=\"node330\" class=\"node\">\n<title>329</title>\n<polygon fill=\"none\" stroke=\"#000000\" points=\"10080,-885 9936,-885 9936,-817 10080,-817 10080,-885\"/>\n<text text-anchor=\"middle\" x=\"10008\" y=\"-869.8\" font-family=\"Helvetica,sans-Serif\" font-size=\"14.00\" fill=\"#000000\">X[1] &lt;= 0.011</text>\n<text text-anchor=\"middle\" x=\"10008\" y=\"-854.8\" font-family=\"Helvetica,sans-Serif\" font-size=\"14.00\" fill=\"#000000\">squared_error = 0.0</text>\n<text text-anchor=\"middle\" x=\"10008\" y=\"-839.8\" font-family=\"Helvetica,sans-Serif\" font-size=\"14.00\" fill=\"#000000\">samples = 3</text>\n<text text-anchor=\"middle\" x=\"10008\" y=\"-824.8\" font-family=\"Helvetica,sans-Serif\" font-size=\"14.00\" fill=\"#000000\">value = 0.019</text>\n</g>\n<!-- 328&#45;&gt;329 -->\n<g id=\"edge329\" class=\"edge\">\n<title>328&#45;&gt;329</title>\n<path fill=\"none\" stroke=\"#000000\" d=\"M10008,-920.9465C10008,-912.776 10008,-903.9318 10008,-895.3697\"/>\n<polygon fill=\"#000000\" stroke=\"#000000\" points=\"10011.5001,-895.13 10008,-885.13 10004.5001,-895.13 10011.5001,-895.13\"/>\n</g>\n<!-- 334 -->\n<g id=\"node335\" class=\"node\">\n<title>334</title>\n<polygon fill=\"none\" stroke=\"#000000\" points=\"10242,-877.5 10098,-877.5 10098,-824.5 10242,-824.5 10242,-877.5\"/>\n<text text-anchor=\"middle\" x=\"10170\" y=\"-862.3\" font-family=\"Helvetica,sans-Serif\" font-size=\"14.00\" fill=\"#000000\">squared_error = 0.0</text>\n<text text-anchor=\"middle\" x=\"10170\" y=\"-847.3\" font-family=\"Helvetica,sans-Serif\" font-size=\"14.00\" fill=\"#000000\">samples = 1</text>\n<text text-anchor=\"middle\" x=\"10170\" y=\"-832.3\" font-family=\"Helvetica,sans-Serif\" font-size=\"14.00\" fill=\"#000000\">value = 0.032</text>\n</g>\n<!-- 328&#45;&gt;334 -->\n<g id=\"edge334\" class=\"edge\">\n<title>328&#45;&gt;334</title>\n<path fill=\"none\" stroke=\"#000000\" d=\"M10061.0449,-920.9465C10080.0043,-908.775 10101.2927,-895.1084 10119.9879,-883.1066\"/>\n<polygon fill=\"#000000\" stroke=\"#000000\" points=\"10122.1311,-885.8898 10128.6555,-877.5422 10118.3495,-879.9992 10122.1311,-885.8898\"/>\n</g>\n<!-- 330 -->\n<g id=\"node331\" class=\"node\">\n<title>330</title>\n<polygon fill=\"none\" stroke=\"#000000\" points=\"10080,-781 9936,-781 9936,-713 10080,-713 10080,-781\"/>\n<text text-anchor=\"middle\" x=\"10008\" y=\"-765.8\" font-family=\"Helvetica,sans-Serif\" font-size=\"14.00\" fill=\"#000000\">X[16] &lt;= 0.018</text>\n<text text-anchor=\"middle\" x=\"10008\" y=\"-750.8\" font-family=\"Helvetica,sans-Serif\" font-size=\"14.00\" fill=\"#000000\">squared_error = 0.0</text>\n<text text-anchor=\"middle\" x=\"10008\" y=\"-735.8\" font-family=\"Helvetica,sans-Serif\" font-size=\"14.00\" fill=\"#000000\">samples = 2</text>\n<text text-anchor=\"middle\" x=\"10008\" y=\"-720.8\" font-family=\"Helvetica,sans-Serif\" font-size=\"14.00\" fill=\"#000000\">value = 0.021</text>\n</g>\n<!-- 329&#45;&gt;330 -->\n<g id=\"edge330\" class=\"edge\">\n<title>329&#45;&gt;330</title>\n<path fill=\"none\" stroke=\"#000000\" d=\"M10008,-816.9465C10008,-808.776 10008,-799.9318 10008,-791.3697\"/>\n<polygon fill=\"#000000\" stroke=\"#000000\" points=\"10011.5001,-791.13 10008,-781.13 10004.5001,-791.13 10011.5001,-791.13\"/>\n</g>\n<!-- 333 -->\n<g id=\"node334\" class=\"node\">\n<title>333</title>\n<polygon fill=\"none\" stroke=\"#000000\" points=\"10247.5,-773.5 10098.5,-773.5 10098.5,-720.5 10247.5,-720.5 10247.5,-773.5\"/>\n<text text-anchor=\"middle\" x=\"10173\" y=\"-758.3\" font-family=\"Helvetica,sans-Serif\" font-size=\"14.00\" fill=\"#000000\">squared_error = &#45;0.0</text>\n<text text-anchor=\"middle\" x=\"10173\" y=\"-743.3\" font-family=\"Helvetica,sans-Serif\" font-size=\"14.00\" fill=\"#000000\">samples = 1</text>\n<text text-anchor=\"middle\" x=\"10173\" y=\"-728.3\" font-family=\"Helvetica,sans-Serif\" font-size=\"14.00\" fill=\"#000000\">value = 0.017</text>\n</g>\n<!-- 329&#45;&gt;333 -->\n<g id=\"edge333\" class=\"edge\">\n<title>329&#45;&gt;333</title>\n<path fill=\"none\" stroke=\"#000000\" d=\"M10062.0272,-816.9465C10081.4251,-804.72 10103.2166,-790.9847 10122.32,-778.9437\"/>\n<polygon fill=\"#000000\" stroke=\"#000000\" points=\"10124.2964,-781.8353 10130.8898,-773.5422 10120.5638,-775.9135 10124.2964,-781.8353\"/>\n</g>\n<!-- 331 -->\n<g id=\"node332\" class=\"node\">\n<title>331</title>\n<polygon fill=\"none\" stroke=\"#000000\" points=\"9999,-669.5 9855,-669.5 9855,-616.5 9999,-616.5 9999,-669.5\"/>\n<text text-anchor=\"middle\" x=\"9927\" y=\"-654.3\" font-family=\"Helvetica,sans-Serif\" font-size=\"14.00\" fill=\"#000000\">squared_error = 0.0</text>\n<text text-anchor=\"middle\" x=\"9927\" y=\"-639.3\" font-family=\"Helvetica,sans-Serif\" font-size=\"14.00\" fill=\"#000000\">samples = 1</text>\n<text text-anchor=\"middle\" x=\"9927\" y=\"-624.3\" font-family=\"Helvetica,sans-Serif\" font-size=\"14.00\" fill=\"#000000\">value = 0.021</text>\n</g>\n<!-- 330&#45;&gt;331 -->\n<g id=\"edge331\" class=\"edge\">\n<title>330&#45;&gt;331</title>\n<path fill=\"none\" stroke=\"#000000\" d=\"M9981.4776,-712.9465C9972.6413,-701.6012 9962.7932,-688.9567 9953.9266,-677.5724\"/>\n<polygon fill=\"#000000\" stroke=\"#000000\" points=\"9956.5783,-675.281 9947.6723,-669.5422 9951.0556,-679.5823 9956.5783,-675.281\"/>\n</g>\n<!-- 332 -->\n<g id=\"node333\" class=\"node\">\n<title>332</title>\n<polygon fill=\"none\" stroke=\"#000000\" points=\"10161,-669.5 10017,-669.5 10017,-616.5 10161,-616.5 10161,-669.5\"/>\n<text text-anchor=\"middle\" x=\"10089\" y=\"-654.3\" font-family=\"Helvetica,sans-Serif\" font-size=\"14.00\" fill=\"#000000\">squared_error = 0.0</text>\n<text text-anchor=\"middle\" x=\"10089\" y=\"-639.3\" font-family=\"Helvetica,sans-Serif\" font-size=\"14.00\" fill=\"#000000\">samples = 1</text>\n<text text-anchor=\"middle\" x=\"10089\" y=\"-624.3\" font-family=\"Helvetica,sans-Serif\" font-size=\"14.00\" fill=\"#000000\">value = 0.02</text>\n</g>\n<!-- 330&#45;&gt;332 -->\n<g id=\"edge332\" class=\"edge\">\n<title>330&#45;&gt;332</title>\n<path fill=\"none\" stroke=\"#000000\" d=\"M10034.5224,-712.9465C10043.3587,-701.6012 10053.2068,-688.9567 10062.0734,-677.5724\"/>\n<polygon fill=\"#000000\" stroke=\"#000000\" points=\"10064.9444,-679.5823 10068.3277,-669.5422 10059.4217,-675.281 10064.9444,-679.5823\"/>\n</g>\n<!-- 336 -->\n<g id=\"node337\" class=\"node\">\n<title>336</title>\n<polygon fill=\"none\" stroke=\"#000000\" points=\"10488,-989 10344,-989 10344,-921 10488,-921 10488,-989\"/>\n<text text-anchor=\"middle\" x=\"10416\" y=\"-973.8\" font-family=\"Helvetica,sans-Serif\" font-size=\"14.00\" fill=\"#000000\">X[5] &lt;= 0.001</text>\n<text text-anchor=\"middle\" x=\"10416\" y=\"-958.8\" font-family=\"Helvetica,sans-Serif\" font-size=\"14.00\" fill=\"#000000\">squared_error = 0.0</text>\n<text text-anchor=\"middle\" x=\"10416\" y=\"-943.8\" font-family=\"Helvetica,sans-Serif\" font-size=\"14.00\" fill=\"#000000\">samples = 3</text>\n<text text-anchor=\"middle\" x=\"10416\" y=\"-928.8\" font-family=\"Helvetica,sans-Serif\" font-size=\"14.00\" fill=\"#000000\">value = 0.011</text>\n</g>\n<!-- 335&#45;&gt;336 -->\n<g id=\"edge336\" class=\"edge\">\n<title>335&#45;&gt;336</title>\n<path fill=\"none\" stroke=\"#000000\" d=\"M10416,-1024.9465C10416,-1016.776 10416,-1007.9318 10416,-999.3697\"/>\n<polygon fill=\"#000000\" stroke=\"#000000\" points=\"10419.5001,-999.13 10416,-989.13 10412.5001,-999.13 10419.5001,-999.13\"/>\n</g>\n<!-- 341 -->\n<g id=\"node342\" class=\"node\">\n<title>341</title>\n<polygon fill=\"none\" stroke=\"#000000\" points=\"10815,-989 10671,-989 10671,-921 10815,-921 10815,-989\"/>\n<text text-anchor=\"middle\" x=\"10743\" y=\"-973.8\" font-family=\"Helvetica,sans-Serif\" font-size=\"14.00\" fill=\"#000000\">X[31] &lt;= 0.02</text>\n<text text-anchor=\"middle\" x=\"10743\" y=\"-958.8\" font-family=\"Helvetica,sans-Serif\" font-size=\"14.00\" fill=\"#000000\">squared_error = 0.0</text>\n<text text-anchor=\"middle\" x=\"10743\" y=\"-943.8\" font-family=\"Helvetica,sans-Serif\" font-size=\"14.00\" fill=\"#000000\">samples = 9</text>\n<text text-anchor=\"middle\" x=\"10743\" y=\"-928.8\" font-family=\"Helvetica,sans-Serif\" font-size=\"14.00\" fill=\"#000000\">value = &#45;0.01</text>\n</g>\n<!-- 335&#45;&gt;341 -->\n<g id=\"edge341\" class=\"edge\">\n<title>335&#45;&gt;341</title>\n<path fill=\"none\" stroke=\"#000000\" d=\"M10488.1664,-1036.048C10539.2486,-1019.8017 10607.8438,-997.9854 10660.9982,-981.0801\"/>\n<polygon fill=\"#000000\" stroke=\"#000000\" points=\"10662.2671,-984.3494 10670.7359,-977.9831 10660.1454,-977.6786 10662.2671,-984.3494\"/>\n</g>\n<!-- 337 -->\n<g id=\"node338\" class=\"node\">\n<title>337</title>\n<polygon fill=\"none\" stroke=\"#000000\" points=\"10407,-877.5 10263,-877.5 10263,-824.5 10407,-824.5 10407,-877.5\"/>\n<text text-anchor=\"middle\" x=\"10335\" y=\"-862.3\" font-family=\"Helvetica,sans-Serif\" font-size=\"14.00\" fill=\"#000000\">squared_error = 0.0</text>\n<text text-anchor=\"middle\" x=\"10335\" y=\"-847.3\" font-family=\"Helvetica,sans-Serif\" font-size=\"14.00\" fill=\"#000000\">samples = 1</text>\n<text text-anchor=\"middle\" x=\"10335\" y=\"-832.3\" font-family=\"Helvetica,sans-Serif\" font-size=\"14.00\" fill=\"#000000\">value = 0.016</text>\n</g>\n<!-- 336&#45;&gt;337 -->\n<g id=\"edge337\" class=\"edge\">\n<title>336&#45;&gt;337</title>\n<path fill=\"none\" stroke=\"#000000\" d=\"M10389.4776,-920.9465C10380.6413,-909.6012 10370.7932,-896.9567 10361.9266,-885.5724\"/>\n<polygon fill=\"#000000\" stroke=\"#000000\" points=\"10364.5783,-883.281 10355.6723,-877.5422 10359.0556,-887.5823 10364.5783,-883.281\"/>\n</g>\n<!-- 338 -->\n<g id=\"node339\" class=\"node\">\n<title>338</title>\n<polygon fill=\"none\" stroke=\"#000000\" points=\"10569,-885 10425,-885 10425,-817 10569,-817 10569,-885\"/>\n<text text-anchor=\"middle\" x=\"10497\" y=\"-869.8\" font-family=\"Helvetica,sans-Serif\" font-size=\"14.00\" fill=\"#000000\">X[21] &lt;= &#45;0.009</text>\n<text text-anchor=\"middle\" x=\"10497\" y=\"-854.8\" font-family=\"Helvetica,sans-Serif\" font-size=\"14.00\" fill=\"#000000\">squared_error = 0.0</text>\n<text text-anchor=\"middle\" x=\"10497\" y=\"-839.8\" font-family=\"Helvetica,sans-Serif\" font-size=\"14.00\" fill=\"#000000\">samples = 2</text>\n<text text-anchor=\"middle\" x=\"10497\" y=\"-824.8\" font-family=\"Helvetica,sans-Serif\" font-size=\"14.00\" fill=\"#000000\">value = 0.008</text>\n</g>\n<!-- 336&#45;&gt;338 -->\n<g id=\"edge338\" class=\"edge\">\n<title>336&#45;&gt;338</title>\n<path fill=\"none\" stroke=\"#000000\" d=\"M10442.5224,-920.9465C10449.4454,-912.0578 10456.9894,-902.3716 10464.196,-893.1188\"/>\n<polygon fill=\"#000000\" stroke=\"#000000\" points=\"10467.0346,-895.1701 10470.418,-885.13 10461.512,-890.8688 10467.0346,-895.1701\"/>\n</g>\n<!-- 339 -->\n<g id=\"node340\" class=\"node\">\n<title>339</title>\n<polygon fill=\"none\" stroke=\"#000000\" points=\"10410,-773.5 10266,-773.5 10266,-720.5 10410,-720.5 10410,-773.5\"/>\n<text text-anchor=\"middle\" x=\"10338\" y=\"-758.3\" font-family=\"Helvetica,sans-Serif\" font-size=\"14.00\" fill=\"#000000\">squared_error = 0.0</text>\n<text text-anchor=\"middle\" x=\"10338\" y=\"-743.3\" font-family=\"Helvetica,sans-Serif\" font-size=\"14.00\" fill=\"#000000\">samples = 1</text>\n<text text-anchor=\"middle\" x=\"10338\" y=\"-728.3\" font-family=\"Helvetica,sans-Serif\" font-size=\"14.00\" fill=\"#000000\">value = 0.01</text>\n</g>\n<!-- 338&#45;&gt;339 -->\n<g id=\"edge339\" class=\"edge\">\n<title>338&#45;&gt;339</title>\n<path fill=\"none\" stroke=\"#000000\" d=\"M10444.9375,-816.9465C10426.4134,-804.8301 10405.624,-791.232 10387.3352,-779.2696\"/>\n<polygon fill=\"#000000\" stroke=\"#000000\" points=\"10388.8636,-776.087 10378.5789,-773.5422 10385.0318,-781.9452 10388.8636,-776.087\"/>\n</g>\n<!-- 340 -->\n<g id=\"node341\" class=\"node\">\n<title>340</title>\n<polygon fill=\"none\" stroke=\"#000000\" points=\"10572,-773.5 10428,-773.5 10428,-720.5 10572,-720.5 10572,-773.5\"/>\n<text text-anchor=\"middle\" x=\"10500\" y=\"-758.3\" font-family=\"Helvetica,sans-Serif\" font-size=\"14.00\" fill=\"#000000\">squared_error = 0.0</text>\n<text text-anchor=\"middle\" x=\"10500\" y=\"-743.3\" font-family=\"Helvetica,sans-Serif\" font-size=\"14.00\" fill=\"#000000\">samples = 1</text>\n<text text-anchor=\"middle\" x=\"10500\" y=\"-728.3\" font-family=\"Helvetica,sans-Serif\" font-size=\"14.00\" fill=\"#000000\">value = 0.006</text>\n</g>\n<!-- 338&#45;&gt;340 -->\n<g id=\"edge340\" class=\"edge\">\n<title>338&#45;&gt;340</title>\n<path fill=\"none\" stroke=\"#000000\" d=\"M10497.9823,-816.9465C10498.2905,-806.2621 10498.632,-794.4254 10498.945,-783.5742\"/>\n<polygon fill=\"#000000\" stroke=\"#000000\" points=\"10502.4445,-783.639 10499.2344,-773.5422 10495.4474,-783.4371 10502.4445,-783.639\"/>\n</g>\n<!-- 342 -->\n<g id=\"node343\" class=\"node\">\n<title>342</title>\n<polygon fill=\"none\" stroke=\"#000000\" points=\"10815,-885 10671,-885 10671,-817 10815,-817 10815,-885\"/>\n<text text-anchor=\"middle\" x=\"10743\" y=\"-869.8\" font-family=\"Helvetica,sans-Serif\" font-size=\"14.00\" fill=\"#000000\">X[28] &lt;= &#45;0.005</text>\n<text text-anchor=\"middle\" x=\"10743\" y=\"-854.8\" font-family=\"Helvetica,sans-Serif\" font-size=\"14.00\" fill=\"#000000\">squared_error = 0.0</text>\n<text text-anchor=\"middle\" x=\"10743\" y=\"-839.8\" font-family=\"Helvetica,sans-Serif\" font-size=\"14.00\" fill=\"#000000\">samples = 6</text>\n<text text-anchor=\"middle\" x=\"10743\" y=\"-824.8\" font-family=\"Helvetica,sans-Serif\" font-size=\"14.00\" fill=\"#000000\">value = &#45;0.005</text>\n</g>\n<!-- 341&#45;&gt;342 -->\n<g id=\"edge342\" class=\"edge\">\n<title>341&#45;&gt;342</title>\n<path fill=\"none\" stroke=\"#000000\" d=\"M10743,-920.9465C10743,-912.776 10743,-903.9318 10743,-895.3697\"/>\n<polygon fill=\"#000000\" stroke=\"#000000\" points=\"10746.5001,-895.13 10743,-885.13 10739.5001,-895.13 10746.5001,-895.13\"/>\n</g>\n<!-- 353 -->\n<g id=\"node354\" class=\"node\">\n<title>353</title>\n<polygon fill=\"none\" stroke=\"#000000\" points=\"11058,-885 10914,-885 10914,-817 11058,-817 11058,-885\"/>\n<text text-anchor=\"middle\" x=\"10986\" y=\"-869.8\" font-family=\"Helvetica,sans-Serif\" font-size=\"14.00\" fill=\"#000000\">X[8] &lt;= 0.014</text>\n<text text-anchor=\"middle\" x=\"10986\" y=\"-854.8\" font-family=\"Helvetica,sans-Serif\" font-size=\"14.00\" fill=\"#000000\">squared_error = 0.0</text>\n<text text-anchor=\"middle\" x=\"10986\" y=\"-839.8\" font-family=\"Helvetica,sans-Serif\" font-size=\"14.00\" fill=\"#000000\">samples = 3</text>\n<text text-anchor=\"middle\" x=\"10986\" y=\"-824.8\" font-family=\"Helvetica,sans-Serif\" font-size=\"14.00\" fill=\"#000000\">value = &#45;0.02</text>\n</g>\n<!-- 341&#45;&gt;353 -->\n<g id=\"edge353\" class=\"edge\">\n<title>341&#45;&gt;353</title>\n<path fill=\"none\" stroke=\"#000000\" d=\"M10815.2501,-924.0782C10843.2753,-912.0838 10875.5086,-898.2885 10904.3672,-885.9375\"/>\n<polygon fill=\"#000000\" stroke=\"#000000\" points=\"10905.7924,-889.1347 10913.6087,-881.9823 10903.0381,-882.6993 10905.7924,-889.1347\"/>\n</g>\n<!-- 343 -->\n<g id=\"node344\" class=\"node\">\n<title>343</title>\n<polygon fill=\"none\" stroke=\"#000000\" points=\"10734,-781 10590,-781 10590,-713 10734,-713 10734,-781\"/>\n<text text-anchor=\"middle\" x=\"10662\" y=\"-765.8\" font-family=\"Helvetica,sans-Serif\" font-size=\"14.00\" fill=\"#000000\">X[11] &lt;= 0.016</text>\n<text text-anchor=\"middle\" x=\"10662\" y=\"-750.8\" font-family=\"Helvetica,sans-Serif\" font-size=\"14.00\" fill=\"#000000\">squared_error = 0.0</text>\n<text text-anchor=\"middle\" x=\"10662\" y=\"-735.8\" font-family=\"Helvetica,sans-Serif\" font-size=\"14.00\" fill=\"#000000\">samples = 2</text>\n<text text-anchor=\"middle\" x=\"10662\" y=\"-720.8\" font-family=\"Helvetica,sans-Serif\" font-size=\"14.00\" fill=\"#000000\">value = &#45;0.01</text>\n</g>\n<!-- 342&#45;&gt;343 -->\n<g id=\"edge343\" class=\"edge\">\n<title>342&#45;&gt;343</title>\n<path fill=\"none\" stroke=\"#000000\" d=\"M10716.4776,-816.9465C10709.5546,-808.0578 10702.0106,-798.3716 10694.804,-789.1188\"/>\n<polygon fill=\"#000000\" stroke=\"#000000\" points=\"10697.488,-786.8688 10688.582,-781.13 10691.9654,-791.1701 10697.488,-786.8688\"/>\n</g>\n<!-- 346 -->\n<g id=\"node347\" class=\"node\">\n<title>346</title>\n<polygon fill=\"none\" stroke=\"#000000\" points=\"10896,-781 10752,-781 10752,-713 10896,-713 10896,-781\"/>\n<text text-anchor=\"middle\" x=\"10824\" y=\"-765.8\" font-family=\"Helvetica,sans-Serif\" font-size=\"14.00\" fill=\"#000000\">X[31] &lt;= 0.02</text>\n<text text-anchor=\"middle\" x=\"10824\" y=\"-750.8\" font-family=\"Helvetica,sans-Serif\" font-size=\"14.00\" fill=\"#000000\">squared_error = 0.0</text>\n<text text-anchor=\"middle\" x=\"10824\" y=\"-735.8\" font-family=\"Helvetica,sans-Serif\" font-size=\"14.00\" fill=\"#000000\">samples = 4</text>\n<text text-anchor=\"middle\" x=\"10824\" y=\"-720.8\" font-family=\"Helvetica,sans-Serif\" font-size=\"14.00\" fill=\"#000000\">value = &#45;0.003</text>\n</g>\n<!-- 342&#45;&gt;346 -->\n<g id=\"edge346\" class=\"edge\">\n<title>342&#45;&gt;346</title>\n<path fill=\"none\" stroke=\"#000000\" d=\"M10769.5224,-816.9465C10776.4454,-808.0578 10783.9894,-798.3716 10791.196,-789.1188\"/>\n<polygon fill=\"#000000\" stroke=\"#000000\" points=\"10794.0346,-791.1701 10797.418,-781.13 10788.512,-786.8688 10794.0346,-791.1701\"/>\n</g>\n<!-- 344 -->\n<g id=\"node345\" class=\"node\">\n<title>344</title>\n<polygon fill=\"none\" stroke=\"#000000\" points=\"10490,-669.5 10346,-669.5 10346,-616.5 10490,-616.5 10490,-669.5\"/>\n<text text-anchor=\"middle\" x=\"10418\" y=\"-654.3\" font-family=\"Helvetica,sans-Serif\" font-size=\"14.00\" fill=\"#000000\">squared_error = 0.0</text>\n<text text-anchor=\"middle\" x=\"10418\" y=\"-639.3\" font-family=\"Helvetica,sans-Serif\" font-size=\"14.00\" fill=\"#000000\">samples = 1</text>\n<text text-anchor=\"middle\" x=\"10418\" y=\"-624.3\" font-family=\"Helvetica,sans-Serif\" font-size=\"14.00\" fill=\"#000000\">value = &#45;0.012</text>\n</g>\n<!-- 343&#45;&gt;344 -->\n<g id=\"edge344\" class=\"edge\">\n<title>343&#45;&gt;344</title>\n<path fill=\"none\" stroke=\"#000000\" d=\"M10589.7823,-716.2187C10558.3263,-702.8112 10521.5407,-687.1321 10490.0982,-673.7304\"/>\n<polygon fill=\"#000000\" stroke=\"#000000\" points=\"10491.0951,-670.3507 10480.5235,-669.6494 10488.3504,-676.7902 10491.0951,-670.3507\"/>\n</g>\n<!-- 345 -->\n<g id=\"node346\" class=\"node\">\n<title>345</title>\n<polygon fill=\"none\" stroke=\"#000000\" points=\"10652,-669.5 10508,-669.5 10508,-616.5 10652,-616.5 10652,-669.5\"/>\n<text text-anchor=\"middle\" x=\"10580\" y=\"-654.3\" font-family=\"Helvetica,sans-Serif\" font-size=\"14.00\" fill=\"#000000\">squared_error = 0.0</text>\n<text text-anchor=\"middle\" x=\"10580\" y=\"-639.3\" font-family=\"Helvetica,sans-Serif\" font-size=\"14.00\" fill=\"#000000\">samples = 1</text>\n<text text-anchor=\"middle\" x=\"10580\" y=\"-624.3\" font-family=\"Helvetica,sans-Serif\" font-size=\"14.00\" fill=\"#000000\">value = &#45;0.009</text>\n</g>\n<!-- 343&#45;&gt;345 -->\n<g id=\"edge345\" class=\"edge\">\n<title>343&#45;&gt;345</title>\n<path fill=\"none\" stroke=\"#000000\" d=\"M10635.1501,-712.9465C10626.2048,-701.6012 10616.2351,-688.9567 10607.259,-677.5724\"/>\n<polygon fill=\"#000000\" stroke=\"#000000\" points=\"10609.8675,-675.2278 10600.9275,-669.5422 10604.3706,-679.5619 10609.8675,-675.2278\"/>\n</g>\n<!-- 347 -->\n<g id=\"node348\" class=\"node\">\n<title>347</title>\n<polygon fill=\"none\" stroke=\"#000000\" points=\"10814,-677 10670,-677 10670,-609 10814,-609 10814,-677\"/>\n<text text-anchor=\"middle\" x=\"10742\" y=\"-661.8\" font-family=\"Helvetica,sans-Serif\" font-size=\"14.00\" fill=\"#000000\">X[7] &lt;= &#45;0.011</text>\n<text text-anchor=\"middle\" x=\"10742\" y=\"-646.8\" font-family=\"Helvetica,sans-Serif\" font-size=\"14.00\" fill=\"#000000\">squared_error = 0.0</text>\n<text text-anchor=\"middle\" x=\"10742\" y=\"-631.8\" font-family=\"Helvetica,sans-Serif\" font-size=\"14.00\" fill=\"#000000\">samples = 3</text>\n<text text-anchor=\"middle\" x=\"10742\" y=\"-616.8\" font-family=\"Helvetica,sans-Serif\" font-size=\"14.00\" fill=\"#000000\">value = &#45;0.002</text>\n</g>\n<!-- 346&#45;&gt;347 -->\n<g id=\"edge347\" class=\"edge\">\n<title>346&#45;&gt;347</title>\n<path fill=\"none\" stroke=\"#000000\" d=\"M10797.1501,-712.9465C10790.1417,-704.0578 10782.5045,-694.3716 10775.209,-685.1188\"/>\n<polygon fill=\"#000000\" stroke=\"#000000\" points=\"10777.8502,-682.8157 10768.9102,-677.13 10772.3533,-687.1498 10777.8502,-682.8157\"/>\n</g>\n<!-- 352 -->\n<g id=\"node353\" class=\"node\">\n<title>352</title>\n<polygon fill=\"none\" stroke=\"#000000\" points=\"10981.5,-669.5 10832.5,-669.5 10832.5,-616.5 10981.5,-616.5 10981.5,-669.5\"/>\n<text text-anchor=\"middle\" x=\"10907\" y=\"-654.3\" font-family=\"Helvetica,sans-Serif\" font-size=\"14.00\" fill=\"#000000\">squared_error = &#45;0.0</text>\n<text text-anchor=\"middle\" x=\"10907\" y=\"-639.3\" font-family=\"Helvetica,sans-Serif\" font-size=\"14.00\" fill=\"#000000\">samples = 1</text>\n<text text-anchor=\"middle\" x=\"10907\" y=\"-624.3\" font-family=\"Helvetica,sans-Serif\" font-size=\"14.00\" fill=\"#000000\">value = &#45;0.005</text>\n</g>\n<!-- 346&#45;&gt;352 -->\n<g id=\"edge352\" class=\"edge\">\n<title>346&#45;&gt;352</title>\n<path fill=\"none\" stroke=\"#000000\" d=\"M10851.1773,-712.9465C10860.2318,-701.6012 10870.323,-688.9567 10879.4086,-677.5724\"/>\n<polygon fill=\"#000000\" stroke=\"#000000\" points=\"10882.3151,-679.5414 10885.8173,-669.5422 10876.8439,-675.175 10882.3151,-679.5414\"/>\n</g>\n<!-- 348 -->\n<g id=\"node349\" class=\"node\">\n<title>348</title>\n<polygon fill=\"none\" stroke=\"#000000\" points=\"10733,-565.5 10589,-565.5 10589,-512.5 10733,-512.5 10733,-565.5\"/>\n<text text-anchor=\"middle\" x=\"10661\" y=\"-550.3\" font-family=\"Helvetica,sans-Serif\" font-size=\"14.00\" fill=\"#000000\">squared_error = 0.0</text>\n<text text-anchor=\"middle\" x=\"10661\" y=\"-535.3\" font-family=\"Helvetica,sans-Serif\" font-size=\"14.00\" fill=\"#000000\">samples = 1</text>\n<text text-anchor=\"middle\" x=\"10661\" y=\"-520.3\" font-family=\"Helvetica,sans-Serif\" font-size=\"14.00\" fill=\"#000000\">value = &#45;0.001</text>\n</g>\n<!-- 347&#45;&gt;348 -->\n<g id=\"edge348\" class=\"edge\">\n<title>347&#45;&gt;348</title>\n<path fill=\"none\" stroke=\"#000000\" d=\"M10715.4776,-608.9465C10706.6413,-597.6012 10696.7932,-584.9567 10687.9266,-573.5724\"/>\n<polygon fill=\"#000000\" stroke=\"#000000\" points=\"10690.5783,-571.281 10681.6723,-565.5422 10685.0556,-575.5823 10690.5783,-571.281\"/>\n</g>\n<!-- 349 -->\n<g id=\"node350\" class=\"node\">\n<title>349</title>\n<polygon fill=\"none\" stroke=\"#000000\" points=\"10895,-573 10751,-573 10751,-505 10895,-505 10895,-573\"/>\n<text text-anchor=\"middle\" x=\"10823\" y=\"-557.8\" font-family=\"Helvetica,sans-Serif\" font-size=\"14.00\" fill=\"#000000\">X[23] &lt;= 0.011</text>\n<text text-anchor=\"middle\" x=\"10823\" y=\"-542.8\" font-family=\"Helvetica,sans-Serif\" font-size=\"14.00\" fill=\"#000000\">squared_error = 0.0</text>\n<text text-anchor=\"middle\" x=\"10823\" y=\"-527.8\" font-family=\"Helvetica,sans-Serif\" font-size=\"14.00\" fill=\"#000000\">samples = 2</text>\n<text text-anchor=\"middle\" x=\"10823\" y=\"-512.8\" font-family=\"Helvetica,sans-Serif\" font-size=\"14.00\" fill=\"#000000\">value = &#45;0.002</text>\n</g>\n<!-- 347&#45;&gt;349 -->\n<g id=\"edge349\" class=\"edge\">\n<title>347&#45;&gt;349</title>\n<path fill=\"none\" stroke=\"#000000\" d=\"M10768.5224,-608.9465C10775.4454,-600.0578 10782.9894,-590.3716 10790.196,-581.1188\"/>\n<polygon fill=\"#000000\" stroke=\"#000000\" points=\"10793.0346,-583.1701 10796.418,-573.13 10787.512,-578.8688 10793.0346,-583.1701\"/>\n</g>\n<!-- 350 -->\n<g id=\"node351\" class=\"node\">\n<title>350</title>\n<polygon fill=\"none\" stroke=\"#000000\" points=\"10814,-461.5 10670,-461.5 10670,-408.5 10814,-408.5 10814,-461.5\"/>\n<text text-anchor=\"middle\" x=\"10742\" y=\"-446.3\" font-family=\"Helvetica,sans-Serif\" font-size=\"14.00\" fill=\"#000000\">squared_error = 0.0</text>\n<text text-anchor=\"middle\" x=\"10742\" y=\"-431.3\" font-family=\"Helvetica,sans-Serif\" font-size=\"14.00\" fill=\"#000000\">samples = 1</text>\n<text text-anchor=\"middle\" x=\"10742\" y=\"-416.3\" font-family=\"Helvetica,sans-Serif\" font-size=\"14.00\" fill=\"#000000\">value = &#45;0.002</text>\n</g>\n<!-- 349&#45;&gt;350 -->\n<g id=\"edge350\" class=\"edge\">\n<title>349&#45;&gt;350</title>\n<path fill=\"none\" stroke=\"#000000\" d=\"M10796.4776,-504.9465C10787.6413,-493.6012 10777.7932,-480.9567 10768.9266,-469.5724\"/>\n<polygon fill=\"#000000\" stroke=\"#000000\" points=\"10771.5783,-467.281 10762.6723,-461.5422 10766.0556,-471.5823 10771.5783,-467.281\"/>\n</g>\n<!-- 351 -->\n<g id=\"node352\" class=\"node\">\n<title>351</title>\n<polygon fill=\"none\" stroke=\"#000000\" points=\"10976,-461.5 10832,-461.5 10832,-408.5 10976,-408.5 10976,-461.5\"/>\n<text text-anchor=\"middle\" x=\"10904\" y=\"-446.3\" font-family=\"Helvetica,sans-Serif\" font-size=\"14.00\" fill=\"#000000\">squared_error = 0.0</text>\n<text text-anchor=\"middle\" x=\"10904\" y=\"-431.3\" font-family=\"Helvetica,sans-Serif\" font-size=\"14.00\" fill=\"#000000\">samples = 1</text>\n<text text-anchor=\"middle\" x=\"10904\" y=\"-416.3\" font-family=\"Helvetica,sans-Serif\" font-size=\"14.00\" fill=\"#000000\">value = &#45;0.002</text>\n</g>\n<!-- 349&#45;&gt;351 -->\n<g id=\"edge351\" class=\"edge\">\n<title>349&#45;&gt;351</title>\n<path fill=\"none\" stroke=\"#000000\" d=\"M10849.5224,-504.9465C10858.3587,-493.6012 10868.2068,-480.9567 10877.0734,-469.5724\"/>\n<polygon fill=\"#000000\" stroke=\"#000000\" points=\"10879.9444,-471.5823 10883.3277,-461.5422 10874.4217,-467.281 10879.9444,-471.5823\"/>\n</g>\n<!-- 354 -->\n<g id=\"node355\" class=\"node\">\n<title>354</title>\n<polygon fill=\"none\" stroke=\"#000000\" points=\"11058,-781 10914,-781 10914,-713 11058,-713 11058,-781\"/>\n<text text-anchor=\"middle\" x=\"10986\" y=\"-765.8\" font-family=\"Helvetica,sans-Serif\" font-size=\"14.00\" fill=\"#000000\">X[21] &lt;= 0.011</text>\n<text text-anchor=\"middle\" x=\"10986\" y=\"-750.8\" font-family=\"Helvetica,sans-Serif\" font-size=\"14.00\" fill=\"#000000\">squared_error = 0.0</text>\n<text text-anchor=\"middle\" x=\"10986\" y=\"-735.8\" font-family=\"Helvetica,sans-Serif\" font-size=\"14.00\" fill=\"#000000\">samples = 2</text>\n<text text-anchor=\"middle\" x=\"10986\" y=\"-720.8\" font-family=\"Helvetica,sans-Serif\" font-size=\"14.00\" fill=\"#000000\">value = &#45;0.016</text>\n</g>\n<!-- 353&#45;&gt;354 -->\n<g id=\"edge354\" class=\"edge\">\n<title>353&#45;&gt;354</title>\n<path fill=\"none\" stroke=\"#000000\" d=\"M10986,-816.9465C10986,-808.776 10986,-799.9318 10986,-791.3697\"/>\n<polygon fill=\"#000000\" stroke=\"#000000\" points=\"10989.5001,-791.13 10986,-781.13 10982.5001,-791.13 10989.5001,-791.13\"/>\n</g>\n<!-- 357 -->\n<g id=\"node358\" class=\"node\">\n<title>357</title>\n<polygon fill=\"none\" stroke=\"#000000\" points=\"11225.5,-773.5 11076.5,-773.5 11076.5,-720.5 11225.5,-720.5 11225.5,-773.5\"/>\n<text text-anchor=\"middle\" x=\"11151\" y=\"-758.3\" font-family=\"Helvetica,sans-Serif\" font-size=\"14.00\" fill=\"#000000\">squared_error = &#45;0.0</text>\n<text text-anchor=\"middle\" x=\"11151\" y=\"-743.3\" font-family=\"Helvetica,sans-Serif\" font-size=\"14.00\" fill=\"#000000\">samples = 1</text>\n<text text-anchor=\"middle\" x=\"11151\" y=\"-728.3\" font-family=\"Helvetica,sans-Serif\" font-size=\"14.00\" fill=\"#000000\">value = &#45;0.027</text>\n</g>\n<!-- 353&#45;&gt;357 -->\n<g id=\"edge357\" class=\"edge\">\n<title>353&#45;&gt;357</title>\n<path fill=\"none\" stroke=\"#000000\" d=\"M11040.0272,-816.9465C11059.4251,-804.72 11081.2166,-790.9847 11100.32,-778.9437\"/>\n<polygon fill=\"#000000\" stroke=\"#000000\" points=\"11102.2964,-781.8353 11108.8898,-773.5422 11098.5638,-775.9135 11102.2964,-781.8353\"/>\n</g>\n<!-- 355 -->\n<g id=\"node356\" class=\"node\">\n<title>355</title>\n<polygon fill=\"none\" stroke=\"#000000\" points=\"11144,-669.5 11000,-669.5 11000,-616.5 11144,-616.5 11144,-669.5\"/>\n<text text-anchor=\"middle\" x=\"11072\" y=\"-654.3\" font-family=\"Helvetica,sans-Serif\" font-size=\"14.00\" fill=\"#000000\">squared_error = 0.0</text>\n<text text-anchor=\"middle\" x=\"11072\" y=\"-639.3\" font-family=\"Helvetica,sans-Serif\" font-size=\"14.00\" fill=\"#000000\">samples = 1</text>\n<text text-anchor=\"middle\" x=\"11072\" y=\"-624.3\" font-family=\"Helvetica,sans-Serif\" font-size=\"14.00\" fill=\"#000000\">value = &#45;0.017</text>\n</g>\n<!-- 354&#45;&gt;355 -->\n<g id=\"edge355\" class=\"edge\">\n<title>354&#45;&gt;355</title>\n<path fill=\"none\" stroke=\"#000000\" d=\"M11014.1596,-712.9465C11023.5413,-701.6012 11033.9973,-688.9567 11043.4113,-677.5724\"/>\n<polygon fill=\"#000000\" stroke=\"#000000\" points=\"11046.3763,-679.4791 11050.0517,-669.5422 11040.9817,-675.0182 11046.3763,-679.4791\"/>\n</g>\n<!-- 356 -->\n<g id=\"node357\" class=\"node\">\n<title>356</title>\n<polygon fill=\"none\" stroke=\"#000000\" points=\"11306,-669.5 11162,-669.5 11162,-616.5 11306,-616.5 11306,-669.5\"/>\n<text text-anchor=\"middle\" x=\"11234\" y=\"-654.3\" font-family=\"Helvetica,sans-Serif\" font-size=\"14.00\" fill=\"#000000\">squared_error = 0.0</text>\n<text text-anchor=\"middle\" x=\"11234\" y=\"-639.3\" font-family=\"Helvetica,sans-Serif\" font-size=\"14.00\" fill=\"#000000\">samples = 1</text>\n<text text-anchor=\"middle\" x=\"11234\" y=\"-624.3\" font-family=\"Helvetica,sans-Serif\" font-size=\"14.00\" fill=\"#000000\">value = &#45;0.015</text>\n</g>\n<!-- 354&#45;&gt;356 -->\n<g id=\"edge356\" class=\"edge\">\n<title>354&#45;&gt;356</title>\n<path fill=\"none\" stroke=\"#000000\" d=\"M11058.422,-716.5965C11061.319,-715.3816 11064.1869,-714.1792 11067,-713 11105.2144,-696.9813 11114.7856,-693.0187 11153,-677 11155.7933,-675.8291 11158.6407,-674.6353 11161.5169,-673.4291\"/>\n<polygon fill=\"#000000\" stroke=\"#000000\" points=\"11162.9022,-676.6435 11170.7701,-669.548 11160.1946,-670.1884 11162.9022,-676.6435\"/>\n</g>\n<!-- 359 -->\n<g id=\"node360\" class=\"node\">\n<title>359</title>\n<polygon fill=\"none\" stroke=\"#000000\" points=\"11386,-1197 11242,-1197 11242,-1129 11386,-1129 11386,-1197\"/>\n<text text-anchor=\"middle\" x=\"11314\" y=\"-1181.8\" font-family=\"Helvetica,sans-Serif\" font-size=\"14.00\" fill=\"#000000\">X[23] &lt;= &#45;0.007</text>\n<text text-anchor=\"middle\" x=\"11314\" y=\"-1166.8\" font-family=\"Helvetica,sans-Serif\" font-size=\"14.00\" fill=\"#000000\">squared_error = 0.0</text>\n<text text-anchor=\"middle\" x=\"11314\" y=\"-1151.8\" font-family=\"Helvetica,sans-Serif\" font-size=\"14.00\" fill=\"#000000\">samples = 6</text>\n<text text-anchor=\"middle\" x=\"11314\" y=\"-1136.8\" font-family=\"Helvetica,sans-Serif\" font-size=\"14.00\" fill=\"#000000\">value = 0.041</text>\n</g>\n<!-- 358&#45;&gt;359 -->\n<g id=\"edge359\" class=\"edge\">\n<title>358&#45;&gt;359</title>\n<path fill=\"none\" stroke=\"#000000\" d=\"M11314,-1232.9465C11314,-1224.776 11314,-1215.9318 11314,-1207.3697\"/>\n<polygon fill=\"#000000\" stroke=\"#000000\" points=\"11317.5001,-1207.13 11314,-1197.13 11310.5001,-1207.13 11317.5001,-1207.13\"/>\n</g>\n<!-- 370 -->\n<g id=\"node371\" class=\"node\">\n<title>370</title>\n<polygon fill=\"none\" stroke=\"#000000\" points=\"11629,-1197 11485,-1197 11485,-1129 11629,-1129 11629,-1197\"/>\n<text text-anchor=\"middle\" x=\"11557\" y=\"-1181.8\" font-family=\"Helvetica,sans-Serif\" font-size=\"14.00\" fill=\"#000000\">X[16] &lt;= 0.044</text>\n<text text-anchor=\"middle\" x=\"11557\" y=\"-1166.8\" font-family=\"Helvetica,sans-Serif\" font-size=\"14.00\" fill=\"#000000\">squared_error = 0.0</text>\n<text text-anchor=\"middle\" x=\"11557\" y=\"-1151.8\" font-family=\"Helvetica,sans-Serif\" font-size=\"14.00\" fill=\"#000000\">samples = 17</text>\n<text text-anchor=\"middle\" x=\"11557\" y=\"-1136.8\" font-family=\"Helvetica,sans-Serif\" font-size=\"14.00\" fill=\"#000000\">value = 0.016</text>\n</g>\n<!-- 358&#45;&gt;370 -->\n<g id=\"edge370\" class=\"edge\">\n<title>358&#45;&gt;370</title>\n<path fill=\"none\" stroke=\"#000000\" d=\"M11386.2501,-1236.0782C11414.2753,-1224.0838 11446.5086,-1210.2885 11475.3672,-1197.9375\"/>\n<polygon fill=\"#000000\" stroke=\"#000000\" points=\"11476.7924,-1201.1347 11484.6087,-1193.9823 11474.0381,-1194.6993 11476.7924,-1201.1347\"/>\n</g>\n<!-- 360 -->\n<g id=\"node361\" class=\"node\">\n<title>360</title>\n<polygon fill=\"none\" stroke=\"#000000\" points=\"11265,-1093 11121,-1093 11121,-1025 11265,-1025 11265,-1093\"/>\n<text text-anchor=\"middle\" x=\"11193\" y=\"-1077.8\" font-family=\"Helvetica,sans-Serif\" font-size=\"14.00\" fill=\"#000000\">X[21] &lt;= &#45;0.011</text>\n<text text-anchor=\"middle\" x=\"11193\" y=\"-1062.8\" font-family=\"Helvetica,sans-Serif\" font-size=\"14.00\" fill=\"#000000\">squared_error = 0.0</text>\n<text text-anchor=\"middle\" x=\"11193\" y=\"-1047.8\" font-family=\"Helvetica,sans-Serif\" font-size=\"14.00\" fill=\"#000000\">samples = 2</text>\n<text text-anchor=\"middle\" x=\"11193\" y=\"-1032.8\" font-family=\"Helvetica,sans-Serif\" font-size=\"14.00\" fill=\"#000000\">value = 0.062</text>\n</g>\n<!-- 359&#45;&gt;360 -->\n<g id=\"edge360\" class=\"edge\">\n<title>359&#45;&gt;360</title>\n<path fill=\"none\" stroke=\"#000000\" d=\"M11274.3801,-1128.9465C11263.516,-1119.6088 11251.6282,-1109.3911 11240.3765,-1099.7203\"/>\n<polygon fill=\"#000000\" stroke=\"#000000\" points=\"11242.5741,-1096.994 11232.7089,-1093.13 11238.0113,-1102.3026 11242.5741,-1096.994\"/>\n</g>\n<!-- 363 -->\n<g id=\"node364\" class=\"node\">\n<title>363</title>\n<polygon fill=\"none\" stroke=\"#000000\" points=\"11427,-1093 11283,-1093 11283,-1025 11427,-1025 11427,-1093\"/>\n<text text-anchor=\"middle\" x=\"11355\" y=\"-1077.8\" font-family=\"Helvetica,sans-Serif\" font-size=\"14.00\" fill=\"#000000\">X[32] &lt;= 0.016</text>\n<text text-anchor=\"middle\" x=\"11355\" y=\"-1062.8\" font-family=\"Helvetica,sans-Serif\" font-size=\"14.00\" fill=\"#000000\">squared_error = 0.0</text>\n<text text-anchor=\"middle\" x=\"11355\" y=\"-1047.8\" font-family=\"Helvetica,sans-Serif\" font-size=\"14.00\" fill=\"#000000\">samples = 4</text>\n<text text-anchor=\"middle\" x=\"11355\" y=\"-1032.8\" font-family=\"Helvetica,sans-Serif\" font-size=\"14.00\" fill=\"#000000\">value = 0.031</text>\n</g>\n<!-- 359&#45;&gt;363 -->\n<g id=\"edge363\" class=\"edge\">\n<title>359&#45;&gt;363</title>\n<path fill=\"none\" stroke=\"#000000\" d=\"M11327.4249,-1128.9465C11330.7522,-1120.5067 11334.3628,-1111.3479 11337.8416,-1102.5239\"/>\n<polygon fill=\"#000000\" stroke=\"#000000\" points=\"11341.1334,-1103.7168 11341.5449,-1093.13 11334.6211,-1101.1495 11341.1334,-1103.7168\"/>\n</g>\n<!-- 361 -->\n<g id=\"node362\" class=\"node\">\n<title>361</title>\n<polygon fill=\"none\" stroke=\"#000000\" points=\"11103,-981.5 10959,-981.5 10959,-928.5 11103,-928.5 11103,-981.5\"/>\n<text text-anchor=\"middle\" x=\"11031\" y=\"-966.3\" font-family=\"Helvetica,sans-Serif\" font-size=\"14.00\" fill=\"#000000\">squared_error = 0.0</text>\n<text text-anchor=\"middle\" x=\"11031\" y=\"-951.3\" font-family=\"Helvetica,sans-Serif\" font-size=\"14.00\" fill=\"#000000\">samples = 1</text>\n<text text-anchor=\"middle\" x=\"11031\" y=\"-936.3\" font-family=\"Helvetica,sans-Serif\" font-size=\"14.00\" fill=\"#000000\">value = 0.066</text>\n</g>\n<!-- 360&#45;&gt;361 -->\n<g id=\"edge361\" class=\"edge\">\n<title>360&#45;&gt;361</title>\n<path fill=\"none\" stroke=\"#000000\" d=\"M11139.9551,-1024.9465C11120.9957,-1012.775 11099.7073,-999.1084 11081.0121,-987.1066\"/>\n<polygon fill=\"#000000\" stroke=\"#000000\" points=\"11082.6505,-983.9992 11072.3445,-981.5422 11078.8689,-989.8898 11082.6505,-983.9992\"/>\n</g>\n<!-- 362 -->\n<g id=\"node363\" class=\"node\">\n<title>362</title>\n<polygon fill=\"none\" stroke=\"#000000\" points=\"11265,-981.5 11121,-981.5 11121,-928.5 11265,-928.5 11265,-981.5\"/>\n<text text-anchor=\"middle\" x=\"11193\" y=\"-966.3\" font-family=\"Helvetica,sans-Serif\" font-size=\"14.00\" fill=\"#000000\">squared_error = 0.0</text>\n<text text-anchor=\"middle\" x=\"11193\" y=\"-951.3\" font-family=\"Helvetica,sans-Serif\" font-size=\"14.00\" fill=\"#000000\">samples = 1</text>\n<text text-anchor=\"middle\" x=\"11193\" y=\"-936.3\" font-family=\"Helvetica,sans-Serif\" font-size=\"14.00\" fill=\"#000000\">value = 0.058</text>\n</g>\n<!-- 360&#45;&gt;362 -->\n<g id=\"edge362\" class=\"edge\">\n<title>360&#45;&gt;362</title>\n<path fill=\"none\" stroke=\"#000000\" d=\"M11193,-1024.9465C11193,-1014.2621 11193,-1002.4254 11193,-991.5742\"/>\n<polygon fill=\"#000000\" stroke=\"#000000\" points=\"11196.5001,-991.5421 11193,-981.5422 11189.5001,-991.5422 11196.5001,-991.5421\"/>\n</g>\n<!-- 364 -->\n<g id=\"node365\" class=\"node\">\n<title>364</title>\n<polygon fill=\"none\" stroke=\"#000000\" points=\"11427,-989 11283,-989 11283,-921 11427,-921 11427,-989\"/>\n<text text-anchor=\"middle\" x=\"11355\" y=\"-973.8\" font-family=\"Helvetica,sans-Serif\" font-size=\"14.00\" fill=\"#000000\">X[23] &lt;= 0.01</text>\n<text text-anchor=\"middle\" x=\"11355\" y=\"-958.8\" font-family=\"Helvetica,sans-Serif\" font-size=\"14.00\" fill=\"#000000\">squared_error = 0.0</text>\n<text text-anchor=\"middle\" x=\"11355\" y=\"-943.8\" font-family=\"Helvetica,sans-Serif\" font-size=\"14.00\" fill=\"#000000\">samples = 3</text>\n<text text-anchor=\"middle\" x=\"11355\" y=\"-928.8\" font-family=\"Helvetica,sans-Serif\" font-size=\"14.00\" fill=\"#000000\">value = 0.037</text>\n</g>\n<!-- 363&#45;&gt;364 -->\n<g id=\"edge364\" class=\"edge\">\n<title>363&#45;&gt;364</title>\n<path fill=\"none\" stroke=\"#000000\" d=\"M11355,-1024.9465C11355,-1016.776 11355,-1007.9318 11355,-999.3697\"/>\n<polygon fill=\"#000000\" stroke=\"#000000\" points=\"11358.5001,-999.13 11355,-989.13 11351.5001,-999.13 11358.5001,-999.13\"/>\n</g>\n<!-- 369 -->\n<g id=\"node370\" class=\"node\">\n<title>369</title>\n<polygon fill=\"none\" stroke=\"#000000\" points=\"11589,-981.5 11445,-981.5 11445,-928.5 11589,-928.5 11589,-981.5\"/>\n<text text-anchor=\"middle\" x=\"11517\" y=\"-966.3\" font-family=\"Helvetica,sans-Serif\" font-size=\"14.00\" fill=\"#000000\">squared_error = 0.0</text>\n<text text-anchor=\"middle\" x=\"11517\" y=\"-951.3\" font-family=\"Helvetica,sans-Serif\" font-size=\"14.00\" fill=\"#000000\">samples = 1</text>\n<text text-anchor=\"middle\" x=\"11517\" y=\"-936.3\" font-family=\"Helvetica,sans-Serif\" font-size=\"14.00\" fill=\"#000000\">value = 0.014</text>\n</g>\n<!-- 363&#45;&gt;369 -->\n<g id=\"edge369\" class=\"edge\">\n<title>363&#45;&gt;369</title>\n<path fill=\"none\" stroke=\"#000000\" d=\"M11408.0449,-1024.9465C11427.0043,-1012.775 11448.2927,-999.1084 11466.9879,-987.1066\"/>\n<polygon fill=\"#000000\" stroke=\"#000000\" points=\"11469.1311,-989.8898 11475.6555,-981.5422 11465.3495,-983.9992 11469.1311,-989.8898\"/>\n</g>\n<!-- 365 -->\n<g id=\"node366\" class=\"node\">\n<title>365</title>\n<polygon fill=\"none\" stroke=\"#000000\" points=\"11327,-877.5 11183,-877.5 11183,-824.5 11327,-824.5 11327,-877.5\"/>\n<text text-anchor=\"middle\" x=\"11255\" y=\"-862.3\" font-family=\"Helvetica,sans-Serif\" font-size=\"14.00\" fill=\"#000000\">squared_error = 0.0</text>\n<text text-anchor=\"middle\" x=\"11255\" y=\"-847.3\" font-family=\"Helvetica,sans-Serif\" font-size=\"14.00\" fill=\"#000000\">samples = 1</text>\n<text text-anchor=\"middle\" x=\"11255\" y=\"-832.3\" font-family=\"Helvetica,sans-Serif\" font-size=\"14.00\" fill=\"#000000\">value = 0.032</text>\n</g>\n<!-- 364&#45;&gt;365 -->\n<g id=\"edge365\" class=\"edge\">\n<title>364&#45;&gt;365</title>\n<path fill=\"none\" stroke=\"#000000\" d=\"M11322.2563,-920.9465C11311.1354,-909.3809 11298.7165,-896.4652 11287.6064,-884.9107\"/>\n<polygon fill=\"#000000\" stroke=\"#000000\" points=\"11289.9754,-882.3246 11280.5213,-877.5422 11284.9295,-887.1764 11289.9754,-882.3246\"/>\n</g>\n<!-- 366 -->\n<g id=\"node367\" class=\"node\">\n<title>366</title>\n<polygon fill=\"none\" stroke=\"#000000\" points=\"11489,-885 11345,-885 11345,-817 11489,-817 11489,-885\"/>\n<text text-anchor=\"middle\" x=\"11417\" y=\"-869.8\" font-family=\"Helvetica,sans-Serif\" font-size=\"14.00\" fill=\"#000000\">X[16] &lt;= 0.023</text>\n<text text-anchor=\"middle\" x=\"11417\" y=\"-854.8\" font-family=\"Helvetica,sans-Serif\" font-size=\"14.00\" fill=\"#000000\">squared_error = 0.0</text>\n<text text-anchor=\"middle\" x=\"11417\" y=\"-839.8\" font-family=\"Helvetica,sans-Serif\" font-size=\"14.00\" fill=\"#000000\">samples = 2</text>\n<text text-anchor=\"middle\" x=\"11417\" y=\"-824.8\" font-family=\"Helvetica,sans-Serif\" font-size=\"14.00\" fill=\"#000000\">value = 0.039</text>\n</g>\n<!-- 364&#45;&gt;366 -->\n<g id=\"edge366\" class=\"edge\">\n<title>364&#45;&gt;366</title>\n<path fill=\"none\" stroke=\"#000000\" d=\"M11375.3011,-920.9465C11380.4396,-912.3271 11386.0251,-902.9579 11391.3886,-893.9611\"/>\n<polygon fill=\"#000000\" stroke=\"#000000\" points=\"11394.5389,-895.5117 11396.6533,-885.13 11388.5263,-891.9272 11394.5389,-895.5117\"/>\n</g>\n<!-- 367 -->\n<g id=\"node368\" class=\"node\">\n<title>367</title>\n<polygon fill=\"none\" stroke=\"#000000\" points=\"11388,-773.5 11244,-773.5 11244,-720.5 11388,-720.5 11388,-773.5\"/>\n<text text-anchor=\"middle\" x=\"11316\" y=\"-758.3\" font-family=\"Helvetica,sans-Serif\" font-size=\"14.00\" fill=\"#000000\">squared_error = 0.0</text>\n<text text-anchor=\"middle\" x=\"11316\" y=\"-743.3\" font-family=\"Helvetica,sans-Serif\" font-size=\"14.00\" fill=\"#000000\">samples = 1</text>\n<text text-anchor=\"middle\" x=\"11316\" y=\"-728.3\" font-family=\"Helvetica,sans-Serif\" font-size=\"14.00\" fill=\"#000000\">value = 0.04</text>\n</g>\n<!-- 366&#45;&gt;367 -->\n<g id=\"edge367\" class=\"edge\">\n<title>366&#45;&gt;367</title>\n<path fill=\"none\" stroke=\"#000000\" d=\"M11383.9288,-816.9465C11372.6968,-805.3809 11360.1537,-792.4652 11348.9325,-780.9107\"/>\n<polygon fill=\"#000000\" stroke=\"#000000\" points=\"11351.2542,-778.2776 11341.7765,-773.5422 11346.2326,-783.1544 11351.2542,-778.2776\"/>\n</g>\n<!-- 368 -->\n<g id=\"node369\" class=\"node\">\n<title>368</title>\n<polygon fill=\"none\" stroke=\"#000000\" points=\"11550,-773.5 11406,-773.5 11406,-720.5 11550,-720.5 11550,-773.5\"/>\n<text text-anchor=\"middle\" x=\"11478\" y=\"-758.3\" font-family=\"Helvetica,sans-Serif\" font-size=\"14.00\" fill=\"#000000\">squared_error = 0.0</text>\n<text text-anchor=\"middle\" x=\"11478\" y=\"-743.3\" font-family=\"Helvetica,sans-Serif\" font-size=\"14.00\" fill=\"#000000\">samples = 1</text>\n<text text-anchor=\"middle\" x=\"11478\" y=\"-728.3\" font-family=\"Helvetica,sans-Serif\" font-size=\"14.00\" fill=\"#000000\">value = 0.039</text>\n</g>\n<!-- 366&#45;&gt;368 -->\n<g id=\"edge368\" class=\"edge\">\n<title>366&#45;&gt;368</title>\n<path fill=\"none\" stroke=\"#000000\" d=\"M11436.9737,-816.9465C11443.499,-805.8215 11450.7569,-793.4473 11457.3322,-782.237\"/>\n<polygon fill=\"#000000\" stroke=\"#000000\" points=\"11460.3916,-783.9387 11462.432,-773.5422 11454.3536,-780.3971 11460.3916,-783.9387\"/>\n</g>\n<!-- 371 -->\n<g id=\"node372\" class=\"node\">\n<title>371</title>\n<polygon fill=\"none\" stroke=\"#000000\" points=\"11629,-1093 11485,-1093 11485,-1025 11629,-1025 11629,-1093\"/>\n<text text-anchor=\"middle\" x=\"11557\" y=\"-1077.8\" font-family=\"Helvetica,sans-Serif\" font-size=\"14.00\" fill=\"#000000\">X[5] &lt;= 0.069</text>\n<text text-anchor=\"middle\" x=\"11557\" y=\"-1062.8\" font-family=\"Helvetica,sans-Serif\" font-size=\"14.00\" fill=\"#000000\">squared_error = 0.0</text>\n<text text-anchor=\"middle\" x=\"11557\" y=\"-1047.8\" font-family=\"Helvetica,sans-Serif\" font-size=\"14.00\" fill=\"#000000\">samples = 16</text>\n<text text-anchor=\"middle\" x=\"11557\" y=\"-1032.8\" font-family=\"Helvetica,sans-Serif\" font-size=\"14.00\" fill=\"#000000\">value = 0.018</text>\n</g>\n<!-- 370&#45;&gt;371 -->\n<g id=\"edge371\" class=\"edge\">\n<title>370&#45;&gt;371</title>\n<path fill=\"none\" stroke=\"#000000\" d=\"M11557,-1128.9465C11557,-1120.776 11557,-1111.9318 11557,-1103.3697\"/>\n<polygon fill=\"#000000\" stroke=\"#000000\" points=\"11560.5001,-1103.13 11557,-1093.13 11553.5001,-1103.13 11560.5001,-1103.13\"/>\n</g>\n<!-- 402 -->\n<g id=\"node403\" class=\"node\">\n<title>402</title>\n<polygon fill=\"none\" stroke=\"#000000\" points=\"11796.5,-1085.5 11647.5,-1085.5 11647.5,-1032.5 11796.5,-1032.5 11796.5,-1085.5\"/>\n<text text-anchor=\"middle\" x=\"11722\" y=\"-1070.3\" font-family=\"Helvetica,sans-Serif\" font-size=\"14.00\" fill=\"#000000\">squared_error = &#45;0.0</text>\n<text text-anchor=\"middle\" x=\"11722\" y=\"-1055.3\" font-family=\"Helvetica,sans-Serif\" font-size=\"14.00\" fill=\"#000000\">samples = 1</text>\n<text text-anchor=\"middle\" x=\"11722\" y=\"-1040.3\" font-family=\"Helvetica,sans-Serif\" font-size=\"14.00\" fill=\"#000000\">value = &#45;0.02</text>\n</g>\n<!-- 370&#45;&gt;402 -->\n<g id=\"edge402\" class=\"edge\">\n<title>370&#45;&gt;402</title>\n<path fill=\"none\" stroke=\"#000000\" d=\"M11611.0272,-1128.9465C11630.4251,-1116.72 11652.2166,-1102.9847 11671.32,-1090.9437\"/>\n<polygon fill=\"#000000\" stroke=\"#000000\" points=\"11673.2964,-1093.8353 11679.8898,-1085.5422 11669.5638,-1087.9135 11673.2964,-1093.8353\"/>\n</g>\n<!-- 372 -->\n<g id=\"node373\" class=\"node\">\n<title>372</title>\n<polygon fill=\"none\" stroke=\"#000000\" points=\"11790,-989 11646,-989 11646,-921 11790,-921 11790,-989\"/>\n<text text-anchor=\"middle\" x=\"11718\" y=\"-973.8\" font-family=\"Helvetica,sans-Serif\" font-size=\"14.00\" fill=\"#000000\">X[13] &lt;= &#45;0.003</text>\n<text text-anchor=\"middle\" x=\"11718\" y=\"-958.8\" font-family=\"Helvetica,sans-Serif\" font-size=\"14.00\" fill=\"#000000\">squared_error = 0.0</text>\n<text text-anchor=\"middle\" x=\"11718\" y=\"-943.8\" font-family=\"Helvetica,sans-Serif\" font-size=\"14.00\" fill=\"#000000\">samples = 13</text>\n<text text-anchor=\"middle\" x=\"11718\" y=\"-928.8\" font-family=\"Helvetica,sans-Serif\" font-size=\"14.00\" fill=\"#000000\">value = 0.016</text>\n</g>\n<!-- 371&#45;&gt;372 -->\n<g id=\"edge372\" class=\"edge\">\n<title>371&#45;&gt;372</title>\n<path fill=\"none\" stroke=\"#000000\" d=\"M11609.7174,-1024.9465C11624.7288,-1015.2497 11641.2094,-1004.6039 11656.6854,-994.6069\"/>\n<polygon fill=\"#000000\" stroke=\"#000000\" points=\"11658.6633,-997.496 11665.1641,-989.13 11654.8651,-991.6161 11658.6633,-997.496\"/>\n</g>\n<!-- 397 -->\n<g id=\"node398\" class=\"node\">\n<title>397</title>\n<polygon fill=\"none\" stroke=\"#000000\" points=\"12198,-989 12054,-989 12054,-921 12198,-921 12198,-989\"/>\n<text text-anchor=\"middle\" x=\"12126\" y=\"-973.8\" font-family=\"Helvetica,sans-Serif\" font-size=\"14.00\" fill=\"#000000\">X[3] &lt;= 0.014</text>\n<text text-anchor=\"middle\" x=\"12126\" y=\"-958.8\" font-family=\"Helvetica,sans-Serif\" font-size=\"14.00\" fill=\"#000000\">squared_error = 0.0</text>\n<text text-anchor=\"middle\" x=\"12126\" y=\"-943.8\" font-family=\"Helvetica,sans-Serif\" font-size=\"14.00\" fill=\"#000000\">samples = 3</text>\n<text text-anchor=\"middle\" x=\"12126\" y=\"-928.8\" font-family=\"Helvetica,sans-Serif\" font-size=\"14.00\" fill=\"#000000\">value = 0.03</text>\n</g>\n<!-- 371&#45;&gt;397 -->\n<g id=\"edge397\" class=\"edge\">\n<title>371&#45;&gt;397</title>\n<path fill=\"none\" stroke=\"#000000\" d=\"M11629.099,-1027.664C11632.0854,-1026.7073 11635.0602,-1025.8134 11638,-1025 11777.4231,-986.4219 11945.4641,-968.2714 12043.5595,-960.391\"/>\n<polygon fill=\"#000000\" stroke=\"#000000\" points=\"12044.0123,-963.8663 12053.7069,-959.5925 12043.4631,-956.8878 12044.0123,-963.8663\"/>\n</g>\n<!-- 373 -->\n<g id=\"node374\" class=\"node\">\n<title>373</title>\n<polygon fill=\"none\" stroke=\"#000000\" points=\"11790,-885 11646,-885 11646,-817 11790,-817 11790,-885\"/>\n<text text-anchor=\"middle\" x=\"11718\" y=\"-869.8\" font-family=\"Helvetica,sans-Serif\" font-size=\"14.00\" fill=\"#000000\">X[6] &lt;= 0.012</text>\n<text text-anchor=\"middle\" x=\"11718\" y=\"-854.8\" font-family=\"Helvetica,sans-Serif\" font-size=\"14.00\" fill=\"#000000\">squared_error = 0.0</text>\n<text text-anchor=\"middle\" x=\"11718\" y=\"-839.8\" font-family=\"Helvetica,sans-Serif\" font-size=\"14.00\" fill=\"#000000\">samples = 2</text>\n<text text-anchor=\"middle\" x=\"11718\" y=\"-824.8\" font-family=\"Helvetica,sans-Serif\" font-size=\"14.00\" fill=\"#000000\">value = 0.007</text>\n</g>\n<!-- 372&#45;&gt;373 -->\n<g id=\"edge373\" class=\"edge\">\n<title>372&#45;&gt;373</title>\n<path fill=\"none\" stroke=\"#000000\" d=\"M11718,-920.9465C11718,-912.776 11718,-903.9318 11718,-895.3697\"/>\n<polygon fill=\"#000000\" stroke=\"#000000\" points=\"11721.5001,-895.13 11718,-885.13 11714.5001,-895.13 11721.5001,-895.13\"/>\n</g>\n<!-- 376 -->\n<g id=\"node377\" class=\"node\">\n<title>376</title>\n<polygon fill=\"none\" stroke=\"#000000\" points=\"12036,-885 11892,-885 11892,-817 12036,-817 12036,-885\"/>\n<text text-anchor=\"middle\" x=\"11964\" y=\"-869.8\" font-family=\"Helvetica,sans-Serif\" font-size=\"14.00\" fill=\"#000000\">X[24] &lt;= &#45;0.015</text>\n<text text-anchor=\"middle\" x=\"11964\" y=\"-854.8\" font-family=\"Helvetica,sans-Serif\" font-size=\"14.00\" fill=\"#000000\">squared_error = 0.0</text>\n<text text-anchor=\"middle\" x=\"11964\" y=\"-839.8\" font-family=\"Helvetica,sans-Serif\" font-size=\"14.00\" fill=\"#000000\">samples = 11</text>\n<text text-anchor=\"middle\" x=\"11964\" y=\"-824.8\" font-family=\"Helvetica,sans-Serif\" font-size=\"14.00\" fill=\"#000000\">value = 0.017</text>\n</g>\n<!-- 372&#45;&gt;376 -->\n<g id=\"edge376\" class=\"edge\">\n<title>372&#45;&gt;376</title>\n<path fill=\"none\" stroke=\"#000000\" d=\"M11790.1459,-924.4993C11819.0576,-912.2765 11852.5189,-898.1302 11882.319,-885.5318\"/>\n<polygon fill=\"#000000\" stroke=\"#000000\" points=\"11884.0076,-888.6179 11891.8554,-881.5002 11881.2817,-882.1704 11884.0076,-888.6179\"/>\n</g>\n<!-- 374 -->\n<g id=\"node375\" class=\"node\">\n<title>374</title>\n<polygon fill=\"none\" stroke=\"#000000\" points=\"11712,-773.5 11568,-773.5 11568,-720.5 11712,-720.5 11712,-773.5\"/>\n<text text-anchor=\"middle\" x=\"11640\" y=\"-758.3\" font-family=\"Helvetica,sans-Serif\" font-size=\"14.00\" fill=\"#000000\">squared_error = 0.0</text>\n<text text-anchor=\"middle\" x=\"11640\" y=\"-743.3\" font-family=\"Helvetica,sans-Serif\" font-size=\"14.00\" fill=\"#000000\">samples = 1</text>\n<text text-anchor=\"middle\" x=\"11640\" y=\"-728.3\" font-family=\"Helvetica,sans-Serif\" font-size=\"14.00\" fill=\"#000000\">value = 0.005</text>\n</g>\n<!-- 373&#45;&gt;374 -->\n<g id=\"edge374\" class=\"edge\">\n<title>373&#45;&gt;374</title>\n<path fill=\"none\" stroke=\"#000000\" d=\"M11692.4599,-816.9465C11683.9509,-805.6012 11674.4675,-792.9567 11665.9293,-781.5724\"/>\n<polygon fill=\"#000000\" stroke=\"#000000\" points=\"11668.7067,-779.4422 11659.9066,-773.5422 11663.1067,-783.6422 11668.7067,-779.4422\"/>\n</g>\n<!-- 375 -->\n<g id=\"node376\" class=\"node\">\n<title>375</title>\n<polygon fill=\"none\" stroke=\"#000000\" points=\"11874,-773.5 11730,-773.5 11730,-720.5 11874,-720.5 11874,-773.5\"/>\n<text text-anchor=\"middle\" x=\"11802\" y=\"-758.3\" font-family=\"Helvetica,sans-Serif\" font-size=\"14.00\" fill=\"#000000\">squared_error = 0.0</text>\n<text text-anchor=\"middle\" x=\"11802\" y=\"-743.3\" font-family=\"Helvetica,sans-Serif\" font-size=\"14.00\" fill=\"#000000\">samples = 1</text>\n<text text-anchor=\"middle\" x=\"11802\" y=\"-728.3\" font-family=\"Helvetica,sans-Serif\" font-size=\"14.00\" fill=\"#000000\">value = 0.009</text>\n</g>\n<!-- 373&#45;&gt;375 -->\n<g id=\"edge375\" class=\"edge\">\n<title>373&#45;&gt;375</title>\n<path fill=\"none\" stroke=\"#000000\" d=\"M11745.5047,-816.9465C11754.6683,-805.6012 11764.8811,-792.9567 11774.0761,-781.5724\"/>\n<polygon fill=\"#000000\" stroke=\"#000000\" points=\"11777.0015,-783.5208 11780.5621,-773.5422 11771.5559,-779.1224 11777.0015,-783.5208\"/>\n</g>\n<!-- 377 -->\n<g id=\"node378\" class=\"node\">\n<title>377</title>\n<polygon fill=\"none\" stroke=\"#000000\" points=\"12036,-773.5 11892,-773.5 11892,-720.5 12036,-720.5 12036,-773.5\"/>\n<text text-anchor=\"middle\" x=\"11964\" y=\"-758.3\" font-family=\"Helvetica,sans-Serif\" font-size=\"14.00\" fill=\"#000000\">squared_error = 0.0</text>\n<text text-anchor=\"middle\" x=\"11964\" y=\"-743.3\" font-family=\"Helvetica,sans-Serif\" font-size=\"14.00\" fill=\"#000000\">samples = 1</text>\n<text text-anchor=\"middle\" x=\"11964\" y=\"-728.3\" font-family=\"Helvetica,sans-Serif\" font-size=\"14.00\" fill=\"#000000\">value = 0.026</text>\n</g>\n<!-- 376&#45;&gt;377 -->\n<g id=\"edge377\" class=\"edge\">\n<title>376&#45;&gt;377</title>\n<path fill=\"none\" stroke=\"#000000\" d=\"M11964,-816.9465C11964,-806.2621 11964,-794.4254 11964,-783.5742\"/>\n<polygon fill=\"#000000\" stroke=\"#000000\" points=\"11967.5001,-783.5421 11964,-773.5422 11960.5001,-783.5422 11967.5001,-783.5421\"/>\n</g>\n<!-- 378 -->\n<g id=\"node379\" class=\"node\">\n<title>378</title>\n<polygon fill=\"none\" stroke=\"#000000\" points=\"12198,-781 12054,-781 12054,-713 12198,-713 12198,-781\"/>\n<text text-anchor=\"middle\" x=\"12126\" y=\"-765.8\" font-family=\"Helvetica,sans-Serif\" font-size=\"14.00\" fill=\"#000000\">X[1] &lt;= 0.006</text>\n<text text-anchor=\"middle\" x=\"12126\" y=\"-750.8\" font-family=\"Helvetica,sans-Serif\" font-size=\"14.00\" fill=\"#000000\">squared_error = 0.0</text>\n<text text-anchor=\"middle\" x=\"12126\" y=\"-735.8\" font-family=\"Helvetica,sans-Serif\" font-size=\"14.00\" fill=\"#000000\">samples = 10</text>\n<text text-anchor=\"middle\" x=\"12126\" y=\"-720.8\" font-family=\"Helvetica,sans-Serif\" font-size=\"14.00\" fill=\"#000000\">value = 0.017</text>\n</g>\n<!-- 376&#45;&gt;378 -->\n<g id=\"edge378\" class=\"edge\">\n<title>376&#45;&gt;378</title>\n<path fill=\"none\" stroke=\"#000000\" d=\"M12017.0449,-816.9465C12032.1495,-807.2497 12048.7324,-796.6039 12064.3046,-786.6069\"/>\n<polygon fill=\"#000000\" stroke=\"#000000\" points=\"12066.3116,-789.4777 12072.836,-781.13 12062.53,-783.5871 12066.3116,-789.4777\"/>\n</g>\n<!-- 379 -->\n<g id=\"node380\" class=\"node\">\n<title>379</title>\n<polygon fill=\"none\" stroke=\"#000000\" points=\"12117,-677 11973,-677 11973,-609 12117,-609 12117,-677\"/>\n<text text-anchor=\"middle\" x=\"12045\" y=\"-661.8\" font-family=\"Helvetica,sans-Serif\" font-size=\"14.00\" fill=\"#000000\">X[31] &lt;= 0.035</text>\n<text text-anchor=\"middle\" x=\"12045\" y=\"-646.8\" font-family=\"Helvetica,sans-Serif\" font-size=\"14.00\" fill=\"#000000\">squared_error = 0.0</text>\n<text text-anchor=\"middle\" x=\"12045\" y=\"-631.8\" font-family=\"Helvetica,sans-Serif\" font-size=\"14.00\" fill=\"#000000\">samples = 7</text>\n<text text-anchor=\"middle\" x=\"12045\" y=\"-616.8\" font-family=\"Helvetica,sans-Serif\" font-size=\"14.00\" fill=\"#000000\">value = 0.015</text>\n</g>\n<!-- 378&#45;&gt;379 -->\n<g id=\"edge379\" class=\"edge\">\n<title>378&#45;&gt;379</title>\n<path fill=\"none\" stroke=\"#000000\" d=\"M12099.4776,-712.9465C12092.5546,-704.0578 12085.0106,-694.3716 12077.804,-685.1188\"/>\n<polygon fill=\"#000000\" stroke=\"#000000\" points=\"12080.488,-682.8688 12071.582,-677.13 12074.9654,-687.1701 12080.488,-682.8688\"/>\n</g>\n<!-- 392 -->\n<g id=\"node393\" class=\"node\">\n<title>392</title>\n<polygon fill=\"none\" stroke=\"#000000\" points=\"12279,-677 12135,-677 12135,-609 12279,-609 12279,-677\"/>\n<text text-anchor=\"middle\" x=\"12207\" y=\"-661.8\" font-family=\"Helvetica,sans-Serif\" font-size=\"14.00\" fill=\"#000000\">X[2] &lt;= 0.016</text>\n<text text-anchor=\"middle\" x=\"12207\" y=\"-646.8\" font-family=\"Helvetica,sans-Serif\" font-size=\"14.00\" fill=\"#000000\">squared_error = 0.0</text>\n<text text-anchor=\"middle\" x=\"12207\" y=\"-631.8\" font-family=\"Helvetica,sans-Serif\" font-size=\"14.00\" fill=\"#000000\">samples = 3</text>\n<text text-anchor=\"middle\" x=\"12207\" y=\"-616.8\" font-family=\"Helvetica,sans-Serif\" font-size=\"14.00\" fill=\"#000000\">value = 0.02</text>\n</g>\n<!-- 378&#45;&gt;392 -->\n<g id=\"edge392\" class=\"edge\">\n<title>378&#45;&gt;392</title>\n<path fill=\"none\" stroke=\"#000000\" d=\"M12152.5224,-712.9465C12159.4454,-704.0578 12166.9894,-694.3716 12174.196,-685.1188\"/>\n<polygon fill=\"#000000\" stroke=\"#000000\" points=\"12177.0346,-687.1701 12180.418,-677.13 12171.512,-682.8688 12177.0346,-687.1701\"/>\n</g>\n<!-- 380 -->\n<g id=\"node381\" class=\"node\">\n<title>380</title>\n<polygon fill=\"none\" stroke=\"#000000\" points=\"11955,-573 11811,-573 11811,-505 11955,-505 11955,-573\"/>\n<text text-anchor=\"middle\" x=\"11883\" y=\"-557.8\" font-family=\"Helvetica,sans-Serif\" font-size=\"14.00\" fill=\"#000000\">X[25] &lt;= 0.042</text>\n<text text-anchor=\"middle\" x=\"11883\" y=\"-542.8\" font-family=\"Helvetica,sans-Serif\" font-size=\"14.00\" fill=\"#000000\">squared_error = 0.0</text>\n<text text-anchor=\"middle\" x=\"11883\" y=\"-527.8\" font-family=\"Helvetica,sans-Serif\" font-size=\"14.00\" fill=\"#000000\">samples = 6</text>\n<text text-anchor=\"middle\" x=\"11883\" y=\"-512.8\" font-family=\"Helvetica,sans-Serif\" font-size=\"14.00\" fill=\"#000000\">value = 0.016</text>\n</g>\n<!-- 379&#45;&gt;380 -->\n<g id=\"edge380\" class=\"edge\">\n<title>379&#45;&gt;380</title>\n<path fill=\"none\" stroke=\"#000000\" d=\"M11991.9551,-608.9465C11976.8505,-599.2497 11960.2676,-588.6039 11944.6954,-578.6069\"/>\n<polygon fill=\"#000000\" stroke=\"#000000\" points=\"11946.47,-575.5871 11936.164,-573.13 11942.6884,-581.4777 11946.47,-575.5871\"/>\n</g>\n<!-- 391 -->\n<g id=\"node392\" class=\"node\">\n<title>391</title>\n<polygon fill=\"none\" stroke=\"#000000\" points=\"12117,-565.5 11973,-565.5 11973,-512.5 12117,-512.5 12117,-565.5\"/>\n<text text-anchor=\"middle\" x=\"12045\" y=\"-550.3\" font-family=\"Helvetica,sans-Serif\" font-size=\"14.00\" fill=\"#000000\">squared_error = 0.0</text>\n<text text-anchor=\"middle\" x=\"12045\" y=\"-535.3\" font-family=\"Helvetica,sans-Serif\" font-size=\"14.00\" fill=\"#000000\">samples = 1</text>\n<text text-anchor=\"middle\" x=\"12045\" y=\"-520.3\" font-family=\"Helvetica,sans-Serif\" font-size=\"14.00\" fill=\"#000000\">value = 0.012</text>\n</g>\n<!-- 379&#45;&gt;391 -->\n<g id=\"edge391\" class=\"edge\">\n<title>379&#45;&gt;391</title>\n<path fill=\"none\" stroke=\"#000000\" d=\"M12045,-608.9465C12045,-598.2621 12045,-586.4254 12045,-575.5742\"/>\n<polygon fill=\"#000000\" stroke=\"#000000\" points=\"12048.5001,-575.5421 12045,-565.5422 12041.5001,-575.5422 12048.5001,-575.5421\"/>\n</g>\n<!-- 381 -->\n<g id=\"node382\" class=\"node\">\n<title>381</title>\n<polygon fill=\"none\" stroke=\"#000000\" points=\"11793,-469 11649,-469 11649,-401 11793,-401 11793,-469\"/>\n<text text-anchor=\"middle\" x=\"11721\" y=\"-453.8\" font-family=\"Helvetica,sans-Serif\" font-size=\"14.00\" fill=\"#000000\">X[9] &lt;= 0.008</text>\n<text text-anchor=\"middle\" x=\"11721\" y=\"-438.8\" font-family=\"Helvetica,sans-Serif\" font-size=\"14.00\" fill=\"#000000\">squared_error = 0.0</text>\n<text text-anchor=\"middle\" x=\"11721\" y=\"-423.8\" font-family=\"Helvetica,sans-Serif\" font-size=\"14.00\" fill=\"#000000\">samples = 4</text>\n<text text-anchor=\"middle\" x=\"11721\" y=\"-408.8\" font-family=\"Helvetica,sans-Serif\" font-size=\"14.00\" fill=\"#000000\">value = 0.016</text>\n</g>\n<!-- 380&#45;&gt;381 -->\n<g id=\"edge381\" class=\"edge\">\n<title>380&#45;&gt;381</title>\n<path fill=\"none\" stroke=\"#000000\" d=\"M11829.9551,-504.9465C11814.8505,-495.2497 11798.2676,-484.6039 11782.6954,-474.6069\"/>\n<polygon fill=\"#000000\" stroke=\"#000000\" points=\"11784.47,-471.5871 11774.164,-469.13 11780.6884,-477.4777 11784.47,-471.5871\"/>\n</g>\n<!-- 388 -->\n<g id=\"node389\" class=\"node\">\n<title>388</title>\n<polygon fill=\"none\" stroke=\"#000000\" points=\"11955,-469 11811,-469 11811,-401 11955,-401 11955,-469\"/>\n<text text-anchor=\"middle\" x=\"11883\" y=\"-453.8\" font-family=\"Helvetica,sans-Serif\" font-size=\"14.00\" fill=\"#000000\">X[7] &lt;= 0.05</text>\n<text text-anchor=\"middle\" x=\"11883\" y=\"-438.8\" font-family=\"Helvetica,sans-Serif\" font-size=\"14.00\" fill=\"#000000\">squared_error = 0.0</text>\n<text text-anchor=\"middle\" x=\"11883\" y=\"-423.8\" font-family=\"Helvetica,sans-Serif\" font-size=\"14.00\" fill=\"#000000\">samples = 2</text>\n<text text-anchor=\"middle\" x=\"11883\" y=\"-408.8\" font-family=\"Helvetica,sans-Serif\" font-size=\"14.00\" fill=\"#000000\">value = 0.015</text>\n</g>\n<!-- 380&#45;&gt;388 -->\n<g id=\"edge388\" class=\"edge\">\n<title>380&#45;&gt;388</title>\n<path fill=\"none\" stroke=\"#000000\" d=\"M11883,-504.9465C11883,-496.776 11883,-487.9318 11883,-479.3697\"/>\n<polygon fill=\"#000000\" stroke=\"#000000\" points=\"11886.5001,-479.13 11883,-469.13 11879.5001,-479.13 11886.5001,-479.13\"/>\n</g>\n<!-- 382 -->\n<g id=\"node383\" class=\"node\">\n<title>382</title>\n<polygon fill=\"none\" stroke=\"#000000\" points=\"11631,-357.5 11487,-357.5 11487,-304.5 11631,-304.5 11631,-357.5\"/>\n<text text-anchor=\"middle\" x=\"11559\" y=\"-342.3\" font-family=\"Helvetica,sans-Serif\" font-size=\"14.00\" fill=\"#000000\">squared_error = 0.0</text>\n<text text-anchor=\"middle\" x=\"11559\" y=\"-327.3\" font-family=\"Helvetica,sans-Serif\" font-size=\"14.00\" fill=\"#000000\">samples = 1</text>\n<text text-anchor=\"middle\" x=\"11559\" y=\"-312.3\" font-family=\"Helvetica,sans-Serif\" font-size=\"14.00\" fill=\"#000000\">value = 0.016</text>\n</g>\n<!-- 381&#45;&gt;382 -->\n<g id=\"edge382\" class=\"edge\">\n<title>381&#45;&gt;382</title>\n<path fill=\"none\" stroke=\"#000000\" d=\"M11667.9551,-400.9465C11648.9957,-388.775 11627.7073,-375.1084 11609.0121,-363.1066\"/>\n<polygon fill=\"#000000\" stroke=\"#000000\" points=\"11610.6505,-359.9992 11600.3445,-357.5422 11606.8689,-365.8898 11610.6505,-359.9992\"/>\n</g>\n<!-- 383 -->\n<g id=\"node384\" class=\"node\">\n<title>383</title>\n<polygon fill=\"none\" stroke=\"#000000\" points=\"11793,-365 11649,-365 11649,-297 11793,-297 11793,-365\"/>\n<text text-anchor=\"middle\" x=\"11721\" y=\"-349.8\" font-family=\"Helvetica,sans-Serif\" font-size=\"14.00\" fill=\"#000000\">X[33] &lt;= 0.019</text>\n<text text-anchor=\"middle\" x=\"11721\" y=\"-334.8\" font-family=\"Helvetica,sans-Serif\" font-size=\"14.00\" fill=\"#000000\">squared_error = 0.0</text>\n<text text-anchor=\"middle\" x=\"11721\" y=\"-319.8\" font-family=\"Helvetica,sans-Serif\" font-size=\"14.00\" fill=\"#000000\">samples = 3</text>\n<text text-anchor=\"middle\" x=\"11721\" y=\"-304.8\" font-family=\"Helvetica,sans-Serif\" font-size=\"14.00\" fill=\"#000000\">value = 0.016</text>\n</g>\n<!-- 381&#45;&gt;383 -->\n<g id=\"edge383\" class=\"edge\">\n<title>381&#45;&gt;383</title>\n<path fill=\"none\" stroke=\"#000000\" d=\"M11721,-400.9465C11721,-392.776 11721,-383.9318 11721,-375.3697\"/>\n<polygon fill=\"#000000\" stroke=\"#000000\" points=\"11724.5001,-375.13 11721,-365.13 11717.5001,-375.13 11724.5001,-375.13\"/>\n</g>\n<!-- 384 -->\n<g id=\"node385\" class=\"node\">\n<title>384</title>\n<polygon fill=\"none\" stroke=\"#000000\" points=\"11712,-261 11568,-261 11568,-193 11712,-193 11712,-261\"/>\n<text text-anchor=\"middle\" x=\"11640\" y=\"-245.8\" font-family=\"Helvetica,sans-Serif\" font-size=\"14.00\" fill=\"#000000\">X[28] &lt;= 0.012</text>\n<text text-anchor=\"middle\" x=\"11640\" y=\"-230.8\" font-family=\"Helvetica,sans-Serif\" font-size=\"14.00\" fill=\"#000000\">squared_error = 0.0</text>\n<text text-anchor=\"middle\" x=\"11640\" y=\"-215.8\" font-family=\"Helvetica,sans-Serif\" font-size=\"14.00\" fill=\"#000000\">samples = 2</text>\n<text text-anchor=\"middle\" x=\"11640\" y=\"-200.8\" font-family=\"Helvetica,sans-Serif\" font-size=\"14.00\" fill=\"#000000\">value = 0.016</text>\n</g>\n<!-- 383&#45;&gt;384 -->\n<g id=\"edge384\" class=\"edge\">\n<title>383&#45;&gt;384</title>\n<path fill=\"none\" stroke=\"#000000\" d=\"M11694.4776,-296.9465C11687.5546,-288.0578 11680.0106,-278.3716 11672.804,-269.1188\"/>\n<polygon fill=\"#000000\" stroke=\"#000000\" points=\"11675.488,-266.8688 11666.582,-261.13 11669.9654,-271.1701 11675.488,-266.8688\"/>\n</g>\n<!-- 387 -->\n<g id=\"node388\" class=\"node\">\n<title>387</title>\n<polygon fill=\"none\" stroke=\"#000000\" points=\"11874,-253.5 11730,-253.5 11730,-200.5 11874,-200.5 11874,-253.5\"/>\n<text text-anchor=\"middle\" x=\"11802\" y=\"-238.3\" font-family=\"Helvetica,sans-Serif\" font-size=\"14.00\" fill=\"#000000\">squared_error = 0.0</text>\n<text text-anchor=\"middle\" x=\"11802\" y=\"-223.3\" font-family=\"Helvetica,sans-Serif\" font-size=\"14.00\" fill=\"#000000\">samples = 1</text>\n<text text-anchor=\"middle\" x=\"11802\" y=\"-208.3\" font-family=\"Helvetica,sans-Serif\" font-size=\"14.00\" fill=\"#000000\">value = 0.016</text>\n</g>\n<!-- 383&#45;&gt;387 -->\n<g id=\"edge387\" class=\"edge\">\n<title>383&#45;&gt;387</title>\n<path fill=\"none\" stroke=\"#000000\" d=\"M11747.5224,-296.9465C11756.3587,-285.6012 11766.2068,-272.9567 11775.0734,-261.5724\"/>\n<polygon fill=\"#000000\" stroke=\"#000000\" points=\"11777.9444,-263.5823 11781.3277,-253.5422 11772.4217,-259.281 11777.9444,-263.5823\"/>\n</g>\n<!-- 385 -->\n<g id=\"node386\" class=\"node\">\n<title>385</title>\n<polygon fill=\"none\" stroke=\"#000000\" points=\"11631,-149.5 11487,-149.5 11487,-96.5 11631,-96.5 11631,-149.5\"/>\n<text text-anchor=\"middle\" x=\"11559\" y=\"-134.3\" font-family=\"Helvetica,sans-Serif\" font-size=\"14.00\" fill=\"#000000\">squared_error = 0.0</text>\n<text text-anchor=\"middle\" x=\"11559\" y=\"-119.3\" font-family=\"Helvetica,sans-Serif\" font-size=\"14.00\" fill=\"#000000\">samples = 1</text>\n<text text-anchor=\"middle\" x=\"11559\" y=\"-104.3\" font-family=\"Helvetica,sans-Serif\" font-size=\"14.00\" fill=\"#000000\">value = 0.016</text>\n</g>\n<!-- 384&#45;&gt;385 -->\n<g id=\"edge385\" class=\"edge\">\n<title>384&#45;&gt;385</title>\n<path fill=\"none\" stroke=\"#000000\" d=\"M11613.4776,-192.9465C11604.6413,-181.6012 11594.7932,-168.9567 11585.9266,-157.5724\"/>\n<polygon fill=\"#000000\" stroke=\"#000000\" points=\"11588.5783,-155.281 11579.6723,-149.5422 11583.0556,-159.5823 11588.5783,-155.281\"/>\n</g>\n<!-- 386 -->\n<g id=\"node387\" class=\"node\">\n<title>386</title>\n<polygon fill=\"none\" stroke=\"#000000\" points=\"11793,-149.5 11649,-149.5 11649,-96.5 11793,-96.5 11793,-149.5\"/>\n<text text-anchor=\"middle\" x=\"11721\" y=\"-134.3\" font-family=\"Helvetica,sans-Serif\" font-size=\"14.00\" fill=\"#000000\">squared_error = 0.0</text>\n<text text-anchor=\"middle\" x=\"11721\" y=\"-119.3\" font-family=\"Helvetica,sans-Serif\" font-size=\"14.00\" fill=\"#000000\">samples = 1</text>\n<text text-anchor=\"middle\" x=\"11721\" y=\"-104.3\" font-family=\"Helvetica,sans-Serif\" font-size=\"14.00\" fill=\"#000000\">value = 0.016</text>\n</g>\n<!-- 384&#45;&gt;386 -->\n<g id=\"edge386\" class=\"edge\">\n<title>384&#45;&gt;386</title>\n<path fill=\"none\" stroke=\"#000000\" d=\"M11666.5224,-192.9465C11675.3587,-181.6012 11685.2068,-168.9567 11694.0734,-157.5724\"/>\n<polygon fill=\"#000000\" stroke=\"#000000\" points=\"11696.9444,-159.5823 11700.3277,-149.5422 11691.4217,-155.281 11696.9444,-159.5823\"/>\n</g>\n<!-- 389 -->\n<g id=\"node390\" class=\"node\">\n<title>389</title>\n<polygon fill=\"none\" stroke=\"#000000\" points=\"11955,-357.5 11811,-357.5 11811,-304.5 11955,-304.5 11955,-357.5\"/>\n<text text-anchor=\"middle\" x=\"11883\" y=\"-342.3\" font-family=\"Helvetica,sans-Serif\" font-size=\"14.00\" fill=\"#000000\">squared_error = 0.0</text>\n<text text-anchor=\"middle\" x=\"11883\" y=\"-327.3\" font-family=\"Helvetica,sans-Serif\" font-size=\"14.00\" fill=\"#000000\">samples = 1</text>\n<text text-anchor=\"middle\" x=\"11883\" y=\"-312.3\" font-family=\"Helvetica,sans-Serif\" font-size=\"14.00\" fill=\"#000000\">value = 0.015</text>\n</g>\n<!-- 388&#45;&gt;389 -->\n<g id=\"edge389\" class=\"edge\">\n<title>388&#45;&gt;389</title>\n<path fill=\"none\" stroke=\"#000000\" d=\"M11883,-400.9465C11883,-390.2621 11883,-378.4254 11883,-367.5742\"/>\n<polygon fill=\"#000000\" stroke=\"#000000\" points=\"11886.5001,-367.5421 11883,-357.5422 11879.5001,-367.5422 11886.5001,-367.5421\"/>\n</g>\n<!-- 390 -->\n<g id=\"node391\" class=\"node\">\n<title>390</title>\n<polygon fill=\"none\" stroke=\"#000000\" points=\"12117,-357.5 11973,-357.5 11973,-304.5 12117,-304.5 12117,-357.5\"/>\n<text text-anchor=\"middle\" x=\"12045\" y=\"-342.3\" font-family=\"Helvetica,sans-Serif\" font-size=\"14.00\" fill=\"#000000\">squared_error = 0.0</text>\n<text text-anchor=\"middle\" x=\"12045\" y=\"-327.3\" font-family=\"Helvetica,sans-Serif\" font-size=\"14.00\" fill=\"#000000\">samples = 1</text>\n<text text-anchor=\"middle\" x=\"12045\" y=\"-312.3\" font-family=\"Helvetica,sans-Serif\" font-size=\"14.00\" fill=\"#000000\">value = 0.015</text>\n</g>\n<!-- 388&#45;&gt;390 -->\n<g id=\"edge390\" class=\"edge\">\n<title>388&#45;&gt;390</title>\n<path fill=\"none\" stroke=\"#000000\" d=\"M11936.0449,-400.9465C11955.0043,-388.775 11976.2927,-375.1084 11994.9879,-363.1066\"/>\n<polygon fill=\"#000000\" stroke=\"#000000\" points=\"11997.1311,-365.8898 12003.6555,-357.5422 11993.3495,-359.9992 11997.1311,-365.8898\"/>\n</g>\n<!-- 393 -->\n<g id=\"node394\" class=\"node\">\n<title>393</title>\n<polygon fill=\"none\" stroke=\"#000000\" points=\"12279,-573 12135,-573 12135,-505 12279,-505 12279,-573\"/>\n<text text-anchor=\"middle\" x=\"12207\" y=\"-557.8\" font-family=\"Helvetica,sans-Serif\" font-size=\"14.00\" fill=\"#000000\">X[24] &lt;= 0.018</text>\n<text text-anchor=\"middle\" x=\"12207\" y=\"-542.8\" font-family=\"Helvetica,sans-Serif\" font-size=\"14.00\" fill=\"#000000\">squared_error = 0.0</text>\n<text text-anchor=\"middle\" x=\"12207\" y=\"-527.8\" font-family=\"Helvetica,sans-Serif\" font-size=\"14.00\" fill=\"#000000\">samples = 2</text>\n<text text-anchor=\"middle\" x=\"12207\" y=\"-512.8\" font-family=\"Helvetica,sans-Serif\" font-size=\"14.00\" fill=\"#000000\">value = 0.019</text>\n</g>\n<!-- 392&#45;&gt;393 -->\n<g id=\"edge393\" class=\"edge\">\n<title>392&#45;&gt;393</title>\n<path fill=\"none\" stroke=\"#000000\" d=\"M12207,-608.9465C12207,-600.776 12207,-591.9318 12207,-583.3697\"/>\n<polygon fill=\"#000000\" stroke=\"#000000\" points=\"12210.5001,-583.13 12207,-573.13 12203.5001,-583.13 12210.5001,-583.13\"/>\n</g>\n<!-- 396 -->\n<g id=\"node397\" class=\"node\">\n<title>396</title>\n<polygon fill=\"none\" stroke=\"#000000\" points=\"12441,-565.5 12297,-565.5 12297,-512.5 12441,-512.5 12441,-565.5\"/>\n<text text-anchor=\"middle\" x=\"12369\" y=\"-550.3\" font-family=\"Helvetica,sans-Serif\" font-size=\"14.00\" fill=\"#000000\">squared_error = 0.0</text>\n<text text-anchor=\"middle\" x=\"12369\" y=\"-535.3\" font-family=\"Helvetica,sans-Serif\" font-size=\"14.00\" fill=\"#000000\">samples = 1</text>\n<text text-anchor=\"middle\" x=\"12369\" y=\"-520.3\" font-family=\"Helvetica,sans-Serif\" font-size=\"14.00\" fill=\"#000000\">value = 0.022</text>\n</g>\n<!-- 392&#45;&gt;396 -->\n<g id=\"edge396\" class=\"edge\">\n<title>392&#45;&gt;396</title>\n<path fill=\"none\" stroke=\"#000000\" d=\"M12260.0449,-608.9465C12279.0043,-596.775 12300.2927,-583.1084 12318.9879,-571.1066\"/>\n<polygon fill=\"#000000\" stroke=\"#000000\" points=\"12321.1311,-573.8898 12327.6555,-565.5422 12317.3495,-567.9992 12321.1311,-573.8898\"/>\n</g>\n<!-- 394 -->\n<g id=\"node395\" class=\"node\">\n<title>394</title>\n<polygon fill=\"none\" stroke=\"#000000\" points=\"12117,-461.5 11973,-461.5 11973,-408.5 12117,-408.5 12117,-461.5\"/>\n<text text-anchor=\"middle\" x=\"12045\" y=\"-446.3\" font-family=\"Helvetica,sans-Serif\" font-size=\"14.00\" fill=\"#000000\">squared_error = 0.0</text>\n<text text-anchor=\"middle\" x=\"12045\" y=\"-431.3\" font-family=\"Helvetica,sans-Serif\" font-size=\"14.00\" fill=\"#000000\">samples = 1</text>\n<text text-anchor=\"middle\" x=\"12045\" y=\"-416.3\" font-family=\"Helvetica,sans-Serif\" font-size=\"14.00\" fill=\"#000000\">value = 0.019</text>\n</g>\n<!-- 393&#45;&gt;394 -->\n<g id=\"edge394\" class=\"edge\">\n<title>393&#45;&gt;394</title>\n<path fill=\"none\" stroke=\"#000000\" d=\"M12153.9551,-504.9465C12134.9957,-492.775 12113.7073,-479.1084 12095.0121,-467.1066\"/>\n<polygon fill=\"#000000\" stroke=\"#000000\" points=\"12096.6505,-463.9992 12086.3445,-461.5422 12092.8689,-469.8898 12096.6505,-463.9992\"/>\n</g>\n<!-- 395 -->\n<g id=\"node396\" class=\"node\">\n<title>395</title>\n<polygon fill=\"none\" stroke=\"#000000\" points=\"12279,-461.5 12135,-461.5 12135,-408.5 12279,-408.5 12279,-461.5\"/>\n<text text-anchor=\"middle\" x=\"12207\" y=\"-446.3\" font-family=\"Helvetica,sans-Serif\" font-size=\"14.00\" fill=\"#000000\">squared_error = 0.0</text>\n<text text-anchor=\"middle\" x=\"12207\" y=\"-431.3\" font-family=\"Helvetica,sans-Serif\" font-size=\"14.00\" fill=\"#000000\">samples = 1</text>\n<text text-anchor=\"middle\" x=\"12207\" y=\"-416.3\" font-family=\"Helvetica,sans-Serif\" font-size=\"14.00\" fill=\"#000000\">value = 0.019</text>\n</g>\n<!-- 393&#45;&gt;395 -->\n<g id=\"edge395\" class=\"edge\">\n<title>393&#45;&gt;395</title>\n<path fill=\"none\" stroke=\"#000000\" d=\"M12207,-504.9465C12207,-494.2621 12207,-482.4254 12207,-471.5742\"/>\n<polygon fill=\"#000000\" stroke=\"#000000\" points=\"12210.5001,-471.5421 12207,-461.5422 12203.5001,-471.5422 12210.5001,-471.5421\"/>\n</g>\n<!-- 398 -->\n<g id=\"node399\" class=\"node\">\n<title>398</title>\n<polygon fill=\"none\" stroke=\"#000000\" points=\"12198,-877.5 12054,-877.5 12054,-824.5 12198,-824.5 12198,-877.5\"/>\n<text text-anchor=\"middle\" x=\"12126\" y=\"-862.3\" font-family=\"Helvetica,sans-Serif\" font-size=\"14.00\" fill=\"#000000\">squared_error = 0.0</text>\n<text text-anchor=\"middle\" x=\"12126\" y=\"-847.3\" font-family=\"Helvetica,sans-Serif\" font-size=\"14.00\" fill=\"#000000\">samples = 1</text>\n<text text-anchor=\"middle\" x=\"12126\" y=\"-832.3\" font-family=\"Helvetica,sans-Serif\" font-size=\"14.00\" fill=\"#000000\">value = 0.035</text>\n</g>\n<!-- 397&#45;&gt;398 -->\n<g id=\"edge398\" class=\"edge\">\n<title>397&#45;&gt;398</title>\n<path fill=\"none\" stroke=\"#000000\" d=\"M12126,-920.9465C12126,-910.2621 12126,-898.4254 12126,-887.5742\"/>\n<polygon fill=\"#000000\" stroke=\"#000000\" points=\"12129.5001,-887.5421 12126,-877.5422 12122.5001,-887.5422 12129.5001,-887.5421\"/>\n</g>\n<!-- 399 -->\n<g id=\"node400\" class=\"node\">\n<title>399</title>\n<polygon fill=\"none\" stroke=\"#000000\" points=\"12360,-885 12216,-885 12216,-817 12360,-817 12360,-885\"/>\n<text text-anchor=\"middle\" x=\"12288\" y=\"-869.8\" font-family=\"Helvetica,sans-Serif\" font-size=\"14.00\" fill=\"#000000\">X[29] &lt;= 0.045</text>\n<text text-anchor=\"middle\" x=\"12288\" y=\"-854.8\" font-family=\"Helvetica,sans-Serif\" font-size=\"14.00\" fill=\"#000000\">squared_error = 0.0</text>\n<text text-anchor=\"middle\" x=\"12288\" y=\"-839.8\" font-family=\"Helvetica,sans-Serif\" font-size=\"14.00\" fill=\"#000000\">samples = 2</text>\n<text text-anchor=\"middle\" x=\"12288\" y=\"-824.8\" font-family=\"Helvetica,sans-Serif\" font-size=\"14.00\" fill=\"#000000\">value = 0.027</text>\n</g>\n<!-- 397&#45;&gt;399 -->\n<g id=\"edge399\" class=\"edge\">\n<title>397&#45;&gt;399</title>\n<path fill=\"none\" stroke=\"#000000\" d=\"M12179.0449,-920.9465C12194.1495,-911.2497 12210.7324,-900.6039 12226.3046,-890.6069\"/>\n<polygon fill=\"#000000\" stroke=\"#000000\" points=\"12228.3116,-893.4777 12234.836,-885.13 12224.53,-887.5871 12228.3116,-893.4777\"/>\n</g>\n<!-- 400 -->\n<g id=\"node401\" class=\"node\">\n<title>400</title>\n<polygon fill=\"none\" stroke=\"#000000\" points=\"12360,-773.5 12216,-773.5 12216,-720.5 12360,-720.5 12360,-773.5\"/>\n<text text-anchor=\"middle\" x=\"12288\" y=\"-758.3\" font-family=\"Helvetica,sans-Serif\" font-size=\"14.00\" fill=\"#000000\">squared_error = 0.0</text>\n<text text-anchor=\"middle\" x=\"12288\" y=\"-743.3\" font-family=\"Helvetica,sans-Serif\" font-size=\"14.00\" fill=\"#000000\">samples = 1</text>\n<text text-anchor=\"middle\" x=\"12288\" y=\"-728.3\" font-family=\"Helvetica,sans-Serif\" font-size=\"14.00\" fill=\"#000000\">value = 0.025</text>\n</g>\n<!-- 399&#45;&gt;400 -->\n<g id=\"edge400\" class=\"edge\">\n<title>399&#45;&gt;400</title>\n<path fill=\"none\" stroke=\"#000000\" d=\"M12288,-816.9465C12288,-806.2621 12288,-794.4254 12288,-783.5742\"/>\n<polygon fill=\"#000000\" stroke=\"#000000\" points=\"12291.5001,-783.5421 12288,-773.5422 12284.5001,-783.5422 12291.5001,-783.5421\"/>\n</g>\n<!-- 401 -->\n<g id=\"node402\" class=\"node\">\n<title>401</title>\n<polygon fill=\"none\" stroke=\"#000000\" points=\"12522,-773.5 12378,-773.5 12378,-720.5 12522,-720.5 12522,-773.5\"/>\n<text text-anchor=\"middle\" x=\"12450\" y=\"-758.3\" font-family=\"Helvetica,sans-Serif\" font-size=\"14.00\" fill=\"#000000\">squared_error = 0.0</text>\n<text text-anchor=\"middle\" x=\"12450\" y=\"-743.3\" font-family=\"Helvetica,sans-Serif\" font-size=\"14.00\" fill=\"#000000\">samples = 1</text>\n<text text-anchor=\"middle\" x=\"12450\" y=\"-728.3\" font-family=\"Helvetica,sans-Serif\" font-size=\"14.00\" fill=\"#000000\">value = 0.029</text>\n</g>\n<!-- 399&#45;&gt;401 -->\n<g id=\"edge401\" class=\"edge\">\n<title>399&#45;&gt;401</title>\n<path fill=\"none\" stroke=\"#000000\" d=\"M12341.0449,-816.9465C12360.0043,-804.775 12381.2927,-791.1084 12399.9879,-779.1066\"/>\n<polygon fill=\"#000000\" stroke=\"#000000\" points=\"12402.1311,-781.8898 12408.6555,-773.5422 12398.3495,-775.9992 12402.1311,-781.8898\"/>\n</g>\n<!-- 405 -->\n<g id=\"node406\" class=\"node\">\n<title>405</title>\n<polygon fill=\"none\" stroke=\"#000000\" points=\"12120,-1613 11976,-1613 11976,-1545 12120,-1545 12120,-1613\"/>\n<text text-anchor=\"middle\" x=\"12048\" y=\"-1597.8\" font-family=\"Helvetica,sans-Serif\" font-size=\"14.00\" fill=\"#000000\">X[25] &lt;= &#45;0.006</text>\n<text text-anchor=\"middle\" x=\"12048\" y=\"-1582.8\" font-family=\"Helvetica,sans-Serif\" font-size=\"14.00\" fill=\"#000000\">squared_error = 0.0</text>\n<text text-anchor=\"middle\" x=\"12048\" y=\"-1567.8\" font-family=\"Helvetica,sans-Serif\" font-size=\"14.00\" fill=\"#000000\">samples = 18</text>\n<text text-anchor=\"middle\" x=\"12048\" y=\"-1552.8\" font-family=\"Helvetica,sans-Serif\" font-size=\"14.00\" fill=\"#000000\">value = 0.032</text>\n</g>\n<!-- 404&#45;&gt;405 -->\n<g id=\"edge405\" class=\"edge\">\n<title>404&#45;&gt;405</title>\n<path fill=\"none\" stroke=\"#000000\" d=\"M12048,-1648.9465C12048,-1640.776 12048,-1631.9318 12048,-1623.3697\"/>\n<polygon fill=\"#000000\" stroke=\"#000000\" points=\"12051.5001,-1623.13 12048,-1613.13 12044.5001,-1623.13 12051.5001,-1623.13\"/>\n</g>\n<!-- 440 -->\n<g id=\"node441\" class=\"node\">\n<title>440</title>\n<polygon fill=\"none\" stroke=\"#000000\" points=\"12444,-1613 12300,-1613 12300,-1545 12444,-1545 12444,-1613\"/>\n<text text-anchor=\"middle\" x=\"12372\" y=\"-1597.8\" font-family=\"Helvetica,sans-Serif\" font-size=\"14.00\" fill=\"#000000\">X[23] &lt;= 0.032</text>\n<text text-anchor=\"middle\" x=\"12372\" y=\"-1582.8\" font-family=\"Helvetica,sans-Serif\" font-size=\"14.00\" fill=\"#000000\">squared_error = 0.0</text>\n<text text-anchor=\"middle\" x=\"12372\" y=\"-1567.8\" font-family=\"Helvetica,sans-Serif\" font-size=\"14.00\" fill=\"#000000\">samples = 6</text>\n<text text-anchor=\"middle\" x=\"12372\" y=\"-1552.8\" font-family=\"Helvetica,sans-Serif\" font-size=\"14.00\" fill=\"#000000\">value = 0.069</text>\n</g>\n<!-- 404&#45;&gt;440 -->\n<g id=\"edge440\" class=\"edge\">\n<title>404&#45;&gt;440</title>\n<path fill=\"none\" stroke=\"#000000\" d=\"M12128.5062,-1657.1585C12177.7906,-1641.3388 12240.6817,-1621.1515 12290.2014,-1605.2563\"/>\n<polygon fill=\"#000000\" stroke=\"#000000\" points=\"12291.4673,-1608.526 12299.9191,-1602.1371 12289.3278,-1601.8609 12291.4673,-1608.526\"/>\n</g>\n<!-- 406 -->\n<g id=\"node407\" class=\"node\">\n<title>406</title>\n<polygon fill=\"none\" stroke=\"#000000\" points=\"12039,-1501.5 11895,-1501.5 11895,-1448.5 12039,-1448.5 12039,-1501.5\"/>\n<text text-anchor=\"middle\" x=\"11967\" y=\"-1486.3\" font-family=\"Helvetica,sans-Serif\" font-size=\"14.00\" fill=\"#000000\">squared_error = 0.0</text>\n<text text-anchor=\"middle\" x=\"11967\" y=\"-1471.3\" font-family=\"Helvetica,sans-Serif\" font-size=\"14.00\" fill=\"#000000\">samples = 1</text>\n<text text-anchor=\"middle\" x=\"11967\" y=\"-1456.3\" font-family=\"Helvetica,sans-Serif\" font-size=\"14.00\" fill=\"#000000\">value = &#45;0.025</text>\n</g>\n<!-- 405&#45;&gt;406 -->\n<g id=\"edge406\" class=\"edge\">\n<title>405&#45;&gt;406</title>\n<path fill=\"none\" stroke=\"#000000\" d=\"M12021.4776,-1544.9465C12012.6413,-1533.6012 12002.7932,-1520.9567 11993.9266,-1509.5724\"/>\n<polygon fill=\"#000000\" stroke=\"#000000\" points=\"11996.5783,-1507.281 11987.6723,-1501.5422 11991.0556,-1511.5823 11996.5783,-1507.281\"/>\n</g>\n<!-- 407 -->\n<g id=\"node408\" class=\"node\">\n<title>407</title>\n<polygon fill=\"none\" stroke=\"#000000\" points=\"12201,-1509 12057,-1509 12057,-1441 12201,-1441 12201,-1509\"/>\n<text text-anchor=\"middle\" x=\"12129\" y=\"-1493.8\" font-family=\"Helvetica,sans-Serif\" font-size=\"14.00\" fill=\"#000000\">X[11] &lt;= 0.015</text>\n<text text-anchor=\"middle\" x=\"12129\" y=\"-1478.8\" font-family=\"Helvetica,sans-Serif\" font-size=\"14.00\" fill=\"#000000\">squared_error = 0.0</text>\n<text text-anchor=\"middle\" x=\"12129\" y=\"-1463.8\" font-family=\"Helvetica,sans-Serif\" font-size=\"14.00\" fill=\"#000000\">samples = 17</text>\n<text text-anchor=\"middle\" x=\"12129\" y=\"-1448.8\" font-family=\"Helvetica,sans-Serif\" font-size=\"14.00\" fill=\"#000000\">value = 0.035</text>\n</g>\n<!-- 405&#45;&gt;407 -->\n<g id=\"edge407\" class=\"edge\">\n<title>405&#45;&gt;407</title>\n<path fill=\"none\" stroke=\"#000000\" d=\"M12074.5224,-1544.9465C12081.4454,-1536.0578 12088.9894,-1526.3716 12096.196,-1517.1188\"/>\n<polygon fill=\"#000000\" stroke=\"#000000\" points=\"12099.0346,-1519.1701 12102.418,-1509.13 12093.512,-1514.8688 12099.0346,-1519.1701\"/>\n</g>\n<!-- 408 -->\n<g id=\"node409\" class=\"node\">\n<title>408</title>\n<polygon fill=\"none\" stroke=\"#000000\" points=\"12119,-1405 11975,-1405 11975,-1337 12119,-1337 12119,-1405\"/>\n<text text-anchor=\"middle\" x=\"12047\" y=\"-1389.8\" font-family=\"Helvetica,sans-Serif\" font-size=\"14.00\" fill=\"#000000\">X[32] &lt;= 0.012</text>\n<text text-anchor=\"middle\" x=\"12047\" y=\"-1374.8\" font-family=\"Helvetica,sans-Serif\" font-size=\"14.00\" fill=\"#000000\">squared_error = 0.0</text>\n<text text-anchor=\"middle\" x=\"12047\" y=\"-1359.8\" font-family=\"Helvetica,sans-Serif\" font-size=\"14.00\" fill=\"#000000\">samples = 3</text>\n<text text-anchor=\"middle\" x=\"12047\" y=\"-1344.8\" font-family=\"Helvetica,sans-Serif\" font-size=\"14.00\" fill=\"#000000\">value = 0.012</text>\n</g>\n<!-- 407&#45;&gt;408 -->\n<g id=\"edge408\" class=\"edge\">\n<title>407&#45;&gt;408</title>\n<path fill=\"none\" stroke=\"#000000\" d=\"M12102.1501,-1440.9465C12095.1417,-1432.0578 12087.5045,-1422.3716 12080.209,-1413.1188\"/>\n<polygon fill=\"#000000\" stroke=\"#000000\" points=\"12082.8502,-1410.8157 12073.9102,-1405.13 12077.3533,-1415.1498 12082.8502,-1410.8157\"/>\n</g>\n<!-- 413 -->\n<g id=\"node414\" class=\"node\">\n<title>413</title>\n<polygon fill=\"none\" stroke=\"#000000\" points=\"12282,-1405 12138,-1405 12138,-1337 12282,-1337 12282,-1405\"/>\n<text text-anchor=\"middle\" x=\"12210\" y=\"-1389.8\" font-family=\"Helvetica,sans-Serif\" font-size=\"14.00\" fill=\"#000000\">X[2] &lt;= 0.007</text>\n<text text-anchor=\"middle\" x=\"12210\" y=\"-1374.8\" font-family=\"Helvetica,sans-Serif\" font-size=\"14.00\" fill=\"#000000\">squared_error = 0.0</text>\n<text text-anchor=\"middle\" x=\"12210\" y=\"-1359.8\" font-family=\"Helvetica,sans-Serif\" font-size=\"14.00\" fill=\"#000000\">samples = 14</text>\n<text text-anchor=\"middle\" x=\"12210\" y=\"-1344.8\" font-family=\"Helvetica,sans-Serif\" font-size=\"14.00\" fill=\"#000000\">value = 0.04</text>\n</g>\n<!-- 407&#45;&gt;413 -->\n<g id=\"edge413\" class=\"edge\">\n<title>407&#45;&gt;413</title>\n<path fill=\"none\" stroke=\"#000000\" d=\"M12155.5224,-1440.9465C12162.4454,-1432.0578 12169.9894,-1422.3716 12177.196,-1413.1188\"/>\n<polygon fill=\"#000000\" stroke=\"#000000\" points=\"12180.0346,-1415.1701 12183.418,-1405.13 12174.512,-1410.8688 12180.0346,-1415.1701\"/>\n</g>\n<!-- 409 -->\n<g id=\"node410\" class=\"node\">\n<title>409</title>\n<polygon fill=\"none\" stroke=\"#000000\" points=\"11956,-1301 11812,-1301 11812,-1233 11956,-1233 11956,-1301\"/>\n<text text-anchor=\"middle\" x=\"11884\" y=\"-1285.8\" font-family=\"Helvetica,sans-Serif\" font-size=\"14.00\" fill=\"#000000\">X[27] &lt;= 0.02</text>\n<text text-anchor=\"middle\" x=\"11884\" y=\"-1270.8\" font-family=\"Helvetica,sans-Serif\" font-size=\"14.00\" fill=\"#000000\">squared_error = 0.0</text>\n<text text-anchor=\"middle\" x=\"11884\" y=\"-1255.8\" font-family=\"Helvetica,sans-Serif\" font-size=\"14.00\" fill=\"#000000\">samples = 2</text>\n<text text-anchor=\"middle\" x=\"11884\" y=\"-1240.8\" font-family=\"Helvetica,sans-Serif\" font-size=\"14.00\" fill=\"#000000\">value = 0.019</text>\n</g>\n<!-- 408&#45;&gt;409 -->\n<g id=\"edge409\" class=\"edge\">\n<title>408&#45;&gt;409</title>\n<path fill=\"none\" stroke=\"#000000\" d=\"M11993.6277,-1336.9465C11978.4298,-1327.2497 11961.7445,-1316.6039 11946.0763,-1306.6069\"/>\n<polygon fill=\"#000000\" stroke=\"#000000\" points=\"11947.805,-1303.5582 11937.4922,-1301.13 11944.0398,-1309.4594 11947.805,-1303.5582\"/>\n</g>\n<!-- 412 -->\n<g id=\"node413\" class=\"node\">\n<title>412</title>\n<polygon fill=\"none\" stroke=\"#000000\" points=\"12119,-1293.5 11975,-1293.5 11975,-1240.5 12119,-1240.5 12119,-1293.5\"/>\n<text text-anchor=\"middle\" x=\"12047\" y=\"-1278.3\" font-family=\"Helvetica,sans-Serif\" font-size=\"14.00\" fill=\"#000000\">squared_error = 0.0</text>\n<text text-anchor=\"middle\" x=\"12047\" y=\"-1263.3\" font-family=\"Helvetica,sans-Serif\" font-size=\"14.00\" fill=\"#000000\">samples = 1</text>\n<text text-anchor=\"middle\" x=\"12047\" y=\"-1248.3\" font-family=\"Helvetica,sans-Serif\" font-size=\"14.00\" fill=\"#000000\">value = &#45;0.003</text>\n</g>\n<!-- 408&#45;&gt;412 -->\n<g id=\"edge412\" class=\"edge\">\n<title>408&#45;&gt;412</title>\n<path fill=\"none\" stroke=\"#000000\" d=\"M12047,-1336.9465C12047,-1326.2621 12047,-1314.4254 12047,-1303.5742\"/>\n<polygon fill=\"#000000\" stroke=\"#000000\" points=\"12050.5001,-1303.5421 12047,-1293.5422 12043.5001,-1303.5422 12050.5001,-1303.5421\"/>\n</g>\n<!-- 410 -->\n<g id=\"node411\" class=\"node\">\n<title>410</title>\n<polygon fill=\"none\" stroke=\"#000000\" points=\"11791,-1189.5 11647,-1189.5 11647,-1136.5 11791,-1136.5 11791,-1189.5\"/>\n<text text-anchor=\"middle\" x=\"11719\" y=\"-1174.3\" font-family=\"Helvetica,sans-Serif\" font-size=\"14.00\" fill=\"#000000\">squared_error = 0.0</text>\n<text text-anchor=\"middle\" x=\"11719\" y=\"-1159.3\" font-family=\"Helvetica,sans-Serif\" font-size=\"14.00\" fill=\"#000000\">samples = 1</text>\n<text text-anchor=\"middle\" x=\"11719\" y=\"-1144.3\" font-family=\"Helvetica,sans-Serif\" font-size=\"14.00\" fill=\"#000000\">value = 0.019</text>\n</g>\n<!-- 409&#45;&gt;410 -->\n<g id=\"edge410\" class=\"edge\">\n<title>409&#45;&gt;410</title>\n<path fill=\"none\" stroke=\"#000000\" d=\"M11829.9728,-1232.9465C11810.5749,-1220.72 11788.7834,-1206.9847 11769.68,-1194.9437\"/>\n<polygon fill=\"#000000\" stroke=\"#000000\" points=\"11771.4362,-1191.9135 11761.1102,-1189.5422 11767.7036,-1197.8353 11771.4362,-1191.9135\"/>\n</g>\n<!-- 411 -->\n<g id=\"node412\" class=\"node\">\n<title>411</title>\n<polygon fill=\"none\" stroke=\"#000000\" points=\"11958.5,-1189.5 11809.5,-1189.5 11809.5,-1136.5 11958.5,-1136.5 11958.5,-1189.5\"/>\n<text text-anchor=\"middle\" x=\"11884\" y=\"-1174.3\" font-family=\"Helvetica,sans-Serif\" font-size=\"14.00\" fill=\"#000000\">squared_error = &#45;0.0</text>\n<text text-anchor=\"middle\" x=\"11884\" y=\"-1159.3\" font-family=\"Helvetica,sans-Serif\" font-size=\"14.00\" fill=\"#000000\">samples = 1</text>\n<text text-anchor=\"middle\" x=\"11884\" y=\"-1144.3\" font-family=\"Helvetica,sans-Serif\" font-size=\"14.00\" fill=\"#000000\">value = 0.019</text>\n</g>\n<!-- 409&#45;&gt;411 -->\n<g id=\"edge411\" class=\"edge\">\n<title>409&#45;&gt;411</title>\n<path fill=\"none\" stroke=\"#000000\" d=\"M11884,-1232.9465C11884,-1222.2621 11884,-1210.4254 11884,-1199.5742\"/>\n<polygon fill=\"#000000\" stroke=\"#000000\" points=\"11887.5001,-1199.5421 11884,-1189.5422 11880.5001,-1199.5422 11887.5001,-1199.5421\"/>\n</g>\n<!-- 414 -->\n<g id=\"node415\" class=\"node\">\n<title>414</title>\n<polygon fill=\"none\" stroke=\"#000000\" points=\"12282,-1301 12138,-1301 12138,-1233 12282,-1233 12282,-1301\"/>\n<text text-anchor=\"middle\" x=\"12210\" y=\"-1285.8\" font-family=\"Helvetica,sans-Serif\" font-size=\"14.00\" fill=\"#000000\">X[8] &lt;= 0.02</text>\n<text text-anchor=\"middle\" x=\"12210\" y=\"-1270.8\" font-family=\"Helvetica,sans-Serif\" font-size=\"14.00\" fill=\"#000000\">squared_error = 0.0</text>\n<text text-anchor=\"middle\" x=\"12210\" y=\"-1255.8\" font-family=\"Helvetica,sans-Serif\" font-size=\"14.00\" fill=\"#000000\">samples = 4</text>\n<text text-anchor=\"middle\" x=\"12210\" y=\"-1240.8\" font-family=\"Helvetica,sans-Serif\" font-size=\"14.00\" fill=\"#000000\">value = 0.053</text>\n</g>\n<!-- 413&#45;&gt;414 -->\n<g id=\"edge414\" class=\"edge\">\n<title>413&#45;&gt;414</title>\n<path fill=\"none\" stroke=\"#000000\" d=\"M12210,-1336.9465C12210,-1328.776 12210,-1319.9318 12210,-1311.3697\"/>\n<polygon fill=\"#000000\" stroke=\"#000000\" points=\"12213.5001,-1311.13 12210,-1301.13 12206.5001,-1311.13 12213.5001,-1311.13\"/>\n</g>\n<!-- 421 -->\n<g id=\"node422\" class=\"node\">\n<title>421</title>\n<polygon fill=\"none\" stroke=\"#000000\" points=\"12688,-1301 12544,-1301 12544,-1233 12688,-1233 12688,-1301\"/>\n<text text-anchor=\"middle\" x=\"12616\" y=\"-1285.8\" font-family=\"Helvetica,sans-Serif\" font-size=\"14.00\" fill=\"#000000\">X[15] &lt;= 0.034</text>\n<text text-anchor=\"middle\" x=\"12616\" y=\"-1270.8\" font-family=\"Helvetica,sans-Serif\" font-size=\"14.00\" fill=\"#000000\">squared_error = 0.0</text>\n<text text-anchor=\"middle\" x=\"12616\" y=\"-1255.8\" font-family=\"Helvetica,sans-Serif\" font-size=\"14.00\" fill=\"#000000\">samples = 10</text>\n<text text-anchor=\"middle\" x=\"12616\" y=\"-1240.8\" font-family=\"Helvetica,sans-Serif\" font-size=\"14.00\" fill=\"#000000\">value = 0.035</text>\n</g>\n<!-- 413&#45;&gt;421 -->\n<g id=\"edge421\" class=\"edge\">\n<title>413&#45;&gt;421</title>\n<path fill=\"none\" stroke=\"#000000\" d=\"M12282.1758,-1339.9238C12285.141,-1338.8951 12288.0904,-1337.9153 12291,-1337 12372.0412,-1311.5058 12467.3331,-1292.1869 12533.696,-1280.3703\"/>\n<polygon fill=\"#000000\" stroke=\"#000000\" points=\"12534.4411,-1283.793 12543.6816,-1278.61 12533.2258,-1276.8993 12534.4411,-1283.793\"/>\n</g>\n<!-- 415 -->\n<g id=\"node416\" class=\"node\">\n<title>415</title>\n<polygon fill=\"none\" stroke=\"#000000\" points=\"12121,-1197 11977,-1197 11977,-1129 12121,-1129 12121,-1197\"/>\n<text text-anchor=\"middle\" x=\"12049\" y=\"-1181.8\" font-family=\"Helvetica,sans-Serif\" font-size=\"14.00\" fill=\"#000000\">X[21] &lt;= 0.025</text>\n<text text-anchor=\"middle\" x=\"12049\" y=\"-1166.8\" font-family=\"Helvetica,sans-Serif\" font-size=\"14.00\" fill=\"#000000\">squared_error = 0.0</text>\n<text text-anchor=\"middle\" x=\"12049\" y=\"-1151.8\" font-family=\"Helvetica,sans-Serif\" font-size=\"14.00\" fill=\"#000000\">samples = 2</text>\n<text text-anchor=\"middle\" x=\"12049\" y=\"-1136.8\" font-family=\"Helvetica,sans-Serif\" font-size=\"14.00\" fill=\"#000000\">value = 0.062</text>\n</g>\n<!-- 414&#45;&gt;415 -->\n<g id=\"edge415\" class=\"edge\">\n<title>414&#45;&gt;415</title>\n<path fill=\"none\" stroke=\"#000000\" d=\"M12157.2826,-1232.9465C12142.2712,-1223.2497 12125.7906,-1212.6039 12110.3146,-1202.6069\"/>\n<polygon fill=\"#000000\" stroke=\"#000000\" points=\"12112.1349,-1199.6161 12101.8359,-1197.13 12108.3367,-1205.496 12112.1349,-1199.6161\"/>\n</g>\n<!-- 418 -->\n<g id=\"node419\" class=\"node\">\n<title>418</title>\n<polygon fill=\"none\" stroke=\"#000000\" points=\"12283,-1197 12139,-1197 12139,-1129 12283,-1129 12283,-1197\"/>\n<text text-anchor=\"middle\" x=\"12211\" y=\"-1181.8\" font-family=\"Helvetica,sans-Serif\" font-size=\"14.00\" fill=\"#000000\">X[4] &lt;= 0.026</text>\n<text text-anchor=\"middle\" x=\"12211\" y=\"-1166.8\" font-family=\"Helvetica,sans-Serif\" font-size=\"14.00\" fill=\"#000000\">squared_error = 0.0</text>\n<text text-anchor=\"middle\" x=\"12211\" y=\"-1151.8\" font-family=\"Helvetica,sans-Serif\" font-size=\"14.00\" fill=\"#000000\">samples = 2</text>\n<text text-anchor=\"middle\" x=\"12211\" y=\"-1136.8\" font-family=\"Helvetica,sans-Serif\" font-size=\"14.00\" fill=\"#000000\">value = 0.045</text>\n</g>\n<!-- 414&#45;&gt;418 -->\n<g id=\"edge418\" class=\"edge\">\n<title>414&#45;&gt;418</title>\n<path fill=\"none\" stroke=\"#000000\" d=\"M12210.3274,-1232.9465C12210.406,-1224.776 12210.491,-1215.9318 12210.5734,-1207.3697\"/>\n<polygon fill=\"#000000\" stroke=\"#000000\" points=\"12214.0754,-1207.1632 12210.6718,-1197.13 12207.0757,-1207.0958 12214.0754,-1207.1632\"/>\n</g>\n<!-- 416 -->\n<g id=\"node417\" class=\"node\">\n<title>416</title>\n<polygon fill=\"none\" stroke=\"#000000\" points=\"11959,-1085.5 11815,-1085.5 11815,-1032.5 11959,-1032.5 11959,-1085.5\"/>\n<text text-anchor=\"middle\" x=\"11887\" y=\"-1070.3\" font-family=\"Helvetica,sans-Serif\" font-size=\"14.00\" fill=\"#000000\">squared_error = 0.0</text>\n<text text-anchor=\"middle\" x=\"11887\" y=\"-1055.3\" font-family=\"Helvetica,sans-Serif\" font-size=\"14.00\" fill=\"#000000\">samples = 1</text>\n<text text-anchor=\"middle\" x=\"11887\" y=\"-1040.3\" font-family=\"Helvetica,sans-Serif\" font-size=\"14.00\" fill=\"#000000\">value = 0.066</text>\n</g>\n<!-- 415&#45;&gt;416 -->\n<g id=\"edge416\" class=\"edge\">\n<title>415&#45;&gt;416</title>\n<path fill=\"none\" stroke=\"#000000\" d=\"M11995.9551,-1128.9465C11976.9957,-1116.775 11955.7073,-1103.1084 11937.0121,-1091.1066\"/>\n<polygon fill=\"#000000\" stroke=\"#000000\" points=\"11938.6505,-1087.9992 11928.3445,-1085.5422 11934.8689,-1093.8898 11938.6505,-1087.9992\"/>\n</g>\n<!-- 417 -->\n<g id=\"node418\" class=\"node\">\n<title>417</title>\n<polygon fill=\"none\" stroke=\"#000000\" points=\"12121,-1085.5 11977,-1085.5 11977,-1032.5 12121,-1032.5 12121,-1085.5\"/>\n<text text-anchor=\"middle\" x=\"12049\" y=\"-1070.3\" font-family=\"Helvetica,sans-Serif\" font-size=\"14.00\" fill=\"#000000\">squared_error = 0.0</text>\n<text text-anchor=\"middle\" x=\"12049\" y=\"-1055.3\" font-family=\"Helvetica,sans-Serif\" font-size=\"14.00\" fill=\"#000000\">samples = 1</text>\n<text text-anchor=\"middle\" x=\"12049\" y=\"-1040.3\" font-family=\"Helvetica,sans-Serif\" font-size=\"14.00\" fill=\"#000000\">value = 0.059</text>\n</g>\n<!-- 415&#45;&gt;417 -->\n<g id=\"edge417\" class=\"edge\">\n<title>415&#45;&gt;417</title>\n<path fill=\"none\" stroke=\"#000000\" d=\"M12049,-1128.9465C12049,-1118.2621 12049,-1106.4254 12049,-1095.5742\"/>\n<polygon fill=\"#000000\" stroke=\"#000000\" points=\"12052.5001,-1095.5421 12049,-1085.5422 12045.5001,-1095.5422 12052.5001,-1095.5421\"/>\n</g>\n<!-- 419 -->\n<g id=\"node420\" class=\"node\">\n<title>419</title>\n<polygon fill=\"none\" stroke=\"#000000\" points=\"12283,-1085.5 12139,-1085.5 12139,-1032.5 12283,-1032.5 12283,-1085.5\"/>\n<text text-anchor=\"middle\" x=\"12211\" y=\"-1070.3\" font-family=\"Helvetica,sans-Serif\" font-size=\"14.00\" fill=\"#000000\">squared_error = 0.0</text>\n<text text-anchor=\"middle\" x=\"12211\" y=\"-1055.3\" font-family=\"Helvetica,sans-Serif\" font-size=\"14.00\" fill=\"#000000\">samples = 1</text>\n<text text-anchor=\"middle\" x=\"12211\" y=\"-1040.3\" font-family=\"Helvetica,sans-Serif\" font-size=\"14.00\" fill=\"#000000\">value = 0.048</text>\n</g>\n<!-- 418&#45;&gt;419 -->\n<g id=\"edge419\" class=\"edge\">\n<title>418&#45;&gt;419</title>\n<path fill=\"none\" stroke=\"#000000\" d=\"M12211,-1128.9465C12211,-1118.2621 12211,-1106.4254 12211,-1095.5742\"/>\n<polygon fill=\"#000000\" stroke=\"#000000\" points=\"12214.5001,-1095.5421 12211,-1085.5422 12207.5001,-1095.5422 12214.5001,-1095.5421\"/>\n</g>\n<!-- 420 -->\n<g id=\"node421\" class=\"node\">\n<title>420</title>\n<polygon fill=\"none\" stroke=\"#000000\" points=\"12445,-1085.5 12301,-1085.5 12301,-1032.5 12445,-1032.5 12445,-1085.5\"/>\n<text text-anchor=\"middle\" x=\"12373\" y=\"-1070.3\" font-family=\"Helvetica,sans-Serif\" font-size=\"14.00\" fill=\"#000000\">squared_error = 0.0</text>\n<text text-anchor=\"middle\" x=\"12373\" y=\"-1055.3\" font-family=\"Helvetica,sans-Serif\" font-size=\"14.00\" fill=\"#000000\">samples = 1</text>\n<text text-anchor=\"middle\" x=\"12373\" y=\"-1040.3\" font-family=\"Helvetica,sans-Serif\" font-size=\"14.00\" fill=\"#000000\">value = 0.042</text>\n</g>\n<!-- 418&#45;&gt;420 -->\n<g id=\"edge420\" class=\"edge\">\n<title>418&#45;&gt;420</title>\n<path fill=\"none\" stroke=\"#000000\" d=\"M12264.0449,-1128.9465C12283.0043,-1116.775 12304.2927,-1103.1084 12322.9879,-1091.1066\"/>\n<polygon fill=\"#000000\" stroke=\"#000000\" points=\"12325.1311,-1093.8898 12331.6555,-1085.5422 12321.3495,-1087.9992 12325.1311,-1093.8898\"/>\n</g>\n<!-- 422 -->\n<g id=\"node423\" class=\"node\">\n<title>422</title>\n<polygon fill=\"none\" stroke=\"#000000\" points=\"12688,-1197 12544,-1197 12544,-1129 12688,-1129 12688,-1197\"/>\n<text text-anchor=\"middle\" x=\"12616\" y=\"-1181.8\" font-family=\"Helvetica,sans-Serif\" font-size=\"14.00\" fill=\"#000000\">X[32] &lt;= 0.014</text>\n<text text-anchor=\"middle\" x=\"12616\" y=\"-1166.8\" font-family=\"Helvetica,sans-Serif\" font-size=\"14.00\" fill=\"#000000\">squared_error = 0.0</text>\n<text text-anchor=\"middle\" x=\"12616\" y=\"-1151.8\" font-family=\"Helvetica,sans-Serif\" font-size=\"14.00\" fill=\"#000000\">samples = 5</text>\n<text text-anchor=\"middle\" x=\"12616\" y=\"-1136.8\" font-family=\"Helvetica,sans-Serif\" font-size=\"14.00\" fill=\"#000000\">value = 0.027</text>\n</g>\n<!-- 421&#45;&gt;422 -->\n<g id=\"edge422\" class=\"edge\">\n<title>421&#45;&gt;422</title>\n<path fill=\"none\" stroke=\"#000000\" d=\"M12616,-1232.9465C12616,-1224.776 12616,-1215.9318 12616,-1207.3697\"/>\n<polygon fill=\"#000000\" stroke=\"#000000\" points=\"12619.5001,-1207.13 12616,-1197.13 12612.5001,-1207.13 12619.5001,-1207.13\"/>\n</g>\n<!-- 431 -->\n<g id=\"node432\" class=\"node\">\n<title>431</title>\n<polygon fill=\"none\" stroke=\"#000000\" points=\"13070,-1197 12926,-1197 12926,-1129 13070,-1129 13070,-1197\"/>\n<text text-anchor=\"middle\" x=\"12998\" y=\"-1181.8\" font-family=\"Helvetica,sans-Serif\" font-size=\"14.00\" fill=\"#000000\">X[19] &lt;= 0.049</text>\n<text text-anchor=\"middle\" x=\"12998\" y=\"-1166.8\" font-family=\"Helvetica,sans-Serif\" font-size=\"14.00\" fill=\"#000000\">squared_error = 0.0</text>\n<text text-anchor=\"middle\" x=\"12998\" y=\"-1151.8\" font-family=\"Helvetica,sans-Serif\" font-size=\"14.00\" fill=\"#000000\">samples = 5</text>\n<text text-anchor=\"middle\" x=\"12998\" y=\"-1136.8\" font-family=\"Helvetica,sans-Serif\" font-size=\"14.00\" fill=\"#000000\">value = 0.043</text>\n</g>\n<!-- 421&#45;&gt;431 -->\n<g id=\"edge431\" class=\"edge\">\n<title>421&#45;&gt;431</title>\n<path fill=\"none\" stroke=\"#000000\" d=\"M12688.3004,-1247.3161C12753.2412,-1229.6359 12848.5132,-1203.698 12916.2137,-1185.2664\"/>\n<polygon fill=\"#000000\" stroke=\"#000000\" points=\"12917.266,-1188.6074 12925.9953,-1182.6034 12915.4271,-1181.8533 12917.266,-1188.6074\"/>\n</g>\n<!-- 423 -->\n<g id=\"node424\" class=\"node\">\n<title>423</title>\n<polygon fill=\"none\" stroke=\"#000000\" points=\"12607,-1093 12463,-1093 12463,-1025 12607,-1025 12607,-1093\"/>\n<text text-anchor=\"middle\" x=\"12535\" y=\"-1077.8\" font-family=\"Helvetica,sans-Serif\" font-size=\"14.00\" fill=\"#000000\">X[17] &lt;= 0.008</text>\n<text text-anchor=\"middle\" x=\"12535\" y=\"-1062.8\" font-family=\"Helvetica,sans-Serif\" font-size=\"14.00\" fill=\"#000000\">squared_error = 0.0</text>\n<text text-anchor=\"middle\" x=\"12535\" y=\"-1047.8\" font-family=\"Helvetica,sans-Serif\" font-size=\"14.00\" fill=\"#000000\">samples = 2</text>\n<text text-anchor=\"middle\" x=\"12535\" y=\"-1032.8\" font-family=\"Helvetica,sans-Serif\" font-size=\"14.00\" fill=\"#000000\">value = 0.023</text>\n</g>\n<!-- 422&#45;&gt;423 -->\n<g id=\"edge423\" class=\"edge\">\n<title>422&#45;&gt;423</title>\n<path fill=\"none\" stroke=\"#000000\" d=\"M12589.4776,-1128.9465C12582.5546,-1120.0578 12575.0106,-1110.3716 12567.804,-1101.1188\"/>\n<polygon fill=\"#000000\" stroke=\"#000000\" points=\"12570.488,-1098.8688 12561.582,-1093.13 12564.9654,-1103.1701 12570.488,-1098.8688\"/>\n</g>\n<!-- 426 -->\n<g id=\"node427\" class=\"node\">\n<title>426</title>\n<polygon fill=\"none\" stroke=\"#000000\" points=\"12769,-1093 12625,-1093 12625,-1025 12769,-1025 12769,-1093\"/>\n<text text-anchor=\"middle\" x=\"12697\" y=\"-1077.8\" font-family=\"Helvetica,sans-Serif\" font-size=\"14.00\" fill=\"#000000\">X[23] &lt;= &#45;0.01</text>\n<text text-anchor=\"middle\" x=\"12697\" y=\"-1062.8\" font-family=\"Helvetica,sans-Serif\" font-size=\"14.00\" fill=\"#000000\">squared_error = 0.0</text>\n<text text-anchor=\"middle\" x=\"12697\" y=\"-1047.8\" font-family=\"Helvetica,sans-Serif\" font-size=\"14.00\" fill=\"#000000\">samples = 3</text>\n<text text-anchor=\"middle\" x=\"12697\" y=\"-1032.8\" font-family=\"Helvetica,sans-Serif\" font-size=\"14.00\" fill=\"#000000\">value = 0.029</text>\n</g>\n<!-- 422&#45;&gt;426 -->\n<g id=\"edge426\" class=\"edge\">\n<title>422&#45;&gt;426</title>\n<path fill=\"none\" stroke=\"#000000\" d=\"M12642.5224,-1128.9465C12649.4454,-1120.0578 12656.9894,-1110.3716 12664.196,-1101.1188\"/>\n<polygon fill=\"#000000\" stroke=\"#000000\" points=\"12667.0346,-1103.1701 12670.418,-1093.13 12661.512,-1098.8688 12667.0346,-1103.1701\"/>\n</g>\n<!-- 424 -->\n<g id=\"node425\" class=\"node\">\n<title>424</title>\n<polygon fill=\"none\" stroke=\"#000000\" points=\"12382,-981.5 12238,-981.5 12238,-928.5 12382,-928.5 12382,-981.5\"/>\n<text text-anchor=\"middle\" x=\"12310\" y=\"-966.3\" font-family=\"Helvetica,sans-Serif\" font-size=\"14.00\" fill=\"#000000\">squared_error = 0.0</text>\n<text text-anchor=\"middle\" x=\"12310\" y=\"-951.3\" font-family=\"Helvetica,sans-Serif\" font-size=\"14.00\" fill=\"#000000\">samples = 1</text>\n<text text-anchor=\"middle\" x=\"12310\" y=\"-936.3\" font-family=\"Helvetica,sans-Serif\" font-size=\"14.00\" fill=\"#000000\">value = 0.022</text>\n</g>\n<!-- 423&#45;&gt;424 -->\n<g id=\"edge424\" class=\"edge\">\n<title>423&#45;&gt;424</title>\n<path fill=\"none\" stroke=\"#000000\" d=\"M12462.8802,-1025.6646C12435.2846,-1012.9093 12403.9516,-998.4265 12376.8674,-985.9076\"/>\n<polygon fill=\"#000000\" stroke=\"#000000\" points=\"12378.0234,-982.5862 12367.4776,-981.5674 12375.0864,-988.9402 12378.0234,-982.5862\"/>\n</g>\n<!-- 425 -->\n<g id=\"node426\" class=\"node\">\n<title>425</title>\n<polygon fill=\"none\" stroke=\"#000000\" points=\"12544,-981.5 12400,-981.5 12400,-928.5 12544,-928.5 12544,-981.5\"/>\n<text text-anchor=\"middle\" x=\"12472\" y=\"-966.3\" font-family=\"Helvetica,sans-Serif\" font-size=\"14.00\" fill=\"#000000\">squared_error = 0.0</text>\n<text text-anchor=\"middle\" x=\"12472\" y=\"-951.3\" font-family=\"Helvetica,sans-Serif\" font-size=\"14.00\" fill=\"#000000\">samples = 1</text>\n<text text-anchor=\"middle\" x=\"12472\" y=\"-936.3\" font-family=\"Helvetica,sans-Serif\" font-size=\"14.00\" fill=\"#000000\">value = 0.023</text>\n</g>\n<!-- 423&#45;&gt;425 -->\n<g id=\"edge425\" class=\"edge\">\n<title>423&#45;&gt;425</title>\n<path fill=\"none\" stroke=\"#000000\" d=\"M12514.3714,-1024.9465C12507.6322,-1013.8215 12500.1363,-1001.4473 12493.3455,-990.237\"/>\n<polygon fill=\"#000000\" stroke=\"#000000\" points=\"12496.2533,-988.2818 12488.0784,-981.5422 12490.2661,-991.9087 12496.2533,-988.2818\"/>\n</g>\n<!-- 427 -->\n<g id=\"node428\" class=\"node\">\n<title>427</title>\n<polygon fill=\"none\" stroke=\"#000000\" points=\"12706,-981.5 12562,-981.5 12562,-928.5 12706,-928.5 12706,-981.5\"/>\n<text text-anchor=\"middle\" x=\"12634\" y=\"-966.3\" font-family=\"Helvetica,sans-Serif\" font-size=\"14.00\" fill=\"#000000\">squared_error = 0.0</text>\n<text text-anchor=\"middle\" x=\"12634\" y=\"-951.3\" font-family=\"Helvetica,sans-Serif\" font-size=\"14.00\" fill=\"#000000\">samples = 1</text>\n<text text-anchor=\"middle\" x=\"12634\" y=\"-936.3\" font-family=\"Helvetica,sans-Serif\" font-size=\"14.00\" fill=\"#000000\">value = 0.031</text>\n</g>\n<!-- 426&#45;&gt;427 -->\n<g id=\"edge427\" class=\"edge\">\n<title>426&#45;&gt;427</title>\n<path fill=\"none\" stroke=\"#000000\" d=\"M12676.3714,-1024.9465C12669.6322,-1013.8215 12662.1363,-1001.4473 12655.3455,-990.237\"/>\n<polygon fill=\"#000000\" stroke=\"#000000\" points=\"12658.2533,-988.2818 12650.0784,-981.5422 12652.2661,-991.9087 12658.2533,-988.2818\"/>\n</g>\n<!-- 428 -->\n<g id=\"node429\" class=\"node\">\n<title>428</title>\n<polygon fill=\"none\" stroke=\"#000000\" points=\"12868,-989 12724,-989 12724,-921 12868,-921 12868,-989\"/>\n<text text-anchor=\"middle\" x=\"12796\" y=\"-973.8\" font-family=\"Helvetica,sans-Serif\" font-size=\"14.00\" fill=\"#000000\">X[22] &lt;= 0.036</text>\n<text text-anchor=\"middle\" x=\"12796\" y=\"-958.8\" font-family=\"Helvetica,sans-Serif\" font-size=\"14.00\" fill=\"#000000\">squared_error = 0.0</text>\n<text text-anchor=\"middle\" x=\"12796\" y=\"-943.8\" font-family=\"Helvetica,sans-Serif\" font-size=\"14.00\" fill=\"#000000\">samples = 2</text>\n<text text-anchor=\"middle\" x=\"12796\" y=\"-928.8\" font-family=\"Helvetica,sans-Serif\" font-size=\"14.00\" fill=\"#000000\">value = 0.028</text>\n</g>\n<!-- 426&#45;&gt;428 -->\n<g id=\"edge428\" class=\"edge\">\n<title>426&#45;&gt;428</title>\n<path fill=\"none\" stroke=\"#000000\" d=\"M12729.4163,-1024.9465C12738.0486,-1015.8782 12747.4711,-1005.9799 12756.4395,-996.5585\"/>\n<polygon fill=\"#000000\" stroke=\"#000000\" points=\"12759.1511,-998.7863 12763.5109,-989.13 12754.081,-993.9599 12759.1511,-998.7863\"/>\n</g>\n<!-- 429 -->\n<g id=\"node430\" class=\"node\">\n<title>429</title>\n<polygon fill=\"none\" stroke=\"#000000\" points=\"12706,-877.5 12562,-877.5 12562,-824.5 12706,-824.5 12706,-877.5\"/>\n<text text-anchor=\"middle\" x=\"12634\" y=\"-862.3\" font-family=\"Helvetica,sans-Serif\" font-size=\"14.00\" fill=\"#000000\">squared_error = 0.0</text>\n<text text-anchor=\"middle\" x=\"12634\" y=\"-847.3\" font-family=\"Helvetica,sans-Serif\" font-size=\"14.00\" fill=\"#000000\">samples = 1</text>\n<text text-anchor=\"middle\" x=\"12634\" y=\"-832.3\" font-family=\"Helvetica,sans-Serif\" font-size=\"14.00\" fill=\"#000000\">value = 0.029</text>\n</g>\n<!-- 428&#45;&gt;429 -->\n<g id=\"edge429\" class=\"edge\">\n<title>428&#45;&gt;429</title>\n<path fill=\"none\" stroke=\"#000000\" d=\"M12742.9551,-920.9465C12723.9957,-908.775 12702.7073,-895.1084 12684.0121,-883.1066\"/>\n<polygon fill=\"#000000\" stroke=\"#000000\" points=\"12685.6505,-879.9992 12675.3445,-877.5422 12681.8689,-885.8898 12685.6505,-879.9992\"/>\n</g>\n<!-- 430 -->\n<g id=\"node431\" class=\"node\">\n<title>430</title>\n<polygon fill=\"none\" stroke=\"#000000\" points=\"12868,-877.5 12724,-877.5 12724,-824.5 12868,-824.5 12868,-877.5\"/>\n<text text-anchor=\"middle\" x=\"12796\" y=\"-862.3\" font-family=\"Helvetica,sans-Serif\" font-size=\"14.00\" fill=\"#000000\">squared_error = 0.0</text>\n<text text-anchor=\"middle\" x=\"12796\" y=\"-847.3\" font-family=\"Helvetica,sans-Serif\" font-size=\"14.00\" fill=\"#000000\">samples = 1</text>\n<text text-anchor=\"middle\" x=\"12796\" y=\"-832.3\" font-family=\"Helvetica,sans-Serif\" font-size=\"14.00\" fill=\"#000000\">value = 0.028</text>\n</g>\n<!-- 428&#45;&gt;430 -->\n<g id=\"edge430\" class=\"edge\">\n<title>428&#45;&gt;430</title>\n<path fill=\"none\" stroke=\"#000000\" d=\"M12796,-920.9465C12796,-910.2621 12796,-898.4254 12796,-887.5742\"/>\n<polygon fill=\"#000000\" stroke=\"#000000\" points=\"12799.5001,-887.5421 12796,-877.5422 12792.5001,-887.5422 12799.5001,-887.5421\"/>\n</g>\n<!-- 432 -->\n<g id=\"node433\" class=\"node\">\n<title>432</title>\n<polygon fill=\"none\" stroke=\"#000000\" points=\"13070,-1093 12926,-1093 12926,-1025 13070,-1025 13070,-1093\"/>\n<text text-anchor=\"middle\" x=\"12998\" y=\"-1077.8\" font-family=\"Helvetica,sans-Serif\" font-size=\"14.00\" fill=\"#000000\">X[7] &lt;= 0.05</text>\n<text text-anchor=\"middle\" x=\"12998\" y=\"-1062.8\" font-family=\"Helvetica,sans-Serif\" font-size=\"14.00\" fill=\"#000000\">squared_error = 0.0</text>\n<text text-anchor=\"middle\" x=\"12998\" y=\"-1047.8\" font-family=\"Helvetica,sans-Serif\" font-size=\"14.00\" fill=\"#000000\">samples = 3</text>\n<text text-anchor=\"middle\" x=\"12998\" y=\"-1032.8\" font-family=\"Helvetica,sans-Serif\" font-size=\"14.00\" fill=\"#000000\">value = 0.042</text>\n</g>\n<!-- 431&#45;&gt;432 -->\n<g id=\"edge432\" class=\"edge\">\n<title>431&#45;&gt;432</title>\n<path fill=\"none\" stroke=\"#000000\" d=\"M12998,-1128.9465C12998,-1120.776 12998,-1111.9318 12998,-1103.3697\"/>\n<polygon fill=\"#000000\" stroke=\"#000000\" points=\"13001.5001,-1103.13 12998,-1093.13 12994.5001,-1103.13 13001.5001,-1103.13\"/>\n</g>\n<!-- 437 -->\n<g id=\"node438\" class=\"node\">\n<title>437</title>\n<polygon fill=\"none\" stroke=\"#000000\" points=\"13313,-1093 13169,-1093 13169,-1025 13313,-1025 13313,-1093\"/>\n<text text-anchor=\"middle\" x=\"13241\" y=\"-1077.8\" font-family=\"Helvetica,sans-Serif\" font-size=\"14.00\" fill=\"#000000\">X[0] &lt;= 0.059</text>\n<text text-anchor=\"middle\" x=\"13241\" y=\"-1062.8\" font-family=\"Helvetica,sans-Serif\" font-size=\"14.00\" fill=\"#000000\">squared_error = 0.0</text>\n<text text-anchor=\"middle\" x=\"13241\" y=\"-1047.8\" font-family=\"Helvetica,sans-Serif\" font-size=\"14.00\" fill=\"#000000\">samples = 2</text>\n<text text-anchor=\"middle\" x=\"13241\" y=\"-1032.8\" font-family=\"Helvetica,sans-Serif\" font-size=\"14.00\" fill=\"#000000\">value = 0.046</text>\n</g>\n<!-- 431&#45;&gt;437 -->\n<g id=\"edge437\" class=\"edge\">\n<title>431&#45;&gt;437</title>\n<path fill=\"none\" stroke=\"#000000\" d=\"M13070.2501,-1132.0782C13098.2753,-1120.0838 13130.5086,-1106.2885 13159.3672,-1093.9375\"/>\n<polygon fill=\"#000000\" stroke=\"#000000\" points=\"13160.7924,-1097.1347 13168.6087,-1089.9823 13158.0381,-1090.6993 13160.7924,-1097.1347\"/>\n</g>\n<!-- 433 -->\n<g id=\"node434\" class=\"node\">\n<title>433</title>\n<polygon fill=\"none\" stroke=\"#000000\" points=\"13030,-989 12886,-989 12886,-921 13030,-921 13030,-989\"/>\n<text text-anchor=\"middle\" x=\"12958\" y=\"-973.8\" font-family=\"Helvetica,sans-Serif\" font-size=\"14.00\" fill=\"#000000\">X[20] &lt;= 0.025</text>\n<text text-anchor=\"middle\" x=\"12958\" y=\"-958.8\" font-family=\"Helvetica,sans-Serif\" font-size=\"14.00\" fill=\"#000000\">squared_error = 0.0</text>\n<text text-anchor=\"middle\" x=\"12958\" y=\"-943.8\" font-family=\"Helvetica,sans-Serif\" font-size=\"14.00\" fill=\"#000000\">samples = 2</text>\n<text text-anchor=\"middle\" x=\"12958\" y=\"-928.8\" font-family=\"Helvetica,sans-Serif\" font-size=\"14.00\" fill=\"#000000\">value = 0.043</text>\n</g>\n<!-- 432&#45;&gt;433 -->\n<g id=\"edge433\" class=\"edge\">\n<title>432&#45;&gt;433</title>\n<path fill=\"none\" stroke=\"#000000\" d=\"M12984.9025,-1024.9465C12981.6564,-1016.5067 12978.1338,-1007.3479 12974.7399,-998.5239\"/>\n<polygon fill=\"#000000\" stroke=\"#000000\" points=\"12977.9835,-997.207 12971.1269,-989.13 12971.4501,-999.7199 12977.9835,-997.207\"/>\n</g>\n<!-- 436 -->\n<g id=\"node437\" class=\"node\">\n<title>436</title>\n<polygon fill=\"none\" stroke=\"#000000\" points=\"13192,-981.5 13048,-981.5 13048,-928.5 13192,-928.5 13192,-981.5\"/>\n<text text-anchor=\"middle\" x=\"13120\" y=\"-966.3\" font-family=\"Helvetica,sans-Serif\" font-size=\"14.00\" fill=\"#000000\">squared_error = 0.0</text>\n<text text-anchor=\"middle\" x=\"13120\" y=\"-951.3\" font-family=\"Helvetica,sans-Serif\" font-size=\"14.00\" fill=\"#000000\">samples = 1</text>\n<text text-anchor=\"middle\" x=\"13120\" y=\"-936.3\" font-family=\"Helvetica,sans-Serif\" font-size=\"14.00\" fill=\"#000000\">value = 0.04</text>\n</g>\n<!-- 432&#45;&gt;436 -->\n<g id=\"edge436\" class=\"edge\">\n<title>432&#45;&gt;436</title>\n<path fill=\"none\" stroke=\"#000000\" d=\"M13037.9474,-1024.9465C13051.7732,-1013.1606 13067.2436,-999.9726 13080.9929,-988.2519\"/>\n<polygon fill=\"#000000\" stroke=\"#000000\" points=\"13083.5244,-990.6931 13088.864,-981.5422 13078.9832,-985.366 13083.5244,-990.6931\"/>\n</g>\n<!-- 434 -->\n<g id=\"node435\" class=\"node\">\n<title>434</title>\n<polygon fill=\"none\" stroke=\"#000000\" points=\"13030,-877.5 12886,-877.5 12886,-824.5 13030,-824.5 13030,-877.5\"/>\n<text text-anchor=\"middle\" x=\"12958\" y=\"-862.3\" font-family=\"Helvetica,sans-Serif\" font-size=\"14.00\" fill=\"#000000\">squared_error = 0.0</text>\n<text text-anchor=\"middle\" x=\"12958\" y=\"-847.3\" font-family=\"Helvetica,sans-Serif\" font-size=\"14.00\" fill=\"#000000\">samples = 1</text>\n<text text-anchor=\"middle\" x=\"12958\" y=\"-832.3\" font-family=\"Helvetica,sans-Serif\" font-size=\"14.00\" fill=\"#000000\">value = 0.042</text>\n</g>\n<!-- 433&#45;&gt;434 -->\n<g id=\"edge434\" class=\"edge\">\n<title>433&#45;&gt;434</title>\n<path fill=\"none\" stroke=\"#000000\" d=\"M12958,-920.9465C12958,-910.2621 12958,-898.4254 12958,-887.5742\"/>\n<polygon fill=\"#000000\" stroke=\"#000000\" points=\"12961.5001,-887.5421 12958,-877.5422 12954.5001,-887.5422 12961.5001,-887.5421\"/>\n</g>\n<!-- 435 -->\n<g id=\"node436\" class=\"node\">\n<title>435</title>\n<polygon fill=\"none\" stroke=\"#000000\" points=\"13192,-877.5 13048,-877.5 13048,-824.5 13192,-824.5 13192,-877.5\"/>\n<text text-anchor=\"middle\" x=\"13120\" y=\"-862.3\" font-family=\"Helvetica,sans-Serif\" font-size=\"14.00\" fill=\"#000000\">squared_error = 0.0</text>\n<text text-anchor=\"middle\" x=\"13120\" y=\"-847.3\" font-family=\"Helvetica,sans-Serif\" font-size=\"14.00\" fill=\"#000000\">samples = 1</text>\n<text text-anchor=\"middle\" x=\"13120\" y=\"-832.3\" font-family=\"Helvetica,sans-Serif\" font-size=\"14.00\" fill=\"#000000\">value = 0.043</text>\n</g>\n<!-- 433&#45;&gt;435 -->\n<g id=\"edge435\" class=\"edge\">\n<title>433&#45;&gt;435</title>\n<path fill=\"none\" stroke=\"#000000\" d=\"M13011.0449,-920.9465C13030.0043,-908.775 13051.2927,-895.1084 13069.9879,-883.1066\"/>\n<polygon fill=\"#000000\" stroke=\"#000000\" points=\"13072.1311,-885.8898 13078.6555,-877.5422 13068.3495,-879.9992 13072.1311,-885.8898\"/>\n</g>\n<!-- 438 -->\n<g id=\"node439\" class=\"node\">\n<title>438</title>\n<polygon fill=\"none\" stroke=\"#000000\" points=\"13354,-981.5 13210,-981.5 13210,-928.5 13354,-928.5 13354,-981.5\"/>\n<text text-anchor=\"middle\" x=\"13282\" y=\"-966.3\" font-family=\"Helvetica,sans-Serif\" font-size=\"14.00\" fill=\"#000000\">squared_error = 0.0</text>\n<text text-anchor=\"middle\" x=\"13282\" y=\"-951.3\" font-family=\"Helvetica,sans-Serif\" font-size=\"14.00\" fill=\"#000000\">samples = 1</text>\n<text text-anchor=\"middle\" x=\"13282\" y=\"-936.3\" font-family=\"Helvetica,sans-Serif\" font-size=\"14.00\" fill=\"#000000\">value = 0.045</text>\n</g>\n<!-- 437&#45;&gt;438 -->\n<g id=\"edge438\" class=\"edge\">\n<title>437&#45;&gt;438</title>\n<path fill=\"none\" stroke=\"#000000\" d=\"M13254.4249,-1024.9465C13258.7239,-1014.0418 13263.4961,-1001.9368 13267.8454,-990.9043\"/>\n<polygon fill=\"#000000\" stroke=\"#000000\" points=\"13271.1247,-992.129 13271.5363,-981.5422 13264.6125,-989.5617 13271.1247,-992.129\"/>\n</g>\n<!-- 439 -->\n<g id=\"node440\" class=\"node\">\n<title>439</title>\n<polygon fill=\"none\" stroke=\"#000000\" points=\"13521.5,-981.5 13372.5,-981.5 13372.5,-928.5 13521.5,-928.5 13521.5,-981.5\"/>\n<text text-anchor=\"middle\" x=\"13447\" y=\"-966.3\" font-family=\"Helvetica,sans-Serif\" font-size=\"14.00\" fill=\"#000000\">squared_error = &#45;0.0</text>\n<text text-anchor=\"middle\" x=\"13447\" y=\"-951.3\" font-family=\"Helvetica,sans-Serif\" font-size=\"14.00\" fill=\"#000000\">samples = 1</text>\n<text text-anchor=\"middle\" x=\"13447\" y=\"-936.3\" font-family=\"Helvetica,sans-Serif\" font-size=\"14.00\" fill=\"#000000\">value = 0.046</text>\n</g>\n<!-- 437&#45;&gt;439 -->\n<g id=\"edge439\" class=\"edge\">\n<title>437&#45;&gt;439</title>\n<path fill=\"none\" stroke=\"#000000\" d=\"M13308.4521,-1024.9465C13333.2155,-1012.4446 13361.1036,-998.3652 13385.3331,-986.1328\"/>\n<polygon fill=\"#000000\" stroke=\"#000000\" points=\"13387.0766,-989.1734 13394.4261,-981.5422 13383.9218,-982.9246 13387.0766,-989.1734\"/>\n</g>\n<!-- 441 -->\n<g id=\"node442\" class=\"node\">\n<title>441</title>\n<polygon fill=\"none\" stroke=\"#000000\" points=\"12444,-1509 12300,-1509 12300,-1441 12444,-1441 12444,-1509\"/>\n<text text-anchor=\"middle\" x=\"12372\" y=\"-1493.8\" font-family=\"Helvetica,sans-Serif\" font-size=\"14.00\" fill=\"#000000\">X[1] &lt;= 0.034</text>\n<text text-anchor=\"middle\" x=\"12372\" y=\"-1478.8\" font-family=\"Helvetica,sans-Serif\" font-size=\"14.00\" fill=\"#000000\">squared_error = 0.0</text>\n<text text-anchor=\"middle\" x=\"12372\" y=\"-1463.8\" font-family=\"Helvetica,sans-Serif\" font-size=\"14.00\" fill=\"#000000\">samples = 5</text>\n<text text-anchor=\"middle\" x=\"12372\" y=\"-1448.8\" font-family=\"Helvetica,sans-Serif\" font-size=\"14.00\" fill=\"#000000\">value = 0.061</text>\n</g>\n<!-- 440&#45;&gt;441 -->\n<g id=\"edge441\" class=\"edge\">\n<title>440&#45;&gt;441</title>\n<path fill=\"none\" stroke=\"#000000\" d=\"M12372,-1544.9465C12372,-1536.776 12372,-1527.9318 12372,-1519.3697\"/>\n<polygon fill=\"#000000\" stroke=\"#000000\" points=\"12375.5001,-1519.13 12372,-1509.13 12368.5001,-1519.13 12375.5001,-1519.13\"/>\n</g>\n<!-- 450 -->\n<g id=\"node451\" class=\"node\">\n<title>450</title>\n<polygon fill=\"none\" stroke=\"#000000\" points=\"12611.5,-1501.5 12462.5,-1501.5 12462.5,-1448.5 12611.5,-1448.5 12611.5,-1501.5\"/>\n<text text-anchor=\"middle\" x=\"12537\" y=\"-1486.3\" font-family=\"Helvetica,sans-Serif\" font-size=\"14.00\" fill=\"#000000\">squared_error = &#45;0.0</text>\n<text text-anchor=\"middle\" x=\"12537\" y=\"-1471.3\" font-family=\"Helvetica,sans-Serif\" font-size=\"14.00\" fill=\"#000000\">samples = 1</text>\n<text text-anchor=\"middle\" x=\"12537\" y=\"-1456.3\" font-family=\"Helvetica,sans-Serif\" font-size=\"14.00\" fill=\"#000000\">value = 0.109</text>\n</g>\n<!-- 440&#45;&gt;450 -->\n<g id=\"edge450\" class=\"edge\">\n<title>440&#45;&gt;450</title>\n<path fill=\"none\" stroke=\"#000000\" d=\"M12426.0272,-1544.9465C12445.4251,-1532.72 12467.2166,-1518.9847 12486.32,-1506.9437\"/>\n<polygon fill=\"#000000\" stroke=\"#000000\" points=\"12488.2964,-1509.8353 12494.8898,-1501.5422 12484.5638,-1503.9135 12488.2964,-1509.8353\"/>\n</g>\n<!-- 442 -->\n<g id=\"node443\" class=\"node\">\n<title>442</title>\n<polygon fill=\"none\" stroke=\"#000000\" points=\"12444,-1397.5 12300,-1397.5 12300,-1344.5 12444,-1344.5 12444,-1397.5\"/>\n<text text-anchor=\"middle\" x=\"12372\" y=\"-1382.3\" font-family=\"Helvetica,sans-Serif\" font-size=\"14.00\" fill=\"#000000\">squared_error = 0.0</text>\n<text text-anchor=\"middle\" x=\"12372\" y=\"-1367.3\" font-family=\"Helvetica,sans-Serif\" font-size=\"14.00\" fill=\"#000000\">samples = 1</text>\n<text text-anchor=\"middle\" x=\"12372\" y=\"-1352.3\" font-family=\"Helvetica,sans-Serif\" font-size=\"14.00\" fill=\"#000000\">value = 0.049</text>\n</g>\n<!-- 441&#45;&gt;442 -->\n<g id=\"edge442\" class=\"edge\">\n<title>441&#45;&gt;442</title>\n<path fill=\"none\" stroke=\"#000000\" d=\"M12372,-1440.9465C12372,-1430.2621 12372,-1418.4254 12372,-1407.5742\"/>\n<polygon fill=\"#000000\" stroke=\"#000000\" points=\"12375.5001,-1407.5421 12372,-1397.5422 12368.5001,-1407.5422 12375.5001,-1407.5421\"/>\n</g>\n<!-- 443 -->\n<g id=\"node444\" class=\"node\">\n<title>443</title>\n<polygon fill=\"none\" stroke=\"#000000\" points=\"13142,-1405 12998,-1405 12998,-1337 13142,-1337 13142,-1405\"/>\n<text text-anchor=\"middle\" x=\"13070\" y=\"-1389.8\" font-family=\"Helvetica,sans-Serif\" font-size=\"14.00\" fill=\"#000000\">X[33] &lt;= 0.009</text>\n<text text-anchor=\"middle\" x=\"13070\" y=\"-1374.8\" font-family=\"Helvetica,sans-Serif\" font-size=\"14.00\" fill=\"#000000\">squared_error = 0.0</text>\n<text text-anchor=\"middle\" x=\"13070\" y=\"-1359.8\" font-family=\"Helvetica,sans-Serif\" font-size=\"14.00\" fill=\"#000000\">samples = 4</text>\n<text text-anchor=\"middle\" x=\"13070\" y=\"-1344.8\" font-family=\"Helvetica,sans-Serif\" font-size=\"14.00\" fill=\"#000000\">value = 0.064</text>\n</g>\n<!-- 441&#45;&gt;443 -->\n<g id=\"edge443\" class=\"edge\">\n<title>441&#45;&gt;443</title>\n<path fill=\"none\" stroke=\"#000000\" d=\"M12444.0692,-1443.5532C12447.0639,-1442.6272 12450.0486,-1441.77 12453,-1441 12640.0086,-1392.2129 12867.6785,-1377.4276 12987.3493,-1372.9474\"/>\n<polygon fill=\"#000000\" stroke=\"#000000\" points=\"12987.6663,-1376.4383 12997.5341,-1372.5813 12987.4148,-1369.4428 12987.6663,-1376.4383\"/>\n</g>\n<!-- 444 -->\n<g id=\"node445\" class=\"node\">\n<title>444</title>\n<polygon fill=\"none\" stroke=\"#000000\" points=\"13142,-1293.5 12998,-1293.5 12998,-1240.5 13142,-1240.5 13142,-1293.5\"/>\n<text text-anchor=\"middle\" x=\"13070\" y=\"-1278.3\" font-family=\"Helvetica,sans-Serif\" font-size=\"14.00\" fill=\"#000000\">squared_error = 0.0</text>\n<text text-anchor=\"middle\" x=\"13070\" y=\"-1263.3\" font-family=\"Helvetica,sans-Serif\" font-size=\"14.00\" fill=\"#000000\">samples = 1</text>\n<text text-anchor=\"middle\" x=\"13070\" y=\"-1248.3\" font-family=\"Helvetica,sans-Serif\" font-size=\"14.00\" fill=\"#000000\">value = 0.059</text>\n</g>\n<!-- 443&#45;&gt;444 -->\n<g id=\"edge444\" class=\"edge\">\n<title>443&#45;&gt;444</title>\n<path fill=\"none\" stroke=\"#000000\" d=\"M13070,-1336.9465C13070,-1326.2621 13070,-1314.4254 13070,-1303.5742\"/>\n<polygon fill=\"#000000\" stroke=\"#000000\" points=\"13073.5001,-1303.5421 13070,-1293.5422 13066.5001,-1303.5422 13073.5001,-1303.5421\"/>\n</g>\n<!-- 445 -->\n<g id=\"node446\" class=\"node\">\n<title>445</title>\n<polygon fill=\"none\" stroke=\"#000000\" points=\"13475,-1301 13331,-1301 13331,-1233 13475,-1233 13475,-1301\"/>\n<text text-anchor=\"middle\" x=\"13403\" y=\"-1285.8\" font-family=\"Helvetica,sans-Serif\" font-size=\"14.00\" fill=\"#000000\">X[7] &lt;= 0.057</text>\n<text text-anchor=\"middle\" x=\"13403\" y=\"-1270.8\" font-family=\"Helvetica,sans-Serif\" font-size=\"14.00\" fill=\"#000000\">squared_error = 0.0</text>\n<text text-anchor=\"middle\" x=\"13403\" y=\"-1255.8\" font-family=\"Helvetica,sans-Serif\" font-size=\"14.00\" fill=\"#000000\">samples = 3</text>\n<text text-anchor=\"middle\" x=\"13403\" y=\"-1240.8\" font-family=\"Helvetica,sans-Serif\" font-size=\"14.00\" fill=\"#000000\">value = 0.066</text>\n</g>\n<!-- 443&#45;&gt;445 -->\n<g id=\"edge445\" class=\"edge\">\n<title>443&#45;&gt;445</title>\n<path fill=\"none\" stroke=\"#000000\" d=\"M13142.256,-1348.4335C13194.9476,-1331.9773 13266.4155,-1309.657 13321.2043,-1292.5458\"/>\n<polygon fill=\"#000000\" stroke=\"#000000\" points=\"13322.3831,-1295.8445 13330.885,-1289.5224 13320.2962,-1289.1627 13322.3831,-1295.8445\"/>\n</g>\n<!-- 446 -->\n<g id=\"node447\" class=\"node\">\n<title>446</title>\n<polygon fill=\"none\" stroke=\"#000000\" points=\"13475,-1197 13331,-1197 13331,-1129 13475,-1129 13475,-1197\"/>\n<text text-anchor=\"middle\" x=\"13403\" y=\"-1181.8\" font-family=\"Helvetica,sans-Serif\" font-size=\"14.00\" fill=\"#000000\">X[9] &lt;= 0.039</text>\n<text text-anchor=\"middle\" x=\"13403\" y=\"-1166.8\" font-family=\"Helvetica,sans-Serif\" font-size=\"14.00\" fill=\"#000000\">squared_error = 0.0</text>\n<text text-anchor=\"middle\" x=\"13403\" y=\"-1151.8\" font-family=\"Helvetica,sans-Serif\" font-size=\"14.00\" fill=\"#000000\">samples = 2</text>\n<text text-anchor=\"middle\" x=\"13403\" y=\"-1136.8\" font-family=\"Helvetica,sans-Serif\" font-size=\"14.00\" fill=\"#000000\">value = 0.064</text>\n</g>\n<!-- 445&#45;&gt;446 -->\n<g id=\"edge446\" class=\"edge\">\n<title>445&#45;&gt;446</title>\n<path fill=\"none\" stroke=\"#000000\" d=\"M13403,-1232.9465C13403,-1224.776 13403,-1215.9318 13403,-1207.3697\"/>\n<polygon fill=\"#000000\" stroke=\"#000000\" points=\"13406.5001,-1207.13 13403,-1197.13 13399.5001,-1207.13 13406.5001,-1207.13\"/>\n</g>\n<!-- 449 -->\n<g id=\"node450\" class=\"node\">\n<title>449</title>\n<polygon fill=\"none\" stroke=\"#000000\" points=\"13637,-1189.5 13493,-1189.5 13493,-1136.5 13637,-1136.5 13637,-1189.5\"/>\n<text text-anchor=\"middle\" x=\"13565\" y=\"-1174.3\" font-family=\"Helvetica,sans-Serif\" font-size=\"14.00\" fill=\"#000000\">squared_error = 0.0</text>\n<text text-anchor=\"middle\" x=\"13565\" y=\"-1159.3\" font-family=\"Helvetica,sans-Serif\" font-size=\"14.00\" fill=\"#000000\">samples = 1</text>\n<text text-anchor=\"middle\" x=\"13565\" y=\"-1144.3\" font-family=\"Helvetica,sans-Serif\" font-size=\"14.00\" fill=\"#000000\">value = 0.069</text>\n</g>\n<!-- 445&#45;&gt;449 -->\n<g id=\"edge449\" class=\"edge\">\n<title>445&#45;&gt;449</title>\n<path fill=\"none\" stroke=\"#000000\" d=\"M13456.0449,-1232.9465C13475.0043,-1220.775 13496.2927,-1207.1084 13514.9879,-1195.1066\"/>\n<polygon fill=\"#000000\" stroke=\"#000000\" points=\"13517.1311,-1197.8898 13523.6555,-1189.5422 13513.3495,-1191.9992 13517.1311,-1197.8898\"/>\n</g>\n<!-- 447 -->\n<g id=\"node448\" class=\"node\">\n<title>447</title>\n<polygon fill=\"none\" stroke=\"#000000\" points=\"13475,-1085.5 13331,-1085.5 13331,-1032.5 13475,-1032.5 13475,-1085.5\"/>\n<text text-anchor=\"middle\" x=\"13403\" y=\"-1070.3\" font-family=\"Helvetica,sans-Serif\" font-size=\"14.00\" fill=\"#000000\">squared_error = 0.0</text>\n<text text-anchor=\"middle\" x=\"13403\" y=\"-1055.3\" font-family=\"Helvetica,sans-Serif\" font-size=\"14.00\" fill=\"#000000\">samples = 1</text>\n<text text-anchor=\"middle\" x=\"13403\" y=\"-1040.3\" font-family=\"Helvetica,sans-Serif\" font-size=\"14.00\" fill=\"#000000\">value = 0.065</text>\n</g>\n<!-- 446&#45;&gt;447 -->\n<g id=\"edge447\" class=\"edge\">\n<title>446&#45;&gt;447</title>\n<path fill=\"none\" stroke=\"#000000\" d=\"M13403,-1128.9465C13403,-1118.2621 13403,-1106.4254 13403,-1095.5742\"/>\n<polygon fill=\"#000000\" stroke=\"#000000\" points=\"13406.5001,-1095.5421 13403,-1085.5422 13399.5001,-1095.5422 13406.5001,-1095.5421\"/>\n</g>\n<!-- 448 -->\n<g id=\"node449\" class=\"node\">\n<title>448</title>\n<polygon fill=\"none\" stroke=\"#000000\" points=\"13642.5,-1085.5 13493.5,-1085.5 13493.5,-1032.5 13642.5,-1032.5 13642.5,-1085.5\"/>\n<text text-anchor=\"middle\" x=\"13568\" y=\"-1070.3\" font-family=\"Helvetica,sans-Serif\" font-size=\"14.00\" fill=\"#000000\">squared_error = &#45;0.0</text>\n<text text-anchor=\"middle\" x=\"13568\" y=\"-1055.3\" font-family=\"Helvetica,sans-Serif\" font-size=\"14.00\" fill=\"#000000\">samples = 1</text>\n<text text-anchor=\"middle\" x=\"13568\" y=\"-1040.3\" font-family=\"Helvetica,sans-Serif\" font-size=\"14.00\" fill=\"#000000\">value = 0.064</text>\n</g>\n<!-- 446&#45;&gt;448 -->\n<g id=\"edge448\" class=\"edge\">\n<title>446&#45;&gt;448</title>\n<path fill=\"none\" stroke=\"#000000\" d=\"M13457.0272,-1128.9465C13476.4251,-1116.72 13498.2166,-1102.9847 13517.32,-1090.9437\"/>\n<polygon fill=\"#000000\" stroke=\"#000000\" points=\"13519.2964,-1093.8353 13525.8898,-1085.5422 13515.5638,-1087.9135 13519.2964,-1093.8353\"/>\n</g>\n</g>\n</svg>\n"
          },
          "metadata": {},
          "execution_count": 65
        }
      ],
      "id": "jgV-hlR4hF1s"
    },
    {
      "cell_type": "markdown",
      "source": [
        "From the above chart, most of the nodes have squared_error = 0.0, we conclude that regression is very poor on the data we have."
      ],
      "metadata": {
        "id": "zI4B7Hee5wtj"
      },
      "id": "zI4B7Hee5wtj"
    },
    {
      "cell_type": "markdown",
      "source": [
        "As a result, we conclude that the classification trees perform better."
      ],
      "metadata": {
        "id": "mf4xtjRM6Hz0"
      },
      "id": "mf4xtjRM6Hz0"
    },
    {
      "cell_type": "markdown",
      "source": [
        "# Support Vector Machines (SVM)"
      ],
      "metadata": {
        "id": "aR-lVUlM5_Xs"
      },
      "id": "aR-lVUlM5_Xs"
    },
    {
      "cell_type": "markdown",
      "source": [
        "Instead of running a regression tree, use SVM.  Use the original space of 35 variables\n",
        "\n",
        "Here, we use Support Vector Regression (SVR), the default kernel Radial Basis Function (RBF) and the Linear kernel as our kernels."
      ],
      "metadata": {
        "id": "IUTdokmLDR7I"
      },
      "id": "IUTdokmLDR7I"
    },
    {
      "cell_type": "code",
      "source": [
        "daily_return_copy_RT = dataset.pct_change(1).drop(labels='01-Jan-16', axis=0)\n",
        "daily_return_copy_RT.head(1)"
      ],
      "metadata": {
        "colab": {
          "base_uri": "https://localhost:8080/",
          "height": 275
        },
        "id": "jUvouSEFBlAt",
        "outputId": "0f1b28d6-b3f9-464f-b677-5dd793c8731f"
      },
      "id": "jUvouSEFBlAt",
      "execution_count": null,
      "outputs": [
        {
          "output_type": "execute_result",
          "data": {
            "text/plain": [
              "              LUXXX  MSCI ARGENTINA  BLP ORIENTE MEDIO  MSCI AUSTRALIA  \\\n",
              "Date                                                                     \n",
              "08-Jan-16 -0.071509        -0.04858          -0.069555        -0.05916   \n",
              "\n",
              "           MSCI AUSTRIA  MSCI BELGIUM  MSCI BRAZIL  MSCI CANADA  MSCI CHINA  \\\n",
              "Date                                                                          \n",
              "08-Jan-16     -0.084724     -0.057221    -0.081275    -0.046348   -0.081386   \n",
              "\n",
              "           MSCI DENMARK  ...  MSCI NORWAY  MSCI PERU  MSCI RUSSIA  \\\n",
              "Date                     ...                                        \n",
              "08-Jan-16     -0.044791  ...    -0.069017  -0.074967    -0.041213   \n",
              "\n",
              "           MSCI SINGAPORE  MSCI SOUTH AFRICA  MSCI SPAIN  MSCI SWEDEN  \\\n",
              "Date                                                                    \n",
              "08-Jan-16       -0.046524          -0.062106   -0.068266    -0.067051   \n",
              "\n",
              "           MSCI SWITZERLAND   MSCI UK  MSCI USA  \n",
              "Date                                             \n",
              "08-Jan-16         -0.063629 -0.053014  -0.06043  \n",
              "\n",
              "[1 rows x 35 columns]"
            ],
            "text/html": [
              "\n",
              "  <div id=\"df-849396bd-e3d1-4dd9-83fb-22119ed828e6\">\n",
              "    <div class=\"colab-df-container\">\n",
              "      <div>\n",
              "<style scoped>\n",
              "    .dataframe tbody tr th:only-of-type {\n",
              "        vertical-align: middle;\n",
              "    }\n",
              "\n",
              "    .dataframe tbody tr th {\n",
              "        vertical-align: top;\n",
              "    }\n",
              "\n",
              "    .dataframe thead th {\n",
              "        text-align: right;\n",
              "    }\n",
              "</style>\n",
              "<table border=\"1\" class=\"dataframe\">\n",
              "  <thead>\n",
              "    <tr style=\"text-align: right;\">\n",
              "      <th></th>\n",
              "      <th>LUXXX</th>\n",
              "      <th>MSCI ARGENTINA</th>\n",
              "      <th>BLP ORIENTE MEDIO</th>\n",
              "      <th>MSCI AUSTRALIA</th>\n",
              "      <th>MSCI AUSTRIA</th>\n",
              "      <th>MSCI BELGIUM</th>\n",
              "      <th>MSCI BRAZIL</th>\n",
              "      <th>MSCI CANADA</th>\n",
              "      <th>MSCI CHINA</th>\n",
              "      <th>MSCI DENMARK</th>\n",
              "      <th>...</th>\n",
              "      <th>MSCI NORWAY</th>\n",
              "      <th>MSCI PERU</th>\n",
              "      <th>MSCI RUSSIA</th>\n",
              "      <th>MSCI SINGAPORE</th>\n",
              "      <th>MSCI SOUTH AFRICA</th>\n",
              "      <th>MSCI SPAIN</th>\n",
              "      <th>MSCI SWEDEN</th>\n",
              "      <th>MSCI SWITZERLAND</th>\n",
              "      <th>MSCI UK</th>\n",
              "      <th>MSCI USA</th>\n",
              "    </tr>\n",
              "    <tr>\n",
              "      <th>Date</th>\n",
              "      <th></th>\n",
              "      <th></th>\n",
              "      <th></th>\n",
              "      <th></th>\n",
              "      <th></th>\n",
              "      <th></th>\n",
              "      <th></th>\n",
              "      <th></th>\n",
              "      <th></th>\n",
              "      <th></th>\n",
              "      <th></th>\n",
              "      <th></th>\n",
              "      <th></th>\n",
              "      <th></th>\n",
              "      <th></th>\n",
              "      <th></th>\n",
              "      <th></th>\n",
              "      <th></th>\n",
              "      <th></th>\n",
              "      <th></th>\n",
              "      <th></th>\n",
              "    </tr>\n",
              "  </thead>\n",
              "  <tbody>\n",
              "    <tr>\n",
              "      <th>08-Jan-16</th>\n",
              "      <td>-0.071509</td>\n",
              "      <td>-0.04858</td>\n",
              "      <td>-0.069555</td>\n",
              "      <td>-0.05916</td>\n",
              "      <td>-0.084724</td>\n",
              "      <td>-0.057221</td>\n",
              "      <td>-0.081275</td>\n",
              "      <td>-0.046348</td>\n",
              "      <td>-0.081386</td>\n",
              "      <td>-0.044791</td>\n",
              "      <td>...</td>\n",
              "      <td>-0.069017</td>\n",
              "      <td>-0.074967</td>\n",
              "      <td>-0.041213</td>\n",
              "      <td>-0.046524</td>\n",
              "      <td>-0.062106</td>\n",
              "      <td>-0.068266</td>\n",
              "      <td>-0.067051</td>\n",
              "      <td>-0.063629</td>\n",
              "      <td>-0.053014</td>\n",
              "      <td>-0.06043</td>\n",
              "    </tr>\n",
              "  </tbody>\n",
              "</table>\n",
              "<p>1 rows × 35 columns</p>\n",
              "</div>\n",
              "      <button class=\"colab-df-convert\" onclick=\"convertToInteractive('df-849396bd-e3d1-4dd9-83fb-22119ed828e6')\"\n",
              "              title=\"Convert this dataframe to an interactive table.\"\n",
              "              style=\"display:none;\">\n",
              "        \n",
              "  <svg xmlns=\"http://www.w3.org/2000/svg\" height=\"24px\"viewBox=\"0 0 24 24\"\n",
              "       width=\"24px\">\n",
              "    <path d=\"M0 0h24v24H0V0z\" fill=\"none\"/>\n",
              "    <path d=\"M18.56 5.44l.94 2.06.94-2.06 2.06-.94-2.06-.94-.94-2.06-.94 2.06-2.06.94zm-11 1L8.5 8.5l.94-2.06 2.06-.94-2.06-.94L8.5 2.5l-.94 2.06-2.06.94zm10 10l.94 2.06.94-2.06 2.06-.94-2.06-.94-.94-2.06-.94 2.06-2.06.94z\"/><path d=\"M17.41 7.96l-1.37-1.37c-.4-.4-.92-.59-1.43-.59-.52 0-1.04.2-1.43.59L10.3 9.45l-7.72 7.72c-.78.78-.78 2.05 0 2.83L4 21.41c.39.39.9.59 1.41.59.51 0 1.02-.2 1.41-.59l7.78-7.78 2.81-2.81c.8-.78.8-2.07 0-2.86zM5.41 20L4 18.59l7.72-7.72 1.47 1.35L5.41 20z\"/>\n",
              "  </svg>\n",
              "      </button>\n",
              "      \n",
              "  <style>\n",
              "    .colab-df-container {\n",
              "      display:flex;\n",
              "      flex-wrap:wrap;\n",
              "      gap: 12px;\n",
              "    }\n",
              "\n",
              "    .colab-df-convert {\n",
              "      background-color: #E8F0FE;\n",
              "      border: none;\n",
              "      border-radius: 50%;\n",
              "      cursor: pointer;\n",
              "      display: none;\n",
              "      fill: #1967D2;\n",
              "      height: 32px;\n",
              "      padding: 0 0 0 0;\n",
              "      width: 32px;\n",
              "    }\n",
              "\n",
              "    .colab-df-convert:hover {\n",
              "      background-color: #E2EBFA;\n",
              "      box-shadow: 0px 1px 2px rgba(60, 64, 67, 0.3), 0px 1px 3px 1px rgba(60, 64, 67, 0.15);\n",
              "      fill: #174EA6;\n",
              "    }\n",
              "\n",
              "    [theme=dark] .colab-df-convert {\n",
              "      background-color: #3B4455;\n",
              "      fill: #D2E3FC;\n",
              "    }\n",
              "\n",
              "    [theme=dark] .colab-df-convert:hover {\n",
              "      background-color: #434B5C;\n",
              "      box-shadow: 0px 1px 3px 1px rgba(0, 0, 0, 0.15);\n",
              "      filter: drop-shadow(0px 1px 2px rgba(0, 0, 0, 0.3));\n",
              "      fill: #FFFFFF;\n",
              "    }\n",
              "  </style>\n",
              "\n",
              "      <script>\n",
              "        const buttonEl =\n",
              "          document.querySelector('#df-849396bd-e3d1-4dd9-83fb-22119ed828e6 button.colab-df-convert');\n",
              "        buttonEl.style.display =\n",
              "          google.colab.kernel.accessAllowed ? 'block' : 'none';\n",
              "\n",
              "        async function convertToInteractive(key) {\n",
              "          const element = document.querySelector('#df-849396bd-e3d1-4dd9-83fb-22119ed828e6');\n",
              "          const dataTable =\n",
              "            await google.colab.kernel.invokeFunction('convertToInteractive',\n",
              "                                                     [key], {});\n",
              "          if (!dataTable) return;\n",
              "\n",
              "          const docLinkHtml = 'Like what you see? Visit the ' +\n",
              "            '<a target=\"_blank\" href=https://colab.research.google.com/notebooks/data_table.ipynb>data table notebook</a>'\n",
              "            + ' to learn more about interactive tables.';\n",
              "          element.innerHTML = '';\n",
              "          dataTable['output_type'] = 'display_data';\n",
              "          await google.colab.output.renderOutput(dataTable, element);\n",
              "          const docLink = document.createElement('div');\n",
              "          docLink.innerHTML = docLinkHtml;\n",
              "          element.appendChild(docLink);\n",
              "        }\n",
              "      </script>\n",
              "    </div>\n",
              "  </div>\n",
              "  "
            ]
          },
          "metadata": {},
          "execution_count": 66
        }
      ]
    },
    {
      "cell_type": "code",
      "source": [
        "# Validation Set approach : take 80% of the data as the training set and 20 % as the test set. \n",
        "# X is a dataframe with  the input variable\n",
        "\n",
        "X = daily_return_copy_RT.iloc[:,1:36]\n",
        "\n",
        "X.reset_index(inplace=True)\n",
        "X.drop(labels='Date', axis=1, inplace=True)\n",
        "# X = pd.DataFrame(X)\n",
        "\n",
        "X.head(1)"
      ],
      "metadata": {
        "colab": {
          "base_uri": "https://localhost:8080/",
          "height": 296
        },
        "id": "LjvVs4nRBky3",
        "outputId": "6a530d1b-4c10-45ca-c95a-a94d5fa92756"
      },
      "id": "LjvVs4nRBky3",
      "execution_count": null,
      "outputs": [
        {
          "output_type": "stream",
          "name": "stderr",
          "text": [
            "/usr/local/lib/python3.7/dist-packages/pandas/core/frame.py:4913: SettingWithCopyWarning: \n",
            "A value is trying to be set on a copy of a slice from a DataFrame\n",
            "\n",
            "See the caveats in the documentation: https://pandas.pydata.org/pandas-docs/stable/user_guide/indexing.html#returning-a-view-versus-a-copy\n",
            "  errors=errors,\n"
          ]
        },
        {
          "output_type": "execute_result",
          "data": {
            "text/plain": [
              "   MSCI ARGENTINA  BLP ORIENTE MEDIO  MSCI AUSTRALIA  MSCI AUSTRIA  \\\n",
              "0        -0.04858          -0.069555        -0.05916     -0.084724   \n",
              "\n",
              "   MSCI BELGIUM  MSCI BRAZIL  MSCI CANADA  MSCI CHINA  MSCI DENMARK  \\\n",
              "0     -0.057221    -0.081275    -0.046348   -0.081386     -0.044791   \n",
              "\n",
              "   MSCI EM ASIA  ...  MSCI NORWAY  MSCI PERU  MSCI RUSSIA  MSCI SINGAPORE  \\\n",
              "0     -0.064435  ...    -0.069017  -0.074967    -0.041213       -0.046524   \n",
              "\n",
              "   MSCI SOUTH AFRICA  MSCI SPAIN  MSCI SWEDEN  MSCI SWITZERLAND   MSCI UK  \\\n",
              "0          -0.062106   -0.068266    -0.067051         -0.063629 -0.053014   \n",
              "\n",
              "   MSCI USA  \n",
              "0  -0.06043  \n",
              "\n",
              "[1 rows x 34 columns]"
            ],
            "text/html": [
              "\n",
              "  <div id=\"df-e6da3ffe-26cf-465e-805d-b75197e6c9b2\">\n",
              "    <div class=\"colab-df-container\">\n",
              "      <div>\n",
              "<style scoped>\n",
              "    .dataframe tbody tr th:only-of-type {\n",
              "        vertical-align: middle;\n",
              "    }\n",
              "\n",
              "    .dataframe tbody tr th {\n",
              "        vertical-align: top;\n",
              "    }\n",
              "\n",
              "    .dataframe thead th {\n",
              "        text-align: right;\n",
              "    }\n",
              "</style>\n",
              "<table border=\"1\" class=\"dataframe\">\n",
              "  <thead>\n",
              "    <tr style=\"text-align: right;\">\n",
              "      <th></th>\n",
              "      <th>MSCI ARGENTINA</th>\n",
              "      <th>BLP ORIENTE MEDIO</th>\n",
              "      <th>MSCI AUSTRALIA</th>\n",
              "      <th>MSCI AUSTRIA</th>\n",
              "      <th>MSCI BELGIUM</th>\n",
              "      <th>MSCI BRAZIL</th>\n",
              "      <th>MSCI CANADA</th>\n",
              "      <th>MSCI CHINA</th>\n",
              "      <th>MSCI DENMARK</th>\n",
              "      <th>MSCI EM ASIA</th>\n",
              "      <th>...</th>\n",
              "      <th>MSCI NORWAY</th>\n",
              "      <th>MSCI PERU</th>\n",
              "      <th>MSCI RUSSIA</th>\n",
              "      <th>MSCI SINGAPORE</th>\n",
              "      <th>MSCI SOUTH AFRICA</th>\n",
              "      <th>MSCI SPAIN</th>\n",
              "      <th>MSCI SWEDEN</th>\n",
              "      <th>MSCI SWITZERLAND</th>\n",
              "      <th>MSCI UK</th>\n",
              "      <th>MSCI USA</th>\n",
              "    </tr>\n",
              "  </thead>\n",
              "  <tbody>\n",
              "    <tr>\n",
              "      <th>0</th>\n",
              "      <td>-0.04858</td>\n",
              "      <td>-0.069555</td>\n",
              "      <td>-0.05916</td>\n",
              "      <td>-0.084724</td>\n",
              "      <td>-0.057221</td>\n",
              "      <td>-0.081275</td>\n",
              "      <td>-0.046348</td>\n",
              "      <td>-0.081386</td>\n",
              "      <td>-0.044791</td>\n",
              "      <td>-0.064435</td>\n",
              "      <td>...</td>\n",
              "      <td>-0.069017</td>\n",
              "      <td>-0.074967</td>\n",
              "      <td>-0.041213</td>\n",
              "      <td>-0.046524</td>\n",
              "      <td>-0.062106</td>\n",
              "      <td>-0.068266</td>\n",
              "      <td>-0.067051</td>\n",
              "      <td>-0.063629</td>\n",
              "      <td>-0.053014</td>\n",
              "      <td>-0.06043</td>\n",
              "    </tr>\n",
              "  </tbody>\n",
              "</table>\n",
              "<p>1 rows × 34 columns</p>\n",
              "</div>\n",
              "      <button class=\"colab-df-convert\" onclick=\"convertToInteractive('df-e6da3ffe-26cf-465e-805d-b75197e6c9b2')\"\n",
              "              title=\"Convert this dataframe to an interactive table.\"\n",
              "              style=\"display:none;\">\n",
              "        \n",
              "  <svg xmlns=\"http://www.w3.org/2000/svg\" height=\"24px\"viewBox=\"0 0 24 24\"\n",
              "       width=\"24px\">\n",
              "    <path d=\"M0 0h24v24H0V0z\" fill=\"none\"/>\n",
              "    <path d=\"M18.56 5.44l.94 2.06.94-2.06 2.06-.94-2.06-.94-.94-2.06-.94 2.06-2.06.94zm-11 1L8.5 8.5l.94-2.06 2.06-.94-2.06-.94L8.5 2.5l-.94 2.06-2.06.94zm10 10l.94 2.06.94-2.06 2.06-.94-2.06-.94-.94-2.06-.94 2.06-2.06.94z\"/><path d=\"M17.41 7.96l-1.37-1.37c-.4-.4-.92-.59-1.43-.59-.52 0-1.04.2-1.43.59L10.3 9.45l-7.72 7.72c-.78.78-.78 2.05 0 2.83L4 21.41c.39.39.9.59 1.41.59.51 0 1.02-.2 1.41-.59l7.78-7.78 2.81-2.81c.8-.78.8-2.07 0-2.86zM5.41 20L4 18.59l7.72-7.72 1.47 1.35L5.41 20z\"/>\n",
              "  </svg>\n",
              "      </button>\n",
              "      \n",
              "  <style>\n",
              "    .colab-df-container {\n",
              "      display:flex;\n",
              "      flex-wrap:wrap;\n",
              "      gap: 12px;\n",
              "    }\n",
              "\n",
              "    .colab-df-convert {\n",
              "      background-color: #E8F0FE;\n",
              "      border: none;\n",
              "      border-radius: 50%;\n",
              "      cursor: pointer;\n",
              "      display: none;\n",
              "      fill: #1967D2;\n",
              "      height: 32px;\n",
              "      padding: 0 0 0 0;\n",
              "      width: 32px;\n",
              "    }\n",
              "\n",
              "    .colab-df-convert:hover {\n",
              "      background-color: #E2EBFA;\n",
              "      box-shadow: 0px 1px 2px rgba(60, 64, 67, 0.3), 0px 1px 3px 1px rgba(60, 64, 67, 0.15);\n",
              "      fill: #174EA6;\n",
              "    }\n",
              "\n",
              "    [theme=dark] .colab-df-convert {\n",
              "      background-color: #3B4455;\n",
              "      fill: #D2E3FC;\n",
              "    }\n",
              "\n",
              "    [theme=dark] .colab-df-convert:hover {\n",
              "      background-color: #434B5C;\n",
              "      box-shadow: 0px 1px 3px 1px rgba(0, 0, 0, 0.15);\n",
              "      filter: drop-shadow(0px 1px 2px rgba(0, 0, 0, 0.3));\n",
              "      fill: #FFFFFF;\n",
              "    }\n",
              "  </style>\n",
              "\n",
              "      <script>\n",
              "        const buttonEl =\n",
              "          document.querySelector('#df-e6da3ffe-26cf-465e-805d-b75197e6c9b2 button.colab-df-convert');\n",
              "        buttonEl.style.display =\n",
              "          google.colab.kernel.accessAllowed ? 'block' : 'none';\n",
              "\n",
              "        async function convertToInteractive(key) {\n",
              "          const element = document.querySelector('#df-e6da3ffe-26cf-465e-805d-b75197e6c9b2');\n",
              "          const dataTable =\n",
              "            await google.colab.kernel.invokeFunction('convertToInteractive',\n",
              "                                                     [key], {});\n",
              "          if (!dataTable) return;\n",
              "\n",
              "          const docLinkHtml = 'Like what you see? Visit the ' +\n",
              "            '<a target=\"_blank\" href=https://colab.research.google.com/notebooks/data_table.ipynb>data table notebook</a>'\n",
              "            + ' to learn more about interactive tables.';\n",
              "          element.innerHTML = '';\n",
              "          dataTable['output_type'] = 'display_data';\n",
              "          await google.colab.output.renderOutput(dataTable, element);\n",
              "          const docLink = document.createElement('div');\n",
              "          docLink.innerHTML = docLinkHtml;\n",
              "          element.appendChild(docLink);\n",
              "        }\n",
              "      </script>\n",
              "    </div>\n",
              "  </div>\n",
              "  "
            ]
          },
          "metadata": {},
          "execution_count": 67
        }
      ]
    },
    {
      "cell_type": "code",
      "source": [
        "# # Y is the target or output variable \n",
        "y = daily_return_copy_RT.iloc[:,0:1]\n",
        "\n",
        "y.reset_index(inplace=True)\n",
        "y.drop(labels='Date', axis=1,inplace=True)\n",
        "# y = pd.DataFrame(y)\n",
        "\n",
        "y.head(2)"
      ],
      "metadata": {
        "colab": {
          "base_uri": "https://localhost:8080/",
          "height": 198
        },
        "id": "WxYyoAjFBknJ",
        "outputId": "b9d9f012-3074-4fa8-d273-2cbe84fb22b0"
      },
      "id": "WxYyoAjFBknJ",
      "execution_count": null,
      "outputs": [
        {
          "output_type": "stream",
          "name": "stderr",
          "text": [
            "/usr/local/lib/python3.7/dist-packages/pandas/core/frame.py:4913: SettingWithCopyWarning: \n",
            "A value is trying to be set on a copy of a slice from a DataFrame\n",
            "\n",
            "See the caveats in the documentation: https://pandas.pydata.org/pandas-docs/stable/user_guide/indexing.html#returning-a-view-versus-a-copy\n",
            "  errors=errors,\n"
          ]
        },
        {
          "output_type": "execute_result",
          "data": {
            "text/plain": [
              "      LUXXX\n",
              "0 -0.071509\n",
              "1 -0.026471"
            ],
            "text/html": [
              "\n",
              "  <div id=\"df-df48f3e5-f5b4-460a-bf45-b61cbd098853\">\n",
              "    <div class=\"colab-df-container\">\n",
              "      <div>\n",
              "<style scoped>\n",
              "    .dataframe tbody tr th:only-of-type {\n",
              "        vertical-align: middle;\n",
              "    }\n",
              "\n",
              "    .dataframe tbody tr th {\n",
              "        vertical-align: top;\n",
              "    }\n",
              "\n",
              "    .dataframe thead th {\n",
              "        text-align: right;\n",
              "    }\n",
              "</style>\n",
              "<table border=\"1\" class=\"dataframe\">\n",
              "  <thead>\n",
              "    <tr style=\"text-align: right;\">\n",
              "      <th></th>\n",
              "      <th>LUXXX</th>\n",
              "    </tr>\n",
              "  </thead>\n",
              "  <tbody>\n",
              "    <tr>\n",
              "      <th>0</th>\n",
              "      <td>-0.071509</td>\n",
              "    </tr>\n",
              "    <tr>\n",
              "      <th>1</th>\n",
              "      <td>-0.026471</td>\n",
              "    </tr>\n",
              "  </tbody>\n",
              "</table>\n",
              "</div>\n",
              "      <button class=\"colab-df-convert\" onclick=\"convertToInteractive('df-df48f3e5-f5b4-460a-bf45-b61cbd098853')\"\n",
              "              title=\"Convert this dataframe to an interactive table.\"\n",
              "              style=\"display:none;\">\n",
              "        \n",
              "  <svg xmlns=\"http://www.w3.org/2000/svg\" height=\"24px\"viewBox=\"0 0 24 24\"\n",
              "       width=\"24px\">\n",
              "    <path d=\"M0 0h24v24H0V0z\" fill=\"none\"/>\n",
              "    <path d=\"M18.56 5.44l.94 2.06.94-2.06 2.06-.94-2.06-.94-.94-2.06-.94 2.06-2.06.94zm-11 1L8.5 8.5l.94-2.06 2.06-.94-2.06-.94L8.5 2.5l-.94 2.06-2.06.94zm10 10l.94 2.06.94-2.06 2.06-.94-2.06-.94-.94-2.06-.94 2.06-2.06.94z\"/><path d=\"M17.41 7.96l-1.37-1.37c-.4-.4-.92-.59-1.43-.59-.52 0-1.04.2-1.43.59L10.3 9.45l-7.72 7.72c-.78.78-.78 2.05 0 2.83L4 21.41c.39.39.9.59 1.41.59.51 0 1.02-.2 1.41-.59l7.78-7.78 2.81-2.81c.8-.78.8-2.07 0-2.86zM5.41 20L4 18.59l7.72-7.72 1.47 1.35L5.41 20z\"/>\n",
              "  </svg>\n",
              "      </button>\n",
              "      \n",
              "  <style>\n",
              "    .colab-df-container {\n",
              "      display:flex;\n",
              "      flex-wrap:wrap;\n",
              "      gap: 12px;\n",
              "    }\n",
              "\n",
              "    .colab-df-convert {\n",
              "      background-color: #E8F0FE;\n",
              "      border: none;\n",
              "      border-radius: 50%;\n",
              "      cursor: pointer;\n",
              "      display: none;\n",
              "      fill: #1967D2;\n",
              "      height: 32px;\n",
              "      padding: 0 0 0 0;\n",
              "      width: 32px;\n",
              "    }\n",
              "\n",
              "    .colab-df-convert:hover {\n",
              "      background-color: #E2EBFA;\n",
              "      box-shadow: 0px 1px 2px rgba(60, 64, 67, 0.3), 0px 1px 3px 1px rgba(60, 64, 67, 0.15);\n",
              "      fill: #174EA6;\n",
              "    }\n",
              "\n",
              "    [theme=dark] .colab-df-convert {\n",
              "      background-color: #3B4455;\n",
              "      fill: #D2E3FC;\n",
              "    }\n",
              "\n",
              "    [theme=dark] .colab-df-convert:hover {\n",
              "      background-color: #434B5C;\n",
              "      box-shadow: 0px 1px 3px 1px rgba(0, 0, 0, 0.15);\n",
              "      filter: drop-shadow(0px 1px 2px rgba(0, 0, 0, 0.3));\n",
              "      fill: #FFFFFF;\n",
              "    }\n",
              "  </style>\n",
              "\n",
              "      <script>\n",
              "        const buttonEl =\n",
              "          document.querySelector('#df-df48f3e5-f5b4-460a-bf45-b61cbd098853 button.colab-df-convert');\n",
              "        buttonEl.style.display =\n",
              "          google.colab.kernel.accessAllowed ? 'block' : 'none';\n",
              "\n",
              "        async function convertToInteractive(key) {\n",
              "          const element = document.querySelector('#df-df48f3e5-f5b4-460a-bf45-b61cbd098853');\n",
              "          const dataTable =\n",
              "            await google.colab.kernel.invokeFunction('convertToInteractive',\n",
              "                                                     [key], {});\n",
              "          if (!dataTable) return;\n",
              "\n",
              "          const docLinkHtml = 'Like what you see? Visit the ' +\n",
              "            '<a target=\"_blank\" href=https://colab.research.google.com/notebooks/data_table.ipynb>data table notebook</a>'\n",
              "            + ' to learn more about interactive tables.';\n",
              "          element.innerHTML = '';\n",
              "          dataTable['output_type'] = 'display_data';\n",
              "          await google.colab.output.renderOutput(dataTable, element);\n",
              "          const docLink = document.createElement('div');\n",
              "          docLink.innerHTML = docLinkHtml;\n",
              "          element.appendChild(docLink);\n",
              "        }\n",
              "      </script>\n",
              "    </div>\n",
              "  </div>\n",
              "  "
            ]
          },
          "metadata": {},
          "execution_count": 68
        }
      ]
    },
    {
      "cell_type": "code",
      "source": [
        "length_to_split = int(len(X) * 0.8)\n",
        "# Splitting the X and y into train and test datasets for default model\n",
        "X_train, X_test = X[:length_to_split], X[length_to_split:]\n",
        "y_train, y_test = y[:length_to_split], y[length_to_split:]\n",
        " \n",
        "# Print the size of the train and test dataset\n",
        "print(X_train.shape, X_test.shape)\n",
        "print(y_train.shape, y_test.shape)"
      ],
      "metadata": {
        "colab": {
          "base_uri": "https://localhost:8080/"
        },
        "id": "zWhlB2TdBkbm",
        "outputId": "578ac04d-218a-4faf-e32c-2101ecc1a109"
      },
      "id": "zWhlB2TdBkbm",
      "execution_count": null,
      "outputs": [
        {
          "output_type": "stream",
          "name": "stdout",
          "text": [
            "(200, 34) (51, 34)\n",
            "(200, 1) (51, 1)\n"
          ]
        }
      ]
    },
    {
      "cell_type": "markdown",
      "source": [
        "Instead of running a regression tree, use SVM.  Use the original space of 35 variables"
      ],
      "metadata": {
        "id": "EThRShiz6Ce7"
      },
      "id": "EThRShiz6Ce7"
    },
    {
      "cell_type": "code",
      "source": [
        "from sklearn import svm\n",
        "\n",
        "regr1 = svm.SVR(kernel='linear')\n",
        "regr2 = svm.SVR(kernel=\"rbf\")\n",
        "\n",
        "regr1.fit(X_train, y_train)\n",
        "regr2.fit(X_train, y_train)"
      ],
      "metadata": {
        "colab": {
          "base_uri": "https://localhost:8080/"
        },
        "id": "5kmNC5TR56Wk",
        "outputId": "462fff83-e669-489e-bff3-8391d201f4b1"
      },
      "id": "5kmNC5TR56Wk",
      "execution_count": null,
      "outputs": [
        {
          "output_type": "stream",
          "name": "stderr",
          "text": [
            "/usr/local/lib/python3.7/dist-packages/sklearn/utils/validation.py:993: DataConversionWarning: A column-vector y was passed when a 1d array was expected. Please change the shape of y to (n_samples, ), for example using ravel().\n",
            "  y = column_or_1d(y, warn=True)\n",
            "/usr/local/lib/python3.7/dist-packages/sklearn/utils/validation.py:993: DataConversionWarning: A column-vector y was passed when a 1d array was expected. Please change the shape of y to (n_samples, ), for example using ravel().\n",
            "  y = column_or_1d(y, warn=True)\n"
          ]
        },
        {
          "output_type": "execute_result",
          "data": {
            "text/plain": [
              "SVR()"
            ]
          },
          "metadata": {},
          "execution_count": 70
        }
      ]
    },
    {
      "cell_type": "code",
      "source": [
        "print(regr1.score(X_test,y_test)*100)\n",
        "print(regr2.score(X_test,y_test)*100)"
      ],
      "metadata": {
        "colab": {
          "base_uri": "https://localhost:8080/"
        },
        "id": "0ClNKKpN78AR",
        "outputId": "a5c9c913-7f7a-4af9-d8ff-57526d02e3d4"
      },
      "id": "0ClNKKpN78AR",
      "execution_count": null,
      "outputs": [
        {
          "output_type": "stream",
          "name": "stdout",
          "text": [
            "-9.740833889653743\n",
            "-9.740833889653743\n"
          ]
        }
      ]
    },
    {
      "cell_type": "markdown",
      "source": [
        "The above shows that the regression is very awful for the data. "
      ],
      "metadata": {
        "id": "hyaHeE7LPgpk"
      },
      "id": "hyaHeE7LPgpk"
    },
    {
      "cell_type": "markdown",
      "source": [
        "Using SVM classification algorithm."
      ],
      "metadata": {
        "id": "lWSzB_D0MJaX"
      },
      "id": "lWSzB_D0MJaX"
    },
    {
      "cell_type": "code",
      "source": [
        "from sklearn.pipeline import make_pipeline\n",
        "from sklearn.svm import SVC\n",
        "from sklearn.preprocessing import StandardScaler\n",
        "\n",
        "svmModelPipe = make_pipeline(StandardScaler(), SVC(kernel = 'linear', gamma = 'scale'))"
      ],
      "metadata": {
        "id": "cpwCBHvE9JXd"
      },
      "id": "cpwCBHvE9JXd",
      "execution_count": null,
      "outputs": []
    },
    {
      "cell_type": "code",
      "source": [
        "# Validation Set approach : take 80% of the data as the training set and 20 % as the test set. \n",
        "# X is a dataframe with  the input variable\n",
        "\n",
        "X = daily_return_copy_CT.iloc[:,:34]\n",
        "\n",
        "X.reset_index(inplace=True)\n",
        "X.drop(labels='Date', axis=1, inplace=True)\n",
        "X = pd.DataFrame(X)\n",
        "\n",
        "X.head(1)\n",
        "\n",
        "\n",
        "# ------------------------------------\n",
        "\n",
        "# # Y is the target or output variable \n",
        "y = daily_return_copy_CT.iloc[:,-1:]\n",
        "\n",
        "y.reset_index(inplace=True)\n",
        "y.drop(labels='Date', axis=1,inplace=True)\n",
        "y = pd.DataFrame(y)\n",
        "\n",
        "y.head(2)\n",
        "\n",
        "# -------------------------------\n",
        "\n",
        "length_to_split = int(len(X) * 0.8)\n",
        "# Splitting the X and y into train and test datasets for default model\n",
        "X_train, X_test = X[:length_to_split], X[length_to_split:]\n",
        "y_train, y_test = y[:length_to_split], y[length_to_split:]\n",
        " \n",
        "# Print the size of the train and test dataset\n",
        "print(X_train.shape, X_test.shape)\n",
        "print(y_train.shape, y_test.shape)"
      ],
      "metadata": {
        "colab": {
          "base_uri": "https://localhost:8080/"
        },
        "id": "MIVoHyonM0Jp",
        "outputId": "46d3f2c6-2d53-4e3d-b51e-91f288f8f735"
      },
      "id": "MIVoHyonM0Jp",
      "execution_count": null,
      "outputs": [
        {
          "output_type": "stream",
          "name": "stdout",
          "text": [
            "(200, 34) (51, 34)\n",
            "(200, 1) (51, 1)\n"
          ]
        },
        {
          "output_type": "stream",
          "name": "stderr",
          "text": [
            "/usr/local/lib/python3.7/dist-packages/pandas/core/frame.py:4913: SettingWithCopyWarning: \n",
            "A value is trying to be set on a copy of a slice from a DataFrame\n",
            "\n",
            "See the caveats in the documentation: https://pandas.pydata.org/pandas-docs/stable/user_guide/indexing.html#returning-a-view-versus-a-copy\n",
            "  errors=errors,\n"
          ]
        }
      ]
    },
    {
      "cell_type": "code",
      "source": [
        "model = svmModelPipe.fit(X_train, y_train)\n",
        "model"
      ],
      "metadata": {
        "id": "tjSbkl1h9PSw",
        "colab": {
          "base_uri": "https://localhost:8080/"
        },
        "outputId": "47a912fe-d19e-4abf-991f-2a9ad094d834"
      },
      "id": "tjSbkl1h9PSw",
      "execution_count": null,
      "outputs": [
        {
          "output_type": "stream",
          "name": "stderr",
          "text": [
            "/usr/local/lib/python3.7/dist-packages/sklearn/utils/validation.py:993: DataConversionWarning: A column-vector y was passed when a 1d array was expected. Please change the shape of y to (n_samples, ), for example using ravel().\n",
            "  y = column_or_1d(y, warn=True)\n"
          ]
        },
        {
          "output_type": "execute_result",
          "data": {
            "text/plain": [
              "Pipeline(steps=[('standardscaler', StandardScaler()),\n",
              "                ('svc', SVC(kernel='linear'))])"
            ]
          },
          "metadata": {},
          "execution_count": 79
        }
      ]
    },
    {
      "cell_type": "code",
      "source": [
        "pred_labels_te = model.predict(X_test)\n",
        "pred_labels_tr = model.predict(X_train)\n",
        "\n",
        "accuracy_score(y_test, model.predict(X_test), normalize=True)"
      ],
      "metadata": {
        "colab": {
          "base_uri": "https://localhost:8080/"
        },
        "id": "DSyQBH1XNguX",
        "outputId": "e94ab74a-989f-4269-cacb-17b3bd703e77"
      },
      "id": "DSyQBH1XNguX",
      "execution_count": null,
      "outputs": [
        {
          "output_type": "execute_result",
          "data": {
            "text/plain": [
              "0.803921568627451"
            ]
          },
          "metadata": {},
          "execution_count": 85
        }
      ]
    },
    {
      "cell_type": "code",
      "source": [
        "    print('*************** Evaluation on Test Data ***************')\n",
        "    score_te = model.score(X_test, y_test)\n",
        "    print('Accuracy Score: ', score_te)\n",
        "    # Look at classification report to evaluate the model\n",
        "    print(classification_report(y_test, pred_labels_te))\n",
        "    print('--------------------------------------------------------')\n",
        "    print(\"\")"
      ],
      "metadata": {
        "colab": {
          "base_uri": "https://localhost:8080/"
        },
        "id": "19p_K6NaNtMi",
        "outputId": "0a954dfa-5658-4598-d8c4-7dcef35956cf"
      },
      "id": "19p_K6NaNtMi",
      "execution_count": null,
      "outputs": [
        {
          "output_type": "stream",
          "name": "stdout",
          "text": [
            "*************** Evaluation on Test Data ***************\n",
            "Accuracy Score:  0.803921568627451\n",
            "              precision    recall  f1-score   support\n",
            "\n",
            "           0       0.79      0.85      0.81        26\n",
            "           1       0.83      0.76      0.79        25\n",
            "\n",
            "    accuracy                           0.80        51\n",
            "   macro avg       0.81      0.80      0.80        51\n",
            "weighted avg       0.81      0.80      0.80        51\n",
            "\n",
            "--------------------------------------------------------\n",
            "\n"
          ]
        }
      ]
    },
    {
      "cell_type": "code",
      "source": [
        "    print('*************** Evaluation on Training Data ***************')\n",
        "    score_tr = model.score(X_train, y_train)\n",
        "    print('Accuracy Score: ', score_tr)\n",
        "    # Look at classification report to evaluate the model\n",
        "    print(classification_report(y_train, pred_labels_tr))\n",
        "    print('--------------------------------------------------------')"
      ],
      "metadata": {
        "colab": {
          "base_uri": "https://localhost:8080/"
        },
        "id": "_rmVawkZPRD_",
        "outputId": "34c341cf-6089-4c32-da8c-fdc1a88a1b97"
      },
      "id": "_rmVawkZPRD_",
      "execution_count": null,
      "outputs": [
        {
          "output_type": "stream",
          "name": "stdout",
          "text": [
            "*************** Evaluation on Training Data ***************\n",
            "Accuracy Score:  0.78\n",
            "              precision    recall  f1-score   support\n",
            "\n",
            "           0       0.78      0.77      0.77        98\n",
            "           1       0.78      0.79      0.79       102\n",
            "\n",
            "    accuracy                           0.78       200\n",
            "   macro avg       0.78      0.78      0.78       200\n",
            "weighted avg       0.78      0.78      0.78       200\n",
            "\n",
            "--------------------------------------------------------\n"
          ]
        }
      ]
    },
    {
      "cell_type": "markdown",
      "source": [
        "Changing the kernel"
      ],
      "metadata": {
        "id": "NZ41HiiySD26"
      },
      "id": "NZ41HiiySD26"
    },
    {
      "cell_type": "code",
      "source": [
        "svmModelPipe2 = make_pipeline(StandardScaler(), SVC(kernel = 'rbf', gamma = 'scale'))\n",
        "model2 = svmModelPipe2.fit(X_train, y_train)\n",
        "pred_labels_te = model2.predict(X_test)\n",
        "pred_labels_tr = model2.predict(X_train)\n",
        "\n",
        "accuracy_score(y_test, model2.predict(X_test), normalize=True)"
      ],
      "metadata": {
        "colab": {
          "base_uri": "https://localhost:8080/"
        },
        "id": "V3VDb0ZgSGZ1",
        "outputId": "63a74134-8d91-4e8f-af1f-90588f9ace3c"
      },
      "id": "V3VDb0ZgSGZ1",
      "execution_count": null,
      "outputs": [
        {
          "output_type": "stream",
          "name": "stderr",
          "text": [
            "/usr/local/lib/python3.7/dist-packages/sklearn/utils/validation.py:993: DataConversionWarning: A column-vector y was passed when a 1d array was expected. Please change the shape of y to (n_samples, ), for example using ravel().\n",
            "  y = column_or_1d(y, warn=True)\n"
          ]
        },
        {
          "output_type": "execute_result",
          "data": {
            "text/plain": [
              "0.7058823529411765"
            ]
          },
          "metadata": {},
          "execution_count": 87
        }
      ]
    },
    {
      "cell_type": "markdown",
      "source": [
        "This model shows that linear is better than rbf with SVC-linear head and shoulder above SVR (linear and rbf)."
      ],
      "metadata": {
        "id": "ZivbL0UeSJ21"
      },
      "id": "ZivbL0UeSJ21"
    },
    {
      "cell_type": "code",
      "source": [
        ""
      ],
      "metadata": {
        "id": "w3GIAsnpP16m"
      },
      "id": "w3GIAsnpP16m",
      "execution_count": null,
      "outputs": []
    }
  ],
  "metadata": {
    "kernelspec": {
      "display_name": "Python 3 (ipykernel)",
      "language": "python",
      "name": "python3"
    },
    "language_info": {
      "codemirror_mode": {
        "name": "ipython",
        "version": 3
      },
      "file_extension": ".py",
      "mimetype": "text/x-python",
      "name": "python",
      "nbconvert_exporter": "python",
      "pygments_lexer": "ipython3",
      "version": "3.8.13"
    },
    "colab": {
      "name": "Copy of GWP2.ipynb",
      "provenance": [],
      "include_colab_link": true
    }
  },
  "nbformat": 4,
  "nbformat_minor": 5
}